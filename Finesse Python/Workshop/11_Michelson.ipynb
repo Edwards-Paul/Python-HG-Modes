{
 "cells": [
  {
   "cell_type": "markdown",
   "metadata": {},
   "source": [
    "#### Objectives (analytical session)\n",
    " 1. Build a Finesse model of a simple Michelson interferometer.\n",
    " 1. Verify the DC\" analysis results derived in the analytic calculations.\n",
    " 1. Compute the transmission of the Michelson when the incident field has multiple spectral components."
   ]
  },
  {
   "cell_type": "code",
   "execution_count": null,
   "metadata": {},
   "outputs": [],
   "source": [
    "from pykat import finesse        # import the whole pykat.finesse package\n",
    "from pykat.commands import *     # import all packages in pykat.commands\n",
    "import numpy as np               # for basic math/sci/array functions\n",
    "import matplotlib.pyplot as plt  # for plotting\n",
    "from matplotlib.ticker import FormatStrFormatter\n",
    "\n",
    "# tell the notebook to automatically show plots inline below each cell\n",
    "%matplotlib inline               \n",
    "# use pykat's plotting style. change dpi to change plot sizes on your screen\n",
    "pykat.init_pykat_plotting(dpi=90,fmts=['png'])"
   ]
  },
  {
   "cell_type": "markdown",
   "metadata": {},
   "source": [
    "## The Michelson Interferometer\n",
    "First let's construct a basic model to review some simple behaviours of Michelson Interferometers"
   ]
  },
  {
   "cell_type": "markdown",
   "metadata": {},
   "source": [
    "<div style=\"background-color:#cceffc;padding:10px;\">\n",
    "\n",
    "### Task 1: Simple Michelson\n",
    "\n",
    "Create a `kat` object and parse the Finesse code to model the optical system depicted:\n",
    "<img src=\"http://www.gwoptics.org/learn/schools/St_Andrews_2017/michelson_with_nodes.svg\" width=40%>\n",
    "\n",
    "Set the length of the Michelson's 'arms' to 1m and the mirror parameters of ETMx and ETMy to be R=1, T=0\n",
    "</div>\n"
   ]
  },
  {
   "cell_type": "code",
   "execution_count": null,
   "metadata": {},
   "outputs": [],
   "source": [
    "base = finesse.kat()\n",
    "base.verbose = False     #makes Finesse talk less\n",
    "\n",
    "Mich = \"\"\"\n",
    "## Enter Finesse code\n",
    "\"\"\"\n",
    "base.parse(Mich)"
   ]
  },
  {
   "cell_type": "markdown",
   "metadata": {},
   "source": [
    "<div style=\"background-color:#cceffc;padding:10px;\">\n",
    "\n",
    "### Task 2: Michelson response to microscopic length changes\n",
    "\n",
    "1. Create a copy of your base `kat` object and output the power transmitted as the microscopic tuning of ETMx is varied from 0 to 180 degrees (xaxis command.)\n",
    "\n",
    "\n",
    "2. Set the tuning of bs1 so that the transmitted power is zero when ETMx has a microscopic tuning of zero. This is often referred to as setting the interferometer to a 'dark fringe'. **Hint:** you can set the tuning of an optic using `kat.bs1.phi=...`\n",
    "\n",
    "    <span style=\"color:green\"> Note that in this answer notebook, we have set the \"Angle-of-Incidence\" of the beamsplitter to the unphysical value of 0 degrees. From a nodal connections point of view, this is inconsequential. However, the beamsplitter tuning is always applied in a direction that is *normal* to the beam-splitter's surface. You can find the mathematical description of this phenomenon in Eqs. 3.47-3.48 of the [Finesse Manual](http://www.gwoptics.org/finesse/download/manual.pdf). </span>\n",
    "\n",
    "\n",
    "3. Produce the output again for the adjusted setup, and plot the results of both simulations on the same figure.\n",
    "\n",
    "Where has the power gone, if it is not detected at `n5` (aka the 'asymmetric port')?\n",
    "\n",
    "</div>"
   ]
  },
  {
   "cell_type": "code",
   "execution_count": null,
   "metadata": {},
   "outputs": [],
   "source": [
    "\n",
    "\n"
   ]
  },
  {
   "cell_type": "markdown",
   "metadata": {},
   "source": [
    "<div style=\"background-color:#cceffc;padding:10px;\">\n",
    "\n",
    "### Task 3: Michelson response to 'Common' and 'Differential' length changes\n",
    "\n",
    "Starting from your 'dark fringe' Michelson model, add another `pd` to monitor the power at `n2`, and include a `put` command to simulate two cases:\n",
    "\n",
    "1. ETMy always has the *same* microscopic detuning as ETMx - a 'Common' change\n",
    "2. ETMy always has the *opposite* microscopic detuning to ETMy - a 'Differential' change\n",
    "\n",
    "Why does this happen? Why is this an advantage for gravitational-wave detectors?\n",
    "\n",
    "</div>\n",
    "\n",
    "You may find it helpful to refer to the Finesse <a href=\"http://www.gwoptics.org/finesse/reference/\">Syntax reference</a>.\n",
    "\n",
    "**Hint:** The variable `$x1` is the current value of the `xaxis` parameter. The variable `$mx1` is the *negative* of the current `xaxis` value. Use these with the `put` command."
   ]
  },
  {
   "cell_type": "code",
   "execution_count": null,
   "metadata": {},
   "outputs": [],
   "source": [
    "kat = base.deepcopy()\n",
    "#set to a dark fringe\n",
    "kat.bs1.phi =\n",
    "#adding the new detector and xaxis that'll be used in both simulations\n",
    "kat.parse(\"\"\"\n",
    "\n",
    "\n",
    "\"\"\")\n",
    "\n",
    "#common arm tuning changes\n",
    "katC = kat.deepcopy()\n",
    "katC.parse(\"\"\"\n",
    "\n",
    "\"\"\")\n",
    "out=katC.run()\n",
    "out.plot(title='common')\n",
    "\n",
    "#differential arm tuning changes\n",
    "katC = kat.deepcopy()\n",
    "katC.parse(\"\"\"\n",
    "\n",
    "\"\"\")\n",
    "out=katC.run()\n",
    "out.plot(title='differential')\n",
    "\n"
   ]
  },
  {
   "cell_type": "code",
   "execution_count": null,
   "metadata": {},
   "outputs": [],
   "source": []
  }
 ],
 "metadata": {
  "kernelspec": {
   "display_name": "Python 3",
   "language": "python",
   "name": "python3"
  },
  "language_info": {
   "codemirror_mode": {
    "name": "ipython",
    "version": 3
   },
   "file_extension": ".py",
   "mimetype": "text/x-python",
   "name": "python",
   "nbconvert_exporter": "python",
   "pygments_lexer": "ipython3",
   "version": "3.7.4"
  }
 },
 "nbformat": 4,
 "nbformat_minor": 2
}
