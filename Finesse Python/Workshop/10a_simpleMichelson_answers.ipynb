{
 "cells": [
  {
   "cell_type": "markdown",
   "metadata": {},
   "source": [
    "### The [Michelson Interferometer](https://en.wikipedia.org/wiki/Michelson%E2%80%93Morley_experiment#/media/File:Michelson_morley_experiment_1887.jpg)\n",
    " \n",
    "#### Homework\n",
    " 1. Sketch the optical layout of a simple Michelson interferometer.\n",
    " 1. Write out the field equations for the sketched setup.\n",
    " 1. Solve for the (DC a.k.a. steady-state) reflectivity and transmissivity of the Michelson.\n",
    "\n",
    " \n",
    "#### References\n",
    " 1. Lasers by Siegman.\n",
    " 1. [LRR article](https://link.springer.com/article/10.1007/s41114-016-0002-8), mainly Chapter 5.\n",
    " 1. You can also find a lot of LIGO related information on the public section of the [DCC](https://dcc.ligo.org/public)."
   ]
  },
  {
   "cell_type": "markdown",
   "metadata": {},
   "source": [
    "#### Simple Michelson sketch\n",
    "\n",
    "Here is an example of how you would sketch out a simple Michelson, and the fields at various points in the system. Once you have such a sketch, you can use the matrices in Chapter 1 of the LRR article to connect the various fields, and solve for the combinations we are interested in.\n",
    "\n",
    "![Michelson Schematic](./assets/simpleMichelson.svg)\n",
    "\n",
    "#### DC Reflectivity and Transmissivity of the Michelson\n",
    "The first step in the frequency-domain analysis of an optical system is to solve for the *steady-state* fields - that is, the electric field at various points in the system after various transient effects (due to light travel time, or cavity dynamics) have died out. In the LIGO literature, this is often referred to as 'DC analysis'. It's a good idea to keep in mind some of the time-scales involved:\n",
    "\n",
    "| Phenomenon &nbsp; &nbsp; &nbsp; &nbsp; &nbsp;              | Timescale |\n",
    ":-----------------------|:---------|\n",
    "| Carrier field             | $\\approx 4\\, \\mathrm{fs}$  |\n",
    "| RF PM sideband field      | $\\approx 100\\, \\mathrm{ns}$  |\n",
    "| Round trip light travel time for 4 km      | $\\approx 30\\, \\mu \\mathrm{s}$  |\n",
    "| Storage time in a finesse 400, 4 km cavity  | $\\approx 3\\, \\mathrm{ms}$  |\n",
    "| Typical GW signal frequency  | $\\approx 10\\, \\mathrm{ms}$  |\n",
    "\n",
    "It is convenient to perform a basis change from analyzing the Michelson interferometer's individual (X and Y) arms, to their average arm length, $l_+ = \\frac{l_x + l_y}{2},$ and their differential arm length, $l_- = l_x - l_y.$ The phases are then $\\phi_{+(-)} = k l_{+(-)}.$\n",
    "\n",
    "The reflectivity of the Michelson in the notation above is given by $\\frac{\\mathrm{E_{11}}}{\\mathrm{E_{1}}}$, while the transmissivity is given by $\\frac{\\mathrm{E_{10}}}{\\mathrm{E_{1}}}$. We can write out the equations relating the various fields, and get a $\\textbf{system}$ of equations. Solving this set of equations, and assuming that the average arm length, $l_+$ is an integer multiple of the wavelength, yields:\n",
    "\n",
    "$$ t_{\\mathrm{MICH}} = i \\cos \\left ( 2\\phi_- \\right ), \\quad  r_{\\mathrm{MICH}} = i \\sin \\left (2\\phi_- \\right ).$$\n",
    "\n",
    "Note the (unfortunate) asymmetry in the way $l_+$ and $l_-$ are defined - the former is as average length, while the latter is a differential length (it is not divided by a factor of 2).\n"
   ]
  }
 ],
 "metadata": {
  "kernelspec": {
   "display_name": "Python 3",
   "language": "python",
   "name": "python3"
  },
  "language_info": {
   "codemirror_mode": {
    "name": "ipython",
    "version": 3
   },
   "file_extension": ".py",
   "mimetype": "text/x-python",
   "name": "python",
   "nbconvert_exporter": "python",
   "pygments_lexer": "ipython3",
   "version": "3.7.3"
  }
 },
 "nbformat": 4,
 "nbformat_minor": 2
}
