{
 "cells": [
  {
   "cell_type": "markdown",
   "metadata": {},
   "source": [
    "<div style=\"background-color:#057BA3; padding:6px; color:#ffffff;\">\n",
    "\n",
    "## IUCAA Finesse Workshop 18-22nd Dec 2019\n",
    "</div>\n"
   ]
  },
  {
   "cell_type": "markdown",
   "metadata": {},
   "source": [
    "# Modelling a Fabry-Perot Cavity\n",
    "\n",
    "In this notebook we'll be covering some basics of how to work more practically with <a href=http://www.gwoptics.org/finesse/>Finesse</a> and <a href =http://www.gwoptics.org/pykat/> PyKat</a>, by learning how to model a Fabry-Perot Cavity. Throughout the notebook are some explanations for both how to use Finesse/Pykat, and links to explanations of the relevant physics, if it's new to you.\n",
    "\n",
    "This session is based on the GWoptics.org <a href=http://www.gwoptics.org/learn/index.html>Learn Laser Interferometry</a> course, with some extensions and adaptations. \n",
    "\n",
    "**Some key references**:\n",
    " - <a href=https://link.springer.com/article/10.1007/s41114-016-0002-8> Interferometer Techniques for Gravitational-Wave Detection</a>, C. Bond, D. Brown, A. Freise, and K. Strain, *Living Reviews in Relativity* 2016 \n",
    "-- An extensive review (essentially a textbook) of laser interferometry techniques in the frequency domain used for detecting gravitational waves. It's written by developers and users of Finesse, so naturally covers the kinds of physics Finesse is able to model. It was updated in 2016 to include several new chapters, and is now available as a handy searchable html website (and you can copy-paste the latex equations).\n",
    " \n",
    " - <a href=http://www.gwoptics.org/finesse/reference/>Finesse Synatax reference</a>\n",
    "-- Your best friend for finding the right way to code a beamsplitter, photodiode, etc in Finesse's own syntax (NB: not pykat).\n",
    "\n",
    " - <a href=http://www.gwoptics.org/finesse/reference/cheatsheet.php>Finesse Cheatsheet/FAQ</a>\n",
    "-- The first place to look if you are confused about Finesse conventions or have other syntax or installation issues.\n",
    " \n",
    " - <a href=http://www.gwoptics.org/finesse/download/manual.pdf>Finesse 2 manual</a>, A. Freise, D. Brown, and C. Bond. \n",
    "--Manual for using Finesse 2, including both coded examples and some physics explanation along the way. "
   ]
  },
  {
   "cell_type": "markdown",
   "metadata": {},
   "source": [
    "## Goal of the session\n",
    "Today you will model a 2-mirror optical cavity using a <a href = https://en.wikipedia.org/wiki/Plane_wave>plane-waves</a> model.\n",
    "\n",
    "**Finesse/Pykat things you will learn**:\n",
    " - How to approach building a model\n",
    " - constructing an optical nodal network using Finesse syntax (the `kat` object)\n",
    " - using pykat to create, interact with and modify an existing `kat` object\n",
    " - some Finesse 'quirks', e.g. Finesse's definition of length"
   ]
  },
  {
   "cell_type": "markdown",
   "metadata": {},
   "source": [
    "## Getting Started\n",
    "\n",
    "We start by loading PyKat and the other Python packages we will need:\n",
    "\n",
    "(type shift+enter to run)"
   ]
  },
  {
   "cell_type": "code",
   "execution_count": null,
   "metadata": {},
   "outputs": [],
   "source": [
    "from pykat import finesse        # import the whole pykat.finesse package\n",
    "from pykat.commands import *     # import all packages in pykat.commands\n",
    "import numpy as np               # for basic math/sci/array functions\n",
    "import matplotlib.pyplot as plt  # for plotting\n",
    "import scipy                     # for analysing the plots\n",
    "\n",
    "# tell the notebook to automatically show plots inline below each cell\n",
    "%matplotlib inline               \n",
    "# use pykat's plotting style. change dpi to change plot sizes on your screen\n",
    "pykat.init_pykat_plotting(dpi=90)"
   ]
  },
  {
   "cell_type": "markdown",
   "metadata": {},
   "source": [
    "## Planning the Model\n",
    "\n",
    "The details that need including in your model will somewhat depend on the *purpose* of that model. E.g. an investigation exploring the effect of a lens on the spot size 3m further along the optical path does not necessarily need to include every flat mirror it reflects from along the way, but should include any other (de)focusing optics in that path. Therefore it is worth taking a few moments to plan the model before starting to code it.\n",
    "\n",
    " - what is the question your model is trying to answer? (and is Finesse the right tool to answer it?)\n",
    " - what plot/number will tell you that answer?\n",
    " - what parts of your experiment do you need to include for the result to be meaningful?\n",
    "\n",
    "**Today's model**\n",
    "\n",
    "Today, we will imagine we are designing a 2-mirror optical cavity which could be used, for example, as a mode-cleaner for a tabletop experiment.\n",
    "\n",
    "You can learn more about 2-mirror cavities, also known as Fabry-Perot  cavities or interferometers, by reading <a href=https://link.springer.com/article/10.1007/s41114-016-0002-8#Sec33>section 5.1</a> of Interferometer Techniques for Gravitational-Wave Detection.\n",
    "\n",
    "We will:\n",
    "1. Construct a plane waves model of the cavity, plotting the power transmitted, reflected, and circulating from the cavity as its length is changed. \n",
    "2. Make the model more realistic using Gaussian beams and curved optics, then re-produce the powers plot to check that the behaviour still makes sense.\n",
    "3. Plot the profile of the beam transmitted from the cavity."
   ]
  },
  {
   "cell_type": "markdown",
   "metadata": {},
   "source": [
    "## The Optical Layout\n",
    "\n",
    "The setup we want to model is shown in the figure below. A *cavity*, or *optical resonator* is formed by the two partially-transparent mirrors M1 and M2. To measure the reflected, transmitted, and circulating power in the cavity, we add 3 photodiodes (these do not affect the beam propagation).\n",
    "\n",
    "<img src=http://www.gwoptics.org/learn/02_Plane_waves/01_Fabry_Perot_cavity/fabry-perot.svg width=50%>\n",
    "\n",
    "**The nodal network**\n",
    "\n",
    "Finesse builds the optical model as a series of nodes, with component-specific instructions governing how light is propagated from one node to the next. It is recommended that you make a quick sketch of your setup, including these nodes, before you start coding your model - this is especially true for larger models. In our case we have:\n",
    "\n",
    "```\n",
    "                       M1                     M2\n",
    "laser (n0) ------> (n1)|(n2) <----------> (n3)|(n4)\n",
    "```\n",
    "\n",
    "and will add photodiodes looking at the beams at nodes `n1` (refl), `n3` (circ) and `n4` (trans).\n",
    "\n",
    "\n",
    "## Plane-Waves Finesse Model"
   ]
  },
  {
   "cell_type": "markdown",
   "metadata": {},
   "source": [
    "<div style=\"background-color:#cceffc;padding:10px;\">\n",
    "\n",
    "### Task 1: write the base code for the optical model, and parse it to pykat\n",
    "Fill in the blank '`basecode`' object below with the Finesse syntax commands for the setup sketched above, using the following components/parameters:\n",
    " * 1 W laser with 0 offset to the default wavelength (This is 1064nm in Finesse, unless you tell it otherwise)\n",
    " * a short space from laser to M1\n",
    " * mirrors 'M1' and 'M2' with T=0.15 and zero loss\n",
    " * a cavity length of 3km.\n",
    " \n",
    "You may find the <a href=http://www.gwoptics.org/finesse/reference/>Finesse syntax reference</a> helpful! \n",
    "</div>"
   ]
  },
  {
   "cell_type": "code",
   "execution_count": null,
   "metadata": {},
   "outputs": [],
   "source": [
    "basecode = \"\"\"\n",
    "\n",
    "\"\"\"\n",
    "\n",
    "#initialise Finesse with a new empty kat object\n",
    "basekat = finesse.kat() \n",
    "#tell Finesse to talk less\n",
    "basekat.verbose = False\n",
    "#parse the Finesse code into PyKat\n",
    "basekat.parse(basecode)"
   ]
  },
  {
   "cell_type": "markdown",
   "metadata": {},
   "source": [
    "It is generally good practice to keep the core optical model in an object called `base` or `basekat`, then create independant copies of it that are used for each investigation. This ensures that `basekat` stays intact and doesn't unintentionally retain some test alteration like a change in reflectivity or length. It also ensures that `basekat` contains *just* the components you need for your model, without being slowed down by the inclusion of excess detectors etc. \n",
    "\n",
    "**A reminder on lengths and tunings in Finesse**:\n",
    "\n",
    "As discussed previously, distances in optical models can typically be separated into macroscopic and microscopic scales, so in Finesse lengths are separated into a macroscopic length, `L`, which is attributed to `space` components,  and a microscopic *tuning*, `phi` that is attributed to optics:\n",
    "\n",
    "<img src=\"http://www.gwoptics.org/finesse/reference/images/LengthsTunings.svg\" width=40%>\n",
    "\n",
    "See the <a href=\"http://www.gwoptics.org/finesse/reference/cheatsheet.php\">cheatsheet</a> for further details of how lengths and tunings are defined."
   ]
  },
  {
   "cell_type": "markdown",
   "metadata": {},
   "source": [
    "<div style=\"background-color:#cceffc;padding:10px;\">\n",
    "\n",
    "### Task 2: add the three photodiodes & simulate the response of the cavity as the tuning of M2 is varied.\n",
    "Fill in the Finesse code for the three detectors as noted in the sketches above, then add an `xaxis` command to vary the tuning of M2 over a range of one wavelength. \n",
    "</div>"
   ]
  },
  {
   "cell_type": "code",
   "execution_count": null,
   "metadata": {},
   "outputs": [],
   "source": [
    "#create an independent copy of basekat\n",
    "kat1 = basekat.deepcopy()\n",
    "#write the code for the PDs and xaxis\n",
    "PDcode = \"\"\"\n",
    "\n",
    "\"\"\"\n",
    "#parse the code for the new PDs and xaxis to the copied kat object \n",
    "kat1.parse(PDcode)\n",
    "#run the simulation, and store the result in out1\n",
    "out1 = kat1.run()"
   ]
  },
  {
   "cell_type": "markdown",
   "metadata": {},
   "source": [
    "\n",
    "<div style=\"background-color:#cceffc;padding:10px;\">\n",
    "\n",
    "Now plot the results by running the code below:\n",
    "</div>"
   ]
  },
  {
   "cell_type": "code",
   "execution_count": null,
   "metadata": {},
   "outputs": [],
   "source": [
    "out1.plot(xlabel='Position of mirror M2 [deg]',\n",
    "          ylabel='Power [W]', \n",
    "          title = 'Power vs. microscopic cavity length change')"
   ]
  },
  {
   "cell_type": "markdown",
   "metadata": {},
   "source": [
    "The behaviour of the cavity depends strongly on its tuning. It is resonant periodically every 180$^\\circ$, i.e. a position change of $\\lambda_0/2$ or a round-trip path length change of $\\lambda_0$, as expected.\n",
    "\n",
    "<div style=\"background-color:#cceffc;padding:10px;\">\n",
    "\n",
    "### Task 3: simulate the response of the cavity as the laser frequency is varied\n",
    "1. Repeat the task above, this time scanning the frequency of the laser instead of the tuning of a mirror. Set the frequency range so that your plot shows a few resonances of the cavity.\n",
    "\n",
    "\n",
    "2.  Extract the Free Spectral Range of this cavity from the modelled data. \n",
    "\n",
    "**Tip:** The Scipy package has a function for detecting multiple peaks called `scipy.signal.find_peaks_cwt`, which you might find useful\n",
    "</div>\n"
   ]
  },
  {
   "cell_type": "code",
   "execution_count": null,
   "metadata": {},
   "outputs": [],
   "source": []
  },
  {
   "cell_type": "markdown",
   "metadata": {},
   "source": [
    "<div style=\"background-color:#cceffc;padding:10px;\">\n",
    "\n",
    "### Task 4: Cavity types\n",
    "In the above model, $T_1=T_2$ so the cavity is called 'impedence matched'. Fabry-Perot cavities and cavity couplings are covered in <a href=https://link.springer.com/article/10.1007/s41114-016-0002-8#Sec33>Section 5.1</a> of Interferometer Techniques. \n",
    "\n",
    "Run three simulations to show how the reflected, transmitted, and circulating cavity powers vary with microscopic tuning for:\n",
    "1. impedance matched cavity ($T_1 = T_2$)\n",
    "2. overcoupled cavity ($R_1 < R_2$)\n",
    "3. undercoupled cavity ($R_1 > R_2$)\n",
    "\n",
    "**Hint:** You might find the `kat.m2.setRTL(R, T, L)` method for changing the mirror parameters useful.\n",
    "   \n",
    "What interesting feature does an impedance matched cavity have?\n",
    " \n",
    "In gravitational wave detectors we typically want very high optical powers, Is an over and under coupled cavity better for getting a higher circulating power in the cavity?\n",
    "</div>\n"
   ]
  },
  {
   "cell_type": "code",
   "execution_count": null,
   "metadata": {},
   "outputs": [],
   "source": []
  },
  {
   "cell_type": "markdown",
   "metadata": {},
   "source": [
    "<div style=\"background-color:#cceffc;padding:10px;\">\n",
    "    \n",
    "### Task 5: Frequency response, FWHM, and finesse\n",
    "\n",
    "This task is about used modelled data to extract some cavity parameters. You should experiment with ways to achieve this task.\n",
    "\n",
    "Use an overcoupled Fabry-Perot cavity Finesse model with R=1 and T=0 for the end mirror:\n",
    "\n",
    "1. Plot the power circulating in the cavity as a function of the input laser frequency. You should change the laser frequency by at least two Free Spectral Ranges of the cavity.\n",
    "\n",
    "\n",
    "2. Using this data, compute the cavity's full-width-half-maximum and finesse. Compare these results to analytic solutions. There isn't one specific way to do this task, you should experiment and problem solve!\n",
    "</div>\n",
    "\n"
   ]
  },
  {
   "cell_type": "code",
   "execution_count": null,
   "metadata": {},
   "outputs": [],
   "source": []
  }
 ],
 "metadata": {
  "kernelspec": {
   "display_name": "Python 3",
   "language": "python",
   "name": "python3"
  },
  "language_info": {
   "codemirror_mode": {
    "name": "ipython",
    "version": 3
   },
   "file_extension": ".py",
   "mimetype": "text/x-python",
   "name": "python",
   "nbconvert_exporter": "python",
   "pygments_lexer": "ipython3",
   "version": "3.7.3"
  }
 },
 "nbformat": 4,
 "nbformat_minor": 4
}
