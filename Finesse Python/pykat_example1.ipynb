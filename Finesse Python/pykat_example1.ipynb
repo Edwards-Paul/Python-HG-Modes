{
 "cells": [
  {
   "cell_type": "markdown",
   "metadata": {},
   "source": [
    "Example IPython notebook for using Finesse with PyKat\n",
    "============="
   ]
  },
  {
   "cell_type": "markdown",
   "metadata": {},
   "source": [
    "[PyKat](http://www.gwoptics.org/pykat) is a Python wrapper for the interferometer simulation [Finesse]( http://www.gwoptics.org/finesse). This notebook shows a simple example how PyKat can be used to call Finesse from Python in order to do some simple post-processing of the Finesse output. \n",
    "\n",
    "The optical setup is an optical cavity, two amplitude detectors are used to measure the optical phases at the input mirror. Post-processing this output in Python we can plot the phase difference between the injected field and the circulating field. This difference becomes zero when the cavity is on resonance. Thus the phase difference presents a simple means to find the cavity resonance, for example with a root finding algorithm.\n",
    "\n",
    "The notebook was started using 'ipython notebook --pylab inline'.\n"
   ]
  },
  {
   "cell_type": "markdown",
   "metadata": {},
   "source": [
    "First we import the main bits from PyKat:"
   ]
  },
  {
   "cell_type": "code",
   "execution_count": 1,
   "metadata": {},
   "outputs": [
    {
     "name": "stdout",
     "output_type": "stream",
     "text": [
      "                                              ..-\n",
      "    PyKat 1.1.331         _                  '(\n",
      "                          \\`.|\\.__...-\"\"\"\"-_.\" )\n",
      "       ..+-----.._        /  ' `            .-'\n",
      "   . '            `:      7/* _/._\\    \\   (\n",
      "  (        '::;;+;;:      `-\"' =\" /,`\"\" `) /\n",
      "  L.        \\`:::a:f            c_/     n_'\n",
      "  ..`--...___`.  .    ,\n",
      "   `^-....____:   +.      www.gwoptics.org/pykat\n",
      "\n"
     ]
    }
   ],
   "source": [
    "from pykat import finesse\n",
    "from pykat.commands import *\n",
    "import matplotlib.pyplot as plt"
   ]
  },
  {
   "cell_type": "markdown",
   "metadata": {},
   "source": [
    "Next we can create a 'kat' object and parse some Finesse source code to fill it:"
   ]
  },
  {
   "cell_type": "code",
   "execution_count": 2,
   "metadata": {},
   "outputs": [],
   "source": [
    "kat = finesse.kat()\n",
    "kat.verbose = False\n",
    "kat_code = \"\"\"\n",
    " l psl 1.0 0 npsl \n",
    " s s1 0 npsl nITM1\n",
    "\n",
    " m1 ITM 0.02 0 0 nITM1 nITM2  \n",
    " attr ITM Rc -2500  \n",
    " s s_cav 5000 nITM2 nETM1    \n",
    " m1 ETM 0.001 0 0 nETM1 nETM2\n",
    " attr ETM Rc 2700   \n",
    " cav c1 ITM nITM2 ETM nETM1\n",
    "\n",
    " ad carr2 0 nITM1*\n",
    " ad carr3 0 nITM2\n",
    " yaxis deg\n",
    " phase 0\n",
    " \"\"\""
   ]
  },
  {
   "cell_type": "code",
   "execution_count": 3,
   "metadata": {},
   "outputs": [
    {
     "name": "stderr",
     "output_type": "stream",
     "text": [
      "C:\\Users\\edwar\\Anaconda3\\lib\\site-packages\\ipykernel_launcher.py:1: UserWarning: parseKatCode depreciated, use parse.\n",
      "  \"\"\"Entry point for launching an IPython kernel.\n",
      "C:\\Users\\edwar\\Anaconda3\\lib\\site-packages\\ipykernel_launcher.py:3: UserWarning: parseKatCode depreciated, use parse.\n",
      "  This is separate from the ipykernel package so we can avoid doing imports until\n"
     ]
    }
   ],
   "source": [
    "kat.parseKatCode(kat_code)\n",
    "kat.maxtem=0\n",
    "kat.parseKatCode(\"xaxis ETM phi lin 0 180 200\")"
   ]
  },
  {
   "cell_type": "markdown",
   "metadata": {},
   "source": [
    "The following commands run the Finesse simulation and read the results into the variable 'out', followed by the calculation of the phase difference."
   ]
  },
  {
   "cell_type": "code",
   "execution_count": 4,
   "metadata": {},
   "outputs": [],
   "source": [
    "out = kat.run()\n",
    "rel_phase=(out[\"carr2\"]-out[\"carr3\"]-90)%360-180"
   ]
  },
  {
   "cell_type": "markdown",
   "metadata": {},
   "source": [
    "And finally we plot the result:"
   ]
  },
  {
   "cell_type": "code",
   "execution_count": 6,
   "metadata": {},
   "outputs": [
    {
     "data": {
      "image/png": "[encoded data removed]",
      "text/plain": [
       "<Figure size 648x432 with 1 Axes>"
      ]
     },
     "metadata": {
      "needs_background": "light"
     },
     "output_type": "display_data"
    }
   ],
   "source": [
    "plt.figure(figsize=(9,6))\n",
    "plt.plot(out.x,rel_phase)\n",
    "plt.title(r'Phase difference at the ITM')\n",
    "plt.xlabel('tuning ETM [deg]')\n",
    "plt.ylabel('phase difference [deg]')\n",
    "plt.grid()"
   ]
  },
  {
   "cell_type": "markdown",
   "metadata": {},
   "source": [
    "This is an example of a simple task that benfits from the interactive enviroment provided by IPython."
   ]
  }
 ],
 "metadata": {
  "kernelspec": {
   "display_name": "Python 3",
   "language": "python",
   "name": "python3"
  },
  "language_info": {
   "codemirror_mode": {
    "name": "ipython",
    "version": 3
   },
   "file_extension": ".py",
   "mimetype": "text/x-python",
   "name": "python",
   "nbconvert_exporter": "python",
   "pygments_lexer": "ipython3",
   "version": "3.7.3"
  }
 },
 "nbformat": 4,
 "nbformat_minor": 1
}
