{
 "cells": [
  {
   "cell_type": "markdown",
   "metadata": {},
   "source": [
    "# Demodulation"
   ]
  },
  {
   "cell_type": "markdown",
   "metadata": {},
   "source": [
    "## Quick Fabry-Perot recap\n",
    "\n",
    " - The cavity is maximally resonant for laser frequencies close to an integer multiple of the cavity's free spectral range.\n",
    " - A change in the length of the cavity looks the same as a change in laser frequency.\n",
    " - The reflectivity of Fabry-Perot cavities depends on the laser frequency (see below)."
   ]
  },
  {
   "cell_type": "markdown",
   "metadata": {},
   "source": [
    "### Remember: Fabry-Perot cavities are frequency dependent filters\n",
    "\n",
    "Fabry-Perot cavities have a bandwidth (frequency range) over which they are sensitive, related to the full-width half-maximum (FWHM). That means any modulation of the cavity mirrors or input field at frequencies from 0 to the FWHM are enhanced by the cavity. Frequencies beyond the FWHM are attenuated to greater extent with increasing frequencies.\n",
    "\n",
    "Recall the equation describing the amplitude of the reflected field of the Fabry-Perot cavity:\n",
    "\n",
    "$$\n",
    "E_{\\text{out}} = E_{\\text{in}} \\left( r_1 - \\frac{t_1^2 r_2 \\text{e}^{-2\\text{i}kx}}{1 - r_1 r_2 \\text{e}^{-2\\text{i}kx}} \\right)\n",
    "$$\n",
    "\n",
    "Recall that $k$ is the wave number $k = \\frac{2\\pi}{\\lambda_0} = \\frac{2\\pi f}{c_0}$. This shows that Fabry-Perot cavities have **frequency dependent reflectivity**. This applies to both the laser frequency and the modulation frequency, since modulation creates sidebands which look like fields at different laser frequencies. That means you can often treat a Fabry-Perot cavity as a single mirror with complex reflectivity."
   ]
  },
  {
   "cell_type": "markdown",
   "metadata": {},
   "source": [
    "## Frequency discrimination\n",
    "\n",
    "As we mentioned in the earlier section on optical beats, we need some way to control cavities using modulation. Can we use the principle of modulation and the fact that Fabry-Perot cavities have frequency dependent reflectivity to control them?\n",
    "\n",
    "**Yes**! We can create sidebands on the input laser light at some frequency offset where the sidebands will **not** enter the cavity. Then we can ensure that the light from the sidebands beats with the light reflected from the cavity. The resulting signal will contain information as to what the cavity is doing to the light with respect to its input mirror.\n",
    "\n",
    "When we beat a field that does not enter a cavity with a field from one that does, and get a signal that tells us how the cavity's frequency is changing with respect to outside, we call it a **frequency discriminant**. As we'll see later, we can use this to control the cavity."
   ]
  },
  {
   "cell_type": "markdown",
   "metadata": {},
   "source": [
    "## Controlling cavities with modulation and demodulation\n",
    "\n",
    "In a nutshell, the process for controlling a cavity is therefore:\n",
    "\n",
    " - **Modulate** the carrier field. This can be done by an electro-optic modulator using the Pockels effect, for example.\n",
    " - **Detect** the beat signal between the sidebands and the carrier reflected from the cavity using a photodetector.\n",
    " - **Demodulate** the signal at the modulation frequency."
   ]
  },
  {
   "cell_type": "markdown",
   "metadata": {},
   "source": [
    "### Suitable choice of modulation frequency\n",
    "\n",
    "The modulation (sideband offset) frequency we choose must fit a few conditions:\n",
    " - It should not resonate in the cavity - so it should be far in frequency from an integer multiple of the cavity's free spectral range.\n",
    " - It should ideally be in the RF frequency range (around 1 MHz to 1 GHz) for which low cost, low noise electronics exist.\n",
    " - It should be low enough in frequency for photodetectors to see it. Practically, this usually means < 100 MHz, limited by stray capacitance in photodiodes."
   ]
  },
  {
   "cell_type": "markdown",
   "metadata": {},
   "source": [
    "<div style=\"background-color:#cceffc;padding:10px;\">\n",
    "    \n",
    "### Question: Suitable Sideband Frequencies\n",
    "\n",
    "The sidebands should not enter the cavity. That means the chosen modulation frequency should not be the cavity's free-spectral range (FSR). Why might a phase modulation sideband frequency of 10 MHz be a bad choice for controlling a cavity with FSR 20 MHz? (Hint: How many sidebands does phase modulation introduce?)\n",
    "\n",
    "</div>"
   ]
  },
  {
   "cell_type": "markdown",
   "metadata": {},
   "source": [
    "### Demodulation\n",
    "\n",
    "Demodulation is the technique of extracting the information modulated on the carrier. In laser interferometry, a demodulator is an electronic circuit that is applied after detecting the power of the laser beam. For gravitational wave detectors, it is used to extract information about the gravitational wave signal, extract noise information, and read out information necessary for controlling the interferometer.\n",
    "\n",
    "Demodulation involves multiplying a field (e.g. the electronic photodetector signal) with a sinusoidal signal (sometimes called a **local oscillator**). The result is a signal containing **DC** components and components at twice the modulation frequency.\n",
    "\n",
    "Mathematically, the demodulation process is similar to modulation and can be described by a multiplication of the modulated signal with a cosine: $\\cos(\\omega_x + \\phi_x)$, where $\\phi_x$ is the demodulation *phase*. Assuming the signal is\n",
    "\n",
    "$$\n",
    "\\begin{aligned} S_0=|E|^2=E\\cdot E^*=\\sum \\limits _{i=0}^N\\sum \\limits _{j=0}^N a_ia_j^*~e^{\\mathrm {i}\\,(\\omega _i-\\omega _j)\\,t}, \\end{aligned}\n",
    "$$\n",
    "\n",
    "Multiplied with the local oscillator it becomes\n",
    "\n",
    "$$\n",
    "\\begin{aligned} S_{1} = & {} S_0\\cdot \\cos (\\omega _xt+\\varphi _x) \\\\ = & S_0\\frac{1}{2}\\left( e^{\\mathrm {i}\\,(\\omega _xt+\\varphi _x)} + e^{-\\mathrm {i}\\,(\\omega _xt+\\varphi _x)}\\right) \\nonumber \\\\= & {} \\frac{1}{2}\\sum \\limits _{i=0}^N\\sum \\limits _{j=0}^N a_ia_j^*~e^{\\mathrm {i}\\,(\\omega _i-\\omega _j)\\,t}\\cdot \\left( e^{\\mathrm {i}\\,(\\omega _xt+\\varphi _x)} + e^{-\\mathrm {i}\\,(\\omega _xt+\\varphi _x)}\\right) . \\end{aligned}\n",
    "$$\n",
    "\n",
    "If we set $A_{ij}=a_ia_j^*$ and $e^{\\mathrm {i}\\,\\omega _{ij}\\,t}=e^{\\mathrm {i}\\,(\\omega _i-\\omega _j)\\,t}$, we get\n",
    "\n",
    "$$\n",
    "\\begin{aligned} S_{1}\\!=\\!\\frac{1}{2}\\left( \\sum \\limits _{i=0}^NA_{ii}+\\sum \\limits _{i=0}^N \\sum \\limits _{j=i+1}^N (A_{ij}~e^{\\mathrm {i}\\,\\omega _{ij}\\,t}\\!+\\!A_{ij}^*~e^{-\\mathrm {i}\\,\\omega _{ij}\\,t})\\right) \\cdot \\left( e^{\\mathrm {i}\\,(\\omega _xt+\\varphi _x)}+e^{-\\mathrm {i}\\,(\\omega _xt+\\varphi _x)}\\right) . \\end{aligned}\n",
    "$$\n",
    "\n",
    "In practice, demodulation is performed by an electronic mixer and a low-pass filter (to get rid of the component at $2\\omega_x$, i.e. twice the demodulation frequency). The DC part of the output signal is proportional to the amplitude of the carrier and the amplitude of the sidebands with frequencies $\\omega_0 \\pm \\omega_x$, where $\\omega_0$ is the carrier frequency. Mathematically, this is:\n",
    "\n",
    "$$\n",
    "\\begin{aligned} S_{\\mathrm {1,DC}}= & {} \\sum \\limits _{ij} \\frac{1}{2}(A_{ij}~e^{-\\mathrm {i}\\,\\varphi _x}+A_{ij}^*~e^{\\mathrm {i}\\,\\varphi _x})\\quad \\mathrm {with}\\quad \\{i,j~|~i,j\\in \\{0,\\ldots ,N\\}~\\wedge ~\\omega _{ij}=\\omega _x\\}\\nonumber \\\\= & {} \\sum \\limits _{ij}{\\mathfrak {R}}\\left\\{ A_{ij}~e^{-\\mathrm {i}\\,\\varphi _x} \\right\\} . \\end{aligned}\n",
    "$$"
   ]
  },
  {
   "cell_type": "markdown",
   "metadata": {},
   "source": [
    "## Pound-Drever-Hall control\n",
    "\n",
    "As mentioned earlier, the most common modulation-demodulation technique for controlling Fabry-Perot in gravitational wave interferometry is the Pound-Drever-Hall technique, shown below.\n",
    "\n",
    "![Pound-Drever-Hall control](assets/pdh.gif)\n",
    "\n",
    "The laser has RF phase modulation sidebands imposed upon it by an electro-optic modulator (EOM) before entering a Fabry-Perot cavity. The cavity reflects the RF sidebands promptly if the RF sideband frequency is suitably chosen to be outside the cavity's FSR (remember: Fabry-Perot cavities are frequency dependent filters), but the carrier enters the cavity and is reflected with a complex frequency dependence. The two fields - the promptly reflected sidebands and the carrier - reflect at the beam splitter to a photodiode where they beat together and form an electrical signal. This electrical signal is demodulated by the same local oscillator that modulated the EOM. The resulting signal is an error signal for the cavity length, with the sign of the signal showing which direction the cavity has moved from its resonance.\n",
    "\n",
    "We can use this error signal to apply a controlled force with an actuator to move the cavity back on resonance."
   ]
  },
  {
   "cell_type": "markdown",
   "metadata": {},
   "source": [
    "### The Pound-Drever-Hall error signal\n",
    "\n",
    "*The derivation of the Pound-Drever-Hall signal involves a lot of steps, so we do not show it in full here. Instead you can look at <a href=\"https://dcc.ligo.org/public/0028/T980045/000/T980045-00.pdf\">this excellent reference from Eric Black</a>. We show the main results here.*\n",
    "\n",
    "So far, we have calculated the reflectivity of the Fabry-Perot cavity, and the effect on a laser field from phase modulation, and the result when the reflected carrier is beat with the modulated field. Here we put the whole thing together to derive the error signal that the Pound-Drever-Hall technique provides.\n",
    "\n",
    "The power on a photodetector seeing the reflected light from a Fabry-Perot cavity, where the input has been phase-modulated, is\n",
    "\n",
    "$$\n",
    "\\begin{align}\n",
    "P_\\text{ref} =& P_c | F ( 2\\pi f) |^2 + P_s (|F(2 \\pi (f + f_a))|^2 + |F(2 \\pi ( f - f_a))|^2) \\\\\n",
    "+& 2 \\sqrt{P_c P_s} \\mathfrak{R} \\left\\{ F(2 \\pi f) F^* (2 \\pi (f + f_a)) - F^*(2 \\pi f) F(2 \\pi (f - f_a)) \\right\\} \\cos(2 \\pi f_a t) \\\\\n",
    "+& \\mathfrak{I} \\left\\{ F(2\\pi f) F^*(2\\pi (f + f_a)) - F^*(2\\pi f) F(2\\pi (f - f_a)) \\right\\} \\sin(2 \\pi f_a t) \\\\\n",
    "+& (2 f_a \\text{ terms...}).\n",
    "\\end{align}\n",
    "$$\n",
    "\n",
    "Here, $P_c$ is the carrier power and $P_s$ is the sideband power of the light incident on the cavity, $F$ is the complex cavity reflectivity from above distilled into a single function (remember that this is a function of $f$, not shown for brevity), and $f_a$ is the signal sideband frequency.\n",
    "\n",
    "The electronic mixer which demodulates the above signal at the modulation frequency will (nominally) pull out the $\\sin(2\\pi f_a t)$ term, producing an error signal:\n",
    "\n",
    "$$\n",
    "\\epsilon = 2 \\sqrt{P_c P_s} \\mathfrak{I} \\left\\{ F(2 \\pi f_) F^*(2 \\pi (f + f_a)) - F^*(2 \\pi f) F(2 \\pi (f - f_a)) \\right\\}.\n",
    "$$"
   ]
  },
  {
   "cell_type": "markdown",
   "metadata": {},
   "source": [
    "<div style=\"background-color:#cceffc;padding:10px;\">\n",
    "    \n",
    "### Question: Transmitted light\n",
    "\n",
    "Could we use the transmitted light from the cavity for Pound-Drever-Hall control?\n",
    "\n",
    "</div>"
   ]
  },
  {
   "cell_type": "markdown",
   "metadata": {},
   "source": [
    "### Visualisation of Pound-Drever-Hall signal\n",
    "\n",
    "The Pound-Drever-Hall signal has a very distinctive shape. If we look at the reflected light from a cavity as one of its mirrors is tuned (moved longitudinally), the cavity power and error signal using the Pound-Drever-Hall technique look something like this:\n",
    "\n",
    "![Pound-Drever-Hall signal](assets/pdh-error-signal.png)\n",
    "\n",
    "Notice the error signal (lower plot) is **asymmetric** and continuous around 0. If the cavity moves in one direction (or the laser changes frequency), the error signal changes in one direction, and if it moves in the other direction (or the laser changes frequency to the opposite side), the error signal changes in the opposite direction. This is what we want: **a bipolar error signal**."
   ]
  },
  {
   "cell_type": "markdown",
   "metadata": {},
   "source": [
    "<div style=\"background-color:#cceffc;padding:10px;\">\n",
    "    \n",
    "### Question: Other peaks\n",
    "\n",
    "There are additional, smaller peaks either side of the central one. What causes these? Why are they smaller?\n",
    "\n",
    "</div>"
   ]
  }
 ],
 "metadata": {
  "kernelspec": {
   "display_name": "Python 3",
   "language": "python",
   "name": "python3"
  },
  "language_info": {
   "codemirror_mode": {
    "name": "ipython",
    "version": 3
   },
   "file_extension": ".py",
   "mimetype": "text/x-python",
   "name": "python",
   "nbconvert_exporter": "python",
   "pygments_lexer": "ipython3",
   "version": "3.7.3"
  }
 },
 "nbformat": 4,
 "nbformat_minor": 2
}
