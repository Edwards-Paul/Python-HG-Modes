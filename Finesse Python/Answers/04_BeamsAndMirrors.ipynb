{
 "cells": [
  {
   "cell_type": "markdown",
   "metadata": {},
   "source": [
    "<div style=\"background-color:#057BA3; padding:6px; color:#ffffff;\">\n",
    "\n",
    "## IUCAA Finesse Workshop 18-22nd Dec 2019\n",
    "</div>\n"
   ]
  },
  {
   "cell_type": "markdown",
   "metadata": {},
   "source": [
    "# Beams and Mirrors \n",
    "\n",
    "It's finally time to start modelling! These first tasks are designed to get you accquainted with some of the basic features of how Finesse works, and how it relates to the physics you have just reviewed in the previous notebooks. Here we will just look at a laser and mirror component and how the optical field behaves. \n",
    "\n",
    "The tasks will involve several steps each. This will usually be looking up how to write Finesse commands, forming a Finesse model, running the simulation with Pykat, and then relating the results you see back to the theory from the lectures.\n",
    "\n",
    "Remember, these tasks are meant to get you thinking and comparing to the theory you have learned. Talk to your fellow students and ask lots of questions! "
   ]
  },
  {
   "cell_type": "markdown",
   "metadata": {},
   "source": [
    "## Goal of the session\n",
    "**Finesse/Pykat things you will learn**:\n",
    " - How to approach building a model\n",
    " - How to vary a parameter and plot the resulting output"
   ]
  },
  {
   "cell_type": "markdown",
   "metadata": {},
   "source": [
    "## Getting Started\n",
    "\n",
    "We start by loading PyKat and the other Python packages we will need:\n",
    "\n",
    "(type shift+enter to run)"
   ]
  },
  {
   "cell_type": "code",
   "execution_count": 1,
   "metadata": {},
   "outputs": [
    {
     "name": "stdout",
     "output_type": "stream",
     "text": [
      "                                              ..-\n",
      "    PyKat develop         _                  '(\n",
      "                          \\`.|\\.__...-\"\"\"\"-_.\" )\n",
      "       ..+-----.._        /  ' `            .-'\n",
      "   . '            `:      7/* _/._\\    \\   (\n",
      "  (        '::;;+;;:      `-\"' =\" /,`\"\" `) /\n",
      "  L.        \\`:::a:f            c_/     n_'\n",
      "  ..`--...___`.  .    ,\n",
      "   `^-....____:   +.      www.gwoptics.org/pykat\n",
      "\n"
     ]
    }
   ],
   "source": [
    "from pykat import finesse        # import the whole pykat.finesse package\n",
    "from pykat.commands import *     # import all packages in pykat.commands\n",
    "import numpy as np               # for basic math/sci/array functions\n",
    "import matplotlib.pyplot as plt  # for plotting\n",
    "\n",
    "# tell the notebook to automatically show plots inline below each cell\n",
    "%matplotlib inline               \n",
    "# use pykat's plotting style. change dpi to change plot sizes on your screen\n",
    "pykat.init_pykat_plotting(dpi=90,fmts=['png'])"
   ]
  },
  {
   "cell_type": "markdown",
   "metadata": {},
   "source": [
    "## Tasks"
   ]
  },
  {
   "cell_type": "markdown",
   "metadata": {},
   "source": [
    "<div style=\"background-color:#cceffc;padding:10px;\">\n",
    "\n",
    "### Task 1: Laser and a mirror\n",
    "\n",
    "Write the Finesse code to model a laser outputting 10W of power that is incident on a mirror 1m away. The mirror should reflect 80% of the light and transmit 20%. \n",
    "</div>\n",
    "\n",
    "You'll find the following references useful:\n",
    "- <a href=\"http://www.gwoptics.org/finesse/reference/\">Finesse online syntax reference</a>\n",
    "- <a href=\"http://kvasir.sr.bham.ac.uk/redmine/attachments/download/131/Finesse_2.0_manual.pdf\">Finesse Manual</a>\n",
    "\n",
    "\n",
    "You should write your Finesse code in a multi-line string variable, for example:\n",
    "```python\n",
    "code = \"\"\"\n",
    "This\n",
    "is a\n",
    "multi-line\n",
    "string\n",
    "\"\"\"\n",
    "```\n",
    "Each line should contain one Finesse command."
   ]
  },
  {
   "cell_type": "code",
   "execution_count": 3,
   "metadata": {},
   "outputs": [],
   "source": [
    "code = \"\"\"\n",
    "l l1 10 0 n0\n",
    "s s1 1 n0 n1\n",
    "m m1 0.8 0.2 0 n1 n2\n",
    "\"\"\""
   ]
  },
  {
   "cell_type": "markdown",
   "metadata": {},
   "source": [
    "<div style=\"background-color:#cceffc;padding:10px;\">\n",
    "\n",
    "### Task 2: Laser and a mirror kat object\n",
    "\n",
    "1.  Create a `kat` object and add the Finesse code you created in Task 1 to it using the `kat.parse` function.\n",
    "\n",
    "\n",
    "2.  Add two photo diodes to measure the optical power reflected and transmitted at the mirror.\n",
    "\n",
    "</div>"
   ]
  },
  {
   "cell_type": "code",
   "execution_count": 4,
   "metadata": {},
   "outputs": [],
   "source": [
    "kat = finesse.kat()\n",
    "kat.parse(code)\n",
    "kat.parse(\"\"\"\n",
    "pd Prefl n1\n",
    "pd Ptran n2\n",
    "\"\"\")"
   ]
  },
  {
   "cell_type": "markdown",
   "metadata": {},
   "source": [
    "<div style=\"background-color:#cceffc;padding:10px;\">\n",
    "\n",
    "### Task 3: Power conservation\n",
    "\n",
    "Using the kat object above, set `kat.noxaxis = True`. This tells Finesse to compute just one data point for our model and not change any parameters. You can also set `kat.verbose = False` to stop it from printing information when the simulation is running.\n",
    "\n",
    "1.  Run this kat object to get the simulation output.\n",
    "\n",
    "\n",
    "2. Does the reflected and transmitted power match up with the input power?\n",
    "\n",
    "</div>"
   ]
  },
  {
   "cell_type": "code",
   "execution_count": 5,
   "metadata": {},
   "outputs": [
    {
     "name": "stdout",
     "output_type": "stream",
     "text": [
      "Calculated powers\n",
      "8.0 2.0\n"
     ]
    }
   ],
   "source": [
    "kat.noxaxis = True\n",
    "kat.verbose = False\n",
    "\n",
    "out = kat.run()\n",
    "\n",
    "print(\"Calculated powers\")\n",
    "print(out['Prefl'], out['Ptran'])\n",
    "\n",
    "# Total power adds up to 10W"
   ]
  },
  {
   "cell_type": "markdown",
   "metadata": {},
   "source": [
    "<div style=\"background-color:#cceffc;padding:10px;\">\n",
    "\n",
    "### Task 4: Complex fields\n",
    "\n",
    "The optical field has both an amplitude and a phase. We can output this in Finesse using the amplitude detector (`ad`).\n",
    "\n",
    "For this task you should look up the syntax for the `ad` detector. \n",
    "\n",
    "**Hint:** the frequency given in the `ad` detector is relative to the default optical frequency $f = c/1064$nm. You can see what the default wavelength is using `kat.lambda0`. \n",
    "\n",
    "\n",
    "1. Add three amplitude detectors: one looking at the beam going into the mirror, one looking at the reflected field, and another looking at the transmitted field. Add the command `yaxis abs:deg` to output a complex number from Finesse so we can get the magnitude and phase of the field.\n",
    "\n",
    "\n",
    "2. Run the kat object and print the magnitude and phases of the optical fields. What is the difference in phase from the incident field to the reflected field and incident field to tranmitted field? Why is the phase different on transmission?\n",
    "\n",
    "\n",
    "3. What units do the `pd` and `ad` detector outputs in Finesse have?\n",
    "\n",
    "</div>"
   ]
  },
  {
   "cell_type": "code",
   "execution_count": 6,
   "metadata": {},
   "outputs": [
    {
     "name": "stdout",
     "output_type": "stream",
     "text": [
      "\n",
      "--- Output info ---\n",
      "\n",
      "Run date and time: 2020-06-09 16:16:37.343085\n",
      "Detectors used: aI, aR, aT\n",
      "\n",
      "No xaxis used\n",
      "aI Abs         : min = 3.162277660168380e+00 max = 3.162277660168380e+00\n",
      "aI Phase [Deg] : min = 0.000000000000000e+00 max = 0.000000000000000e+00\n",
      "aR Abs         : min = 2.828427124746190e+00 max = 2.828427124746190e+00\n",
      "aR Phase [Deg] : min = 0.000000000000000e+00 max = 0.000000000000000e+00\n",
      "aT Abs         : min = 1.414213562373090e+00 max = 1.414213562373090e+00\n",
      "aT Phase [Deg] : min = 9.000000000000000e+01 max = 9.000000000000000e+01\n"
     ]
    }
   ],
   "source": [
    "# ad detector syntax\n",
    "# ad name [n m] frequency node\n",
    "\n",
    "kat = finesse.kat()\n",
    "kat.parse(code)\n",
    "kat.parse(\"\"\"\n",
    "ad aI 0 n1*\n",
    "ad aR 0 n1\n",
    "ad aT 0 n2\n",
    "yaxis abs:deg\n",
    "\"\"\")\n",
    "\n",
    "kat.noxaxis = True\n",
    "kat.verbose = False\n",
    "\n",
    "out = kat.run()\n",
    "\n",
    "out.info()\n",
    "\n",
    "# We can see from the output that the reflected and incident field have the same phase\n",
    "# but on transmission it is 90 degrees extra. This is due to the phase relationship at\n",
    "# a surface to conserve energy."
   ]
  },
  {
   "cell_type": "markdown",
   "metadata": {},
   "source": [
    "#### Lengths and tunings\n",
    "\n",
    "One of the most crucial aspects in optical interferometery is accurately positioning mirrors. The optical wavelengths we use in gravitational wave detectors is $\\lambda=1064$nm. Typically we are interested in either **macroscopic** positioning, such as a mirror is 1m, 1cm, 1mm, etc. away, or in **microscopic** positions which are fractions of $\\lambda$. The resonance condition of a Fabry-Perot cavity requires its length to be an integer number of half-wavelengths. For the light of an Nd:YAG laser, length differences $\\ll \\lambda=1064$nm are of interest. Some orders of magnitude:\n",
    "  * LIGO peak senitivity in meters: $\\sim 10^{-20}$ m\n",
    "  * LIGO cavity mirror postion control accuracy: $< 10^{-12}$ m\n",
    "  * LIGO arm cavity length: $\\sim 10^3$ m\n",
    "  * Relative numerical accuracy of floating point numbers: $10^{-15}$\n",
    "\n",
    "As we can see there are many orders of magnitude difference between the lengths of cavities and the types of signal we might measure. With such a large dynamic range typical floating point variables used in computers cannot represent this. Thus we break lengths up into macroscopic and microscopic lengths. The length given by the `space` component is macroscopic and is always rounded to the nearest interger number of $\\lambda$.\n",
    "\n",
    "We change the microscopic length differences in Finesse by changing a mirror's *tuning* value. Tuning is usually refered to in units of degrees, with 360 degrees $= \\lambda$. So a tuning of 180 degrees means we have moved the mirror by half a wavelength.\n",
    "You can read more about this in the Living Review, section 2.5, \"Lengths and tunings: numerical accuracy of distances\".\n",
    "\n",
    "<div style=\"background-color:#cceffc;padding:10px;\">\n",
    "\n",
    "### Task 5: Mirror positions, or tunings\n",
    "\n",
    "The aim of this task is to think about the phase relationships Finesse uses, as this is important to grasp for later tasks.\n",
    "\n",
    "1. Using your `kat` object from before, change the mirror tuning by 90 degrees. How did the phase of the reflected and transmitted fields change relative to the incident field?\n",
    "\n",
    "\n",
    "2. If you change the tuning by 360 degrees, do the amplitudes of the optical fields change?\n",
    "\n",
    "\n",
    "3. If you change the length of the space between the mirror and laser, does it affect the phase?\n",
    "\n",
    "</div>"
   ]
  },
  {
   "cell_type": "code",
   "execution_count": 7,
   "metadata": {},
   "outputs": [
    {
     "name": "stdout",
     "output_type": "stream",
     "text": [
      "\n",
      "--- Output info ---\n",
      "\n",
      "Run date and time: 2020-06-09 16:18:25.322664\n",
      "Detectors used: aI, aR, aT\n",
      "\n",
      "No xaxis used\n",
      "aI Abs         : min = 3.162277660168380e+00 max = 3.162277660168380e+00\n",
      "aI Phase [Deg] : min = 0.000000000000000e+00 max = 0.000000000000000e+00\n",
      "aR Abs         : min = 2.828427124746190e+00 max = 2.828427124746190e+00\n",
      "aR Phase [Deg] : min = 1.800000000000000e+02 max = 1.800000000000000e+02\n",
      "aT Abs         : min = 1.414213562373090e+00 max = 1.414213562373090e+00\n",
      "aT Phase [Deg] : min = 9.000000000000000e+01 max = 9.000000000000000e+01\n"
     ]
    }
   ],
   "source": [
    "kat = finesse.kat()\n",
    "kat.parse(code)\n",
    "kat.parse(\"\"\"\n",
    "ad aI 0 n1*\n",
    "ad aR 0 n1\n",
    "ad aT 0 n2\n",
    "yaxis abs:deg\n",
    "\"\"\")\n",
    "\n",
    "kat.m1.phi += 90\n",
    "\n",
    "kat.noxaxis = True\n",
    "kat.verbose = False\n",
    "\n",
    "out = kat.run()\n",
    "\n",
    "out.info()\n",
    "\n",
    "# The phase relationship on transmission has stayed the same, just 90 degrees, as the shifting position does not affect\n",
    "# the phase accumulated on propagation. On reflection though the beam had to take a longer path than before, so it is now\n",
    "# 180 degrees out of phase with the incident."
   ]
  },
  {
   "cell_type": "code",
   "execution_count": 9,
   "metadata": {},
   "outputs": [
    {
     "name": "stdout",
     "output_type": "stream",
     "text": [
      "\n",
      "--- Output info ---\n",
      "\n",
      "Run date and time: 2019-12-18 15:06:10.246152\n",
      "Detectors used: aI, aR, aT\n",
      "\n",
      "No xaxis used\n",
      "aI Abs         : min = 3.162277660168380e+00 max = 3.162277660168380e+00\n",
      "aI Phase [Deg] : min = 0.000000000000000e+00 max = 0.000000000000000e+00\n",
      "aR Abs         : min = 2.828427124746190e+00 max = 2.828427124746190e+00\n",
      "aR Phase [Deg] : min = 1.800000000000000e+02 max = 1.800000000000000e+02\n",
      "aT Abs         : min = 1.414213562373090e+00 max = 1.414213562373090e+00\n",
      "aT Phase [Deg] : min = 9.000000000000000e+01 max = 9.000000000000000e+01\n"
     ]
    }
   ],
   "source": [
    "kat.s1.L += 10\n",
    "\n",
    "kat.run().info()\n",
    "\n",
    "# The phases don't change when the length changes as Finesse defines that a space always has an integer number\n",
    "# of wavelengths for the default frequency."
   ]
  },
  {
   "cell_type": "markdown",
   "metadata": {},
   "source": [
    "<div style=\"background-color:#cceffc;padding:10px;\">\n",
    "\n",
    "### Task 6: Scanning parameters\n",
    "\n",
    "So far we have just run a single data point in our simulations. Usually we want to change some thing and see how the outputs vary, and we will be doing this a lot in the coming notebooks. In Finesse we vary parameters in a simulation using the `xaxis` command, this changes some parameter from one value to another and computes it for $N$ steps between them.\n",
    "\n",
    "1. Look up the syntax for the `xaxis` command.\n",
    "\n",
    "\n",
    "2. Add an `xaxis` command to change the input laser power from 1W to 10W in 20 steps.\n",
    "\n",
    "\n",
    "3. Plot the reflected and transmitted powers.\n",
    "\n",
    "\n",
    "4. Does the sum of reflected and transmitted power always equal the input power?\n",
    "\n",
    "</div>"
   ]
  },
  {
   "cell_type": "code",
   "execution_count": 8,
   "metadata": {},
   "outputs": [
    {
     "data": {
      "image/png": "[encoded data removed]",
      "text/plain": [
       "<Figure size 432x288 with 1 Axes>"
      ]
     },
     "metadata": {
      "needs_background": "light"
     },
     "output_type": "display_data"
    }
   ],
   "source": [
    "# xaxis command\n",
    "# xaxis component parameter lin/log upper lower steps\n",
    "\n",
    "kat = finesse.kat()\n",
    "kat.parse(code)\n",
    "kat.parse(\"\"\"\n",
    "pd Prefl n1\n",
    "pd Ptran n2\n",
    "yaxis abs:deg\n",
    "xaxis l1 P lin 1 10 20\n",
    "\"\"\")\n",
    "\n",
    "kat.verbose = False\n",
    "\n",
    "out = kat.run()\n",
    "\n",
    "plt.plot(out.x, out['Prefl'], label=\"Refl\")\n",
    "plt.plot(out.x, out['Ptran'], label=\"Tran\")\n",
    "plt.plot(out.x, out['Prefl'] + out['Ptran'], label=\"Total\")\n",
    "plt.xlabel(out.xlabel)\n",
    "plt.ylabel(\"Power [W]\")\n",
    "plt.legend()\n",
    "plt.tight_layout()"
   ]
  }
 ],
 "metadata": {
  "kernelspec": {
   "display_name": "Python 3",
   "language": "python",
   "name": "python3"
  },
  "language_info": {
   "codemirror_mode": {
    "name": "ipython",
    "version": 3
   },
   "file_extension": ".py",
   "mimetype": "text/x-python",
   "name": "python",
   "nbconvert_exporter": "python",
   "pygments_lexer": "ipython3",
   "version": "3.7.3"
  }
 },
 "nbformat": 4,
 "nbformat_minor": 4
}
