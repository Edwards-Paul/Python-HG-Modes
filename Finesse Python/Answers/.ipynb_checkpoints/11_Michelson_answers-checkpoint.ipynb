{
 "cells": [
  {
   "cell_type": "markdown",
   "metadata": {},
   "source": [
    "#### Objectives (analytical session)\n",
    " 1. Build a Finesse model of a simple Michelson interferometer.\n",
    " 1. Verify the DC\" analysis results derived in the analytic calculations.\n",
    " 1. Compute the transmission of the Michelson when the incident field has multiple spectral components."
   ]
  },
  {
   "cell_type": "code",
   "execution_count": 2,
   "metadata": {},
   "outputs": [
    {
     "name": "stdout",
     "output_type": "stream",
     "text": [
      "                                              ..-\n",
      "    PyKat develop         _                  '(\n",
      "                          \\`.|\\.__...-\"\"\"\"-_.\" )\n",
      "       ..+-----.._        /  ' `            .-'\n",
      "   . '            `:      7/* _/._\\    \\   (\n",
      "  (        '::;;+;;:      `-\"' =\" /,`\"\" `) /\n",
      "  L.        \\`:::a:f            c_/     n_'\n",
      "  ..`--...___`.  .    ,\n",
      "   `^-....____:   +.      www.gwoptics.org/pykat\n",
      "\n"
     ]
    }
   ],
   "source": [
    "from pykat import finesse        # import the whole pykat.finesse package\n",
    "from pykat.commands import *     # import all packages in pykat.commands\n",
    "import numpy as np               # for basic math/sci/array functions\n",
    "import matplotlib.pyplot as plt  # for plotting\n",
    "from matplotlib.ticker import FormatStrFormatter\n",
    "\n",
    "# tell the notebook to automatically show plots inline below each cell\n",
    "%matplotlib inline               \n",
    "# use pykat's plotting style. change dpi to change plot sizes on your screen\n",
    "pykat.init_pykat_plotting(dpi=90,fmts=['png'])"
   ]
  },
  {
   "cell_type": "markdown",
   "metadata": {},
   "source": [
    "## The Michelson Interferometer\n",
    "First let's construct a basic model to review some simple behaviours of Michelson Interferometers"
   ]
  },
  {
   "cell_type": "markdown",
   "metadata": {},
   "source": [
    "<div style=\"background-color:#cceffc;padding:10px;\">\n",
    "\n",
    "### Task 1: Simple Michelson\n",
    "\n",
    "Create a `kat` object and parse the Finesse code to model the optical system depicted:\n",
    "<img src=\"http://www.gwoptics.org/learn/schools/St_Andrews_2017/michelson_with_nodes.svg\" width=40%>\n",
    "\n",
    "Set the length of the Michelson's 'arms' to 1m and the mirror parameters of ETMx and ETMy to be R=1, T=0\n",
    "</div>\n"
   ]
  },
  {
   "cell_type": "code",
   "execution_count": 25,
   "metadata": {},
   "outputs": [],
   "source": [
    "base = finesse.kat()\n",
    "base.verbose = False\n",
    "\n",
    "Mich = \"\"\"\n",
    "l laser1 1.0 0 n1 # laser with P = 1W at the default frequency\n",
    "s s1 0 n1 n2      # space connecting the laser to something\n",
    "bs bs1 0.5 0.5 0 0 n2 n3 n4 n5 # 50:50 beam splitter\n",
    "s Lx 1 n4 n8\n",
    "s Ly 1 n3 n6\n",
    "m ETMy 1 0 0 n6 n7\n",
    "m ETMx 1 0 0 n8 n9 \n",
    "pd pow_out n5\n",
    "pd pow_refl n2\n",
    "\"\"\"\n",
    "base.parse(Mich)"
   ]
  },
  {
   "cell_type": "markdown",
   "metadata": {},
   "source": [
    "<div style=\"background-color:#cceffc;padding:10px;\">\n",
    "\n",
    "### Task 2: Michelson response to microscopic length changes\n",
    "\n",
    "1. Create a copy of your base `kat` object and output the power transmitted as the microscopic tuning of ETMx is varied from 0 to 180 degrees. \n",
    "\n",
    "\n",
    "2. Set the tuning of bs1 so that the transmitted power is zero when ETMx has a microscopic tuning of zero. This is often referred to as setting the interferometer to a 'dark fringe'. **Hint:** you can set the tuning of an optic using `kat.bs1.phi=...`\n",
    "\n",
    "    <span style=\"color:green\"> Note that in this answer notebook, we have set the \"Angle-of-Incidence\" of the beamsplitter to the unphysical value of 0 degrees. From a nodal connections point of view, this is inconsequential. However, the beamsplitter tuning is always applied in a direction that is *normal* to the beam-splitter's surface. You can find the mathematical description of this phenomenon in Eqs. 3.47-3.48 of the [Finesse Manual](http://www.gwoptics.org/finesse/download/manual.pdf). </span>\n",
    "\n",
    "\n",
    "3. Produce the output again for the adjusted setup, and plot the results of both simulations on the same figure.\n",
    "\n",
    "Where has the power gone, if it is not detected at `n5` (aka the 'asymmetric port')?\n",
    "\n",
    "</div>"
   ]
  },
  {
   "cell_type": "code",
   "execution_count": 1,
   "metadata": {},
   "outputs": [
    {
     "ename": "NameError",
     "evalue": "name 'base' is not defined",
     "output_type": "error",
     "traceback": [
      "\u001b[0;31m---------------------------------------------------------------------------\u001b[0m",
      "\u001b[0;31mNameError\u001b[0m                                 Traceback (most recent call last)",
      "\u001b[0;32m<ipython-input-1-6efdfc175f1e>\u001b[0m in \u001b[0;36m<module>\u001b[0;34m\u001b[0m\n\u001b[0;32m----> 1\u001b[0;31m \u001b[0mkat\u001b[0m \u001b[0;34m=\u001b[0m \u001b[0mbase\u001b[0m\u001b[0;34m.\u001b[0m\u001b[0mdeepcopy\u001b[0m\u001b[0;34m(\u001b[0m\u001b[0;34m)\u001b[0m\u001b[0;34m\u001b[0m\u001b[0;34m\u001b[0m\u001b[0m\n\u001b[0m\u001b[1;32m      2\u001b[0m \u001b[0mkat\u001b[0m\u001b[0;34m.\u001b[0m\u001b[0mparse\u001b[0m\u001b[0;34m(\u001b[0m\u001b[0;34m\"xaxis ETMx phi lin 0 180 200\"\u001b[0m\u001b[0;34m)\u001b[0m\u001b[0;34m\u001b[0m\u001b[0;34m\u001b[0m\u001b[0m\n\u001b[1;32m      3\u001b[0m \u001b[0mout1\u001b[0m\u001b[0;34m=\u001b[0m\u001b[0mkat\u001b[0m\u001b[0;34m.\u001b[0m\u001b[0mrun\u001b[0m\u001b[0;34m(\u001b[0m\u001b[0;34m)\u001b[0m\u001b[0;34m\u001b[0m\u001b[0;34m\u001b[0m\u001b[0m\n\u001b[1;32m      4\u001b[0m \u001b[0;34m\u001b[0m\u001b[0m\n\u001b[1;32m      5\u001b[0m \u001b[0;34m\u001b[0m\u001b[0m\n",
      "\u001b[0;31mNameError\u001b[0m: name 'base' is not defined"
     ]
    }
   ],
   "source": [
    "kat = base.deepcopy()\n",
    "kat.parse(\"xaxis ETMx phi lin 0 180 200\")\n",
    "out1=kat.run()\n",
    "\n",
    "\n",
    "#the difference between the phase of the two fields when they recombine at bs1 should be 180deg.\n",
    "#we get a factor 2 from travelling each direction in each arm\n",
    "#and by tuning the bs, we apply +45deg to one arm and -45deg to the other.\n",
    "# kat.bs1.phi=45\n",
    "kat.ETMy.phi = 90\n",
    "out2 = kat.run()\n",
    "\n",
    "plt.figure()\n",
    "plt.plot(out1.x,out1['pow_out'],label='original')\n",
    "plt.plot(out2.x,out2['pow_out'],label='dark fringe')\n",
    "plt.plot(out2.x,out2['pow_refl'],label='pow_refl',ls=':')\n",
    "plt.xlabel('ETMx tuning [deg]')\n",
    "plt.ylabel('power out [W]')\n",
    "plt.legend(loc=5)\n",
    "\n",
    "#Since both end mirrors have R=1, all of the power not seen at \n",
    "#the asymmetric port must be reflected back towards the laser.\n",
    "#you can check this by adding a pd at n2, aka the 'symmetric port'"
   ]
  },
  {
   "cell_type": "markdown",
   "metadata": {},
   "source": [
    "<div style=\"background-color:#cceffc;padding:10px;\">\n",
    "\n",
    "### Task 3: Michelson response to 'Common' and 'Differential' length changes\n",
    "\n",
    "Starting from your 'dark fringe' Michelson model, add another `pd` to monitor the power at `n2`, and include a `put` command to simulate two cases:\n",
    "\n",
    "1. ETMy always has the *same* microscopic detuning as ETMx - a 'Common' change\n",
    "2. ETMy always has the *opposite* microscopic detuning to ETMy - a 'Differential' change\n",
    "\n",
    "Why does this happen? Why is this an advantage for gravitational-wave detectors?\n",
    "\n",
    "</div>\n",
    "\n",
    "You may find it helpful to refer to the Finesse <a href=\"http://www.gwoptics.org/finesse/reference/\">Syntax reference</a>.\n",
    "\n",
    "**Hint:** The variable `$x1` is the current value of the `xaxis` parameter. The variable `$mx1` is the *negative* of the current `xaxis` value."
   ]
  },
  {
   "cell_type": "code",
   "execution_count": 27,
   "metadata": {},
   "outputs": [
    {
     "data": {
      "image/png": "[encoded data removed]",
      "text/plain": [
       "<Figure size 432x288 with 1 Axes>"
      ]
     },
     "metadata": {
      "needs_background": "light"
     },
     "output_type": "display_data"
    },
    {
     "data": {
      "image/png": "[encoded data removed]",
      "text/plain": [
       "<Figure size 432x288 with 1 Axes>"
      ]
     },
     "metadata": {
      "needs_background": "light"
     },
     "output_type": "display_data"
    }
   ],
   "source": [
    "kat = base.deepcopy()\n",
    "#setting to a dark fringe\n",
    "kat.bs1.phi = 45\n",
    "#adding the new detector and xaxis that'll be used in both simulations\n",
    "kat.parse(\"\"\"\n",
    "pd pow_refl n2\n",
    "xaxis ETMx phi lin 0 180 200\n",
    "\"\"\")\n",
    "\n",
    "#common arm tuning changes\n",
    "katC = kat.deepcopy()\n",
    "katC.parse(\"\"\"\n",
    "put ETMy phi $x1\n",
    "\"\"\")\n",
    "out=katC.run()\n",
    "out.plot(title='common')\n",
    "\n",
    "#differential arm tuning changes\n",
    "katC = kat.deepcopy()\n",
    "katC.parse(\"\"\"\n",
    "put ETMy phi $mx1\n",
    "\"\"\")\n",
    "out=katC.run()\n",
    "out.plot(title='differential')\n",
    "\n",
    "#the Michelson is naturally insensitive to effects that are common to both arms\n",
    "#this is an advantage for gravitational wave detection, as noise sources that \n",
    "#affect both arms in common don't reach the 'asymmetric' port where we make the detection."
   ]
  },
  {
   "cell_type": "code",
   "execution_count": null,
   "metadata": {},
   "outputs": [],
   "source": []
  }
 ],
 "metadata": {
  "kernelspec": {
   "display_name": "Python 3",
   "language": "python",
   "name": "python3"
  },
  "language_info": {
   "codemirror_mode": {
    "name": "ipython",
    "version": 3
   },
   "file_extension": ".py",
   "mimetype": "text/x-python",
   "name": "python",
   "nbconvert_exporter": "python",
   "pygments_lexer": "ipython3",
   "version": "3.7.3"
  }
 },
 "nbformat": 4,
 "nbformat_minor": 2
}
