{
 "cells": [
  {
   "cell_type": "markdown",
   "metadata": {},
   "source": [
    "# PDH Signal in Finesse\n",
    "\n",
    "In this notebook, you will learn how modulation and demodulation can be used in Finesse to produce Pound-Drever-Hall error signals and (if there is time) simple active feedback loops within a model."
   ]
  },
  {
   "cell_type": "markdown",
   "metadata": {},
   "source": [
    "## Goal of the session\n",
    "In this notebook, we return to our model of a 2-mirror cavity. We'll first introduce sidebands to the input field, then use these to generate a Pound-Drever-Hall error signal that could be used to lock the laser to the cavity (or vice versa). \n",
    "\n",
    "*If there is time*, we'll then take a look at the `lock` command included in Finesse, which can be used to create a simple feedback loop in your simulations.\n",
    "\n",
    "**Finesse/Pykat things you will learn**:\n",
    "\n",
    " - constructing an error signal using the `mod` and `pd1` components\n",
    " - manipulating an existing `kat` object using PyKat commands like `kat.[component].remove()`\n"
   ]
  },
  {
   "cell_type": "markdown",
   "metadata": {},
   "source": [
    "## Getting Started\n",
    "\n",
    "As usual, we start by loading PyKat and the other Python packages we will need. This time, we *also* load the code for a simple 2-mirror cavity, as used in our earlier notebook:\n",
    "\n",
    "<img src=http://www.gwoptics.org/learn/02_Plane_waves/01_Fabry_Perot_cavity/fabry-perot.svg width=40%>\n",
    "\n",
    "<font size=1 color='Grey'>image: GWOptics</font>\n",
    "\n",
    "For the tasks below, you should create a copy of this optical model using `kat = basekat.deepcopy`.\n",
    "\n",
    "(type shift+enter to run)"
   ]
  },
  {
   "cell_type": "code",
   "execution_count": 1,
   "metadata": {},
   "outputs": [],
   "source": [
    "# from pykat import finesse        # import the whole pykat.finesse package\n",
    "# from pykat.commands import *     # import all packages in pykat.commands\n",
    "# import numpy as np               # for basic math/sci/array functions\n",
    "# import matplotlib.pyplot as plt  # for plotting\n",
    "\n",
    "# # tell the notebook to automatically show plots inline below each cell\n",
    "# %matplotlib inline               \n",
    "# # use pykat's plotting style. change dpi to change plot sizes on your screen\n",
    "# pykat.init_pykat_plotting(dpi=90)\n",
    "\n",
    "# #initialise Finesse with a new empty kat object\n",
    "# basekat = finesse.kat() \n",
    "# #tell Finesse to talk less\n",
    "# basekat.verbose = False\n",
    "# #parse the Finesse code into PyKat\n",
    "# basekat.parse(\"\"\"\n",
    "# l laser 1 0 n0\n",
    "# s s0 0.1 n0 n1\n",
    "\n",
    "# #the cavity:\n",
    "# m1 M1 0.15 0 0 n1 n2\n",
    "# s scav 0.2 n2 n3\n",
    "# m1 M2 0.15 0 0 n3 n4\n",
    "# \"\"\")\n",
    "\n",
    "# print(basekat)"
   ]
  },
  {
   "cell_type": "markdown",
   "metadata": {},
   "source": [
    "## Error signals, modulation and demodulation\n",
    "\n",
    "In a Finesse simulation, a cavity will sit perfectly on resonance unless we deliberately alter some parameter that changes the resonant condition of the system. In reality, external disturbances such as seismic noise, temperature changes, or drifts in the input laser frequency will affect the system. The optical system must be actively controlled so that the cavity length and laser frequency are *locked* such that one follows the other, and the cavity stays resonant. \n",
    "\n",
    "To do this, we require an error signal that can be used in a feedback loop. \n",
    "\n",
    "As you have seen, one method to do this is to modulate the input field, producing <a href=https://en.wikipedia.org/wiki/Sideband>sidebands</a> which interact with the cavity differently to the main 'carrier' field. The beat signal produced between these sidebands and the carrier, after interacting with the cavity, depends on the resonant condition in the cavity for all of the fields involved.\n",
    "\n",
    "As you have seen, the 'standard' method for locking a laser to a two mirror cavity is the <a href=https://en.wikipedia.org/wiki/Pound–Drever–Hall_technique>Pound-Drever-Hall (PDH)</a> technique, depicted below. In this case, the input beam is phase modulated to produce a pair of sidebands which do not resonate in the cavity, so are just directly reflected. A photodiode on reflection then measures the beat signal, which is demodulated and low-passed to produce an antisymmetric DC error signal that is linear over the bandwidth of the cavity. This error signal can be fed back to a component that can change the phase of the light, e.g. the laser.\n",
    "\n",
    "<img src=https://upload.wikimedia.org/wikipedia/commons/thumb/6/6c/Pound–Drever–Hall_technique.svg/400px-Pound–Drever–Hall_technique.svg.png width='40%' height='40%'>\n",
    "<img src=https://www.newport.com/medias/sys_master/images/images/h59/h68/8797626368030/App-note-15-Fig3-600w.gif width=30% height=30%>\n",
    "<font size=1 color='Grey'>images: Wikipedia, Newport Optics</font>\n",
    "\n",
    "You can learn more about modulation and demodulation in <a href=https://link.springer.com/article/10.1007%2Fs41114-016-0002-8#Sec16>chapter 3</a> of Interferometer Techniques, or by exploring <a href=http://www.gwoptics.org/learn/02_Plane_waves/03_Optical_modulation/index.html> Sections 2.3 and 2.4</a> of the GWOptics \"Learn Interferometry\" course.\n",
    "\n",
    "**In Finesse** the full PDH technique is replicated using two components: (1) a modulator (`mod`), which can be configured to act like a EOM, EOAM, produce a single sideband, etc; and (2) a demodulating photodiode (`pd[n]`), where `n` specifies the number of demodulations required (1, in our case). The `pd1` combines the roles of the photodiode, mixer, and low-pass filter in a physical setup, directly recording the resulting error signal. \n"
   ]
  },
  {
   "cell_type": "markdown",
   "metadata": {},
   "source": [
    "<div style=\"background-color:#cceffc;padding:10px;\">\n",
    "\n",
    "### Task 1: Plot the PDH error signal for the cavity\n",
    "\n",
    "1. Create a deep copy of the `basekat` object to load the simple cavity model.\n",
    "\n",
    "\n",
    "2. Remove the existing space between the laser and cavity, `s0`, by using the pykat command `kat.s0.remove()`. \n",
    "    (You can check this has worked using `print(kat)` to see the current kat object).\n",
    "\n",
    "\n",
    "3. In the gap that now exists between the laser and the cavity, parse the Finesse commands for a space, followed by a *phase* modulator with modulation depth 0.3 and frequency 80MHz, followed by a second space. Ensure that the nodal network is fully reconnected after this replacement.\n",
    "\n",
    "\n",
    "4. Parse the code for a photodiode with one demodulation at the modulator frequency, looking on reflection from the cavity.\n",
    "\n",
    "\n",
    "5. Plot the photodiode output as a function of the tuning of mirror M2 in the range -50 to +50 degrees.\n",
    "\n",
    "\n",
    "6. How does the error signal change with demodulation phase? What is the optimal phase in this case? What other parameters affect the size and shape of the error signal? Why?\n",
    "\n",
    "**Hint:** you might like to check the <a href=http://www.gwoptics.org/finesse/reference/>Finesse syntax reference</a>.\n",
    "\n",
    "**Hint:** in Finesse, large numbers can be input using the metric prefixes, so e.g. an EOM frequency of 1kHz can be specified as `1k`. \n",
    " </div>"
   ]
  },
  {
   "cell_type": "code",
   "execution_count": 5,
   "metadata": {},
   "outputs": [
    {
     "name": "stdout",
     "output_type": "stream",
     "text": [
      "% Generated by PyKat 11.08.2020 07:56:20\n",
      "\n",
      "l laser 1.0 0.0 0.0 n0\n",
      "s s0 0.1 n0 n1\n",
      "mod mod1 80000000.0 0.3 s pm 0.0 n1 n2\n",
      "s s1 0.1 n2 n3\n",
      "bs pickoff 0.1 0.9 0.0 45.0 n3 dump n4 n5\n",
      "s s2 0.1 n4 n6\n",
      "m1 M1 0.15 0.0 0.0 n6 n7\n",
      "s scav 0.2 n7 n8\n",
      "m1 ETM 0.15 0.0 0.0 n8 n9\n",
      "s s_bs_pd 0.1 n5 n10\n",
      "pd1 ref_pd 80000000.0 n10\n",
      "yaxis abs\n",
      "\n",
      "\u001b[91m\n",
      "--------------------------------------------------------------\n",
      "Error from pykat:\n",
      "No xaxis was defined\n",
      "--------------------------------------------------------------\n",
      "\u001b[0m\n"
     ]
    },
    {
     "ename": "SystemExit",
     "evalue": "1",
     "output_type": "error",
     "traceback": [
      "An exception has occurred, use %tb to see the full traceback.\n",
      "\u001b[1;31mSystemExit\u001b[0m\u001b[1;31m:\u001b[0m 1\n"
     ]
    },
    {
     "name": "stderr",
     "output_type": "stream",
     "text": [
      "C:\\Users\\edwar\\Anaconda3\\lib\\site-packages\\IPython\\core\\interactiveshell.py:3304: UserWarning: To exit: use 'exit', 'quit', or Ctrl-D.\n",
      "  warn(\"To exit: use 'exit', 'quit', or Ctrl-D.\", stacklevel=1)\n"
     ]
    }
   ],
   "source": [
    "from pykat import finesse        # import the whole pykat.finesse package\n",
    "from pykat.commands import *     # import all packages in pykat.commands\n",
    "import numpy as np               # for basic math/sci/array functions\n",
    "import matplotlib.pyplot as plt  # for plotting\n",
    "\n",
    "# tell the notebook to automatically show plots inline below each cell\n",
    "%matplotlib inline               \n",
    "# use pykat's plotting style. change dpi to change plot sizes on your screen\n",
    "pykat.init_pykat_plotting(dpi=90)\n",
    "\n",
    "basekat = finesse.kat()    # Initialising FINESSE\n",
    "basekat.verbose = False    # Keep quiet\n",
    "\n",
    "kat = deepcopy(basekat)\n",
    "\n",
    "#parse the Finesse code into PyKat\n",
    "kat.parse(\"\"\"\n",
    "#laser to modulator\n",
    "l laser 1 0 n0\n",
    "s s0 0.1 n0 n1\n",
    "\n",
    "#modulator to bs\n",
    "mod mod1 80M 0.3 s pm n1 n2\n",
    "s s1 0.1 n2 n3\n",
    "bs pickoff 0.1 0.9 0 45 n3 dump n4 n5\n",
    "\n",
    "#bs to mirror1\n",
    "s s2 0.1 n4 n6\n",
    "m1 M1 0.15 0 0 n6 n7\n",
    "s scav 0.2 n7 n8\n",
    "m1 ETM 0.15 0 0 n8 n9\n",
    "\n",
    "#bs to pd\n",
    "s s_bs_pd 0.1 n5 n10\n",
    "pd1 ref_pd 80M n10\n",
    "\n",
    "\n",
    "\"\"\")\n",
    "\n",
    "print(kat)\n",
    "\n",
    "out = kat.run()\n",
    "\n",
    "\n",
    "\n",
    "    \n"
   ]
  },
  {
   "cell_type": "code",
   "execution_count": null,
   "metadata": {},
   "outputs": [],
   "source": []
  }
 ],
 "metadata": {
  "kernelspec": {
   "display_name": "Python 3",
   "language": "python",
   "name": "python3"
  },
  "language_info": {
   "codemirror_mode": {
    "name": "ipython",
    "version": 3
   },
   "file_extension": ".py",
   "mimetype": "text/x-python",
   "name": "python",
   "nbconvert_exporter": "python",
   "pygments_lexer": "ipython3",
   "version": "3.7.3"
  }
 },
 "nbformat": 4,
 "nbformat_minor": 2
}
