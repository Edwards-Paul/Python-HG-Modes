{
 "cells": [
  {
   "cell_type": "markdown",
   "metadata": {
    "slideshow": {
     "slide_type": "slide"
    }
   },
   "source": [
    "# Shifted-tilted Tophat at Gaussian interference at waist\n",
    "\n",
    "Tophat incoming with shift then tilt ( to 1st-order in both):\n",
    "\\begin{align*}\n",
    "\\sum u_{mn} \\rightarrow_{shift,tilt} &\n",
    "    \\sum u_{mn} (1 + \\frac{2 a x}{w_0^2})(1+ i k \\alpha x)\n",
    "    \\\\\n",
    "    =&\n",
    "    \\sum u_{mn} (1 + \\frac{2 a }{w_0^2} x + i k \\alpha x + i \\frac{2 k \\alpha a}{w_0^2} x^2 )\n",
    "\\end{align*}\n",
    "\n",
    "For $x$:\n",
    "\n",
    "\\begin{equation}\n",
    "x u_{n,m} = \\frac{w_0}{2}\n",
    "\\Big[\n",
    "\t(1 - i \\frac{z}{z_R})\n",
    "\t\\sqrt{n+1} u_{n+1,m}\n",
    "\t+\n",
    "\t\\sqrt{n}\n",
    "\t(1+i \\frac{z}{z_R})\n",
    "\tu_{n-1,m}\n",
    "\\Big]\n",
    "\\end{equation}\n",
    "\n",
    "For $x^2$:\n",
    "\n",
    "\\begin{equation}\n",
    "x^2 u_{n,m} = \\frac{w_0^2}{4}\n",
    "\\Big[\n",
    "\t(1 - i \\frac{z}{z_R})^2\n",
    "\t\\sqrt{(n+1)(n+2)} u_{n+2,m}\n",
    "\t+\n",
    "\t(2n+1)\n",
    "\t(1+ (\\frac{z}{z_R})^2)\n",
    "\tu_{n,m}\n",
    "\t+\n",
    "\t\\sqrt{n(n-1)}\n",
    "\t(1+i \\frac{z}{z_R} )^2\n",
    "\tu_{n-2,m}\n",
    "\\Big]\n",
    "\\end{equation}"
   ]
  },
  {
   "cell_type": "code",
   "execution_count": 1,
   "metadata": {
    "slideshow": {
     "slide_type": "skip"
    }
   },
   "outputs": [],
   "source": [
    "import PauLisa as pl, numpy as np, matplotlib.pyplot as plt\n",
    "from scipy.special import erfi as erfi\n",
    "pi=np.pi\n",
    "\n",
    "import scipy.io"
   ]
  },
  {
   "cell_type": "code",
   "execution_count": 2,
   "metadata": {},
   "outputs": [
    {
     "name": "stdout",
     "output_type": "stream",
     "text": [
      "__header__\n",
      "__version__\n",
      "__globals__\n",
      "coeftop\n",
      "read_me_paul\n",
      "wb\n"
     ]
    }
   ],
   "source": [
    "mat = scipy.io.loadmat('Top_hat_for_paul.mat')\n",
    "for x in mat:\n",
    "  print(x)"
   ]
  },
  {
   "cell_type": "code",
   "execution_count": 3,
   "metadata": {},
   "outputs": [
    {
     "name": "stdout",
     "output_type": "stream",
     "text": [
      "['wb is the waist to use for tophat basis with tophat radius 1mm,coeftop are the mode coefficients.']\n",
      "[[0.00023067]]\n"
     ]
    }
   ],
   "source": [
    "print(mat['read_me_paul'])\n",
    "print(mat['wb'])\n",
    "\n",
    "coef=mat['coeftop'].ravel()"
   ]
  },
  {
   "cell_type": "markdown",
   "metadata": {},
   "source": [
    "Using simtools mode indexing in Python:\n",
    "\n",
    "$\n",
    "m = \\frac{(N+1)(N+2)}{2}- (A_{python} + 1)\n",
    "$\n",
    "\n",
    "$\n",
    "\\rightarrow A_{python} =  \\frac{(N+1)(N+2)}{2} + 1 -m \n",
    "$\n",
    "\n",
    "$\n",
    "n = A_{python} - \\frac{N(N+1)}{2} = N-m\n",
    "$\n",
    "\n",
    "$\n",
    "\\rightarrow A_{python} = N-m + - \\frac{N(N+1)}{2} \n",
    "$\n",
    "\n",
    "$\n",
    "N = floor( \\frac{\\sqrt{8A_{python}+1} - 1}{2} ) = ceil(\\frac{\\sqrt{9+8A_{python}} - 3}{2} )\n",
    "$"
   ]
  },
  {
   "cell_type": "raw",
   "metadata": {},
   "source": [
    "  (FROM UNIT POWER)\n",
    "  \n",
    "  Tophat 10x10 entries\n",
    "    \n",
    "    0         2         4         6...\n",
    "    0.5646    0.3896    0.2935    0.1570   -0.0031   -0.0719   -0.0055    0.0445   -0.0103   -0.0263\n",
    "    0.3896    0.2396    0.1216   -0.0024   -0.0536   -0.0041    0.0326   -0.0075   -0.0191    0.0171\n",
    "    0.2935    0.1216   -0.0022   -0.0496   -0.0037    0.0295   -0.0068   -0.0171    0.0152    0.0019\n",
    "    0.1570   -0.0024   -0.0496   -0.0036    0.0284   -0.0064   -0.0162    0.0143    0.0018   -0.0124\n",
    "   -0.0031   -0.0536   -0.0037    0.0284   -0.0063   -0.0158    0.0139    0.0017   -0.0120    0.0094\n",
    "   -0.0719   -0.0041    0.0295   -0.0064   -0.0158    0.0138    0.0017   -0.0117    0.0092    0.0004\n",
    "   -0.0055    0.0326   -0.0068   -0.0162    0.0139    0.0017   -0.0117    0.0091    0.0004   -0.0078\n",
    "    0.0445   -0.0075   -0.0171    0.0143    0.0017   -0.0117    0.0091    0.0004   -0.0077    0.0080\n",
    "   -0.0103   -0.0191    0.0152    0.0018   -0.0120    0.0092    0.0004   -0.0077    0.0080   -0.0027\n",
    "   -0.0263    0.0171    0.0019   -0.0124    0.0094    0.0004   -0.0078    0.0080   -0.0027   -0.0034\n",
    "\n",
    "\n",
    "Note that these give coefficients (for unit power, not unit intensity tophat, for that multiply by sqrt(pi)*r) for modes (2m,2n) so for example row 1 column 4 gives coefficient of mode (0,6) (first non-zero indices have a 0, so column or row 1 correspond to zero, column or row 2 correspond to 2, 3 to 4, 4 to 6, 5 to 8 and so forth). This means here are non-zero indices from HG00 to HG(18,18).\n",
    "\n",
    "Again, this is for a normal power tophat, not normal intensity (which would have a power equal to the surface area of the pupil).\n"
   ]
  },
  {
   "cell_type": "code",
   "execution_count": 4,
   "metadata": {},
   "outputs": [],
   "source": [
    "def N_f(A):\n",
    "    \n",
    "    res = np.floor((np.sqrt(8*A+1)-1)/2)\n",
    "    \n",
    "    #res = (np.sqrt(9+8*A)-3)/2\n",
    "    return(res)\n",
    "\n",
    "def m(N,A):\n",
    "    res = (N+1)*(N+2)/2 - (A+1)\n",
    "    return(res)\n",
    "\n",
    "#def n(N,A):\n",
    "#    m= (N+1)*(N+2)/2 - (A+1)\n",
    "#    res = N-m\n",
    "#    return(res)\n",
    "def n(N,A):\n",
    "    res = A - (N*(N+1)/2)\n",
    "    return(res)\n",
    "\n",
    "NumberModes = int(len(coef))\n",
    "listModesN = [None] * NumberModes\n",
    "listModesM = [None] * NumberModes\n",
    "listModesC = [None] * NumberModes\n",
    "\n",
    "\n",
    "\n",
    "#for i in range(len(coef)):\n",
    "#    A=i\n",
    "#    N= N_f(A)\n",
    "#\n",
    "#    if (m(N,A)%2 == 0) & (n(N,A)%2 == 0):\n",
    "#        print(coef[A], '\\t\\t\\t' , m(N,A), ',' , n(N,A))\n",
    "\n",
    "for i in range(NumberModes):\n",
    "    A=i\n",
    "    N= N_f(A)\n",
    "    listModesN[i] = int(m(N,A))\n",
    "    listModesM[i] = int(n(N,A))\n",
    "    listModesC[i] = coef[i]\n",
    "    \n",
    "    "
   ]
  },
  {
   "cell_type": "code",
   "execution_count": 5,
   "metadata": {
    "scrolled": false
   },
   "outputs": [
    {
     "name": "stdout",
     "output_type": "stream",
     "text": [
      "\n",
      "wavelength=1.064e-06\n",
      "w0=0.00023067\n",
      "z0=0\n",
      "Zr=0.15710516963503632\n",
      "q0=0.15710516963503632j\n"
     ]
    }
   ],
   "source": [
    "plane = pl.Plane(-3e-3, 3e-3, 300, -3e-3, 3e-3, 300)\n",
    "params = pl.Params(1064e-9, 0.00023067,0)\n",
    "a = 100e-6\n",
    "modes = pl.create_modes(listModesM,listModesN,listModesC,NumberModes)\n",
    "\n",
    "print(params)"
   ]
  },
  {
   "cell_type": "code",
   "execution_count": 6,
   "metadata": {},
   "outputs": [],
   "source": [
    "m = pl.scatter_case2(0,params,a,500e-6,modes)"
   ]
  },
  {
   "cell_type": "code",
   "execution_count": 7,
   "metadata": {},
   "outputs": [],
   "source": [
    "f = pl.calculate(params,plane,m,0)\n"
   ]
  },
  {
   "cell_type": "code",
   "execution_count": 8,
   "metadata": {
    "scrolled": false
   },
   "outputs": [
    {
     "data": {
      "image/png": "[encoded data removed]",
      "text/plain": [
       "<Figure size 432x432 with 1 Axes>"
      ]
     },
     "metadata": {
      "needs_background": "light"
     },
     "output_type": "display_data"
    }
   ],
   "source": [
    "pl.intslicex(0,f, xlim=[-1.5e-3,1.5e-3], labels=\"tophat\")"
   ]
  },
  {
   "cell_type": "code",
   "execution_count": 9,
   "metadata": {
    "scrolled": false
   },
   "outputs": [
    {
     "data": {
      "image/png": "[encoded data removed]",
      "text/plain": [
       "<Figure size 504x432 with 2 Axes>"
      ]
     },
     "metadata": {
      "needs_background": "light"
     },
     "output_type": "display_data"
    }
   ],
   "source": [
    "pl.Contour(f, ylim=[-1e-3,1e-3],xlim=[-1e-3,1e-3])"
   ]
  },
  {
   "cell_type": "code",
   "execution_count": 10,
   "metadata": {},
   "outputs": [],
   "source": [
    "m = pl.scatter_case2(0,params,0,0,modes)"
   ]
  },
  {
   "cell_type": "code",
   "execution_count": 13,
   "metadata": {},
   "outputs": [],
   "source": [
    "alpha = np.linspace(-500e-6,500e-6,101)\n",
    "modes_list = pl.iterative_scatter_case2(0,params,a,alpha,modes)"
   ]
  },
  {
   "cell_type": "code",
   "execution_count": 15,
   "metadata": {},
   "outputs": [
    {
     "name": "stdout",
     "output_type": "stream",
     "text": [
      "n\\m [0, 1, 2, 3, 4, 5, 6, 7, 8, 9, 10, 11, 12, 13, 14, 15, 16, 17, 18, 19, 20, 21, 22, 23, 24, 25, 26, 27, 28, 29, 30, 31, 32, 33, 34, 35, 36]\n",
      "0   [(0.0005782135489454484-0.0001707247370665531j), 0.0, (0.00040885861556282983-0.00012072032556065162j), 0.0, (0.0003540803162272261-0.00010454393594672502j), 0.0, (0.000323212982065895-9.541336765286956e-05j), 0.0, (0.0003022158047268879-8.91275629817424e-05j), 0.0, (0.0002860296460147838-8.400540480664641e-05j), 0.0, (0.00027094445327376657-7.849884454486227e-05j), 0.0, (0.0002512919866755189-7.024324268832874e-05j), 0.0, (0.00021738092777959212-5.609137300648745e-05j), 0.0, (0.00015798140510481738-3.421737656307871e-05j), 0.0, (7.192607227785025e-05-8.14164473063633e-06j), 0.0, (-1.6391805321537432e-05+1.1595445307788438e-05j), 0.0, (-6.0842902421992335e-05+1.427833438595358e-05j), 0.0, (-3.51766787113729e-05+1.8362821291335775e-06j), 0.0, (2.2328640904269448e-05-8.882470419353908e-06j), 0.0, (3.720198862288632e-05-4.828754740986966e-06j), 0.0, (-4.422997044297867e-06+5.252018645900253e-06j), 0.0, (-3.069071621773588e-05+4.530908299015422e-06j), 0, 0]\n",
      "1   [(0.0005013339177905622-0.0003938107509914181j), 0.0, (0.0003544957503532768-0.00027846557497075513j), 0.0, (0.00030699371333039956-0.00024115149704831065j), 0.0, (0.0002801817606335362-0.00022009001516487423j), 0.0, (0.00026172346843529473-0.00020559054952998523j), 0.0, (0.00024668222913051374-0.00019377526726749127j), 0.0, (0.00023051219146037874-0.00018107328471163385j), 0.0, (0.00020626958143461793-0.00016203008790916792j), 0.0, (0.00016471255581803593-0.0001293859701140646j), 0.0, (0.0001004794720650001-7.892922251805367e-05j), 0.0, (2.390797444003471e-05-1.8780331900158822e-05j), 0.0, (-3.405007455020201e-05+2.6747213691475596e-05j), 0.0, (-4.192838975902681e-05+3.293583392807912e-05j), 0.0, (-5.3922502959161684e-06+4.235751987272423e-06j), 0.0, (2.6083412231336693e-05-2.048919451632366e-05j), 0.0, (1.417965887043684e-05-1.1138488561034635e-05j), 0.0, (-1.542257513058484e-05+1.2114831410498115e-05j), 0.0, (-1.3305031524574449e-05+1.0451446173338874e-05j), 0, 0]\n",
      "2   [(0.00040885861556282983-0.0006036022152740549j), 0.0, (0.00028910536757333815-0.0004268036204336535j), 0.0, (0.00025035969936384935-0.0003695680824348003j), 0.0, (0.0002284536747373153-0.0003370571928043239j), 0.0, (0.0002131939106897525-0.00031388720397509235j), 0.0, (0.0002001057403562884-0.0002927272994634833j), 0.0, (0.0001843979054551671-0.0002656474755898963j), 0.0, (0.00015875258362179704-0.00022222898758326217j), 0.0, (0.00011494835649368826-0.00015401557574450271j), 0.0, (5.218065720122829e-05-6.611038767120463e-05j), 0.0, (-1.186351770581873e-05+1.3662477153477275e-05j), 0.0, (-4.394774827298457e-05+4.7338806395549395e-05j), 0.0, (-2.5366263759313856e-05+2.4165099754480212e-05j), 0.0, (1.607845912298236e-05-1.6591434071717207e-05j), 0.0, (2.6755482408372323e-05-2.2980158190408523e-05j), 0.0, (-3.177574891099879e-06+4.49059433583062e-06j), 0.0, (-2.202797218062858e-05+1.7183526127084175e-05j), 0, 6.407671966336419e-06j, 0, 0]\n",
      "3   [(0.0006140046506791281-0.0004823165240082282j), 0.0, (0.00043415467295512914-0.00034103971771229634j), 0.0, (0.00037590327769929707-0.0002952817410465711j), 0.0, (0.00034267645864317735-0.0002691812158253494j), 0.0, (0.00031846538840926925-0.00025016279434462985j), 0.0, (0.0002948721860883376-0.00023162972408031135j), 0.0, (0.00026216406265622066-0.0002059366476790792j), 0.0, (0.00020834673424505293-0.00016366174513237434j), 0.0, (0.00012662946322786406-9.947071650603587e-05j), 0.0, (3.0041845600879356e-05-2.359864624637861e-05j), 0.0, (-4.268402736849154e-05+3.3529406802166975e-05j), 0.0, (-5.245604173263292e-05+4.12055766739392e-05j), 0.0, (-6.734918450936839e-06+5.290452528562838e-06j), 0.0, (3.253173064871755e-05-2.5554515310440396e-05j), 0.0, (1.7663348541410143e-05-1.3875016844605058e-05j), 0.0, (-1.919095856718591e-05+1.5074994005783477e-05j), 0.0, (-1.6540324708268304e-05+1.299285259555537e-05j), 0, 0, 0, 0]\n",
      "4   [(0.0003540803162272261-0.0009409071544882342j), 0.0, (0.00025035969936384946-0.0006652292880845745j), 0.0, (0.00021673018560155595-0.0005756043707088889j), 0.0, (0.00019737920766568632-0.000523236928347414j), 0.0, (0.00018267071313235418-0.0004815205735167284j), 0.0, (0.00016679418123334547-0.0004339506575240923j), 0.0, (0.0001426736511357363-0.0003626274955383863j), 0.0, (0.00010281293560864216-0.0002532430640772512j), 0.0, (4.649989456705303e-05-0.00011256273015543333j), 0.0, (-1.0541012098656894e-05+1.6822222807011738e-05j), 0.0, (-3.895551525396421e-05+7.478083167054833e-05j), 0.0, (-2.2440309288803853e-05+4.158397284429021e-05j), 0.0, (1.4200110619274352e-05-2.365742451318126e-05j), 0.0, (2.3596117489485994e-05-3.7470453247774536e-05j), 0.0, (-2.798904415922695e-06+4.587388158933471e-06j), 0.0, (-1.93820314853438e-05+2.7377581270569583e-05j), 0, 1.1265316335505587e-05j, 0, 0, 0, 0]\n",
      "5   [(0.000686458811671857-0.0005392311402758627j), 0.0, (0.00048528904477138606-0.0003812070885041667j), 0.0, (0.0004196912352698632-0.00032967831355704895j), 0.0, (0.0003806389433095479-0.0002990017287917375j), 0.0, (0.0003475102039439413-0.0002729782477025948j), 0.0, (0.0003061416689624296-0.00024048219417347822j), 0.0, (0.00024173194455445122-0.00018988669077717123j), 0.0, (0.00014621910936395634-0.00011485888990254142j), 0.0, (3.456156566405253e-05-2.714900318251709e-05j), 0.0, (-4.896193731560911e-05+3.8460867338143914e-05j), 0.0, (-6.002777081356189e-05+4.715336558238861e-05j), 0.0, (-7.691818915572894e-06+6.042122577665304e-06j), 0.0, (3.7091879860046984e-05-2.913663038747534e-05j), 0.0, (2.0110606996217228e-05-1.5797401618021274e-05j), 0.0, (-2.1822942078552425e-05+1.7142485085932752e-05j), 0.0, (-1.8788546383695307e-05+1.4758888834030996e-05j), 0, 0, 0, 0, 0, 0]\n",
      "6   [(0.000323212982065895-0.0012405042932540525j), 0.0, (0.00022845367473731516-0.0008764233689210085j), 0.0, (0.0001973792076656858-0.0007558707741932801j), 0.0, (0.0001782683622714253-0.0006790497203214502j), 0.0, (0.00016049777572388934-0.0006039219804823188j), 0.0, (0.00013603398882897525-0.0005010770221317339j), 0.0, (9.739787425893872e-05-0.0003493097228939983j), 0.0, (4.384052103055125e-05-0.00015670648394951143j), 0.0, (-9.901556743681638e-06+2.0200445193178258e-05j), 0.0, (-3.64851828691988e-05+0.00010077691086403119j), 0.0, (-2.096717444135686e-05+5.7733915173567636e-05j), 0.0, (1.3241671417035392e-05-3.0457184067756144e-05j), 0.0, (2.1966789940226003e-05-5.089901443576403e-05j), 0.0, (-2.6019237566377707e-06+4.852000214287408e-06j), 0.0, (-1.7995764254960288e-05+3.680080031680584e-05j), 0, 1.5672496125996485e-05j, 0, 0, 0, 0, 0, 0]\n",
      "7   [(0.000741291260532564-0.0005823034461746918j), 0.0, (0.0005234469368705889-0.00041118109905997j), 0.0, (0.0004503780714348025-0.00035378361656332577j), 0.0, (0.00040127021958634933-0.0003152081295880084j), 0.0, (0.0003485576232518632-0.00027380102264284523j), 0.0, (0.0002727104128847269-0.00021422107838747905j), 0.0, (0.00016389657223431122-0.00012874499391736223j), 0.0, (3.855504059406729e-05-3.0285980964083258e-05j), 0.0, (-5.441815085297842e-05+4.274686410491085e-05j), 0.0, (-6.652177177339465e-05+5.2254571194411687e-05j), 0.0, (-8.503625758732483e-06+6.679817836692657e-06j), 0.0, (4.0925495100737845e-05-3.214803425099633e-05j), 0.0, (2.215211733981275e-05-1.7401060762232554e-05j), 0.0, (-2.4004011486116277e-05+1.8855771482238287e-05j), 0.0, (-2.0640879555716165e-05+1.6213944420085707e-05j), 0, 0, 0, 0, 0, 0, 0, 0]\n",
      "8   [(0.0003022158047268879-0.001516156330586357j), 0.0, (0.00021319391068975235-0.0010677070202753177j), 0.0, (0.00018267071313235418-0.00091011723683778j), 0.0, (0.00016049777572388647-0.0007902747460703753j), 0.0, (0.000134131321854257-0.0006472213896292588j), 0.0, (9.515854333059566e-05-0.0004481678877849398j), 0.0, (4.2557104831964106e-05-0.000201219528761219j), 0.0, (-9.56581260987186e-06+2.3765049785563557e-05j), 0.0, (-3.5118207913984184e-05+0.00012658773294731834j), 0.0, (-2.012250909387763e-05+7.352731951687433e-05j), 0.0, (1.267793517327743e-05-3.719959138900842e-05j), 0.0, (2.0989994586440528e-05-6.393943458884789e-05j), 0.0, (-2.4820771074726977e-06+5.188917043149881e-06j), 0.0, (-1.7142393268824572e-05+4.589732523323987e-05j), 0, 1.9881198333939192e-05j, 0, 0, 0, 0, 0, 0, 0, 0]\n",
      "9   [(0.0007851704053058846-0.0006167716485899561j), 0.0, (0.0005515982331770098-0.00043329466996830217j), 0.0, (0.0004662338633360772-0.00036623875094506374j), 0.0, (0.0003952271951572115-0.0003104611776977666j), 0.0, (0.0003048995106911296-0.00023950644674384738j), 0.0, (0.00018156846098444062-0.00014262671931666507j), 0.0, (4.243749765615629e-05-3.3335751340784434e-05j), 0.0, (-5.9612097520433004e-05+4.6826843466239766e-05j), 0.0, (-7.260254773065693e-05+5.703117788580338e-05j), 0.0, (-9.253767787942495e-06+7.2690737904397e-06j), 0.0, (4.442954812071355e-05-3.4900558471563544e-05j), 0.0, (2.400121388523855e-05-1.885357389443595e-05j), 0.0, (-2.5964308853247564e-05+2.0395635734229667e-05j), 0.0, (-2.2294697969598873e-05+1.7513061532378652e-05j), 0, 0, 0, 0, 0, 0, 0, 0, 0, 0]\n",
      "10   [(0.0002860296460147838-0.0017695977568403538j), 0.0, (0.00020010574035629044-0.0012317355417530282j), 0.0, (0.0001667941812333399-0.0010149410821572225j), 0.0, (0.00013603398882898064-0.0008117275647396765j), 0.0, (9.515854333057991e-05-0.0005550572347937723j), 0.0, (4.216844733170012e-05-0.0002480340258631282j), 0.0, (-9.417496454391334e-06+2.7580254025313175e-05j), 0.0, (-3.440867602845903e-05+0.00015301895898226284j), 0.0, (-1.9643332997218926e-05+8.946416858315366e-05j), 0.0, (1.2339795969436845e-05-4.40320676939741e-05j), 0.0, (2.0381459206458747e-05-7.694578342192778e-05j), 0.0, (-2.4053497218320865e-06+5.5715936264457745e-06j), 0.0, (-1.658476754586298e-05+5.4893303753535106e-05j), 0, 2.400882786881485e-05j, 0, 0, 0, 0, 0, 0, 0, 0, 0, 0]\n",
      "11   [(0.000818152396474393-0.0006426798551771049j), 0.0, (0.0005646372485686784-0.0004435371535932119j), 0.0, (0.00045408147643925193-0.0003566927369205821j), 0.0, (0.00034186059444766333-0.00026854033341117253j), 0.0, (0.00020073148628254982-0.00015767977101756477j), 0.0, (4.6487949500331743e-05-3.65174859611731e-05j), 0.0, (-6.488182952494669e-05+5.096635416874129e-05j), 0.0, (-7.864345146974326e-05+6.17764639191938e-05j), 0.0, (-9.986808744342755e-06+7.844896409463164e-06j), 0.0, (4.780864510116302e-05-3.755492649319732e-05j), 0.0, (2.57650650235899e-05-2.023912455594416e-05j), 0.0, (-2.7817289184187045e-05+2.1851199680342832e-05j), 0.0, (-2.3845949271639504e-05+1.8731609527146974e-05j), 0, 0, 0, 0, 0, 0, 0, 0, 0, 0, 0, 0]\n",
      "12   [(0.00027094445327376657-0.0019856336002023545j), 0.0, (0.00018439790545517098-0.00133616261186621j), 0.0, (0.00014267365113573377-0.0010142535710907729j), 0.0, (9.7397874258917e-05-0.000677523926743892j), 0.0, (4.255710483186429e-05-0.0002994206753939114j), 0.0, (-9.417496454531715e-06+3.17639309624438e-05j), 0.0, (-3.4187396075206266e-05+0.00018083729644422612j), 0.0, (-1.9423847525698592e-05+0.00010595465350927733j), 0.0, (1.2156974053295031e-05-5.108842184898956e-05j), 0.0, (2.0020696890536484e-05-9.01808337402262e-05j), 0.0, (-2.3571414135664275e-06+5.992121999795818e-06j), 0.0, (-1.622022235107762e-05+6.394512885314553e-05j), 0, 2.8130315523093415e-05j, 0, 0, 0, 0, 0, 0, 0, 0, 0, 0, 0, 0]\n",
      "13   [(0.0008311235259299765-0.0006528690126444922j), 0.0, (0.0005457380155134014-0.00042869131751760496j), 0.0, (0.000389781048599071-0.0003061830888033969j), 0.0, (0.0002233533789029943-0.0001754498524055673j), 0.0, (5.1003524599811893e-05-4.006458692119098e-05j), 0.0, (-7.053398499271953e-05+5.5406268386581525e-05j), 0.0, (-8.494463610119675e-05+6.672620732132472e-05j), 0.0, (-1.0735496807503046e-05+8.433010235295784e-06j), 0.0, (5.120345673240226e-05-4.0221638779221494e-05j), 0.0, (2.7513794760809446e-05-2.1612796966002706e-05j), 0.0, (-2.963449608165712e-05+2.32786626697878e-05j), 0.0, (-2.5353467458376653e-05+1.9915804029423185e-05j), 0, 0, 0, 0, 0, 0, 0, 0, 0, 0, 0, 0, 0, 0]\n",
      "14   [(0.0002512919866755189-0.002112655951096362j), 0.0, (0.0001587525836218073-0.0013098228308662933j), 0.0, (0.0001028129356086257-0.0008306797905460294j), 0.0, (4.384052103050772e-05-0.00035903178080506627j), 0.0, (-9.565812609865056e-06+3.651374679260559e-05j), 0.0, (-3.4408676028030484e-05+0.00021099659421676013j), 0.0, (-1.9423847524837244e-05+0.0001234447694822513j), 0.0, (1.2098945214720806e-05-5.851648286751047e-05j), 0.0, (1.9851742867626548e-05-0.00010389364678316918j), 0.0, (-2.3304054682865107e-06+6.450314934210354e-06j), 0.0, (-1.599801683954703e-05+7.318701259806441e-05j), 0, 3.230507446145293e-05j, 0, 0, 0, 0, 0, 0, 0, 0, 0, 0, 0, 0, 0, 0]\n",
      "15   [(0.0007988786537252479-0.0006275398320565725j), 0.0, (0.0004658774606621451-0.00036595878743233125j), 0.0, (0.00025325892645561055-0.0001989414330119794j), 0.0, (5.6438800392918776e-05-4.433413654863729e-05j), 0.0, (-7.695888697539873e-05+6.045319496596801e-05j), 0.0, (-9.183576590310898e-05+7.21393679038571e-05j), 0.0, (-1.1531773418484959e-05+9.058506095519409e-06j), 0.0, (5.473879777859226e-05-4.2998740553118425e-05j), 0.0, (2.9305146491519742e-05-2.3019950053648986e-05j), 0.0, (-3.147149362545684e-05+2.47216717234768e-05j), 0.0, (-2.6860906399580124e-05+2.1099936282284337e-05j), 0, 0, 0, 0, 0, 0, 0, 0, 0, 0, 0, 0, 0, 0, 0, 0]\n",
      "16   [(0.00021738092777959212-0.0020417569775718707j), 0.0, (0.0001149483564936775-0.0010578470169071838j), 0.0, (4.6499894567063495e-05-0.00043446030633248624j), 0.0, (-9.901556743466664e-06+4.219403702237184e-05j), 0.0, (-3.5118207913800995e-05+0.0002449340852920459j), 0.0, (-1.964333299677326e-05+0.00014252742055580837j), 0.0, (1.2156974059636887e-05-6.650585612159979e-05j), 0.0, (1.985174287814729e-05-0.00011836749335225431j), 0.0, (-2.321822026880227e-06+6.950777582830386e-06j), 0.0, (-1.5892418194314233e-05+8.275502564886834e-05j), 0, 3.6588956140433236e-05j, 0, 0, 0, 0, 0, 0, 0, 0, 0, 0, 0, 0, 0, 0, 0, 0]\n",
      "17   [(0.0006791272655030976-0.0005334720212532124j), 0.0, (0.00030143841619531845-0.00023678766755441091j), 0.0, (6.372837823124496e-05-5.006028836292747e-05j), 0.0, (-8.480456306733436e-05+6.66161763325935e-05j), 0.0, (-9.978265765867608e-05+7.83818567905053e-05j), 0.0, (-1.2415232291890193e-05+9.75248587637895e-06j), 0.0, (5.85533928676827e-05-4.599520359592108e-05j), 0.0, (3.1197710928188063e-05-2.450660833798906e-05j), 0.0, (-3.338055981336192e-05+2.6221292559953502e-05j), 0.0, (-2.8406866459290535e-05+2.2314327869433314e-05j), 0, 0, 0, 0, 0, 0, 0, 0, 0, 0, 0, 0, 0, 0, 0, 0, 0, 0]\n",
      "18   [(0.00015798140510481738-0.0016313284478484864j), 0.0, (5.218065720136971e-05-0.0005477409299288408j), 0.0, (-1.054101209886819e-05+4.9601775861169556e-05j), 0.0, (-3.648518286877688e-05+0.00028520638050949515j), 0.0, (-2.0122509094266904e-05+0.00016412343265129127j), 0.0, (1.2339795970966652e-05-7.533064465763112e-05j), 0.0, (2.0020696885783368e-05-0.0001339719244651309j), 0.0, (-2.3304054409251057e-06+7.502631994135075e-06j), 0.0, (-1.589241815020414e-05+9.280612653696064e-05j), 0, 4.104204071815908e-05j, 0, 0, 0, 0, 0, 0, 0, 0, 0, 0, 0, 0, 0, 0, 0, 0, 0, 0]\n",
      "19   [(0.0004379798646317823-0.000344044504648532j), 0.0, (7.560365347166079e-05-5.938862401846885e-05j), 0.0, (-9.544438674715382e-05+7.497403285311806e-05j), 0.0, (-0.00010959521383480221+8.60898733035234e-05j), 0.0, (-1.3445412879942177e-05+1.056171935658209e-05j), 0.0, (6.283286953932971e-05-4.93568431381625e-05j), 0.0, (3.326255596311975e-05-2.6128597485404083e-05j), 0.0, (-3.5419997239075485e-05+2.782332337358736e-05j), 0.0, (-3.0031406201600318e-05+2.3590445828405497e-05j), 0, 0, 0, 0, 0, 0, 0, 0, 0, 0, 0, 0, 0, 0, 0, 0, 0, 0, 0, 0]\n",
      "20   [(7.192607227785025e-05-0.0008379940041089457j), 0.0, (-1.1863517705877416e-05+6.109526687623874e-05j), 0.0, (-3.89555152529056e-05+0.0003373365489334206j), 0.0, (-2.0967174440730362e-05+0.00018989249931744234j), 0.0, (1.2677935177449296e-05-8.543393789594161e-05j), 0.0, (2.03814592092441e-05-0.00015124608809693167j), 0.0, (-2.357141368315545e-06+8.120903021254219e-06j), 0.0, (-1.599801672776119e-05+0.00010354067135103577j), 0, 4.573619499010796e-05j, 0, 0, 0, 0, 0, 0, 0, 0, 0, 0, 0, 0, 0, 0, 0, 0, 0, 0, 0, 0]\n",
      "21   [(0.00010956010258898725-8.606229251237411e-05j), 0.0, (-0.00011293132136930734+8.871047200416914e-05j), 0.0, (-0.00012302032242572772+9.663564311625406e-05j), 0.0, (-1.472871186717427e-05+1.1569783881989932e-05j), 0.0, (6.786725581995615e-05-5.331148369129308e-05j), 0.0, (3.5599553163284e-05-2.796436919324613e-05j), 0.0, (-3.766478729198126e-05+2.9586663983871375e-05j), 0.0, (-3.178225283917951e-05+2.4965781118414558e-05j), 0, 0, 0, 0, 0, 0, 0, 0, 0, 0, 0, 0, 0, 0, 0, 0, 0, 0, 0, 0, 0, 0]\n",
      "22   [(-1.6391805321537432e-05+9.169722191245121e-05j), 0.0, (-4.394774827268383e-05+0.0004175923024475369j), 0.0, (-2.24403092916739e-05+0.00022344045119293457j), 0.0, (1.3241671421110325e-05-9.76293598597275e-05j), 0.0, (2.0989994583591936e-05-0.0001710656304424583j), 0.0, (-2.40534973784358e-06+8.83007320977301e-06j), 0.0, (-1.6220222257069042e-05+0.00011523722587676448j), 0, 5.076511605935487e-05j, 0, 0, 0, 0, 0, 0, 0, 0, 0, 0, 0, 0, 0, 0, 0, 0, 0, 0, 0, 0, 0, 0]\n",
      "23   [(-0.00016329842090115332+0.00012827513058404625j), 0.0, (-0.00014524420268485463+0.00011409307550654841j), 0.0, (-1.6497113682153736e-05+1.2958909217616212e-05j), 0.0, (7.418375973483657e-05-5.8273260786531377e-05j), 0.0, (3.8368592698254905e-05-3.0139521322584755e-05j), 0.0, (-4.0223734270933414e-05+3.159678297994808e-05j), 0.0, (-3.372326406363649e-05+2.6490495606823676e-05j), 0, 0, 0, 0, 0, 0, 0, 0, 0, 0, 0, 0, 0, 0, 0, 0, 0, 0, 0, 0, 0, 0, 0, 0]\n",
      "24   [(-6.0842902421992335e-05+0.0006293896395007104j), 0.0, (-2.536626376055107e-05+0.0002754154164601398j), 0.0, (1.4200110608389424e-05-0.00011370009119588269j), 0.0, (2.1966789955887405e-05-0.00019504230221397732j), 0.0, (-2.4820771258410595e-06+9.672142754344775e-06j), 0.0, (-1.6584767497965344e-05+0.00012831612718895976j), 0, 5.626062970490956e-05j, 0, 0, 0, 0, 0, 0, 0, 0, 0, 0, 0, 0, 0, 0, 0, 0, 0, 0, 0, 0, 0, 0, 0, 0]\n",
      "25   [(-0.00020964194879379027+0.00016467916963934005j), 0.0, (-1.9442034905469087e-05+1.5272220959370096e-05j), 0.0, (8.293996474609028e-05-6.515148615479223e-05j), 0.0, (4.186356687018585e-05-3.288491387334117e-05j), 0.0, (-4.327384738526788e-05+3.399272567111591e-05j), 0.0, (-3.5949121034303e-05+2.823896379162312e-05j), 0, 0, 0, 0, 0, 0, 0, 0, 0, 0, 0, 0, 0, 0, 0, 0, 0, 0, 0, 0, 0, 0, 0, 0, 0, 0]\n",
      "26   [(-3.51766787113729e-05+0.00041360714592402674j), 0.0, (1.6078459136655345e-05-0.0001389353265035776j), 0.0, (2.3596117511831916e-05-0.00022671289889618452j), 0.0, (-2.60192377075866e-06+1.0726622546409652e-05j), 0.0, (-1.714239333687178e-05+0.0001434721142473237j), 0, 6.242295375086764e-05j, 0, 0, 0, 0, 0, 0, 0, 0, 0, 0, 0, 0, 0, 0, 0, 0, 0, 0, 0, 0, 0, 0, 0, 0, 0, 0]\n",
      "27   [(-2.8018954530433266e-05+2.2009613022500443e-05j), 0.0, (9.75951920464085e-05-7.666354601007477e-05j), 0.0, (4.673282750326159e-05-3.670984396212401e-05j), 0.0, (-4.714294294349392e-05+3.703200024116225e-05j), 0.0, (-3.861554977603343e-05+3.0333512490569607e-05j), 0, 0, 0, 0, 0, 0, 0, 0, 0, 0, 0, 0, 0, 0, 0, 0, 0, 0, 0, 0, 0, 0, 0, 0, 0, 0, 0, 0]\n",
      "28   [(2.2328640904269448e-05-0.0002071022310056737j), 0.0, (2.6755482366209608e-05-0.0002765756063545043j), 0.0, (-2.7989044003993895e-06+1.2170626380090808e-05j), 0.0, (-1.7995764300370998e-05+0.00016199569974998035j), 0, 6.958419425249808e-05j, 0, 0, 0, 0, 0, 0, 0, 0, 0, 0, 0, 0, 0, 0, 0, 0, 0, 0, 0, 0, 0, 0, 0, 0, 0, 0, 0, 0]\n",
      "29   [(0.00014046347367098873-0.00011033768929303568j), 0.0, (5.491758236131388e-05-4.3139180464101475e-05j), 0.0, (-5.255660423200136e-05+4.1284571116550204e-05j), 0.0, (-4.201246654868226e-05+3.3001878419585075e-05j), 0, 0, 0, 0, 0, 0, 0, 0, 0, 0, 0, 0, 0, 0, 0, 0, 0, 0, 0, 0, 0, 0, 0, 0, 0, 0, 0, 0, 0, 0]\n",
      "30   [(3.720198862288632e-05-0.0004116866342590847j), 0.0, (-3.1775749537963685e-06+1.4534653302044807e-05j), 0.0, (-1.938203129517658e-05+0.00018673280215877354j), 0, 7.836247995166118e-05j, 0, 0, 0, 0, 0, 0, 0, 0, 0, 0, 0, 0, 0, 0, 0, 0, 0, 0, 0, 0, 0, 0, 0, 0, 0, 0, 0, 0, 0, 0]\n",
      "31   [(7.89489993737312e-05-6.201647969563206e-05j), 0.0, (-6.16903007373354e-05+4.8459325810877414e-05j), 0.0, (-4.678310275481873e-05+3.674933647174566e-05j), 0, 0, 0, 0, 0, 0, 0, 0, 0, 0, 0, 0, 0, 0, 0, 0, 0, 0, 0, 0, 0, 0, 0, 0, 0, 0, 0, 0, 0, 0, 0, 0]\n",
      "32   [(-4.422997044297867e-06+2.123000206248626e-05j), 0.0, (-2.2027972195681853e-05+0.00022615616787977186j), 0, 9.01225301019724e-05j, 0, 0, 0, 0, 0, 0, 0, 0, 0, 0, 0, 0, 0, 0, 0, 0, 0, 0, 0, 0, 0, 0, 0, 0, 0, 0, 0, 0, 0, 0, 0, 0]\n",
      "33   [(-8.859594810351935e-05+6.959440727890141e-05j), 0.0, (-5.4858051005458994e-05+4.309241704530054e-05j), 0, 0, 0, 0, 0, 0, 0, 0, 0, 0, 0, 0, 0, 0, 0, 0, 0, 0, 0, 0, 0, 0, 0, 0, 0, 0, 0, 0, 0, 0, 0, 0, 0, 0]\n",
      "34   [(-3.069071621773588e-05+0.00033450481513001525j), 0, 0.00010893042477294798j, 0, 0, 0, 0, 0, 0, 0, 0, 0, 0, 0, 0, 0, 0, 0, 0, 0, 0, 0, 0, 0, 0, 0, 0, 0, 0, 0, 0, 0, 0, 0, 0, 0, 0]\n",
      "35   [(-7.871362801603795e-05+6.183158941024396e-05j), 0, 0, 0, 0, 0, 0, 0, 0, 0, 0, 0, 0, 0, 0, 0, 0, 0, 0, 0, 0, 0, 0, 0, 0, 0, 0, 0, 0, 0, 0, 0, 0, 0, 0, 0, 0]\n",
      "36   [0.00016083128992130043j, 0, 0, 0, 0, 0, 0, 0, 0, 0, 0, 0, 0, 0, 0, 0, 0, 0, 0, 0, 0, 0, 0, 0, 0, 0, 0, 0, 0, 0, 0, 0, 0, 0, 0, 0, 0]\n"
     ]
    }
   ],
   "source": [
    "pl.show_modes(modes_list[0])"
   ]
  },
  {
   "cell_type": "code",
   "execution_count": null,
   "metadata": {},
   "outputs": [],
   "source": [
    "f = pl.calculate(params,plane,m,0)\n"
   ]
  },
  {
   "cell_type": "code",
   "execution_count": null,
   "metadata": {
    "scrolled": false
   },
   "outputs": [],
   "source": [
    "pl.intslicex(0,f, xlim=[-1.5e-3,1.5e-3], labels=\"alpha\")"
   ]
  },
  {
   "cell_type": "code",
   "execution_count": null,
   "metadata": {},
   "outputs": [],
   "source": [
    "pl.show_modes(m)"
   ]
  },
  {
   "cell_type": "code",
   "execution_count": null,
   "metadata": {},
   "outputs": [],
   "source": [
    "pl.show_modes(modes)"
   ]
  },
  {
   "cell_type": "markdown",
   "metadata": {
    "slideshow": {
     "slide_type": "skip"
    }
   },
   "source": [
    "### Input Parameters"
   ]
  },
  {
   "cell_type": "code",
   "execution_count": null,
   "metadata": {
    "slideshow": {
     "slide_type": "fragment"
    }
   },
   "outputs": [],
   "source": [
    "#spot, wavelength, shift\n",
    "w= 1e-3\n",
    "lam= 1064e-9\n",
    "a = 100e-6  #100 micron shift\n",
    "k = 2*pi/lam\n",
    "#z0 = 0.00023067 # for tophat with 1e-3 radius\n",
    "\n",
    "#alpha(10nrad)\n",
    "alpha_min=-500e-6\n",
    "alpha_max=500e-6\n",
    "num_points = 101\n",
    "alpha = np.linspace(alpha_min,alpha_max,num = num_points)\n",
    "\n",
    "## PLOT SCALES AND LABELS\n",
    "micro = 10**(6)\n",
    "nano = 10**(9)\n",
    "cycle = 1/(2*pi)\n",
    "rad = 1\n",
    "xlab = 'u'\n",
    "ylab = 'rad'\n",
    "\n",
    "##SET SCALES\n",
    "alpha_scale = micro\n",
    "phase_scale = rad\n",
    "\n",
    "if(alpha_scale==nano):\n",
    "    xlab = 'n'\n",
    "if(phase_scale==cycle):\n",
    "    ylab = 'cycles'"
   ]
  },
  {
   "cell_type": "code",
   "execution_count": null,
   "metadata": {
    "scrolled": false
   },
   "outputs": [],
   "source": [
    "plt.figure()\n",
    "\n",
    "plt.plot(plane.getX(),(abs(f.amp))**2)\n",
    "\n",
    "plt.grid()"
   ]
  },
  {
   "cell_type": "code",
   "execution_count": null,
   "metadata": {},
   "outputs": [],
   "source": []
  }
 ],
 "metadata": {
  "kernelspec": {
   "display_name": "Python 3",
   "language": "python",
   "name": "python3"
  },
  "language_info": {
   "codemirror_mode": {
    "name": "ipython",
    "version": 3
   },
   "file_extension": ".py",
   "mimetype": "text/x-python",
   "name": "python",
   "nbconvert_exporter": "python",
   "pygments_lexer": "ipython3",
   "version": "3.7.3"
  }
 },
 "nbformat": 4,
 "nbformat_minor": 2
}
