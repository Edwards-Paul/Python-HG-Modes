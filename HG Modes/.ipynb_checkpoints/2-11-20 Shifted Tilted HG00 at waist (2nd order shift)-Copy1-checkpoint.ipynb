{
 "cells": [
  {
   "cell_type": "markdown",
   "metadata": {
    "slideshow": {
     "slide_type": "slide"
    }
   },
   "source": [
    "# 2nd-order shift\n",
    "\n"
   ]
  },
  {
   "cell_type": "code",
   "execution_count": 1,
   "metadata": {
    "slideshow": {
     "slide_type": "skip"
    }
   },
   "outputs": [],
   "source": [
    "import PauLisa as pl, numpy as np, matplotlib.pyplot as plt\n",
    "from scipy.special import erfi as erfi\n",
    "pi=np.pi"
   ]
  },
  {
   "cell_type": "markdown",
   "metadata": {
    "slideshow": {
     "slide_type": "skip"
    }
   },
   "source": [
    "### input"
   ]
  },
  {
   "cell_type": "code",
   "execution_count": 2,
   "metadata": {
    "slideshow": {
     "slide_type": "fragment"
    }
   },
   "outputs": [],
   "source": [
    "#spot, wavelength, shift\n",
    "w= 1e-3\n",
    "lam= 1064e-9\n",
    "a = 100e-6  #100 micron shift\n",
    "\n",
    "#alpha(10nrad)\n",
    "alpha_min=-1000e-6\n",
    "alpha_max=1000e-6\n",
    "num_points = 1000\n",
    "alpha = np.linspace(alpha_min,alpha_max,num = num_points)\n",
    "\n",
    "## PLOT SCALES AND LABELS\n",
    "micro = 10**(6)\n",
    "nano = 10**(9)\n",
    "cycle = 1/(2*pi)\n",
    "rad = 1\n",
    "xlab = 'u'\n",
    "ylab = 'rad'\n",
    "\n",
    "##SET SCALES\n",
    "alpha_scale = micro\n",
    "phase_scale = rad\n",
    "\n",
    "if(alpha_scale==nano):\n",
    "    xlab = 'n'\n",
    "if(phase_scale==cycle):\n",
    "    ylab = 'cycles'"
   ]
  },
  {
   "cell_type": "markdown",
   "metadata": {
    "slideshow": {
     "slide_type": "skip"
    }
   },
   "source": [
    "### phase diff vs. angle"
   ]
  },
  {
   "cell_type": "markdown",
   "metadata": {
    "slideshow": {
     "slide_type": "slide"
    }
   },
   "source": [
    "# Phase diff of incoming tilted,shifted Gaussian on local Gaussian for inf. half-plane PD\n",
    "\n",
    "The DWS for second-order shift:\n",
    "\n",
    "\\begin{align*}\n",
    "\t\\Delta \\phi = &\n",
    "\t\t \\frac{1}{2} \n",
    "\t\t \\left[\n",
    "\t\t \t\\phi_R - \\phi_L\n",
    "\t\t \\right]\n",
    "\t\t \\\\ = &\n",
    "\t\t \\frac{1}{2}\n",
    "\t\t \\left[\n",
    "\t\t\t\t\t\t\t\\arctan\n",
    "\t\t\t\t\\left[\n",
    "\t\t\t\t\t\\frac\n",
    "\t\t\t\t\t{ \\frac{\\pi \\alpha}{\\lambda}\n",
    "\t\t\t\t\t\\left[\n",
    "\t\t\t\t\t\ta \n",
    "\t\t\t\t\t\t+\n",
    "\t\t\t\t\t\t\\sqrt{\\frac{2}{\\pi}} w_0\n",
    "\t\t\t\t\t\\right]\n",
    "\t\t\t\t\t+\n",
    "\\big( \\frac{\\sqrt{2 \\pi}  a^2 \\alpha}{ 4\\lambda  w_0} \\big)  \n",
    "+\n",
    "\\frac{3\\sqrt{2 \\pi} a^2}{4w_0^2}[ \\frac{ w_{0} \\alpha}{\\lambda}\n",
    "\t\t ]\t\t\t\t\t\n",
    "\t\t\t\t\t}\t\t\t\t\t\n",
    "\t\t\t\t{1\n",
    "\t\t\t\t+\n",
    "\t\t\t\t \\sqrt{\\frac{2}{\\pi}} \\frac{a}{w_0}\n",
    "\t\t\t\t \t\t+\n",
    "\t\t\t\ta^2 \\frac{3}{2 w_0^2}\n",
    "\t\t\t\t }\n",
    "\t\t\t\t\\right]\n",
    "\t\t-\n",
    "\t\t\t\t\t\t\\arctan\n",
    "\t\t\t\t\\left[\n",
    "\t\t\t\t\t\\frac\n",
    "\t\t\t\t\t{ \\frac{\\pi \\alpha}{\\lambda}\n",
    "\t\t\t\t\t\\left[\n",
    "\t\t\t\t\t\ta \n",
    "\t\t\t\t\t\t+\n",
    "\t\t\t\t\t\t\\sqrt{\\frac{2}{\\pi}} w_0\n",
    "\t\t\t\t\t\\right]\n",
    "\t\t\t\t\t-\n",
    "\\big( \\frac{\\sqrt{2 \\pi}  a^2 \\alpha}{ 4\\lambda  w_0} \\big)  \n",
    "-\n",
    "\\frac{3\\sqrt{2 \\pi} a^2}{4w_0^2}[ \\frac{ w_{0} \\alpha}{\\lambda}\n",
    "\t\t ]\t\t\t\t\t\n",
    "\t\t\t\t\t}\t\t\t\t\t\n",
    "\t\t\t\t{1\n",
    "\t\t\t\t+\n",
    "\t\t\t\t \\sqrt{\\frac{2}{\\pi}} \\frac{a}{w_0}\n",
    "\t\t\t\t \t\t+\n",
    "\t\t\t\ta^2 \\frac{3}{2 w_0^2}\n",
    "\t\t\t\t }\n",
    "\t\t\t\t\\right]\n",
    "\t\t\t\\right]\t\t\t\t\t\t\t \t\n",
    "\\end{align*}"
   ]
  },
  {
   "cell_type": "code",
   "execution_count": 3,
   "metadata": {
    "slideshow": {
     "slide_type": "slide"
    }
   },
   "outputs": [
    {
     "data": {
      "image/png": "[encoded data removed]",
      "text/plain": [
       "<Figure size 648x432 with 1 Axes>"
      ]
     },
     "metadata": {
      "needs_background": "light"
     },
     "output_type": "display_data"
    }
   ],
   "source": [
    "#signals    \n",
    "def phase_diff(alpha,a):\n",
    "    phase_result=(0.50*(phi_r(alpha,a)-phi_l(alpha,a) ))\n",
    "    return(phase_result)\n",
    "\n",
    "def gws(alpha,a):\n",
    "    gws_result=(0.50*(phi_r(alpha,a)+phi_l(alpha,a) ))\n",
    "    return(gws_result)\n",
    "\n",
    "#shifts\n",
    "def second_order_shift_num_r(alpha,a):\n",
    "    result= (\n",
    "                (np.sqrt(2*pi) * a**2 *alpha / (4*lam*w))\n",
    "                +\n",
    "                (3*np.sqrt(2*pi) * a**2 / 4*w**2)*(2*alpha/lam)\n",
    "            )\n",
    "    return(result)\n",
    "\n",
    "def second_order_shift_num_l(alpha,a):\n",
    "    result= (\n",
    "                -(np.sqrt(2*pi) * a**2 *alpha / (4*lam*w))\n",
    "                -\n",
    "                (3*np.sqrt(2*pi) * a**2 / 4*w**2)*(2*alpha/lam)\n",
    "            )\n",
    "    return(result)\n",
    "\n",
    "def second_order_shift_den(alpha,a):\n",
    "    result= (\n",
    "                a**2* (3/(2*w**2))\n",
    "            )\n",
    "    return(result)\n",
    "\n",
    "#PHASE right and left\n",
    "def phi_r(alpha,a):\n",
    "    return(np.arctan \n",
    "            (\n",
    "                (\n",
    "                    (pi*alpha/lam)*\n",
    "                    (\n",
    "                        a\n",
    "                        +\n",
    "                        np.sqrt(2/pi)*w\n",
    "                    )\n",
    "                    +\n",
    "                    second_order_shift_num_r(alpha,a)\n",
    "                )  \n",
    "                    /\n",
    "                    (\n",
    "                        1\n",
    "                        +\n",
    "                        np.sqrt(2/pi)*(a/w)\n",
    "                        +\n",
    "                        second_order_shift_den(alpha,a)\n",
    "                    )\n",
    "            )\n",
    "    )\n",
    "\n",
    "def phi_l(alpha,a):\n",
    "    return(np.arctan \n",
    "        (\n",
    "            (\n",
    "                (pi*alpha/lam)*\n",
    "                (\n",
    "                    a\n",
    "                    -\n",
    "                    np.sqrt(2/pi)*w\n",
    "                )\n",
    "                +\n",
    "                second_order_shift_num_l(alpha,a)\n",
    "            )  \n",
    "                /\n",
    "                (\n",
    "                    1\n",
    "                    -\n",
    "                    np.sqrt(2/pi)*(a/w)\n",
    "                    +\n",
    "                    second_order_shift_den(alpha,a)\n",
    "                )\n",
    "        )\n",
    "    )\n",
    "\n",
    "     \n",
    "\n",
    "#plot (a*1e6 for microrad, diff/2pi for cycles)\n",
    "plt.figure(figsize=(9,6))\n",
    "\n",
    "plt.plot(alpha*alpha_scale, phase_diff(alpha,a), label='DWS') \n",
    "plt.plot(alpha*alpha_scale, gws(alpha,a), label='GWS') \n",
    "\n",
    "plt.legend(loc='lower right')\n",
    "\n",
    "plt.xlabel(r'Tilt Angle, $\\alpha\\;$[' + xlab +'rad]', fontsize=15) \n",
    "plt.ylabel(r'Phase Diff, $\\Delta \\phi\\;[' + ylab + ']$', fontsize=15) \n",
    "plt.title(r'Gapless Shift-Tilted HG00: Beams at Waist (shift = 100$\\mu m$,)') \n",
    "plt.grid() \n",
    "#plt.savefig(\"tilt-shift-waist-2shift.pdf\")\n"
   ]
  },
  {
   "cell_type": "markdown",
   "metadata": {
    "slideshow": {
     "slide_type": "skip"
    }
   },
   "source": [
    "### Computed Deriv. \n",
    "$\\frac{d \\Delta \\phi}{d \\alpha}$"
   ]
  },
  {
   "cell_type": "code",
   "execution_count": 7,
   "metadata": {
    "slideshow": {
     "slide_type": "subslide"
    }
   },
   "outputs": [
    {
     "data": {
      "image/png": "[encoded data removed]",
      "text/plain": [
       "<Figure size 648x432 with 1 Axes>"
      ]
     },
     "metadata": {
      "needs_background": "light"
     },
     "output_type": "display_data"
    }
   ],
   "source": [
    "#function\n",
    "comp_phase_diff_deriv = np.diff(phase_diff(alpha)) / np.diff(alpha)\n",
    "comp_dws_deriv = np.diff(gws(alpha)) / np.diff(alpha)\n",
    "alpha2 = (alpha[:-1] + alpha[1:]) / 2\n",
    "\n",
    "#plot (a*1e6 for microrad, diff/2pi for cycles)\n",
    "plt.figure(figsize=(9,6))\n",
    "\n",
    "plt.plot(alpha2*alpha_scale, comp_phase_diff_deriv*phase_scale, label='DWS') \n",
    "plt.plot(alpha2*alpha_scale, comp_dws_deriv*phase_scale, label='GWS')\n",
    "plt.legend(loc='lower right')\n",
    "plt.xlabel(r'Tilt Angle, $\\alpha\\;$[' + xlab +'rad]',fontsize=15) \n",
    "plt.ylabel(r'$ \\frac{d \\Delta \\phi}{d \\alpha}$', fontsize=20) \n",
    "plt.title(r'Comp. Derivative, $\\frac{d \\Delta \\phi}{d \\alpha}$') \n",
    "plt.grid()\n",
    "plt.savefig(\"tilt-shift-waist-2shift-DER.pdf\")\n"
   ]
  },
  {
   "cell_type": "code",
   "execution_count": 5,
   "metadata": {},
   "outputs": [
    {
     "name": "stdout",
     "output_type": "stream",
     "text": [
      "295.2624674426497\n"
     ]
    }
   ],
   "source": [
    "print(2*pi*a/(2*lam))"
   ]
  },
  {
   "cell_type": "code",
   "execution_count": null,
   "metadata": {},
   "outputs": [],
   "source": []
  }
 ],
 "metadata": {
  "kernelspec": {
   "display_name": "Python 3",
   "language": "python",
   "name": "python3"
  },
  "language_info": {
   "codemirror_mode": {
    "name": "ipython",
    "version": 3
   },
   "file_extension": ".py",
   "mimetype": "text/x-python",
   "name": "python",
   "nbconvert_exporter": "python",
   "pygments_lexer": "ipython3",
   "version": "3.7.3"
  }
 },
 "nbformat": 4,
 "nbformat_minor": 2
}
