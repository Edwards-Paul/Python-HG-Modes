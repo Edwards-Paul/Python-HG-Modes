{
 "cells": [
  {
   "cell_type": "markdown",
   "metadata": {
    "slideshow": {
     "slide_type": "slide"
    }
   },
   "source": [
    "# Shifted-tilted Tophat at Gaussian interference at waist\n",
    "\n",
    "Tophat incoming with shift then tilt ( to 1st-order in both):\n",
    "\\begin{align*}\n",
    "\\sum u_{mn} \\rightarrow_{shift,tilt} &\n",
    "    \\sum u_{mn} (1 + \\frac{2 a x}{w_0^2})(1+ i k \\alpha x)\n",
    "    \\\\\n",
    "    =&\n",
    "    \\sum u_{mn} (1 + \\frac{2 a }{w_0^2} x + i k \\alpha x + i \\frac{2 k \\alpha a}{w_0^2} x^2 )\n",
    "\\end{align*}\n",
    "\n",
    "For $x$:\n",
    "\n",
    "\\begin{equation}\n",
    "x u_{n,m} = \\frac{w_0}{2}\n",
    "\\Big[\n",
    "\t(1 - i \\frac{z}{z_R})\n",
    "\t\\sqrt{n+1} u_{n+1,m}\n",
    "\t+\n",
    "\t\\sqrt{n}\n",
    "\t(1+i \\frac{z}{z_R})\n",
    "\tu_{n-1,m}\n",
    "\\Big]\n",
    "\\end{equation}\n",
    "\n",
    "For $x^2$:\n",
    "\n",
    "\\begin{equation}\n",
    "x^2 u_{n,m} = \\frac{w_0^2}{4}\n",
    "\\Big[\n",
    "\t(1 - i \\frac{z}{z_R})^2\n",
    "\t\\sqrt{(n+1)(n+2)} u_{n+2,m}\n",
    "\t+\n",
    "\t(2n+1)\n",
    "\t(1+ (\\frac{z}{z_R})^2)\n",
    "\tu_{n,m}\n",
    "\t+\n",
    "\t\\sqrt{n(n-1)}\n",
    "\t(1+i \\frac{z}{z_R} )^2\n",
    "\tu_{n-2,m}\n",
    "\\Big]\n",
    "\\end{equation}"
   ]
  },
  {
   "cell_type": "code",
   "execution_count": 1,
   "metadata": {
    "slideshow": {
     "slide_type": "skip"
    }
   },
   "outputs": [],
   "source": [
    "import PauLisa as pl, numpy as np, matplotlib.pyplot as plt\n",
    "from scipy.special import erfi as erfi\n",
    "pi=np.pi\n",
    "\n",
    "import scipy.io"
   ]
  },
  {
   "cell_type": "code",
   "execution_count": 2,
   "metadata": {},
   "outputs": [
    {
     "name": "stdout",
     "output_type": "stream",
     "text": [
      "__header__\n",
      "__version__\n",
      "__globals__\n",
      "coeftop\n",
      "read_me_paul\n",
      "wb\n"
     ]
    }
   ],
   "source": [
    "mat = scipy.io.loadmat('Top_hat_for_paul.mat')\n",
    "for x in mat:\n",
    "  print(x)"
   ]
  },
  {
   "cell_type": "code",
   "execution_count": 3,
   "metadata": {},
   "outputs": [
    {
     "name": "stdout",
     "output_type": "stream",
     "text": [
      "['wb is the waist to use for tophat basis with tophat radius 1mm,coeftop are the mode coefficients.']\n",
      "[[0.00023067]]\n"
     ]
    }
   ],
   "source": [
    "print(mat['read_me_paul'])\n",
    "print(mat['wb'])\n",
    "\n",
    "coef=mat['coeftop'].ravel()"
   ]
  },
  {
   "cell_type": "markdown",
   "metadata": {},
   "source": [
    "Using simtools mode indexing in Python:\n",
    "\n",
    "$\n",
    "m = \\frac{(N+1)(N+2)}{2}- (A_{python} + 1)\n",
    "$\n",
    "\n",
    "$\n",
    "\\rightarrow A_{python} =  \\frac{(N+1)(N+2)}{2} + 1 -m \n",
    "$\n",
    "\n",
    "$\n",
    "n = A_{python} - \\frac{N(N+1)}{2} = N-m\n",
    "$\n",
    "\n",
    "$\n",
    "\\rightarrow A_{python} = N-m + - \\frac{N(N+1)}{2} \n",
    "$\n",
    "\n",
    "$\n",
    "N = floor( \\frac{\\sqrt{8A_{python}+1} - 1}{2} ) = ceil(\\frac{\\sqrt{9+8A_{python}} - 3}{2} )\n",
    "$"
   ]
  },
  {
   "cell_type": "raw",
   "metadata": {},
   "source": [
    "    Tophat 10x10 entries\n",
    "    \n",
    "    0         2         4         6...\n",
    "    0.5646    0.3896    0.2935    0.1570   -0.0031   -0.0719   -0.0055    0.0445   -0.0103   -0.0263\n",
    "    0.3896    0.2396    0.1216   -0.0024   -0.0536   -0.0041    0.0326   -0.0075   -0.0191    0.0171\n",
    "    0.2935    0.1216   -0.0022   -0.0496   -0.0037    0.0295   -0.0068   -0.0171    0.0152    0.0019\n",
    "    0.1570   -0.0024   -0.0496   -0.0036    0.0284   -0.0064   -0.0162    0.0143    0.0018   -0.0124\n",
    "   -0.0031   -0.0536   -0.0037    0.0284   -0.0063   -0.0158    0.0139    0.0017   -0.0120    0.0094\n",
    "   -0.0719   -0.0041    0.0295   -0.0064   -0.0158    0.0138    0.0017   -0.0117    0.0092    0.0004\n",
    "   -0.0055    0.0326   -0.0068   -0.0162    0.0139    0.0017   -0.0117    0.0091    0.0004   -0.0078\n",
    "    0.0445   -0.0075   -0.0171    0.0143    0.0017   -0.0117    0.0091    0.0004   -0.0077    0.0080\n",
    "   -0.0103   -0.0191    0.0152    0.0018   -0.0120    0.0092    0.0004   -0.0077    0.0080   -0.0027\n",
    "   -0.0263    0.0171    0.0019   -0.0124    0.0094    0.0004   -0.0078    0.0080   -0.0027   -0.0034\n",
    "\n",
    "\n",
    "Note that these give coefficients (for unit power, not unit intensity tophat, for that multiply by sqrt(pi)*r) for modes (2m,2n) so for example row 1 column 4 gives coefficient of mode (0,6) (first non-zero indices have a 0, so column or row 1 correspond to zero, column or row 2 correspond to 2, 3 to 4, 4 to 6, 5 to 8 and so forth). This means here are non-zero indices from HG00 to HG(18,18).\n",
    "\n",
    "Again, this is for a normal power tophat, not normal intensity (which would have a power equal to the surface area of the pupil).\n"
   ]
  },
  {
   "cell_type": "code",
   "execution_count": 4,
   "metadata": {},
   "outputs": [],
   "source": [
    "def N_f(A):\n",
    "    \n",
    "    res = np.floor((np.sqrt(8*A+1)-1)/2)\n",
    "    \n",
    "    #res = (np.sqrt(9+8*A)-3)/2\n",
    "    return(res)\n",
    "\n",
    "def m(N,A):\n",
    "    res = (N+1)*(N+2)/2 - (A+1)\n",
    "    return(res)\n",
    "\n",
    "#def n(N,A):\n",
    "#    m= (N+1)*(N+2)/2 - (A+1)\n",
    "#    res = N-m\n",
    "#    return(res)\n",
    "def n(N,A):\n",
    "    res = A - (N*(N+1)/2)\n",
    "    return(res)\n",
    "\n",
    "NumberModes = int(len(coef))\n",
    "listModesN = [None] * NumberModes\n",
    "listModesM = [None] * NumberModes\n",
    "listModesC = [None] * NumberModes\n",
    "\n",
    "\n",
    "\n",
    "#for i in range(len(coef)):\n",
    "#    A=i\n",
    "#    N= N_f(A)\n",
    "#\n",
    "#    if (m(N,A)%2 == 0) & (n(N,A)%2 == 0):\n",
    "#        print(coef[A], '\\t\\t\\t' , m(N,A), ',' , n(N,A))\n",
    "\n",
    "for i in range(NumberModes):\n",
    "    A=i\n",
    "    N= N_f(A)\n",
    "    listModesN[i] = int(m(N,A))\n",
    "    listModesM[i] = int(n(N,A))\n",
    "    listModesC[i] = coef[i]\n",
    "    \n",
    "    "
   ]
  },
  {
   "cell_type": "code",
   "execution_count": 5,
   "metadata": {
    "scrolled": false
   },
   "outputs": [],
   "source": [
    "plane = pl.Plane(-.5e-2, .5e-2, 300, -.5e-2, .5e-2, 300)\n",
    "params = pl.Params(1064e-9,1e-3,0.00023067)\n",
    "\n",
    "modes = pl.create_modes(listModesM,listModesN,listModesC,NumberModes)"
   ]
  },
  {
   "cell_type": "code",
   "execution_count": 6,
   "metadata": {},
   "outputs": [
    {
     "ename": "NameError",
     "evalue": "name 'a' is not defined",
     "output_type": "error",
     "traceback": [
      "\u001b[1;31m---------------------------------------------------------------------------\u001b[0m",
      "\u001b[1;31mNameError\u001b[0m                                 Traceback (most recent call last)",
      "\u001b[1;32m<ipython-input-6-a24453dd7732>\u001b[0m in \u001b[0;36m<module>\u001b[1;34m\u001b[0m\n\u001b[1;32m----> 1\u001b[1;33m \u001b[0mf\u001b[0m \u001b[1;33m=\u001b[0m \u001b[0mpl\u001b[0m\u001b[1;33m.\u001b[0m\u001b[0mcalculate_case2\u001b[0m\u001b[1;33m(\u001b[0m\u001b[0mpl\u001b[0m\u001b[1;33m.\u001b[0m\u001b[0mdefaultParams\u001b[0m\u001b[1;33m,\u001b[0m\u001b[0mplane\u001b[0m\u001b[1;33m,\u001b[0m\u001b[0mmodes\u001b[0m\u001b[1;33m,\u001b[0m\u001b[1;36m0.00023067\u001b[0m\u001b[1;33m,\u001b[0m\u001b[0ma\u001b[0m\u001b[1;33m,\u001b[0m\u001b[0malpha\u001b[0m\u001b[1;33m)\u001b[0m\u001b[1;33m\u001b[0m\u001b[1;33m\u001b[0m\u001b[0m\n\u001b[0m\u001b[0;32m      2\u001b[0m \u001b[0mprint\u001b[0m\u001b[1;33m(\u001b[0m\u001b[0mf\u001b[0m\u001b[1;33m)\u001b[0m\u001b[1;33m\u001b[0m\u001b[1;33m\u001b[0m\u001b[0m\n",
      "\u001b[1;31mNameError\u001b[0m: name 'a' is not defined"
     ]
    }
   ],
   "source": [
    "f = pl.calculate_case2(pl.defaultParams,plane,modes,0.00023067,a,alpha)\n",
    "print(f)"
   ]
  },
  {
   "cell_type": "code",
   "execution_count": null,
   "metadata": {
    "scrolled": true
   },
   "outputs": [],
   "source": [
    "pl.intslicex(0,f)"
   ]
  },
  {
   "cell_type": "code",
   "execution_count": null,
   "metadata": {
    "scrolled": true
   },
   "outputs": [],
   "source": [
    "pl.Contour(f)"
   ]
  },
  {
   "cell_type": "code",
   "execution_count": null,
   "metadata": {},
   "outputs": [],
   "source": [
    "pl.show_modes(modes)"
   ]
  },
  {
   "cell_type": "markdown",
   "metadata": {
    "slideshow": {
     "slide_type": "skip"
    }
   },
   "source": [
    "### Input Parameters"
   ]
  },
  {
   "cell_type": "code",
   "execution_count": null,
   "metadata": {
    "slideshow": {
     "slide_type": "fragment"
    }
   },
   "outputs": [],
   "source": [
    "#spot, wavelength, shift\n",
    "w= 1e-3\n",
    "lam= 1064e-9\n",
    "a = 100e-6  #100 micron shift\n",
    "k = 2*pi/lam\n",
    "#z0 = 0.00023067 # for tophat with 1e-3 radius\n",
    "\n",
    "#alpha(10nrad)\n",
    "alpha_min=-500e-6\n",
    "alpha_max=500e-6\n",
    "num_points = 101\n",
    "alpha = np.linspace(alpha_min,alpha_max,num = num_points)\n",
    "\n",
    "## PLOT SCALES AND LABELS\n",
    "micro = 10**(6)\n",
    "nano = 10**(9)\n",
    "cycle = 1/(2*pi)\n",
    "rad = 1\n",
    "xlab = 'u'\n",
    "ylab = 'rad'\n",
    "\n",
    "##SET SCALES\n",
    "alpha_scale = micro\n",
    "phase_scale = rad\n",
    "\n",
    "if(alpha_scale==nano):\n",
    "    xlab = 'n'\n",
    "if(phase_scale==cycle):\n",
    "    ylab = 'cycles'"
   ]
  },
  {
   "cell_type": "code",
   "execution_count": null,
   "metadata": {},
   "outputs": [],
   "source": []
  }
 ],
 "metadata": {
  "kernelspec": {
   "display_name": "Python 3",
   "language": "python",
   "name": "python3"
  },
  "language_info": {
   "codemirror_mode": {
    "name": "ipython",
    "version": 3
   },
   "file_extension": ".py",
   "mimetype": "text/x-python",
   "name": "python",
   "nbconvert_exporter": "python",
   "pygments_lexer": "ipython3",
   "version": "3.7.3"
  }
 },
 "nbformat": 4,
 "nbformat_minor": 2
}
