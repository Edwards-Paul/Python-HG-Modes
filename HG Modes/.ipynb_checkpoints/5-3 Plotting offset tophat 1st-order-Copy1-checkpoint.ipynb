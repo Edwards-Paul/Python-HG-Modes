{
 "cells": [
  {
   "cell_type": "markdown",
   "metadata": {
    "slideshow": {
     "slide_type": "slide"
    }
   },
   "source": [
    "# Shifted-tilted Tophat at Gaussian interference at waist\n",
    "\n",
    "Applying first-order shift,tilt to tophat, integrate with HG00\n",
    "\n",
    "\\begin{equation}\n",
    "\tu_{n,m} \\rightarrow\n",
    "     u_{n,m}\n",
    "        \\left[\n",
    "        1 - \\frac{2 a }{w(z)^2} x + i k \\alpha x - i \\frac{2 k \\alpha a}{w(z)^2} x^2 \n",
    "    \\right]\n",
    "    + \n",
    "\ta \\frac{2 \\sqrt{n}}{w(z)} \n",
    "\t\\exp(i \\Psi(z))\n",
    "\tu_{n-1,m}\n",
    "\t\\left[\n",
    "        1+ i k \\alpha x\n",
    "    \\right]\t \\; .\n",
    "\\end{equation}\n",
    "\n",
    "Scatter these with\n",
    "\n",
    "\\begin{align*}\n",
    "\\sum_{n,m} u_{n,m} \\rightarrow \n",
    "\t\\sum_{n,m} \n",
    "\t\\lbrace &\n",
    "\t\tu_{n+2,m}[ X_+^2(-i\\frac{2ka\\alpha}{w^2})]\n",
    "\t\t\\\\+&\n",
    "\t\tu_{n+1,m}[ X_+^1(ik\\alpha - \\frac{2a}{w^2})]\n",
    "\t\t\\\\+&\n",
    "\t\tu_{n,m} [1+X_+^1(ik\\alpha \\frac{2a\\sqrt{n}}{w} e^{i\\Psi})- X_0^2 (i\\frac{2ka\\alpha}{w^2})]\n",
    "\t\t\\\\+&\n",
    "\t\tu_{n-1,m} [\\frac{2a\\sqrt{n}}{w} e^{i\\Psi} + X_-^1(ik\\alpha - \\frac{2a}{w^2})]\n",
    "\t\t\\\\+&\n",
    "\t\tu_{n-2,m} [ X_-^1(ik\\alpha a\\frac{2\\sqrt{n}}{w}e^{i\\Psi}) - X_-^2 (i\\frac{2ka\\alpha}{w^2})] \t\n",
    "\t\\rbrace\n",
    "\\end{align*}"
   ]
  },
  {
   "cell_type": "code",
   "execution_count": 10,
   "metadata": {
    "slideshow": {
     "slide_type": "skip"
    }
   },
   "outputs": [],
   "source": [
    "import PauLisa as pl, PL_Plot as plplt,plback as plb, Tophat_integration_AW as th, numpy as np, matplotlib.pyplot as plt, cmath as cm\n",
    "\n",
    "from numpy import pi as pi\n",
    "from numpy import angle\n",
    "from math import e\n",
    "from numpy import sqrt as sqrt\n",
    "from scipy.special import erf as erf\n",
    "import mpmath as mp\n",
    "import scipy.io\n",
    "\n",
    "from math import pi, log, exp, sin, cos, atan, e, radians, degrees\n",
    "from scipy.special import gamma as gamma\n",
    "from scipy.special import erf as erf\n",
    "from math import factorial as fact\n",
    "import cmath\n",
    "from cmath import sqrt as sqrt\n",
    "import numpy as np\n",
    "\n",
    "from time import process_time\n",
    "\n",
    "inf=np.inf\n",
    "\n",
    "import pandas as pd"
   ]
  },
  {
   "cell_type": "markdown",
   "metadata": {},
   "source": [
    "## Tophat coeffients from AW"
   ]
  },
  {
   "cell_type": "code",
   "execution_count": 28,
   "metadata": {},
   "outputs": [],
   "source": [
    "mat = scipy.io.loadmat('Top_hat_for_paul.mat')\n",
    "coef=mat['coeftop'].ravel()\n",
    "\n",
    "def N_f(A):\n",
    "    \n",
    "    res = np.floor((np.sqrt(8*A+1)-1)/2)\n",
    "    \n",
    "    #res = (np.sqrt(9+8*A)-3)/2\n",
    "    return(res)\n",
    "\n",
    "def m(N,A):\n",
    "    res = (N+1)*(N+2)/2 - (A+1)\n",
    "    return(res)\n",
    "\n",
    "#def n(N,A):\n",
    "#    m= (N+1)*(N+2)/2 - (A+1)\n",
    "#    res = N-m\n",
    "#    return(res)\n",
    "def n(N,A):\n",
    "    res = A - (N*(N+1)/2)\n",
    "    return(res)\n",
    "\n",
    "NumberModes = int(len(coef))\n",
    "listModesN = [None] * NumberModes\n",
    "listModesM = [None] * NumberModes\n",
    "listModesC = [None] * NumberModes\n",
    "\n",
    "area = pi*1e-3**2\n",
    "\n",
    "#for i in range(len(coef)):\n",
    "#    A=i\n",
    "#    N= N_f(A)\n",
    "#\n",
    "#    if (m(N,A)%2 == 0) & (n(N,A)%2 == 0):\n",
    "#        print(coef[A], '\\t\\t\\t' , m(N,A), ',' , n(N,A))\n",
    "\n",
    "for i in range(NumberModes):\n",
    "    A=i\n",
    "    N= N_f(A)\n",
    "    listModesN[i] = int(m(N,A))\n",
    "    listModesM[i] = int(n(N,A))\n",
    "    listModesC[i] = coef[i]/sqrt(area)\n",
    "    \n",
    "    "
   ]
  },
  {
   "cell_type": "code",
   "execution_count": 29,
   "metadata": {
    "scrolled": false
   },
   "outputs": [],
   "source": [
    "\n",
    "\n",
    "modes = pl.create_modes(listModesM,listModesN,listModesC,NumberModes)\n",
    "\n",
    "N=28 # mode order\n",
    "modes_N= pl.create_modes_orderN(listModesM,listModesN,listModesC,NumberModes,N)\n",
    "\n",
    "\n"
   ]
  },
  {
   "cell_type": "code",
   "execution_count": 30,
   "metadata": {},
   "outputs": [],
   "source": [
    "#loop through and sum over modes overlap where a,b -> n,m\n",
    "def iterate_modes_overlap(w_1,w_2,zR_1,zR_2,k_1,k_2,d_1,W_2,x_1,x_2,Z,Y,modes):   \n",
    "\n",
    "    N = len(modes)\n",
    "    M = len(modes[0])\n",
    "    res_arr = [[0 for i in range(10)] for j in range(10)]\n",
    "    res = 0\n",
    "\n",
    "    for a in range(N):\n",
    "        for b in range(M):            \n",
    "            #ignore zero coeff.\n",
    "            if (modes[a][b]!=0):\n",
    "                c_nm = modes[a][b]\n",
    "                res += c_nm * th.overlap(a,b,w_1,w_2,zR_1,zR_2,k_1,k_2,d_1,W_2,x_1,x_2,Z,Y)\n",
    "                #print( 'n,m:',a,b,th.overlap(a,b,w_1,w_2,zR_1,zR_2,k_1,k_2,d_1,W_2,x_1,x_2,Z,Y))\n",
    "                \n",
    "    return(res)"
   ]
  },
  {
   "cell_type": "markdown",
   "metadata": {},
   "source": [
    "## Integration for signals"
   ]
  },
  {
   "cell_type": "code",
   "execution_count": 31,
   "metadata": {},
   "outputs": [],
   "source": [
    "#initial beam params\n",
    "\n",
    "lam = 1064e-9\n",
    "\n",
    "\n",
    "z_PD = 0e-3 #PD location\n",
    "z = z_PD #prop distance assumed PD\n",
    "\n",
    "z_m = 0 #meas beam \n",
    "Z = z_PD - z_m #distance PD-m\n",
    "\n",
    "z_LO = 0 #Local ref. beam\n",
    "d_1 = z_PD - z_LO #distance PD-LO\n",
    "\n",
    "\n",
    "Y = 2e-3 #Y int bound\n",
    "\n",
    "x_1R = 20e-6\n",
    "x_2R = 2e-3 \n",
    "\n",
    "x_1L = -(x_2R) #assumed symmetric with right side\n",
    "x_2L = -(x_1R)\n",
    "\n",
    "w_1 = 1e-3 #waist LO \n",
    "w_2 = 0.00023067 #waist MS\n",
    "\n",
    "zR_1 = pi*w_1**2/lam #rayleigh LO\n",
    "zR_2 = pi*w_2**2/lam\n",
    "\n",
    "\n",
    "k_1 = 5905249.348852994 #wavenum LO\n",
    "k_2 = 5905249.348852994\n",
    "\n",
    "params = pl.Params(lam,w_2,Z) #for building tophat coefficients\n",
    "\n",
    "W_2 = pl.w(w_2,params) #tophat beam rad , w(z) or 1e-3?\n",
    "\n",
    "\n",
    "\n",
    "#integration and misalignment\n",
    "points = 51\n",
    "\n",
    "a = 0\n",
    "alpha_arr = np.linspace(-500e-6,500e-6,points)\n",
    "\n",
    "modes_arr = [0]*points\n",
    "\n",
    "#build modes from misalignments\n",
    "for p in range (points):\n",
    "    modes_arr[p] = pl.scatter_case2_first_order(z,params,a,alpha_arr[p],modes) #array of array of scattered modes#array of array of scattered modes\n"
   ]
  },
  {
   "cell_type": "code",
   "execution_count": 32,
   "metadata": {},
   "outputs": [
    {
     "name": "stdout",
     "output_type": "stream",
     "text": [
      "42.0625 s\n",
      "0.4225 s\n"
     ]
    }
   ],
   "source": [
    "\n",
    "time_start = process_time()\n",
    "\n",
    "time_ave = 0\n",
    "\n",
    "#modes_arr = [0]*points\n",
    "cl = [0]*points\n",
    "cr = [0]*points\n",
    "phi_l = [0]*points\n",
    "phi_r = [0]*points\n",
    "dws = [0]*points\n",
    "lps = [0]*points\n",
    "\n",
    "\n",
    "#alpha_arr = np.linspace(-500e-6,500e-6,points)\n",
    "\n",
    "for p in range (points):\n",
    "    #modes_arr[p] = pl.scatter_case2_first_order(z,params,a,alpha,modes18) #array of array of scattered modes#array of array of scattered modes\n",
    "    time_ave_start = process_time()\n",
    "    \n",
    "    cl[p] = iterate_modes_overlap(w_1,w_2,zR_1,zR_2,k_1,k_2,d_1,W_2,x_1L,x_2L,Z,Y,modes_arr[p]) # left overlap (-2e-3,0)\n",
    "    time_ave += (process_time()-time_ave_start)\n",
    "    cr[p] = iterate_modes_overlap(w_1,w_2,zR_1,zR_2,k_1,k_2,d_1,W_2,x_1R,x_2R,Z,Y,modes_arr[p]) # right overlap (0,2e-3)\n",
    "    \n",
    "    \n",
    "\n",
    "    phi_r[p]=angle(cr[p])\n",
    "    phi_l[p]=angle(cl[p])\n",
    "    \n",
    "    dws[p] = phi_r[p]-phi_l[p]\n",
    "    lps[p] = 0.5*(phi_r[p]+phi_l[p])\n",
    "    \n",
    "time_elapsed = (process_time() - time_start)\n",
    "print(time_elapsed,'s')\n",
    "print(time_ave/p,'s')\n"
   ]
  },
  {
   "cell_type": "code",
   "execution_count": 33,
   "metadata": {},
   "outputs": [
    {
     "data": {
      "image/png": "[encoded data removed]",
      "text/plain": [
       "<Figure size 648x432 with 1 Axes>"
      ]
     },
     "metadata": {
      "needs_background": "light"
     },
     "output_type": "display_data"
    }
   ],
   "source": [
    "plt.figure(figsize=(9,6))\n",
    "plt.plot(alpha_arr, dws)\n",
    "\n",
    "plt.xlabel(r'Tilt Angle, $\\alpha\\;$[' + 'rad]', fontsize=15) \n",
    "plt.ylabel(r'DWS Signal Phase $[' +  'rad]$', fontsize=15) \n",
    "plt.title(r'Tilted,Shifted HG00-HG00 at Waist') \n",
    "\n",
    "plt.grid()\n",
    "\n",
    "#plt.savefig(\"4-28_HG00_dws.png\")"
   ]
  },
  {
   "cell_type": "code",
   "execution_count": 34,
   "metadata": {},
   "outputs": [
    {
     "data": {
      "image/png": "[encoded data removed]",
      "text/plain": [
       "<Figure size 648x432 with 1 Axes>"
      ]
     },
     "metadata": {
      "needs_background": "light"
     },
     "output_type": "display_data"
    }
   ],
   "source": [
    "plt.figure(figsize=(9,6))\n",
    "plt.plot(alpha_arr, lps)\n",
    "\n",
    "plt.xlabel(r'Tilt Angle, $\\alpha\\;$[' + 'rad]', fontsize=15) \n",
    "plt.ylabel(r'LPS Signal Phase $[' +  'rad]$', fontsize=15) \n",
    "plt.title(r'Tilted,Shifted HG00-HG00 at Waist') \n",
    "\n",
    "plt.grid()\n",
    "\n",
    "#plt.savefig(\"4-28_HG00_lps.png\")"
   ]
  },
  {
   "cell_type": "code",
   "execution_count": 12,
   "metadata": {},
   "outputs": [
    {
     "name": "stdout",
     "output_type": "stream",
     "text": [
      "1.0\n"
     ]
    }
   ],
   "source": [
    "m=2\n",
    "stop = int((m/2-1)+1)\n",
    "sum_M = sum([\n",
    "           ( fact(M+1)/fact(2*(M+1))\n",
    "        *(2*1)**(2*M+1) )\n",
    "           for M in range(0, stop,1)])\n",
    "print(sum_M)"
   ]
  },
  {
   "cell_type": "code",
   "execution_count": 22,
   "metadata": {},
   "outputs": [
    {
     "name": "stdout",
     "output_type": "stream",
     "text": [
      "1\n"
     ]
    }
   ],
   "source": [
    "stop = int((4/2-1)+1)\n",
    "sum_M = sum([\n",
    "           1**M\n",
    "           for M in range(stop-1, stop,1)])\n",
    "print(sum_M)"
   ]
  },
  {
   "cell_type": "code",
   "execution_count": null,
   "metadata": {},
   "outputs": [],
   "source": []
  }
 ],
 "metadata": {
  "kernelspec": {
   "display_name": "Python 3",
   "language": "python",
   "name": "python3"
  },
  "language_info": {
   "codemirror_mode": {
    "name": "ipython",
    "version": 3
   },
   "file_extension": ".py",
   "mimetype": "text/x-python",
   "name": "python",
   "nbconvert_exporter": "python",
   "pygments_lexer": "ipython3",
   "version": "3.7.3"
  }
 },
 "nbformat": 4,
 "nbformat_minor": 2
}
