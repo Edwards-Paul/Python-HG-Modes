{
 "cells": [
  {
   "cell_type": "markdown",
   "metadata": {
    "slideshow": {
     "slide_type": "slide"
    }
   },
   "source": [
    "# Shifted-tilted Tophat at Gaussian interference at waist\n",
    "\n",
    "Applying shift (x-a) without tilt for shifted tophat."
   ]
  },
  {
   "cell_type": "code",
   "execution_count": 26,
   "metadata": {
    "slideshow": {
     "slide_type": "skip"
    }
   },
   "outputs": [],
   "source": [
    "import PauLisa as pl, numpy as np, matplotlib.pyplot as plt, cmath as cm\n",
    "\n",
    "from mpmath import quadgl\n",
    "from numpy import pi as pi\n",
    "import mpmath as mp\n",
    "import scipy.io\n",
    "\n",
    "inf=np.inf"
   ]
  },
  {
   "cell_type": "code",
   "execution_count": 27,
   "metadata": {},
   "outputs": [],
   "source": [
    "mat = scipy.io.loadmat('Top_hat_for_paul.mat')\n",
    "coef=mat['coeftop'].ravel()"
   ]
  },
  {
   "cell_type": "markdown",
   "metadata": {},
   "source": [
    "Using simtools mode indexing in Python:\n",
    "\n",
    "$\n",
    "m = \\frac{(N+1)(N+2)}{2}- (A_{python} + 1)\n",
    "$\n",
    "\n",
    "$\n",
    "\\rightarrow A_{python} =  \\frac{(N+1)(N+2)}{2} + 1 -m \n",
    "$\n",
    "\n",
    "$\n",
    "n = A_{python} - \\frac{N(N+1)}{2} = N-m\n",
    "$\n",
    "\n",
    "$\n",
    "\\rightarrow A_{python} = N-m + - \\frac{N(N+1)}{2} \n",
    "$\n",
    "\n",
    "$\n",
    "N = floor( \\frac{\\sqrt{8A_{python}+1} - 1}{2} ) = ceil(\\frac{\\sqrt{9+8A_{python}} - 3}{2} )\n",
    "$"
   ]
  },
  {
   "cell_type": "code",
   "execution_count": 28,
   "metadata": {},
   "outputs": [],
   "source": [
    "def N_f(A):\n",
    "    \n",
    "    res = np.floor((np.sqrt(8*A+1)-1)/2)\n",
    "    \n",
    "    #res = (np.sqrt(9+8*A)-3)/2\n",
    "    return(res)\n",
    "\n",
    "def m(N,A):\n",
    "    res = (N+1)*(N+2)/2 - (A+1)\n",
    "    return(res)\n",
    "\n",
    "#def n(N,A):\n",
    "#    m= (N+1)*(N+2)/2 - (A+1)\n",
    "#    res = N-m\n",
    "#    return(res)\n",
    "def n(N,A):\n",
    "    res = A - (N*(N+1)/2)\n",
    "    return(res)\n",
    "\n",
    "NumberModes = int(len(coef))\n",
    "listModesN = [None] * NumberModes\n",
    "listModesM = [None] * NumberModes\n",
    "listModesC = [None] * NumberModes\n",
    "\n",
    "\n",
    "\n",
    "#for i in range(len(coef)):\n",
    "#    A=i\n",
    "#    N= N_f(A)\n",
    "#\n",
    "#    if (m(N,A)%2 == 0) & (n(N,A)%2 == 0):\n",
    "#        print(coef[A], '\\t\\t\\t' , m(N,A), ',' , n(N,A))\n",
    "\n",
    "for i in range(NumberModes):\n",
    "    A=i\n",
    "    N= N_f(A)\n",
    "    listModesN[i] = int(m(N,A))\n",
    "    listModesM[i] = int(n(N,A))\n",
    "    listModesC[i] = coef[i]\n",
    "    \n",
    "    "
   ]
  },
  {
   "cell_type": "code",
   "execution_count": 29,
   "metadata": {
    "scrolled": false
   },
   "outputs": [
    {
     "name": "stdout",
     "output_type": "stream",
     "text": [
      "\n",
      "wavelength=1.064e-06\n",
      "w0=0.00023067\n",
      "z0=0\n",
      "Zr=0.15710516963503632\n",
      "q0=0.15710516963503632j\n",
      "\n",
      "xmin=-0.002,xmax=0.002,xpoints=300,x step size = 1.3333333333333333e-05\n",
      "ymin=-0.002,ymax=0.002,ypoints=300,y step size = 1.3333333333333333e-05\n"
     ]
    }
   ],
   "source": [
    "plane = pl.Plane(-2e-3, 2e-3, 300, -2e-3, 2e-3, 300)\n",
    "params = pl.Params(1064e-9, 0.00023067,0)\n",
    "\n",
    "modes = pl.create_modes(listModesM,listModesN,listModesC,NumberModes)\n",
    "modes18= pl.create_modes_order18(listModesM,listModesN,listModesC,NumberModes)\n",
    "print(params)\n",
    "print(plane)\n"
   ]
  },
  {
   "cell_type": "code",
   "execution_count": 30,
   "metadata": {},
   "outputs": [],
   "source": [
    "a = 100e-6\n",
    "alpha = 0\n",
    "z=0.00023067"
   ]
  },
  {
   "cell_type": "code",
   "execution_count": 31,
   "metadata": {},
   "outputs": [],
   "source": [
    "f2 = pl.calculate_case2_no_scatter(params,plane,modes,z,a,alpha)"
   ]
  },
  {
   "cell_type": "code",
   "execution_count": 32,
   "metadata": {},
   "outputs": [
    {
     "data": {
      "image/png": "[encoded data removed]",
      "text/plain": [
       "<Figure size 504x432 with 2 Axes>"
      ]
     },
     "metadata": {
      "needs_background": "light"
     },
     "output_type": "display_data"
    }
   ],
   "source": [
    "pl.Contour(f2)"
   ]
  },
  {
   "cell_type": "code",
   "execution_count": null,
   "metadata": {},
   "outputs": [],
   "source": [
    "f = pl.calculate_case2(params,plane,modes,z,a,alpha)\n",
    "#f = pl.calculate_case2(params,plane,modes18,z,a,alpha)"
   ]
  },
  {
   "cell_type": "code",
   "execution_count": null,
   "metadata": {
    "scrolled": false
   },
   "outputs": [],
   "source": [
    "fig, ax = plt.subplots(figsize=(13, 10))\n",
    "cs = plt.contourf(f.plane.getX(), f.plane.getY(), abs(f.getAmp() ** 2))\n",
    "plt.xlabel('X [m]')\n",
    "plt.ylabel('Y [m]')\n",
    "cbar = fig.colorbar(cs)\n",
    "plt.title('Intensity')\n",
    "ax.ticklabel_format(axis='x', style='sci', scilimits=(-3, -3), useMathText=True)\n",
    "ax.ticklabel_format(axis='y', style='sci', scilimits=(-3, -3), useMathText=True)"
   ]
  },
  {
   "cell_type": "code",
   "execution_count": null,
   "metadata": {},
   "outputs": [],
   "source": [
    "alpha_lin = np.linspace(-500e-6,500e-6,5)\n",
    "\n",
    "c00_ref = 1\n",
    "\n",
    "modes_ref = pl.modes((0,0,c00_ref))\n",
    "modes_rec = modes\n",
    "\n",
    "\n",
    "def integ_1st_order(alpha_lin):\n",
    "    \n",
    "    cr = [0]*len(alpha_lin)\n",
    "    cl = [0]*len(alpha_lin)\n",
    "    \n",
    "    for i in range (len(alpha_lin)):\n",
    "        print(i)\n",
    "\n",
    "        f = lambda y, x: (pl.amplitude_case2(params,x,y,z,modes_rec,a,alpha_lin[i]))*np.conjugate((pl.amplitude(params,x,y,0,modes_ref)))    \n",
    "        cr[i] = quadgl(f, [plane.ymin,plane.ymax],[0,plane.xmax])\n",
    "        cl[i] = quadgl(f, [plane.ymin,plane.ymax],[plane.xmin,0])\n",
    "       \n",
    "    return (cr,cl)\n"
   ]
  },
  {
   "cell_type": "code",
   "execution_count": null,
   "metadata": {},
   "outputs": [],
   "source": [
    "cr,cl = integ_1st_order(alpha_lin)"
   ]
  },
  {
   "cell_type": "code",
   "execution_count": null,
   "metadata": {},
   "outputs": [],
   "source": [
    "print(cr,cl)"
   ]
  },
  {
   "cell_type": "code",
   "execution_count": null,
   "metadata": {},
   "outputs": [],
   "source": [
    "size = len(alpha_lin)\n",
    "phi_r=[0]*size\n",
    "phi_l=[0]*size\n",
    "dws_1st_order = [0]*size\n",
    "lps_1st_order = [0]*size\n",
    "\n",
    "for i in range(len(alpha_lin)):\n",
    "    phi_r[i] = cm.phase(cr[i])\n",
    "    phi_l[i] = cm.phase(cl[i])\n",
    "\n",
    "    dws_1st_order[i] = 0.5*(phi_r[i]-phi_l[i])\n",
    "    lps_1st_order[i] = 0.5*(phi_r[i]+phi_l[i])"
   ]
  },
  {
   "cell_type": "code",
   "execution_count": null,
   "metadata": {},
   "outputs": [],
   "source": [
    "plt.figure(figsize=(9,6))\n",
    "plt.plot(alpha_lin, dws_1st_order)\n",
    "\n",
    "plt.xlabel(r'Tilt Angle, $\\alpha\\;$[' + 'rad]', fontsize=15) \n",
    "plt.ylabel(r'DWS Signal Phase $[' +  'rad]$', fontsize=15) \n",
    "plt.title(r'Tilted,Shifted Gaussian at Waist') \n",
    "\n",
    "plt.grid()"
   ]
  },
  {
   "cell_type": "code",
   "execution_count": null,
   "metadata": {},
   "outputs": [],
   "source": []
  }
 ],
 "metadata": {
  "kernelspec": {
   "display_name": "Python 3",
   "language": "python",
   "name": "python3"
  },
  "language_info": {
   "codemirror_mode": {
    "name": "ipython",
    "version": 3
   },
   "file_extension": ".py",
   "mimetype": "text/x-python",
   "name": "python",
   "nbconvert_exporter": "python",
   "pygments_lexer": "ipython3",
   "version": "3.7.3"
  }
 },
 "nbformat": 4,
 "nbformat_minor": 2
}
