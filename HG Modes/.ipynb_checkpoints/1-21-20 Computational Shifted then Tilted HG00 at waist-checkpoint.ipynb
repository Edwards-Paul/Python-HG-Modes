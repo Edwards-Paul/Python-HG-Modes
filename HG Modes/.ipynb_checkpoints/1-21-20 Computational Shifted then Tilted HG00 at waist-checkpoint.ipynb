{
 "cells": [
  {
   "cell_type": "markdown",
   "metadata": {},
   "source": [
    "# Shifting then Tilting HG(0,0)"
   ]
  },
  {
   "cell_type": "code",
   "execution_count": 111,
   "metadata": {},
   "outputs": [],
   "source": [
    "import PauLisa as pl, numpy as np, matplotlib.pyplot as plt, cmath as cm, mpmath as mp\n",
    "from scipy import integrate"
   ]
  },
  {
   "cell_type": "code",
   "execution_count": 128,
   "metadata": {},
   "outputs": [],
   "source": [
    "#constants\n",
    "pi = np.pi\n",
    "\n",
    "#Redefining and naming initial parameters\n",
    "high_res_plane = pl.Plane(-6e-3,7e-3,1000,-1e-3,1e-3,3) #just used to calculate peak, higher precision\n",
    "plane = pl.Plane(-2e-2,2e-2,1000,-2e-2,2e-2,1000)\n",
    "params = pl.Params(wavelength=1.064e-06, w0=1e-3, z0=0)\n",
    "a = 1e-3 #shift\n",
    "\n",
    "lam = params.wavelength #wavelength\n",
    "w0 = params.w0 #spot size\n",
    "k = params.k #wavenumber\n",
    "z0 = params.z0 #waist location\n",
    "Zr = params.Zr #rayleigh range"
   ]
  },
  {
   "cell_type": "markdown",
   "metadata": {},
   "source": [
    "\n",
    "For gap half-width $b$, the right side PD:\n",
    "\n",
    "\\begin{align*}\n",
    "\t\tC_{nmn'm'}^{R} =&\n",
    "\t\t\\int_{b}^{\\infty} dx\\int_{-\\infty}^{\\infty}  dy \\;\n",
    "\t\t\\frac{2}{\\pi}\n",
    "\t\t\\frac{1}{w_0 w(z)}\n",
    "        \\frac{1}{\\sqrt{1 + \\big( \\frac{z-(x+a)\\alpha-z_0}{z_R} \\big)^2}}\n",
    "\t\t\\\\& \\; \\times\n",
    "\t\t\\exp \\Big(\n",
    "\t\t\\frac\n",
    "\t\t{\n",
    "\t\t-ik( (x+a)^{2}+y^{2})\n",
    "\t\t}\n",
    "\t\t{2 R_c(z) - (x+a) \\alpha }-\n",
    "\t\t\\frac{(x+a) +y^{2}}\n",
    "\t\t{\n",
    "\t\tw_0^2\n",
    "        (1 + \\big( \\frac{z-(x+a)\\alpha -z_0}{z_R} \\big)^2)}\n",
    "\t\t\\Big)\n",
    "\t\t\\\\& \\; \\times\n",
    "\t\t\\exp \\Big(\\frac{ik(x^{2}+y^{2})}{2R_{c}(z)}-\n",
    "\t\t\\frac{x^{2}+y^{2}}{w(z)^{2}} \\Big)\n",
    "\\end{align*}"
   ]
  },
  {
   "cell_type": "code",
   "execution_count": 138,
   "metadata": {},
   "outputs": [],
   "source": [
    "def integ_gaps(alpha_lin,gapsize,z):\n",
    "    \n",
    "    sol = [0]*len(alpha_lin)\n",
    "    \n",
    "    for i in range (len(alpha_lin)):\n",
    "\n",
    "        f = lambda y, x: ( \n",
    "            (2/pi)* \n",
    "            1/(w0*pl.w(z,params))* \n",
    "            1/(np.sqrt((1 + (x+a)*alpha_lin[i])/(Zr)**2))*\n",
    "            mp.exp\n",
    "            (\n",
    "            (-(1j)*k*( (x+a)**2 + y**2) )/\n",
    "            (2 * pl.radius_curvature(z,params) - (x+a) * alpha_lin[i] )-\n",
    "            ((x+a) +y**2)\n",
    "            /\n",
    "            (w0**2 * (1 + (z-(x + a * alpha_lin[i] - z0))/ (Zr**2) )) \n",
    "            )\n",
    "            * mp.exp(\n",
    "            (1j)*k*(x**2+y**2)/(2*pl.radius_curvature(z,params) )-\n",
    "            (x**2+y**2)/(pl.w(z,params)**(2)) \n",
    "            )    \n",
    "        )\n",
    "        \n",
    "        #with gap 1/1000 plane width\n",
    "        cr = quadgl(f, [plane.ymin,plane.ymax],[plane.xmax*gapsize,plane.xmax])\n",
    "        cl = quadgl(f, [plane.ymin,plane.ymax],[plane.xmin,plane.xmin*gapsize])\n",
    "        \n",
    "        print(cr,cl)\n",
    "        \n",
    "        #args for phi_r and phi_l\n",
    "        phi_r = cm.phase(cr)\n",
    "        phi_l = cm.phase(cl)\n",
    "        \n",
    "        #result in cycles\n",
    "        sol[i] = 0.5*(phi_r-phi_l)/(2*pi)\n",
    "    \n",
    "    print(sol[0],sol[1])\n",
    "    return (sol) "
   ]
  },
  {
   "cell_type": "code",
   "execution_count": 139,
   "metadata": {},
   "outputs": [
    {
     "name": "stdout",
     "output_type": "stream",
     "text": [
      "(5.75222571403672e-755 + 0.0j) (9.46376186132651e+8055 + 0.0j)\n",
      "(5.75182735190414e-755 + 0.0j) (9.47098066864319e+8055 + 0.0j)\n",
      "(5.75142901732873e-755 + 0.0j) (9.47820498313744e+8055 + 0.0j)\n",
      "(5.75103071030857e-755 + 0.0j) (9.48543480901125e+8055 + 0.0j)\n",
      "(5.75063243084176e-755 + 0.0j) (9.49267015046981e+8055 + 0.0j)\n",
      "0.0 0.0\n"
     ]
    },
    {
     "data": {
      "image/png": "[encoded data removed]",
      "text/plain": [
       "<Figure size 648x432 with 1 Axes>"
      ]
     },
     "metadata": {
      "needs_background": "light"
     },
     "output_type": "display_data"
    }
   ],
   "source": [
    "gapsize = 1e-3 # gap full-width [m]\n",
    "z = 1 # optical axis location [m]\n",
    "\n",
    "alpha_lin = np.linspace(-700e-6,700e-6,5)\n",
    "\n",
    "plt.figure(figsize=(9,6))\n",
    "plt.plot(alpha_lin, integ_gaps(alpha_lin,gapsize,z=0))\n",
    "\n",
    "plt.xlabel(r'Tilt Angle, $\\alpha\\;$[' + 'rad]', fontsize=15) \n",
    "plt.ylabel(r'Phase Diff, $\\Delta \\phi\\;[' +  'cycles]$', fontsize=15) \n",
    "plt.title(r'Tilted Gaussian: gap = ' + str(gapsize) + 'm, z =' + str(z) + 'm') \n",
    "\n",
    "plt.grid()"
   ]
  },
  {
   "cell_type": "code",
   "execution_count": null,
   "metadata": {},
   "outputs": [],
   "source": []
  }
 ],
 "metadata": {
  "kernelspec": {
   "display_name": "Python 3",
   "language": "python",
   "name": "python3"
  },
  "language_info": {
   "codemirror_mode": {
    "name": "ipython",
    "version": 3
   },
   "file_extension": ".py",
   "mimetype": "text/x-python",
   "name": "python",
   "nbconvert_exporter": "python",
   "pygments_lexer": "ipython3",
   "version": "3.7.3"
  }
 },
 "nbformat": 4,
 "nbformat_minor": 2
}
