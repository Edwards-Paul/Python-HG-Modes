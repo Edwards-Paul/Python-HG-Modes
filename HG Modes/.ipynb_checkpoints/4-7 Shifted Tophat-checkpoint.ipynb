{
 "cells": [
  {
   "cell_type": "markdown",
   "metadata": {
    "slideshow": {
     "slide_type": "slide"
    }
   },
   "source": [
    "# Shifted-tilted Tophat at Gaussian interference at waist\n",
    "\n",
    "The new tophat modes after applying first-order shift and tilt are (for a shift $x - a$)\n",
    "\n",
    "\\begin{equation}\n",
    "\tu_{n,m} =\n",
    "     u_{n,m}\n",
    "        \\left[\n",
    "        1 + \\frac{2 a }{w(z)^2} x + i k \\alpha x + i \\frac{2 k \\alpha a}{w(z)^2} x^2 \n",
    "    \\right]\n",
    "    - \n",
    "\ta \\frac{2 \\sqrt{n}}{w(z)} \n",
    "\tu_{n-1,m}\n",
    "\t\\left[\n",
    "        1+ i k \\alpha x\n",
    "    \\right]\t \\; .\n",
    "\\end{equation}\n",
    "\n",
    "The new tophat modes after applying first-order shift and tilt are (for a shift $x + a$, matching AW):\n",
    "\\begin{equation}\n",
    "\t u_{n,m} =\n",
    "     u_{n,m}\n",
    "        \\left[\n",
    "        1 - \\frac{2 a }{w(z)^2} x + i k \\alpha x - i \\frac{2 k \\alpha a}{w(z)^2} x^2 \n",
    "    \\right]\n",
    "    + \n",
    "\ta \\frac{2 \\sqrt{n}}{w(z)} \n",
    "\tu_{n-1,m}\n",
    "\t\\left[\n",
    "        1+ i k \\alpha x\n",
    "    \\right]\t \\; .\n",
    "\\end{equation}\n"
   ]
  },
  {
   "cell_type": "code",
   "execution_count": 1,
   "metadata": {
    "slideshow": {
     "slide_type": "skip"
    }
   },
   "outputs": [],
   "source": [
    "import PauLisa as pl, numpy as np, matplotlib.pyplot as plt\n",
    "from scipy.special import erfi as erfi\n",
    "pi=np.pi\n",
    "\n",
    "import scipy.io"
   ]
  },
  {
   "cell_type": "code",
   "execution_count": 2,
   "metadata": {},
   "outputs": [],
   "source": [
    "mat = scipy.io.loadmat('Top_hat_for_paul.mat')\n",
    "coef=mat['coeftop'].ravel()"
   ]
  },
  {
   "cell_type": "markdown",
   "metadata": {},
   "source": [
    "Using simtools mode indexing in Python:\n",
    "\n",
    "$\n",
    "m = \\frac{(N+1)(N+2)}{2}- (A_{python} + 1)\n",
    "$\n",
    "\n",
    "$\n",
    "\\rightarrow A_{python} =  \\frac{(N+1)(N+2)}{2} + 1 -m \n",
    "$\n",
    "\n",
    "$\n",
    "n = A_{python} - \\frac{N(N+1)}{2} = N-m\n",
    "$\n",
    "\n",
    "$\n",
    "\\rightarrow A_{python} = N-m + - \\frac{N(N+1)}{2} \n",
    "$\n",
    "\n",
    "$\n",
    "N = floor( \\frac{\\sqrt{8A_{python}+1} - 1}{2} ) = ceil(\\frac{\\sqrt{9+8A_{python}} - 3}{2} )\n",
    "$"
   ]
  },
  {
   "cell_type": "code",
   "execution_count": 3,
   "metadata": {},
   "outputs": [],
   "source": [
    "def N_f(A):\n",
    "    \n",
    "    res = np.floor((np.sqrt(8*A+1)-1)/2)\n",
    "    \n",
    "    #res = (np.sqrt(9+8*A)-3)/2\n",
    "    return(res)\n",
    "\n",
    "def m(N,A):\n",
    "    res = (N+1)*(N+2)/2 - (A+1)\n",
    "    return(res)\n",
    "\n",
    "#def n(N,A):\n",
    "#    m= (N+1)*(N+2)/2 - (A+1)\n",
    "#    res = N-m\n",
    "#    return(res)\n",
    "def n(N,A):\n",
    "    res = A - (N*(N+1)/2)\n",
    "    return(res)\n",
    "\n",
    "NumberModes = int(len(coef))\n",
    "listModesN = [None] * NumberModes\n",
    "listModesM = [None] * NumberModes\n",
    "listModesC = [None] * NumberModes\n",
    "\n",
    "\n",
    "\n",
    "#for i in range(len(coef)):\n",
    "#    A=i\n",
    "#    N= N_f(A)\n",
    "#\n",
    "#    if (m(N,A)%2 == 0) & (n(N,A)%2 == 0):\n",
    "#        print(coef[A], '\\t\\t\\t' , m(N,A), ',' , n(N,A))\n",
    "\n",
    "for i in range(NumberModes):\n",
    "    A=i\n",
    "    N= N_f(A)\n",
    "    listModesN[i] = int(m(N,A))\n",
    "    listModesM[i] = int(n(N,A))\n",
    "    listModesC[i] = coef[i]\n",
    "    \n",
    "    "
   ]
  },
  {
   "cell_type": "code",
   "execution_count": 4,
   "metadata": {
    "scrolled": false
   },
   "outputs": [
    {
     "name": "stdout",
     "output_type": "stream",
     "text": [
      "\n",
      "wavelength=1.064e-06\n",
      "w0=0.00023067\n",
      "z0=0\n",
      "Zr=0.15710516963503632\n",
      "q0=0.15710516963503632j\n",
      "\n",
      "xmin=-0.002,xmax=0.002,xpoints=300,x step size = 1.3333333333333333e-05\n",
      "ymin=-0.002,ymax=0.002,ypoints=300,y step size = 1.3333333333333333e-05\n"
     ]
    }
   ],
   "source": [
    "plane = pl.Plane(-2e-3, 2e-3, 300, -2e-3, 2e-3, 300)\n",
    "params = pl.Params(1064e-9, 0.00023067,0)\n",
    "\n",
    "modes = pl.create_modes(listModesM,listModesN,listModesC,NumberModes)\n",
    "modes18= pl.create_modes_order18(listModesM,listModesN,listModesC,NumberModes)\n",
    "print(params)\n",
    "print(plane)\n"
   ]
  },
  {
   "cell_type": "code",
   "execution_count": 5,
   "metadata": {},
   "outputs": [],
   "source": [
    "a = 100e-6\n",
    "alpha = 0\n",
    "z=0.00023067"
   ]
  },
  {
   "cell_type": "code",
   "execution_count": 6,
   "metadata": {},
   "outputs": [],
   "source": [
    "f = pl.calculate_case2(params,plane,modes,z,a,alpha)\n",
    "#f18 = pl.calculate_case2_no_scatter(params,plane,modes18,z,a,alpha)"
   ]
  },
  {
   "cell_type": "code",
   "execution_count": 7,
   "metadata": {
    "scrolled": false
   },
   "outputs": [
    {
     "data": {
      "image/png": "[encoded data removed]",
      "text/plain": [
       "<Figure size 936x720 with 2 Axes>"
      ]
     },
     "metadata": {
      "needs_background": "light"
     },
     "output_type": "display_data"
    }
   ],
   "source": [
    "fig, ax = plt.subplots(figsize=(13, 10))\n",
    "cs = plt.contourf(f.plane.getX(), f.plane.getY(), abs(f.getAmp() ** 2))\n",
    "plt.xlabel('X [m]')\n",
    "plt.ylabel('Y [m]')\n",
    "cbar = fig.colorbar(cs)\n",
    "plt.title('Intensity')\n",
    "ax.ticklabel_format(axis='x', style='sci', scilimits=(-3, -3), useMathText=True)\n",
    "ax.ticklabel_format(axis='y', style='sci', scilimits=(-3, -3), useMathText=True)"
   ]
  },
  {
   "cell_type": "code",
   "execution_count": null,
   "metadata": {
    "scrolled": false
   },
   "outputs": [],
   "source": [
    "fig, ax = plt.subplots(figsize=(13, 10))\n",
    "cs = plt.contourf(f18.plane.getX(), f18.plane.getY(), abs(f18.getAmp() ** 2))\n",
    "plt.xlabel('X [m]')\n",
    "plt.ylabel('Y [m]')\n",
    "cbar = fig.colorbar(cs)\n",
    "plt.title('Intensity')\n",
    "ax.ticklabel_format(axis='x', style='sci', scilimits=(-3, -3), useMathText=True)\n",
    "ax.ticklabel_format(axis='y', style='sci', scilimits=(-3, -3), useMathText=True)"
   ]
  },
  {
   "cell_type": "code",
   "execution_count": null,
   "metadata": {},
   "outputs": [],
   "source": [
    "a = 100e-6\n",
    "alpha = 100e-6\n",
    "z=0"
   ]
  },
  {
   "cell_type": "code",
   "execution_count": null,
   "metadata": {},
   "outputs": [],
   "source": [
    "f_100 = pl.calculate_case2_no_scatter(params,plane,modes,z,a,alpha)\n",
    "f18_100 = pl.calculate_case2_no_scatter(params,plane,modes18,z,a,alpha)"
   ]
  },
  {
   "cell_type": "code",
   "execution_count": null,
   "metadata": {
    "scrolled": false
   },
   "outputs": [],
   "source": [
    "fig, ax = plt.subplots(figsize=(13, 10))\n",
    "cs = plt.contourf(f_100.plane.getX(), f_100.plane.getY(), abs(f_100.getAmp() ** 2))\n",
    "plt.xlabel('X [m]')\n",
    "plt.ylabel('Y [m]')\n",
    "cbar = fig.colorbar(cs)\n",
    "plt.title('Intensity')\n",
    "ax.ticklabel_format(axis='x', style='sci', scilimits=(-3, -3), useMathText=True)\n",
    "ax.ticklabel_format(axis='y', style='sci', scilimits=(-3, -3), useMathText=True)"
   ]
  },
  {
   "cell_type": "code",
   "execution_count": null,
   "metadata": {
    "scrolled": false
   },
   "outputs": [],
   "source": [
    "fig, ax = plt.subplots(figsize=(13, 10))\n",
    "cs = plt.contourf(f18_100.plane.getX(), f18_100.plane.getY(), abs(f18_100.getAmp() ** 2))\n",
    "plt.xlabel('X [m]')\n",
    "plt.ylabel('Y [m]')\n",
    "cbar = fig.colorbar(cs)\n",
    "plt.title('Intensity')\n",
    "ax.ticklabel_format(axis='x', style='sci', scilimits=(-3, -3), useMathText=True)\n",
    "ax.ticklabel_format(axis='y', style='sci', scilimits=(-3, -3), useMathText=True)"
   ]
  },
  {
   "cell_type": "code",
   "execution_count": null,
   "metadata": {},
   "outputs": [],
   "source": [
    "a = 100e-6\n",
    "alpha = 200e-6\n",
    "z=0"
   ]
  },
  {
   "cell_type": "code",
   "execution_count": null,
   "metadata": {},
   "outputs": [],
   "source": [
    "f_200 = pl.calculate_case2_no_scatter(params,plane,modes,z,a,alpha)\n",
    "f18_200 = pl.calculate_case2_no_scatter(params,plane,modes18,z,a,alpha)"
   ]
  },
  {
   "cell_type": "code",
   "execution_count": null,
   "metadata": {
    "scrolled": false
   },
   "outputs": [],
   "source": [
    "fig, ax = plt.subplots(figsize=(13, 10))\n",
    "cs = plt.contourf(f_200.plane.getX(), f_200.plane.getY(), abs(f_200.getAmp() ** 2))\n",
    "plt.xlabel('X [m]')\n",
    "plt.ylabel('Y [m]')\n",
    "cbar = fig.colorbar(cs)\n",
    "plt.title('Intensity')\n",
    "ax.ticklabel_format(axis='x', style='sci', scilimits=(-3, -3), useMathText=True)\n",
    "ax.ticklabel_format(axis='y', style='sci', scilimits=(-3, -3), useMathText=True)"
   ]
  },
  {
   "cell_type": "code",
   "execution_count": null,
   "metadata": {
    "scrolled": false
   },
   "outputs": [],
   "source": [
    "fig, ax = plt.subplots(figsize=(13, 10))\n",
    "cs = plt.contourf(f18_200.plane.getX(), f18_200.plane.getY(), abs(f18_200.getAmp() ** 2))\n",
    "plt.xlabel('X [m]')\n",
    "plt.ylabel('Y [m]')\n",
    "cbar = fig.colorbar(cs)\n",
    "plt.title('Intensity')\n",
    "ax.ticklabel_format(axis='x', style='sci', scilimits=(-3, -3), useMathText=True)\n",
    "ax.ticklabel_format(axis='y', style='sci', scilimits=(-3, -3), useMathText=True)"
   ]
  },
  {
   "cell_type": "code",
   "execution_count": null,
   "metadata": {
    "scrolled": false
   },
   "outputs": [],
   "source": [
    "fig,plt.subplots(figsize=(20, 40))\n",
    "\n",
    "plt.subplot(3,1,1)\n",
    "\n",
    "\n",
    "cs = plt.contourf(f.plane.getX(), f.plane.getY(), abs(f.getAmp() ** 2))\n",
    "plt.xlabel('X [m]')\n",
    "plt.ylabel('Y [m]')\n",
    "plt.colorbar(cs)\n",
    "plt.title('Intensity')\n",
    "plt.ticklabel_format(axis='x', style='sci', scilimits=(-3, -3), useMathText=True)\n",
    "plt.ticklabel_format(axis='y', style='sci', scilimits=(-3, -3), useMathText=True)\n",
    "\n",
    "plt.subplot(3,1,2)\n",
    "cs = plt.contourf(f_100.plane.getX(), f_100.plane.getY(), abs(f_100.getAmp() ** 2))\n",
    "plt.xlabel('X [m]')\n",
    "plt.ylabel('Y [m]')\n",
    "plt.colorbar(cs)\n",
    "plt.title('Intensity')\n",
    "plt.ticklabel_format(axis='x', style='sci', scilimits=(-3, -3), useMathText=True)\n",
    "plt.ticklabel_format(axis='y', style='sci', scilimits=(-3, -3), useMathText=True)\n",
    "\n",
    "plt.subplot(3,1,3)\n",
    "cs = plt.contourf(f_200.plane.getX(), f_200.plane.getY(), abs(f_200.getAmp() ** 2))\n",
    "plt.xlabel('X [m]')\n",
    "plt.ylabel('Y [m]')\n",
    "plt.colorbar(cs)\n",
    "plt.title('Intensity')\n",
    "plt.ticklabel_format(axis='x', style='sci', scilimits=(-3, -3), useMathText=True)\n",
    "plt.ticklabel_format(axis='y', style='sci', scilimits=(-3, -3), useMathText=True)\n",
    "\n",
    "plt.savefig(\"tophat.pdf\")"
   ]
  },
  {
   "cell_type": "code",
   "execution_count": null,
   "metadata": {},
   "outputs": [],
   "source": []
  }
 ],
 "metadata": {
  "kernelspec": {
   "display_name": "Python 3",
   "language": "python",
   "name": "python3"
  },
  "language_info": {
   "codemirror_mode": {
    "name": "ipython",
    "version": 3
   },
   "file_extension": ".py",
   "mimetype": "text/x-python",
   "name": "python",
   "nbconvert_exporter": "python",
   "pygments_lexer": "ipython3",
   "version": "3.7.3"
  }
 },
 "nbformat": 4,
 "nbformat_minor": 2
}
