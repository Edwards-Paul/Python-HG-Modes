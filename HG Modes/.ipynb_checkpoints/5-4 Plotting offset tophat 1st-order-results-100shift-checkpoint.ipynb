{
 "cells": [
  {
   "cell_type": "markdown",
   "metadata": {
    "slideshow": {
     "slide_type": "slide"
    }
   },
   "source": [
    "# Shifted-tilted Tophat at Gaussian interference at waist\n",
    "\n",
    "Applying first-order shift,tilt to tophat, integrate with HG00\n",
    "\n",
    "\\begin{equation}\n",
    "\tu_{n,m} \\rightarrow\n",
    "     u_{n,m}\n",
    "        \\left[\n",
    "        1 - \\frac{2 a }{w(z)^2} x + i k \\alpha x - i \\frac{2 k \\alpha a}{w(z)^2} x^2 \n",
    "    \\right]\n",
    "    + \n",
    "\ta \\frac{2 \\sqrt{n}}{w(z)} \n",
    "\t\\exp(i \\Psi(z))\n",
    "\tu_{n-1,m}\n",
    "\t\\left[\n",
    "        1+ i k \\alpha x\n",
    "    \\right]\t \\; .\n",
    "\\end{equation}\n",
    "\n",
    "Scatter these with\n",
    "\n",
    "\\begin{align*}\n",
    "\\sum_{n,m} u_{n,m} \\rightarrow \n",
    "\t\\sum_{n,m} \n",
    "\t\\lbrace &\n",
    "\t\tu_{n+2,m}[ X_+^2(-i\\frac{2ka\\alpha}{w^2})]\n",
    "\t\t\\\\+&\n",
    "\t\tu_{n+1,m}[ X_+^1(ik\\alpha - \\frac{2a}{w^2})]\n",
    "\t\t\\\\+&\n",
    "\t\tu_{n,m} [1+X_+^1(ik\\alpha \\frac{2a\\sqrt{n}}{w} e^{i\\Psi})- X_0^2 (i\\frac{2ka\\alpha}{w^2})]\n",
    "\t\t\\\\+&\n",
    "\t\tu_{n-1,m} [\\frac{2a\\sqrt{n}}{w} e^{i\\Psi} + X_-^1(ik\\alpha - \\frac{2a}{w^2})]\n",
    "\t\t\\\\+&\n",
    "\t\tu_{n-2,m} [ X_-^1(ik\\alpha a\\frac{2\\sqrt{n}}{w}e^{i\\Psi}) - X_-^2 (i\\frac{2ka\\alpha}{w^2})] \t\n",
    "\t\\rbrace\n",
    "\\end{align*}"
   ]
  },
  {
   "cell_type": "code",
   "execution_count": 1,
   "metadata": {
    "slideshow": {
     "slide_type": "skip"
    }
   },
   "outputs": [],
   "source": [
    "import PauLisa as pl, PL_Plot as plplt,plback as plb, Tophat_integration_AW as th, numpy as np, matplotlib.pyplot as plt, cmath as cm\n",
    "\n",
    "from numpy import pi as pi\n",
    "from numpy import angle\n",
    "from math import e\n",
    "from numpy import sqrt as sqrt\n",
    "from scipy.special import erf as erf\n",
    "import mpmath as mp\n",
    "import scipy.io\n",
    "\n",
    "from math import pi, log, exp, sin, cos, atan, e, radians, degrees\n",
    "from scipy.special import gamma as gamma\n",
    "from scipy.special import erf as erf\n",
    "from math import factorial as fact\n",
    "import cmath\n",
    "from cmath import sqrt as sqrt\n",
    "import numpy as np\n",
    "\n",
    "from time import process_time\n",
    "\n",
    "inf=np.inf\n",
    "\n",
    "import pandas as pd\n",
    "from pprint import pprint\n"
   ]
  },
  {
   "cell_type": "markdown",
   "metadata": {},
   "source": [
    "## Tophat coeffients from AW"
   ]
  },
  {
   "cell_type": "code",
   "execution_count": 2,
   "metadata": {},
   "outputs": [],
   "source": [
    "mat = scipy.io.loadmat('Top_hat_for_paul.mat')\n",
    "coef=mat['coeftop'].ravel()\n",
    "\n",
    "def N_f(A):\n",
    "    \n",
    "    res = np.floor((np.sqrt(8*A+1)-1)/2)\n",
    "    \n",
    "    #res = (np.sqrt(9+8*A)-3)/2\n",
    "    return(res)\n",
    "\n",
    "def m(N,A):\n",
    "    res = (N+1)*(N+2)/2 - (A+1)\n",
    "    return(res)\n",
    "\n",
    "#def n(N,A):\n",
    "#    m= (N+1)*(N+2)/2 - (A+1)\n",
    "#    res = N-m\n",
    "#    return(res)\n",
    "def n(N,A):\n",
    "    res = A - (N*(N+1)/2)\n",
    "    return(res)\n",
    "\n",
    "NumberModes = int(len(coef))\n",
    "listModesN = [None] * NumberModes\n",
    "listModesM = [None] * NumberModes\n",
    "listModesC = [None] * NumberModes\n",
    "\n",
    "area = pi*1e-3**2\n",
    "\n",
    "#for i in range(len(coef)):\n",
    "#    A=i\n",
    "#    N= N_f(A)\n",
    "#\n",
    "#    if (m(N,A)%2 == 0) & (n(N,A)%2 == 0):\n",
    "#        print(coef[A], '\\t\\t\\t' , m(N,A), ',' , n(N,A))\n",
    "\n",
    "for i in range(NumberModes):\n",
    "    A=i\n",
    "    N= N_f(A)\n",
    "    listModesN[i] = int(m(N,A))\n",
    "    listModesM[i] = int(n(N,A))\n",
    "    listModesC[i] = coef[i]/sqrt(area)\n",
    "    \n",
    "    "
   ]
  },
  {
   "cell_type": "code",
   "execution_count": 3,
   "metadata": {
    "scrolled": false
   },
   "outputs": [],
   "source": [
    "\n",
    "\n",
    "modes = pl.create_modes(listModesM,listModesN,listModesC,NumberModes)\n",
    "\n",
    "N=28 # mode order\n",
    "modes_N= pl.create_modes_orderN(listModesM,listModesN,listModesC,NumberModes,N)\n",
    "\n",
    "\n"
   ]
  },
  {
   "cell_type": "markdown",
   "metadata": {},
   "source": [
    "## Integration for signals"
   ]
  },
  {
   "cell_type": "code",
   "execution_count": 4,
   "metadata": {},
   "outputs": [],
   "source": [
    "#loop through and sum over modes overlap where a,b -> n,m\n",
    "def iterate_modes_overlap(w_1,w_2,zR_1,zR_2,k_1,k_2,d_1,W_2,x_1,x_2,Z,Y,modes):   \n",
    "\n",
    "    N = len(modes)\n",
    "    M = len(modes[0])\n",
    "    res_arr = [[0 for i in range(10)] for j in range(10)]\n",
    "    res = 0\n",
    "\n",
    "    for a in range(N):\n",
    "        for b in range(M):            \n",
    "            #ignore zero coeff.\n",
    "            if (modes[a][b]!=0):\n",
    "                c_nm = modes[a][b]\n",
    "                res += c_nm * th.overlap(a,b,w_1,w_2,zR_1,zR_2,k_1,k_2,d_1,W_2,x_1,x_2,Z,Y)\n",
    "                #print( 'n,m:',a,b,th.overlap(a,b,w_1,w_2,zR_1,zR_2,k_1,k_2,d_1,W_2,x_1,x_2,Z,Y))\n",
    "                \n",
    "    return(res)"
   ]
  },
  {
   "cell_type": "code",
   "execution_count": 5,
   "metadata": {},
   "outputs": [],
   "source": [
    "def signals(v):\n",
    "    points = v.points\n",
    "    time_start = process_time()\n",
    "\n",
    "    time_ave = 0\n",
    "\n",
    "    #modes_arr = [0]*points\n",
    "    cl = [0]*points\n",
    "    cr = [0]*points\n",
    "    phi_l = [0]*points\n",
    "    phi_r = [0]*points\n",
    "    dws = [0]*points\n",
    "    lps = [0]*points\n",
    "\n",
    "\n",
    "    #alpha_arr = np.linspace(-500e-6,500e-6,points)\n",
    "\n",
    "    for p in range (points):\n",
    "        #modes_arr[p] = pl.scatter_case2_first_order(z,params,a,alpha,modes18) #array of array of scattered modes#array of array of scattered modes\n",
    "        time_ave_start = process_time()\n",
    "\n",
    "        cl[p] = iterate_modes_overlap(v.w_1,v.w_2,v.zR_1,v.zR_2,v.k_1,v.k_2,v.d_1,v.W_2,v.x_1L,v.x_2L,v.Z,v.Y,v.modes_arr[p]) # left overlap (-2e-3,0)\n",
    "\n",
    "        cr[p] = iterate_modes_overlap(v.w_1,v.w_2,v.zR_1,v.zR_2,v.k_1,v.k_2,v.d_1,v.W_2,v.x_1R,v.x_2R,v.Z,v.Y,v.modes_arr[p]) # right overlap (0,2e-3)\n",
    "        time_ave += (process_time()-time_ave_start)\n",
    "\n",
    "\n",
    "        phi_r[p]=angle(cr[p])\n",
    "        phi_l[p]=angle(cl[p])\n",
    "\n",
    "        dws[p] = phi_r[p]-phi_l[p]\n",
    "        lps[p] = 0.5*(phi_r[p]+phi_l[p])\n",
    "    \n",
    "    time_elapsed = (process_time() - time_start)\n",
    "    print(time_elapsed,'s')\n",
    "    print(time_ave/p,'s')\n",
    "    \n",
    "    return(dws,lps)"
   ]
  },
  {
   "cell_type": "code",
   "execution_count": 6,
   "metadata": {},
   "outputs": [],
   "source": [
    "class Vars:\n",
    "#modes,alpha with points\n",
    "    def __init__(self, \n",
    "                 lam=1064e-9,\n",
    "                 z_PD=10e-3,z=10e-3,\n",
    "                 z_m=0,Z=10e-3,\n",
    "                 z_LO=0, d_1=10e-3,\n",
    "                 Y=2e-3,\n",
    "                 x_1R=20e-6,x_2R=2e-3,\n",
    "                 x_1L=-2e-3,x_2L=-20e-6,\n",
    "                 w_1=1e-3, w_2=0.00023067,\n",
    "                 zR_1=pi*1e-3**2/1064e-9,zR_2=pi*0.00023067**2/1064e-9,\n",
    "                 k_1=5905249.348852994,k_2=5905249.348852994,\n",
    "                 params=pl.Params(1064e-9,0.00023067,0),\n",
    "                 W_2=pl.w(0.00023067,pl.Params(1064e-9,0.00023067,0)),\n",
    "                 points=51,\n",
    "                 a=10,alpha_arr=np.linspace(-500e-6,500e-6,51),modes_arr=[0]*51):\n",
    "        self.lam = lam\n",
    "\n",
    "\n",
    "        self.z_PD = z_PD #PD location\n",
    "        self.z = z #prop distance assumed PD\n",
    "\n",
    "        self.z_m = z_m #meas beam \n",
    "        self.Z = Z #distance PD-m\n",
    "\n",
    "        self.z_LO = z_LO #Local ref. beam\n",
    "        self.d_1 = d_1 #distance PD-LO\n",
    "\n",
    "\n",
    "        self.Y = Y #Y int bound\n",
    "\n",
    "        self.x_1R = x_1R\n",
    "        self.x_2R = x_2R \n",
    "\n",
    "        self.x_1L = x_1L #assumed symmetric with right side\n",
    "        self.x_2L = x_2L\n",
    "\n",
    "        self.w_1 = w_1 #waist LO \n",
    "        self.w_2 = w_2 #waist MS\n",
    "\n",
    "        self.zR_1 = zR_1 #rayleigh LO\n",
    "        self.zR_2 = zR_2\n",
    "\n",
    "\n",
    "        self.k_1 = k_1 #wavenum LO\n",
    "        self.k_2 = k_2\n",
    "\n",
    "        self.params = params #for building tophat coefficients\n",
    "\n",
    "        self.W_2 = W_2 #tophat beam rad , w(z) or 1e-3?\n",
    "\n",
    "\n",
    "\n",
    "        #integration and misalignment\n",
    "        self.points = points\n",
    "\n",
    "        self.a = a\n",
    "        self.alpha_arr = alpha_arr\n",
    "\n",
    "        self.modes_arr = modes_arr\n",
    "\n",
    "        #build modes from misalignments\n",
    "        for p in range (points):\n",
    "            self.modes_arr[p] = pl.scatter_case2_first_order(z,params,a,alpha_arr[p],modes) #array of array of scattered modes#array of array of scattered modes\n",
    "\n",
    "    def setz(self,z):\n",
    "        self.z = z #prop distance assumed PD\n",
    "        self.z_PD = z #PD location\n",
    "        \n",
    "        self.Z = z-self.z_m #distance PD-m\n",
    "\n",
    "        self.d_1 = self.z_PD-self.z_LO #distance PD-LO\n",
    "    \n",
    "        self.W_2 = pl.w(z,pl.Params(1064e-9,0.00023067,0))\n",
    "        \n",
    "v = Vars()\n"
   ]
  },
  {
   "cell_type": "markdown",
   "metadata": {},
   "source": [
    "## Defaults"
   ]
  },
  {
   "cell_type": "code",
   "execution_count": 7,
   "metadata": {
    "scrolled": false
   },
   "outputs": [
    {
     "name": "stdout",
     "output_type": "stream",
     "text": [
      "42.84375 s\n",
      "0.856875 s\n"
     ]
    },
    {
     "data": {
      "image/png": "[encoded data removed]",
      "text/plain": [
       "<Figure size 648x432 with 1 Axes>"
      ]
     },
     "metadata": {
      "needs_background": "light"
     },
     "output_type": "display_data"
    },
    {
     "data": {
      "image/png": "[encoded data removed]",
      "text/plain": [
       "<Figure size 648x432 with 1 Axes>"
      ]
     },
     "metadata": {
      "needs_background": "light"
     },
     "output_type": "display_data"
    }
   ],
   "source": [
    "dws,lps = signals(v)\n",
    "####################\n",
    "plt.figure(figsize=(9,6))\n",
    "plt.plot(v.alpha_arr, dws)\n",
    "\n",
    "plt.xlabel(r'Tilt Angle, $\\alpha\\;$[' + 'rad]', fontsize=15) \n",
    "plt.ylabel(r'DWS Signal Phase $[' +  'rad]$', fontsize=15) \n",
    "plt.title(r'DWS Tophat-Gaussian, Centered on PD - defaults') \n",
    "plt.grid()\n",
    "\n",
    "#plt.savefig(\"5-4_HG00_dws.png\")\n",
    "########################\n",
    "plt.figure(figsize=(9,6))\n",
    "plt.plot(v.alpha_arr, lps)\n",
    "\n",
    "plt.xlabel(r'Tilt Angle, $\\alpha\\;$[' + 'rad]', fontsize=15) \n",
    "plt.ylabel(r'LPS Signal Phase $[' +  'rad]$', fontsize=15) \n",
    "plt.title(r'LPS Tophat-Gaussian, Centered on PD - defaults') \n",
    "\n",
    "plt.grid()\n",
    "\n",
    "#plt.savefig(\"5-4_HG00_lps.png\")"
   ]
  },
  {
   "cell_type": "markdown",
   "metadata": {},
   "source": [
    "## Distance PD"
   ]
  },
  {
   "cell_type": "code",
   "execution_count": null,
   "metadata": {
    "scrolled": false
   },
   "outputs": [],
   "source": [
    "param_name = 'Distance to PD'\n",
    "distance_to_pd = [10e-3,5e-3,2e-3,1e-3,0e-3]\n",
    "dws_arr = [0]*len(distance_to_pd)\n",
    "lps_arr = [0]*len(distance_to_pd)\n",
    "ind=0\n",
    "for i in (distance_to_pd):\n",
    "    v=Vars()\n",
    "    v.setz(i)\n",
    "    dws_arr[ind],lps_arr[ind]=signals(v)\n",
    "    ind+=1"
   ]
  },
  {
   "cell_type": "code",
   "execution_count": null,
   "metadata": {},
   "outputs": [],
   "source": [
    "####################\n",
    "plt.figure(figsize=(9,6))\n",
    "\n",
    "ind = 0\n",
    "for i in (dws_arr):\n",
    "    plt.plot(v.alpha_arr, i,label=str(distance_to_pd[ind]*1e3)+'mm')\n",
    "    ind+=1\n",
    "    \n",
    "plt.xlabel(r'Tilt Angle, $\\alpha\\;$[' + 'rad]', fontsize=15) \n",
    "plt.ylabel(r'DWS Signal Phase $[' +  'rad]$', fontsize=15) \n",
    "plt.title(r'DWS: '+param_name) \n",
    "plt.legend(loc='upper right')\n",
    "plt.grid()\n",
    "\n",
    "#plt.savefig(\"5-4_HG00_dws.png\")\n",
    "########################\n",
    "plt.figure(figsize=(9,6))\n",
    "\n",
    "ind=0\n",
    "for i in (lps_arr):\n",
    "    plt.plot(v.alpha_arr, i,label=str(distance_to_pd[ind]*1e3)+'mm')\n",
    "    ind+=1\n",
    "    \n",
    "plt.xlabel(r'Tilt Angle, $\\alpha\\;$[' + 'rad]', fontsize=15) \n",
    "plt.ylabel(r'LPS Signal Phase $[' +  'rad]$', fontsize=15) \n",
    "plt.title(r'LPS: '+param_name) \n",
    "plt.legend(loc='upper right')\n",
    "plt.grid()\n",
    "\n",
    "#plt.savefig(\"5-4_HG00_lps.png\")"
   ]
  },
  {
   "cell_type": "markdown",
   "metadata": {},
   "source": [
    "## PD Size"
   ]
  },
  {
   "cell_type": "code",
   "execution_count": null,
   "metadata": {
    "scrolled": false
   },
   "outputs": [],
   "source": [
    "param_name = 'PD Size'\n",
    "par1 = [200e-3,2e-3,1.5e-3,1e-3]\n",
    "dws_arr1 = [0]*len(par1)\n",
    "lps_arr1 = [0]*len(par1)\n",
    "ind=0\n",
    "for i in (par1):\n",
    "    v=Vars()\n",
    "    v.x_2R=i\n",
    "    v.x_1L=-i\n",
    "    dws_arr1[ind],lps_arr1[ind]=signals(v)\n",
    "    ind+=1"
   ]
  },
  {
   "cell_type": "code",
   "execution_count": null,
   "metadata": {},
   "outputs": [],
   "source": [
    "####################\n",
    "plt.figure(figsize=(9,6))\n",
    "\n",
    "ind = 0\n",
    "for i in (dws_arr1):\n",
    "    plt.plot(v.alpha_arr, i,label=str(par1[ind]*1e3)+'mm')\n",
    "    ind+=1\n",
    "    \n",
    "plt.xlabel(r'Tilt Angle, $\\alpha\\;$[' + 'rad]', fontsize=15) \n",
    "plt.ylabel(r'DWS Signal Phase $[' +  'rad]$', fontsize=15) \n",
    "plt.title(r'DWS: '+param_name) \n",
    "plt.legend(loc='upper right')\n",
    "plt.grid()\n",
    "\n",
    "#plt.savefig(\"5-4_HG00_dws.png\")\n",
    "########################\n",
    "plt.figure(figsize=(9,6))\n",
    "\n",
    "ind=0\n",
    "for i in (lps_arr1):\n",
    "    plt.plot(v.alpha_arr, i,label=str(par1[ind]*1e3)+'mm')\n",
    "    ind+=1\n",
    "    \n",
    "plt.xlabel(r'Tilt Angle, $\\alpha\\;$[' + 'rad]', fontsize=15) \n",
    "plt.ylabel(r'LPS Signal Phase $[' +  'rad]$', fontsize=15) \n",
    "plt.title(r'LPS: '+param_name) \n",
    "plt.legend(loc='upper right')\n",
    "plt.grid()\n",
    "\n",
    "#plt.savefig(\"5-4_HG00_lps.png\")"
   ]
  },
  {
   "cell_type": "markdown",
   "metadata": {},
   "source": [
    "## Gap Size"
   ]
  },
  {
   "cell_type": "code",
   "execution_count": null,
   "metadata": {
    "scrolled": false
   },
   "outputs": [],
   "source": [
    "param_name = 'Gap Size'\n",
    "par1 = [50e-6,20e-6,0]\n",
    "dws_arr1 = [0]*len(par1)\n",
    "lps_arr1 = [0]*len(par1)\n",
    "ind=0\n",
    "for i in (par1):\n",
    "    v=Vars()\n",
    "    v.x_1R=i\n",
    "    v.x_2L=-i\n",
    "    dws_arr1[ind],lps_arr1[ind]=signals(v)\n",
    "    ind+=1"
   ]
  },
  {
   "cell_type": "code",
   "execution_count": null,
   "metadata": {},
   "outputs": [],
   "source": [
    "####################\n",
    "plt.figure(figsize=(9,6))\n",
    "\n",
    "ind = 0\n",
    "for i in (dws_arr1):\n",
    "    plt.plot(v.alpha_arr, i,label=str(par1[ind]*1e6)+'um')\n",
    "    ind+=1\n",
    "    \n",
    "plt.xlabel(r'Tilt Angle, $\\alpha\\;$[' + 'rad]', fontsize=15) \n",
    "plt.ylabel(r'DWS Signal Phase $[' +  'rad]$', fontsize=15) \n",
    "plt.title(r'DWS: '+param_name) \n",
    "plt.legend(loc='upper right')\n",
    "plt.grid()\n",
    "\n",
    "#plt.savefig(\"5-4_HG00_dws.png\")\n",
    "########################\n",
    "plt.figure(figsize=(9,6))\n",
    "\n",
    "ind=0\n",
    "for i in (lps_arr1):\n",
    "    plt.plot(v.alpha_arr, i,label=str(par1[ind]*1e6)+'um')\n",
    "    ind+=1\n",
    "    \n",
    "plt.xlabel(r'Tilt Angle, $\\alpha\\;$[' + 'rad]', fontsize=15) \n",
    "plt.ylabel(r'LPS Signal Phase $[' +  'rad]$', fontsize=15) \n",
    "plt.title(r'LPS: '+param_name) \n",
    "plt.legend(loc='upper right')\n",
    "plt.grid()\n",
    "\n",
    "#plt.savefig(\"5-4_HG00_lps.png\")"
   ]
  },
  {
   "cell_type": "markdown",
   "metadata": {},
   "source": [
    "## Ref. beam waist size"
   ]
  },
  {
   "cell_type": "code",
   "execution_count": null,
   "metadata": {
    "scrolled": false
   },
   "outputs": [],
   "source": [
    "param_name = 'Ref. Beam Waist'\n",
    "par1 = [2e-3,1e-3,0.5e-3]\n",
    "dws_arr1 = [0]*len(par1)\n",
    "lps_arr1 = [0]*len(par1)\n",
    "ind=0\n",
    "for i in (par1):\n",
    "    v=Vars()\n",
    "    v.w_1=i\n",
    "    dws_arr1[ind],lps_arr1[ind]=signals(v)\n",
    "    ind+=1"
   ]
  },
  {
   "cell_type": "code",
   "execution_count": null,
   "metadata": {},
   "outputs": [],
   "source": [
    "####################\n",
    "plt.figure(figsize=(9,6))\n",
    "param_name = 'Ref. Beam Waist'\n",
    "ind = 0\n",
    "for i in (dws_arr1):\n",
    "    plt.plot(v.alpha_arr, i,label=str(par1[ind]*1e3)+'mm')\n",
    "    ind+=1\n",
    "    \n",
    "plt.xlabel(r'Tilt Angle, $\\alpha\\;$[' + 'rad]', fontsize=15) \n",
    "plt.ylabel(r'DWS Signal Phase $[' +  'rad]$', fontsize=15) \n",
    "plt.title(r'DWS: '+param_name) \n",
    "plt.legend(loc='upper right')\n",
    "plt.grid()\n",
    "\n",
    "#plt.savefig(\"5-4_HG00_dws.png\")\n",
    "########################\n",
    "plt.figure(figsize=(9,6))\n",
    "\n",
    "ind=0\n",
    "for i in (lps_arr1):\n",
    "    plt.plot(v.alpha_arr, i,label=str(par1[ind]*1e3)+'mm')\n",
    "    ind+=1\n",
    "    \n",
    "plt.xlabel(r'Tilt Angle, $\\alpha\\;$[' + 'rad]', fontsize=15) \n",
    "plt.ylabel(r'LPS Signal Phase $[' +  'rad]$', fontsize=15) \n",
    "plt.title(r'LPS: '+param_name) \n",
    "plt.legend(loc='upper right')\n",
    "plt.grid()\n",
    "\n",
    "#plt.savefig(\"5-4_HG00_lps.png\")"
   ]
  },
  {
   "cell_type": "code",
   "execution_count": null,
   "metadata": {},
   "outputs": [],
   "source": []
  }
 ],
 "metadata": {
  "kernelspec": {
   "display_name": "Python 3",
   "language": "python",
   "name": "python3"
  },
  "language_info": {
   "codemirror_mode": {
    "name": "ipython",
    "version": 3
   },
   "file_extension": ".py",
   "mimetype": "text/x-python",
   "name": "python",
   "nbconvert_exporter": "python",
   "pygments_lexer": "ipython3",
   "version": "3.7.3"
  }
 },
 "nbformat": 4,
 "nbformat_minor": 2
}
