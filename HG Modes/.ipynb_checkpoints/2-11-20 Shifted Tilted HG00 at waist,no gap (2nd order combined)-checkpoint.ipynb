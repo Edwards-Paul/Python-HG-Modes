{
 "cells": [
  {
   "cell_type": "markdown",
   "metadata": {
    "slideshow": {
     "slide_type": "slide"
    }
   },
   "source": [
    "# Phase diff of incoming tilted,shifted Gaussian on local Gaussian for inf. half-plane PD\n",
    "\n",
    "To second-order in $\\alpha$, the expression is\n",
    "\n",
    "\\begin{align*}\n",
    "\t\t\\sum_{n,m} u_{nm}(x,y,0)=&\n",
    "\t\t\t\\left[\n",
    "\t\t\t\t1+\n",
    "\t\t\t\ti \\frac{ k a \\alpha}{ 2}\n",
    "\t\t\t\\right]\n",
    "\t\t\tu_{00}\n",
    "\t\t\t+\n",
    "\t\t\t\\left[\n",
    "\t\t\t\\frac{a}{w_{0}}\t\t\n",
    "\t\t\t+\n",
    "\t\t\ti  \\frac{k w_{0} \\alpha}{2}\t\n",
    "\t\t\t\\right]\t\t\t\n",
    "\t\t\tu_{10}\n",
    "\t\t\t+\n",
    "\t\t\ti  \n",
    "\t\t\t\t\\frac{\\sqrt{2} k a \\alpha}{ 2}\n",
    "\t\t\tu_{20}\n",
    "\t\t\t\\\\  &\n",
    "\t-\\alpha^2  (k w_0)^2 \n",
    "\t\t[ \\frac{1}{2 \\sqrt{2}} u_{20}\n",
    "\t\t+\n",
    "\t\t\\frac{1}{4} u_{00}\n",
    "\t\t]\t\n",
    "\t\t-\\alpha^2  (k^2 a w_0)\n",
    "\t[\t\n",
    "\t \\frac{ 1} {4} u_{30}\n",
    "\t+ \\frac{3}{4} u_{10}\n",
    "\t]\n",
    "\t\t\t\t \\; .\n",
    "\\end{align*}"
   ]
  },
  {
   "cell_type": "code",
   "execution_count": 1,
   "metadata": {
    "slideshow": {
     "slide_type": "skip"
    }
   },
   "outputs": [],
   "source": [
    "import PauLisa as pl, numpy as np, matplotlib.pyplot as plt\n",
    "from scipy.special import erfi as erfi\n",
    "pi=np.pi"
   ]
  },
  {
   "cell_type": "markdown",
   "metadata": {
    "slideshow": {
     "slide_type": "skip"
    }
   },
   "source": [
    "### input"
   ]
  },
  {
   "cell_type": "code",
   "execution_count": 2,
   "metadata": {
    "slideshow": {
     "slide_type": "fragment"
    }
   },
   "outputs": [],
   "source": [
    "#spot, wavelength, shift\n",
    "w= 1e-3\n",
    "lam= 1064e-9\n",
    "a = 100e-6  #100 micron shift\n",
    "k = 2*pi/lam\n",
    "\n",
    "#alpha(10nrad)\n",
    "alpha_min=-500e-6\n",
    "alpha_max=500e-6\n",
    "num_points = 1000\n",
    "alpha = np.linspace(alpha_min,alpha_max,num = num_points)\n",
    "\n",
    "## PLOT SCALES AND LABELS\n",
    "micro = 10**(6)\n",
    "nano = 10**(9)\n",
    "cycle = 1/(2*pi)\n",
    "rad = 1\n",
    "xlab = 'u'\n",
    "ylab = 'rad'\n",
    "\n",
    "##SET SCALES\n",
    "alpha_scale = micro\n",
    "phase_scale = rad\n",
    "\n",
    "if(alpha_scale==nano):\n",
    "    xlab = 'n'\n",
    "if(phase_scale==cycle):\n",
    "    ylab = 'cycles'"
   ]
  },
  {
   "cell_type": "markdown",
   "metadata": {
    "slideshow": {
     "slide_type": "skip"
    }
   },
   "source": [
    "### phase diff vs. angle"
   ]
  },
  {
   "cell_type": "markdown",
   "metadata": {
    "slideshow": {
     "slide_type": "slide"
    }
   },
   "source": [
    "# Phase diff of incoming tilted,shifted Gaussian on local Gaussian for inf. half-plane PD\n",
    "\n",
    "The phase difference:\n",
    "\n",
    "\\begin{align*}\n",
    "\t\\Delta \\phi = &\n",
    "\t\t \\frac{1}{2} \n",
    "\t\t \\left[\n",
    "\t\t \t\\phi_R - \\phi_L\n",
    "\t\t \\right]\n",
    "\t\t \\\\ = &\n",
    "\t\t \\frac{1}{2}\n",
    "\t\t \\left[\n",
    "\t\t\t\t\t\t\t\\arctan\n",
    "\t\t\t\t\\left[\n",
    "\t\t\t\t\t\\frac\n",
    "\t\t\t\t\t{ \\frac{\\pi \\alpha}{\\lambda}\n",
    "\t\t\t\t\t\\left[\n",
    "\t\t\t\t\t\ta \n",
    "\t\t\t\t\t\t+\n",
    "\t\t\t\t\t\t\\sqrt{\\frac{2}{\\pi}} w_0\n",
    "\t\t\t\t\t\\right]}\t\t\t\t\t\n",
    "\t\t\t\t{1\n",
    "\t\t\t\t+\n",
    "\t\t\t\t \\sqrt{\\frac{2}{\\pi}} \\frac{a}{w_0}\n",
    "\t\t\t\t \t\t-\\frac{1}{16}\\alpha^2 k^2 \n",
    "\t[\n",
    "\t w_0^2\n",
    "\t+ \n",
    "\ta w_0(\n",
    "\t\\frac{3 \\sqrt{2}-4}{\\sqrt{\\pi}}\n",
    "\t)\n",
    "\t]\t\t\t \n",
    "\t\t\t\t }\n",
    "\t\t\t\t\\right]\n",
    "\t\t-\n",
    "\t\t\t\\arctan\n",
    "\t\t\t\t\\left[\n",
    "\t\t\t\t\t\\frac\n",
    "\t\t\t\t\t{ \\frac{\\pi \\alpha}{\\lambda}\n",
    "\t\t\t\t\t\\left[\n",
    "\t\t\t\t\t\ta \n",
    "\t\t\t\t\t\t-\n",
    "\t\t\t\t\t\t\\sqrt{\\frac{2}{\\pi}} w_0\n",
    "\t\t\t\t\t\\right]}\t\t\t\t\t\n",
    "\t\t\t\t{1\n",
    "\t\t\t\t-\n",
    "\t\t\t\t \\sqrt{\\frac{2}{\\pi}} \\frac{a}{w_0}\n",
    "\t-\\frac{1}{16}\n",
    "\t\\alpha^2 k^2 \n",
    "\t[\n",
    "\t  w_0^2\n",
    "\t- \n",
    "\ta w_0(\n",
    "\\frac{3 \\sqrt{2}-4}{\\sqrt{\\pi}}\n",
    "\t)\n",
    "\t]\t\t\t \n",
    "\t\t\t\t }\n",
    "\t\t\t\t\\right]\n",
    "\t\t\t\\right]\t\t\t\t\t\t\t \t\n",
    "\\end{align*}"
   ]
  },
  {
   "cell_type": "code",
   "execution_count": 3,
   "metadata": {
    "slideshow": {
     "slide_type": "slide"
    }
   },
   "outputs": [
    {
     "data": {
      "image/png": "[encoded data removed]",
      "text/plain": [
       "<Figure size 648x432 with 1 Axes>"
      ]
     },
     "metadata": {
      "needs_background": "light"
     },
     "output_type": "display_data"
    }
   ],
   "source": [
    "#function    \n",
    "def phase_diff(alpha):\n",
    "    phase_result=(0.50*(phi_r(alpha)-phi_l(alpha) ))\n",
    "    return(phase_result)\n",
    "\n",
    "def gws(alpha):\n",
    "    gws_result=(0.50*(phi_r(alpha)+phi_l(alpha) ))\n",
    "    return(gws_result)\n",
    "\n",
    "def second_order_tilt_r(alpha):\n",
    "    result= ((1/16)*alpha**2 * k**2 * \n",
    "                        (\n",
    "                            w**2 + a*w* ( (3*np.sqrt(2)-4)/np.sqrt(pi))\n",
    "                        )\n",
    "            )\n",
    "    return(result)\n",
    "\n",
    "def second_order_tilt_l(alpha):\n",
    "    result= ((1/16)*alpha**2 * k**2 * \n",
    "                        (\n",
    "                            w**2 - a*w* ( (3*np.sqrt(2)-4)/np.sqrt(pi))\n",
    "                        )\n",
    "            )\n",
    "    return(result)\n",
    "\n",
    "def phi_r(alpha):\n",
    "    return(np.arctan \n",
    "            (\n",
    "                (\n",
    "                    (pi*alpha/lam)*\n",
    "                    (\n",
    "                        a\n",
    "                        +\n",
    "                        np.sqrt(2/pi)*w\n",
    "                    )\n",
    "                )  \n",
    "                    /\n",
    "                    (\n",
    "                        1\n",
    "                        +\n",
    "                        np.sqrt(2/pi)*(a/w)\n",
    "                        -\n",
    "                        second_order_tilt_r(alpha)\n",
    "                    )\n",
    "            )\n",
    "    )\n",
    "\n",
    "def phi_l(alpha):\n",
    "    return(np.arctan \n",
    "        (\n",
    "            (\n",
    "                (pi*alpha/lam)*\n",
    "                (\n",
    "                    a\n",
    "                    -\n",
    "                    np.sqrt(2/pi)*w\n",
    "                )\n",
    "            )  \n",
    "                /\n",
    "            (\n",
    "                    1\n",
    "                    -\n",
    "                    np.sqrt(2/pi)*(a/w)\n",
    "                    -\n",
    "                    second_order_tilt_l(alpha)\n",
    "            )\n",
    "        )\n",
    "    )\n",
    "\n",
    "     \n",
    "\n",
    "#plot (a*1e6 for microrad, diff/2pi for cycles)\n",
    "plt.figure(figsize=(9,6))\n",
    "\n",
    "plt.plot(alpha*alpha_scale, phase_diff(alpha), label='DWS') \n",
    "plt.plot(alpha*alpha_scale, gws(alpha), label='GWS') \n",
    "\n",
    "plt.legend(loc='lower right')\n",
    "\n",
    "plt.xlabel(r'Tilt Angle, $\\alpha\\;$[' + xlab +'rad]', fontsize=15) \n",
    "plt.ylabel(r'Phase Diff, $\\Delta \\phi\\;[' + ylab + ']$', fontsize=15) \n",
    "plt.title(r'Gapless Shift-Tilted HG00: Beams at Waist (shift = 100$\\mu m$,)') \n",
    "plt.grid() \n",
    "plt.savefig(\"tilt-shift-waist-2tilt.pdf\")\n"
   ]
  },
  {
   "cell_type": "markdown",
   "metadata": {
    "slideshow": {
     "slide_type": "skip"
    }
   },
   "source": [
    "### Computed Deriv. (just checking the previous)\n",
    "$\\frac{d \\Delta \\phi}{d \\alpha}$"
   ]
  },
  {
   "cell_type": "code",
   "execution_count": 4,
   "metadata": {
    "slideshow": {
     "slide_type": "subslide"
    }
   },
   "outputs": [
    {
     "data": {
      "image/png": "[encoded data removed]",
      "text/plain": [
       "<Figure size 648x432 with 1 Axes>"
      ]
     },
     "metadata": {
      "needs_background": "light"
     },
     "output_type": "display_data"
    }
   ],
   "source": [
    "#function\n",
    "comp_phase_diff_deriv = np.diff(phase_diff(alpha)) / np.diff(alpha)\n",
    "comp_dws_deriv = np.diff(gws(alpha)) / np.diff(alpha)\n",
    "alpha2 = (alpha[:-1] + alpha[1:]) / 2\n",
    "\n",
    "#plot (a*1e6 for microrad, diff/2pi for cycles)\n",
    "plt.figure(figsize=(9,6))\n",
    "\n",
    "plt.plot(alpha2*alpha_scale, comp_phase_diff_deriv*phase_scale, label='DWS') \n",
    "plt.plot(alpha2*alpha_scale, comp_dws_deriv*phase_scale, label='GWS')\n",
    "plt.legend(loc='lower right')\n",
    "plt.xlabel(r'Tilt Angle, $\\alpha\\;$[' + xlab +'rad]',fontsize=15) \n",
    "plt.ylabel(r'$ \\frac{d \\Delta \\phi}{d \\alpha}$', fontsize=20) \n",
    "plt.title(r'Comp. Derivative, $\\frac{d \\Delta \\phi}{d \\alpha}$') \n",
    "plt.grid()\n",
    "plt.savefig(\"tilt-shift-waist-2tilt-DER.pdf\")\n"
   ]
  },
  {
   "cell_type": "code",
   "execution_count": 42,
   "metadata": {},
   "outputs": [
    {
     "name": "stdout",
     "output_type": "stream",
     "text": [
      "295.2624674426497\n"
     ]
    }
   ],
   "source": [
    "print(2*pi*a/(2*lam))"
   ]
  },
  {
   "cell_type": "code",
   "execution_count": 43,
   "metadata": {},
   "outputs": [
    {
     "name": "stdout",
     "output_type": "stream",
     "text": [
      "0.6318239241449928\n"
     ]
    }
   ],
   "source": [
    "print(1/16*500e-6**2 * k**2 *(w**2 + 2*np.sqrt(2/pi)*a*w))"
   ]
  },
  {
   "cell_type": "code",
   "execution_count": null,
   "metadata": {},
   "outputs": [],
   "source": []
  }
 ],
 "metadata": {
  "kernelspec": {
   "display_name": "Python 3",
   "language": "python",
   "name": "python3"
  },
  "language_info": {
   "codemirror_mode": {
    "name": "ipython",
    "version": 3
   },
   "file_extension": ".py",
   "mimetype": "text/x-python",
   "name": "python",
   "nbconvert_exporter": "python",
   "pygments_lexer": "ipython3",
   "version": "3.7.3"
  }
 },
 "nbformat": 4,
 "nbformat_minor": 2
}
