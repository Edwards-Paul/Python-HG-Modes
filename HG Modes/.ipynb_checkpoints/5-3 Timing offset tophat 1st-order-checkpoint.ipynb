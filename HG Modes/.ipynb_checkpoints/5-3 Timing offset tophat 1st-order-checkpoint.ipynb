{
 "cells": [
  {
   "cell_type": "markdown",
   "metadata": {
    "slideshow": {
     "slide_type": "slide"
    }
   },
   "source": [
    "# Shifted-tilted Tophat at Gaussian interference at waist\n",
    "\n",
    "Applying first-order shift,tilt to tophat, integrate with HG00\n",
    "\n",
    "\\begin{equation}\n",
    "\tu_{n,m} \\rightarrow\n",
    "     u_{n,m}\n",
    "        \\left[\n",
    "        1 - \\frac{2 a }{w(z)^2} x + i k \\alpha x - i \\frac{2 k \\alpha a}{w(z)^2} x^2 \n",
    "    \\right]\n",
    "    + \n",
    "\ta \\frac{2 \\sqrt{n}}{w(z)} \n",
    "\t\\exp(i \\Psi(z))\n",
    "\tu_{n-1,m}\n",
    "\t\\left[\n",
    "        1+ i k \\alpha x\n",
    "    \\right]\t \\; .\n",
    "\\end{equation}\n",
    "\n",
    "Scatter these with\n",
    "\n",
    "\\begin{align*}\n",
    "\\sum_{n,m} u_{n,m} \\rightarrow \n",
    "\t\\sum_{n,m} \n",
    "\t\\lbrace &\n",
    "\t\tu_{n+2,m}[ X_+^2(-i\\frac{2ka\\alpha}{w^2})]\n",
    "\t\t\\\\+&\n",
    "\t\tu_{n+1,m}[ X_+^1(ik\\alpha - \\frac{2a}{w^2})]\n",
    "\t\t\\\\+&\n",
    "\t\tu_{n,m} [1+X_+^1(ik\\alpha \\frac{2a\\sqrt{n}}{w} e^{i\\Psi})- X_0^2 (i\\frac{2ka\\alpha}{w^2})]\n",
    "\t\t\\\\+&\n",
    "\t\tu_{n-1,m} [\\frac{2a\\sqrt{n}}{w} e^{i\\Psi} + X_-^1(ik\\alpha - \\frac{2a}{w^2})]\n",
    "\t\t\\\\+&\n",
    "\t\tu_{n-2,m} [ X_-^1(ik\\alpha a\\frac{2\\sqrt{n}}{w}e^{i\\Psi}) - X_-^2 (i\\frac{2ka\\alpha}{w^2})] \t\n",
    "\t\\rbrace\n",
    "\\end{align*}"
   ]
  },
  {
   "cell_type": "code",
   "execution_count": 1,
   "metadata": {
    "slideshow": {
     "slide_type": "skip"
    }
   },
   "outputs": [],
   "source": [
    "import PauLisa as pl, PL_Plot as plplt,plback as plb, Tophat_integration_AW as th, numpy as np, matplotlib.pyplot as plt, cmath as cm\n",
    "\n",
    "from numpy import pi as pi\n",
    "from numpy import angle\n",
    "from math import e\n",
    "from numpy import sqrt as sqrt\n",
    "from scipy.special import erf as erf\n",
    "import mpmath as mp\n",
    "import scipy.io\n",
    "\n",
    "from math import pi, log, exp, sin, cos, atan, e, radians, degrees\n",
    "from scipy.special import gamma as gamma\n",
    "from scipy.special import erf as erf\n",
    "from math import factorial as fact\n",
    "import cmath\n",
    "from cmath import sqrt as sqrt\n",
    "import numpy as np\n",
    "\n",
    "inf=np.inf\n",
    "\n",
    "import pandas as pd"
   ]
  },
  {
   "cell_type": "markdown",
   "metadata": {},
   "source": [
    "## Tophat coeffients from AW"
   ]
  },
  {
   "cell_type": "code",
   "execution_count": 2,
   "metadata": {},
   "outputs": [
    {
     "name": "stdout",
     "output_type": "stream",
     "text": [
      "n\\m [0, 1, 2]\n",
      "0   [0, 0, 1]\n",
      "1   [0, 0, 0]\n",
      "2   [1, 0, 0]\n"
     ]
    }
   ],
   "source": [
    "modes = plb.modes((0,0,1),(1,0,1),(2,0,1),(3,0,1),\n",
    "                  (0,1,1),(0,2,1),(0,3,1),\n",
    "                  (1,1,1),(1,2,1),(1,3,1),\n",
    "                  (2,1,1),(3,1,1),\n",
    "                  (2,2,1),(3,2,1),(2,3,1),\n",
    "                 (3,3,1),(4,0,1),(0,4,1))\n",
    "modes2=plb.modes((0,2,1),(2,0,1))\n",
    "mode_2 = plb.modes((2,0,1))\n",
    "mode_02 = plb.modes((0,2,1))\n",
    "mode_0 = plb.modes((0,0,1))\n",
    "pl.show_modes(modes2)"
   ]
  },
  {
   "cell_type": "code",
   "execution_count": 3,
   "metadata": {
    "scrolled": false
   },
   "outputs": [
    {
     "name": "stdout",
     "output_type": "stream",
     "text": [
      "\n",
      "wavelength=1.064e-06\n",
      "w0=0.001\n",
      "z0=0\n",
      "Zr=2.952624674426497\n",
      "q0=2.952624674426497j\n",
      "\n",
      "xmin=-0.002,xmax=0.002,xpoints=300,x step size = 1.3333333333333333e-05\n",
      "ymin=-0.002,ymax=0.002,ypoints=300,y step size = 1.3333333333333333e-05\n"
     ]
    }
   ],
   "source": [
    "z=0\n",
    "plane = pl.Plane(-2e-3, 2e-3, 300, -2e-3, 2e-3, 300)\n",
    "params = pl.Params(1064e-9, 1e-3,0)\n",
    "\n",
    "print(params)\n",
    "print(plane)\n"
   ]
  },
  {
   "cell_type": "code",
   "execution_count": 4,
   "metadata": {},
   "outputs": [],
   "source": [
    "a = 100e-6\n",
    "alpha = 10e-6\n"
   ]
  },
  {
   "cell_type": "markdown",
   "metadata": {},
   "source": [
    "## Build Modes from coupling coefficients"
   ]
  },
  {
   "cell_type": "code",
   "execution_count": 5,
   "metadata": {},
   "outputs": [],
   "source": [
    "#Apply scatter to create new modes\n",
    "\n",
    "sc_modes = pl.scatter_case2_first_order(z,params,a,alpha,modes)\n",
    "\n"
   ]
  },
  {
   "cell_type": "markdown",
   "metadata": {},
   "source": [
    "## Calculate amp/phase and plot to check single shift/tilt (just a visual ref.) "
   ]
  },
  {
   "cell_type": "code",
   "execution_count": 6,
   "metadata": {
    "scrolled": true
   },
   "outputs": [
    {
     "name": "stdout",
     "output_type": "stream",
     "text": [
      "n\\m [0, 1, 2, 3, 4, 5, 6]\n",
      "0   [(1.1+0.03420847890837307j), (1.1+0.03420847890837307j), (1.1+0.03420847890837307j), (1.1+0.03420847890837307j), (1-0.0029526246744264973j), 0, 0]\n",
      "1   [(1.0414213562373096+0.081259399223305j), (1.0414213562373096+0.081259399223305j), (1.0414213562373096+0.081259399223305j), (1.0414213562373096+0.081259399223305j), (-0.10000000000000002+0.029526246744264975j), 0, 0]\n",
      "2   [(1.0317837245195782+0.10181626607872019j), (1.0317837245195782+0.08842346058688462j), (1.0317837245195782+0.08842346058688462j), (1.0317837245195782+0.08842346058688462j), -0.004175641859171397j, 0, 0]\n",
      "3   [(1.0267949192431123+0.10274904023828316j), (0.8267949192431123+0.0436965467497532j), (0.8267949192431123+0.0436965467497532j), (0.8267949192431123+0.0436965467497532j), 0, 0, 0]\n",
      "4   [(0.7999999999999999+0.048659757451358386j), (-0.20000000000000004+0.04882430158495353j), (-0.20000000000000004+0.04882430158495353j), (-0.20000000000000004+0.04882430158495353j), 0, 0, 0]\n",
      "5   [(-0.22360679774997902+0.05281815587248667j), -0.013204538968121666j, -0.013204538968121666j, -0.013204538968121666j, 0, 0, 0]\n",
      "6   [-0.016172191380297397j, 0, 0, 0, 0, 0, 0]\n"
     ]
    }
   ],
   "source": [
    "f2 = pl.calculate(params,plane,mode_2,z)\n",
    "f3 = pl.calculate(params,plane,mode_02,z)\n",
    "pl.show_modes(sc_modes)"
   ]
  },
  {
   "cell_type": "markdown",
   "metadata": {},
   "source": [
    "## Integration for signals"
   ]
  },
  {
   "cell_type": "code",
   "execution_count": 22,
   "metadata": {},
   "outputs": [],
   "source": [
    "#initial int. params\n",
    "Y = 2e-3 #Y int bound\n",
    "\n",
    "Z = z\n",
    "\n",
    "x_1R = 0\n",
    "x_2R = 2e-3 \n",
    "\n",
    "x_1L = -2e-3\n",
    "x_2L = 0\n",
    "\n",
    "w_1 = 1e-3\n",
    "w_2 = 1e-3\n",
    "\n",
    "zR_1 = 2.952624674426497\n",
    "zR_2 = 2.952624674426497\n",
    "\n",
    "\n",
    "k_1 = 5905249.348852994\n",
    "k_2 = 5905249.348852994\n",
    "\n",
    "d_1 = 0\n",
    "\n",
    "W_2 = 1e-3"
   ]
  },
  {
   "cell_type": "code",
   "execution_count": 23,
   "metadata": {},
   "outputs": [],
   "source": [
    "#loop through and sum over modes overlap where a,b -> n,m\n",
    "def iterate_modes_overlap(w_1,w_2,zR_1,zR_2,k_1,k_2,d_1,W_2,x_1,x_2,Z,Y,modes):   \n",
    "\n",
    "    N = len(modes)\n",
    "    M = len(modes[0])\n",
    "    res_arr = [[0 for i in range(10)] for j in range(10)]\n",
    "    res = 0\n",
    "\n",
    "    for a in range(N):\n",
    "        for b in range(M):            \n",
    "            #ignore zero coeff.\n",
    "            if (modes[a][b]!=0):\n",
    "                c_nm = modes[a][b]\n",
    "                \n",
    "                print( 'n,m:',a,b,th.overlap(a,b,w_1,w_2,zR_1,zR_2,k_1,k_2,d_1,W_2,x_1,x_2,Z,Y))\n",
    "                \n",
    "    return(res)"
   ]
  },
  {
   "cell_type": "code",
   "execution_count": 24,
   "metadata": {},
   "outputs": [
    {
     "name": "stdout",
     "output_type": "stream",
     "text": [
      "n,m: 0 0 (0.49993665952246885+0j)\n",
      "n,m: 0 1 0\n",
      "n,m: 0 2 (-0.0003785050636947409+0j)\n",
      "n,m: 0 3 0\n",
      "n,m: 0 4 (-0.0014204450026895235+0j)\n",
      "n,m: 1 0 (0.39878318865792656+0j)\n",
      "n,m: 1 1 0\n",
      "n,m: 1 2 (-0.00030192116010764846+0j)\n",
      "n,m: 1 3 0\n",
      "n,m: 2 0 (-0.0003785050636947409+0j)\n",
      "n,m: 2 1 0\n",
      "n,m: 2 2 (2.865684693617645e-07+0j)\n",
      "n,m: 2 3 0\n",
      "n,m: 3 0 (-0.16367667503698186+0j)\n",
      "n,m: 3 1 0\n",
      "n,m: 3 2 (0.00012392059900040214+0j)\n",
      "n,m: 3 3 0\n",
      "n,m: 4 0 (-0.0014204450026895669+0j)\n"
     ]
    }
   ],
   "source": [
    "points = 1\n",
    "\n",
    "modes_arr = [0]*points\n",
    "cl = [0]*points\n",
    "cr = [0]*points\n",
    "phi_l = [0]*points\n",
    "phi_r = [0]*points\n",
    "dws = [0]*points\n",
    "lps = [0]*points\n",
    "\n",
    "\n",
    "alpha_arr = np.linspace(-500e-6,500e-6,points)\n",
    "\n",
    "for p in range (points):\n",
    "    modes_arr[p] = modes #array of array of scattered modes#array of array of scattered modes\n",
    "\n",
    "    \n",
    "    #cl[p] = iterate_modes_overlap(w_1,w_2,zR_1,zR_2,k_1,k_2,d_1,W_2,x_1L,x_2L,Z,Y,modes_arr[p]) # left overlap (-2e-3,0)\n",
    "    cr[p] = iterate_modes_overlap(w_1,w_2,zR_1,zR_2,k_1,k_2,d_1,W_2,x_1R,x_2R,Z,Y,modes_arr[p]) # right overlap (0,2e-3)\n",
    "    \n",
    "\n",
    "    phi_r[p]=angle(cr[p])\n",
    "    phi_l[p]=angle(cl[p])\n",
    "    \n",
    "    dws[p] = phi_r[p]-phi_l[p]\n",
    "    lps[p] = 0.5*(phi_r[p]+phi_l[p])\n",
    "    \n"
   ]
  },
  {
   "cell_type": "code",
   "execution_count": 25,
   "metadata": {},
   "outputs": [
    {
     "data": {
      "image/png": "[encoded data removed]",
      "text/plain": [
       "<Figure size 648x432 with 1 Axes>"
      ]
     },
     "metadata": {
      "needs_background": "light"
     },
     "output_type": "display_data"
    }
   ],
   "source": [
    "plt.figure(figsize=(9,6))\n",
    "plt.plot(alpha_arr, dws)\n",
    "\n",
    "plt.xlabel(r'Tilt Angle, $\\alpha\\;$[' + 'rad]', fontsize=15) \n",
    "plt.ylabel(r'DWS Signal Phase $[' +  'rad]$', fontsize=15) \n",
    "plt.title(r'Tilted,Shifted HG00-HG00 at Waist') \n",
    "\n",
    "plt.grid()\n",
    "\n",
    "#plt.savefig(\"4-28_HG00_dws.png\")"
   ]
  },
  {
   "cell_type": "code",
   "execution_count": 26,
   "metadata": {},
   "outputs": [
    {
     "data": {
      "image/png": "[encoded data removed]",
      "text/plain": [
       "<Figure size 648x432 with 1 Axes>"
      ]
     },
     "metadata": {
      "needs_background": "light"
     },
     "output_type": "display_data"
    }
   ],
   "source": [
    "plt.figure(figsize=(9,6))\n",
    "plt.plot(alpha_arr, lps)\n",
    "\n",
    "plt.xlabel(r'Tilt Angle, $\\alpha\\;$[' + 'rad]', fontsize=15) \n",
    "plt.ylabel(r'LPS Signal Phase $[' +  'rad]$', fontsize=15) \n",
    "plt.title(r'Tilted,Shifted HG00-HG00 at Waist') \n",
    "\n",
    "plt.grid()\n",
    "\n",
    "#plt.savefig(\"4-28_HG00_lps.png\")"
   ]
  },
  {
   "cell_type": "code",
   "execution_count": 12,
   "metadata": {},
   "outputs": [
    {
     "name": "stdout",
     "output_type": "stream",
     "text": [
      "0.001999999333333533\n"
     ]
    }
   ],
   "source": [
    "print(gamma(1/2)*erf(2e-3/2))"
   ]
  },
  {
   "cell_type": "code",
   "execution_count": 13,
   "metadata": {},
   "outputs": [
    {
     "name": "stdout",
     "output_type": "stream",
     "text": [
      "5905249.348852994\n"
     ]
    }
   ],
   "source": [
    "print(params.getK())"
   ]
  },
  {
   "cell_type": "code",
   "execution_count": 14,
   "metadata": {},
   "outputs": [
    {
     "name": "stdout",
     "output_type": "stream",
     "text": [
      "0.5641895835477634\n"
     ]
    }
   ],
   "source": [
    "print(0.00021354861425665553/0.0003785050636947409)"
   ]
  },
  {
   "cell_type": "code",
   "execution_count": 15,
   "metadata": {},
   "outputs": [
    {
     "name": "stdout",
     "output_type": "stream",
     "text": [
      "0.5641895835477191\n"
     ]
    }
   ],
   "source": [
    "print(0.0008014002745198411/0.0014204450026895235)"
   ]
  },
  {
   "cell_type": "code",
   "execution_count": 16,
   "metadata": {},
   "outputs": [
    {
     "data": {
      "text/plain": [
       "0.0"
      ]
     },
     "execution_count": 16,
     "metadata": {},
     "output_type": "execute_result"
    }
   ],
   "source": [
    "2*e**(-2000000.0*2e3**2)/pi"
   ]
  },
  {
   "cell_type": "code",
   "execution_count": 17,
   "metadata": {},
   "outputs": [
    {
     "data": {
      "text/plain": [
       "2000000.0"
      ]
     },
     "execution_count": 17,
     "metadata": {},
     "output_type": "execute_result"
    }
   ],
   "source": [
    "1/1e-3**2+1/1e-3**2"
   ]
  },
  {
   "cell_type": "code",
   "execution_count": null,
   "metadata": {},
   "outputs": [],
   "source": []
  }
 ],
 "metadata": {
  "kernelspec": {
   "display_name": "Python 3",
   "language": "python",
   "name": "python3"
  },
  "language_info": {
   "codemirror_mode": {
    "name": "ipython",
    "version": 3
   },
   "file_extension": ".py",
   "mimetype": "text/x-python",
   "name": "python",
   "nbconvert_exporter": "python",
   "pygments_lexer": "ipython3",
   "version": "3.7.3"
  }
 },
 "nbformat": 4,
 "nbformat_minor": 2
}
