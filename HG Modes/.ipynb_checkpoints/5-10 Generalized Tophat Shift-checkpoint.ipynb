{
 "cells": [
  {
   "cell_type": "markdown",
   "metadata": {
    "slideshow": {
     "slide_type": "slide"
    }
   },
   "source": [
    "# Generalized Tophat shift approximations\n",
    "\n",
    "\n",
    "Accounting for cross terms, higher order shift approximations can be generalized up to shift in order $k$ by combining expansions:\\\\\n",
    "\n",
    "\n",
    "\\begin{equation}\n",
    "\t\\sum_{B=0}^{\\lfloor{k/2}\\rfloor}\n",
    "\t\\sum_{A=0}^{k-2B}\n",
    "\\lbrace\n",
    "\t[\n",
    "\t\t\\frac{1}{B!}\n",
    "\t\t(-\\frac{a^2}{w^2})^B\n",
    "\t]\n",
    "\t[\n",
    "\t\t\\frac{1}{A!}\n",
    "\t\t(-\\frac{2ax}{w^2})^A\n",
    "\t]\n",
    "\\left[\n",
    "{n \\choose M}\n",
    "(\\frac{2ae^{i\\Psi}}{w\\sqrt{n}})^M\n",
    "\\right]\n",
    "u_{n-M,m}\t\t\n",
    "\\rbrace\n",
    "\\end{equation}\n",
    "\n",
    "where\n",
    "\n",
    "\\begin{equation}\n",
    "\tM \\equiv k-(A+2B)\n",
    "\\end{equation}"
   ]
  },
  {
   "cell_type": "code",
   "execution_count": 10,
   "metadata": {
    "slideshow": {
     "slide_type": "skip"
    }
   },
   "outputs": [],
   "source": [
    "import PauLisa as pl, PL_Plot as plplt,plback as plb, Tophat_integration_AW as th, numpy as np, matplotlib.pyplot as plt, cmath as cm\n",
    "\n",
    "from numpy import pi as pi\n",
    "from numpy import angle\n",
    "from math import e\n",
    "from numpy import sqrt as sqrt\n",
    "from scipy.special import erf as erf\n",
    "import mpmath as mp\n",
    "import scipy.io\n",
    "\n",
    "from math import pi, log, exp, sin, cos, atan, e, radians, degrees\n",
    "from scipy.special import gamma as gamma\n",
    "from scipy.special import erf as erf\n",
    "from math import factorial as fact\n",
    "import cmath\n",
    "from cmath import sqrt as sqrt\n",
    "import numpy as np\n",
    "\n",
    "from time import process_time\n",
    "\n",
    "inf=np.inf\n",
    "\n",
    "import pandas as pd\n",
    "from pprint import pprint\n",
    "\n",
    "from collections import deque \n"
   ]
  },
  {
   "cell_type": "markdown",
   "metadata": {},
   "source": [
    "## Tophat coeffients from AW"
   ]
  },
  {
   "cell_type": "code",
   "execution_count": 2,
   "metadata": {},
   "outputs": [],
   "source": [
    "mat = scipy.io.loadmat('Top_hat_for_paul.mat')\n",
    "coef=mat['coeftop'].ravel()\n",
    "\n",
    "def N_f(A):\n",
    "    \n",
    "    res = np.floor((np.sqrt(8*A+1)-1)/2)\n",
    "    \n",
    "    #res = (np.sqrt(9+8*A)-3)/2\n",
    "    return(res)\n",
    "\n",
    "def m(N,A):\n",
    "    res = (N+1)*(N+2)/2 - (A+1)\n",
    "    return(res)\n",
    "\n",
    "#def n(N,A):\n",
    "#    m= (N+1)*(N+2)/2 - (A+1)\n",
    "#    res = N-m\n",
    "#    return(res)\n",
    "def n(N,A):\n",
    "    res = A - (N*(N+1)/2)\n",
    "    return(res)\n",
    "\n",
    "NumberModes = int(len(coef))\n",
    "listModesN = [None] * NumberModes\n",
    "listModesM = [None] * NumberModes\n",
    "listModesC = [None] * NumberModes\n",
    "\n",
    "area = pi*1e-3**2\n",
    "\n",
    "#for i in range(len(coef)):\n",
    "#    A=i\n",
    "#    N= N_f(A)\n",
    "#\n",
    "#    if (m(N,A)%2 == 0) & (n(N,A)%2 == 0):\n",
    "#        print(coef[A], '\\t\\t\\t' , m(N,A), ',' , n(N,A))\n",
    "\n",
    "for i in range(NumberModes):\n",
    "    A=i\n",
    "    N= N_f(A)\n",
    "    listModesN[i] = int(m(N,A))\n",
    "    listModesM[i] = int(n(N,A))\n",
    "    listModesC[i] = coef[i]/sqrt(area)\n",
    "    \n",
    "    "
   ]
  },
  {
   "cell_type": "code",
   "execution_count": 3,
   "metadata": {
    "scrolled": false
   },
   "outputs": [],
   "source": [
    "\n",
    "\n",
    "modes = pl.create_modes(listModesM,listModesN,listModesC,NumberModes)\n",
    "\n",
    "N=28 # mode order\n",
    "modes_N= pl.create_modes_orderN(listModesM,listModesN,listModesC,NumberModes,N)\n",
    "\n",
    "\n"
   ]
  },
  {
   "cell_type": "markdown",
   "metadata": {},
   "source": [
    "## Expansion function"
   ]
  },
  {
   "cell_type": "code",
   "execution_count": 10,
   "metadata": {},
   "outputs": [],
   "source": [
    "# Apply general mode scatter formulas for x-dependence (uni-directional offset coord.), RETURN new modes(on-axis)\n",
    "# Up to approximation order k\n",
    "def shift(z,params,a,alpha,modes,k):\n",
    "    \n",
    "    #get params\n",
    "    k = params.getK()\n",
    "    w0 = params.getW0()\n",
    "    zr = params.getZr()\n",
    "    w_z = w(z,params)\n",
    "    gouy = gouy_phase(z,params) \n",
    "    \n",
    "    #get shape to iterate through modes\n",
    "    rows = len(modes)\n",
    "    cols = len(modes[0])\n",
    "    \n",
    "    number_modes = rows*cols\n",
    "    \n",
    "    #build new modes (up to 2 orders larger for quad. dep.)\n",
    "    new_modes = [[0 for m in range(cols+2)] for n in range(rows+2)]\n",
    "    \n",
    "    A_sub,M_sub = 0\n",
    "    \n",
    "    # iterate all modes\n",
    "    for n in range(rows):\n",
    "        for m in range(cols):            \n",
    "            #ignore zero coeff.\n",
    "            if (modes[n][m]!=0):\n",
    "                c_nm = modes[n][m]\n",
    "                for B in range( (k) +1): #+1 for inclusive\n",
    "                    for A in range( (k-2*B) +1):\n",
    "                        sum_B = (\n",
    "                            (1/fac(B))*\n",
    "                            (-a**2/w**2)**B\n",
    "                        )\n",
    "                        \n",
    "                        sum_A = (\n",
    "                            (1/fac(A))*\n",
    "                            (-2*a/w**2)**A\n",
    "                        )\n",
    "                        \n",
    "                        M = (k-A+2*B)\n",
    "                        \n",
    "                        sum_M = (\n",
    "                            comb(n,M)\n",
    "                            * (2*a*exp(1j*gouy))/(w*sqrt(n))\n",
    "                        )\n",
    "                        \n",
    "                        #overall coupling result\n",
    "                        coupling = (c_nm*sum_B*sum_A*sum_M)\n",
    "                        \n",
    "                        #no coupling into other modes\n",
    "                        if (A ==0 and M==0):\n",
    "                            new_modes[n][m] += coupling\n",
    "                        # couple into modes (n-M, and X**A)   \n",
    "                        # n-M determines start, need n+1,n-1 for each x    \n",
    "                        else:\n",
    "                            M_sub = M\n",
    "                            A_sub = A\n",
    "                            n_start = n-M\n",
    "                            \n",
    "                            q = []\n",
    "                            q.append([n_start,new_modes[n,m]])\n",
    "                            \n",
    "                            while(A_sub!=0)\n",
    "                                \n",
    "                                #for each (n) in the q, +/- 1 append with a coupling\n",
    "                                #n_que.append()\n",
    "                                new_modes[n-1,]\n",
    "                                #\n",
    "                                \n",
    "                                A_sub-=1\n",
    "                            \n",
    "                \n",
    "\n",
    "    return(new_modes)\n",
    "\n",
    "#x dep\n",
    "def x_plus_1(w0,z,zr,n):    \n",
    "    factor = (w0/2)*( ( 1-(1j)*(z/zr) )*np.sqrt(n+1))\n",
    "    return(factor)\n",
    "\n",
    "#x dep\n",
    "def x_minus_1(w0,z,zr,n):\n",
    "    factor = (w0/2)*( np.sqrt(n)*(1+(1j)*(z/zr)) )\n",
    "    return(factor)"
   ]
  },
  {
   "cell_type": "code",
   "execution_count": 19,
   "metadata": {},
   "outputs": [],
   "source": [
    "q = deque()\n",
    "q.append([1,1+1j])"
   ]
  },
  {
   "cell_type": "code",
   "execution_count": 20,
   "metadata": {},
   "outputs": [
    {
     "name": "stdout",
     "output_type": "stream",
     "text": [
      "1 (1+1j)\n"
     ]
    }
   ],
   "source": [
    "a,b =q.pop()\n",
    "print(a,b)"
   ]
  },
  {
   "cell_type": "code",
   "execution_count": null,
   "metadata": {},
   "outputs": [],
   "source": []
  }
 ],
 "metadata": {
  "kernelspec": {
   "display_name": "Python 3",
   "language": "python",
   "name": "python3"
  },
  "language_info": {
   "codemirror_mode": {
    "name": "ipython",
    "version": 3
   },
   "file_extension": ".py",
   "mimetype": "text/x-python",
   "name": "python",
   "nbconvert_exporter": "python",
   "pygments_lexer": "ipython3",
   "version": "3.7.3"
  }
 },
 "nbformat": 4,
 "nbformat_minor": 2
}
