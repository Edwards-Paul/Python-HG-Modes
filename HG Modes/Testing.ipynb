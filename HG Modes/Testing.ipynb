{
 "cells": [
  {
   "cell_type": "code",
   "execution_count": 1,
   "metadata": {},
   "outputs": [
    {
     "name": "stdout",
     "output_type": "stream",
     "text": [
      "DEFAULT PARAMS (PauLisa.defaultParams)\n",
      " wavelength =1.064e-06m\n",
      " waist size(w0) =0.001m\n",
      " z0 =0m\n",
      " Rayleigh Range (Zr) =2.95262467443m\n",
      "\n",
      "\n",
      "DEFAULT X,Y PLANE (PauLisa.defaultPlane)\n",
      " x: -0.05m to 0.05m with 1000 points.\n",
      " y: -0.05m to 0.05m with 1000 points.\n",
      "\n",
      "\n",
      "\n",
      "Function Usage:\n",
      "OPTICAL PARAMETERS DEFINITION     \n",
      " PARAMETERS=PauLisa.Params(wavelength,w0,z0)\n",
      "\n",
      "PLANE OF PROPAGATION DEFINITION     \n",
      " PLANE=PauLisa.Plane(xmin,xmax,xpoints,ymin,ymax,ypoints) \n",
      "\n",
      "MODES DEFNITION AND DISPLAY     \n",
      " MODESARRAY=PauLisa.Modes((n1,m1,c1),(n2,m2,c2))     \n",
      " PauLisa.ShowModes(MODES) \n",
      "\n",
      "AMPLITUDE CALCULATIONS     \n",
      " Calculate amplitude over plane: RESULT=PauLisa.Calculate(PARAMS,PLANE,MODES,z) \n",
      " Simple calculation from coordinates: PauLisa.Amplitude(PARAMS,x,y,z,MODES) \n",
      "\n",
      "INTENSITY PLOTTING     \n",
      " PauLisa.Contour(RESULT)     \n",
      " PauLisa.IntensitySliceX(y, *RESULT)     \n",
      " PauLisa.IntensitySliceY(x, *RESULT) \n",
      "\n",
      "PHASE CALCULATION     \n",
      " PauLisa.Phase(PARAMS,x,y,z,MODES) \n",
      "\n",
      "PHASE PLOTTING     \n",
      " PauLisa.PhaseContour(RESULT)     \n",
      " PauLisa.PhaseSliceX(y,*RESULT)    \n",
      " PauLisa.PhaseSliceY(x,*RESULT)\n",
      "\n",
      " *VARNAME represents variable number of args of specified type.\n"
     ]
    }
   ],
   "source": [
    "import PauLisa as pl"
   ]
  },
  {
   "cell_type": "code",
   "execution_count": 2,
   "metadata": {},
   "outputs": [],
   "source": [
    "modes = pl.Modes((0,0,1), (1,0,.1*1j))"
   ]
  },
  {
   "cell_type": "code",
   "execution_count": 3,
   "metadata": {},
   "outputs": [],
   "source": [
    "f1 = pl.Calculate(params=pl.defaultParams,plane=pl.defaultPlane,modes=modes,z=10)\n"
   ]
  },
  {
   "cell_type": "code",
   "execution_count": 4,
   "metadata": {},
   "outputs": [
    {
     "data": {
      "image/png": "[encoded data removed]",
      "text/plain": [
       "<matplotlib.figure.Figure at 0x938cef0>"
      ]
     },
     "metadata": {},
     "output_type": "display_data"
    }
   ],
   "source": [
    "pl.IntensitySliceX(0,f1)"
   ]
  },
  {
   "cell_type": "code",
   "execution_count": 5,
   "metadata": {},
   "outputs": [
    {
     "ename": "NameError",
     "evalue": "name 'f2' is not defined",
     "output_type": "error",
     "traceback": [
      "\u001b[1;31m---------------------------------------------------------------------------\u001b[0m",
      "\u001b[1;31mNameError\u001b[0m                                 Traceback (most recent call last)",
      "\u001b[1;32m<ipython-input-5-22f9cd3062a4>\u001b[0m in \u001b[0;36m<module>\u001b[1;34m()\u001b[0m\n\u001b[1;32m----> 1\u001b[1;33m \u001b[0mpl\u001b[0m\u001b[1;33m.\u001b[0m\u001b[0mIntensitySliceY\u001b[0m\u001b[1;33m(\u001b[0m\u001b[1;36m0\u001b[0m\u001b[1;33m,\u001b[0m\u001b[0mf1\u001b[0m\u001b[1;33m,\u001b[0m\u001b[0mf2\u001b[0m\u001b[1;33m,\u001b[0m\u001b[0mlim\u001b[0m\u001b[1;33m=\u001b[0m\u001b[1;33m[\u001b[0m\u001b[1;33m-\u001b[0m\u001b[1;36m.01\u001b[0m\u001b[1;33m,\u001b[0m\u001b[1;36m.01\u001b[0m\u001b[1;33m]\u001b[0m\u001b[1;33m)\u001b[0m\u001b[1;33m\u001b[0m\u001b[0m\n\u001b[0m",
      "\u001b[1;31mNameError\u001b[0m: name 'f2' is not defined"
     ]
    }
   ],
   "source": [
    "pl.IntensitySliceY(0,f1,f2,lim=[-.01,.01])"
   ]
  },
  {
   "cell_type": "code",
   "execution_count": null,
   "metadata": {},
   "outputs": [],
   "source": [
    "pl.Contour(f1, xlim=[-.01,.01],ylim=[-.01,.01])"
   ]
  },
  {
   "cell_type": "code",
   "execution_count": null,
   "metadata": {},
   "outputs": [],
   "source": [
    "pl.PhaseContour(f1, xlim=[-.01,0.01])"
   ]
  },
  {
   "cell_type": "code",
   "execution_count": null,
   "metadata": {},
   "outputs": [],
   "source": []
  }
 ],
 "metadata": {
  "kernelspec": {
   "display_name": "Python 2",
   "language": "python",
   "name": "python2"
  },
  "language_info": {
   "codemirror_mode": {
    "name": "ipython",
    "version": 2
   },
   "file_extension": ".py",
   "mimetype": "text/x-python",
   "name": "python",
   "nbconvert_exporter": "python",
   "pygments_lexer": "ipython2",
   "version": "2.7.14"
  }
 },
 "nbformat": 4,
 "nbformat_minor": 2
}
