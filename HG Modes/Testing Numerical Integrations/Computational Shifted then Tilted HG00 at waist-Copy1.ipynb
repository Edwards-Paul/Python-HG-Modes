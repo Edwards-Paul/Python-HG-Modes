{
 "cells": [
  {
   "cell_type": "markdown",
   "metadata": {},
   "source": [
    "# Shifting then Tilting HG(0,0)"
   ]
  },
  {
   "cell_type": "markdown",
   "metadata": {},
   "source": [
    "***\n",
    "The effect of a tilt to an already misaligned beam of fundamental mode:\n",
    "\n",
    "$\n",
    "\t\\sum_{n,m} u_{nm}(x,y,0)= u_{00(tilt)}(x,y,0)+ \\frac{a}{w_0}u_{10(tilt)}(x,y,0) \\; .\n",
    "$\n",
    "\n",
    "The first term is verified to be\n",
    "\n",
    "$\n",
    "\tu_{00 (tilt)} \\approx u_{00}(x,y,0) + i  \\frac{\\pi w_{0} \\alpha}{\\lambda}u_{10} \\; .\n",
    "$\n",
    "\n",
    "The second term approximates to\n",
    "\n",
    "$\n",
    "\t\t\\frac{a}{w_0} u_{tilt(1,0)}(x,y,0) \t\t\t \n",
    "\t\t\t\\approx  \n",
    "\t\t\t\\frac{a}{w_0} \n",
    "\t\t\tu_{10} \n",
    "\t\t\t \\left[\n",
    "\t\t\t1 + i \\frac{2 \\pi x \\alpha}{\\lambda} \\right] \\;.\n",
    "$\n",
    "\n",
    "***\n",
    "Therefore:\n",
    "\n",
    "$\n",
    "\t\tu(x,y,0)=\n",
    "\t\t\t\\left[\n",
    "\t\t\t\t1+\n",
    "\t\t\t\ti \\frac{ \\pi a \\alpha}{ \\lambda}\n",
    "\t\t\t\\right]\n",
    "\t\t\tu_{00}\n",
    "\t\t\t+\n",
    "\t\t\t\\left[\n",
    "\t\t\t\ti  \\frac{\\pi w_{0} \\alpha}{\\lambda}\n",
    "\t\t\t+\n",
    "\t\t\t\\frac{a}{w_{0}}\n",
    "\t\t\t\\right]\t\t\t\n",
    "\t\t\tu_{10}\n",
    "\t\t\t+\n",
    "\t\t\ti  \n",
    "\t\t\t\t\\frac{\\sqrt{2} \\pi a \\alpha}{ \\lambda}\n",
    "\t\t\tu_{20}\t.\n",
    "$\n",
    "\n",
    "\n",
    "\n"
   ]
  },
  {
   "cell_type": "code",
   "execution_count": 1,
   "metadata": {},
   "outputs": [],
   "source": [
    "import PauLisa as pl, numpy as np, matplotlib.pyplot as plt, cmath as cm\n",
    "from scipy import integrate\n",
    "from mpmath import quadgl"
   ]
  },
  {
   "cell_type": "code",
   "execution_count": 2,
   "metadata": {},
   "outputs": [
    {
     "name": "stdout",
     "output_type": "stream",
     "text": [
      "2\n"
     ]
    }
   ],
   "source": [
    "j = [[2,1,3],[1,1,1]]\n",
    "print(j[0][0])\n"
   ]
  },
  {
   "cell_type": "code",
   "execution_count": 4,
   "metadata": {},
   "outputs": [
    {
     "name": "stdout",
     "output_type": "stream",
     "text": [
      "[[1.+1.j 2.+2.j]]\n"
     ]
    }
   ],
   "source": [
    "j = [1,2]\n",
    "\n",
    "k = pl.modes_from_1d_array_LV(j,j)\n",
    "print(k)\n"
   ]
  },
  {
   "cell_type": "code",
   "execution_count": null,
   "metadata": {},
   "outputs": [],
   "source": [
    "an_array = np.array(((1, 2,1),(3, 4,1)))\n",
    "\n",
    "a = map(tuple, an_array)\n",
    "t = tuple(a)\n",
    "\n",
    "print(a)\n",
    "print(t)\n",
    "print(type(t))\n",
    "m = pl.modes(j)\n",
    "#print(type(m))\n",
    "pl.show_modes(m)"
   ]
  },
  {
   "cell_type": "code",
   "execution_count": null,
   "metadata": {},
   "outputs": [],
   "source": [
    "#Redefining and naming initial parameters\n",
    "high_res_plane = pl.Plane(-6e-3,7e-3,1000,-1e-3,1e-3,3) #just used to calculate peak, higher precision\n",
    "plane = pl.Plane(-2e-3,2e-3,1000,-2e-3,2e-3,1000)\n",
    "params = pl.Params(wavelength=1.064e-06, w0=1e-3, z0=0)\n",
    "a = 1e-6 #shift\n",
    "alpha = 1e-6 #tilt angle\n",
    "\n",
    "#wavelength\n",
    "lam = params.wavelength #wavelength\n",
    "w0 = params.w0 #spot size\n",
    "E0 = 1   #E field\n",
    "\n",
    "#scales of each mode\n",
    "c00_ref = 1\n",
    "c00 = (1+ (np.pi * a * alpha/ lam)*1j)\n",
    "c10 = ((a/w0)+ (np.pi*w0*alpha/lam)*1j)\n",
    "c20 = (np.sqrt(2)*np.pi*a*alpha/lam)*1j\n",
    "\n",
    "\n",
    "print(c00,c10,c20)\n",
    "\n",
    "#create modes received and reference (rec and ref)\n",
    "modes_rec = pl.modes((0,0,c00),(1,0,c10),(2,0,c20))\n",
    "modes_ref = pl.modes((0,0,c00_ref))\n",
    "\n",
    "\n",
    "#calculate amp. and phase\n",
    "result_rec = pl.calculate(params, plane, modes_rec, z=0)\n",
    "result_ref = pl.calculate(params,plane,modes_ref, z=0)\n",
    "\n"
   ]
  },
  {
   "cell_type": "markdown",
   "metadata": {},
   "source": [
    "## Comparing ref and rec "
   ]
  },
  {
   "cell_type": "code",
   "execution_count": null,
   "metadata": {},
   "outputs": [],
   "source": [
    "#compare shift to approx.\n",
    "result_peak = pl.calculate(params, high_res_plane, modes_rec, z=0)\n",
    "act_shift = pl.PeakInt(result_peak).x[0]\n",
    "\n",
    "pred_shift = (c10.real*w0)/abs((c00))\n",
    "print(\"predicted shift:\",pred_shift,'[m]')\n",
    "print(\"actual shift:\",act_shift,'[m]')\n",
    "\n",
    "#plot\n",
    "pl.intslicex(0, result_rec, result_ref, labels=['rec','ref'])\n",
    "\n"
   ]
  },
  {
   "cell_type": "code",
   "execution_count": null,
   "metadata": {},
   "outputs": [],
   "source": [
    "#compare alpha to approx.\n",
    "theta=lam/pl.pi/w0\n",
    "\n",
    "pred_alpha = theta*abs(c10.imag)\n",
    "\n",
    "phase_comb=(result_rec.phase[1,:])\n",
    "phase_diff=(phase_comb[-1]-phase_comb[0])\n",
    "phase_ang = phase_diff/(plane.getX()[-1]-plane.getX()[0])\n",
    "act_alpha = phase_ang/2/np.pi*lam\n",
    "\n",
    "#plot\n",
    "pl.phaseslicex(0, result_rec, result_ref,labels=['rec','ref'])\n",
    "\n",
    "#results\n",
    "print(\"predicted alpha:\",pred_alpha,'[rad]')\n",
    "print(\"actual alpha:\",act_alpha,'[rad]')"
   ]
  },
  {
   "cell_type": "markdown",
   "metadata": {},
   "source": [
    "## Add ref and rec"
   ]
  },
  {
   "cell_type": "code",
   "execution_count": null,
   "metadata": {},
   "outputs": [],
   "source": [
    "#combined (comb)\n",
    "modes_comb = pl.modes((0,0,c00+c00_ref),(1,0,c10),(2,0,c20))\n",
    "amp_comb = result_rec.amp+result_ref.amp\n",
    "\n",
    "result_row = len(amp_comb)\n",
    "result_col = len(amp_comb[0])\n",
    "phase_comb = np.zeros((result_row,result_col), dtype=float)\n",
    "for r in range(result_row):\n",
    "    for c in range(result_col):\n",
    "        phase_comb[r,c] = (np.angle(amp_comb[r][c]))\n",
    "\n",
    "result_comb = pl.Result(params,plane,modes_comb,0,amp_comb,phase_comb)"
   ]
  },
  {
   "cell_type": "markdown",
   "metadata": {},
   "source": [
    "## Photodector \n",
    "PD power:\n",
    "\\begin{equation}\n",
    "\tP_{pd}= \\int_{- \\infty}^{\\infty}\\int_{- \\infty}^{\\infty} E^*E \\; dxdy,\n",
    "\\end{equation}\n",
    "\n",
    "Beat note from argument of overlap integral:\n",
    "\n",
    "\\begin{equation}\n",
    "\t\\Phi= arg \\lbrace \\int_{- \\infty}^{\\infty}\\int_{- \\infty}^{\\infty} U_{ref}(x,y)^*U_{prb}(x,y) \\rbrace \\; dxdy,\n",
    "\\end{equation}\n",
    "\n",
    "\n",
    "\\begin{equation}\n",
    "\targ \\lbrace \n",
    "    \\int\\int dxdy \\:\n",
    "    U_{ref}(x,y)^*U_{prb}(x,y) \n",
    "    \\rbrace = \n",
    "    arg\n",
    "    \\lbrace\n",
    "\t\t|E_{0}|^2 \n",
    "        \\int\\int dxdy \\;\n",
    "\t\t\te^{i  \\Delta \\phi }\n",
    "\t\t\t\t\\left[\n",
    "\t\t\t\t\t1 + i \\frac{\\pi a \\alpha }{\\lambda}\n",
    "\t\t\t\t\\right]\n",
    "\t\t\t\t\t\\rbrace \n",
    "\t\t\\;.\n",
    "\\end{equation}\n",
    "\n",
    "optopy:\n",
    "\n",
    "\\begin{equation}\n",
    "\t\\Phi= arg \\lbrace sum( U_{ref}(x,y)^*U_{prb}(x,y) ) \\rbrace \n",
    "\\end{equation}"
   ]
  },
  {
   "cell_type": "code",
   "execution_count": null,
   "metadata": {},
   "outputs": [],
   "source": [
    "f00 = lambda y, x: result_ref.amp*result_rec.amp"
   ]
  },
  {
   "cell_type": "code",
   "execution_count": null,
   "metadata": {},
   "outputs": [],
   "source": [
    "f = lambda y, x: (pl.amplitude(params,x,y,0,modes_rec))*np.conjugate((pl.amplitude(params,x,y,0,modes_ref)))"
   ]
  },
  {
   "cell_type": "markdown",
   "metadata": {},
   "source": [
    "\\begin{equation}\n",
    "C_{nmn'm'}^{R} = \\int_{0}^{\\infty} dx\\int_{-\\infty}^{\\infty} dy \\; U_{00(LO)}^*(x,y,z) U_{nm(RX)}(x,y,z)\n",
    "\\end{equation}"
   ]
  },
  {
   "cell_type": "code",
   "execution_count": null,
   "metadata": {},
   "outputs": [],
   "source": [
    "cr = quadgl(f, [plane.ymin,plane.ymax],[0,plane.xmax])"
   ]
  },
  {
   "cell_type": "markdown",
   "metadata": {},
   "source": [
    "\\begin{equation}\n",
    "C_{nmn'm'}^{L} = \\int_{-\\infty}^{0} dx\\int_{-\\infty}^{\\infty} dy \\; U_{00(LO)}^*(x,y,z) U_{nm(RX)}(x,y,z)\n",
    "\\end{equation}"
   ]
  },
  {
   "cell_type": "code",
   "execution_count": null,
   "metadata": {},
   "outputs": [],
   "source": [
    "cl = quadgl(f, [plane.ymin,plane.ymax],[plane.xmin,0])"
   ]
  },
  {
   "cell_type": "code",
   "execution_count": null,
   "metadata": {},
   "outputs": [],
   "source": [
    "print(cr,cl)"
   ]
  },
  {
   "cell_type": "code",
   "execution_count": null,
   "metadata": {},
   "outputs": [],
   "source": [
    "print(cr-cl)"
   ]
  },
  {
   "cell_type": "markdown",
   "metadata": {},
   "source": [
    "\\begin{equation}\n",
    "\t\\phi_R = \n",
    "\t\targ (C_{nmn'm'}^{R})\n",
    " \\end{equation}"
   ]
  },
  {
   "cell_type": "code",
   "execution_count": null,
   "metadata": {},
   "outputs": [],
   "source": [
    "phi_r = cm.phase(cr)\n",
    "print(phi_r)"
   ]
  },
  {
   "cell_type": "markdown",
   "metadata": {},
   "source": [
    "\\begin{equation}\n",
    "\t\\phi_L = \n",
    "\t\targ (C_{nmn'm'}^{L})\n",
    " \\end{equation}"
   ]
  },
  {
   "cell_type": "code",
   "execution_count": null,
   "metadata": {},
   "outputs": [],
   "source": [
    "phi_l = cm.phase(cl)\n",
    "print(phi_l)"
   ]
  },
  {
   "cell_type": "markdown",
   "metadata": {},
   "source": [
    "\\begin{equation}\n",
    "    \\Delta \\phi = \\phi_R - \\phi_L\n",
    "\\end{equation}"
   ]
  },
  {
   "cell_type": "code",
   "execution_count": null,
   "metadata": {},
   "outputs": [],
   "source": [
    "print (phi_r-phi_l)"
   ]
  },
  {
   "cell_type": "code",
   "execution_count": null,
   "metadata": {},
   "outputs": [],
   "source": []
  }
 ],
 "metadata": {
  "kernelspec": {
   "display_name": "Python 3",
   "language": "python",
   "name": "python3"
  },
  "language_info": {
   "codemirror_mode": {
    "name": "ipython",
    "version": 3
   },
   "file_extension": ".py",
   "mimetype": "text/x-python",
   "name": "python",
   "nbconvert_exporter": "python",
   "pygments_lexer": "ipython3",
   "version": "3.7.3"
  }
 },
 "nbformat": 4,
 "nbformat_minor": 2
}
