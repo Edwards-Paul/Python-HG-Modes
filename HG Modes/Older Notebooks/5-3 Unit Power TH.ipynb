{
 "cells": [
  {
   "cell_type": "markdown",
   "metadata": {
    "slideshow": {
     "slide_type": "slide"
    }
   },
   "source": [
    "# Shifted-tilted Tophat at Gaussian interference at waist\n",
    "\n",
    "Applying first-order shift,tilt to tophat, integrate with HG00\n",
    "\n",
    "\\begin{equation}\n",
    "\tu_{n,m} \\rightarrow\n",
    "     u_{n,m}\n",
    "        \\left[\n",
    "        1 - \\frac{2 a }{w(z)^2} x + i k \\alpha x - i \\frac{2 k \\alpha a}{w(z)^2} x^2 \n",
    "    \\right]\n",
    "    + \n",
    "\ta \\frac{2 \\sqrt{n}}{w(z)} \n",
    "\t\\exp(i \\Psi(z))\n",
    "\tu_{n-1,m}\n",
    "\t\\left[\n",
    "        1+ i k \\alpha x\n",
    "    \\right]\t \\; .\n",
    "\\end{equation}\n",
    "\n",
    "Scatter these with\n",
    "\n",
    "\\begin{align*}\n",
    "\\sum_{n,m} u_{n,m} \\rightarrow \n",
    "\t\\sum_{n,m} \n",
    "\t\\lbrace &\n",
    "\t\tu_{n+2,m}[ X_+^2(-i\\frac{2ka\\alpha}{w^2})]\n",
    "\t\t\\\\+&\n",
    "\t\tu_{n+1,m}[ X_+^1(ik\\alpha - \\frac{2a}{w^2})]\n",
    "\t\t\\\\+&\n",
    "\t\tu_{n,m} [1+X_+^1(ik\\alpha \\frac{2a\\sqrt{n}}{w} e^{i\\Psi})- X_0^2 (i\\frac{2ka\\alpha}{w^2})]\n",
    "\t\t\\\\+&\n",
    "\t\tu_{n-1,m} [\\frac{2a\\sqrt{n}}{w} e^{i\\Psi} + X_-^1(ik\\alpha - \\frac{2a}{w^2})]\n",
    "\t\t\\\\+&\n",
    "\t\tu_{n-2,m} [ X_-^1(ik\\alpha a\\frac{2\\sqrt{n}}{w}e^{i\\Psi}) - X_-^2 (i\\frac{2ka\\alpha}{w^2})] \t\n",
    "\t\\rbrace\n",
    "\\end{align*}"
   ]
  },
  {
   "cell_type": "code",
   "execution_count": 2,
   "metadata": {
    "slideshow": {
     "slide_type": "skip"
    }
   },
   "outputs": [],
   "source": [
    "import PauLisa as pl, PL_Plot as plplt,plback as plb, Tophat_integration_AW as th, numpy as np, matplotlib.pyplot as plt, cmath as cm\n",
    "\n",
    "from numpy import pi as pi\n",
    "from numpy import angle\n",
    "from math import e\n",
    "from numpy import sqrt as sqrt\n",
    "from scipy.special import erf as erf\n",
    "import mpmath as mp\n",
    "import scipy.io\n",
    "\n",
    "from math import pi, log, exp, sin, cos, atan, e, radians, degrees\n",
    "from scipy.special import gamma as gamma\n",
    "from scipy.special import erf as erf\n",
    "from math import factorial as fact\n",
    "import cmath\n",
    "from cmath import sqrt as sqrt\n",
    "import numpy as np\n",
    "\n",
    "from time import process_time\n",
    "\n",
    "inf=np.inf\n",
    "\n",
    "import pandas as pd"
   ]
  },
  {
   "cell_type": "markdown",
   "metadata": {},
   "source": [
    "## Tophat coeffients from AW"
   ]
  },
  {
   "cell_type": "code",
   "execution_count": 3,
   "metadata": {},
   "outputs": [],
   "source": [
    "mat = scipy.io.loadmat('Top_hat_for_paul.mat')\n",
    "coef=mat['coeftop'].ravel()\n",
    "\n",
    "def N_f(A):\n",
    "    \n",
    "    res = np.floor((np.sqrt(8*A+1)-1)/2)\n",
    "    \n",
    "    #res = (np.sqrt(9+8*A)-3)/2\n",
    "    return(res)\n",
    "\n",
    "def m(N,A):\n",
    "    res = (N+1)*(N+2)/2 - (A+1)\n",
    "    return(res)\n",
    "\n",
    "#def n(N,A):\n",
    "#    m= (N+1)*(N+2)/2 - (A+1)\n",
    "#    res = N-m\n",
    "#    return(res)\n",
    "def n(N,A):\n",
    "    res = A - (N*(N+1)/2)\n",
    "    return(res)\n",
    "\n",
    "NumberModes = int(len(coef))\n",
    "listModesN = [None] * NumberModes\n",
    "listModesM = [None] * NumberModes\n",
    "listModesC = [None] * NumberModes\n",
    "\n",
    "root_area = (sqrt(pi)*1e-3) # A = pi*r**2.., P=|I|A\n",
    "\n",
    "#for i in range(len(coef)):\n",
    "#    A=i\n",
    "#    N= N_f(A)\n",
    "#\n",
    "#    if (m(N,A)%2 == 0) & (n(N,A)%2 == 0):\n",
    "#        print(coef[A], '\\t\\t\\t' , m(N,A), ',' , n(N,A))\n",
    "\n",
    "for i in range(NumberModes):\n",
    "    A=i\n",
    "    N= N_f(A)\n",
    "    listModesN[i] = int(m(N,A))\n",
    "    listModesM[i] = int(n(N,A))\n",
    "    listModesC[i] = coef[i]/root_area\n",
    "    \n",
    "    "
   ]
  },
  {
   "cell_type": "code",
   "execution_count": 10,
   "metadata": {
    "scrolled": false
   },
   "outputs": [
    {
     "name": "stdout",
     "output_type": "stream",
     "text": [
      "\n",
      "wavelength=1.064e-06\n",
      "w0=0.001\n",
      "z0=0\n",
      "Zr=2.952624674426497\n",
      "q0=2.952624674426497j\n",
      "\n",
      "xmin=-0.002,xmax=0.002,xpoints=300,x step size = 1.3333333333333333e-05\n",
      "ymin=-0.002,ymax=0.002,ypoints=300,y step size = 1.3333333333333333e-05\n"
     ]
    }
   ],
   "source": [
    "\n",
    "\n",
    "modes = pl.create_modes(listModesM,listModesN,listModesC,NumberModes)\n",
    "\n",
    "N=28 # mode order\n",
    "modes_N= pl.create_modes_orderN(listModesM,listModesN,listModesC,NumberModes,N)\n",
    "\n",
    "z=1e-3\n",
    "plane = pl.Plane(-2e-3, 2e-3, 300, -2e-3, 2e-3, 300)\n",
    "params = pl.Params(1064e-9, 1e-3,0)\n",
    "\n",
    "print(params)\n",
    "print(plane)\n",
    "\n",
    "modes=plb.modes((0,0,1))"
   ]
  },
  {
   "cell_type": "code",
   "execution_count": 11,
   "metadata": {},
   "outputs": [],
   "source": [
    "f2 = pl.calculate(params,plane,modes,z)"
   ]
  },
  {
   "cell_type": "code",
   "execution_count": 12,
   "metadata": {},
   "outputs": [
    {
     "data": {
      "image/png": "[encoded data removed]",
      "text/plain": [
       "<Figure size 864x864 with 2 Axes>"
      ]
     },
     "metadata": {
      "needs_background": "light"
     },
     "output_type": "display_data"
    }
   ],
   "source": [
    "fig, ax = plt.subplots(figsize=(12, 12))\n",
    "#cs = plt.contourf(f2.plane.getX(), f2.plane.getY(), abs(f2.getAmp() ** 2 * root_area**2))\n",
    "cs = plt.contourf(f2.plane.getX(), f2.plane.getY(), abs(f2.getAmp() ** 2))\n",
    "\n",
    "\n",
    "ax.ticklabel_format(axis='x', style='sci', scilimits=(0, 0), useMathText=True)\n",
    "ax.ticklabel_format(axis='y', style='sci', scilimits=(0, 0), useMathText=True)\n",
    "\n",
    "cbar = fig.colorbar(cs)\n",
    "\n",
    "plt.grid()\n",
    "\n",
    "#plt.savefig(\"th_full_first_order.png\")"
   ]
  },
  {
   "cell_type": "code",
   "execution_count": 57,
   "metadata": {},
   "outputs": [
    {
     "name": "stdout",
     "output_type": "stream",
     "text": [
      "1.0003089509453886\n"
     ]
    }
   ],
   "source": [
    "print(np.mean(abs(f2.getAmp() ** 2)))"
   ]
  },
  {
   "cell_type": "code",
   "execution_count": 14,
   "metadata": {},
   "outputs": [
    {
     "name": "stdout",
     "output_type": "stream",
     "text": [
      "0.00023067\n"
     ]
    }
   ],
   "source": [
    "print(pl.w(1e-3,params))"
   ]
  },
  {
   "cell_type": "code",
   "execution_count": 17,
   "metadata": {},
   "outputs": [
    {
     "name": "stdout",
     "output_type": "stream",
     "text": [
      "0.0063651629180825385\n"
     ]
    }
   ],
   "source": [
    "print(1e-3/params.Zr)"
   ]
  },
  {
   "cell_type": "code",
   "execution_count": 23,
   "metadata": {},
   "outputs": [
    {
     "name": "stdout",
     "output_type": "stream",
     "text": [
      "\n",
      "wavelength=1.064e-06\n",
      "w0=0.00023067\n",
      "z0=0\n",
      "Zr=0.15710516963503632\n",
      "q0=0.15710516963503632j\n"
     ]
    }
   ],
   "source": [
    "print(params)"
   ]
  },
  {
   "cell_type": "code",
   "execution_count": 1,
   "metadata": {},
   "outputs": [
    {
     "ename": "SyntaxError",
     "evalue": "invalid syntax (<ipython-input-1-5de3abf13e54>, line 1)",
     "output_type": "error",
     "traceback": [
      "\u001b[1;36m  File \u001b[1;32m\"<ipython-input-1-5de3abf13e54>\"\u001b[1;36m, line \u001b[1;32m1\u001b[0m\n\u001b[1;33m    print(0.00023067*np.sqrt(1-))\u001b[0m\n\u001b[1;37m                               ^\u001b[0m\n\u001b[1;31mSyntaxError\u001b[0m\u001b[1;31m:\u001b[0m invalid syntax\n"
     ]
    }
   ],
   "source": [
    "print(0.00023067*np.sqrt(1-))"
   ]
  },
  {
   "cell_type": "code",
   "execution_count": null,
   "metadata": {},
   "outputs": [],
   "source": []
  }
 ],
 "metadata": {
  "kernelspec": {
   "display_name": "Python 3",
   "language": "python",
   "name": "python3"
  },
  "language_info": {
   "codemirror_mode": {
    "name": "ipython",
    "version": 3
   },
   "file_extension": ".py",
   "mimetype": "text/x-python",
   "name": "python",
   "nbconvert_exporter": "python",
   "pygments_lexer": "ipython3",
   "version": "3.7.3"
  }
 },
 "nbformat": 4,
 "nbformat_minor": 2
}
