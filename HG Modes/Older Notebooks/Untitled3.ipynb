{
 "cells": [
  {
   "cell_type": "code",
   "execution_count": 23,
   "metadata": {},
   "outputs": [],
   "source": [
    "import PauLisa as pl,numpy as np"
   ]
  },
  {
   "cell_type": "code",
   "execution_count": 9,
   "metadata": {},
   "outputs": [
    {
     "name": "stdout",
     "output_type": "stream",
     "text": [
      "0.0010000000573526517\n"
     ]
    }
   ],
   "source": [
    "params = pl.defaultParams\n",
    "print(pl.w(z,params))"
   ]
  },
  {
   "cell_type": "code",
   "execution_count": 16,
   "metadata": {},
   "outputs": [
    {
     "name": "stdout",
     "output_type": "stream",
     "text": [
      "1.133329724271968e-09\n"
     ]
    }
   ],
   "source": [
    "print( ((.1e-3-1e-3*300e-6)/params.Zr)**2)"
   ]
  },
  {
   "cell_type": "code",
   "execution_count": 20,
   "metadata": {},
   "outputs": [
    {
     "name": "stdout",
     "output_type": "stream",
     "text": [
      "0.9999999535443497\n"
     ]
    }
   ],
   "source": [
    "print( pl.sqrt(1-((.1e-3-1e-3)/params.Zr)**2))"
   ]
  },
  {
   "cell_type": "code",
   "execution_count": 21,
   "metadata": {},
   "outputs": [
    {
     "name": "stdout",
     "output_type": "stream",
     "text": [
      "0.9999999632943012\n"
     ]
    }
   ],
   "source": [
    "print( pl.sqrt(1-((.1e-3-3*300e-6)/params.Zr)**2))"
   ]
  },
  {
   "cell_type": "code",
   "execution_count": 25,
   "metadata": {},
   "outputs": [
    {
     "name": "stdout",
     "output_type": "stream",
     "text": [
      "0.0033864655617200333\n",
      "0.0033868042395545066\n"
     ]
    }
   ],
   "source": [
    "z=1e-2\n",
    "z_0 = 0\n",
    "x = 2e-3\n",
    "alpha = 500e-6\n",
    "z_p = z-x*alpha\n",
    "\n",
    "print(np.arctan(z_p/params.Zr))\n",
    "print(np.arctan(z/params.Zr))\n"
   ]
  },
  {
   "cell_type": "code",
   "execution_count": null,
   "metadata": {},
   "outputs": [],
   "source": []
  }
 ],
 "metadata": {
  "kernelspec": {
   "display_name": "Python 3",
   "language": "python",
   "name": "python3"
  },
  "language_info": {
   "codemirror_mode": {
    "name": "ipython",
    "version": 3
   },
   "file_extension": ".py",
   "mimetype": "text/x-python",
   "name": "python",
   "nbconvert_exporter": "python",
   "pygments_lexer": "ipython3",
   "version": "3.7.3"
  }
 },
 "nbformat": 4,
 "nbformat_minor": 2
}
