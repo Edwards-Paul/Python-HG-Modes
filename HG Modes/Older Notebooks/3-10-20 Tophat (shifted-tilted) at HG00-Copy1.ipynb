{
 "cells": [
  {
   "cell_type": "markdown",
   "metadata": {
    "slideshow": {
     "slide_type": "slide"
    }
   },
   "source": [
    "# Shifted-tilted Tophat at Gaussian interference at waist\n",
    "\n",
    "Tophat incoming with shift then tilt ( to 1st-order in both):\n",
    "\\begin{align*}\n",
    "\\sum u_{mn} \\rightarrow_{shift,tilt} &\n",
    "    \\sum u_{mn} (1 + \\frac{2 a x}{w_0^2})(1+ i k \\alpha x)\n",
    "    \\\\\n",
    "    =&\n",
    "    \\sum u_{mn} (1 + \\frac{2 a }{w_0^2} x + i k \\alpha x + i \\frac{2 k \\alpha a}{w_0^2} x^2 )\n",
    "\\end{align*}\n",
    "\n",
    "For $x$:\n",
    "\n",
    "\\begin{equation}\n",
    "x u_{n,m} = \\frac{w_0}{2}\n",
    "\\Big[\n",
    "\t(1 - i \\frac{z}{z_R})\n",
    "\t\\sqrt{n+1} u_{n+1,m}\n",
    "\t+\n",
    "\t\\sqrt{n}\n",
    "\t(1+i \\frac{z}{z_R})\n",
    "\tu_{n-1,m}\n",
    "\\Big]\n",
    "\\end{equation}\n",
    "\n",
    "For $x^2$:\n",
    "\n",
    "\\begin{equation}\n",
    "x^2 u_{n,m} = \\frac{w_0^2}{4}\n",
    "\\Big[\n",
    "\t(1 - i \\frac{z}{z_R})^2\n",
    "\t\\sqrt{(n+1)(n+2)} u_{n+2,m}\n",
    "\t+\n",
    "\t(2n+1)\n",
    "\t(1+ (\\frac{z}{z_R})^2)\n",
    "\tu_{n,m}\n",
    "\t+\n",
    "\t\\sqrt{n(n-1)}\n",
    "\t(1+i \\frac{z}{z_R} )^2\n",
    "\tu_{n-2,m}\n",
    "\\Big]\n",
    "\\end{equation}"
   ]
  },
  {
   "cell_type": "markdown",
   "metadata": {},
   "source": [
    "## Imports, global constants"
   ]
  },
  {
   "cell_type": "code",
   "execution_count": 1,
   "metadata": {
    "slideshow": {
     "slide_type": "skip"
    }
   },
   "outputs": [],
   "source": [
    "import PauLisa as pl, numpy as np, matplotlib.pyplot as plt\n",
    "from scipy.special import erfi as erfi\n",
    "\n",
    "from scipy import integrate\n",
    "from mpmath import quadgl\n",
    "\n",
    "import scipy.io\n",
    "\n",
    "pi=np.pi"
   ]
  },
  {
   "cell_type": "markdown",
   "metadata": {},
   "source": [
    "## Tophat coefficients from AW tophat file"
   ]
  },
  {
   "cell_type": "code",
   "execution_count": 2,
   "metadata": {},
   "outputs": [
    {
     "name": "stdout",
     "output_type": "stream",
     "text": [
      "__header__\n",
      "__version__\n",
      "__globals__\n",
      "coeftop\n",
      "read_me_paul\n",
      "wb\n"
     ]
    }
   ],
   "source": [
    "mat = scipy.io.loadmat('Top_hat_for_paul.mat')\n",
    "for x in mat:\n",
    "  print(x)"
   ]
  },
  {
   "cell_type": "code",
   "execution_count": 3,
   "metadata": {},
   "outputs": [
    {
     "name": "stdout",
     "output_type": "stream",
     "text": [
      "['wb is the waist to use for tophat basis with tophat radius 1mm,coeftop are the mode coefficients.']\n",
      "[[0.00023067]]\n"
     ]
    }
   ],
   "source": [
    "print(mat['read_me_paul'])\n",
    "print(mat['wb'])\n",
    "\n",
    "coef=mat['coeftop'].ravel()"
   ]
  },
  {
   "cell_type": "markdown",
   "metadata": {},
   "source": [
    "Using simtools mode indexing in Python:\n",
    "\n",
    "$\n",
    "m = \\frac{(N+1)(N+2)}{2}- (A_{python} + 1)\n",
    "$\n",
    "\n",
    "$\n",
    "\\rightarrow A_{python} =  \\frac{(N+1)(N+2)}{2} + 1 -m \n",
    "$\n",
    "\n",
    "$\n",
    "n = A_{python} - \\frac{N(N+1)}{2} = N-m\n",
    "$\n",
    "\n",
    "$\n",
    "\\rightarrow A_{python} = N-m + - \\frac{N(N+1)}{2} \n",
    "$\n",
    "\n",
    "$\n",
    "N = floor( \\frac{\\sqrt{8A_{python}+1} - 1}{2} ) = ceil(\\frac{\\sqrt{9+8A_{python}} - 3}{2} )\n",
    "$"
   ]
  },
  {
   "cell_type": "raw",
   "metadata": {},
   "source": [
    "    Tophat 10x10 entries\n",
    "    \n",
    "    0         2         4         6...\n",
    "    0.5646    0.3896    0.2935    0.1570   -0.0031   -0.0719   -0.0055    0.0445   -0.0103   -0.0263\n",
    "    0.3896    0.2396    0.1216   -0.0024   -0.0536   -0.0041    0.0326   -0.0075   -0.0191    0.0171\n",
    "    0.2935    0.1216   -0.0022   -0.0496   -0.0037    0.0295   -0.0068   -0.0171    0.0152    0.0019\n",
    "    0.1570   -0.0024   -0.0496   -0.0036    0.0284   -0.0064   -0.0162    0.0143    0.0018   -0.0124\n",
    "   -0.0031   -0.0536   -0.0037    0.0284   -0.0063   -0.0158    0.0139    0.0017   -0.0120    0.0094\n",
    "   -0.0719   -0.0041    0.0295   -0.0064   -0.0158    0.0138    0.0017   -0.0117    0.0092    0.0004\n",
    "   -0.0055    0.0326   -0.0068   -0.0162    0.0139    0.0017   -0.0117    0.0091    0.0004   -0.0078\n",
    "    0.0445   -0.0075   -0.0171    0.0143    0.0017   -0.0117    0.0091    0.0004   -0.0077    0.0080\n",
    "   -0.0103   -0.0191    0.0152    0.0018   -0.0120    0.0092    0.0004   -0.0077    0.0080   -0.0027\n",
    "   -0.0263    0.0171    0.0019   -0.0124    0.0094    0.0004   -0.0078    0.0080   -0.0027   -0.0034\n",
    "\n",
    "\n",
    "Note that these give coefficients (for unit power, not unit intensity tophat, for that multiply by sqrt(pi)*r) for modes (2m,2n) so for example row 1 column 4 gives coefficient of mode (0,6) (first non-zero indices have a 0, so column or row 1 correspond to zero, column or row 2 correspond to 2, 3 to 4, 4 to 6, 5 to 8 and so forth). This means here are non-zero indices from HG00 to HG(18,18).\n",
    "\n",
    "Again, this is for a normal power tophat, not normal intensity (which would have a power equal to the surface area of the pupil).\n"
   ]
  },
  {
   "cell_type": "markdown",
   "metadata": {},
   "source": [
    "## Get Tophat and Gaussian beams from modes (after converting from simtools notation)"
   ]
  },
  {
   "cell_type": "code",
   "execution_count": 4,
   "metadata": {},
   "outputs": [],
   "source": [
    "def N_f(A):\n",
    "    \n",
    "    res = np.floor((np.sqrt(8*A+1)-1)/2)\n",
    "    \n",
    "    #res = (np.sqrt(9+8*A)-3)/2\n",
    "    return(res)\n",
    "\n",
    "def m(N,A):\n",
    "    res = (N+1)*(N+2)/2 - (A+1)\n",
    "    return(res)\n",
    "\n",
    "#def n(N,A):\n",
    "#    m= (N+1)*(N+2)/2 - (A+1)\n",
    "#    res = N-m\n",
    "#    return(res)\n",
    "def n(N,A):\n",
    "    res = A - (N*(N+1)/2)\n",
    "    return(res)\n",
    "\n",
    "NumberModes = int(len(coef))\n",
    "listModesN = [None] * NumberModes\n",
    "listModesM = [None] * NumberModes\n",
    "listModesC = [None] * NumberModes\n",
    "\n",
    "\n",
    "\n",
    "#for i in range(len(coef)):\n",
    "#    A=i\n",
    "#    N= N_f(A)\n",
    "#\n",
    "#    if (m(N,A)%2 == 0) & (n(N,A)%2 == 0):\n",
    "#        print(coef[A], '\\t\\t\\t' , m(N,A), ',' , n(N,A))\n",
    "\n",
    "for i in range(NumberModes):\n",
    "    A=i\n",
    "    N= N_f(A)\n",
    "    listModesN[i] = int(m(N,A))\n",
    "    listModesM[i] = int(n(N,A))\n",
    "    listModesC[i] = coef[i]\n",
    "    \n",
    "    "
   ]
  },
  {
   "cell_type": "code",
   "execution_count": 5,
   "metadata": {
    "scrolled": false
   },
   "outputs": [],
   "source": [
    "plane = pl.Plane(-.5e-2, .5e-2, 300, -.5e-2, .5e-2, 100)\n",
    "params = pl.Params(1064e-9,1e-3,0.00023067)\n",
    "\n",
    "modes_tophat = pl.create_modes(listModesM,listModesN,listModesC,NumberModes)\n",
    "modes_gauss = pl.modes((0,0,1))"
   ]
  },
  {
   "cell_type": "markdown",
   "metadata": {},
   "source": [
    "## Optical Input parameters, and tilt/shift"
   ]
  },
  {
   "cell_type": "code",
   "execution_count": 6,
   "metadata": {
    "slideshow": {
     "slide_type": "fragment"
    }
   },
   "outputs": [],
   "source": [
    "#spot, wavelength, shift\n",
    "w= 1e-3\n",
    "lam= 1064e-9\n",
    "a = 100e-6  #100 micron shift\n",
    "k = 2*pi/lam\n",
    "#z0 = 0.00023067 # for tophat with 1e-3 radius\n",
    "\n",
    "#alpha(10nrad)\n",
    "alpha_min=-500e-6\n",
    "alpha_max=500e-6\n",
    "num_points = 2\n",
    "alpha = np.linspace(alpha_min,alpha_max,num = num_points)\n"
   ]
  },
  {
   "cell_type": "markdown",
   "metadata": {},
   "source": [
    "## Integrate over tophat and gaussian (iterate through alphas)"
   ]
  },
  {
   "cell_type": "markdown",
   "metadata": {},
   "source": [
    "\\begin{equation}\n",
    "C_{nmn'm'}^{R} = \\int_{0}^{\\infty} dx\\int_{-\\infty}^{\\infty} dy \\; U_{00(HG00)}^*(x,y,z_0) U_{nm(tilt-shift Tophat)}(x,y,z_0')\n",
    "\\end{equation}"
   ]
  },
  {
   "cell_type": "code",
   "execution_count": 7,
   "metadata": {},
   "outputs": [
    {
     "name": "stdout",
     "output_type": "stream",
     "text": [
      "0\n",
      "1\n"
     ]
    },
    {
     "ename": "TypeError",
     "evalue": "gouy_phase() takes 2 positional arguments but 3 were given",
     "output_type": "error",
     "traceback": [
      "\u001b[1;31m---------------------------------------------------------------------------\u001b[0m",
      "\u001b[1;31mTypeError\u001b[0m                                 Traceback (most recent call last)",
      "\u001b[1;32m<ipython-input-7-04789b1bd26c>\u001b[0m in \u001b[0;36m<module>\u001b[1;34m\u001b[0m\n\u001b[0;32m     11\u001b[0m         \u001b[1;32mreturn\u001b[0m\u001b[1;33m(\u001b[0m\u001b[0mint_r\u001b[0m\u001b[1;33m)\u001b[0m\u001b[1;33m\u001b[0m\u001b[1;33m\u001b[0m\u001b[0m\n\u001b[0;32m     12\u001b[0m \u001b[1;33m\u001b[0m\u001b[0m\n\u001b[1;32m---> 13\u001b[1;33m \u001b[0mc_r\u001b[0m \u001b[1;33m=\u001b[0m \u001b[0minteg_r\u001b[0m\u001b[1;33m(\u001b[0m\u001b[0malpha\u001b[0m\u001b[1;33m)\u001b[0m \u001b[1;31m#results for right,left integrals\u001b[0m\u001b[1;33m\u001b[0m\u001b[1;33m\u001b[0m\u001b[0m\n\u001b[0m",
      "\u001b[1;32m<ipython-input-7-04789b1bd26c>\u001b[0m in \u001b[0;36minteg_r\u001b[1;34m(alpha)\u001b[0m\n\u001b[0;32m      8\u001b[0m         integral_amp = lambda y, x: (np.conjugate(pl.amplitude(params,x,y,0,modes_gauss))\n\u001b[0;32m      9\u001b[0m                              *(pl.amplitude_case2(params,x,y,0.00023067,modes_tophat,a,alpha[i])))  \n\u001b[1;32m---> 10\u001b[1;33m         \u001b[0mint_r\u001b[0m\u001b[1;33m[\u001b[0m\u001b[0mi\u001b[0m\u001b[1;33m]\u001b[0m \u001b[1;33m=\u001b[0m \u001b[0mquadgl\u001b[0m\u001b[1;33m(\u001b[0m\u001b[0mintegral_amp\u001b[0m\u001b[1;33m,\u001b[0m \u001b[1;33m[\u001b[0m\u001b[0mplane\u001b[0m\u001b[1;33m.\u001b[0m\u001b[0mymin\u001b[0m\u001b[1;33m,\u001b[0m\u001b[0mplane\u001b[0m\u001b[1;33m.\u001b[0m\u001b[0mymax\u001b[0m\u001b[1;33m]\u001b[0m\u001b[1;33m,\u001b[0m\u001b[1;33m[\u001b[0m\u001b[1;36m0\u001b[0m\u001b[1;33m,\u001b[0m\u001b[0mplane\u001b[0m\u001b[1;33m.\u001b[0m\u001b[0mxmax\u001b[0m\u001b[1;33m]\u001b[0m\u001b[1;33m)\u001b[0m\u001b[1;33m\u001b[0m\u001b[1;33m\u001b[0m\u001b[0m\n\u001b[0m\u001b[0;32m     11\u001b[0m         \u001b[1;32mreturn\u001b[0m\u001b[1;33m(\u001b[0m\u001b[0mint_r\u001b[0m\u001b[1;33m)\u001b[0m\u001b[1;33m\u001b[0m\u001b[1;33m\u001b[0m\u001b[0m\n\u001b[0;32m     12\u001b[0m \u001b[1;33m\u001b[0m\u001b[0m\n",
      "\u001b[1;32m~\\Anaconda3\\lib\\site-packages\\mpmath\\calculus\\quadrature.py\u001b[0m in \u001b[0;36mquadgl\u001b[1;34m(ctx, *args, **kwargs)\u001b[0m\n\u001b[0;32m    807\u001b[0m         \"\"\"\n\u001b[0;32m    808\u001b[0m         \u001b[0mkwargs\u001b[0m\u001b[1;33m[\u001b[0m\u001b[1;34m'method'\u001b[0m\u001b[1;33m]\u001b[0m \u001b[1;33m=\u001b[0m \u001b[1;34m'gauss-legendre'\u001b[0m\u001b[1;33m\u001b[0m\u001b[1;33m\u001b[0m\u001b[0m\n\u001b[1;32m--> 809\u001b[1;33m         \u001b[1;32mreturn\u001b[0m \u001b[0mctx\u001b[0m\u001b[1;33m.\u001b[0m\u001b[0mquad\u001b[0m\u001b[1;33m(\u001b[0m\u001b[1;33m*\u001b[0m\u001b[0margs\u001b[0m\u001b[1;33m,\u001b[0m \u001b[1;33m**\u001b[0m\u001b[0mkwargs\u001b[0m\u001b[1;33m)\u001b[0m\u001b[1;33m\u001b[0m\u001b[1;33m\u001b[0m\u001b[0m\n\u001b[0m\u001b[0;32m    810\u001b[0m \u001b[1;33m\u001b[0m\u001b[0m\n\u001b[0;32m    811\u001b[0m     \u001b[1;32mdef\u001b[0m \u001b[0mquadosc\u001b[0m\u001b[1;33m(\u001b[0m\u001b[0mctx\u001b[0m\u001b[1;33m,\u001b[0m \u001b[0mf\u001b[0m\u001b[1;33m,\u001b[0m \u001b[0minterval\u001b[0m\u001b[1;33m,\u001b[0m \u001b[0momega\u001b[0m\u001b[1;33m=\u001b[0m\u001b[1;32mNone\u001b[0m\u001b[1;33m,\u001b[0m \u001b[0mperiod\u001b[0m\u001b[1;33m=\u001b[0m\u001b[1;32mNone\u001b[0m\u001b[1;33m,\u001b[0m \u001b[0mzeros\u001b[0m\u001b[1;33m=\u001b[0m\u001b[1;32mNone\u001b[0m\u001b[1;33m)\u001b[0m\u001b[1;33m:\u001b[0m\u001b[1;33m\u001b[0m\u001b[1;33m\u001b[0m\u001b[0m\n",
      "\u001b[1;32m~\\Anaconda3\\lib\\site-packages\\mpmath\\calculus\\quadrature.py\u001b[0m in \u001b[0;36mquad\u001b[1;34m(ctx, f, *points, **kwargs)\u001b[0m\n\u001b[0;32m    745\u001b[0m                         rule.summation(lambda y: f(x,y), \\\n\u001b[0;32m    746\u001b[0m                         points[1], prec, epsilon, m)[0],\n\u001b[1;32m--> 747\u001b[1;33m                     points[0], prec, epsilon, m, verbose)\n\u001b[0m\u001b[0;32m    748\u001b[0m             \u001b[1;32melif\u001b[0m \u001b[0mdim\u001b[0m \u001b[1;33m==\u001b[0m \u001b[1;36m3\u001b[0m\u001b[1;33m:\u001b[0m\u001b[1;33m\u001b[0m\u001b[1;33m\u001b[0m\u001b[0m\n\u001b[0;32m    749\u001b[0m                 v, err = rule.summation(lambda x: \\\n",
      "\u001b[1;32m~\\Anaconda3\\lib\\site-packages\\mpmath\\calculus\\quadrature.py\u001b[0m in \u001b[0;36msummation\u001b[1;34m(self, f, points, prec, epsilon, max_degree, verbose)\u001b[0m\n\u001b[0;32m    230\u001b[0m                     print(\"Integrating from %s to %s (degree %s of %s)\" % \\\n\u001b[0;32m    231\u001b[0m                         (ctx.nstr(a), ctx.nstr(b), degree, max_degree))\n\u001b[1;32m--> 232\u001b[1;33m                 \u001b[0mresults\u001b[0m\u001b[1;33m.\u001b[0m\u001b[0mappend\u001b[0m\u001b[1;33m(\u001b[0m\u001b[0mself\u001b[0m\u001b[1;33m.\u001b[0m\u001b[0msum_next\u001b[0m\u001b[1;33m(\u001b[0m\u001b[0mf\u001b[0m\u001b[1;33m,\u001b[0m \u001b[0mnodes\u001b[0m\u001b[1;33m,\u001b[0m \u001b[0mdegree\u001b[0m\u001b[1;33m,\u001b[0m \u001b[0mprec\u001b[0m\u001b[1;33m,\u001b[0m \u001b[0mresults\u001b[0m\u001b[1;33m,\u001b[0m \u001b[0mverbose\u001b[0m\u001b[1;33m)\u001b[0m\u001b[1;33m)\u001b[0m\u001b[1;33m\u001b[0m\u001b[1;33m\u001b[0m\u001b[0m\n\u001b[0m\u001b[0;32m    233\u001b[0m                 \u001b[1;32mif\u001b[0m \u001b[0mdegree\u001b[0m \u001b[1;33m>\u001b[0m \u001b[1;36m1\u001b[0m\u001b[1;33m:\u001b[0m\u001b[1;33m\u001b[0m\u001b[1;33m\u001b[0m\u001b[0m\n\u001b[0;32m    234\u001b[0m                     \u001b[0merr\u001b[0m \u001b[1;33m=\u001b[0m \u001b[0mself\u001b[0m\u001b[1;33m.\u001b[0m\u001b[0mestimate_error\u001b[0m\u001b[1;33m(\u001b[0m\u001b[0mresults\u001b[0m\u001b[1;33m,\u001b[0m \u001b[0mprec\u001b[0m\u001b[1;33m,\u001b[0m \u001b[0mepsilon\u001b[0m\u001b[1;33m)\u001b[0m\u001b[1;33m\u001b[0m\u001b[1;33m\u001b[0m\u001b[0m\n",
      "\u001b[1;32m~\\Anaconda3\\lib\\site-packages\\mpmath\\calculus\\quadrature.py\u001b[0m in \u001b[0;36msum_next\u001b[1;34m(self, f, nodes, degree, prec, previous, verbose)\u001b[0m\n\u001b[0;32m    252\u001b[0m         \u001b[0mcase\u001b[0m \u001b[0mthe\u001b[0m \u001b[0mquadrature\u001b[0m \u001b[0mrule\u001b[0m \u001b[1;32mis\u001b[0m \u001b[0mable\u001b[0m \u001b[0mto\u001b[0m \u001b[0mreuse\u001b[0m \u001b[0mthem\u001b[0m\u001b[1;33m.\u001b[0m\u001b[1;33m\u001b[0m\u001b[1;33m\u001b[0m\u001b[0m\n\u001b[0;32m    253\u001b[0m         \"\"\"\n\u001b[1;32m--> 254\u001b[1;33m         \u001b[1;32mreturn\u001b[0m \u001b[0mself\u001b[0m\u001b[1;33m.\u001b[0m\u001b[0mctx\u001b[0m\u001b[1;33m.\u001b[0m\u001b[0mfdot\u001b[0m\u001b[1;33m(\u001b[0m\u001b[1;33m(\u001b[0m\u001b[0mw\u001b[0m\u001b[1;33m,\u001b[0m \u001b[0mf\u001b[0m\u001b[1;33m(\u001b[0m\u001b[0mx\u001b[0m\u001b[1;33m)\u001b[0m\u001b[1;33m)\u001b[0m \u001b[1;32mfor\u001b[0m \u001b[1;33m(\u001b[0m\u001b[0mx\u001b[0m\u001b[1;33m,\u001b[0m\u001b[0mw\u001b[0m\u001b[1;33m)\u001b[0m \u001b[1;32min\u001b[0m \u001b[0mnodes\u001b[0m\u001b[1;33m)\u001b[0m\u001b[1;33m\u001b[0m\u001b[1;33m\u001b[0m\u001b[0m\n\u001b[0m\u001b[0;32m    255\u001b[0m \u001b[1;33m\u001b[0m\u001b[0m\n\u001b[0;32m    256\u001b[0m \u001b[1;33m\u001b[0m\u001b[0m\n",
      "\u001b[1;32m~\\Anaconda3\\lib\\site-packages\\mpmath\\ctx_mp_python.py\u001b[0m in \u001b[0;36mfdot\u001b[1;34m(ctx, A, B, conjugate)\u001b[0m\n\u001b[0;32m    942\u001b[0m         \u001b[0mhasattr_\u001b[0m \u001b[1;33m=\u001b[0m \u001b[0mhasattr\u001b[0m\u001b[1;33m\u001b[0m\u001b[1;33m\u001b[0m\u001b[0m\n\u001b[0;32m    943\u001b[0m         \u001b[0mtypes\u001b[0m \u001b[1;33m=\u001b[0m \u001b[1;33m(\u001b[0m\u001b[0mctx\u001b[0m\u001b[1;33m.\u001b[0m\u001b[0mmpf\u001b[0m\u001b[1;33m,\u001b[0m \u001b[0mctx\u001b[0m\u001b[1;33m.\u001b[0m\u001b[0mmpc\u001b[0m\u001b[1;33m)\u001b[0m\u001b[1;33m\u001b[0m\u001b[1;33m\u001b[0m\u001b[0m\n\u001b[1;32m--> 944\u001b[1;33m         \u001b[1;32mfor\u001b[0m \u001b[0ma\u001b[0m\u001b[1;33m,\u001b[0m \u001b[0mb\u001b[0m \u001b[1;32min\u001b[0m \u001b[0mA\u001b[0m\u001b[1;33m:\u001b[0m\u001b[1;33m\u001b[0m\u001b[1;33m\u001b[0m\u001b[0m\n\u001b[0m\u001b[0;32m    945\u001b[0m             \u001b[1;32mif\u001b[0m \u001b[0mtype\u001b[0m\u001b[1;33m(\u001b[0m\u001b[0ma\u001b[0m\u001b[1;33m)\u001b[0m \u001b[1;32mnot\u001b[0m \u001b[1;32min\u001b[0m \u001b[0mtypes\u001b[0m\u001b[1;33m:\u001b[0m \u001b[0ma\u001b[0m \u001b[1;33m=\u001b[0m \u001b[0mctx\u001b[0m\u001b[1;33m.\u001b[0m\u001b[0mconvert\u001b[0m\u001b[1;33m(\u001b[0m\u001b[0ma\u001b[0m\u001b[1;33m)\u001b[0m\u001b[1;33m\u001b[0m\u001b[1;33m\u001b[0m\u001b[0m\n\u001b[0;32m    946\u001b[0m             \u001b[1;32mif\u001b[0m \u001b[0mtype\u001b[0m\u001b[1;33m(\u001b[0m\u001b[0mb\u001b[0m\u001b[1;33m)\u001b[0m \u001b[1;32mnot\u001b[0m \u001b[1;32min\u001b[0m \u001b[0mtypes\u001b[0m\u001b[1;33m:\u001b[0m \u001b[0mb\u001b[0m \u001b[1;33m=\u001b[0m \u001b[0mctx\u001b[0m\u001b[1;33m.\u001b[0m\u001b[0mconvert\u001b[0m\u001b[1;33m(\u001b[0m\u001b[0mb\u001b[0m\u001b[1;33m)\u001b[0m\u001b[1;33m\u001b[0m\u001b[1;33m\u001b[0m\u001b[0m\n",
      "\u001b[1;32m~\\Anaconda3\\lib\\site-packages\\mpmath\\calculus\\quadrature.py\u001b[0m in \u001b[0;36m<genexpr>\u001b[1;34m(.0)\u001b[0m\n\u001b[0;32m    252\u001b[0m         \u001b[0mcase\u001b[0m \u001b[0mthe\u001b[0m \u001b[0mquadrature\u001b[0m \u001b[0mrule\u001b[0m \u001b[1;32mis\u001b[0m \u001b[0mable\u001b[0m \u001b[0mto\u001b[0m \u001b[0mreuse\u001b[0m \u001b[0mthem\u001b[0m\u001b[1;33m.\u001b[0m\u001b[1;33m\u001b[0m\u001b[1;33m\u001b[0m\u001b[0m\n\u001b[0;32m    253\u001b[0m         \"\"\"\n\u001b[1;32m--> 254\u001b[1;33m         \u001b[1;32mreturn\u001b[0m \u001b[0mself\u001b[0m\u001b[1;33m.\u001b[0m\u001b[0mctx\u001b[0m\u001b[1;33m.\u001b[0m\u001b[0mfdot\u001b[0m\u001b[1;33m(\u001b[0m\u001b[1;33m(\u001b[0m\u001b[0mw\u001b[0m\u001b[1;33m,\u001b[0m \u001b[0mf\u001b[0m\u001b[1;33m(\u001b[0m\u001b[0mx\u001b[0m\u001b[1;33m)\u001b[0m\u001b[1;33m)\u001b[0m \u001b[1;32mfor\u001b[0m \u001b[1;33m(\u001b[0m\u001b[0mx\u001b[0m\u001b[1;33m,\u001b[0m\u001b[0mw\u001b[0m\u001b[1;33m)\u001b[0m \u001b[1;32min\u001b[0m \u001b[0mnodes\u001b[0m\u001b[1;33m)\u001b[0m\u001b[1;33m\u001b[0m\u001b[1;33m\u001b[0m\u001b[0m\n\u001b[0m\u001b[0;32m    255\u001b[0m \u001b[1;33m\u001b[0m\u001b[0m\n\u001b[0;32m    256\u001b[0m \u001b[1;33m\u001b[0m\u001b[0m\n",
      "\u001b[1;32m~\\Anaconda3\\lib\\site-packages\\mpmath\\calculus\\quadrature.py\u001b[0m in \u001b[0;36m<lambda>\u001b[1;34m(x)\u001b[0m\n\u001b[0;32m    744\u001b[0m                 v, err = rule.summation(lambda x: \\\n\u001b[0;32m    745\u001b[0m                         rule.summation(lambda y: f(x,y), \\\n\u001b[1;32m--> 746\u001b[1;33m                         points[1], prec, epsilon, m)[0],\n\u001b[0m\u001b[0;32m    747\u001b[0m                     points[0], prec, epsilon, m, verbose)\n\u001b[0;32m    748\u001b[0m             \u001b[1;32melif\u001b[0m \u001b[0mdim\u001b[0m \u001b[1;33m==\u001b[0m \u001b[1;36m3\u001b[0m\u001b[1;33m:\u001b[0m\u001b[1;33m\u001b[0m\u001b[1;33m\u001b[0m\u001b[0m\n",
      "\u001b[1;32m~\\Anaconda3\\lib\\site-packages\\mpmath\\calculus\\quadrature.py\u001b[0m in \u001b[0;36msummation\u001b[1;34m(self, f, points, prec, epsilon, max_degree, verbose)\u001b[0m\n\u001b[0;32m    230\u001b[0m                     print(\"Integrating from %s to %s (degree %s of %s)\" % \\\n\u001b[0;32m    231\u001b[0m                         (ctx.nstr(a), ctx.nstr(b), degree, max_degree))\n\u001b[1;32m--> 232\u001b[1;33m                 \u001b[0mresults\u001b[0m\u001b[1;33m.\u001b[0m\u001b[0mappend\u001b[0m\u001b[1;33m(\u001b[0m\u001b[0mself\u001b[0m\u001b[1;33m.\u001b[0m\u001b[0msum_next\u001b[0m\u001b[1;33m(\u001b[0m\u001b[0mf\u001b[0m\u001b[1;33m,\u001b[0m \u001b[0mnodes\u001b[0m\u001b[1;33m,\u001b[0m \u001b[0mdegree\u001b[0m\u001b[1;33m,\u001b[0m \u001b[0mprec\u001b[0m\u001b[1;33m,\u001b[0m \u001b[0mresults\u001b[0m\u001b[1;33m,\u001b[0m \u001b[0mverbose\u001b[0m\u001b[1;33m)\u001b[0m\u001b[1;33m)\u001b[0m\u001b[1;33m\u001b[0m\u001b[1;33m\u001b[0m\u001b[0m\n\u001b[0m\u001b[0;32m    233\u001b[0m                 \u001b[1;32mif\u001b[0m \u001b[0mdegree\u001b[0m \u001b[1;33m>\u001b[0m \u001b[1;36m1\u001b[0m\u001b[1;33m:\u001b[0m\u001b[1;33m\u001b[0m\u001b[1;33m\u001b[0m\u001b[0m\n\u001b[0;32m    234\u001b[0m                     \u001b[0merr\u001b[0m \u001b[1;33m=\u001b[0m \u001b[0mself\u001b[0m\u001b[1;33m.\u001b[0m\u001b[0mestimate_error\u001b[0m\u001b[1;33m(\u001b[0m\u001b[0mresults\u001b[0m\u001b[1;33m,\u001b[0m \u001b[0mprec\u001b[0m\u001b[1;33m,\u001b[0m \u001b[0mepsilon\u001b[0m\u001b[1;33m)\u001b[0m\u001b[1;33m\u001b[0m\u001b[1;33m\u001b[0m\u001b[0m\n",
      "\u001b[1;32m~\\Anaconda3\\lib\\site-packages\\mpmath\\calculus\\quadrature.py\u001b[0m in \u001b[0;36msum_next\u001b[1;34m(self, f, nodes, degree, prec, previous, verbose)\u001b[0m\n\u001b[0;32m    252\u001b[0m         \u001b[0mcase\u001b[0m \u001b[0mthe\u001b[0m \u001b[0mquadrature\u001b[0m \u001b[0mrule\u001b[0m \u001b[1;32mis\u001b[0m \u001b[0mable\u001b[0m \u001b[0mto\u001b[0m \u001b[0mreuse\u001b[0m \u001b[0mthem\u001b[0m\u001b[1;33m.\u001b[0m\u001b[1;33m\u001b[0m\u001b[1;33m\u001b[0m\u001b[0m\n\u001b[0;32m    253\u001b[0m         \"\"\"\n\u001b[1;32m--> 254\u001b[1;33m         \u001b[1;32mreturn\u001b[0m \u001b[0mself\u001b[0m\u001b[1;33m.\u001b[0m\u001b[0mctx\u001b[0m\u001b[1;33m.\u001b[0m\u001b[0mfdot\u001b[0m\u001b[1;33m(\u001b[0m\u001b[1;33m(\u001b[0m\u001b[0mw\u001b[0m\u001b[1;33m,\u001b[0m \u001b[0mf\u001b[0m\u001b[1;33m(\u001b[0m\u001b[0mx\u001b[0m\u001b[1;33m)\u001b[0m\u001b[1;33m)\u001b[0m \u001b[1;32mfor\u001b[0m \u001b[1;33m(\u001b[0m\u001b[0mx\u001b[0m\u001b[1;33m,\u001b[0m\u001b[0mw\u001b[0m\u001b[1;33m)\u001b[0m \u001b[1;32min\u001b[0m \u001b[0mnodes\u001b[0m\u001b[1;33m)\u001b[0m\u001b[1;33m\u001b[0m\u001b[1;33m\u001b[0m\u001b[0m\n\u001b[0m\u001b[0;32m    255\u001b[0m \u001b[1;33m\u001b[0m\u001b[0m\n\u001b[0;32m    256\u001b[0m \u001b[1;33m\u001b[0m\u001b[0m\n",
      "\u001b[1;32m~\\Anaconda3\\lib\\site-packages\\mpmath\\ctx_mp_python.py\u001b[0m in \u001b[0;36mfdot\u001b[1;34m(ctx, A, B, conjugate)\u001b[0m\n\u001b[0;32m    942\u001b[0m         \u001b[0mhasattr_\u001b[0m \u001b[1;33m=\u001b[0m \u001b[0mhasattr\u001b[0m\u001b[1;33m\u001b[0m\u001b[1;33m\u001b[0m\u001b[0m\n\u001b[0;32m    943\u001b[0m         \u001b[0mtypes\u001b[0m \u001b[1;33m=\u001b[0m \u001b[1;33m(\u001b[0m\u001b[0mctx\u001b[0m\u001b[1;33m.\u001b[0m\u001b[0mmpf\u001b[0m\u001b[1;33m,\u001b[0m \u001b[0mctx\u001b[0m\u001b[1;33m.\u001b[0m\u001b[0mmpc\u001b[0m\u001b[1;33m)\u001b[0m\u001b[1;33m\u001b[0m\u001b[1;33m\u001b[0m\u001b[0m\n\u001b[1;32m--> 944\u001b[1;33m         \u001b[1;32mfor\u001b[0m \u001b[0ma\u001b[0m\u001b[1;33m,\u001b[0m \u001b[0mb\u001b[0m \u001b[1;32min\u001b[0m \u001b[0mA\u001b[0m\u001b[1;33m:\u001b[0m\u001b[1;33m\u001b[0m\u001b[1;33m\u001b[0m\u001b[0m\n\u001b[0m\u001b[0;32m    945\u001b[0m             \u001b[1;32mif\u001b[0m \u001b[0mtype\u001b[0m\u001b[1;33m(\u001b[0m\u001b[0ma\u001b[0m\u001b[1;33m)\u001b[0m \u001b[1;32mnot\u001b[0m \u001b[1;32min\u001b[0m \u001b[0mtypes\u001b[0m\u001b[1;33m:\u001b[0m \u001b[0ma\u001b[0m \u001b[1;33m=\u001b[0m \u001b[0mctx\u001b[0m\u001b[1;33m.\u001b[0m\u001b[0mconvert\u001b[0m\u001b[1;33m(\u001b[0m\u001b[0ma\u001b[0m\u001b[1;33m)\u001b[0m\u001b[1;33m\u001b[0m\u001b[1;33m\u001b[0m\u001b[0m\n\u001b[0;32m    946\u001b[0m             \u001b[1;32mif\u001b[0m \u001b[0mtype\u001b[0m\u001b[1;33m(\u001b[0m\u001b[0mb\u001b[0m\u001b[1;33m)\u001b[0m \u001b[1;32mnot\u001b[0m \u001b[1;32min\u001b[0m \u001b[0mtypes\u001b[0m\u001b[1;33m:\u001b[0m \u001b[0mb\u001b[0m \u001b[1;33m=\u001b[0m \u001b[0mctx\u001b[0m\u001b[1;33m.\u001b[0m\u001b[0mconvert\u001b[0m\u001b[1;33m(\u001b[0m\u001b[0mb\u001b[0m\u001b[1;33m)\u001b[0m\u001b[1;33m\u001b[0m\u001b[1;33m\u001b[0m\u001b[0m\n",
      "\u001b[1;32m~\\Anaconda3\\lib\\site-packages\\mpmath\\calculus\\quadrature.py\u001b[0m in \u001b[0;36m<genexpr>\u001b[1;34m(.0)\u001b[0m\n\u001b[0;32m    252\u001b[0m         \u001b[0mcase\u001b[0m \u001b[0mthe\u001b[0m \u001b[0mquadrature\u001b[0m \u001b[0mrule\u001b[0m \u001b[1;32mis\u001b[0m \u001b[0mable\u001b[0m \u001b[0mto\u001b[0m \u001b[0mreuse\u001b[0m \u001b[0mthem\u001b[0m\u001b[1;33m.\u001b[0m\u001b[1;33m\u001b[0m\u001b[1;33m\u001b[0m\u001b[0m\n\u001b[0;32m    253\u001b[0m         \"\"\"\n\u001b[1;32m--> 254\u001b[1;33m         \u001b[1;32mreturn\u001b[0m \u001b[0mself\u001b[0m\u001b[1;33m.\u001b[0m\u001b[0mctx\u001b[0m\u001b[1;33m.\u001b[0m\u001b[0mfdot\u001b[0m\u001b[1;33m(\u001b[0m\u001b[1;33m(\u001b[0m\u001b[0mw\u001b[0m\u001b[1;33m,\u001b[0m \u001b[0mf\u001b[0m\u001b[1;33m(\u001b[0m\u001b[0mx\u001b[0m\u001b[1;33m)\u001b[0m\u001b[1;33m)\u001b[0m \u001b[1;32mfor\u001b[0m \u001b[1;33m(\u001b[0m\u001b[0mx\u001b[0m\u001b[1;33m,\u001b[0m\u001b[0mw\u001b[0m\u001b[1;33m)\u001b[0m \u001b[1;32min\u001b[0m \u001b[0mnodes\u001b[0m\u001b[1;33m)\u001b[0m\u001b[1;33m\u001b[0m\u001b[1;33m\u001b[0m\u001b[0m\n\u001b[0m\u001b[0;32m    255\u001b[0m \u001b[1;33m\u001b[0m\u001b[0m\n\u001b[0;32m    256\u001b[0m \u001b[1;33m\u001b[0m\u001b[0m\n",
      "\u001b[1;32m~\\Anaconda3\\lib\\site-packages\\mpmath\\calculus\\quadrature.py\u001b[0m in \u001b[0;36m<lambda>\u001b[1;34m(y)\u001b[0m\n\u001b[0;32m    743\u001b[0m             \u001b[1;32melif\u001b[0m \u001b[0mdim\u001b[0m \u001b[1;33m==\u001b[0m \u001b[1;36m2\u001b[0m\u001b[1;33m:\u001b[0m\u001b[1;33m\u001b[0m\u001b[1;33m\u001b[0m\u001b[0m\n\u001b[0;32m    744\u001b[0m                 v, err = rule.summation(lambda x: \\\n\u001b[1;32m--> 745\u001b[1;33m                         rule.summation(lambda y: f(x,y), \\\n\u001b[0m\u001b[0;32m    746\u001b[0m                         points[1], prec, epsilon, m)[0],\n\u001b[0;32m    747\u001b[0m                     points[0], prec, epsilon, m, verbose)\n",
      "\u001b[1;32m<ipython-input-7-04789b1bd26c>\u001b[0m in \u001b[0;36m<lambda>\u001b[1;34m(y, x)\u001b[0m\n\u001b[0;32m      7\u001b[0m         \u001b[1;31m#define integral = dydx for given plane, conjugate(HG00)*tophat\u001b[0m\u001b[1;33m\u001b[0m\u001b[1;33m\u001b[0m\u001b[1;33m\u001b[0m\u001b[0m\n\u001b[0;32m      8\u001b[0m         integral_amp = lambda y, x: (np.conjugate(pl.amplitude(params,x,y,0,modes_gauss))\n\u001b[1;32m----> 9\u001b[1;33m                              *(pl.amplitude_case2(params,x,y,0.00023067,modes_tophat,a,alpha[i])))  \n\u001b[0m\u001b[0;32m     10\u001b[0m         \u001b[0mint_r\u001b[0m\u001b[1;33m[\u001b[0m\u001b[0mi\u001b[0m\u001b[1;33m]\u001b[0m \u001b[1;33m=\u001b[0m \u001b[0mquadgl\u001b[0m\u001b[1;33m(\u001b[0m\u001b[0mintegral_amp\u001b[0m\u001b[1;33m,\u001b[0m \u001b[1;33m[\u001b[0m\u001b[0mplane\u001b[0m\u001b[1;33m.\u001b[0m\u001b[0mymin\u001b[0m\u001b[1;33m,\u001b[0m\u001b[0mplane\u001b[0m\u001b[1;33m.\u001b[0m\u001b[0mymax\u001b[0m\u001b[1;33m]\u001b[0m\u001b[1;33m,\u001b[0m\u001b[1;33m[\u001b[0m\u001b[1;36m0\u001b[0m\u001b[1;33m,\u001b[0m\u001b[0mplane\u001b[0m\u001b[1;33m.\u001b[0m\u001b[0mxmax\u001b[0m\u001b[1;33m]\u001b[0m\u001b[1;33m)\u001b[0m\u001b[1;33m\u001b[0m\u001b[1;33m\u001b[0m\u001b[0m\n\u001b[0;32m     11\u001b[0m         \u001b[1;32mreturn\u001b[0m\u001b[1;33m(\u001b[0m\u001b[0mint_r\u001b[0m\u001b[1;33m)\u001b[0m\u001b[1;33m\u001b[0m\u001b[1;33m\u001b[0m\u001b[0m\n",
      "\u001b[1;32m~\\OneDrive\\Documents\\GitHub\\Python-HG-Modes\\HG Modes\\PauLisa.py\u001b[0m in \u001b[0;36mamplitude_case2\u001b[1;34m(params, x, y, z, modes, a, alpha)\u001b[0m\n\u001b[0;32m    459\u001b[0m                         ((x ** 2 + y ** 2) / ((w(z, params)) ** 2))) * \\\n\u001b[0;32m    460\u001b[0m                   \u001b[0mherm_poly\u001b[0m\u001b[1;33m(\u001b[0m\u001b[0mn\u001b[0m\u001b[1;33m,\u001b[0m \u001b[0mx\u001b[0m\u001b[1;33m,\u001b[0m \u001b[0mcarrN\u001b[0m\u001b[1;33m,\u001b[0m \u001b[0mz\u001b[0m\u001b[1;33m,\u001b[0m \u001b[0mparams\u001b[0m\u001b[1;33m)\u001b[0m \u001b[1;33m*\u001b[0m\u001b[0;31m \u001b[0m\u001b[0;31m\\\u001b[0m\u001b[1;33m\u001b[0m\u001b[1;33m\u001b[0m\u001b[0m\n\u001b[1;32m--> 461\u001b[1;33m                   \u001b[0mherm_poly\u001b[0m\u001b[1;33m(\u001b[0m\u001b[0mm\u001b[0m\u001b[1;33m,\u001b[0m \u001b[0my\u001b[0m\u001b[1;33m,\u001b[0m \u001b[0mcarrM\u001b[0m\u001b[1;33m,\u001b[0m \u001b[0mz\u001b[0m\u001b[1;33m,\u001b[0m \u001b[0mparams\u001b[0m\u001b[1;33m)\u001b[0m \u001b[1;33m*\u001b[0m\u001b[1;33m\u001b[0m\u001b[1;33m\u001b[0m\u001b[0m\n\u001b[0m\u001b[0;32m    462\u001b[0m                   (1+2*a*x/w(z,params)**2+(1j)*alpha*params.getK()*x+(1j)*2*params.getK()*a*alpha/w(z,params)**2*x**2 ))\n\u001b[0;32m    463\u001b[0m \u001b[1;33m\u001b[0m\u001b[0m\n",
      "\u001b[1;31mTypeError\u001b[0m: gouy_phase() takes 2 positional arguments but 3 were given"
     ]
    }
   ],
   "source": [
    "def integ_r(alpha):\n",
    "    for i in range (len(alpha)):\n",
    "        int_r = [0]*len(alpha) #integral right\n",
    "        \n",
    "        print(i) #progress check\n",
    "        \n",
    "        #define integral = dydx for given plane, conjugate(HG00)*tophat\n",
    "        integral_amp = lambda y, x: (np.conjugate(pl.amplitude(params,x,y,0,modes_gauss))\n",
    "                             *(pl.amplitude_case2(params,x,y,0.00023067,modes_tophat,a,alpha[i])))  \n",
    "        int_r[i] = quadgl(integral_amp, [plane.ymin,plane.ymax],[0,plane.xmax])\n",
    "        return(int_r)\n",
    "\n",
    "c_r = integ_r(alpha) #results for right,left integrals\n"
   ]
  },
  {
   "cell_type": "markdown",
   "metadata": {},
   "source": [
    "\\begin{equation}\n",
    "C_{nmn'm'}^{L} = \\int_{-\\infty}^{0} dx\\int_{-\\infty}^{\\infty} dy \\; U_{00(HG00)}^*(x,y,z_0) U_{nm(tilt-shift Tophat)}(x,y,z_0')\n",
    "\\end{equation}"
   ]
  },
  {
   "cell_type": "code",
   "execution_count": null,
   "metadata": {},
   "outputs": [],
   "source": [
    "def integ_r(alpha):\n",
    "    for i in range (len(alpha)):\n",
    "        int_l = [0]*len(alpha) #integral left\n",
    "        \n",
    "        print(i) #progress check\n",
    "        \n",
    "        #define integral = dydx for given plane, conjugate(HG00)*tophat\n",
    "        integral_amp = lambda y, x: (np.conjugate(pl.amplitude(params,x,y,0,modes_gauss))\n",
    "                             *(pl.amplitude_case2(params,x,y,0.00023067,modes_tophat,a,alpha[i])))\n",
    "        int_l[i] = quadgl(integral_amp, [plane.ymin,plane.ymax],[plane.xmin,0])\n",
    "        return(int_l)\n",
    "\n",
    "c_l = integ_r(alpha) #results for right,left integrals\n"
   ]
  },
  {
   "cell_type": "markdown",
   "metadata": {},
   "source": [
    "## Phases from integral results (right and left), DWS & LPS from phases"
   ]
  },
  {
   "cell_type": "code",
   "execution_count": null,
   "metadata": {},
   "outputs": [],
   "source": [
    "phase_r = cm.phase(c_r) #phase right side PD\n",
    "phase_l = cm.phase(c_l) #phase left side PD\n",
    "\n",
    "dws = .5*(phase_r-phase_l) #DWS signal phase\n",
    "lps = .5*(phase_r+phase_l) #LPS signal phase"
   ]
  },
  {
   "cell_type": "markdown",
   "metadata": {},
   "source": [
    "## Plot GWS,LPS"
   ]
  },
  {
   "cell_type": "code",
   "execution_count": null,
   "metadata": {
    "scrolled": true
   },
   "outputs": [],
   "source": [
    "plt.figure(figsize=(9,6))\n",
    "\n",
    "plt.plot(alpha, dws, label='DWS') \n",
    "\n",
    "plt.legend(loc='lower right')\n",
    "\n",
    "plt.xlabel(r'Intensity [a.u.], $\\alpha\\;$[' + xlab +'rad]', fontsize=15) \n",
    "plt.ylabel(r'DWS Signal Phase, $ [' + ylab + ']$', fontsize=15) \n",
    "plt.title(r'Gapless HPPD: Shift-Tilted Tophat-HG00 at Waist (shift ='+str(a)+'$\\mu m$,)') \n",
    "plt.grid() \n",
    "#plt.savefig(\"tilt-shift-waist-2tilt.pdf\")"
   ]
  },
  {
   "cell_type": "code",
   "execution_count": null,
   "metadata": {},
   "outputs": [],
   "source": [
    "plt.figure(figsize=(9,6))\n",
    "\n",
    "plt.plot(alpha, lps, label='LPS') \n",
    "\n",
    "plt.legend(loc='lower right')\n",
    "\n",
    "plt.xlabel(r'Intensity [a.u.], $\\alpha\\;$[' + xlab +'rad]', fontsize=15) \n",
    "plt.ylabel(r'DWS Signal Phase, $ [' + ylab + ']$', fontsize=15) \n",
    "plt.title(r'Gapless HPPD: Shift-Tilted Tophat-HG00 at Waist (shift ='+str(a)+'$\\mu m$,)') \n",
    "plt.grid() \n",
    "#plt.savefig(\"tilt-shift-waist-2tilt.pdf\")"
   ]
  },
  {
   "cell_type": "code",
   "execution_count": null,
   "metadata": {},
   "outputs": [],
   "source": []
  }
 ],
 "metadata": {
  "kernelspec": {
   "display_name": "Python 3",
   "language": "python",
   "name": "python3"
  },
  "language_info": {
   "codemirror_mode": {
    "name": "ipython",
    "version": 3
   },
   "file_extension": ".py",
   "mimetype": "text/x-python",
   "name": "python",
   "nbconvert_exporter": "python",
   "pygments_lexer": "ipython3",
   "version": "3.7.3"
  }
 },
 "nbformat": 4,
 "nbformat_minor": 2
}
