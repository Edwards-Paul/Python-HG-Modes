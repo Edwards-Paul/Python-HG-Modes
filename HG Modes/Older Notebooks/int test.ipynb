{
 "cells": [
  {
   "cell_type": "markdown",
   "metadata": {},
   "source": [
    "# Shifting then Tilting HG(0,0)"
   ]
  },
  {
   "cell_type": "code",
   "execution_count": 1,
   "metadata": {},
   "outputs": [
    {
     "ename": "ModuleNotFoundError",
     "evalue": "No module named 'quadpy'",
     "output_type": "error",
     "traceback": [
      "\u001b[1;31m---------------------------------------------------------------------------\u001b[0m",
      "\u001b[1;31mModuleNotFoundError\u001b[0m                       Traceback (most recent call last)",
      "\u001b[1;32m<ipython-input-1-2de669c4ddc8>\u001b[0m in \u001b[0;36m<module>\u001b[1;34m\u001b[0m\n\u001b[0;32m      1\u001b[0m \u001b[1;32mimport\u001b[0m \u001b[0mPauLisa\u001b[0m \u001b[1;32mas\u001b[0m \u001b[0mpl\u001b[0m\u001b[1;33m,\u001b[0m \u001b[0mnumpy\u001b[0m \u001b[1;32mas\u001b[0m \u001b[0mnp\u001b[0m\u001b[1;33m,\u001b[0m \u001b[0mmatplotlib\u001b[0m\u001b[1;33m.\u001b[0m\u001b[0mpyplot\u001b[0m \u001b[1;32mas\u001b[0m \u001b[0mplt\u001b[0m\u001b[1;33m,\u001b[0m \u001b[0mcmath\u001b[0m \u001b[1;32mas\u001b[0m \u001b[0mcm\u001b[0m\u001b[1;33m,\u001b[0m \u001b[0mmpmath\u001b[0m \u001b[1;32mas\u001b[0m \u001b[0mmp\u001b[0m\u001b[1;33m\u001b[0m\u001b[1;33m\u001b[0m\u001b[0m\n\u001b[0;32m      2\u001b[0m \u001b[1;32mfrom\u001b[0m \u001b[0mscipy\u001b[0m \u001b[1;32mimport\u001b[0m \u001b[0mintegrate\u001b[0m\u001b[1;33m\u001b[0m\u001b[1;33m\u001b[0m\u001b[0m\n\u001b[1;32m----> 3\u001b[1;33m \u001b[1;32mimport\u001b[0m \u001b[0mquadpy\u001b[0m\u001b[1;33m\u001b[0m\u001b[1;33m\u001b[0m\u001b[0m\n\u001b[0m",
      "\u001b[1;31mModuleNotFoundError\u001b[0m: No module named 'quadpy'"
     ]
    }
   ],
   "source": [
    "import PauLisa as pl, numpy as np, matplotlib.pyplot as plt, cmath as cm, mpmath as mp\n",
    "from scipy import integrate"
   ]
  },
  {
   "cell_type": "code",
   "execution_count": 8,
   "metadata": {},
   "outputs": [],
   "source": [
    "#constants\n",
    "pi = np.pi\n",
    "\n",
    "#Redefining and naming initial parameters\n",
    "high_res_plane = pl.Plane(-6e-3,7e-3,1000,-1e-3,1e-3,3) #just used to calculate peak, higher precision\n",
    "plane = pl.Plane(-500e-3,500e-3,1000,-500e-3,500e-3,1000)\n",
    "params = pl.Params(wavelength=1.064e-06, w0=1e-3, z0=0)\n",
    "\n",
    "\n",
    "lam = params.wavelength #wavelength\n",
    "w0 = params.w0 #spot size\n",
    "k = params.k #wavenumber\n",
    "z0 = params.z0 #waist location\n",
    "Zr = params.Zr #rayleigh range"
   ]
  },
  {
   "cell_type": "markdown",
   "metadata": {},
   "source": [
    "\n",
    "For gap half-width $b$, the right side PD:\n",
    "\n",
    "\\begin{align*}\n",
    "\t\tC_{nmn'm'}^{R} =&\n",
    "\t\t\\int_{b}^{\\infty} dx\\int_{-\\infty}^{\\infty}  dy \\;\n",
    "\t\t\\frac{2}{\\pi}\n",
    "\t\t\\frac{1}{w_0 w(z)}\n",
    "        \\frac{1}{\\sqrt{1 + \\big( \\frac{z-(x+a)\\alpha-z_0}{z_R} \\big)^2}}\n",
    "\t\t\\\\& \\; \\times\n",
    "\t\t\\exp \\Big(\n",
    "\t\t\\frac\n",
    "\t\t{\n",
    "\t\t-ik( (x+a)^{2}+y^{2})\n",
    "\t\t}\n",
    "\t\t{2 R_c(z) - (x+a) \\alpha }-\n",
    "\t\t\\frac{(x+a)^{2} +y^{2}}\n",
    "\t\t{\n",
    "\t\tw_0^2\n",
    "        (1 + \\big( \\frac{z-(x+a)\\alpha -z_0}{z_R} \\big)^2)}\n",
    "\t\t\\Big)\n",
    "\t\t\\\\& \\; \\times\n",
    "\t\t\\exp \\Big(\\frac{ik(x^{2}+y^{2})}{2R_{c}(z)}-\n",
    "\t\t\\frac{x^{2}+y^{2}}{w(z)^{2}} \\Big)\n",
    "\\end{align*}"
   ]
  },
  {
   "cell_type": "code",
   "execution_count": 21,
   "metadata": {},
   "outputs": [],
   "source": [
    "def integ_gaps(alpha_lin,gapsize,z, a):\n",
    "    \n",
    "    sol = [0]*len(alpha_lin)\n",
    "    \n",
    "    for i in range (len(alpha_lin)):\n",
    "\n",
    "        \n",
    "        f = lambda y, x: (mp.exp( 1j * (x**2 + y**2)/3))\n",
    "        \n",
    "        #with gap 1/1000 plane width\n",
    "        cr = mp.quadgl(f, [plane.ymin,plane.ymax],[500e-5,plane.xmax])\n",
    "        cl = mp.quadgl(f, [plane.ymin,plane.ymax],[plane.xmin,plane.xmin*gapsize])\n",
    "        \n",
    "        print(cr,cl)\n",
    "        \n",
    "        #args for phi_r and phi_l\n",
    "        phi_r = cm.phase(cr)\n",
    "        phi_l = cm.phase(cl)\n",
    "        \n",
    "        #result in cycles\n",
    "        sol[i] = 0.5*(phi_r-phi_l)/(2*pi)\n",
    "    \n",
    "    print(sol[0],sol[1])\n",
    "    return (sol) "
   ]
  },
  {
   "cell_type": "code",
   "execution_count": 22,
   "metadata": {},
   "outputs": [
    {
     "name": "stdout",
     "output_type": "stream",
     "text": [
      "(0.49392407134033 + 0.0276058939129544j) (0.249153197994444 + 0.0190691764339167j)\n",
      "(0.49392407134033 + 0.0276058939129544j) (0.249153197994444 + 0.0190691764339167j)\n",
      "-0.0016356473503951825 -0.0016356473503951825\n"
     ]
    },
    {
     "data": {
      "image/png": "[encoded data removed]",
      "text/plain": [
       "<Figure size 648x432 with 1 Axes>"
      ]
     },
     "metadata": {
      "needs_background": "light"
     },
     "output_type": "display_data"
    }
   ],
   "source": [
    "gapsize = 500e-3 # gap full-width [m]\n",
    "z = 1e-3 # optical axis location [m]\n",
    "a = 1e-3 #shift\n",
    "\n",
    "alpha_lin = np.linspace(-500e-6,500e-6,2)\n",
    "\n",
    "plt.figure(figsize=(9,6))\n",
    "plt.plot(alpha_lin, integ_gaps(alpha_lin,gapsize,z,a))\n",
    "\n",
    "plt.xlabel(r'Tilt Angle, $\\alpha\\;$[' + 'rad]', fontsize=15) \n",
    "plt.ylabel(r'Phase Diff, $\\Delta \\phi\\;[' +  'cycles]$', fontsize=15) \n",
    "plt.title(r'Tilted Gaussian: gap = ' + str(gapsize) + 'm, z =' + str(z) + 'm') \n",
    "\n",
    "plt.grid()"
   ]
  },
  {
   "cell_type": "code",
   "execution_count": 14,
   "metadata": {},
   "outputs": [
    {
     "name": "stdout",
     "output_type": "stream",
     "text": [
      "5905249.348852994\n"
     ]
    }
   ],
   "source": [
    "print(k)"
   ]
  },
  {
   "cell_type": "code",
   "execution_count": null,
   "metadata": {},
   "outputs": [],
   "source": []
  }
 ],
 "metadata": {
  "kernelspec": {
   "display_name": "Python 3",
   "language": "python",
   "name": "python3"
  }
 },
 "nbformat": 4,
 "nbformat_minor": 2
}
