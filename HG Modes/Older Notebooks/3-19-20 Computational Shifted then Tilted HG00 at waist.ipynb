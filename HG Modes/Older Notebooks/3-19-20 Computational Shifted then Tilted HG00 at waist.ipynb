{
 "cells": [
  {
   "cell_type": "markdown",
   "metadata": {},
   "source": [
    "# Shifting then Tilting HG(0,0)"
   ]
  },
  {
   "cell_type": "markdown",
   "metadata": {},
   "source": [
    "***\n",
    "The effect of a tilt to an already misaligned beam of fundamental mode:\n",
    "\n",
    "$\n",
    "\t\\sum_{n,m} u_{nm}(x,y,0)= u_{00(tilt)}(x,y,0)+ \\frac{a}{w_0}u_{10(tilt)}(x,y,0) \\; .\n",
    "$\n",
    "\n",
    "The first term is verified to be\n",
    "\n",
    "$\n",
    "\tu_{00 (tilt)} \\approx u_{00}(x,y,0) + i  \\frac{\\pi w_{0} \\alpha}{\\lambda}u_{10} \\; .\n",
    "$\n",
    "\n",
    "The second term approximates to\n",
    "\n",
    "$\n",
    "\t\t\\frac{a}{w_0} u_{tilt(1,0)}(x,y,0) \t\t\t \n",
    "\t\t\t\\approx  \n",
    "\t\t\t\\frac{a}{w_0} \n",
    "\t\t\tu_{10} \n",
    "\t\t\t \\left[\n",
    "\t\t\t1 + i \\frac{2 \\pi x \\alpha}{\\lambda} \\right] \\;.\n",
    "$\n",
    "\n",
    "***\n",
    "Therefore:\n",
    "\n",
    "$\n",
    "\t\tu(x,y,0)=\n",
    "\t\t\t\\left[\n",
    "\t\t\t\t1+\n",
    "\t\t\t\ti \\frac{ \\pi a \\alpha}{ \\lambda}\n",
    "\t\t\t\\right]\n",
    "\t\t\tu_{00}\n",
    "\t\t\t+\n",
    "\t\t\t\\left[\n",
    "\t\t\t\ti  \\frac{\\pi w_{0} \\alpha}{\\lambda}\n",
    "\t\t\t+\n",
    "\t\t\t\\frac{a}{w_{0}}\n",
    "\t\t\t\\right]\t\t\t\n",
    "\t\t\tu_{10}\n",
    "\t\t\t+\n",
    "\t\t\ti  \n",
    "\t\t\t\t\\frac{\\sqrt{2} \\pi a \\alpha}{ \\lambda}\n",
    "\t\t\tu_{20}\t.\n",
    "$\n",
    "\n",
    "\n",
    "\n"
   ]
  },
  {
   "cell_type": "code",
   "execution_count": 7,
   "metadata": {},
   "outputs": [],
   "source": [
    "import PauLisa as pl, numpy as np,plback as plb, matplotlib.pyplot as plt, cmath as cm\n",
    "from scipy import integrate\n",
    "from mpmath import quadgl\n",
    "from numpy import pi as pi\n",
    "import mpmath as mp\n",
    "\n",
    "inf=np.inf"
   ]
  },
  {
   "cell_type": "code",
   "execution_count": 8,
   "metadata": {},
   "outputs": [
    {
     "name": "stdout",
     "output_type": "stream",
     "text": [
      "(1+0.002952624674426497j) (0.1+0.029526246744264975j) 0.004175641859171396j\n"
     ]
    }
   ],
   "source": [
    "#Redefining and naming initial parameters\n",
    "high_res_plane = pl.Plane(-6e-3,7e-3,1000,-1e-3,1e-3,3) #just used to calculate peak, higher precision\n",
    "plane = pl.Plane(-2e-3,2e-3,200,-2e-3,2e-3,200)\n",
    "params = pl.Params(wavelength=1.064e-06, w0=1e-3, z0=0)\n",
    "a = 100e-6 #shift\n",
    "alpha = 10e-6 #tilt angle\n",
    "\n",
    "#wavelength\n",
    "lam = params.wavelength #wavelength\n",
    "w0 = params.w0 #spot size\n",
    "E0 = 1   #E field\n",
    "k=2*pi/lam\n",
    "\n",
    "#scales of each mode\n",
    "c00_ref = 1\n",
    "c00 = (1+ (np.pi * a * alpha/ lam)*1j)\n",
    "c10 = ((a/w0)+ (np.pi*w0*alpha/lam)*1j)\n",
    "c20 = (np.sqrt(2)*np.pi*a*alpha/lam)*1j\n",
    "\n",
    "\n",
    "print(c00,c10,c20)\n",
    "\n",
    "#create modes received and reference (rec and ref)\n",
    "modes_rec = plb.modes((0,0,c00),(1,0,c10),(2,0,c20))\n",
    "modes_ref = plb.modes((0,0,c00_ref))\n",
    "\n",
    "\n",
    "#calculate amp. and phase\n",
    "#result_rec = pl.calculate(params, plane, modes_rec, z=0)\n",
    "#result_ref = pl.calculate(params,plane,modes_ref, z=0)\n",
    "\n"
   ]
  },
  {
   "cell_type": "code",
   "execution_count": 4,
   "metadata": {},
   "outputs": [],
   "source": [
    "alpha_lin = np.linspace(-500e-6,500e-6,21)\n",
    "\n",
    "def integ_1st_order(alpha_lin):\n",
    "    \n",
    "    cr = [0]*len(alpha_lin)\n",
    "    cl = [0]*len(alpha_lin)\n",
    "    \n",
    "    for i in range (len(alpha_lin)):\n",
    "        print(i)\n",
    "        \n",
    "        c00 = (1+ (np.pi * a * alpha_lin[i]/ lam)*1j)\n",
    "        c10 = ((a/w0)+ (np.pi*w0*alpha_lin[i]/lam)*1j)\n",
    "        c20 = (np.sqrt(2)*np.pi*a*alpha_lin[i]/lam)*1j\n",
    "\n",
    "        #create modes received and reference (rec and ref)\n",
    "        modes_rec = pl.modes((0,0,c00),(1,0,c10),(2,0,c20))\n",
    "        modes_ref = pl.modes((0,0,c00_ref))\n",
    "\n",
    "        f = lambda y, x: (pl.amplitude(params,x,y,0,modes_rec))*np.conjugate((pl.amplitude(params,x,y,0,modes_ref)))    \n",
    "        cr[i] = quadgl(f, [plane.ymin,plane.ymax],[0,plane.xmax])\n",
    "        cl[i] = quadgl(f, [plane.ymin,plane.ymax],[plane.xmin,0])\n",
    "       \n",
    "    return (cr,cl)\n",
    "\n"
   ]
  },
  {
   "cell_type": "code",
   "execution_count": 5,
   "metadata": {
    "scrolled": true
   },
   "outputs": [
    {
     "name": "stdout",
     "output_type": "stream",
     "text": [
      "0\n",
      "1\n",
      "2\n",
      "3\n",
      "4\n",
      "5\n",
      "6\n",
      "7\n",
      "8\n",
      "9\n",
      "10\n",
      "11\n",
      "12\n",
      "13\n",
      "14\n",
      "15\n",
      "16\n",
      "17\n",
      "18\n",
      "19\n",
      "20\n"
     ]
    }
   ],
   "source": [
    "cr,cl = integ_1st_order(alpha_lin)"
   ]
  },
  {
   "cell_type": "code",
   "execution_count": null,
   "metadata": {},
   "outputs": [],
   "source": [
    "print(cr,cl)"
   ]
  },
  {
   "cell_type": "code",
   "execution_count": 6,
   "metadata": {},
   "outputs": [],
   "source": [
    "size = len(alpha_lin)\n",
    "phi_r=[0]*size\n",
    "phi_l=[0]*size\n",
    "dws_1st_order = [0]*size\n",
    "lps_1st_order = [0]*size\n",
    "\n",
    "for i in range(len(alpha_lin)):\n",
    "    phi_r[i] = cm.phase(cr[i])\n",
    "    phi_l[i] = cm.phase(cl[i])\n",
    "\n",
    "    dws_1st_order[i] = 0.5*(phi_r[i]-phi_l[i])\n",
    "    lps_1st_order[i] = 0.5*(phi_r[i]+phi_l[i])"
   ]
  },
  {
   "cell_type": "code",
   "execution_count": 12,
   "metadata": {
    "scrolled": false
   },
   "outputs": [
    {
     "data": {
      "image/png": "[encoded data removed]",
      "text/plain": [
       "<Figure size 648x432 with 1 Axes>"
      ]
     },
     "metadata": {
      "needs_background": "light"
     },
     "output_type": "display_data"
    }
   ],
   "source": [
    "plt.figure(figsize=(9,6))\n",
    "plt.plot(alpha_lin, dws_1st_order)\n",
    "\n",
    "plt.xlabel(r'Tilt Angle, $\\alpha\\;$[' + 'rad]', fontsize=15) \n",
    "plt.ylabel(r'DWS Signal Phase $[' +  'rad]$', fontsize=15) \n",
    "plt.title(r'Tilted,Shifted Gaussian at Waist') \n",
    "\n",
    "plt.grid()"
   ]
  },
  {
   "cell_type": "code",
   "execution_count": 14,
   "metadata": {
    "scrolled": false
   },
   "outputs": [
    {
     "data": {
      "image/png": "[encoded data removed]",
      "text/plain": [
       "<Figure size 648x432 with 1 Axes>"
      ]
     },
     "metadata": {
      "needs_background": "light"
     },
     "output_type": "display_data"
    }
   ],
   "source": [
    "plt.figure(figsize=(9,6))\n",
    "plt.plot(alpha_lin, lps_1st_order)\n",
    "\n",
    "plt.xlabel(r'Tilt Angle, $\\alpha\\;$[' + 'rad]', fontsize=15) \n",
    "plt.ylabel(r'LPS $[' +  'rad]$', fontsize=15) \n",
    "plt.title(r'Tilted,Shifted Gaussian at Waist') \n",
    "\n",
    "plt.grid()"
   ]
  },
  {
   "cell_type": "code",
   "execution_count": 8,
   "metadata": {},
   "outputs": [],
   "source": [
    "alpha_lin = np.linspace(-500e-6,500e-6,11)\n",
    "\n",
    "def integ_2nd_order(alpha_lin):\n",
    "    \n",
    "    cr = [0]*len(alpha_lin)\n",
    "    cl = [0]*len(alpha_lin)\n",
    "    \n",
    "    for i in range (len(alpha_lin)):\n",
    "        print(i)\n",
    "        \n",
    "        c00 = (\n",
    "                1\n",
    "                + (1j)*(k*a*alpha_lin[i]/2)\n",
    "               - (1/2)*alpha_lin[i]**2*(k*w0)**2*(1/4) \n",
    "              )\n",
    "        c10 = (\n",
    "            (a/w0)\n",
    "            + (1j)*(k*w0*alpha_lin[i]/2)\n",
    "            - (1/2)*alpha_lin[i]**2 *(k**2 * a*w0)*(3/4)\n",
    "        )\n",
    "        c20 = (\n",
    "            (1j)*(np.sqrt(2)*k*a*alpha_lin[i]/2)\n",
    "            -(1/2)*alpha_lin[i]**2 * (k*w0)**2 /(2*np.sqrt(2))\n",
    "              )\n",
    "        c30 = (\n",
    "            -(1/2)*alpha_lin[i]**2*(k**2*a*w0)*(np.sqrt(6)/4)\n",
    "        )\n",
    "\n",
    "        #create modes received and reference (rec and ref)\n",
    "        modes_rec = pl.modes((0,0,c00),(1,0,c10),(2,0,c20),(3,0,c30))\n",
    "        modes_ref = pl.modes((0,0,c00_ref))\n",
    "\n",
    "        f = lambda y, x: (pl.amplitude(params,x,y,0,modes_rec))*np.conjugate((pl.amplitude(params,x,y,0,modes_ref)))    \n",
    "        cr[i] = mp.quad(f, [-inf,inf],[0,inf],maxdegree=10)\n",
    "        cl[i] = mp.quad(f, [-inf,inf],[-inf,0],maxdegree=10)\n",
    "       \n",
    "    return (cr,cl)"
   ]
  },
  {
   "cell_type": "code",
   "execution_count": null,
   "metadata": {
    "scrolled": false
   },
   "outputs": [
    {
     "name": "stdout",
     "output_type": "stream",
     "text": [
      "0\n"
     ]
    }
   ],
   "source": [
    "cr_2,cl_2 = integ_2nd_order(alpha_lin)"
   ]
  },
  {
   "cell_type": "code",
   "execution_count": null,
   "metadata": {},
   "outputs": [],
   "source": [
    "size = len(alpha_lin)\n",
    "phi_r2=[0]*size\n",
    "phi_l2=[0]*size\n",
    "dws_2nd_order = [0]*size\n",
    "lps_2nd_order = [0]*size\n",
    "\n",
    "for i in range(len(alpha_lin)):\n",
    "    phi_r2[i] = cm.phase(cr_2[i])\n",
    "    phi_l2[i] = cm.phase(cl_2[i])\n",
    "\n",
    "    dws_2nd_order[i] = 0.5*(phi_r2[i]-phi_l2[i])\n",
    "    lps_2nd_order[i] = 0.5*(phi_r2[i]+phi_l2[i])"
   ]
  },
  {
   "cell_type": "code",
   "execution_count": null,
   "metadata": {
    "scrolled": true
   },
   "outputs": [],
   "source": [
    "plt.figure(figsize=(9,6))\n",
    "plt.plot(alpha_lin, dws_1st_order)\n",
    "plt.plot(alpha_lin, dws_2nd_order)\n",
    "\n",
    "plt.xlabel(r'Tilt Angle, $\\alpha\\;$[' + 'rad]', fontsize=15) \n",
    "plt.ylabel(r'DWS, $\\Delta \\phi\\;[' +  'rad]$', fontsize=15) \n",
    "plt.title(r'Tilted,Shifted HG00-HG00 at Waist') \n",
    "\n",
    "plt.grid()"
   ]
  },
  {
   "cell_type": "code",
   "execution_count": null,
   "metadata": {
    "scrolled": true
   },
   "outputs": [],
   "source": [
    "plt.figure(figsize=(9,6))\n",
    "plt.plot(alpha_lin, lps_1st_order)\n",
    "plt.plot(alpha_lin, lps_2nd_order)\n",
    "\n",
    "plt.xlabel(r'Tilt Angle, $\\alpha\\;$[' + 'rad]', fontsize=15) \n",
    "plt.ylabel(r'LPS $\\;[' +  'rad]$', fontsize=15) \n",
    "plt.title(r'Tilted,Shifted HG00-HG00 at Waist') \n",
    "\n",
    "plt.grid()"
   ]
  },
  {
   "cell_type": "code",
   "execution_count": null,
   "metadata": {},
   "outputs": [],
   "source": []
  }
 ],
 "metadata": {
  "kernelspec": {
   "display_name": "Python 3",
   "language": "python",
   "name": "python3"
  },
  "language_info": {
   "codemirror_mode": {
    "name": "ipython",
    "version": 3
   },
   "file_extension": ".py",
   "mimetype": "text/x-python",
   "name": "python",
   "nbconvert_exporter": "python",
   "pygments_lexer": "ipython3",
   "version": "3.7.3"
  }
 },
 "nbformat": 4,
 "nbformat_minor": 2
}
