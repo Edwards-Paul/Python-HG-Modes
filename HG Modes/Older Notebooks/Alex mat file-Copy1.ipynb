{
 "cells": [
  {
   "cell_type": "code",
   "execution_count": 16,
   "metadata": {},
   "outputs": [
    {
     "name": "stdout",
     "output_type": "stream",
     "text": [
      "['FXF', 'FYF', 'desc', 'paulmat', 'rwf']\n"
     ]
    }
   ],
   "source": [
    "import scipy.io\n",
    "import numpy as np\n",
    "import matplotlib.pyplot as plt\n",
    "#mat = scipy.io.loadmat('paulmachlearn.mat')\n",
    "\n",
    "# import h5py\n",
    "# with h5py.File('paulmachlearn.mat', 'r') as f:\n",
    "#     f.keys()\n",
    "\n",
    "import h5py\n",
    "with h5py.File('paulmachlearn.mat', 'r') as file:\n",
    "    print(list(file.keys()))    \n",
    "    \n",
    "# import hdf5storage\n",
    "# mat = hdf5storage.loadmat('test.mat')"
   ]
  },
  {
   "cell_type": "code",
   "execution_count": 10,
   "metadata": {},
   "outputs": [
    {
     "ename": "NameError",
     "evalue": "name 'mat' is not defined",
     "output_type": "error",
     "traceback": [
      "\u001b[1;31m---------------------------------------------------------------------------\u001b[0m",
      "\u001b[1;31mNameError\u001b[0m                                 Traceback (most recent call last)",
      "\u001b[1;32m<ipython-input-10-bbc0f6db09c1>\u001b[0m in \u001b[0;36m<module>\u001b[1;34m\u001b[0m\n\u001b[1;32m----> 1\u001b[1;33m \u001b[0mprint\u001b[0m\u001b[1;33m(\u001b[0m\u001b[0mmat\u001b[0m\u001b[1;33m)\u001b[0m\u001b[1;33m\u001b[0m\u001b[1;33m\u001b[0m\u001b[0m\n\u001b[0m",
      "\u001b[1;31mNameError\u001b[0m: name 'mat' is not defined"
     ]
    }
   ],
   "source": [
    "print(mat)"
   ]
  },
  {
   "cell_type": "code",
   "execution_count": 11,
   "metadata": {},
   "outputs": [
    {
     "ename": "TypeError",
     "evalue": "Not a location id (invalid object ID)",
     "output_type": "error",
     "traceback": [
      "\u001b[1;31m---------------------------------------------------------------------------\u001b[0m",
      "\u001b[1;31mTypeError\u001b[0m                                 Traceback (most recent call last)",
      "\u001b[1;32m<ipython-input-11-e72d3bde1bd0>\u001b[0m in \u001b[0;36m<module>\u001b[1;34m\u001b[0m\n\u001b[1;32m----> 1\u001b[1;33m \u001b[1;32mfor\u001b[0m \u001b[0mk\u001b[0m\u001b[1;33m,\u001b[0m \u001b[0mv\u001b[0m \u001b[1;32min\u001b[0m \u001b[0mf\u001b[0m\u001b[1;33m.\u001b[0m\u001b[0mitems\u001b[0m\u001b[1;33m(\u001b[0m\u001b[1;33m)\u001b[0m\u001b[1;33m:\u001b[0m\u001b[1;33m\u001b[0m\u001b[1;33m\u001b[0m\u001b[0m\n\u001b[0m\u001b[0;32m      2\u001b[0m     \u001b[0marrays\u001b[0m\u001b[1;33m[\u001b[0m\u001b[0mk\u001b[0m\u001b[1;33m]\u001b[0m \u001b[1;33m=\u001b[0m \u001b[0mnp\u001b[0m\u001b[1;33m.\u001b[0m\u001b[0marray\u001b[0m\u001b[1;33m(\u001b[0m\u001b[0mv\u001b[0m\u001b[1;33m)\u001b[0m\u001b[1;33m\u001b[0m\u001b[1;33m\u001b[0m\u001b[0m\n",
      "\u001b[1;32m~\\Anaconda3\\lib\\site-packages\\h5py\\_hl\\base.py\u001b[0m in \u001b[0;36m__iter__\u001b[1;34m(self)\u001b[0m\n\u001b[0;32m    350\u001b[0m     \u001b[1;32mdef\u001b[0m \u001b[0m__iter__\u001b[0m\u001b[1;33m(\u001b[0m\u001b[0mself\u001b[0m\u001b[1;33m)\u001b[0m\u001b[1;33m:\u001b[0m\u001b[1;33m\u001b[0m\u001b[1;33m\u001b[0m\u001b[0m\n\u001b[0;32m    351\u001b[0m         \u001b[1;32mwith\u001b[0m \u001b[0mphil\u001b[0m\u001b[1;33m:\u001b[0m\u001b[1;33m\u001b[0m\u001b[1;33m\u001b[0m\u001b[0m\n\u001b[1;32m--> 352\u001b[1;33m             \u001b[1;32mfor\u001b[0m \u001b[0mkey\u001b[0m \u001b[1;32min\u001b[0m \u001b[0mself\u001b[0m\u001b[1;33m.\u001b[0m\u001b[0m_mapping\u001b[0m\u001b[1;33m:\u001b[0m\u001b[1;33m\u001b[0m\u001b[1;33m\u001b[0m\u001b[0m\n\u001b[0m\u001b[0;32m    353\u001b[0m                 \u001b[1;32myield\u001b[0m \u001b[1;33m(\u001b[0m\u001b[0mkey\u001b[0m\u001b[1;33m,\u001b[0m \u001b[0mself\u001b[0m\u001b[1;33m.\u001b[0m\u001b[0m_mapping\u001b[0m\u001b[1;33m.\u001b[0m\u001b[0mget\u001b[0m\u001b[1;33m(\u001b[0m\u001b[0mkey\u001b[0m\u001b[1;33m)\u001b[0m\u001b[1;33m)\u001b[0m\u001b[1;33m\u001b[0m\u001b[1;33m\u001b[0m\u001b[0m\n\u001b[0;32m    354\u001b[0m \u001b[1;33m\u001b[0m\u001b[0m\n",
      "\u001b[1;32m~\\Anaconda3\\lib\\site-packages\\h5py\\_hl\\group.py\u001b[0m in \u001b[0;36m__iter__\u001b[1;34m(self)\u001b[0m\n\u001b[0;32m    405\u001b[0m     \u001b[1;32mdef\u001b[0m \u001b[0m__iter__\u001b[0m\u001b[1;33m(\u001b[0m\u001b[0mself\u001b[0m\u001b[1;33m)\u001b[0m\u001b[1;33m:\u001b[0m\u001b[1;33m\u001b[0m\u001b[1;33m\u001b[0m\u001b[0m\n\u001b[0;32m    406\u001b[0m         \u001b[1;34m\"\"\" Iterate over member names \"\"\"\u001b[0m\u001b[1;33m\u001b[0m\u001b[1;33m\u001b[0m\u001b[0m\n\u001b[1;32m--> 407\u001b[1;33m         \u001b[1;32mfor\u001b[0m \u001b[0mx\u001b[0m \u001b[1;32min\u001b[0m \u001b[0mself\u001b[0m\u001b[1;33m.\u001b[0m\u001b[0mid\u001b[0m\u001b[1;33m.\u001b[0m\u001b[0m__iter__\u001b[0m\u001b[1;33m(\u001b[0m\u001b[1;33m)\u001b[0m\u001b[1;33m:\u001b[0m\u001b[1;33m\u001b[0m\u001b[1;33m\u001b[0m\u001b[0m\n\u001b[0m\u001b[0;32m    408\u001b[0m             \u001b[1;32myield\u001b[0m \u001b[0mself\u001b[0m\u001b[1;33m.\u001b[0m\u001b[0m_d\u001b[0m\u001b[1;33m(\u001b[0m\u001b[0mx\u001b[0m\u001b[1;33m)\u001b[0m\u001b[1;33m\u001b[0m\u001b[1;33m\u001b[0m\u001b[0m\n\u001b[0;32m    409\u001b[0m \u001b[1;33m\u001b[0m\u001b[0m\n",
      "\u001b[1;32mh5py\\h5g.pyx\u001b[0m in \u001b[0;36mh5py.h5g.GroupID.__iter__\u001b[1;34m()\u001b[0m\n",
      "\u001b[1;32mh5py\\h5g.pyx\u001b[0m in \u001b[0;36mh5py.h5g.GroupID.__iter__\u001b[1;34m()\u001b[0m\n",
      "\u001b[1;32mh5py\\h5g.pyx\u001b[0m in \u001b[0;36mh5py.h5g.GroupIter.__init__\u001b[1;34m()\u001b[0m\n",
      "\u001b[1;32mh5py\\_objects.pyx\u001b[0m in \u001b[0;36mh5py._objects.with_phil.wrapper\u001b[1;34m()\u001b[0m\n",
      "\u001b[1;32mh5py\\_objects.pyx\u001b[0m in \u001b[0;36mh5py._objects.with_phil.wrapper\u001b[1;34m()\u001b[0m\n",
      "\u001b[1;32mh5py\\h5g.pyx\u001b[0m in \u001b[0;36mh5py.h5g.GroupID.get_num_objs\u001b[1;34m()\u001b[0m\n",
      "\u001b[1;31mTypeError\u001b[0m: Not a location id (invalid object ID)"
     ]
    }
   ],
   "source": [
    "for k, v in f.items():\n",
    "    arrays[k] = np.array(v)"
   ]
  },
  {
   "cell_type": "code",
   "execution_count": 15,
   "metadata": {},
   "outputs": [
    {
     "ename": "ValueError",
     "evalue": "Not a location (invalid object ID)",
     "output_type": "error",
     "traceback": [
      "\u001b[1;31m---------------------------------------------------------------------------\u001b[0m",
      "\u001b[1;31mValueError\u001b[0m                                Traceback (most recent call last)",
      "\u001b[1;32m<ipython-input-15-ba28a3f8a9d2>\u001b[0m in \u001b[0;36m<module>\u001b[1;34m\u001b[0m\n\u001b[1;32m----> 1\u001b[1;33m \u001b[0mprint\u001b[0m\u001b[1;33m(\u001b[0m\u001b[0mf\u001b[0m\u001b[1;33m[\u001b[0m\u001b[1;34m'description'\u001b[0m\u001b[1;33m]\u001b[0m\u001b[1;33m)\u001b[0m\u001b[1;33m\u001b[0m\u001b[1;33m\u001b[0m\u001b[0m\n\u001b[0m",
      "\u001b[1;32mh5py\\_objects.pyx\u001b[0m in \u001b[0;36mh5py._objects.with_phil.wrapper\u001b[1;34m()\u001b[0m\n",
      "\u001b[1;32mh5py\\_objects.pyx\u001b[0m in \u001b[0;36mh5py._objects.with_phil.wrapper\u001b[1;34m()\u001b[0m\n",
      "\u001b[1;32m~\\Anaconda3\\lib\\site-packages\\h5py\\_hl\\group.py\u001b[0m in \u001b[0;36m__getitem__\u001b[1;34m(self, name)\u001b[0m\n\u001b[0;32m    260\u001b[0m                 \u001b[1;32mraise\u001b[0m \u001b[0mValueError\u001b[0m\u001b[1;33m(\u001b[0m\u001b[1;34m\"Invalid HDF5 object reference\"\u001b[0m\u001b[1;33m)\u001b[0m\u001b[1;33m\u001b[0m\u001b[1;33m\u001b[0m\u001b[0m\n\u001b[0;32m    261\u001b[0m         \u001b[1;32melse\u001b[0m\u001b[1;33m:\u001b[0m\u001b[1;33m\u001b[0m\u001b[1;33m\u001b[0m\u001b[0m\n\u001b[1;32m--> 262\u001b[1;33m             \u001b[0moid\u001b[0m \u001b[1;33m=\u001b[0m \u001b[0mh5o\u001b[0m\u001b[1;33m.\u001b[0m\u001b[0mopen\u001b[0m\u001b[1;33m(\u001b[0m\u001b[0mself\u001b[0m\u001b[1;33m.\u001b[0m\u001b[0mid\u001b[0m\u001b[1;33m,\u001b[0m \u001b[0mself\u001b[0m\u001b[1;33m.\u001b[0m\u001b[0m_e\u001b[0m\u001b[1;33m(\u001b[0m\u001b[0mname\u001b[0m\u001b[1;33m)\u001b[0m\u001b[1;33m,\u001b[0m \u001b[0mlapl\u001b[0m\u001b[1;33m=\u001b[0m\u001b[0mself\u001b[0m\u001b[1;33m.\u001b[0m\u001b[0m_lapl\u001b[0m\u001b[1;33m)\u001b[0m\u001b[1;33m\u001b[0m\u001b[1;33m\u001b[0m\u001b[0m\n\u001b[0m\u001b[0;32m    263\u001b[0m \u001b[1;33m\u001b[0m\u001b[0m\n\u001b[0;32m    264\u001b[0m         \u001b[0motype\u001b[0m \u001b[1;33m=\u001b[0m \u001b[0mh5i\u001b[0m\u001b[1;33m.\u001b[0m\u001b[0mget_type\u001b[0m\u001b[1;33m(\u001b[0m\u001b[0moid\u001b[0m\u001b[1;33m)\u001b[0m\u001b[1;33m\u001b[0m\u001b[1;33m\u001b[0m\u001b[0m\n",
      "\u001b[1;32mh5py\\_objects.pyx\u001b[0m in \u001b[0;36mh5py._objects.with_phil.wrapper\u001b[1;34m()\u001b[0m\n",
      "\u001b[1;32mh5py\\_objects.pyx\u001b[0m in \u001b[0;36mh5py._objects.with_phil.wrapper\u001b[1;34m()\u001b[0m\n",
      "\u001b[1;32mh5py\\h5o.pyx\u001b[0m in \u001b[0;36mh5py.h5o.open\u001b[1;34m()\u001b[0m\n",
      "\u001b[1;31mValueError\u001b[0m: Not a location (invalid object ID)"
     ]
    }
   ],
   "source": []
  },
  {
   "cell_type": "code",
   "execution_count": 26,
   "metadata": {},
   "outputs": [],
   "source": [
    "with h5py.File('paulmachlearn.mat', 'r') as file:\n",
    "    desc = list(file['desc'])\n",
    "    FXF = list(file['FXF'])\n",
    "    FYF = list(file['FYF'])\n",
    "    paulmat = list(file['paulmat'])\n",
    "    rwf = list(file['rwf'])\n",
    "   "
   ]
  },
  {
   "cell_type": "code",
   "execution_count": 33,
   "metadata": {},
   "outputs": [],
   "source": [
    "with h5py.File('paulmachlearn.mat', 'r') as file:\n",
    "    paulmat = file['paulmat']"
   ]
  },
  {
   "cell_type": "code",
   "execution_count": 18,
   "metadata": {},
   "outputs": [
    {
     "name": "stdout",
     "output_type": "stream",
     "text": [
      "[array([114], dtype=uint16), array([119], dtype=uint16), array([102], dtype=uint16), array([32], dtype=uint16), array([105], dtype=uint16), array([115], dtype=uint16), array([32], dtype=uint16), array([116], dtype=uint16), array([104], dtype=uint16), array([101], dtype=uint16), array([32], dtype=uint16), array([114], dtype=uint16), array([97], dtype=uint16), array([110], dtype=uint16), array([100], dtype=uint16), array([111], dtype=uint16), array([109], dtype=uint16), array([32], dtype=uint16), array([49], dtype=uint16), array([48], dtype=uint16), array([48], dtype=uint16), array([48], dtype=uint16), array([48], dtype=uint16), array([32], dtype=uint16), array([51], dtype=uint16), array([54], dtype=uint16), array([32], dtype=uint16), array([101], dtype=uint16), array([108], dtype=uint16), array([101], dtype=uint16), array([109], dtype=uint16), array([101], dtype=uint16), array([110], dtype=uint16), array([116], dtype=uint16), array([32], dtype=uint16), array([122], dtype=uint16), array([101], dtype=uint16), array([114], dtype=uint16), array([110], dtype=uint16), array([105], dtype=uint16), array([107], dtype=uint16), array([101], dtype=uint16), array([115], dtype=uint16), array([32], dtype=uint16), array([111], dtype=uint16), array([102], dtype=uint16), array([32], dtype=uint16), array([116], dtype=uint16), array([104], dtype=uint16), array([101], dtype=uint16), array([32], dtype=uint16), array([87], dtype=uint16), array([70], dtype=uint16), array([69], dtype=uint16), array([44], dtype=uint16), array([10], dtype=uint16), array([112], dtype=uint16), array([97], dtype=uint16), array([117], dtype=uint16), array([108], dtype=uint16), array([109], dtype=uint16), array([97], dtype=uint16), array([116], dtype=uint16), array([32], dtype=uint16), array([105], dtype=uint16), array([115], dtype=uint16), array([32], dtype=uint16), array([116], dtype=uint16), array([104], dtype=uint16), array([101], dtype=uint16), array([32], dtype=uint16), array([49], dtype=uint16), array([54], dtype=uint16), array([49], dtype=uint16), array([120], dtype=uint16), array([49], dtype=uint16), array([54], dtype=uint16), array([49], dtype=uint16), array([120], dtype=uint16), array([51], dtype=uint16), array([120], dtype=uint16), array([49], dtype=uint16), array([48], dtype=uint16), array([48], dtype=uint16), array([48], dtype=uint16), array([48], dtype=uint16), array([32], dtype=uint16), array([100], dtype=uint16), array([105], dtype=uint16), array([118], dtype=uint16), array([101], dtype=uint16), array([114], dtype=uint16), array([103], dtype=uint16), array([101], dtype=uint16), array([110], dtype=uint16), array([99], dtype=uint16), array([101], dtype=uint16), array([115], dtype=uint16), array([44], dtype=uint16), array([10], dtype=uint16), array([70], dtype=uint16), array([88], dtype=uint16), array([70], dtype=uint16), array([44], dtype=uint16), array([32], dtype=uint16), array([70], dtype=uint16), array([89], dtype=uint16), array([70], dtype=uint16), array([32], dtype=uint16), array([97], dtype=uint16), array([114], dtype=uint16), array([101], dtype=uint16), array([32], dtype=uint16), array([116], dtype=uint16), array([104], dtype=uint16), array([101], dtype=uint16), array([32], dtype=uint16), array([88], dtype=uint16), array([32], dtype=uint16), array([97], dtype=uint16), array([110], dtype=uint16), array([100], dtype=uint16), array([32], dtype=uint16), array([89], dtype=uint16), array([32], dtype=uint16), array([118], dtype=uint16), array([97], dtype=uint16), array([108], dtype=uint16), array([117], dtype=uint16), array([101], dtype=uint16), array([115], dtype=uint16), array([32], dtype=uint16), array([111], dtype=uint16), array([102], dtype=uint16), array([32], dtype=uint16), array([116], dtype=uint16), array([104], dtype=uint16), array([101], dtype=uint16), array([32], dtype=uint16), array([102], dtype=uint16), array([97], dtype=uint16), array([114], dtype=uint16), array([32], dtype=uint16), array([102], dtype=uint16), array([105], dtype=uint16), array([101], dtype=uint16), array([108], dtype=uint16), array([100], dtype=uint16), array([46], dtype=uint16)]\n"
     ]
    }
   ],
   "source": [
    "print(desc)"
   ]
  },
  {
   "cell_type": "code",
   "execution_count": 25,
   "metadata": {},
   "outputs": [
    {
     "name": "stdout",
     "output_type": "stream",
     "text": [
      "141\n"
     ]
    }
   ],
   "source": [
    "print(len(FXF))"
   ]
  },
  {
   "cell_type": "code",
   "execution_count": 27,
   "metadata": {},
   "outputs": [
    {
     "name": "stdout",
     "output_type": "stream",
     "text": [
      "141\n"
     ]
    }
   ],
   "source": [
    "print(len(FYF))"
   ]
  },
  {
   "cell_type": "code",
   "execution_count": 29,
   "metadata": {},
   "outputs": [
    {
     "name": "stdout",
     "output_type": "stream",
     "text": [
      "10000\n"
     ]
    }
   ],
   "source": [
    "print(len(paultmat))"
   ]
  },
  {
   "cell_type": "code",
   "execution_count": 30,
   "metadata": {},
   "outputs": [
    {
     "name": "stdout",
     "output_type": "stream",
     "text": [
      "36\n"
     ]
    }
   ],
   "source": [
    "print(len(rwf))"
   ]
  },
  {
   "cell_type": "code",
   "execution_count": 45,
   "metadata": {},
   "outputs": [
    {
     "data": {
      "text/plain": [
       "[<matplotlib.lines.Line2D at 0x1b0ab7576d8>,\n",
       " <matplotlib.lines.Line2D at 0x1b0ab757828>,\n",
       " <matplotlib.lines.Line2D at 0x1b0ab757978>,\n",
       " <matplotlib.lines.Line2D at 0x1b0ab757ac8>,\n",
       " <matplotlib.lines.Line2D at 0x1b0ab757c18>,\n",
       " <matplotlib.lines.Line2D at 0x1b0ab757d68>,\n",
       " <matplotlib.lines.Line2D at 0x1b0ab757eb8>,\n",
       " <matplotlib.lines.Line2D at 0x1b0ab75e048>,\n",
       " <matplotlib.lines.Line2D at 0x1b0ab75e198>,\n",
       " <matplotlib.lines.Line2D at 0x1b0ab75e2e8>,\n",
       " <matplotlib.lines.Line2D at 0x1b0ab748240>,\n",
       " <matplotlib.lines.Line2D at 0x1b0ab75e550>,\n",
       " <matplotlib.lines.Line2D at 0x1b0ab75e6a0>,\n",
       " <matplotlib.lines.Line2D at 0x1b0ab75e7f0>,\n",
       " <matplotlib.lines.Line2D at 0x1b0ab75e940>,\n",
       " <matplotlib.lines.Line2D at 0x1b0ab75ea90>,\n",
       " <matplotlib.lines.Line2D at 0x1b0ab75ebe0>,\n",
       " <matplotlib.lines.Line2D at 0x1b0ab75ed30>,\n",
       " <matplotlib.lines.Line2D at 0x1b0ab75ee80>,\n",
       " <matplotlib.lines.Line2D at 0x1b0ab75efd0>,\n",
       " <matplotlib.lines.Line2D at 0x1b0ae6d4160>,\n",
       " <matplotlib.lines.Line2D at 0x1b0ae6d42b0>,\n",
       " <matplotlib.lines.Line2D at 0x1b0ae6d4400>,\n",
       " <matplotlib.lines.Line2D at 0x1b0ae6d4550>,\n",
       " <matplotlib.lines.Line2D at 0x1b0ae6d46a0>,\n",
       " <matplotlib.lines.Line2D at 0x1b0ae6d47f0>,\n",
       " <matplotlib.lines.Line2D at 0x1b0ae6d4940>,\n",
       " <matplotlib.lines.Line2D at 0x1b0ae6d4a90>,\n",
       " <matplotlib.lines.Line2D at 0x1b0ae6d4be0>,\n",
       " <matplotlib.lines.Line2D at 0x1b0ae6d4d30>,\n",
       " <matplotlib.lines.Line2D at 0x1b0ae6d4e80>,\n",
       " <matplotlib.lines.Line2D at 0x1b0ae6d4fd0>,\n",
       " <matplotlib.lines.Line2D at 0x1b0ae6d8160>,\n",
       " <matplotlib.lines.Line2D at 0x1b0ae6d82b0>,\n",
       " <matplotlib.lines.Line2D at 0x1b0ae6d8400>,\n",
       " <matplotlib.lines.Line2D at 0x1b0ae6d8550>,\n",
       " <matplotlib.lines.Line2D at 0x1b0ae6d86a0>,\n",
       " <matplotlib.lines.Line2D at 0x1b0ae6d87f0>,\n",
       " <matplotlib.lines.Line2D at 0x1b0ae6d8940>,\n",
       " <matplotlib.lines.Line2D at 0x1b0ae6d8a90>,\n",
       " <matplotlib.lines.Line2D at 0x1b0ae6d8be0>,\n",
       " <matplotlib.lines.Line2D at 0x1b0ae6d8d30>,\n",
       " <matplotlib.lines.Line2D at 0x1b0ae6d8e80>,\n",
       " <matplotlib.lines.Line2D at 0x1b0ae6d8fd0>,\n",
       " <matplotlib.lines.Line2D at 0x1b0ae6dd160>,\n",
       " <matplotlib.lines.Line2D at 0x1b0ae6dd2b0>,\n",
       " <matplotlib.lines.Line2D at 0x1b0ae6dd400>,\n",
       " <matplotlib.lines.Line2D at 0x1b0ae6dd550>,\n",
       " <matplotlib.lines.Line2D at 0x1b0ae6dd6a0>,\n",
       " <matplotlib.lines.Line2D at 0x1b0ae6dd7f0>,\n",
       " <matplotlib.lines.Line2D at 0x1b0ae6dd940>,\n",
       " <matplotlib.lines.Line2D at 0x1b0ae6dda90>,\n",
       " <matplotlib.lines.Line2D at 0x1b0ae6ddbe0>,\n",
       " <matplotlib.lines.Line2D at 0x1b0ae6ddd30>,\n",
       " <matplotlib.lines.Line2D at 0x1b0ae6dde80>,\n",
       " <matplotlib.lines.Line2D at 0x1b0ae6ddfd0>,\n",
       " <matplotlib.lines.Line2D at 0x1b0ae6e3160>,\n",
       " <matplotlib.lines.Line2D at 0x1b0ae6e32b0>,\n",
       " <matplotlib.lines.Line2D at 0x1b0ae6e3400>,\n",
       " <matplotlib.lines.Line2D at 0x1b0ae6e3550>,\n",
       " <matplotlib.lines.Line2D at 0x1b0ae6e36a0>,\n",
       " <matplotlib.lines.Line2D at 0x1b0ae6e37f0>,\n",
       " <matplotlib.lines.Line2D at 0x1b0ae6e3940>,\n",
       " <matplotlib.lines.Line2D at 0x1b0ae6e3a90>,\n",
       " <matplotlib.lines.Line2D at 0x1b0ae6e3be0>,\n",
       " <matplotlib.lines.Line2D at 0x1b0ae6e3d30>,\n",
       " <matplotlib.lines.Line2D at 0x1b0ae6e3e80>,\n",
       " <matplotlib.lines.Line2D at 0x1b0ae6e3fd0>,\n",
       " <matplotlib.lines.Line2D at 0x1b0ae6e8160>,\n",
       " <matplotlib.lines.Line2D at 0x1b0ae6e82b0>,\n",
       " <matplotlib.lines.Line2D at 0x1b0ae6e8400>,\n",
       " <matplotlib.lines.Line2D at 0x1b0ae6e8550>,\n",
       " <matplotlib.lines.Line2D at 0x1b0ae6e86a0>,\n",
       " <matplotlib.lines.Line2D at 0x1b0ae6e87f0>,\n",
       " <matplotlib.lines.Line2D at 0x1b0ae6e8940>,\n",
       " <matplotlib.lines.Line2D at 0x1b0ae6e8a90>,\n",
       " <matplotlib.lines.Line2D at 0x1b0ae6e8be0>,\n",
       " <matplotlib.lines.Line2D at 0x1b0ae6e8d30>,\n",
       " <matplotlib.lines.Line2D at 0x1b0ae6e8e80>,\n",
       " <matplotlib.lines.Line2D at 0x1b0ae6e8fd0>,\n",
       " <matplotlib.lines.Line2D at 0x1b0ae6ed160>,\n",
       " <matplotlib.lines.Line2D at 0x1b0ae6ed2b0>,\n",
       " <matplotlib.lines.Line2D at 0x1b0ae6ed400>,\n",
       " <matplotlib.lines.Line2D at 0x1b0ae6ed550>,\n",
       " <matplotlib.lines.Line2D at 0x1b0ae6ed6a0>,\n",
       " <matplotlib.lines.Line2D at 0x1b0ae6ed7f0>,\n",
       " <matplotlib.lines.Line2D at 0x1b0ae6ed940>,\n",
       " <matplotlib.lines.Line2D at 0x1b0ae6eda90>,\n",
       " <matplotlib.lines.Line2D at 0x1b0ae6edbe0>,\n",
       " <matplotlib.lines.Line2D at 0x1b0ae6edd30>,\n",
       " <matplotlib.lines.Line2D at 0x1b0ae6ede80>,\n",
       " <matplotlib.lines.Line2D at 0x1b0ae6edfd0>,\n",
       " <matplotlib.lines.Line2D at 0x1b0ae6f1160>,\n",
       " <matplotlib.lines.Line2D at 0x1b0ae6f12b0>,\n",
       " <matplotlib.lines.Line2D at 0x1b0ae6f1400>,\n",
       " <matplotlib.lines.Line2D at 0x1b0ae6f1550>,\n",
       " <matplotlib.lines.Line2D at 0x1b0ae6f16a0>,\n",
       " <matplotlib.lines.Line2D at 0x1b0ae6f17f0>,\n",
       " <matplotlib.lines.Line2D at 0x1b0ae6f1940>,\n",
       " <matplotlib.lines.Line2D at 0x1b0ae6f1a90>,\n",
       " <matplotlib.lines.Line2D at 0x1b0ae6f1be0>,\n",
       " <matplotlib.lines.Line2D at 0x1b0ae6f1d30>,\n",
       " <matplotlib.lines.Line2D at 0x1b0ae6f1e80>,\n",
       " <matplotlib.lines.Line2D at 0x1b0ae6f1fd0>,\n",
       " <matplotlib.lines.Line2D at 0x1b0ae6f7160>,\n",
       " <matplotlib.lines.Line2D at 0x1b0ae6f72b0>,\n",
       " <matplotlib.lines.Line2D at 0x1b0ae6f7400>,\n",
       " <matplotlib.lines.Line2D at 0x1b0ae6f7550>,\n",
       " <matplotlib.lines.Line2D at 0x1b0ae6f76a0>,\n",
       " <matplotlib.lines.Line2D at 0x1b0ae6f77f0>,\n",
       " <matplotlib.lines.Line2D at 0x1b0ae6f7940>,\n",
       " <matplotlib.lines.Line2D at 0x1b0ae6f7a90>,\n",
       " <matplotlib.lines.Line2D at 0x1b0ae6f7be0>,\n",
       " <matplotlib.lines.Line2D at 0x1b0ae6f7d30>,\n",
       " <matplotlib.lines.Line2D at 0x1b0ae6f7e80>,\n",
       " <matplotlib.lines.Line2D at 0x1b0ae6f7fd0>,\n",
       " <matplotlib.lines.Line2D at 0x1b0ae6fd160>,\n",
       " <matplotlib.lines.Line2D at 0x1b0ae6fd2b0>,\n",
       " <matplotlib.lines.Line2D at 0x1b0ae6fd400>,\n",
       " <matplotlib.lines.Line2D at 0x1b0ae6fd550>,\n",
       " <matplotlib.lines.Line2D at 0x1b0ae6fd6a0>,\n",
       " <matplotlib.lines.Line2D at 0x1b0ae6fd7f0>,\n",
       " <matplotlib.lines.Line2D at 0x1b0ae6fd940>,\n",
       " <matplotlib.lines.Line2D at 0x1b0ae6fda90>,\n",
       " <matplotlib.lines.Line2D at 0x1b0ae6fdbe0>,\n",
       " <matplotlib.lines.Line2D at 0x1b0ae6fdd30>,\n",
       " <matplotlib.lines.Line2D at 0x1b0ae6fde80>,\n",
       " <matplotlib.lines.Line2D at 0x1b0ae6fdfd0>,\n",
       " <matplotlib.lines.Line2D at 0x1b0ae702160>,\n",
       " <matplotlib.lines.Line2D at 0x1b0ae7022b0>,\n",
       " <matplotlib.lines.Line2D at 0x1b0ae702400>,\n",
       " <matplotlib.lines.Line2D at 0x1b0ae702550>,\n",
       " <matplotlib.lines.Line2D at 0x1b0ae7026a0>,\n",
       " <matplotlib.lines.Line2D at 0x1b0ae7027f0>,\n",
       " <matplotlib.lines.Line2D at 0x1b0ae702940>,\n",
       " <matplotlib.lines.Line2D at 0x1b0ae702a90>,\n",
       " <matplotlib.lines.Line2D at 0x1b0ae702be0>,\n",
       " <matplotlib.lines.Line2D at 0x1b0ae702d30>,\n",
       " <matplotlib.lines.Line2D at 0x1b0ae702e80>,\n",
       " <matplotlib.lines.Line2D at 0x1b0ae702fd0>,\n",
       " <matplotlib.lines.Line2D at 0x1b0ae707160>]"
      ]
     },
     "execution_count": 45,
     "metadata": {},
     "output_type": "execute_result"
    },
    {
     "data": {
      "image/png": "[encoded data removed]",
      "text/plain": [
       "<Figure size 432x288 with 1 Axes>"
      ]
     },
     "metadata": {
      "needs_background": "light"
     },
     "output_type": "display_data"
    }
   ],
   "source": [
    "plt.figure()\n",
    "plt.plot(FYF,FXF)"
   ]
  },
  {
   "cell_type": "code",
   "execution_count": 41,
   "metadata": {},
   "outputs": [],
   "source": [
    "import h5py\n",
    "import numpy as np\n",
    "filepath = 'paulmachlearn.mat'\n",
    "arrays = {}\n",
    "f = h5py.File(filepath)\n",
    "for k, v in f.items():\n",
    "    arrays[k] = np.array(v)"
   ]
  },
  {
   "cell_type": "code",
   "execution_count": 43,
   "metadata": {},
   "outputs": [],
   "source": [
    "desc = (arrays['desc'])\n",
    "FXF = (arrays['FXF'])\n",
    "FYF = (arrays['FYF'])\n",
    "paulmat = (arrays['paulmat'])\n",
    "rwf = (arrays['rwf'])"
   ]
  },
  {
   "cell_type": "code",
   "execution_count": 46,
   "metadata": {},
   "outputs": [
    {
     "name": "stdout",
     "output_type": "stream",
     "text": [
      "(10000, 3, 141, 141)\n",
      "(36, 10000)\n"
     ]
    }
   ],
   "source": [
    "print(paulmat.shape)\n",
    "print(rwf.shape)"
   ]
  },
  {
   "cell_type": "code",
   "execution_count": null,
   "metadata": {},
   "outputs": [],
   "source": []
  }
 ],
 "metadata": {
  "kernelspec": {
   "display_name": "Python 3",
   "language": "python",
   "name": "python3"
  },
  "language_info": {
   "codemirror_mode": {
    "name": "ipython",
    "version": 3
   },
   "file_extension": ".py",
   "mimetype": "text/x-python",
   "name": "python",
   "nbconvert_exporter": "python",
   "pygments_lexer": "ipython3",
   "version": "3.7.3"
  }
 },
 "nbformat": 4,
 "nbformat_minor": 2
}
