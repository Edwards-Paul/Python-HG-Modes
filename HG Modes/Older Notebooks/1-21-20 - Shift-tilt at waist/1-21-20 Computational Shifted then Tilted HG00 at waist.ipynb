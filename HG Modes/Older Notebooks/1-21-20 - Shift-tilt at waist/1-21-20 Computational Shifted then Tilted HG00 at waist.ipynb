{
 "cells": [
  {
   "cell_type": "markdown",
   "metadata": {},
   "source": [
    "# Shifting then Tilting HG(0,0)"
   ]
  },
  {
   "cell_type": "code",
   "execution_count": 1,
   "metadata": {},
   "outputs": [],
   "source": [
    "import PauLisa as pl, numpy as np, matplotlib.pyplot as plt, cmath as cm, mpmath as mp\n",
    "from scipy import integrate"
   ]
  },
  {
   "cell_type": "code",
   "execution_count": 2,
   "metadata": {},
   "outputs": [],
   "source": [
    "#constants\n",
    "pi = np.pi\n",
    "\n",
    "#Redefining and naming initial parameters\n",
    "high_res_plane = pl.Plane(-6e-3,7e-3,1000,-1e-3,1e-3,3) #just used to calculate peak, higher precision\n",
    "plane = pl.Plane(-5e-3,5e-3,1000,-5e-3,5e-3,1000)\n",
    "params = pl.Params(wavelength=1.064e-06, w0=1e-3, z0=0)\n",
    "a = 1e-3 #shift\n",
    "\n",
    "lam = params.wavelength #wavelength\n",
    "w0 = params.w0 #spot size\n",
    "k = params.k #wavenumber\n",
    "z0 = params.z0 #waist location\n",
    "Zr = params.Zr #rayleigh range"
   ]
  },
  {
   "cell_type": "markdown",
   "metadata": {},
   "source": [
    "\n",
    "For gap half-width $b$, the right side PD:\n",
    "\n",
    "\\begin{align*}\n",
    "\t\tC_{nmn'm'}^{R} =&\n",
    "\t\t\\int_{b}^{\\infty} dx\\int_{-\\infty}^{\\infty}  dy \\;\n",
    "\t\t\\frac{2}{\\pi}\n",
    "\t\t\\frac{1}{w_0 w(z)}\n",
    "        \\frac{1}{\\sqrt{1 + \\big( \\frac{z-(x+a)\\alpha-z_0}{z_R} \\big)^2}}\n",
    "\t\t\\\\& \\; \\times\n",
    "\t\t\\exp \\Big(\n",
    "\t\t\\frac\n",
    "\t\t{\n",
    "\t\t-ik( (x+a)^{2}+y^{2})\n",
    "\t\t}\n",
    "\t\t{2 R_c(z) - (x+a) \\alpha }-\n",
    "\t\t\\frac{(x+a) +y^{2}}\n",
    "\t\t{\n",
    "\t\tw_0^2\n",
    "        (1 + \\big( \\frac{z-(x+a)\\alpha -z_0}{z_R} \\big)^2)}\n",
    "\t\t\\Big)\n",
    "\t\t\\\\& \\; \\times\n",
    "\t\t\\exp \\Big(\\frac{ik(x^{2}+y^{2})}{2R_{c}(z)}-\n",
    "\t\t\\frac{x^{2}+y^{2}}{w(z)^{2}} \\Big)\n",
    "\\end{align*}"
   ]
  },
  {
   "cell_type": "code",
   "execution_count": 3,
   "metadata": {},
   "outputs": [],
   "source": [
    "def integ_gaps(alpha_lin,gapsize,z):\n",
    "    \n",
    "    sol = [0]*len(alpha_lin)\n",
    "    \n",
    "    for i in range (len(alpha_lin)):\n",
    "\n",
    "        f = lambda y, x: ( \n",
    "            (2/pi)* \n",
    "            1/(w0*pl.w(z,params))* \n",
    "            1/(np.sqrt((1 + (x+a)*alpha_lin[i])/(Zr)**2))\n",
    "            * mp.exp(\n",
    "            (1j)*k*(x**2+y**2)/(2*pl.radius_curvature(z,params) )-\n",
    "            (x**2+y**2)/(pl.w(z,params)**(2)) \n",
    "            )    \n",
    "        )\n",
    "        \n",
    "        #with gap 1/1000 plane width\n",
    "        cr = mp.quadgl(f, [plane.ymin,plane.ymax],[plane.xmax*gapsize,plane.xmax])\n",
    "        cl = mp.quadgl(f, [plane.ymin,plane.ymax],[plane.xmin,plane.xmin*gapsize])\n",
    "        \n",
    "        print(cr,cl)\n",
    "        \n",
    "        #args for phi_r and phi_l\n",
    "        phi_r = cm.phase(cr)\n",
    "        phi_l = cm.phase(cl)\n",
    "        \n",
    "        #result in cycles\n",
    "        sol[i] = 0.5*(phi_r-phi_l)/(2*pi)\n",
    "    \n",
    "    print(sol[0],sol[1])\n",
    "    return (sol) "
   ]
  },
  {
   "cell_type": "code",
   "execution_count": 4,
   "metadata": {},
   "outputs": [
    {
     "name": "stdout",
     "output_type": "stream",
     "text": [
      "(2.89469709045764 + 0.491595975268033j) (2.89469627806475 + 0.491595766420413j)\n",
      "(2.8946959605868 + 0.491595747945193j) (2.8946959605868 + 0.491595747945193j)\n",
      "(2.89469483071738 + 0.491595520622695j) (2.89469564310905 + 0.491595729470002j)\n",
      "1.893973942974731e-09 0.0\n"
     ]
    },
    {
     "data": {
      "image/png": "[encoded data removed]",
      "text/plain": [
       "<Figure size 648x432 with 1 Axes>"
      ]
     },
     "metadata": {
      "needs_background": "light"
     },
     "output_type": "display_data"
    }
   ],
   "source": [
    "gapsize = 1e-3 # gap full-width [m]\n",
    "z = 1 # optical axis location [m]\n",
    "\n",
    "alpha_lin = np.linspace(-500e-6,500e-6,3)\n",
    "\n",
    "plt.figure(figsize=(9,6))\n",
    "plt.plot(alpha_lin, integ_gaps(alpha_lin,gapsize,z=500e-3))\n",
    "\n",
    "plt.xlabel(r'Tilt Angle, $\\alpha\\;$[' + 'rad]', fontsize=15) \n",
    "plt.ylabel(r'Phase Diff, $\\Delta \\phi\\;[' +  'cycles]$', fontsize=15) \n",
    "plt.title(r'Tilted Gaussian: gap = ' + str(gapsize) + 'm, z =' + str(z) + 'm') \n",
    "\n",
    "plt.grid()"
   ]
  },
  {
   "cell_type": "code",
   "execution_count": null,
   "metadata": {},
   "outputs": [],
   "source": []
  },
  {
   "cell_type": "code",
   "execution_count": null,
   "metadata": {},
   "outputs": [],
   "source": []
  }
 ],
 "metadata": {
  "kernelspec": {
   "display_name": "Python 3",
   "language": "python",
   "name": "python3"
  },
  "language_info": {
   "codemirror_mode": {
    "name": "ipython",
    "version": 3
   },
   "file_extension": ".py",
   "mimetype": "text/x-python",
   "name": "python",
   "nbconvert_exporter": "python",
   "pygments_lexer": "ipython3",
   "version": "3.7.3"
  }
 },
 "nbformat": 4,
 "nbformat_minor": 2
}
