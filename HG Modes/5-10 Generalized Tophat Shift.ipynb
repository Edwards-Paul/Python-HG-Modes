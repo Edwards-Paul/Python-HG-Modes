{
 "cells": [
  {
   "cell_type": "markdown",
   "metadata": {
    "slideshow": {
     "slide_type": "slide"
    }
   },
   "source": [
    "# Generalized Tophat shift approximations\n",
    "\n",
    "\n",
    "Accounting for cross terms, higher order shift approximations can be generalized up to shift in order $k$ by combining expansions:\\\\\n",
    "\n",
    "\n",
    "\\begin{equation}\n",
    "\t\\sum_{B=0}^{\\lfloor{k/2}\\rfloor}\n",
    "\t\\sum_{A=0}^{k-2B}\n",
    "\\lbrace\n",
    "\t[\n",
    "\t\t\\frac{1}{B!}\n",
    "\t\t(-\\frac{a^2}{w^2})^B\n",
    "\t]\n",
    "\t[\n",
    "\t\t\\frac{1}{A!}\n",
    "\t\t(-\\frac{2ax}{w^2})^A\n",
    "\t]\n",
    "\\left[\n",
    "{n \\choose M}\n",
    "(\\frac{2ae^{i\\Psi}}{w\\sqrt{n}})^M\n",
    "\\right]\n",
    "u_{n-M,m}\t\t\n",
    "\\rbrace\n",
    "\\end{equation}\n",
    "\n",
    "where\n",
    "\n",
    "\\begin{equation}\n",
    "\tM \\equiv k-(A+2B)\n",
    "\\end{equation}"
   ]
  },
  {
   "cell_type": "code",
   "execution_count": 3,
   "metadata": {
    "slideshow": {
     "slide_type": "skip"
    }
   },
   "outputs": [],
   "source": [
    "import PauLisa as pl, PL_Plot as plplt,plback as plb, Tophat_integration_AW as th, numpy as np, matplotlib.pyplot as plt, cmath as cm\n",
    "\n",
    "from numpy import pi as pi\n",
    "from numpy import angle\n",
    "#from numpy import sqrt as sqrt\n",
    "from scipy.special import erf as erf\n",
    "import mpmath as mp\n",
    "import scipy.io\n",
    "\n",
    "from math import pi, log, exp, sin, cos, atan, e, radians, degrees\n",
    "from scipy.special import gamma as gamma\n",
    "from scipy.special import erf as erf\n",
    "from scipy.special import comb\n",
    "\n",
    "from math import factorial as fac\n",
    "import cmath\n",
    "from cmath import sqrt as sqrt\n",
    "import numpy as np\n",
    "\n",
    "from time import process_time\n",
    "\n",
    "inf=np.inf\n",
    "\n",
    "import pandas as pd\n",
    "from pprint import pprint\n",
    "\n",
    "import queue\n"
   ]
  },
  {
   "cell_type": "markdown",
   "metadata": {},
   "source": [
    "## Tophat coeffients from AW"
   ]
  },
  {
   "cell_type": "code",
   "execution_count": 4,
   "metadata": {},
   "outputs": [],
   "source": [
    "mat = scipy.io.loadmat('Top_hat_for_paul.mat')\n",
    "coef=mat['coeftop'].ravel()\n",
    "\n",
    "def N_f(A):\n",
    "    \n",
    "    res = np.floor((np.sqrt(8*A+1)-1)/2)\n",
    "    \n",
    "    #res = (np.sqrt(9+8*A)-3)/2\n",
    "    return(res)\n",
    "\n",
    "def m(N,A):\n",
    "    res = (N+1)*(N+2)/2 - (A+1)\n",
    "    return(res)\n",
    "\n",
    "#def n(N,A):\n",
    "#    m= (N+1)*(N+2)/2 - (A+1)\n",
    "#    res = N-m\n",
    "#    return(res)\n",
    "def n(N,A):\n",
    "    res = A - (N*(N+1)/2)\n",
    "    return(res)\n",
    "\n",
    "NumberModes = int(len(coef))\n",
    "listModesN = [None] * NumberModes\n",
    "listModesM = [None] * NumberModes\n",
    "listModesC = [None] * NumberModes\n",
    "\n",
    "area = pi*1e-3**2\n",
    "\n",
    "#for i in range(len(coef)):\n",
    "#    A=i\n",
    "#    N= N_f(A)\n",
    "#\n",
    "#    if (m(N,A)%2 == 0) & (n(N,A)%2 == 0):\n",
    "#        print(coef[A], '\\t\\t\\t' , m(N,A), ',' , n(N,A))\n",
    "\n",
    "for i in range(NumberModes):\n",
    "    A=i\n",
    "    N= N_f(A)\n",
    "    listModesN[i] = int(m(N,A))\n",
    "    listModesM[i] = int(n(N,A))\n",
    "    listModesC[i] = coef[i]/sqrt(area)\n",
    "    \n",
    "    "
   ]
  },
  {
   "cell_type": "code",
   "execution_count": 31,
   "metadata": {
    "scrolled": false
   },
   "outputs": [],
   "source": [
    "modes_0 = plb.modes((0,0,1))\n",
    "modes_2 = plb.modes((2,0,1),(3,0,1))\n",
    "modes = pl.create_modes(listModesM,listModesN,listModesC,NumberModes)\n",
    "\n",
    "N=28 # mode order\n",
    "modes_N= pl.create_modes_orderN(listModesM,listModesN,listModesC,NumberModes,N)\n",
    "\n",
    "a= 10e-6\n",
    "alpha = 100e-6\n",
    "plane = pl.Plane(-2e-3,2e-3,300,-2e-3,2e-3,300)"
   ]
  },
  {
   "cell_type": "markdown",
   "metadata": {},
   "source": [
    "## Expansion function"
   ]
  },
  {
   "cell_type": "code",
   "execution_count": 63,
   "metadata": {},
   "outputs": [],
   "source": [
    "# Apply general mode scatter formulas for x-dependence (uni-directional offset coord.), RETURN new modes(on-axis)\n",
    "# Up to approximation order k\n",
    "def shift(z,params,a,alpha,modes,k):\n",
    "    \n",
    "    #get params\n",
    "    K = params.getK()\n",
    "    w0 = params.getW0()\n",
    "    zr = params.getZr()\n",
    "    w_z = pl.w(z,params)\n",
    "    gouy = pl.gouy_phase(z,params) \n",
    "    \n",
    "    #get shape to iterate through modes\n",
    "    rows = len(modes)\n",
    "    cols = len(modes[0])\n",
    "    \n",
    "    number_modes = rows*cols\n",
    "    \n",
    "    #build new modes (up to 2 orders larger for quad. dep.)\n",
    "    new_modes = [[0 for m in range(cols+k+1)] for n in range(rows+k+1)]\n",
    "    \n",
    "    for i in range(rows):\n",
    "        for j in range(cols):\n",
    "            new_modes[i][j] = modes[i][j]\n",
    "    \n",
    "    A_sub = 0\n",
    "    M_sub = 0\n",
    "    \n",
    "    # iterate all modes\n",
    "    for n in range(rows):\n",
    "        for m in range(cols):            \n",
    "            #ignore zero coeff.\n",
    "            if (modes[n][m]!=0):\n",
    "                c_nm = modes[n][m]\n",
    "                for B in range( int( (k) +1 ) ): #+1 for inclusive\n",
    "                    for A in range( int((k-2*B) +1)):\n",
    "                        sum_B = (\n",
    "                            (1/fac(B))*\n",
    "                            (-a**2/w_z**2)**B\n",
    "                        )\n",
    "                        \n",
    "                        sum_A = (\n",
    "                            (1/fac(A))*\n",
    "                            (-2*a/w_z**2)**A\n",
    "                        )\n",
    "                        \n",
    "                        M = (k-A+2*B)\n",
    "                        \n",
    "                        if(n>0):\n",
    "                            sum_M = (\n",
    "                                (comb(n,M)\n",
    "                                * (2*a*e**( (1j)*gouy))/(w_z*sqrt(n))\n",
    "                                )**M\n",
    "                            )\n",
    "                        \n",
    "                        else:\n",
    "                            sum_M = 1\n",
    "                        #print(A,M)    \n",
    "                        #overall coupling result\n",
    "                        \n",
    "                        coupling = (sum_B*sum_A*sum_M)\n",
    "                        \n",
    "                        #no coupling into other modes\n",
    "                        if (A ==0 and M==0):\n",
    "                            new_modes[n][m]+=c_nm*coupling\n",
    "                                \n",
    "                        # couple into modes (n-M, and X**A)   \n",
    "                        # n-M determines start, need n+1,n-1 for each x    \n",
    "                        else:\n",
    "                            M_sub = M\n",
    "                            A_sub = A\n",
    "                            n_start = n-M\n",
    "                            \n",
    "                            #print('a',A)\n",
    "                            \n",
    "                            q = queue.Queue()\n",
    "                            #queue with n and coeff.\n",
    "                            q.put([n_start,new_modes[n][m]])\n",
    "                            temp = queue.Queue()\n",
    "                            \n",
    "                            while(A_sub!=0):\n",
    "                                work_modes = [[0 for m in range(cols+k+1)] for n in range(rows+k+1)]\n",
    "                                while(not q.empty()):\n",
    "                                    #for each (n) in the q, +/- 1 append with a coupling\n",
    "                                    f,g = q.get()\n",
    "                                    g += work_modes[f][m]\n",
    "                                    \n",
    "                                    \n",
    "                                    #n+1 (working coeff. * coupling * scatter coupling)\n",
    "                                    total_coup = g*coupling*x_plus_1(w0,z,zr,f)\n",
    "                                    new_modes[int(f+1)][m] += total_coup\n",
    "                                    work_modes[f+1][m] +=total_coup\n",
    "                                    \n",
    "                                    if(f+1<rows):\n",
    "                                        temp.put([f+1,modes[f+1][m]])\n",
    "                                    \n",
    "                                    #n-1\n",
    "                                    if(f>0):\n",
    "                                        total_coup = g*coupling*x_minus_1(w0,z,zr,f)\n",
    "                                        new_modes[f-1][m]+= total_coup\n",
    "                                        temp.put([f-1,modes[f-1][m]])\n",
    "                                        work_modes[f-1][m] +=total_coup\n",
    "\n",
    "                                if(q.empty()):\n",
    "                                    \n",
    "                                    A_sub-=1\n",
    "                                    #q emptied, decrement A, refill q with temp\n",
    "                                    while(not temp.empty()):\n",
    "                                        #print('i')\n",
    "                                        q.put(temp.get())\n",
    "\n",
    "    return(new_modes)\n",
    "\n",
    "#x dep\n",
    "def x_plus_1(w0,z,zr,n):    \n",
    "    factor = (w0/2)*( ( 1-(1j)*(z/zr) )*np.sqrt(n+1))\n",
    "    return(factor)\n",
    "\n",
    "#x dep\n",
    "def x_minus_1(w0,z,zr,n):\n",
    "    factor = (w0/2)*( np.sqrt(n)*(1+(1j)*(z/zr)) )\n",
    "    return(factor)"
   ]
  },
  {
   "cell_type": "code",
   "execution_count": 64,
   "metadata": {},
   "outputs": [],
   "source": [
    "z=0\n",
    "params = pl.Params(1064e-9,0.00023067,0)\n",
    "plane=pl.Plane(-2e-3,2e-3,200,-2e-3,2e-3,200)\n",
    "\n",
    "a = 10e-6\n",
    "alpha = 0\n",
    "k = 1\n",
    "sc_modes = shift(z,params,a,alpha,modes_2,k)"
   ]
  },
  {
   "cell_type": "code",
   "execution_count": 65,
   "metadata": {},
   "outputs": [
    {
     "name": "stdout",
     "output_type": "stream",
     "text": [
      "n\\m [0, 1, 2]\n",
      "0   [0, 0, 0]\n",
      "1   [(-0.061308950551571297+0j), 0, 0]\n",
      "2   [(0.930550358368165+0j), 0, 0]\n",
      "3   [(0.9249121772415625+0j), 0, 0]\n",
      "4   [(-0.08019353858252591+0j), 0, 0]\n",
      "5   [0, 0, 0]\n"
     ]
    }
   ],
   "source": [
    "pl.show_modes(sc_modes)"
   ]
  },
  {
   "cell_type": "code",
   "execution_count": 43,
   "metadata": {},
   "outputs": [
    {
     "data": {
      "image/png": "[encoded data removed]",
      "text/plain": [
       "<Figure size 864x864 with 2 Axes>"
      ]
     },
     "metadata": {
      "needs_background": "light"
     },
     "output_type": "display_data"
    }
   ],
   "source": [
    "\n",
    "f2 = pl.calculate(params,plane,sc_modes,z)\n",
    "fig, ax = plt.subplots(figsize=(12, 12))\n",
    "cs = plt.contourf(f2.plane.getX(), f2.plane.getY(), abs(f2.getAmp() ** 2))\n",
    "\n",
    "ax.ticklabel_format(axis='x', style='sci', scilimits=(0, 0), useMathText=True)\n",
    "ax.ticklabel_format(axis='y', style='sci', scilimits=(0, 0), useMathText=True)\n",
    "\n",
    "cbar = fig.colorbar(cs)\n",
    "\n",
    "plt.grid()"
   ]
  },
  {
   "cell_type": "code",
   "execution_count": null,
   "metadata": {},
   "outputs": [],
   "source": [
    "2*1e-3/"
   ]
  }
 ],
 "metadata": {
  "kernelspec": {
   "display_name": "Python 3",
   "language": "python",
   "name": "python3"
  },
  "language_info": {
   "codemirror_mode": {
    "name": "ipython",
    "version": 3
   },
   "file_extension": ".py",
   "mimetype": "text/x-python",
   "name": "python",
   "nbconvert_exporter": "python",
   "pygments_lexer": "ipython3",
   "version": "3.7.3"
  }
 },
 "nbformat": 4,
 "nbformat_minor": 2
}
