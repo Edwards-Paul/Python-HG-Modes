{
 "cells": [
  {
   "cell_type": "markdown",
   "metadata": {},
   "source": [
    "# Shifting then Tilting HG(0,0)"
   ]
  },
  {
   "cell_type": "code",
   "execution_count": 1,
   "metadata": {},
   "outputs": [],
   "source": [
    "import PauLisa as pl, numpy as np, matplotlib.pyplot as plt, cmath as cm, mpmath as mp\n",
    "from scipy import integrate\n",
    "from math import inf"
   ]
  },
  {
   "cell_type": "code",
   "execution_count": 2,
   "metadata": {},
   "outputs": [],
   "source": [
    "#constants\n",
    "pi = np.pi\n",
    "\n",
    "#Redefining and naming initial parameters\n",
    "high_res_plane = pl.Plane(-6e-3,7e-3,1000,-1e-3,1e-3,3) #just used to calculate peak, higher precision\n",
    "plane = pl.Plane(-5e-3,5e-3,1000,-5e-3,5e-3,1000)\n",
    "params = pl.Params(wavelength=1.064e-06, w0=1e-3, z0=0)\n",
    "a = 100e-6 #shift\n",
    "\n",
    "lam = params.wavelength #wavelength\n",
    "w0 = 1e-3 #spot size\n",
    "k = params.k #wavenumber\n",
    "z0 = params.z0 #waist location\n",
    "Zr = params.Zr #rayleigh range\n",
    "\n"
   ]
  },
  {
   "cell_type": "markdown",
   "metadata": {},
   "source": [
    "For gap half-width $b$, the right side PD:\n",
    "\n",
    "\\begin{align*}\n",
    "\t\tC_{nmn'm'}^{R} =&\n",
    "\t\t\\int_{b}^{\\infty} dx\\int_{-\\infty}^{\\infty}  dy \\;\n",
    "\t\t\\frac{2}{\\pi}\n",
    "\t\t\\Big(\n",
    "\t\t\t\\frac{1}{w_0 \\sqrt{1+\\big( \\frac{z-(x+a)\\alpha -z_0}{z_R}\\Big)^2}}\n",
    "\t\t\t\\\\&\n",
    "\t\t\t\\times\n",
    "\t\t\t\\exp \n",
    "\t\t\t\\Big(\n",
    "\t\t\t\\frac\n",
    "\t\t\t{\n",
    "\t\t\t-ik((x+a+z\\alpha)^{2}\t\t\n",
    "\t\t\t+y^{2})\n",
    "\t\t\t}\n",
    "\t\t\t{2( z-(x+a)\\alpha  - z_0 + \n",
    "\t\t\t\\frac{z_R^2}{z-(x+a)\\alpha -z_0 } ) }-\n",
    "\t\t\t\\frac{(x+a+z\\alpha)^{2}  +y^{2}}\n",
    "\t\t\t{\n",
    "\t\t\t\tw_0^2 (1+\\big( \\frac{z-(x+a)\\alpha-z_0}{z_R} \\big)^2 )\n",
    "\t\t\t}\n",
    "\t\t\t\\Big)\n",
    "\t\t\t\\\\&\n",
    "\t\t\t\\times \\exp(\n",
    "\t\t\ti \\arctan( \\frac{z-(x+a)\\alpha - z_0}{z_R}) )\t\t\t\t\n",
    "\t\t\t\\\\&\n",
    "\t\t\t\\times \\exp(\n",
    "\t\t\t-ik(x+a)\\alpha )\t\n",
    "\t\t\\\\ &\\times\n",
    "\t\t\\Big(\n",
    "\t\t\t\\frac{1}{w(z)}\n",
    "\t\t\t\\exp \\Big(\\frac{ik(x^{2}+y^{2})}{2R_{c}(z)}-\n",
    "\t\t\t\\frac{x^{2}+y^{2}}{w(z)^{2}} \\Big) \n",
    "\t\t\t\\exp \\Big( -i\\Psi(z) \\Big)\n",
    "\\end{align*}"
   ]
  },
  {
   "cell_type": "code",
   "execution_count": 3,
   "metadata": {},
   "outputs": [],
   "source": [
    "def integ_gaps(alpha_lin,gapsize,z,fac):\n",
    "    \n",
    "    #pass back integration results for plots\n",
    "    sol = [0]*len(alpha_lin)\n",
    "    \n",
    "    for i in range (len(alpha_lin)):\n",
    "\n",
    "        f = lambda x, y: ( \n",
    "            (2/pi)* \n",
    "            1/(w0)* \n",
    "            1/(np.sqrt(1 + ( (z*mp.cos(alpha_lin[i])-(x+a)*mp.sin(alpha_lin[i]) -z0) )/Zr) **2)*\n",
    "                mp.exp\n",
    "                (\n",
    "                    (-(1j)*k*\n",
    "                        ( ( (x+a)*mp.cos(alpha_lin[i]) + z*mp.sin(alpha_lin[i]))**2 + y**2) )\n",
    "                        /\n",
    "                        (2 * (z - (x+a) * mp.sin(alpha_lin[i]) )-z0 + Zr**2/(z-(x+a)*mp.sin(alpha_lin[i])-z0) )\n",
    "                    -\n",
    "                        (x + a + z*mp.sin(alpha_lin[i]))**2 + y**2\n",
    "                        /\n",
    "                        (w0**2*(1+( (z-(x+a)*mp.sin(alpha_lin[i])-z0) /Zr)**2))\n",
    "                )\n",
    "                *\n",
    "                mp.exp\n",
    "                (\n",
    "                    (1j)*mp.atan( (z*mp.cos(alpha_lin[i])-(x+a)*mp.sin(alpha_lin[i])-z0) /Zr)\n",
    "                )\n",
    "            *\n",
    "            1/pl.w(z,params)\n",
    "            *\n",
    "            mp.exp\n",
    "            (\n",
    "                ( (1j)*k*(x**2+y**2)/(2*pl.radius_curvature(z,params)))\n",
    "                -\n",
    "                (x**2+y**2)/(pl.w(z,params)**2)\n",
    "            )\n",
    "            *\n",
    "            mp.exp\n",
    "            (\n",
    "                -1j* mp.atan( (z-z0) /Zr)\n",
    "            )\n",
    "        )\n",
    "        \n",
    "        #integrate from gap to PD radius\n",
    "        cr = mp.quadgl(f, [0,fac*plane.xmax], [plane.ymin*fac,plane.ymax*fac], error = 'true')\n",
    "        cl = mp.quadgl(f, [plane.xmin*fac,0], [plane.ymin*fac,plane.ymax*fac], error = 'true')\n",
    "        \n",
    "        \n",
    "        print(cr[0],cr[1])\n",
    "        \n",
    "        print(cl[0],cl[1])\n",
    "        #args for phi_r and phi_l\n",
    "        phi_r = cm.phase(cr[0])\n",
    "        phi_l = cm.phase(cl[0])\n",
    "        \n",
    "        #result in cycles\n",
    "        sol[i] = 0.5*(phi_r-phi_l)/(2*pi)\n",
    "    \n",
    "    return (sol) "
   ]
  },
  {
   "cell_type": "markdown",
   "metadata": {},
   "source": [
    "### Plotting phase difference vs. tilt angle for various PD gaps, z, PD radius\n",
    "a. The aperture size. I suggest we use different aperture radius, from large to the small: 20mm, 10mm, 5mm, 1mm, 0.5mm. And its location I usually choose (0.0,0.0,0.0).\n",
    "\n",
    "b. The distances to PD. I'd also like to choose different distances, from far to near: 500mm, 200mm, 100mm, 50mm, 10mm, 5mm.\n",
    "\n",
    "c. The radius of PD. I will choose different sizes: 5mm, 10mm, 1mm, 0.5mm. As size of slits: I usually use the default value in ifoCAD, which is 0.05*PD_Size.\n",
    "\n",
    "d. The Gaussian reference parameters: waist w0 I usually use 0.5mm and the distance to the waist we usually choose 0. The beam origin I usually use (0.0,0.0,0.0) and choose (1.0, 0.0, 0.0) as the propagation direction. For the measurement Gaussian beam, I think we can use the same parameters.\n",
    "Should we look at the effect of changing the beam size (reference and/or measurement beam) here? Where do you consider the distance to the waist to be measurered from? Obvious choices seem to be the photodiode, the aperture, or the center of rotation.\n",
    "\n",
    "e. For the lateral shift, I'd like to choose -1mm,-0.5mm, 0.5mm and 1mm.\n",
    "\n",
    "f.  The location center of rotation: I think we need to choose different: the aperture center: (0.0,0.0,0.0), (0.0,0.5*aperture_size,0.0).\n",
    "\n",
    "g. The rotation angle of the measurement beam, we can choose -500μrad~500μrad as usual.\n",
    "\n",
    "h. The settings for MEM, GBD, usually we just need to choose the mode_order/grid_beam_number, for eg. 120 for MEM and 1001 for GBD. As for other parameters, we can just use the default values in IfoCAD."
   ]
  },
  {
   "cell_type": "code",
   "execution_count": 4,
   "metadata": {},
   "outputs": [
    {
     "name": "stdout",
     "output_type": "stream",
     "text": [
      "(5.64189143303013 - 1.58766922461153e-5j) 1.0e-38\n",
      "(5.64189421556972 + 1.08777816364419e-5j) 1.0e-37\n",
      "(5.6418916304748 - 1.23485397523053e-5j) 1.0e-37\n",
      "(5.64189407761021 + 8.46049687303176e-6j) 1.0e-37\n",
      "(5.64189182791362 - 8.82038636973348e-6j) 1.0e-37\n",
      "(5.64189393964707 + 6.04321200439916e-6j) 1.0e-38\n",
      "(5.6418920253466 - 5.29223224697573e-6j) 1.0e-37\n",
      "(5.6418938016803 + 3.62592712616781e-6j) 1.0e-37\n",
      "(5.64189222277372 - 1.76407753260781e-6j) 1.0e-37\n",
      "(5.6418936637099 + 1.20864233396143e-6j) 1.0e-37\n",
      "(5.64189242019498 + 1.76407762479439e-6j) 1.0e-37\n",
      "(5.64189352573588 - 1.20864227659631e-6j) 1.0e-37\n",
      "(5.64189261761038 + 5.2922330766549e-6j) 1.0e-37\n",
      "(5.64189338775823 - 3.62592660988171e-6j) 1.0e-37\n",
      "(5.64189281501991 + 8.82038867439773e-6j) 1.0e-37\n",
      "(5.64189324977697 - 6.04321057027117e-6j) 1.0e-38\n",
      "(5.64189301242357 + 1.23485442694468e-5j) 1.0e-37\n",
      "(5.64189311179209 - 8.46049406214109e-6j) 1.0e-37\n",
      "(5.64189320982135 + 1.58766997132262e-5j) 1.0e-38\n",
      "(5.6418929738036 - 1.0877776989868e-5j) 1.0e-38\n"
     ]
    },
    {
     "data": {
      "image/png": "[encoded data removed]",
      "text/plain": [
       "<Figure size 864x648 with 1 Axes>"
      ]
     },
     "metadata": {
      "needs_background": "light"
     },
     "output_type": "display_data"
    }
   ],
   "source": [
    "#plotting tilt over ~50 pts\n",
    "alpha_lin = np.linspace(-700e-6,700e-6, 10)\n",
    "\n",
    "plt.figure(figsize=(12,9))\n",
    "\n",
    "\n",
    "######PLOTS\n",
    "\n",
    "gapsize=0\n",
    "z=0\n",
    "fac=1\n",
    "plt.plot(\n",
    "        alpha_lin, integ_gaps(alpha_lin,gapsize,z,fac), \"-v\", \n",
    "        label=('z='+str(z*1e3)+'[mm], half-gap='+str(gapsize*1e3)+'[mm]') \n",
    ")\n",
    "\n",
    "\n",
    "\n",
    "#####LABELS\n",
    "plt.legend(title=\"Parameters\",loc=\"upper right\", fontsize=14)\n",
    "\n",
    "plt.xlabel(r'Tilt Angle, $\\alpha\\;$[' + 'rad]', fontsize=20) \n",
    "plt.ylabel(r'Phase Diff, $\\Delta \\phi\\;[' +  'cycles]$', fontsize=20) \n",
    "\n",
    "plt.title(r'Shift-Tilted Gaussian: Half-plane PD radius = ' + str(plane.xmax) + '[m]') \n",
    "\n",
    "plt.grid()"
   ]
  },
  {
   "cell_type": "code",
   "execution_count": null,
   "metadata": {},
   "outputs": [],
   "source": []
  }
 ],
 "metadata": {
  "kernelspec": {
   "display_name": "Python 3",
   "language": "python",
   "name": "python3"
  },
  "language_info": {
   "codemirror_mode": {
    "name": "ipython",
    "version": 3
   },
   "file_extension": ".py",
   "mimetype": "text/x-python",
   "name": "python",
   "nbconvert_exporter": "python",
   "pygments_lexer": "ipython3",
   "version": "3.7.3"
  }
 },
 "nbformat": 4,
 "nbformat_minor": 2
}
