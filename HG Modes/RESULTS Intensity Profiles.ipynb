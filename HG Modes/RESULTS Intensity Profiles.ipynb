{
 "cells": [
  {
   "cell_type": "code",
   "execution_count": 1,
   "metadata": {},
   "outputs": [],
   "source": [
    "import PauLisa as pl, numpy as np, matplotlib.pyplot as plt"
   ]
  },
  {
   "cell_type": "code",
   "execution_count": 2,
   "metadata": {},
   "outputs": [],
   "source": [
    "a = pl.defaultParams\n",
    "b = pl.defaultPlane\n",
    "c = pl.Plane(-3e-3,3e-3,1000,-3e-3,3e-3,1000)\n",
    "d=pl.Plane(-1e-3,1e-3,40001,-1e-3,1e-3,3)"
   ]
  },
  {
   "cell_type": "code",
   "execution_count": null,
   "metadata": {},
   "outputs": [],
   "source": [
    "# Re[a10]/a00 = delta s/wo , w0 = 1e-3\n",
    "\n",
    "\n",
    "m00 = pl.modes((0,0,1))\n",
    "m01 = pl.modes((0,1,1))\n",
    "m02 = pl.modes((0,2,1))\n",
    "m03 = pl.modes((0,3,1))\n",
    "\n",
    "m10 = pl.modes((1,0,1))\n",
    "m11 = pl.modes((1,1,1))\n",
    "m12 = pl.modes((1,2,1))\n",
    "m13 = pl.modes((1,3,1))\n",
    "\n",
    "m20 = pl.modes((2,0,1))\n",
    "m21 = pl.modes((2,1,1))\n",
    "m22 = pl.modes((2,2,1))\n",
    "m23 = pl.modes((2,3,1))\n",
    "\n",
    "m30 = pl.modes((3,0,1))\n",
    "m31 = pl.modes((3,1,1))\n",
    "m32 = pl.modes((3,2,1))\n",
    "m33 = pl.modes((3,3,1))\n",
    "\n",
    "\n",
    "\n",
    "\n",
    "\n",
    "f00 =pl.calculate(a,c,m00,0)\n",
    "f01 =pl.calculate(a,c,m01,0)\n",
    "f02 =pl.calculate(a,c,m02,0)\n",
    "f03 =pl.calculate(a,c,m03,0)\n",
    "\n",
    "f10 =pl.calculate(a,c,m10,0)\n",
    "f11 =pl.calculate(a,c,m11,0)\n",
    "f12 =pl.calculate(a,c,m12,0)\n",
    "f13 =pl.calculate(a,c,m13,0)\n",
    "\n",
    "f20 =pl.calculate(a,c,m20,0)\n",
    "f21 =pl.calculate(a,c,m21,0)\n",
    "f22 =pl.calculate(a,c,m22,0)\n",
    "f23 =pl.calculate(a,c,m23,0)\n",
    "\n",
    "f30 =pl.calculate(a,c,m30,0)\n",
    "f31 =pl.calculate(a,c,m31,0)\n",
    "f32 =pl.calculate(a,c,m32,0)\n",
    "f33 =pl.calculate(a,c,m33,0)\n",
    "\n",
    "pl.Contour(f00)\n",
    "pl.Contour(f01)\n",
    "pl.Contour(f02)\n",
    "pl.Contour(f03)\n",
    "\n",
    "pl.Contour(f10)\n",
    "pl.Contour(f11)\n",
    "pl.Contour(f12)\n",
    "pl.Contour(f13)\n",
    "\n",
    "pl.Contour(f20)\n",
    "pl.Contour(f21)\n",
    "pl.Contour(f22)\n",
    "pl.Contour(f23)\n",
    "\n",
    "pl.Contour(f30)\n",
    "pl.Contour(f31)\n",
    "pl.Contour(f32)\n",
    "pl.Contour(f33)"
   ]
  },
  {
   "cell_type": "code",
   "execution_count": 3,
   "metadata": {},
   "outputs": [
    {
     "data": {
      "image/png": "[encoded data removed]",
      "text/plain": [
       "<Figure size 504x432 with 1 Axes>"
      ]
     },
     "metadata": {
      "needs_background": "light"
     },
     "output_type": "display_data"
    }
   ],
   "source": [
    "m03 = pl.modes((0,3,1))\n",
    "f03 =pl.calculate(a,c,m03,0)\n",
    "\n",
    "pl.Contour(f03)"
   ]
  },
  {
   "cell_type": "code",
   "execution_count": null,
   "metadata": {},
   "outputs": [],
   "source": []
  }
 ],
 "metadata": {
  "kernelspec": {
   "display_name": "Python 3",
   "language": "python",
   "name": "python3"
  },
  "language_info": {
   "codemirror_mode": {
    "name": "ipython",
    "version": 3
   },
   "file_extension": ".py",
   "mimetype": "text/x-python",
   "name": "python",
   "nbconvert_exporter": "python",
   "pygments_lexer": "ipython3",
   "version": "3.7.3"
  }
 },
 "nbformat": 4,
 "nbformat_minor": 2
}
