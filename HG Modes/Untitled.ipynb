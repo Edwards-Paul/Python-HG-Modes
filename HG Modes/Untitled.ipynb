{
 "cells": [
  {
   "cell_type": "code",
   "execution_count": 1,
   "metadata": {},
   "outputs": [
    {
     "name": "stdout",
     "output_type": "stream",
     "text": [
      "DEFAULT PARAMS (PauLisa.defaultParams)\n",
      " wavelength = 1.064e-06 m\n",
      " waist size(w0) = 0.001 m\n",
      " z0 = 0 m\n",
      " Rayleigh Range (Zr) = 2.95262467443 m\n",
      "\n",
      "\n",
      "DEFAULT X,Y PLANE (PauLisa.defaultPlane)\n",
      " x:  -0.05 m to  0.05 m with  0.0001 m step.\n",
      " y:  -0.05 m to  0.05 m with  0.0001 m step.\n",
      "\n",
      "\n",
      "\n",
      "Function Usage:\n",
      "OPTICAL PARAMETERS DEFINITION     \n",
      " PARAMETERS=PauLisa.Params(wavelength,w0,z0)\n",
      "\n",
      "PLANE OF PROPAGATION DEFINITION     \n",
      " PLANE=PauLisa.Plane(xmin,xmax,xstep,ymin,ymax,ystep) \n",
      "\n",
      "MODES DEFNITION AND DISPLAY     \n",
      " MODESARRAY=PauLisa.Modes((n1,m1,c1),(n2,m2,c2))     \n",
      " PauLisa.ShowModes(MODES) \n",
      "\n",
      "AMPLITUDE CALCULATIONS     \n",
      " Calculate amplitude over plane: RESULT=PauLisa.Calculate(PARAMS,PLANE,MODES,z) \n",
      " Simple calculation from coordinates: PauLisa.Amplitude(PARAMS,x,y,z,MODES) \n",
      "\n",
      "INTENSITY PLOTTING     \n",
      " PauLisa.Contour(RESULT)     \n",
      " PauLisa.IntensitySliceX(RESULT,y)     \n",
      " PauLisa.IntensitySliceY(RESULT,x) \n",
      "\n",
      "PHASE CALCULATION     \n",
      " PauLisa.Phase(PARAMS,x,y,z,MODES) \n",
      "\n",
      "PHASE PLOTTING     \n",
      " PauLisa.PhaseContour(RESULT)     \n",
      " PauLisa.PhaseSliceX(RESULT,y)    \n",
      " PauLisa.PhaseSliceY(RESULT,x)\n"
     ]
    }
   ],
   "source": [
    "import PauLisa as pl"
   ]
  },
  {
   "cell_type": "code",
   "execution_count": 15,
   "metadata": {},
   "outputs": [
    {
     "name": "stdout",
     "output_type": "stream",
     "text": [
      "n\\m [0]\n",
      "0   [1]\n",
      "1   [0.1j]\n",
      "1.064e-06\n",
      "-0.05\n"
     ]
    }
   ],
   "source": [
    "params = pl.Params(1.064e-6,0.001,0)\n",
    "plane = pl.Plane(-0.05,0.05,0.0001,-0.05,0.05,0.0001)\n",
    "modes=pl.Modes((0,0,1),(1,0,.1j))\n",
    "\n",
    "pl.ShowModes(modes)\n",
    "print params.wavelength\n",
    "print plane.xmin"
   ]
  },
  {
   "cell_type": "code",
   "execution_count": 16,
   "metadata": {
    "scrolled": true
   },
   "outputs": [
    {
     "data": {
      "text/plain": [
       "-41.070681218156444"
      ]
     },
     "execution_count": 16,
     "metadata": {},
     "output_type": "execute_result"
    }
   ],
   "source": [
    "pl.Phase(params,0.01,0,10,modes)"
   ]
  },
  {
   "cell_type": "code",
   "execution_count": 24,
   "metadata": {},
   "outputs": [
    {
     "name": "stdout",
     "output_type": "stream",
     "text": [
      "[[ 145.74911561  179.43717082 -146.9422081  ... -108.71755046\n",
      "  -142.26134752 -175.87257876]\n",
      " [ 179.43240722 -146.87953757 -113.25891649 ...  -75.03425885\n",
      "  -108.57805591 -142.18928716]\n",
      " [-146.95173519 -113.26367998  -79.6430589  ...  -41.41840126\n",
      "   -74.96219832 -108.57342957]\n",
      " ...\n",
      " [-113.40331162  -79.71525641  -46.09463533 ...   -7.86997769\n",
      "   -41.41377475  -75.025006  ]\n",
      " [-146.95173519 -113.26367999  -79.6430589  ...  -41.41840126\n",
      "   -74.96219832 -108.57342957]\n",
      " [ 179.43240722 -146.87953757 -113.25891649 ...  -75.03425885\n",
      "  -108.57805591 -142.18928716]]\n"
     ]
    }
   ],
   "source": [
    "f = pl.Calculate(params,plane,modes,50)\n",
    "print f.phase"
   ]
  },
  {
   "cell_type": "code",
   "execution_count": 25,
   "metadata": {},
   "outputs": [
    {
     "data": {
      "text/plain": [
       "-41.070681218156444"
      ]
     },
     "execution_count": 25,
     "metadata": {},
     "output_type": "execute_result"
    }
   ],
   "source": [
    "pl.Phase(params,0.01,0,10,modes)"
   ]
  }
 ],
 "metadata": {
  "kernelspec": {
   "display_name": "Python 2",
   "language": "python",
   "name": "python2"
  },
  "language_info": {
   "codemirror_mode": {
    "name": "ipython",
    "version": 2
   },
   "file_extension": ".py",
   "mimetype": "text/x-python",
   "name": "python",
   "nbconvert_exporter": "python",
   "pygments_lexer": "ipython2",
   "version": "2.7.14"
  }
 },
 "nbformat": 4,
 "nbformat_minor": 2
}
