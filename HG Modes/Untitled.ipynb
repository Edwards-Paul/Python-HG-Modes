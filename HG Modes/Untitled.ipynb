{
 "cells": [
  {
   "cell_type": "code",
   "execution_count": 1,
   "metadata": {},
   "outputs": [
    {
     "name": "stdout",
     "output_type": "stream",
     "text": [
      "DEFAULT PARAMS (PauLisa.defaultParams)\n",
      " wavelength = 1.064e-06 m\n",
      " waist size(w0) = 0.001 m\n",
      " z0 = 0 m\n",
      " Rayleigh Range (Zr) = 2.95262467443 m\n",
      "\n",
      "\n",
      "DEFAULT X,Y PLANE (PauLisa.defaultPlane)\n",
      " x:  -0.05 m to  0.05 m with  0.0001 m step.\n",
      " y:  -0.05 m to  0.05 m with  0.0001 m step.\n",
      "\n",
      "\n",
      "\n",
      "Function Usage:\n",
      "OPTICAL PARAMETERS DEFINITION     \n",
      " PARAMETERS=PauLisa.Params(wavelength,w0,z0)\n",
      "\n",
      "PLANE OF PROPAGATION DEFINITION     \n",
      " PLANE=PauLisa.Plane(xmin,xmax,xstep,ymin,ymax,ystep) \n",
      "\n",
      "MODES DEFNITION AND DISPLAY     \n",
      " MODESARRAY=PauLisa.Modes((n1,m1,c1),(n2,m2,c2))     \n",
      " PauLisa.ShowModes(MODES) \n",
      "\n",
      "AMPLITUDE CALCULATIONS     \n",
      " Calculate amplitude over plane: AMPLITUDES=PauLisa.Calculate(PARAMS,PLANE,MODES,z) \n",
      " Simple calculation from coordinates: PauLisa.Amplitude(PARAMS,x,y,z,MODES) \n",
      "\n",
      "INTENSITY PLOTTING     \n",
      " PauLisa.Contour(AMPLITUDES)     \n",
      " PauLisa.IntensitySliceX(AMPLITUDES,y)     \n",
      " PauLisa.IntensitySliceY(AMPLITUDES,x) \n",
      "\n",
      "PHASE CALCLATION     \n",
      " PauLisa.Phase(PARAMS,x,y,z,MODES) \n",
      "\n",
      "PHASE PLOTTING     \n",
      "\n"
     ]
    }
   ],
   "source": [
    "import PauLisa as pl"
   ]
  },
  {
   "cell_type": "code",
   "execution_count": 2,
   "metadata": {},
   "outputs": [
    {
     "name": "stdout",
     "output_type": "stream",
     "text": [
      "n\\m [0]\n",
      "0   [0]\n",
      "1   [1]\n",
      "1.064e-06\n",
      "-0.06\n"
     ]
    }
   ],
   "source": [
    "params = pl.Params(1.064e-6,0.001,0)\n",
    "plane = pl.Plane(-0.06,0.06,0.0001,-0.03,0.03,0.0001)\n",
    "modes=pl.Modes((1,0,1))\n",
    "\n",
    "pl.ShowModes(modes)\n",
    "print params.wavelength\n",
    "print plane.xmin"
   ]
  },
  {
   "cell_type": "code",
   "execution_count": 3,
   "metadata": {},
   "outputs": [],
   "source": [
    "f = pl.Calculate(params,plane,modes,100)"
   ]
  },
  {
   "cell_type": "code",
   "execution_count": 4,
   "metadata": {},
   "outputs": [
    {
     "name": "stdout",
     "output_type": "stream",
     "text": [
      "-0.06 0.06 0.0001 -0.03 0.03 0.0001\n",
      "-0.06 0.06 0.0001 -0.03 0.03 0.0001\n"
     ]
    }
   ],
   "source": [
    "print plane\n",
    "print f.plane"
   ]
  },
  {
   "cell_type": "code",
   "execution_count": 5,
   "metadata": {},
   "outputs": [
    {
     "name": "stdout",
     "output_type": "stream",
     "text": [
      "wavelength=1.064e-06\n",
      "w0=0.001\n",
      "z0=0\n",
      "Zr=2.95262467443\n",
      "q0=2.95262467443j\n"
     ]
    }
   ],
   "source": [
    "print params"
   ]
  },
  {
   "cell_type": "code",
   "execution_count": 6,
   "metadata": {},
   "outputs": [
    {
     "data": {
      "text/plain": [
       "[[0], [1]]"
      ]
     },
     "execution_count": 6,
     "metadata": {},
     "output_type": "execute_result"
    }
   ],
   "source": [
    "f.modes"
   ]
  },
  {
   "cell_type": "code",
   "execution_count": 7,
   "metadata": {},
   "outputs": [
    {
     "data": {
      "text/plain": [
       "<PauLisa.Plane instance at 0x000000000911D608>"
      ]
     },
     "execution_count": 7,
     "metadata": {},
     "output_type": "execute_result"
    }
   ],
   "source": [
    "f.plane"
   ]
  },
  {
   "cell_type": "code",
   "execution_count": 8,
   "metadata": {},
   "outputs": [
    {
     "data": {
      "text/plain": [
       "<PauLisa.Params instance at 0x000000000911D288>"
      ]
     },
     "execution_count": 8,
     "metadata": {},
     "output_type": "execute_result"
    }
   ],
   "source": [
    "f.params"
   ]
  },
  {
   "cell_type": "code",
   "execution_count": 9,
   "metadata": {},
   "outputs": [
    {
     "name": "stdout",
     "output_type": "stream",
     "text": [
      "-0.06 0.06 0.0001 -0.03 0.03 0.0001\n"
     ]
    }
   ],
   "source": [
    "print f.plane"
   ]
  },
  {
   "cell_type": "code",
   "execution_count": 10,
   "metadata": {},
   "outputs": [
    {
     "name": "stdout",
     "output_type": "stream",
     "text": [
      "wavelength=1.064e-06\n",
      "w0=0.001\n",
      "z0=0\n",
      "Zr=2.95262467443\n",
      "q0=2.95262467443j\n"
     ]
    }
   ],
   "source": [
    "print f.params"
   ]
  },
  {
   "cell_type": "code",
   "execution_count": null,
   "metadata": {},
   "outputs": [],
   "source": []
  }
 ],
 "metadata": {
  "kernelspec": {
   "display_name": "Python 2",
   "language": "python",
   "name": "python2"
  },
  "language_info": {
   "codemirror_mode": {
    "name": "ipython",
    "version": 2
   },
   "file_extension": ".py",
   "mimetype": "text/x-python",
   "name": "python",
   "nbconvert_exporter": "python",
   "pygments_lexer": "ipython2",
   "version": "2.7.14"
  }
 },
 "nbformat": 4,
 "nbformat_minor": 2
}
