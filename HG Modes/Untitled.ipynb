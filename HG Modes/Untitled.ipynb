{
 "cells": [
  {
   "cell_type": "code",
   "execution_count": 1,
   "metadata": {},
   "outputs": [
    {
     "name": "stdout",
     "output_type": "stream",
     "text": [
      "('wavelength=', 1.064e-06)\n",
      "('waist size=', 0.001)\n",
      "('z0=', 0)\n",
      "('Rayleigh Range =', 10)\n",
      "\n",
      "\n",
      "Usage:\n",
      "MODESARRAY=PauLisa.Modes((n1,m1,c1),(n2,m2,c2)) \n",
      "PauLisa.ShowModes(MODESARRAY) \n",
      "\n",
      "\n",
      "PauLisa.Amplitude(x,y,z,MODES) \n",
      "AMPLITUDES=PauLisa.Calculate(xmin,xmax,ymin,ymax,z,MODESARRAY) \n",
      "PauLisa.Contour(AMPLITUDES) \n",
      "PauLisa.IntensitySliceX(AMPLITUDES,y) \n",
      "PauLisa.IntensitySliceY(AMPLITUDES,x) \n",
      "\n",
      "PauLisa.Phase(x,y,z,MODES)\n"
     ]
    }
   ],
   "source": [
    "import PauLisa as pl"
   ]
  },
  {
   "cell_type": "code",
   "execution_count": 2,
   "metadata": {},
   "outputs": [
    {
     "name": "stdout",
     "output_type": "stream",
     "text": [
      "n\\m [0]\n",
      "0   [1]\n",
      "1   [0.1j]\n"
     ]
    }
   ],
   "source": [
    "modes=pl.Modes((0,0,1), (1,0,.1*1j))\n",
    "\n",
    "pl.ShowModes(modes)"
   ]
  },
  {
   "cell_type": "code",
   "execution_count": 3,
   "metadata": {},
   "outputs": [],
   "source": [
    "f = pl.Calculate(-0.05,0.05,-0.05,0.05,100,modes)"
   ]
  }
 ],
 "metadata": {
  "kernelspec": {
   "display_name": "Python 2",
   "language": "python",
   "name": "python2"
  },
  "language_info": {
   "codemirror_mode": {
    "name": "ipython",
    "version": 2
   },
   "file_extension": ".py",
   "mimetype": "text/x-python",
   "name": "python",
   "nbconvert_exporter": "python",
   "pygments_lexer": "ipython2",
   "version": "2.7.14"
  }
 },
 "nbformat": 4,
 "nbformat_minor": 2
}
