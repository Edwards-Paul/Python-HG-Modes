{
 "cells": [
  {
   "cell_type": "markdown",
   "metadata": {},
   "source": [
    "# The x transformation is recursive, mode-dependent, nonlinear computation; create lookup table for constant time\n",
    "\n",
    "## Results are items holding a stack strings so that they can be eval'd variably\n",
    "\n",
    "\\begin{equation}\n",
    "C_{n,m} x u_{n,m} \\rightarrow [\\frac{w}{2}\\sqrt{n+1} \\exp^{-i\\psi}] C_{n,m}u_{n+1,m}\n",
    "+ [\\frac{w}{2}\\sqrt{n} \\exp^{i\\psi}] C_{n,m}u_{n-1,m}\n",
    "\\end{equation}\n",
    "\n",
    "symbolically,\n",
    "\n",
    "\\begin{equation}\n",
    "C_{n,m} x u_{n,m} \\rightarrow ( (w/2*Sqrt(n+1)*p**1) C_{n,m}u_{n+1,m}\n",
    "+ (w/2*Sqrt(n)* p**(-1)) C_{n,m}u_{n-1,m}\n",
    "\\end{equation}"
   ]
  },
  {
   "cell_type": "code",
   "execution_count": 1,
   "metadata": {},
   "outputs": [],
   "source": [
    "#  Automated import\n",
    "import sys\n",
    "import os\n",
    "sys.path.append('..')\n",
    "\n",
    "from hg_scripts.setup_imports import *"
   ]
  },
  {
   "cell_type": "code",
   "execution_count": 4,
   "metadata": {},
   "outputs": [],
   "source": [
    "params = pl.defaultParams\n",
    "\n",
    "#represents the sums\n",
    "def update_modes (z,params,a,b,modes,sols_matrix):\n",
    "    #get params\n",
    "    K = params.getK()\n",
    "    w0 = params.getW0()\n",
    "    zr = params.getZr()\n",
    "    w = pl.w(z,params)\n",
    "    gouy = pl.gouy_phase(z,params) \n",
    "    R = pl.radius_curvature(z,params)\n",
    "    \n",
    "    #build new modes (up to 2 orders larger for quad. dep.)\n",
    "    rows = len(modes)\n",
    "    cols = len(modes[0])  \n",
    "    number_modes = rows*cols\n",
    "    exp_order = len(sols_matrix)\n",
    "    new_modes = [[0 for m in range(cols+exp_order)] for n in range(rows+exp_order)]\n",
    "    \n",
    "    #placeholders\n",
    "    x=1\n",
    "    j=1j\n",
    "    p=e**(1j*gouy)\n",
    "    \n",
    "    #calculate all coupling factors a->e\\d\n",
    "       \n",
    "    for n in range(len(modes)):\n",
    "        for m in range(len(modes[n])):\n",
    "            if (modes[n][m]!=0): #break if c_nm = 0\n",
    "                c_nm = modes[n][m] #assign c_nm\n",
    "\n",
    "                for x_order in range(len(sols_matrix[0])):\n",
    "                    for p_order in range(len(sols_matrix)):\n",
    "                        if(sols_matrix[x_order][p_order]!='' and (p_order<=n) ):\n",
    "                            n_start = n-p_order\n",
    "                            #append each element in x,p matrix to coupling list\n",
    "                            coupling = eval(sols_matrix[x_order][p_order])*(p**(p_order))\n",
    "                            #print(p_order,x_order,sols_matrix[x_order][p_order],coupling)\n",
    "\n",
    "                            #do x transformation \n",
    "                            #start at n - [order of p], which x transformation depends on\n",
    "                            \n",
    "                            if(x_order>0):\n",
    "                                q = transform_x(p_order,x_order,a,w,gouy,n,w0,z,zr)\n",
    "                                #print(n_start,x_order)\n",
    "                                #empty the q\n",
    "                                while(q):\n",
    "                                    item = cp(q.pop())\n",
    "                                    X = item.coeff #just x coupling\n",
    "                                    N = item.N #final n order\n",
    "                                    #print(\"N,x_order,p_order,n,m\",N,x_order,p_order,n,m)\n",
    "                                    if(N>=0):\n",
    "                                        new_modes[N][m]+= c_nm*coupling*X\n",
    "\n",
    "                            #N is either n or n-p_order, no x-dependence\n",
    "                            else:\n",
    "                                N= n-p_order\n",
    "                                #print(\"N,x_order,p_order,n,m\",N,x_order,p_order,n,m)\n",
    "                                new_modes[N][m]+= c_nm*coupling                            \n",
    "# return(new_modes,ind_list)\n",
    "    return(new_modes)"
   ]
  },
  {
   "cell_type": "code",
   "execution_count": 229,
   "metadata": {},
   "outputs": [],
   "source": [
    "# \"w\" = w(z)\n",
    "# \"p\" = e^i*gouy\n",
    "class Symbolic_Item:\n",
    "    def __init__(self, n,N, p_count,p_coeff,wover2_count,wover2_coeff,n_coeff,overall):\n",
    "        self.n = n #start n\n",
    "        self.N = N #final n\n",
    "        self.p_count=p_count # exponenent p is raised to. X+ -> p^-1, X- -> p^+1\n",
    "        self.p_coeff=p_coeff # p term string (\"p**(p_count)\")\n",
    "        self.wover2_count = wover2_count # exp. w/2 raised to. X+ or X- -> (w/2)**(+1)\n",
    "        self.wover2_coeff = wover2_coeff # w/2 term. (w/2)**(wover2_count)\n",
    "        self.n_coeff = n_coeff # n-dep. term. X+ -> Sqrt(n+1)* X- -> Sqrt(n)*   ... builds up\n",
    "        self.overall = overall # overall term which builds up on n_coeff. (w/2)**(wover2_count)*p**(p_count)*n_coeff\n",
    "        \n",
    "        \n",
    "\n",
    "def symbolic_transform_x (p_order,x_order,n):\n",
    "    #queues of items which are passed each iteration\n",
    "    q1 = []\n",
    "    q2 = []\n",
    "    \n",
    "    \n",
    "    p_count=0\n",
    "    p_coeff = \"\"\n",
    "    wover2_count=0\n",
    "    wover2_coeff = \"\"\n",
    "    n_coeff = \"\" #coeff can be worked in this fxn, then multiplied to overall coupling after\n",
    "    overall=\"\"\n",
    "    \n",
    "    N = n-p_order #start at n-p_order\n",
    "    \n",
    "    start_item = Item(n,N, p_count,p_coeff,wover2_count,wover2_coeff,n_coeff,overall) #WHAT IS COEFF\n",
    "    q1.append(start_item) #just for printing, need 3-array. to track inc/dec\n",
    "    \n",
    "    x_count = x_order  #counter to track iterations\n",
    "    \n",
    "    #empty q1 iteratively and raise and lower\n",
    "    while(x_count!=0):\n",
    "        while(q1):\n",
    "            #get from q1\n",
    "            item = cp(q1.pop())\n",
    "            \n",
    "            #Perform X+ on this item and stack      \n",
    "            item_raise = cp(item) \n",
    "            item_raise = symbolic_raise(item_raise)\n",
    "            q2.append(item_raise) # put into temp q\n",
    "            \n",
    "            #lower n, factor X_-^1(n)\n",
    "            item_lower = cp(item) \n",
    "            if(item_lower.N>0):\n",
    "                item_lower = symbolic_lower(item_lower)\n",
    "                q2.append(item_lower) #put into temp q\n",
    "            \n",
    "        #empty q2 back into q1 to re-iterate\n",
    "        while(q2):\n",
    "            q1.append(q2.pop())\n",
    "            \n",
    "        x_count-=1 #iteration done, decrement count\n",
    "\n",
    "    #all x factors transformed, return full queue\n",
    "    return(q1)"
   ]
  },
  {
   "cell_type": "code",
   "execution_count": 242,
   "metadata": {},
   "outputs": [],
   "source": [
    "# def symbolic_raise(item):\n",
    "#     item.p_count -= 1\n",
    "#     item.p_coeff = \"p**\"+str(item.p_count)\n",
    "#     item.wover2_count += 1\n",
    "#     item.wover2_coeff = \"(w/2)**\"+str(item.wover2_count)\n",
    "#     item.n_coeff += \"*Sqrt(\"+str(item.N)+\"+1)\"\n",
    "#     item.overall = item.p_coeff+\"*\"+item.wover2_coeff+item.n_coeff\n",
    "#     item.N += 1 #overall n mode up\n",
    "#     return(item)\n",
    "   \n",
    "# def symbolic_lower(item):\n",
    "#     item.p_count += 1\n",
    "#     item.p_coeff = \"p**\"+str(item.p_count)\n",
    "#     item.wover2_count += 1\n",
    "#     item.wover2_coeff = \"(w/2)**\"+str(item.wover2_count)\n",
    "#     item.n_coeff += \"*Sqrt(\"+str(item.N)+\")\"\n",
    "#     item.overall = item.p_coeff+\"*\"+item.wover2_coeff+item.n_coeff\n",
    "#     item.N -= 1 #overall n mode up\n",
    "#     return(item) \n",
    "\n",
    "def symbolic_raise(item):\n",
    "    item.p_count -= 1\n",
    "    item.p_coeff = \"p**\"+str(item.p_count)\n",
    "    item.wover2_count += 1\n",
    "    item.wover2_coeff = \"(w/2)**\"+str(item.wover2_count)\n",
    "    item.n_coeff += \"*\"+str(Sqrt(item.N+1))\n",
    "    item.overall = item.p_coeff+\"*\"+item.wover2_coeff+item.n_coeff\n",
    "    item.N += 1 #overall n mode up\n",
    "    return(item)\n",
    "   \n",
    "def symbolic_lower(item):\n",
    "    item.p_count += 1\n",
    "    item.p_coeff = \"p**\"+str(item.p_count)\n",
    "    item.wover2_count += 1\n",
    "    item.wover2_coeff = \"(w/2)**\"+str(item.wover2_count)\n",
    "    item.n_coeff += \"*\"+str(Sqrt(item.N))\n",
    "    item.overall = item.p_coeff+\"*\"+item.wover2_coeff+item.n_coeff\n",
    "    item.N -= 1 #overall n mode up\n",
    "    return(item)  \n"
   ]
  },
  {
   "cell_type": "code",
   "execution_count": 4,
   "metadata": {},
   "outputs": [
    {
     "name": "stdout",
     "output_type": "stream",
     "text": [
      "overall p**-3*(w/2)**3*2.0*2.23606797749979*2.449489742783178\n",
      "overall p**-1*(w/2)**3*2.0*2.23606797749979*2.23606797749979\n",
      "overall p**-1*(w/2)**3*2.0*2.0*2.0\n",
      "overall p**1*(w/2)**3*2.0*2.0*1.7320508075688772\n",
      "overall p**-1*(w/2)**3*1.7320508075688772*1.7320508075688772*2.0\n",
      "overall p**1*(w/2)**3*1.7320508075688772*1.7320508075688772*1.7320508075688772\n",
      "overall p**1*(w/2)**3*1.7320508075688772*1.4142135623730951*1.4142135623730951\n",
      "overall p**3*(w/2)**3*1.7320508075688772*1.4142135623730951*1.0\n"
     ]
    }
   ],
   "source": [
    "p_order = 0\n",
    "x_order = 3\n",
    "n = 3\n",
    "\n",
    "q = symbolic_transform_x(p_order,x_order,n)\n",
    "                                #print(n_start,x_order)\n",
    "                                #empty the q\n",
    "while(q):\n",
    "    item = cp(q.pop())\n",
    "    X = item.overall #entire coupling\n",
    "    N = item.N #final n order\n",
    "    overall = item.overall\n",
    "#     print(\"N,x_order,p_order,n,X,over\",N,x_order,p_order,n,X, overall )\n",
    "    print(f\"overall {overall}\")\n",
    "#     if(N>=0):\n",
    "#         new_modes[N][m]+= c_nm*coupling*X\n",
    "\n"
   ]
  },
  {
   "cell_type": "code",
   "execution_count": 2,
   "metadata": {},
   "outputs": [
    {
     "name": "stdout",
     "output_type": "stream",
     "text": [
      "Exception reporting mode: Verbose\n"
     ]
    }
   ],
   "source": [
    "%xmode Verbose"
   ]
  },
  {
   "cell_type": "code",
   "execution_count": 38,
   "metadata": {},
   "outputs": [
    {
     "name": "stdout",
     "output_type": "stream",
     "text": [
      "\n",
      "n0p0x0\n",
      "p**-1*(w/2)**1*1.0\n",
      "n0p0x1\n"
     ]
    },
    {
     "ename": "KeyError",
     "evalue": "'n0p0x1'",
     "output_type": "error",
     "traceback": [
      "\u001b[1;31m---------------------------------------------------------------------------\u001b[0m",
      "\u001b[1;31mKeyError\u001b[0m                                  Traceback (most recent call last)",
      "\u001b[1;32m<ipython-input-38-a8f90adf5b4c>\u001b[0m in \u001b[0;36m<module>\u001b[1;34m\u001b[0m\n\u001b[0;32m     12\u001b[0m                     \u001b[0mkey\u001b[0m \u001b[1;33m=\u001b[0m \u001b[1;34m'n'\u001b[0m\u001b[1;33m+\u001b[0m\u001b[0mstr\u001b[0m\u001b[1;33m(\u001b[0m\u001b[0mn_ind\u001b[0m\u001b[1;33m)\u001b[0m\u001b[1;33m+\u001b[0m\u001b[1;34m'p'\u001b[0m\u001b[1;33m+\u001b[0m\u001b[0mstr\u001b[0m\u001b[1;33m(\u001b[0m\u001b[0mp_ind\u001b[0m\u001b[1;33m)\u001b[0m\u001b[1;33m+\u001b[0m\u001b[1;34m'x'\u001b[0m\u001b[1;33m+\u001b[0m\u001b[0mstr\u001b[0m\u001b[1;33m(\u001b[0m\u001b[0mx_ind\u001b[0m\u001b[1;33m)\u001b[0m\u001b[1;33m\u001b[0m\u001b[1;33m\u001b[0m\u001b[0m\n\u001b[0;32m     13\u001b[0m                     \u001b[0mprint\u001b[0m\u001b[1;33m(\u001b[0m\u001b[0mkey\u001b[0m\u001b[1;33m)\u001b[0m\u001b[1;33m\u001b[0m\u001b[1;33m\u001b[0m\u001b[0m\n\u001b[1;32m---> 14\u001b[1;33m                     \u001b[1;32mif\u001b[0m\u001b[1;33m(\u001b[0m\u001b[0md\u001b[0m\u001b[1;33m[\u001b[0m\u001b[0mkey\u001b[0m\u001b[1;33m]\u001b[0m\u001b[1;33m)\u001b[0m\u001b[1;33m:\u001b[0m\u001b[1;33m\u001b[0m\u001b[1;33m\u001b[0m\u001b[0m\n\u001b[0m        \u001b[1;36mglobal\u001b[0m \u001b[0;36md\u001b[0m \u001b[1;34m= {'n0p0x0': []}\u001b[0m\u001b[1;34m\n        \u001b[0m\u001b[1;36mglobal\u001b[0m \u001b[0;36mkey\u001b[0m \u001b[1;34m= 'n0p0x1'\u001b[0m\n\u001b[0;32m     15\u001b[0m                         \u001b[0md\u001b[0m\u001b[1;33m[\u001b[0m\u001b[0mkey\u001b[0m\u001b[1;33m]\u001b[0m\u001b[1;33m.\u001b[0m\u001b[0mappend\u001b[0m\u001b[1;33m(\u001b[0m\u001b[0mitem\u001b[0m\u001b[1;33m)\u001b[0m\u001b[1;33m\u001b[0m\u001b[1;33m\u001b[0m\u001b[0m\n\u001b[0;32m     16\u001b[0m                     \u001b[1;32melse\u001b[0m\u001b[1;33m:\u001b[0m\u001b[1;33m\u001b[0m\u001b[1;33m\u001b[0m\u001b[0m\n",
      "\u001b[1;31mKeyError\u001b[0m: 'n0p0x1'"
     ]
    }
   ],
   "source": [
    "d = dict()\n",
    "\n",
    "for n_ind in range(0,2):\n",
    "    for p_ind in range(0,2):\n",
    "        for x_ind in range(0,2):\n",
    "            q = symbolic_transform_x(p_ind,x_ind,n_ind)\n",
    "            d[key]= []\n",
    "            if (p_ind<=n_ind):\n",
    "                while(q):              \n",
    "                    item = cp(q.pop())\n",
    "                    print(item.overall)\n",
    "                    key = 'n'+str(n_ind)+'p'+str(p_ind)+'x'+str(x_ind)\n",
    "                    print(key)\n",
    "                    if(d[key]):\n",
    "                        d[key].append(item)\n",
    "                    else:\n",
    "                        d[key]=item\n",
    "                    \n",
    "                    #make d hold arr of itemsx"
   ]
  },
  {
   "cell_type": "code",
   "execution_count": 20,
   "metadata": {},
   "outputs": [
    {
     "ename": "KeyError",
     "evalue": "'n1p1x1'",
     "output_type": "error",
     "traceback": [
      "\u001b[1;31m---------------------------------------------------------------------------\u001b[0m",
      "\u001b[1;31mKeyError\u001b[0m                                  Traceback (most recent call last)",
      "\u001b[1;32m<ipython-input-20-f5d79ca6043c>\u001b[0m in \u001b[0;36m<module>\u001b[1;34m\u001b[0m\n\u001b[1;32m----> 1\u001b[1;33m \u001b[0mprint\u001b[0m\u001b[1;33m(\u001b[0m\u001b[0md\u001b[0m\u001b[1;33m[\u001b[0m\u001b[1;34m'n1p1x1'\u001b[0m\u001b[1;33m]\u001b[0m\u001b[1;33m.\u001b[0m\u001b[0moverall\u001b[0m\u001b[1;33m)\u001b[0m\u001b[1;33m\u001b[0m\u001b[1;33m\u001b[0m\u001b[0m\n\u001b[0m        \u001b[1;36mglobal\u001b[0m \u001b[0;36mprint\u001b[0m \u001b[1;34m= \u001b[1;36mundefined\u001b[0m\u001b[0m\u001b[1;34m\n        \u001b[0m\u001b[1;36mglobal\u001b[0m \u001b[0;36md.overall\u001b[0m \u001b[1;34m= \u001b[1;36mundefined\u001b[0m\u001b[0m\n",
      "\u001b[1;31mKeyError\u001b[0m: 'n1p1x1'"
     ]
    }
   ],
   "source": [
    "print(d['n1p1x1'].overall)"
   ]
  },
  {
   "cell_type": "code",
   "execution_count": null,
   "metadata": {},
   "outputs": [],
   "source": [
    "ok = dict()\n",
    "ok"
   ]
  }
 ],
 "metadata": {
  "kernelspec": {
   "display_name": "Python 3",
   "language": "python",
   "name": "python3"
  },
  "language_info": {
   "codemirror_mode": {
    "name": "ipython",
    "version": 3
   },
   "file_extension": ".py",
   "mimetype": "text/x-python",
   "name": "python",
   "nbconvert_exporter": "python",
   "pygments_lexer": "ipython3",
   "version": "3.7.3"
  }
 },
 "nbformat": 4,
 "nbformat_minor": 2
}
