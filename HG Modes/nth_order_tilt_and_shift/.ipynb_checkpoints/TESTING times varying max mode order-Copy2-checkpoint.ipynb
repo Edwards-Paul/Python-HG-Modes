{
 "cells": [
  {
   "cell_type": "markdown",
   "metadata": {},
   "source": [
    "# vary tophat max mode order and get times"
   ]
  },
  {
   "cell_type": "code",
   "execution_count": 1,
   "metadata": {},
   "outputs": [],
   "source": [
    "#  Automated import\n",
    "import sys\n",
    "import os\n",
    "sys.path.append('..')\n",
    "\n",
    "from hg_scripts.setup_imports import *\n",
    "\n"
   ]
  },
  {
   "cell_type": "code",
   "execution_count": 2,
   "metadata": {},
   "outputs": [],
   "source": [
    "\n",
    "#expansion orders\n",
    "sh_order = 1\n",
    "ti_order = 7\n",
    "\n",
    "#terms in xp matrix\n",
    "\n",
    "# filename=str(sh_order)+'_shift'+str(5)+'_tilt.txt'\n",
    "# file = open(\"Inputs_mathematica/\"+filename, \"r\")\n",
    "# sols_matrix = file.read()\n",
    "\n",
    "# print(sols_matrix)\n",
    "\n",
    "\n",
    "#terms in xp matrix\n",
    "xpfile = dict_from_xpfile('x_p_file')\n",
    "sols_matrix = xpfile[str(sh_order)+'_shift_'+str(ti_order)+'_tilt']\n",
    "# print(sols_matrix)\n",
    "xpfile.clear()"
   ]
  },
  {
   "cell_type": "code",
   "execution_count": 3,
   "metadata": {},
   "outputs": [
    {
     "name": "stdout",
     "output_type": "stream",
     "text": [
      "+1+-a*b*j*K+(a*b**3*j*K)/6.+-(a*b**5*j*K)/120.+(a*b**7*j*K)/5040.+(b**2*j*K*z)/2.+-(b**4*j*K*z)/24.+(b**6*j*K*z)/720.+-(a*b**3*j**2*K**2*z)/2.+(a*b**5*j**2*K**2*z)/8.+-(a*b**7*j**2*K**2*z)/80.+(a*b*j*K*z)/R+-(2*a*b**3*j*K*z)/(3.*R)+(2*a*b**5*j*K*z)/(15.*R)+-(4*a*b**7*j*K*z)/(315.*R)+(2*a*b*z)/w**2+-(4*a*b**3*z)/(3.*w**2)+(4*a*b**5*z)/(15.*w**2)+-(8*a*b**7*z)/(315.*w**2)+(b**4*j**2*K**2*z**2)/8.+-(b**6*j**2*K**2*z**2)/48.+-(a*b**5*j**3*K**3*z**2)/8.+(a*b**7*j**3*K**3*z**2)/24.+-(b**2*j*K*z**2)/(2.*R)+(b**4*j*K*z**2)/(6.*R)+-(b**6*j*K*z**2)/(45.*R)+(a*b**3*j**2*K**2*z**2)/R+-(5*a*b**5*j**2*K**2*z**2)/(8.*R)+(3*a*b**7*j**2*K**2*z**2)/(20.*R)+-(b**2*z**2)/w**2+(b**4*z**2)/(3.*w**2)+-(2*b**6*z**2)/(45.*w**2)+(2*a*b**3*j*K*z**2)/w**2+-(5*a*b**5*j*K*z**2)/(4.*w**2)+(3*a*b**7*j*K*z**2)/(10.*w**2)+(b**6*j**3*K**3*z**3)/48.+-(a*b**7*j**4*K**4*z**3)/48.+-(a*b**3*j**2*K**2*z**3)/(2.*R**2)+(a*b**5*j**2*K**2*z**3)/(2.*R**2)+-(a*b**7*j**2*K**2*z**3)/(5.*R**2)+-(b**4*j**2*K**2*z**3)/(4.*R)+(5*b**6*j**2*K**2*z**3)/(48.*R)+(3*a*b**5*j**3*K**3*z**3)/(8.*R)+-(a*b**7*j**3*K**3*z**3)/(4.*R)+-(2*a*b**3*z**3)/w**4+(2*a*b**5*z**3)/w**4+-(4*a*b**7*z**3)/(5.*w**4)+-(b**4*j*K*z**3)/(2.*w**2)+(5*b**6*j*K*z**3)/(24.*w**2)+(3*a*b**5*j**2*K**2*z**3)/(4.*w**2)+-(a*b**7*j**2*K**2*z**3)/(2.*w**2)+-(2*a*b**3*j*K*z**3)/(R*w**2)+(2*a*b**5*j*K*z**3)/(R*w**2)+-(4*a*b**7*j*K*z**3)/(5.*R*w**2)+(b**4*j**2*K**2*z**4)/(8.*R**2)+-(b**6*j**2*K**2*z**4)/(12.*R**2)+-(3*a*b**5*j**3*K**3*z**4)/(8.*R**2)+(3*a*b**7*j**3*K**3*z**4)/(8.*R**2)+-(b**6*j**3*K**3*z**4)/(16.*R)+(a*b**7*j**4*K**4*z**4)/(12.*R)+(b**4*z**4)/(2.*w**4)+-(b**6*z**4)/(3.*w**4)+-(3*a*b**5*j*K*z**4)/(2.*w**4)+(3*a*b**7*j*K*z**4)/(2.*w**4)+-(b**6*j**2*K**2*z**4)/(8.*w**2)+(a*b**7*j**3*K**3*z**4)/(6.*w**2)+(b**4*j*K*z**4)/(2.*R*w**2)+-(b**6*j*K*z**4)/(3.*R*w**2)+-(3*a*b**5*j**2*K**2*z**4)/(2.*R*w**2)+(3*a*b**7*j**2*K**2*z**4)/(2.*R*w**2)+(a*b**5*j**3*K**3*z**5)/(8.*R**3)+-(a*b**7*j**3*K**3*z**5)/(6.*R**3)+(b**6*j**3*K**3*z**5)/(16.*R**2)+-(a*b**7*j**4*K**4*z**5)/(8.*R**2)+(a*b**5*z**5)/w**6+-(4*a*b**7*z**5)/(3.*w**6)+(b**6*j*K*z**5)/(4.*w**4)+-(a*b**7*j**2*K**2*z**5)/(2.*w**4)+(3*a*b**5*j*K*z**5)/(2.*R*w**4)+-(2*a*b**7*j*K*z**5)/(R*w**4)+(3*a*b**5*j**2*K**2*z**5)/(4.*R**2*w**2)+-(a*b**7*j**2*K**2*z**5)/(R**2*w**2)+(b**6*j**2*K**2*z**5)/(4.*R*w**2)+-(a*b**7*j**3*K**3*z**5)/(2.*R*w**2)+-(b**6*j**3*K**3*z**6)/(48.*R**3)+(a*b**7*j**4*K**4*z**6)/(12.*R**3)+-(b**6*z**6)/(6.*w**6)+(2*a*b**7*j*K*z**6)/(3.*w**6)+-(b**6*j*K*z**6)/(4.*R*w**4)+(a*b**7*j**2*K**2*z**6)/(R*w**4)+-(b**6*j**2*K**2*z**6)/(8.*R**2*w**2)+(a*b**7*j**3*K**3*z**6)/(2.*R**2*w**2)+-(a*b**7*j**4*K**4*z**7)/(48.*R**4)+-(a*b**7*z**7)/(3.*w**8)+-(2*a*b**7*j*K*z**7)/(3.*R*w**6)+-(a*b**7*j**2*K**2*z**7)/(2.*R**2*w**4)+-(a*b**7*j**3*K**3*z**7)/(6.*R**3*w**2)\n"
     ]
    }
   ],
   "source": [
    "print(sols_matrix[0][0])"
   ]
  },
  {
   "cell_type": "code",
   "execution_count": 4,
   "metadata": {},
   "outputs": [],
   "source": [
    "th_coeff_fn = 'inputs/tophat_coefficients/paul_coef_file.mat'\n",
    "waist = (1/3)*1e-3\n",
    "modes_list = []\n",
    "max_order = np.arange(0,35,1)\n",
    "\n",
    "for i in max_order:\n",
    "    modes_list.append(truncated_tophat(th_coeff_fn,waist,i))\n"
   ]
  },
  {
   "cell_type": "code",
   "execution_count": 5,
   "metadata": {},
   "outputs": [],
   "source": [
    "#loop through and sum over modes overlap where a,b -> n,m\n",
    "def iterate_modes_overlap(w_1,w_2,zR_1,zR_2,k_1,k_2,d_1,W_2,x_1,x_2,Z,Y,modes,s):   \n",
    "\n",
    "    N = len(modes)\n",
    "    M = len(modes[0])\n",
    "    res_arr = [[0 for i in range(10)] for j in range(10)]\n",
    "    res = 0\n",
    "\n",
    "    for a in range(N):\n",
    "        for b in range(M):            \n",
    "            #ignore zero coeff.\n",
    "            if (modes[a][b]!=0):\n",
    "                c_nm = modes[a][b]\n",
    "                #result is the sum of all overlap coefficients each with a factor of mode coefficient\n",
    "                res += ( c_nm * th.overlap(a,b,w_1,w_2,zR_1,zR_2,k_1,k_2,d_1,W_2,x_1,x_2,Z,Y,s) )\n",
    "                \n",
    "    return(res)"
   ]
  },
  {
   "cell_type": "code",
   "execution_count": 28,
   "metadata": {},
   "outputs": [],
   "source": [
    "\n",
    "\n",
    "def signals(v,modes):\n",
    "    #points determine size of arrays (equivalent to # data points plotted)\n",
    "    points = v.points\n",
    "    time_start = process_time()\n",
    "\n",
    "    time_ave1 = 0\n",
    "    time_ave2 = 0\n",
    "    \n",
    "    s= (\n",
    "        1/(v.w_1**2 *(1+(1j)*v.d_1/v.zR_1))\n",
    "        +\n",
    "        1/((v.w_2**2 *(1-(1j)*v.Z/v.zR_2)))\n",
    "    )\n",
    "\n",
    "    #modes_arr = [0]*points\n",
    "    cl = [0]*points\n",
    "    cr = [0]*points\n",
    "    phi_l = [0]*points\n",
    "    phi_r = [0]*points\n",
    "    dws = [0]*points\n",
    "    lps = [0]*points\n",
    "    total_lps = [0]*points\n",
    "\n",
    "\n",
    "    #alpha_arr = np.linspace(-500e-6,500e-6,points)\n",
    "    \n",
    "\n",
    "#     pbar = ProgressBar(widgets=[Percentage(), Bar()], maxval=points).start()\n",
    "\n",
    "    \n",
    "    \n",
    "    for p in range(points):\n",
    "        time_ave_start1 = process_time()\n",
    "        #shift x+zsina\n",
    "        new_modes = update_modes(v.z,v.params,v.a,v.alpha_arr[p],modes,sols_matrix)\n",
    "        \n",
    "        time_ave_start2 = process_time()\n",
    "        #create arrays of overlap coefficients left and right\n",
    "        cl[p] = iterate_modes_overlap(v.w_1,v.w_2,v.zR_1,v.zR_2,v.k_1,v.k_2,v.d_1,v.W_2,v.x_1L,v.x_2L,v.Z,v.Y,new_modes,s) # left overlap (-2e-3,0)\n",
    "\n",
    "        cr[p] = iterate_modes_overlap(v.w_1,v.w_2,v.zR_1,v.zR_2,v.k_1,v.k_2,v.d_1,v.W_2,v.x_1R,v.x_2R,v.Z,v.Y,new_modes,s) # right overlap (0,2e-3)\n",
    "        time_ave1 += (process_time()-time_ave_start1)\n",
    "        time_ave2 += (process_time()-time_ave_start2)\n",
    "\n",
    "        #create arrays of phases for left and right coeff.\n",
    "        phi_r[p]=angle(cr[p])\n",
    "        phi_l[p]=angle(cl[p])\n",
    "        \n",
    "        #create arrays of dws &lps for phases in phase arrays\n",
    "        dws[p] = (phi_r[p]-phi_l[p])\n",
    "        lps[p] = 0.5*(phi_r[p]+phi_l[p])/v.k_1\n",
    "        total_lps[p] = angle(cr[p]+cl[p])/v.k_1\n",
    "        \n",
    "#         pbar.update(p+1)\n",
    "        \n",
    "#     pbar.finish()\n",
    "    \n",
    "    #total time for all DWS & LPS points (not including scattering)\n",
    "    time_elapsed = (process_time() - time_start)\n",
    "#     print(time_elapsed,'s')\n",
    "    print(time_ave1/p,'s',time_ave2/p,'s')\n",
    "    \n",
    "    return(dws,lps,total_lps)\n",
    "\n",
    "num=101\n",
    "waist = (1/3)*1e-3\n",
    "# waist = 1e-3\n",
    "\n",
    "class Vars:\n",
    "#modes,alpha with points\n",
    "    def __init__(self, \n",
    "                 lam=1064e-9,\n",
    "                 z_PD=10e-3,z=10e-3,\n",
    "                 z_m=0,Z=10e-3,\n",
    "                 z_LO=0, d_1=10e-3,\n",
    "#                  z_PD=0,z=0,\n",
    "#                  z_m=0,Z=0,\n",
    "#                  z_LO=0, d_1=0,\n",
    "                 Y=20e-3,\n",
    "                 x_1R=10e-6,x_2R=20e-3,\n",
    "                 x_1L=-20e-3,x_2L=-10e-6,\n",
    "                 w_1=1e-3, w_2=waist,\n",
    "                 zR_1=pi*1e-3**2/1064e-9,zR_2=pi*waist**2/1064e-9,\n",
    "                 k_1=5905249.348852994,k_2=5905249.348852994,\n",
    "                 params=pl.Params(1064e-9,waist,0),\n",
    "                 W_2=1e-3,\n",
    "                 points=num,\n",
    "                 a=10e-6,alpha_arr=np.linspace(-500e-6,500e-6,num),modes_arr=[0]*num):\n",
    "        self.lam = lam\n",
    "\n",
    "\n",
    "        self.z_PD = z_PD #PD location\n",
    "        self.z = z #prop distance assumed PD\n",
    "\n",
    "        self.z_m = z_m #meas beam \n",
    "        self.Z = Z #distance PD-m\n",
    "\n",
    "        self.z_LO = z_LO #Local ref. beam\n",
    "        self.d_1 = d_1 #distance PD-LO\n",
    "\n",
    "\n",
    "        self.Y = Y #Y int bound\n",
    "\n",
    "        self.x_1R = x_1R\n",
    "        self.x_2R = x_2R \n",
    "\n",
    "        self.x_1L = x_1L #assumed symmetric with right side\n",
    "        self.x_2L = x_2L\n",
    "\n",
    "        self.w_1 = w_1 #waist LO \n",
    "        self.w_2 = w_2 #waist MS\n",
    "\n",
    "        self.zR_1 = zR_1 #rayleigh LO\n",
    "        self.zR_2 = zR_2\n",
    "\n",
    "\n",
    "        self.k_1 = k_1 #wavenum LO\n",
    "        self.k_2 = k_2\n",
    "\n",
    "        self.params = params #for building tophat coefficients\n",
    "\n",
    "        self.W_2 = pl.w(z,pl.Params(1064e-9,waist,0)) #tophat beam rad , w(z) or 1e-3?\n",
    "\n",
    "\n",
    "\n",
    "        #integration and misalignment\n",
    "        self.points = points\n",
    "\n",
    "        self.a = a\n",
    "        self.alpha_arr = alpha_arr\n",
    "\n",
    "        self.modes_arr = modes_arr\n",
    "\n",
    "        #build modes from misalignments\n",
    "#         for p in range (points):\n",
    "#             self.modes_arr[p] = update_modes(z,params,a,alpha_arr[p],modes_0,sols_matrix) #array of array of scattered modes#array of array of scattered modes\n",
    "\n",
    "    def setz(self,z):\n",
    "        self.z = z #prop distance assumed PD\n",
    "        self.z_PD = z #PD location\n",
    "        \n",
    "        self.Z = z-self.z_m #distance PD-m\n",
    "\n",
    "        self.d_1 = self.z_PD-self.z_LO #distance PD-LO\n",
    "    \n",
    "        self.W_2 = pl.w(z,pl.Params(1064e-9,waist,0))\n",
    "        \n",
    "        #scattering also depends on z...\n",
    "        for p in range (self.points):\n",
    "            self.modes_arr[p] = [0]*p #clear modes\n",
    "            self.modes_arr[p] = update_modes(z,params,a,alpha_arr[p],top_modes,sols_arr) #array of array of scattered modes#array of array of scattered modes\n",
    "\n",
    "        \n"
   ]
  },
  {
   "cell_type": "code",
   "execution_count": 29,
   "metadata": {},
   "outputs": [
    {
     "name": "stdout",
     "output_type": "stream",
     "text": [
      "Signals calculation...\n",
      "617.375\n",
      "2.87953125 s 0.07625 s\n",
      "905.328125\n"
     ]
    }
   ],
   "source": [
    "params=pl.Params(1064e-9,waist,0)\n",
    "K=params.getK()\n",
    "\n",
    "print('Signals calculation...')\n",
    "v = Vars()\n",
    "modes0=plb.modes((0,0,1))\n",
    "# for i in modes_list:\n",
    "#     dws,lps,total_lps = signals(v,i)\n",
    "\n",
    "\n",
    "\n",
    "# orders = [4,8,12,16,20,24,28]\n",
    "# orders = [8,9,10,11,12,13,14]\n",
    "orders = [34]\n",
    "\n",
    "\n",
    "dws_arr = [0]*len(orders)\n",
    "lps_arr = [0]*len(orders)\n",
    "total_lps_arr = [0]*len(orders)\n",
    "\n",
    "count = 0\n",
    "\n",
    "# for i in orders:\n",
    "#     dws,lps,total_lps = signals(v,modes_list[i])\n",
    "#     print(count)\n",
    "#     dws_arr[count] = dws\n",
    "#     lps_arr[count] = lps\n",
    "#     total_lps_arr[count] = total_lps\n",
    "#     count+=1\n",
    "print(process_time())\n",
    "dws,lps,total_lps = signals(v,modes_list[10])\n",
    "\n",
    "print(process_time())"
   ]
  },
  {
   "cell_type": "code",
   "execution_count": 30,
   "metadata": {},
   "outputs": [
    {
     "ename": "ValueError",
     "evalue": "x and y must have same first dimension, but have shapes (101,) and (1,)",
     "output_type": "error",
     "traceback": [
      "\u001b[1;31m---------------------------------------------------------------------------\u001b[0m",
      "\u001b[1;31mValueError\u001b[0m                                Traceback (most recent call last)",
      "\u001b[1;32m<ipython-input-30-0ad3ffc7b14a>\u001b[0m in \u001b[0;36m<module>\u001b[1;34m\u001b[0m\n\u001b[0;32m      7\u001b[0m \u001b[0mplt\u001b[0m\u001b[1;33m.\u001b[0m\u001b[0msubplot\u001b[0m\u001b[1;33m(\u001b[0m\u001b[1;36m311\u001b[0m\u001b[1;33m)\u001b[0m\u001b[1;33m\u001b[0m\u001b[1;33m\u001b[0m\u001b[0m\n\u001b[0;32m      8\u001b[0m \u001b[1;32mfor\u001b[0m \u001b[0mi\u001b[0m \u001b[1;32min\u001b[0m \u001b[0mrange\u001b[0m\u001b[1;33m(\u001b[0m\u001b[0mlen\u001b[0m\u001b[1;33m(\u001b[0m\u001b[0morders\u001b[0m\u001b[1;33m)\u001b[0m\u001b[1;33m)\u001b[0m\u001b[1;33m:\u001b[0m\u001b[1;33m\u001b[0m\u001b[1;33m\u001b[0m\u001b[0m\n\u001b[1;32m----> 9\u001b[1;33m     \u001b[0mplt\u001b[0m\u001b[1;33m.\u001b[0m\u001b[0mplot\u001b[0m\u001b[1;33m(\u001b[0m\u001b[0mv\u001b[0m\u001b[1;33m.\u001b[0m\u001b[0malpha_arr\u001b[0m\u001b[1;33m,\u001b[0m \u001b[0mdws_arr\u001b[0m\u001b[1;33m[\u001b[0m\u001b[0mi\u001b[0m\u001b[1;33m]\u001b[0m\u001b[1;33m,\u001b[0m \u001b[0mlabel\u001b[0m \u001b[1;33m=\u001b[0m \u001b[0mstr\u001b[0m\u001b[1;33m(\u001b[0m\u001b[0morders\u001b[0m\u001b[1;33m[\u001b[0m\u001b[0mi\u001b[0m\u001b[1;33m]\u001b[0m\u001b[1;33m)\u001b[0m\u001b[1;33m,\u001b[0m \u001b[0mlinewidth\u001b[0m\u001b[1;33m=\u001b[0m\u001b[1;36m4\u001b[0m\u001b[1;33m)\u001b[0m\u001b[1;33m\u001b[0m\u001b[1;33m\u001b[0m\u001b[0m\n\u001b[0m\u001b[0;32m     10\u001b[0m \u001b[0mplt\u001b[0m\u001b[1;33m.\u001b[0m\u001b[0mxlabel\u001b[0m\u001b[1;33m(\u001b[0m\u001b[1;34mr'Tilt Angle, $\\alpha\\;$['\u001b[0m \u001b[1;33m+\u001b[0m \u001b[1;34m'rad]'\u001b[0m\u001b[1;33m,\u001b[0m \u001b[0mfontsize\u001b[0m\u001b[1;33m=\u001b[0m\u001b[1;36m15\u001b[0m\u001b[1;33m)\u001b[0m\u001b[1;33m\u001b[0m\u001b[1;33m\u001b[0m\u001b[0m\n\u001b[0;32m     11\u001b[0m \u001b[0mplt\u001b[0m\u001b[1;33m.\u001b[0m\u001b[0mticklabel_format\u001b[0m\u001b[1;33m(\u001b[0m\u001b[0maxis\u001b[0m\u001b[1;33m=\u001b[0m\u001b[1;34m\"y\"\u001b[0m\u001b[1;33m,\u001b[0m \u001b[0mstyle\u001b[0m\u001b[1;33m=\u001b[0m\u001b[1;34m\"sci\"\u001b[0m\u001b[1;33m,\u001b[0m \u001b[0mscilimits\u001b[0m\u001b[1;33m=\u001b[0m\u001b[1;33m(\u001b[0m\u001b[1;36m0\u001b[0m\u001b[1;33m,\u001b[0m\u001b[1;36m0\u001b[0m\u001b[1;33m)\u001b[0m\u001b[1;33m)\u001b[0m\u001b[1;33m\u001b[0m\u001b[1;33m\u001b[0m\u001b[0m\n",
      "\u001b[1;32m~\\Anaconda3\\lib\\site-packages\\matplotlib\\pyplot.py\u001b[0m in \u001b[0;36mplot\u001b[1;34m(scalex, scaley, data, *args, **kwargs)\u001b[0m\n\u001b[0;32m   2809\u001b[0m     return gca().plot(\n\u001b[0;32m   2810\u001b[0m         *args, scalex=scalex, scaley=scaley, **({\"data\": data} if data\n\u001b[1;32m-> 2811\u001b[1;33m         is not None else {}), **kwargs)\n\u001b[0m\u001b[0;32m   2812\u001b[0m \u001b[1;33m\u001b[0m\u001b[0m\n\u001b[0;32m   2813\u001b[0m \u001b[1;33m\u001b[0m\u001b[0m\n",
      "\u001b[1;32m~\\Anaconda3\\lib\\site-packages\\matplotlib\\__init__.py\u001b[0m in \u001b[0;36minner\u001b[1;34m(ax, data, *args, **kwargs)\u001b[0m\n\u001b[0;32m   1808\u001b[0m                         \u001b[1;34m\"the Matplotlib list!)\"\u001b[0m \u001b[1;33m%\u001b[0m \u001b[1;33m(\u001b[0m\u001b[0mlabel_namer\u001b[0m\u001b[1;33m,\u001b[0m \u001b[0mfunc\u001b[0m\u001b[1;33m.\u001b[0m\u001b[0m__name__\u001b[0m\u001b[1;33m)\u001b[0m\u001b[1;33m,\u001b[0m\u001b[1;33m\u001b[0m\u001b[1;33m\u001b[0m\u001b[0m\n\u001b[0;32m   1809\u001b[0m                         RuntimeWarning, stacklevel=2)\n\u001b[1;32m-> 1810\u001b[1;33m             \u001b[1;32mreturn\u001b[0m \u001b[0mfunc\u001b[0m\u001b[1;33m(\u001b[0m\u001b[0max\u001b[0m\u001b[1;33m,\u001b[0m \u001b[1;33m*\u001b[0m\u001b[0margs\u001b[0m\u001b[1;33m,\u001b[0m \u001b[1;33m**\u001b[0m\u001b[0mkwargs\u001b[0m\u001b[1;33m)\u001b[0m\u001b[1;33m\u001b[0m\u001b[1;33m\u001b[0m\u001b[0m\n\u001b[0m\u001b[0;32m   1811\u001b[0m \u001b[1;33m\u001b[0m\u001b[0m\n\u001b[0;32m   1812\u001b[0m         inner.__doc__ = _add_data_doc(inner.__doc__,\n",
      "\u001b[1;32m~\\Anaconda3\\lib\\site-packages\\matplotlib\\axes\\_axes.py\u001b[0m in \u001b[0;36mplot\u001b[1;34m(self, scalex, scaley, *args, **kwargs)\u001b[0m\n\u001b[0;32m   1609\u001b[0m         \u001b[0mkwargs\u001b[0m \u001b[1;33m=\u001b[0m \u001b[0mcbook\u001b[0m\u001b[1;33m.\u001b[0m\u001b[0mnormalize_kwargs\u001b[0m\u001b[1;33m(\u001b[0m\u001b[0mkwargs\u001b[0m\u001b[1;33m,\u001b[0m \u001b[0mmlines\u001b[0m\u001b[1;33m.\u001b[0m\u001b[0mLine2D\u001b[0m\u001b[1;33m.\u001b[0m\u001b[0m_alias_map\u001b[0m\u001b[1;33m)\u001b[0m\u001b[1;33m\u001b[0m\u001b[1;33m\u001b[0m\u001b[0m\n\u001b[0;32m   1610\u001b[0m \u001b[1;33m\u001b[0m\u001b[0m\n\u001b[1;32m-> 1611\u001b[1;33m         \u001b[1;32mfor\u001b[0m \u001b[0mline\u001b[0m \u001b[1;32min\u001b[0m \u001b[0mself\u001b[0m\u001b[1;33m.\u001b[0m\u001b[0m_get_lines\u001b[0m\u001b[1;33m(\u001b[0m\u001b[1;33m*\u001b[0m\u001b[0margs\u001b[0m\u001b[1;33m,\u001b[0m \u001b[1;33m**\u001b[0m\u001b[0mkwargs\u001b[0m\u001b[1;33m)\u001b[0m\u001b[1;33m:\u001b[0m\u001b[1;33m\u001b[0m\u001b[1;33m\u001b[0m\u001b[0m\n\u001b[0m\u001b[0;32m   1612\u001b[0m             \u001b[0mself\u001b[0m\u001b[1;33m.\u001b[0m\u001b[0madd_line\u001b[0m\u001b[1;33m(\u001b[0m\u001b[0mline\u001b[0m\u001b[1;33m)\u001b[0m\u001b[1;33m\u001b[0m\u001b[1;33m\u001b[0m\u001b[0m\n\u001b[0;32m   1613\u001b[0m             \u001b[0mlines\u001b[0m\u001b[1;33m.\u001b[0m\u001b[0mappend\u001b[0m\u001b[1;33m(\u001b[0m\u001b[0mline\u001b[0m\u001b[1;33m)\u001b[0m\u001b[1;33m\u001b[0m\u001b[1;33m\u001b[0m\u001b[0m\n",
      "\u001b[1;32m~\\Anaconda3\\lib\\site-packages\\matplotlib\\axes\\_base.py\u001b[0m in \u001b[0;36m_grab_next_args\u001b[1;34m(self, *args, **kwargs)\u001b[0m\n\u001b[0;32m    391\u001b[0m                 \u001b[0mthis\u001b[0m \u001b[1;33m+=\u001b[0m \u001b[0margs\u001b[0m\u001b[1;33m[\u001b[0m\u001b[1;36m0\u001b[0m\u001b[1;33m]\u001b[0m\u001b[1;33m,\u001b[0m\u001b[1;33m\u001b[0m\u001b[1;33m\u001b[0m\u001b[0m\n\u001b[0;32m    392\u001b[0m                 \u001b[0margs\u001b[0m \u001b[1;33m=\u001b[0m \u001b[0margs\u001b[0m\u001b[1;33m[\u001b[0m\u001b[1;36m1\u001b[0m\u001b[1;33m:\u001b[0m\u001b[1;33m]\u001b[0m\u001b[1;33m\u001b[0m\u001b[1;33m\u001b[0m\u001b[0m\n\u001b[1;32m--> 393\u001b[1;33m             \u001b[1;32myield\u001b[0m \u001b[1;32mfrom\u001b[0m \u001b[0mself\u001b[0m\u001b[1;33m.\u001b[0m\u001b[0m_plot_args\u001b[0m\u001b[1;33m(\u001b[0m\u001b[0mthis\u001b[0m\u001b[1;33m,\u001b[0m \u001b[0mkwargs\u001b[0m\u001b[1;33m)\u001b[0m\u001b[1;33m\u001b[0m\u001b[1;33m\u001b[0m\u001b[0m\n\u001b[0m\u001b[0;32m    394\u001b[0m \u001b[1;33m\u001b[0m\u001b[0m\n\u001b[0;32m    395\u001b[0m \u001b[1;33m\u001b[0m\u001b[0m\n",
      "\u001b[1;32m~\\Anaconda3\\lib\\site-packages\\matplotlib\\axes\\_base.py\u001b[0m in \u001b[0;36m_plot_args\u001b[1;34m(self, tup, kwargs)\u001b[0m\n\u001b[0;32m    368\u001b[0m             \u001b[0mx\u001b[0m\u001b[1;33m,\u001b[0m \u001b[0my\u001b[0m \u001b[1;33m=\u001b[0m \u001b[0mindex_of\u001b[0m\u001b[1;33m(\u001b[0m\u001b[0mtup\u001b[0m\u001b[1;33m[\u001b[0m\u001b[1;33m-\u001b[0m\u001b[1;36m1\u001b[0m\u001b[1;33m]\u001b[0m\u001b[1;33m)\u001b[0m\u001b[1;33m\u001b[0m\u001b[1;33m\u001b[0m\u001b[0m\n\u001b[0;32m    369\u001b[0m \u001b[1;33m\u001b[0m\u001b[0m\n\u001b[1;32m--> 370\u001b[1;33m         \u001b[0mx\u001b[0m\u001b[1;33m,\u001b[0m \u001b[0my\u001b[0m \u001b[1;33m=\u001b[0m \u001b[0mself\u001b[0m\u001b[1;33m.\u001b[0m\u001b[0m_xy_from_xy\u001b[0m\u001b[1;33m(\u001b[0m\u001b[0mx\u001b[0m\u001b[1;33m,\u001b[0m \u001b[0my\u001b[0m\u001b[1;33m)\u001b[0m\u001b[1;33m\u001b[0m\u001b[1;33m\u001b[0m\u001b[0m\n\u001b[0m\u001b[0;32m    371\u001b[0m \u001b[1;33m\u001b[0m\u001b[0m\n\u001b[0;32m    372\u001b[0m         \u001b[1;32mif\u001b[0m \u001b[0mself\u001b[0m\u001b[1;33m.\u001b[0m\u001b[0mcommand\u001b[0m \u001b[1;33m==\u001b[0m \u001b[1;34m'plot'\u001b[0m\u001b[1;33m:\u001b[0m\u001b[1;33m\u001b[0m\u001b[1;33m\u001b[0m\u001b[0m\n",
      "\u001b[1;32m~\\Anaconda3\\lib\\site-packages\\matplotlib\\axes\\_base.py\u001b[0m in \u001b[0;36m_xy_from_xy\u001b[1;34m(self, x, y)\u001b[0m\n\u001b[0;32m    229\u001b[0m         \u001b[1;32mif\u001b[0m \u001b[0mx\u001b[0m\u001b[1;33m.\u001b[0m\u001b[0mshape\u001b[0m\u001b[1;33m[\u001b[0m\u001b[1;36m0\u001b[0m\u001b[1;33m]\u001b[0m \u001b[1;33m!=\u001b[0m \u001b[0my\u001b[0m\u001b[1;33m.\u001b[0m\u001b[0mshape\u001b[0m\u001b[1;33m[\u001b[0m\u001b[1;36m0\u001b[0m\u001b[1;33m]\u001b[0m\u001b[1;33m:\u001b[0m\u001b[1;33m\u001b[0m\u001b[1;33m\u001b[0m\u001b[0m\n\u001b[0;32m    230\u001b[0m             raise ValueError(\"x and y must have same first dimension, but \"\n\u001b[1;32m--> 231\u001b[1;33m                              \"have shapes {} and {}\".format(x.shape, y.shape))\n\u001b[0m\u001b[0;32m    232\u001b[0m         \u001b[1;32mif\u001b[0m \u001b[0mx\u001b[0m\u001b[1;33m.\u001b[0m\u001b[0mndim\u001b[0m \u001b[1;33m>\u001b[0m \u001b[1;36m2\u001b[0m \u001b[1;32mor\u001b[0m \u001b[0my\u001b[0m\u001b[1;33m.\u001b[0m\u001b[0mndim\u001b[0m \u001b[1;33m>\u001b[0m \u001b[1;36m2\u001b[0m\u001b[1;33m:\u001b[0m\u001b[1;33m\u001b[0m\u001b[1;33m\u001b[0m\u001b[0m\n\u001b[0;32m    233\u001b[0m             raise ValueError(\"x and y can be no greater than 2-D, but have \"\n",
      "\u001b[1;31mValueError\u001b[0m: x and y must have same first dimension, but have shapes (101,) and (1,)"
     ]
    },
    {
     "data": {
      "image/png": "[encoded data removed]",
      "text/plain": [
       "<Figure size 1296x2160 with 1 Axes>"
      ]
     },
     "metadata": {
      "needs_background": "light"
     },
     "output_type": "display_data"
    }
   ],
   "source": [
    "plt.figure(figsize=(18,30))\n",
    "\n",
    "plt.rc('xtick', labelsize=20) \n",
    "plt.rc('ytick', labelsize=20) \n",
    "\n",
    "#DWS\n",
    "plt.subplot(311)\n",
    "for i in range(len(orders)):\n",
    "    plt.plot(v.alpha_arr, dws_arr[i], label = str(orders[i]), linewidth=4)\n",
    "plt.xlabel(r'Tilt Angle, $\\alpha\\;$[' + 'rad]', fontsize=15) \n",
    "plt.ticklabel_format(axis=\"y\", style=\"sci\", scilimits=(0,0))\n",
    "plt.ticklabel_format(axis=\"x\", style=\"sci\", scilimits=(0,0))\n",
    "plt.ylabel(r'Phase $[' +  'rad]$', fontsize=15) \n",
    "plt.title(r'DWS',fontsize = 30) \n",
    "plt.legend(title = 'Mode Order', loc = 'upper right')\n",
    "plt.plot()\n",
    "plt.grid()\n",
    "#LPS\n",
    "plt.subplot(312)\n",
    "for i in range(len(orders)):\n",
    "    plt.plot(v.alpha_arr, lps_arr[i], label = str(orders[i]), linewidth=4)\n",
    "plt.xlabel(r'Tilt Angle [' + 'rad]', fontsize=15) \n",
    "plt.ticklabel_format(axis=\"y\", style=\"sci\", scilimits=(0,0))\n",
    "plt.ticklabel_format(axis=\"x\", style=\"sci\", scilimits=(0,0))\n",
    "plt.ylabel(r'Length $[' +  'm]$', fontsize=15) \n",
    "plt.title(r'LPS Regular',fontsize = 30) \n",
    "plt.legend(title = 'Mode Order', loc = 'upper right')\n",
    "plt.grid()\n",
    "#TOT LPS\n",
    "plt.subplot(313)\n",
    "for i in range(len(orders)):\n",
    "    plt.plot(v.alpha_arr, total_lps_arr[i], label = str(orders[i]), linewidth=4)\n",
    "plt.xlabel(r'Tilt Angle [' + 'rad]', fontsize=15) \n",
    "plt.ticklabel_format(axis=\"y\", style=\"sci\", scilimits=(0,0))\n",
    "plt.ticklabel_format(axis=\"x\", style=\"sci\", scilimits=(0,0))\n",
    "plt.ylabel(r'Length $[' +  'm]$', fontsize=15) \n",
    "plt.title(r'LPS Total',fontsize = 30) \n",
    "plt.legend(title = 'Mode Order', loc = 'upper right')\n",
    "plt.grid()\n"
   ]
  },
  {
   "cell_type": "code",
   "execution_count": 31,
   "metadata": {},
   "outputs": [],
   "source": [
    "dws_slope = np.zeros(len(dws),np.float)\n",
    "dws_slope[0:-1] = np.diff(dws)/np.diff(v.alpha_arr)\n",
    "dws_slope[-1] = (dws[-1] - dws[-2])/(v.alpha_arr[-1] - v.alpha_arr[-2])\n",
    "lps_slope = np.zeros(len(lps),np.float)\n",
    "lps_slope[0:-1] = np.diff(lps)/np.diff(v.alpha_arr)\n",
    "lps_slope[-1] = (lps[-1] - lps[-2])/(v.alpha_arr[-1] - v.alpha_arr[-2])\n",
    "total_lps_slope = np.zeros(len(total_lps),np.float)\n",
    "total_lps_slope[0:-1] = np.diff(total_lps)/np.diff(v.alpha_arr)\n",
    "total_lps_slope[-1] = (total_lps[-1] - total_lps[-2])/(v.alpha_arr[-1] - v.alpha_arr[-2])\n",
    "\n",
    "\n",
    "\n",
    "\n",
    "note = ('1_shift_7_tilt')\n",
    "\n",
    "scipy.io.savemat('th_1_shift_7_tilt_10offset'+'.mat', mdict={'angle': v.alpha_arr, 'lps'+note: lps, 'total_lps'+note: total_lps,'dws_HG00'+note: dws,\n",
    "                                         'lps_slope'+note: lps_slope, 'total_lps_slope'+note : total_lps_slope,\n",
    "                                        'dws_slope'+note: dws_slope})\n"
   ]
  },
  {
   "cell_type": "code",
   "execution_count": 32,
   "metadata": {},
   "outputs": [
    {
     "data": {
      "image/png": "[encoded data removed]",
      "text/plain": [
       "<Figure size 432x288 with 1 Axes>"
      ]
     },
     "metadata": {
      "needs_background": "light"
     },
     "output_type": "display_data"
    },
    {
     "data": {
      "image/png": "[encoded data removed]",
      "text/plain": [
       "<Figure size 432x288 with 1 Axes>"
      ]
     },
     "metadata": {
      "needs_background": "light"
     },
     "output_type": "display_data"
    },
    {
     "data": {
      "image/png": "[encoded data removed]",
      "text/plain": [
       "<Figure size 432x288 with 1 Axes>"
      ]
     },
     "metadata": {
      "needs_background": "light"
     },
     "output_type": "display_data"
    }
   ],
   "source": [
    "plot_dws(v.alpha_arr,dws)\n",
    "plot_lpsR(v.alpha_arr,lps)\n",
    "plot_lpsT(v.alpha_arr,total_lps)"
   ]
  },
  {
   "cell_type": "code",
   "execution_count": 35,
   "metadata": {},
   "outputs": [
    {
     "name": "stdout",
     "output_type": "stream",
     "text": [
      "0.04293254345432446\n",
      "-6.621640721184693e-11\n",
      "-4.0119293585932416e-11\n"
     ]
    }
   ],
   "source": [
    "print(dws[51])\n",
    "print(lps[51])\n",
    "print(total_lps[51])"
   ]
  },
  {
   "cell_type": "code",
   "execution_count": 107,
   "metadata": {},
   "outputs": [
    {
     "name": "stdout",
     "output_type": "stream",
     "text": [
      "Exception reporting mode: Verbose\n",
      "0.171875\n"
     ]
    }
   ],
   "source": [
    "%xmode Verbose\n",
    "start_here = process_time()\n",
    "for i in range(17**2):\n",
    "    q=transform_x(6,3,1e-6,1e-3,1,34,1e-3,1,1)\n",
    "\n",
    "    while(q):\n",
    "        item = cp(q.pop())\n",
    "        X = item.coeff #just x coupling\n",
    "        N = item.N #final n order\n",
    "        \n",
    "print(process_time()-start_here)"
   ]
  },
  {
   "cell_type": "code",
   "execution_count": null,
   "metadata": {},
   "outputs": [],
   "source": []
  }
 ],
 "metadata": {
  "kernelspec": {
   "display_name": "Python 3",
   "language": "python",
   "name": "python3"
  },
  "language_info": {
   "codemirror_mode": {
    "name": "ipython",
    "version": 3
   },
   "file_extension": ".py",
   "mimetype": "text/x-python",
   "name": "python",
   "nbconvert_exporter": "python",
   "pygments_lexer": "ipython3",
   "version": "3.7.3"
  }
 },
 "nbformat": 4,
 "nbformat_minor": 2
}
