{
 "cells": [
  {
   "cell_type": "markdown",
   "metadata": {},
   "source": [
    "# Write all mathematica files to a file of x_p_matrix's of terms"
   ]
  },
  {
   "cell_type": "code",
   "execution_count": 1,
   "metadata": {},
   "outputs": [],
   "source": [
    "#  Automated import\n",
    "import sys\n",
    "import os\n",
    "sys.path.append('..')\n",
    "\n",
    "from hg_scripts.setup_imports import *\n"
   ]
  },
  {
   "cell_type": "code",
   "execution_count": 2,
   "metadata": {},
   "outputs": [],
   "source": [
    "max_shift = 10\n",
    "max_tilt = 10\n",
    "\n",
    "dict_of_x_p_matrix = {}\n",
    "\n",
    "\n",
    "\n",
    "for i in (max_shift+1):\n",
    "    for j in (max_tilt+1):\n",
    "        key = str(i)+\"_shift_\"+str(j)+\"_tilt\"\n",
    "        print(i,j)\n",
    "        dict_of_x_p_matrix[key] = parse_math_for_python(i,j)\n",
    "        #write to file\n"
   ]
  },
  {
   "cell_type": "code",
   "execution_count": null,
   "metadata": {},
   "outputs": [],
   "source": [
    "f = open( 'inputs/x_p_file.py', 'w' )\n",
    "f.write(matrix_of_x_p_matrix[i][j])\n",
    "f.close()"
   ]
  },
  {
   "cell_type": "code",
   "execution_count": 9,
   "metadata": {},
   "outputs": [
    {
     "name": "stdout",
     "output_type": "stream",
     "text": [
      "{}\n"
     ]
    },
    {
     "data": {
      "text/plain": [
       "1"
      ]
     },
     "execution_count": 9,
     "metadata": {},
     "output_type": "execute_result"
    }
   ],
   "source": [
    "dict_of_x_p_matrix = {}\n",
    "print(dict_of_x_p_matrix)\n",
    "dict_of_x_p_matrix = { \"ok\": 1}\n",
    "dict_of_x_p_matrix[\"ok\"]"
   ]
  },
  {
   "cell_type": "code",
   "execution_count": null,
   "metadata": {},
   "outputs": [],
   "source": []
  }
 ],
 "metadata": {
  "kernelspec": {
   "display_name": "Python 3",
   "language": "python",
   "name": "python3"
  },
  "language_info": {
   "codemirror_mode": {
    "name": "ipython",
    "version": 3
   },
   "file_extension": ".py",
   "mimetype": "text/x-python",
   "name": "python",
   "nbconvert_exporter": "python",
   "pygments_lexer": "ipython3",
   "version": "3.7.3"
  }
 },
 "nbformat": 4,
 "nbformat_minor": 2
}
