{
 "cells": [
  {
   "cell_type": "code",
   "execution_count": 1,
   "metadata": {},
   "outputs": [],
   "source": [
    "from sympy.parsing import mathematica as mc\n",
    "from numpy import sin as sin\n",
    "import re"
   ]
  },
  {
   "cell_type": "code",
   "execution_count": null,
   "metadata": {},
   "outputs": [],
   "source": [
    "#represents iterative x transformation\n",
    "##starts at n-E\n",
    "##iterates (c+d) times, this is x order\n",
    "##returns a queue with X_{+/-}^1(n) for each n\n",
    "#n start is n-e\n",
    "\n",
    "class Item:\n",
    "    def __init__(self, n,N,coeff):\n",
    "        self.n = n\n",
    "        self.N = N\n",
    "        self.coeff = coeff\n",
    "\n",
    "def transform_x (E,x_order, a,w,gouy,n, w0,z,zr):\n",
    "    q1 = []\n",
    "    q2 = []\n",
    "    #queue of items which are passed each iteration\n",
    "    coeff = 1 #coeff can be worked in this fxn, then multiplied to overall coupling after\n",
    "    N = n-E #start at n-E\n",
    "    start_item = Item(n,N,coeff)\n",
    "    q1.append(start_item) #just for printing, need 3-array. to track inc/dec\n",
    "    \n",
    "    x_count = x_order  #counter to track iterations\n",
    "    \n",
    "    #empty q1 iteratively and raise and lower\n",
    "    while(x_count!=0):\n",
    "        while(q1):\n",
    "            #get from q1\n",
    "            item = cp(q1.pop())\n",
    "            \n",
    "            #raise n, factor X_+^1(n)  **raising doesn't involve factor n**\n",
    "            item_raise = cp(item)\n",
    "\n",
    "            item_raise.coeff = item_raise.coeff*x_plus_1(w0,z,zr,N)\n",
    "            item_raise.N += 1 #overall n mode up\n",
    "            \n",
    "            \n",
    "            q2.append(item_raise) # put into temp q\n",
    "            \n",
    "            \n",
    "            #lower n, factor X_-^1(n)\n",
    "            item_lower = cp(item)\n",
    "            \n",
    "            item_lower.coeff = item_lower.coeff*x_minus_1(w0,z,zr,N)\n",
    "            item_lower.N -= 1 #overall n mode down\n",
    "            \n",
    "            q2.append(item_lower) #put into temp q\n",
    "            \n",
    "        #empty q2 back into q1 to re-iterate\n",
    "        while(q2):\n",
    "            q1.append(q2.pop())\n",
    "            \n",
    "        x_count-=1 #iteration done, decrement count\n",
    "        \n",
    "    \n",
    "    #all x factors transformed, return full queue\n",
    "    return(q1)"
   ]
  }
 ],
 "metadata": {
  "kernelspec": {
   "display_name": "Python 3",
   "language": "python",
   "name": "python3"
  },
  "language_info": {
   "codemirror_mode": {
    "name": "ipython",
    "version": 3
   },
   "file_extension": ".py",
   "mimetype": "text/x-python",
   "name": "python",
   "nbconvert_exporter": "python",
   "pygments_lexer": "ipython3",
   "version": "3.7.3"
  }
 },
 "nbformat": 4,
 "nbformat_minor": 2
}
