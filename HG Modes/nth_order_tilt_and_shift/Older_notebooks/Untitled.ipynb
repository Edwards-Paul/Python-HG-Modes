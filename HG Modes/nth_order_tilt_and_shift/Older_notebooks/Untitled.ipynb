{
 "cells": [
  {
   "cell_type": "code",
   "execution_count": 1,
   "metadata": {},
   "outputs": [
    {
     "name": "stderr",
     "output_type": "stream",
     "text": [
      "  3%|##                                                                       |\r"
     ]
    },
    {
     "name": "stdout",
     "output_type": "stream",
     "text": [
      "Running: Example 0\n"
     ]
    },
    {
     "name": "stderr",
     "output_type": "stream",
     "text": [
      "100%|#########################################################################|\n",
      "Test:  12% |||||                                    | ETA:  0:00:01   6.63 MB/s\r"
     ]
    },
    {
     "name": "stdout",
     "output_type": "stream",
     "text": [
      "\n",
      "Running: Example 1\n"
     ]
    },
    {
     "name": "stderr",
     "output_type": "stream",
     "text": [
      "Test: 100% |||||||||||||||||||||||||||||||||||||||||| Time: 0:00:01   6.35 MB/s\n",
      "  3.34 MB/s <<<|##                                      |>>>   6% ETA:  0:00:02\r"
     ]
    },
    {
     "name": "stdout",
     "output_type": "stream",
     "text": [
      "\n",
      "Running: Example 2\n"
     ]
    },
    {
     "name": "stderr",
     "output_type": "stream",
     "text": [
      "  3.62 MB/s <<<|########################################|>>> 100% Time: 0:00:02\n",
      "|>>>>                          | ETA:  0:00:01 |                          <<<<|\r"
     ]
    },
    {
     "name": "stdout",
     "output_type": "stream",
     "text": [
      "\n",
      "Running: Example 3\n"
     ]
    },
    {
     "name": "stderr",
     "output_type": "stream",
     "text": [
      "|>>>>>>>>>>>>>>>>>>>>>>>>>>>>>>| Time: 0:00:01 |<<<<<<<<<<<<<<<<<<<<<<<<<<<<<<|\n",
      "Test:   0% [                                       ] ETA:  --:--:--   0.00  B/s\r"
     ]
    },
    {
     "name": "stdout",
     "output_type": "stream",
     "text": [
      "\n",
      "Running: Example 4\n"
     ]
    },
    {
     "name": "stderr",
     "output_type": "stream",
     "text": [
      "Test: 100% [0000000000000000000000000000000000000000] Time: 0:00:01 272.83  B/s\n",
      "1 of 17                                                                        \r"
     ]
    },
    {
     "name": "stdout",
     "output_type": "stream",
     "text": [
      "\n",
      "Running: Example 5\n"
     ]
    },
    {
     "name": "stderr",
     "output_type": "stream",
     "text": [
      "17 of 17                                                                       \n",
      " 12% |########                                                                |\r"
     ]
    },
    {
     "name": "stdout",
     "output_type": "stream",
     "text": [
      "\n",
      "Running: Example 6\n"
     ]
    },
    {
     "name": "stderr",
     "output_type": "stream",
     "text": [
      "100% |########################################################################|\n",
      " 15% |##########                                                              |\r"
     ]
    },
    {
     "name": "stdout",
     "output_type": "stream",
     "text": [
      "\n",
      "Running: Example 7\n"
     ]
    },
    {
     "name": "stderr",
     "output_type": "stream",
     "text": [
      "100% |########################################################################|\n",
      " 15% |##########                                                              |\r"
     ]
    },
    {
     "name": "stdout",
     "output_type": "stream",
     "text": [
      "\n",
      "Running: Example 8\n"
     ]
    },
    {
     "name": "stderr",
     "output_type": "stream",
     "text": [
      "100% |########################################################################|\n",
      "Working: -                                                                     \r"
     ]
    },
    {
     "name": "stdout",
     "output_type": "stream",
     "text": [
      "\n",
      "Running: Example 9\n"
     ]
    },
    {
     "name": "stderr",
     "output_type": "stream",
     "text": [
      "Working: |                                                                     \n",
      "Processed: 1 lines (Elapsed Time: 0:00:00)                                     \r"
     ]
    },
    {
     "name": "stdout",
     "output_type": "stream",
     "text": [
      "\n",
      "Running: Example 10\n"
     ]
    },
    {
     "name": "stderr",
     "output_type": "stream",
     "text": [
      "Processed: 149 lines (Elapsed Time: 0:00:16)                                   \n",
      "Processed: 1 lines (in: 0:00:00)                                               \r"
     ]
    },
    {
     "name": "stdout",
     "output_type": "stream",
     "text": [
      "\n",
      "Running: Example 11\n"
     ]
    },
    {
     "name": "stderr",
     "output_type": "stream",
     "text": [
      "Processed: 149 lines (in: 0:00:16)                                             \n",
      "Balloon: .                                                                     \r"
     ]
    },
    {
     "name": "stdout",
     "output_type": "stream",
     "text": [
      "\n",
      "Running: Example 12\n"
     ]
    },
    {
     "name": "stderr",
     "output_type": "stream",
     "text": [
      "Balloon: .                                                                     \n",
      "Arrows: ←                                                                      \r"
     ]
    },
    {
     "name": "stdout",
     "output_type": "stream",
     "text": [
      "\n",
      "Running: Example 13\n"
     ]
    },
    {
     "name": "stderr",
     "output_type": "stream",
     "text": [
      "Arrows: ←                                                                      \n",
      "Arrows: ◢                                                                      \r"
     ]
    },
    {
     "name": "stdout",
     "output_type": "stream",
     "text": [
      "\n",
      "Running: Example 14\n"
     ]
    },
    {
     "name": "stderr",
     "output_type": "stream",
     "text": [
      "Arrows: ◢                                                                      \n",
      "Wheels: ◐                                                                      \r"
     ]
    },
    {
     "name": "stdout",
     "output_type": "stream",
     "text": [
      "\n",
      "Running: Example 15\n"
     ]
    },
    {
     "name": "stderr",
     "output_type": "stream",
     "text": [
      "Wheels: ◐                                                                      \n",
      "Bouncer: value 3 - |  #                                                       |\r"
     ]
    },
    {
     "name": "stdout",
     "output_type": "stream",
     "text": [
      "\n",
      "Running: Example 16\n"
     ]
    },
    {
     "name": "stderr",
     "output_type": "stream",
     "text": [
      "Bouncer: value 179 - |########################################################|\n",
      "Animated Bouncer: value 3 - |  \\                                              |\r"
     ]
    },
    {
     "name": "stdout",
     "output_type": "stream",
     "text": [
      "\n",
      "Running: Example 17\n"
     ]
    },
    {
     "name": "stderr",
     "output_type": "stream",
     "text": [
      "Animated Bouncer: value 179 - |||||||||||||||||||||||||||||||||||||||||||||||||\n",
      "  1% |                                            | ETA:  0:00:15 ETA:  0:00:15\r"
     ]
    },
    {
     "name": "stdout",
     "output_type": "stream",
     "text": [
      "\n",
      "Running: Example 18\n"
     ]
    },
    {
     "name": "stderr",
     "output_type": "stream",
     "text": [
      "100% |############################################| Time: 0:01:38 Time: 0:01:38\n",
      "100% |                                                                        |\r"
     ]
    },
    {
     "name": "stdout",
     "output_type": "stream",
     "text": [
      "\n",
      "Running: Example 19\n",
      "\n",
      "Running: Example 20\n"
     ]
    },
    {
     "name": "stderr",
     "output_type": "stream",
     "text": [
      "\n"
     ]
    },
    {
     "ename": "ValueError",
     "evalue": "cannot convert float NaN to integer",
     "output_type": "error",
     "traceback": [
      "\u001b[1;31m---------------------------------------------------------------------------\u001b[0m",
      "\u001b[1;31mValueError\u001b[0m                                Traceback (most recent call last)",
      "\u001b[1;32m<ipython-input-1-b727ce4493e1>\u001b[0m in \u001b[0;36m<module>\u001b[1;34m\u001b[0m\n\u001b[0;32m    222\u001b[0m \u001b[1;32mif\u001b[0m \u001b[0m__name__\u001b[0m \u001b[1;33m==\u001b[0m \u001b[1;34m'__main__'\u001b[0m\u001b[1;33m:\u001b[0m\u001b[1;33m\u001b[0m\u001b[1;33m\u001b[0m\u001b[0m\n\u001b[0;32m    223\u001b[0m     \u001b[1;32mtry\u001b[0m\u001b[1;33m:\u001b[0m\u001b[1;33m\u001b[0m\u001b[1;33m\u001b[0m\u001b[0m\n\u001b[1;32m--> 224\u001b[1;33m         \u001b[1;32mfor\u001b[0m \u001b[0mexample\u001b[0m \u001b[1;32min\u001b[0m \u001b[0mexamples\u001b[0m\u001b[1;33m:\u001b[0m \u001b[0mexample\u001b[0m\u001b[1;33m(\u001b[0m\u001b[1;33m)\u001b[0m\u001b[1;33m\u001b[0m\u001b[1;33m\u001b[0m\u001b[0m\n\u001b[0m\u001b[0;32m    225\u001b[0m     \u001b[1;32mexcept\u001b[0m \u001b[0mKeyboardInterrupt\u001b[0m\u001b[1;33m:\u001b[0m\u001b[1;33m\u001b[0m\u001b[1;33m\u001b[0m\u001b[0m\n\u001b[0;32m    226\u001b[0m         \u001b[0msys\u001b[0m\u001b[1;33m.\u001b[0m\u001b[0mstdout\u001b[0m\u001b[1;33m.\u001b[0m\u001b[0mwrite\u001b[0m\u001b[1;33m(\u001b[0m\u001b[1;34m'\\nQuitting examples.\\n'\u001b[0m\u001b[1;33m)\u001b[0m\u001b[1;33m\u001b[0m\u001b[1;33m\u001b[0m\u001b[0m\n",
      "\u001b[1;32m<ipython-input-1-b727ce4493e1>\u001b[0m in \u001b[0;36mwrapped\u001b[1;34m()\u001b[0m\n\u001b[0;32m     15\u001b[0m         \u001b[1;32mtry\u001b[0m\u001b[1;33m:\u001b[0m\u001b[1;33m\u001b[0m\u001b[1;33m\u001b[0m\u001b[0m\n\u001b[0;32m     16\u001b[0m             \u001b[0msys\u001b[0m\u001b[1;33m.\u001b[0m\u001b[0mstdout\u001b[0m\u001b[1;33m.\u001b[0m\u001b[0mwrite\u001b[0m\u001b[1;33m(\u001b[0m\u001b[1;34m'Running: %s\\n'\u001b[0m \u001b[1;33m%\u001b[0m \u001b[0mname\u001b[0m\u001b[1;33m)\u001b[0m\u001b[1;33m\u001b[0m\u001b[1;33m\u001b[0m\u001b[0m\n\u001b[1;32m---> 17\u001b[1;33m             \u001b[0mfn\u001b[0m\u001b[1;33m(\u001b[0m\u001b[1;33m)\u001b[0m\u001b[1;33m\u001b[0m\u001b[1;33m\u001b[0m\u001b[0m\n\u001b[0m\u001b[0;32m     18\u001b[0m             \u001b[0msys\u001b[0m\u001b[1;33m.\u001b[0m\u001b[0mstdout\u001b[0m\u001b[1;33m.\u001b[0m\u001b[0mwrite\u001b[0m\u001b[1;33m(\u001b[0m\u001b[1;34m'\\n'\u001b[0m\u001b[1;33m)\u001b[0m\u001b[1;33m\u001b[0m\u001b[1;33m\u001b[0m\u001b[0m\n\u001b[0;32m     19\u001b[0m         \u001b[1;32mexcept\u001b[0m \u001b[0mKeyboardInterrupt\u001b[0m\u001b[1;33m:\u001b[0m\u001b[1;33m\u001b[0m\u001b[1;33m\u001b[0m\u001b[0m\n",
      "\u001b[1;32m<ipython-input-1-b727ce4493e1>\u001b[0m in \u001b[0;36mexample20\u001b[1;34m()\u001b[0m\n\u001b[0;32m    212\u001b[0m                ' ', AdaptiveETA()]\n\u001b[0;32m    213\u001b[0m     \u001b[0mpbar\u001b[0m \u001b[1;33m=\u001b[0m \u001b[0mProgressBar\u001b[0m\u001b[1;33m(\u001b[0m\u001b[0mwidgets\u001b[0m\u001b[1;33m=\u001b[0m\u001b[0mwidgets\u001b[0m\u001b[1;33m,\u001b[0m \u001b[0mmaxval\u001b[0m\u001b[1;33m=\u001b[0m\u001b[0mUnknownLength\u001b[0m\u001b[1;33m)\u001b[0m\u001b[1;33m\u001b[0m\u001b[1;33m\u001b[0m\u001b[0m\n\u001b[1;32m--> 214\u001b[1;33m     \u001b[0mpbar\u001b[0m\u001b[1;33m.\u001b[0m\u001b[0mstart\u001b[0m\u001b[1;33m(\u001b[0m\u001b[1;33m)\u001b[0m\u001b[1;33m\u001b[0m\u001b[1;33m\u001b[0m\u001b[0m\n\u001b[0m\u001b[0;32m    215\u001b[0m     \u001b[1;32mfor\u001b[0m \u001b[0mi\u001b[0m \u001b[1;32min\u001b[0m \u001b[0mrange\u001b[0m\u001b[1;33m(\u001b[0m\u001b[1;36m20\u001b[0m\u001b[1;33m)\u001b[0m\u001b[1;33m:\u001b[0m\u001b[1;33m\u001b[0m\u001b[1;33m\u001b[0m\u001b[0m\n\u001b[0;32m    216\u001b[0m         \u001b[0mtime\u001b[0m\u001b[1;33m.\u001b[0m\u001b[0msleep\u001b[0m\u001b[1;33m(\u001b[0m\u001b[1;36m0.5\u001b[0m\u001b[1;33m)\u001b[0m\u001b[1;33m\u001b[0m\u001b[1;33m\u001b[0m\u001b[0m\n",
      "\u001b[1;32m~\\Anaconda3\\lib\\site-packages\\progressbar\\progressbar.py\u001b[0m in \u001b[0;36mstart\u001b[1;34m(self)\u001b[0m\n\u001b[0;32m    289\u001b[0m \u001b[1;33m\u001b[0m\u001b[0m\n\u001b[0;32m    290\u001b[0m         \u001b[0mself\u001b[0m\u001b[1;33m.\u001b[0m\u001b[0mstart_time\u001b[0m \u001b[1;33m=\u001b[0m \u001b[0mself\u001b[0m\u001b[1;33m.\u001b[0m\u001b[0mlast_update_time\u001b[0m \u001b[1;33m=\u001b[0m \u001b[0mtime\u001b[0m\u001b[1;33m.\u001b[0m\u001b[0mtime\u001b[0m\u001b[1;33m(\u001b[0m\u001b[1;33m)\u001b[0m\u001b[1;33m\u001b[0m\u001b[1;33m\u001b[0m\u001b[0m\n\u001b[1;32m--> 291\u001b[1;33m         \u001b[0mself\u001b[0m\u001b[1;33m.\u001b[0m\u001b[0mupdate\u001b[0m\u001b[1;33m(\u001b[0m\u001b[1;36m0\u001b[0m\u001b[1;33m)\u001b[0m\u001b[1;33m\u001b[0m\u001b[1;33m\u001b[0m\u001b[0m\n\u001b[0m\u001b[0;32m    292\u001b[0m \u001b[1;33m\u001b[0m\u001b[0m\n\u001b[0;32m    293\u001b[0m         \u001b[1;32mreturn\u001b[0m \u001b[0mself\u001b[0m\u001b[1;33m\u001b[0m\u001b[1;33m\u001b[0m\u001b[0m\n",
      "\u001b[1;32m~\\Anaconda3\\lib\\site-packages\\progressbar\\progressbar.py\u001b[0m in \u001b[0;36mupdate\u001b[1;34m(self, value)\u001b[0m\n\u001b[0;32m    260\u001b[0m         \u001b[0mself\u001b[0m\u001b[1;33m.\u001b[0m\u001b[0mseconds_elapsed\u001b[0m \u001b[1;33m=\u001b[0m \u001b[0mnow\u001b[0m \u001b[1;33m-\u001b[0m \u001b[0mself\u001b[0m\u001b[1;33m.\u001b[0m\u001b[0mstart_time\u001b[0m\u001b[1;33m\u001b[0m\u001b[1;33m\u001b[0m\u001b[0m\n\u001b[0;32m    261\u001b[0m         \u001b[0mself\u001b[0m\u001b[1;33m.\u001b[0m\u001b[0mnext_update\u001b[0m \u001b[1;33m=\u001b[0m \u001b[0mself\u001b[0m\u001b[1;33m.\u001b[0m\u001b[0mcurrval\u001b[0m \u001b[1;33m+\u001b[0m \u001b[0mself\u001b[0m\u001b[1;33m.\u001b[0m\u001b[0mupdate_interval\u001b[0m\u001b[1;33m\u001b[0m\u001b[1;33m\u001b[0m\u001b[0m\n\u001b[1;32m--> 262\u001b[1;33m         \u001b[0mself\u001b[0m\u001b[1;33m.\u001b[0m\u001b[0mfd\u001b[0m\u001b[1;33m.\u001b[0m\u001b[0mwrite\u001b[0m\u001b[1;33m(\u001b[0m\u001b[0mself\u001b[0m\u001b[1;33m.\u001b[0m\u001b[0m_format_line\u001b[0m\u001b[1;33m(\u001b[0m\u001b[1;33m)\u001b[0m \u001b[1;33m+\u001b[0m \u001b[1;34m'\\r'\u001b[0m\u001b[1;33m)\u001b[0m\u001b[1;33m\u001b[0m\u001b[1;33m\u001b[0m\u001b[0m\n\u001b[0m\u001b[0;32m    263\u001b[0m         \u001b[0mself\u001b[0m\u001b[1;33m.\u001b[0m\u001b[0mfd\u001b[0m\u001b[1;33m.\u001b[0m\u001b[0mflush\u001b[0m\u001b[1;33m(\u001b[0m\u001b[1;33m)\u001b[0m\u001b[1;33m\u001b[0m\u001b[1;33m\u001b[0m\u001b[0m\n\u001b[0;32m    264\u001b[0m         \u001b[0mself\u001b[0m\u001b[1;33m.\u001b[0m\u001b[0mlast_update_time\u001b[0m \u001b[1;33m=\u001b[0m \u001b[0mnow\u001b[0m\u001b[1;33m\u001b[0m\u001b[1;33m\u001b[0m\u001b[0m\n",
      "\u001b[1;32m~\\Anaconda3\\lib\\site-packages\\progressbar\\progressbar.py\u001b[0m in \u001b[0;36m_format_line\u001b[1;34m(self)\u001b[0m\n\u001b[0;32m    220\u001b[0m         \u001b[1;34m\"\"\"Joins the widgets and justifies the line.\"\"\"\u001b[0m\u001b[1;33m\u001b[0m\u001b[1;33m\u001b[0m\u001b[0m\n\u001b[0;32m    221\u001b[0m \u001b[1;33m\u001b[0m\u001b[0m\n\u001b[1;32m--> 222\u001b[1;33m         \u001b[0mwidgets\u001b[0m \u001b[1;33m=\u001b[0m \u001b[1;34m''\u001b[0m\u001b[1;33m.\u001b[0m\u001b[0mjoin\u001b[0m\u001b[1;33m(\u001b[0m\u001b[0mself\u001b[0m\u001b[1;33m.\u001b[0m\u001b[0m_format_widgets\u001b[0m\u001b[1;33m(\u001b[0m\u001b[1;33m)\u001b[0m\u001b[1;33m)\u001b[0m\u001b[1;33m\u001b[0m\u001b[1;33m\u001b[0m\u001b[0m\n\u001b[0m\u001b[0;32m    223\u001b[0m \u001b[1;33m\u001b[0m\u001b[0m\n\u001b[0;32m    224\u001b[0m         \u001b[1;32mif\u001b[0m \u001b[0mself\u001b[0m\u001b[1;33m.\u001b[0m\u001b[0mleft_justify\u001b[0m\u001b[1;33m:\u001b[0m \u001b[1;32mreturn\u001b[0m \u001b[0mwidgets\u001b[0m\u001b[1;33m.\u001b[0m\u001b[0mljust\u001b[0m\u001b[1;33m(\u001b[0m\u001b[0mself\u001b[0m\u001b[1;33m.\u001b[0m\u001b[0mterm_width\u001b[0m\u001b[1;33m)\u001b[0m\u001b[1;33m\u001b[0m\u001b[1;33m\u001b[0m\u001b[0m\n",
      "\u001b[1;32m~\\Anaconda3\\lib\\site-packages\\progressbar\\progressbar.py\u001b[0m in \u001b[0;36m_format_widgets\u001b[1;34m(self)\u001b[0m\n\u001b[0;32m    200\u001b[0m                 \u001b[0mexpanding\u001b[0m\u001b[1;33m.\u001b[0m\u001b[0minsert\u001b[0m\u001b[1;33m(\u001b[0m\u001b[1;36m0\u001b[0m\u001b[1;33m,\u001b[0m \u001b[0mindex\u001b[0m\u001b[1;33m)\u001b[0m\u001b[1;33m\u001b[0m\u001b[1;33m\u001b[0m\u001b[0m\n\u001b[0;32m    201\u001b[0m             \u001b[1;32melse\u001b[0m\u001b[1;33m:\u001b[0m\u001b[1;33m\u001b[0m\u001b[1;33m\u001b[0m\u001b[0m\n\u001b[1;32m--> 202\u001b[1;33m                 \u001b[0mwidget\u001b[0m \u001b[1;33m=\u001b[0m \u001b[0mwidgets\u001b[0m\u001b[1;33m.\u001b[0m\u001b[0mformat_updatable\u001b[0m\u001b[1;33m(\u001b[0m\u001b[0mwidget\u001b[0m\u001b[1;33m,\u001b[0m \u001b[0mself\u001b[0m\u001b[1;33m)\u001b[0m\u001b[1;33m\u001b[0m\u001b[1;33m\u001b[0m\u001b[0m\n\u001b[0m\u001b[0;32m    203\u001b[0m                 \u001b[0mresult\u001b[0m\u001b[1;33m.\u001b[0m\u001b[0mappend\u001b[0m\u001b[1;33m(\u001b[0m\u001b[0mwidget\u001b[0m\u001b[1;33m)\u001b[0m\u001b[1;33m\u001b[0m\u001b[1;33m\u001b[0m\u001b[0m\n\u001b[0;32m    204\u001b[0m                 \u001b[0mwidth\u001b[0m \u001b[1;33m-=\u001b[0m \u001b[0mlen\u001b[0m\u001b[1;33m(\u001b[0m\u001b[0mwidget\u001b[0m\u001b[1;33m)\u001b[0m\u001b[1;33m\u001b[0m\u001b[1;33m\u001b[0m\u001b[0m\n",
      "\u001b[1;32m~\\Anaconda3\\lib\\site-packages\\progressbar\\widgets.py\u001b[0m in \u001b[0;36mformat_updatable\u001b[1;34m(updatable, pbar)\u001b[0m\n\u001b[0;32m     37\u001b[0m \u001b[1;33m\u001b[0m\u001b[0m\n\u001b[0;32m     38\u001b[0m \u001b[1;32mdef\u001b[0m \u001b[0mformat_updatable\u001b[0m\u001b[1;33m(\u001b[0m\u001b[0mupdatable\u001b[0m\u001b[1;33m,\u001b[0m \u001b[0mpbar\u001b[0m\u001b[1;33m)\u001b[0m\u001b[1;33m:\u001b[0m\u001b[1;33m\u001b[0m\u001b[1;33m\u001b[0m\u001b[0m\n\u001b[1;32m---> 39\u001b[1;33m     \u001b[1;32mif\u001b[0m \u001b[0mhasattr\u001b[0m\u001b[1;33m(\u001b[0m\u001b[0mupdatable\u001b[0m\u001b[1;33m,\u001b[0m \u001b[1;34m'update'\u001b[0m\u001b[1;33m)\u001b[0m\u001b[1;33m:\u001b[0m \u001b[1;32mreturn\u001b[0m \u001b[0mupdatable\u001b[0m\u001b[1;33m.\u001b[0m\u001b[0mupdate\u001b[0m\u001b[1;33m(\u001b[0m\u001b[0mpbar\u001b[0m\u001b[1;33m)\u001b[0m\u001b[1;33m\u001b[0m\u001b[1;33m\u001b[0m\u001b[0m\n\u001b[0m\u001b[0;32m     40\u001b[0m     \u001b[1;32melse\u001b[0m\u001b[1;33m:\u001b[0m \u001b[1;32mreturn\u001b[0m \u001b[0mupdatable\u001b[0m\u001b[1;33m\u001b[0m\u001b[1;33m\u001b[0m\u001b[0m\n\u001b[0;32m     41\u001b[0m \u001b[1;33m\u001b[0m\u001b[0m\n",
      "\u001b[1;32m~\\Anaconda3\\lib\\site-packages\\progressbar\\widgets.py\u001b[0m in \u001b[0;36mupdate\u001b[1;34m(self, pbar)\u001b[0m\n\u001b[0;32m    228\u001b[0m \u001b[1;33m\u001b[0m\u001b[0m\n\u001b[0;32m    229\u001b[0m     \u001b[1;32mdef\u001b[0m \u001b[0mupdate\u001b[0m\u001b[1;33m(\u001b[0m\u001b[0mself\u001b[0m\u001b[1;33m,\u001b[0m \u001b[0mpbar\u001b[0m\u001b[1;33m)\u001b[0m\u001b[1;33m:\u001b[0m\u001b[1;33m\u001b[0m\u001b[1;33m\u001b[0m\u001b[0m\n\u001b[1;32m--> 230\u001b[1;33m         \u001b[1;32mreturn\u001b[0m \u001b[1;34m'%3d%%'\u001b[0m \u001b[1;33m%\u001b[0m \u001b[0mpbar\u001b[0m\u001b[1;33m.\u001b[0m\u001b[0mpercentage\u001b[0m\u001b[1;33m(\u001b[0m\u001b[1;33m)\u001b[0m\u001b[1;33m\u001b[0m\u001b[1;33m\u001b[0m\u001b[0m\n\u001b[0m\u001b[0;32m    231\u001b[0m \u001b[1;33m\u001b[0m\u001b[0m\n\u001b[0;32m    232\u001b[0m \u001b[1;33m\u001b[0m\u001b[0m\n",
      "\u001b[1;31mValueError\u001b[0m: cannot convert float NaN to integer"
     ]
    }
   ],
   "source": [
    "import sys\n",
    "import time\n",
    "\n",
    "from progressbar import AnimatedMarker, Bar, BouncingBar, Counter, ETA, \\\n",
    "    AdaptiveETA, FileTransferSpeed, FormatLabel, Percentage, \\\n",
    "    ProgressBar, ReverseBar, RotatingMarker, \\\n",
    "    SimpleProgress, Timer, UnknownLength\n",
    "\n",
    "examples = []\n",
    "def example(fn):\n",
    "    try: name = 'Example %d' % int(fn.__name__[7:])\n",
    "    except: name = fn.__name__\n",
    "\n",
    "    def wrapped():\n",
    "        try:\n",
    "            sys.stdout.write('Running: %s\\n' % name)\n",
    "            fn()\n",
    "            sys.stdout.write('\\n')\n",
    "        except KeyboardInterrupt:\n",
    "            sys.stdout.write('\\nSkipping example.\\n\\n')\n",
    "\n",
    "    examples.append(wrapped)\n",
    "    return wrapped\n",
    "\n",
    "@example\n",
    "def example0():\n",
    "    pbar = ProgressBar(widgets=[Percentage(), Bar()], maxval=300).start()\n",
    "    for i in range(300):\n",
    "        time.sleep(0.01)\n",
    "        pbar.update(i+1)\n",
    "    pbar.finish()\n",
    "\n",
    "@example\n",
    "def example1():\n",
    "    widgets = ['Test: ', Percentage(), ' ', Bar(marker=RotatingMarker()),\n",
    "               ' ', ETA(), ' ', FileTransferSpeed()]\n",
    "    pbar = ProgressBar(widgets=widgets, maxval=10000000).start()\n",
    "    for i in range(1000000):\n",
    "        # do something\n",
    "        pbar.update(10*i+1)\n",
    "    pbar.finish()\n",
    "\n",
    "@example\n",
    "def example2():\n",
    "    class CrazyFileTransferSpeed(FileTransferSpeed):\n",
    "        \"\"\"It's bigger between 45 and 80 percent.\"\"\"\n",
    "        def update(self, pbar):\n",
    "            if 45 < pbar.percentage() < 80:\n",
    "                return 'Bigger Now ' + FileTransferSpeed.update(self,pbar)\n",
    "            else:\n",
    "                return FileTransferSpeed.update(self,pbar)\n",
    "\n",
    "    widgets = [CrazyFileTransferSpeed(),' <<<', Bar(), '>>> ',\n",
    "               Percentage(),' ', ETA()]\n",
    "    pbar = ProgressBar(widgets=widgets, maxval=10000000)\n",
    "    # maybe do something\n",
    "    pbar.start()\n",
    "    for i in range(2000000):\n",
    "        # do something\n",
    "        pbar.update(5*i+1)\n",
    "    pbar.finish()\n",
    "\n",
    "@example\n",
    "def example3():\n",
    "    widgets = [Bar('>'), ' ', ETA(), ' ', ReverseBar('<')]\n",
    "    pbar = ProgressBar(widgets=widgets, maxval=10000000).start()\n",
    "    for i in range(1000000):\n",
    "        # do something\n",
    "        pbar.update(10*i+1)\n",
    "    pbar.finish()\n",
    "\n",
    "@example\n",
    "def example4():\n",
    "    widgets = ['Test: ', Percentage(), ' ',\n",
    "               Bar(marker='0',left='[',right=']'),\n",
    "               ' ', ETA(), ' ', FileTransferSpeed()]\n",
    "    pbar = ProgressBar(widgets=widgets, maxval=500)\n",
    "    pbar.start()\n",
    "    for i in range(100,500+1,50):\n",
    "        time.sleep(0.2)\n",
    "        pbar.update(i)\n",
    "    pbar.finish()\n",
    "\n",
    "@example\n",
    "def example5():\n",
    "    pbar = ProgressBar(widgets=[SimpleProgress()], maxval=17).start()\n",
    "    for i in range(17):\n",
    "        time.sleep(0.2)\n",
    "        pbar.update(i + 1)\n",
    "    pbar.finish()\n",
    "\n",
    "@example\n",
    "def example6():\n",
    "    pbar = ProgressBar().start()\n",
    "    for i in range(100):\n",
    "        time.sleep(0.01)\n",
    "        pbar.update(i + 1)\n",
    "    pbar.finish()\n",
    "\n",
    "@example\n",
    "def example7():\n",
    "    pbar = ProgressBar()  # Progressbar can guess maxval automatically.\n",
    "    for i in pbar(range(80)):\n",
    "        time.sleep(0.01)\n",
    "\n",
    "@example\n",
    "def example8():\n",
    "    pbar = ProgressBar(maxval=80)  # Progressbar can't guess maxval.\n",
    "    for i in pbar((i for i in range(80))):\n",
    "        time.sleep(0.01)\n",
    "\n",
    "@example\n",
    "def example9():\n",
    "    pbar = ProgressBar(widgets=['Working: ', AnimatedMarker()])\n",
    "    for i in pbar((i for i in range(50))):\n",
    "        time.sleep(.08)\n",
    "\n",
    "@example\n",
    "def example10():\n",
    "    widgets = ['Processed: ', Counter(), ' lines (', Timer(), ')']\n",
    "    pbar = ProgressBar(widgets=widgets)\n",
    "    for i in pbar((i for i in range(150))):\n",
    "        time.sleep(0.1)\n",
    "\n",
    "@example\n",
    "def example11():\n",
    "    widgets = [FormatLabel('Processed: %(value)d lines (in: %(elapsed)s)')]\n",
    "    pbar = ProgressBar(widgets=widgets)\n",
    "    for i in pbar((i for i in range(150))):\n",
    "        time.sleep(0.1)\n",
    "\n",
    "@example\n",
    "def example12():\n",
    "    widgets = ['Balloon: ', AnimatedMarker(markers='.oO@* ')]\n",
    "    pbar = ProgressBar(widgets=widgets)\n",
    "    for i in pbar((i for i in range(24))):\n",
    "        time.sleep(0.3)\n",
    "\n",
    "@example\n",
    "def example13():\n",
    "    # You may need python 3.x to see this correctly\n",
    "    try:\n",
    "        widgets = ['Arrows: ', AnimatedMarker(markers='←↖↑↗→↘↓↙')]\n",
    "        pbar = ProgressBar(widgets=widgets)\n",
    "        for i in pbar((i for i in range(24))):\n",
    "            time.sleep(0.3)\n",
    "    except UnicodeError: sys.stdout.write('Unicode error: skipping example')\n",
    "\n",
    "@example\n",
    "def example14():\n",
    "    # You may need python 3.x to see this correctly\n",
    "    try:\n",
    "        widgets = ['Arrows: ', AnimatedMarker(markers='◢◣◤◥')]\n",
    "        pbar = ProgressBar(widgets=widgets)\n",
    "        for i in pbar((i for i in range(24))):\n",
    "            time.sleep(0.3)\n",
    "    except UnicodeError: sys.stdout.write('Unicode error: skipping example')\n",
    "\n",
    "@example\n",
    "def example15():\n",
    "    # You may need python 3.x to see this correctly\n",
    "    try:\n",
    "        widgets = ['Wheels: ', AnimatedMarker(markers='◐◓◑◒')]\n",
    "        pbar = ProgressBar(widgets=widgets)\n",
    "        for i in pbar((i for i in range(24))):\n",
    "            time.sleep(0.3)\n",
    "    except UnicodeError: sys.stdout.write('Unicode error: skipping example')\n",
    "\n",
    "@example\n",
    "def example16():\n",
    "    widgets = [FormatLabel('Bouncer: value %(value)d - '), BouncingBar()]\n",
    "    pbar = ProgressBar(widgets=widgets)\n",
    "    for i in pbar((i for i in range(180))):\n",
    "        time.sleep(0.05)\n",
    "\n",
    "@example\n",
    "def example17():\n",
    "    widgets = [FormatLabel('Animated Bouncer: value %(value)d - '),\n",
    "               BouncingBar(marker=RotatingMarker())]\n",
    "\n",
    "    pbar = ProgressBar(widgets=widgets)\n",
    "    for i in pbar((i for i in range(180))):\n",
    "        time.sleep(0.05)\n",
    "\n",
    "@example\n",
    "def example18():\n",
    "    widgets = [Percentage(),\n",
    "               ' ', Bar(),\n",
    "               ' ', ETA(),\n",
    "               ' ', AdaptiveETA()]\n",
    "    pbar = ProgressBar(widgets=widgets, maxval=500)\n",
    "    pbar.start()\n",
    "    for i in range(500):\n",
    "        time.sleep(0.01 + (i < 100) * 0.01 + (i > 400) * 0.9)\n",
    "        pbar.update(i + 1)\n",
    "    pbar.finish()\n",
    "\n",
    "@example\n",
    "def example19():\n",
    "  pbar = ProgressBar()\n",
    "  for i in pbar([]):\n",
    "    pass\n",
    "  pbar.finish()\n",
    "\n",
    "@example\n",
    "def example20():\n",
    "    \"\"\"Widgets that behave differently when length is unknown\"\"\"\n",
    "    widgets = ['[When length is unknown at first]',\n",
    "               ' Progress: ', SimpleProgress(),\n",
    "               ', Percent: ', Percentage(),\n",
    "               ' ', ETA(),\n",
    "               ' ', AdaptiveETA()]\n",
    "    pbar = ProgressBar(widgets=widgets, maxval=UnknownLength)\n",
    "    pbar.start()\n",
    "    for i in range(20):\n",
    "        time.sleep(0.5)\n",
    "        if i == 10:\n",
    "            pbar.maxval = 20\n",
    "        pbar.update(i + 1)\n",
    "    pbar.finish()\n",
    "\n",
    "if __name__ == '__main__':\n",
    "    try:\n",
    "        for example in examples: example()\n",
    "    except KeyboardInterrupt:\n",
    "        sys.stdout.write('\\nQuitting examples.\\n')"
   ]
  },
  {
   "cell_type": "code",
   "execution_count": null,
   "metadata": {},
   "outputs": [],
   "source": []
  }
 ],
 "metadata": {
  "kernelspec": {
   "display_name": "Python 3",
   "language": "python",
   "name": "python3"
  }
 },
 "nbformat": 4,
 "nbformat_minor": 2
}
