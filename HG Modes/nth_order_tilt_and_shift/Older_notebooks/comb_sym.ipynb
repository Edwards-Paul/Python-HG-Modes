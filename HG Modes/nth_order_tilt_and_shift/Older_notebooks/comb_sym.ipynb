{
 "cells": [
  {
   "cell_type": "markdown",
   "metadata": {},
   "source": [
    "$-2*K**2*a**2*b*x**3/(R*w**2) + 4*K**2*a*b**2*x**3*z/(R*w**2) - K**2*a*b*x**2/R - 2*K**2*b**3*x**3*z**2/(R*w**2) + K**2*b**2*x**2*z/R + 2*I*K*a*b*x**2/w**2 - 2*I*K*b**2*x**2*z/w**2 + I*K*b*x + 2*I*K*a**2*x**2/(R*w**2) - 4*I*K*a*b*x**2*z/(R*w**2) + I*K*a*x/R + 2*I*K*b**2*x**2*z**2/(R*w**2) - I*K*b*x*z/R + 2*a*x/w**2 - 2*b*x*z/w**2 + 1$"
   ]
  },
  {
   "cell_type": "code",
   "execution_count": 1,
   "metadata": {},
   "outputs": [],
   "source": [
    "from sympy.parsing import mathematica as mc\n",
    "from numpy import sin as sin\n",
    "import re\n",
    "import PauLisa as pl, PL_Plot as plplt,plback as plb, Tophat_integration_AW as th, numpy as np, matplotlib.pyplot as plt, cmath as cm\n",
    "#import signals_calc as sig\n",
    "\n",
    "from numpy import pi as pi\n",
    "from numpy import angle\n",
    "#from numpy import sqrt as sqrt\n",
    "from scipy.special import erf as erf\n",
    "import mpmath as mp\n",
    "import scipy.io\n",
    "\n",
    "from math import pi, log, exp, sin, cos, atan, e, radians, degrees\n",
    "from scipy.special import gamma as gamma\n",
    "from scipy.special import erf as erf\n",
    "from scipy.special import comb\n",
    "\n",
    "from math import factorial as fac\n",
    "import cmath\n",
    "from cmath import sqrt as sqrt\n",
    "import numpy as np\n",
    "\n",
    "from time import process_time\n",
    "\n",
    "inf=np.inf\n",
    "\n",
    "import pandas as pd\n",
    "from pprint import pprint\n",
    "from copy import copy as cp"
   ]
  },
  {
   "cell_type": "code",
   "execution_count": null,
   "metadata": {},
   "outputs": [],
   "source": []
  }
 ],
 "metadata": {
  "kernelspec": {
   "display_name": "Python 3",
   "language": "python",
   "name": "python3"
  },
  "language_info": {
   "codemirror_mode": {
    "name": "ipython",
    "version": 3
   },
   "file_extension": ".py",
   "mimetype": "text/x-python",
   "name": "python",
   "nbconvert_exporter": "python",
   "pygments_lexer": "ipython3",
   "version": "3.7.3"
  }
 },
 "nbformat": 4,
 "nbformat_minor": 2
}
