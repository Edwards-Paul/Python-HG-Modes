{
 "cells": [
  {
   "cell_type": "markdown",
   "metadata": {},
   "source": [
    "# Write all mathematica files to a file of x_p_matrix's of terms"
   ]
  },
  {
   "cell_type": "code",
   "execution_count": 1,
   "metadata": {},
   "outputs": [],
   "source": [
    "#  Automated import\n",
    "import sys\n",
    "import os\n",
    "sys.path.append('..')\n",
    "\n",
    "from hg_scripts.setup_imports import *\n",
    "import ast\n"
   ]
  },
  {
   "cell_type": "code",
   "execution_count": 2,
   "metadata": {},
   "outputs": [
    {
     "name": "stdout",
     "output_type": "stream",
     "text": [
      "1_shift_1_tilt\n",
      "1_shift_2_tilt\n",
      "1_shift_3_tilt\n",
      "1_shift_4_tilt\n",
      "1_shift_5_tilt\n",
      "1_shift_6_tilt\n",
      "1_shift_7_tilt\n",
      "1_shift_8_tilt\n",
      "2_shift_1_tilt\n",
      "2_shift_2_tilt\n",
      "2_shift_3_tilt\n",
      "2_shift_4_tilt\n",
      "2_shift_5_tilt\n",
      "2_shift_6_tilt\n",
      "2_shift_7_tilt\n",
      "2_shift_8_tilt\n",
      "3_shift_1_tilt\n",
      "3_shift_2_tilt\n",
      "3_shift_3_tilt\n",
      "3_shift_4_tilt\n",
      "3_shift_5_tilt\n",
      "3_shift_6_tilt\n",
      "3_shift_7_tilt\n",
      "3_shift_8_tilt\n",
      "4_shift_1_tilt\n",
      "4_shift_2_tilt\n",
      "4_shift_3_tilt\n",
      "4_shift_4_tilt\n",
      "4_shift_5_tilt\n",
      "4_shift_6_tilt\n",
      "4_shift_7_tilt\n",
      "4_shift_8_tilt\n",
      "5_shift_1_tilt\n",
      "5_shift_2_tilt\n",
      "5_shift_3_tilt\n",
      "5_shift_4_tilt\n",
      "5_shift_5_tilt\n",
      "5_shift_6_tilt\n",
      "5_shift_7_tilt\n",
      "5_shift_8_tilt\n",
      "6_shift_1_tilt\n",
      "6_shift_2_tilt\n",
      "6_shift_3_tilt\n",
      "6_shift_4_tilt\n",
      "6_shift_5_tilt\n",
      "6_shift_6_tilt\n",
      "6_shift_7_tilt\n",
      "6_shift_8_tilt\n",
      "7_shift_1_tilt\n",
      "7_shift_2_tilt\n",
      "7_shift_3_tilt\n",
      "7_shift_4_tilt\n",
      "7_shift_5_tilt\n",
      "7_shift_6_tilt\n",
      "7_shift_7_tilt\n",
      "7_shift_8_tilt\n",
      "8_shift_1_tilt\n",
      "8_shift_2_tilt\n",
      "8_shift_3_tilt\n",
      "8_shift_4_tilt\n",
      "8_shift_5_tilt\n",
      "8_shift_6_tilt\n",
      "8_shift_7_tilt\n",
      "8_shift_8_tilt\n"
     ]
    }
   ],
   "source": [
    "max_shift = 8\n",
    "max_tilt = 8\n",
    "\n",
    "dict_of_x_p_matrix = {}\n",
    "\n",
    "for i in range(1,max_shift+1):\n",
    "    for j in range(1,max_tilt+1):\n",
    "        key = str(i)+\"_shift_\"+str(j)+\"_tilt\"\n",
    "        print(key)\n",
    "        dict_of_x_p_matrix[key] = parse_math_for_python(i,j)\n",
    "        #write to file\n",
    "\n",
    "\n"
   ]
  },
  {
   "cell_type": "code",
   "execution_count": 3,
   "metadata": {},
   "outputs": [],
   "source": [
    "f = open( 'inputs/x_p_file', 'w' )\n",
    "f.write(str(dict_of_x_p_matrix))\n",
    "f.close()"
   ]
  },
  {
   "cell_type": "code",
   "execution_count": 4,
   "metadata": {},
   "outputs": [
    {
     "name": "stdout",
     "output_type": "stream",
     "text": [
      "[['+1+-a*b*j*K+(a*b*j*K*z)/R+(2*a*b*z)/w**2', '+-(2*a*p*Sqrt(Factorial(n)/Factorial(n-1)))/w+(2*b*p*z*Sqrt(Factorial(n)/Factorial(n-1)))/w', '+-(4*a*b*p**2*z*Sqrt(Factorial(n)/Factorial(n-2)))/w**2'], ['+b*j*K*x+(a*j*K*x)/R+(2*a*x)/w**2+-(b*j*K*x*z)/R+-(2*b*x*z)/w**2', '+-(2*a*b*j*K*p*x*Sqrt(Factorial(n)/Factorial(n-1)))/w+(8*a*b*p*x*z*Sqrt(Factorial(n)/Factorial(n-1)))/w**3+(4*a*b*j*K*p*x*z*Sqrt(Factorial(n)/Factorial(n-1)))/(R*w)', ''], ['+(a*b*j**2*K**2*x**2)/R+(2*a*b*j*K*x**2)/w**2+-(a*b*j**2*K**2*x**2*z)/R**2+-(4*a*b*x**2*z)/w**4+-(4*a*b*j*K*x**2*z)/(R*w**2)', '', '']]\n"
     ]
    }
   ],
   "source": [
    "file = open(\"inputs/x_p_file\", \"r\")\n",
    "\n",
    "contents = file.read()\n",
    "dictionary = ast.literal_eval(contents)\n",
    "\n",
    "file.close()\n",
    "print(dictionary['1_shift_1_tilt'])"
   ]
  },
  {
   "cell_type": "code",
   "execution_count": 5,
   "metadata": {},
   "outputs": [
    {
     "name": "stdout",
     "output_type": "stream",
     "text": [
      "['+1+-a*b*K+(a*b*K*z)/R+(2*a*b*z)/w**2', '+-(2*a*p*Sqrt(Factorial(n)/Factorial(n-1)))/w+(2*b*p*z*Sqrt(Factorial(n)/Factorial(n-1)))/w', '+-(4*a*b*p**2*z*Sqrt(Factorial(n)/Factorial(n-2)))/w**2']\n",
      "['+b*K*x+(a*K*x)/R+(2*a*x)/w**2+-(b*K*x*z)/R+-(2*b*x*z)/w**2', '+-(2*a*b*K*p*x*Sqrt(Factorial(n)/Factorial(n-1)))/w+(8*a*b*p*x*z*Sqrt(Factorial(n)/Factorial(n-1)))/w**3+(4*a*b*K*p*x*z*Sqrt(Factorial(n)/Factorial(n-1)))/(R*w)', '']\n",
      "['+(a*b*K**2*x**2)/R+(2*a*b*K*x**2)/w**2+-(a*b*K**2*x**2*z)/R**2+-(4*a*b*x**2*z)/w**4+-(4*a*b*K*x**2*z)/(R*w**2)', '', '']\n"
     ]
    }
   ],
   "source": [
    "ok = (dictionary['1_shift_1_tilt'])\n",
    "for i in ok:\n",
    "    print(i)"
   ]
  },
  {
   "cell_type": "code",
   "execution_count": null,
   "metadata": {},
   "outputs": [],
   "source": []
  }
 ],
 "metadata": {
  "kernelspec": {
   "display_name": "Python 3",
   "language": "python",
   "name": "python3"
  },
  "language_info": {
   "codemirror_mode": {
    "name": "ipython",
    "version": 3
   },
   "file_extension": ".py",
   "mimetype": "text/x-python",
   "name": "python",
   "nbconvert_exporter": "python",
   "pygments_lexer": "ipython3",
   "version": "3.7.3"
  }
 },
 "nbformat": 4,
 "nbformat_minor": 2
}
