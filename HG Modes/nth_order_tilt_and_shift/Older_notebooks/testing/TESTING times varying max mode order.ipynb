{
 "cells": [
  {
   "cell_type": "markdown",
   "metadata": {},
   "source": [
    "# vary tophat max mode order and get times"
   ]
  },
  {
   "cell_type": "code",
   "execution_count": 1,
   "metadata": {},
   "outputs": [],
   "source": [
    "#  Automated import\n",
    "import sys\n",
    "import os\n",
    "sys.path.append('..')\n",
    "\n",
    "from hg_scripts.setup_imports import *\n",
    "\n"
   ]
  },
  {
   "cell_type": "code",
   "execution_count": 2,
   "metadata": {},
   "outputs": [],
   "source": [
    "#expansion orders\n",
    "sh_order = 1\n",
    "ti_order = 5\n",
    "\n",
    "#terms in xp matrix\n",
    "xpfile = dict_from_xpfile('x_p_file')\n",
    "sols_matrix = xpfile[str(sh_order)+'_shift_'+str(ti_order)+'_tilt']\n",
    "# print(sols_matrix)\n",
    "xpfile.clear()"
   ]
  },
  {
   "cell_type": "code",
   "execution_count": 3,
   "metadata": {},
   "outputs": [
    {
     "name": "stderr",
     "output_type": "stream",
     "text": [
      "..\\hg_scripts\\transverse_coord_transform.py:142: RuntimeWarning: invalid value encountered in sqrt\n",
      "  item.n_coeff += \"*\"+str(Sqrt(item.N+1))\n"
     ]
    }
   ],
   "source": [
    "xtran_file = build_symbolic_dictionary(n_max=40,p_max=10,x_max=10)"
   ]
  },
  {
   "cell_type": "code",
   "execution_count": 4,
   "metadata": {},
   "outputs": [],
   "source": [
    "th_coeff_fn = 'paul_coef_file.mat'\n",
    "waist = (1/3)*1e-3\n",
    "modes_list = []\n",
    "max_order = np.arange(0,35,1)\n",
    "\n",
    "for i in max_order:\n",
    "    modes_list.append(truncated_tophat(th_coeff_fn,waist,i))\n"
   ]
  },
  {
   "cell_type": "code",
   "execution_count": 5,
   "metadata": {},
   "outputs": [],
   "source": [
    "#represents the sums\n",
    "def update_modes (z,params,a,b,modes,sols_matrix):\n",
    "    #get params\n",
    "    K = params.getK()\n",
    "    w0 = params.getW0()\n",
    "    zr = params.getZr()\n",
    "    w = pl.w(z,params)\n",
    "    gouy = pl.gouy_phase(z,params) \n",
    "    R = pl.radius_curvature(z,params)\n",
    "    \n",
    "    #build new modes (up to 2 orders larger for quad. dep.)\n",
    "    rows = len(modes)\n",
    "    cols = len(modes[0])  \n",
    "    number_modes = rows*cols\n",
    "    exp_order = len(sols_matrix)\n",
    "    new_modes = [[0 for m in range(cols+exp_order)] for n in range(rows+exp_order)]\n",
    "    \n",
    "    #placeholders\n",
    "    x=1\n",
    "    j=1j\n",
    "    p=e**(1j*gouy)\n",
    "    \n",
    "    #calculate all coupling factors a->e\\d\n",
    "       \n",
    "    for n in range(len(modes)):\n",
    "        for m in range(len(modes[n])):\n",
    "            if (modes[n][m]!=0): #break if c_nm = 0\n",
    "                c_nm = modes[n][m] #assign c_nm\n",
    "\n",
    "                for x_order in range(len(sols_matrix[0])):\n",
    "                    for p_order in range(len(sols_matrix)):\n",
    "                        if(sols_matrix[x_order][p_order]!='' and (p_order<=n) ):\n",
    "                            #append each element in x,p matrix to coupling list\n",
    "                            coupling = eval(sols_matrix[x_order][p_order])*(p**(p_order))\n",
    "                            \n",
    "                            if(x_order>0):\n",
    "                                key = 'n'+str(n)+'p'+str(p_order)+'x'+str(x_order)\n",
    "                                q = xtran_file[key]\n",
    "                                #print(n_start,x_order)\n",
    "                                #empty the q\n",
    "                                for item in q:\n",
    "                                    X = eval(item.overall) #just x coupling\n",
    "                                    N = item.N #final n order\n",
    "                                    #print(\"N,x_order,p_order,n,m\",N,x_order,p_order,n,m)\n",
    "                                    if(N>=0):\n",
    "                                        new_modes[N][m]+= c_nm*coupling*X\n",
    "\n",
    "                            #N is either n or n-p_order, no x-dependence\n",
    "                            else:\n",
    "                                N= n-p_order\n",
    "                                #print(\"N,x_order,p_order,n,m\",N,x_order,p_order,n,m)\n",
    "                                new_modes[N][m]+= c_nm*coupling                            \n",
    "# return(new_modes,ind_list)\n",
    "    return(new_modes)"
   ]
  },
  {
   "cell_type": "code",
   "execution_count": 6,
   "metadata": {},
   "outputs": [],
   "source": [
    "#loop through and sum over modes overlap where a,b -> n,m\n",
    "def iterate_modes_overlap(w_1,w_2,zR_1,zR_2,k_1,k_2,d_1,W_2,x_1,x_2,Z,Y,modes,s):   \n",
    "\n",
    "    N = len(modes)\n",
    "    M = len(modes[0])\n",
    "    res_arr = [[0 for i in range(10)] for j in range(10)]\n",
    "    res = 0\n",
    "\n",
    "    for a in range(N):\n",
    "        for b in range(M):            \n",
    "            #ignore zero coeff.\n",
    "            if (modes[a][b]!=0):\n",
    "                c_nm = modes[a][b]\n",
    "                #result is the sum of all overlap coefficients each with a factor of mode coefficient\n",
    "                res += ( c_nm * th.overlap(a,b,w_1,w_2,zR_1,zR_2,k_1,k_2,d_1,W_2,x_1,x_2,Z,Y,s) )\n",
    "                \n",
    "    return(res)"
   ]
  },
  {
   "cell_type": "code",
   "execution_count": 7,
   "metadata": {},
   "outputs": [],
   "source": [
    "\n",
    "\n",
    "def signals(v,modes):\n",
    "    #points determine size of arrays (equivalent to # data points plotted)\n",
    "    points = v.points\n",
    "    time_start = process_time()\n",
    "\n",
    "    time_ave1 = 0\n",
    "    time_ave2 = 0\n",
    "    \n",
    "    s= (\n",
    "        1/(v.w_1**2 *(1+(1j)*v.d_1/v.zR_1))\n",
    "        +\n",
    "        1/((v.w_2**2 *(1-(1j)*v.Z/v.zR_2)))\n",
    "    )\n",
    "\n",
    "    #modes_arr = [0]*points\n",
    "    cl = [0]*points\n",
    "    cr = [0]*points\n",
    "    phi_l = [0]*points\n",
    "    phi_r = [0]*points\n",
    "    dws = [0]*points\n",
    "    lps = [0]*points\n",
    "    total_lps = [0]*points\n",
    "\n",
    "\n",
    "    #alpha_arr = np.linspace(-500e-6,500e-6,points)\n",
    "    \n",
    "\n",
    "#     pbar = ProgressBar(widgets=[Percentage(), Bar()], maxval=points).start()\n",
    "\n",
    "    \n",
    "    \n",
    "    for p in range(points):\n",
    "        time_ave_start1 = process_time()\n",
    "        #shift x+zsina\n",
    "        new_modes = update_modes(v.z,v.params,v.a,v.alpha_arr[p],modes,sols_matrix)\n",
    "        \n",
    "        time_ave_start2 = process_time()\n",
    "        #create arrays of overlap coefficients left and right\n",
    "        cl[p] = iterate_modes_overlap(v.w_1,v.w_2,v.zR_1,v.zR_2,v.k_1,v.k_2,v.d_1,v.W_2,v.x_1L,v.x_2L,v.Z,v.Y,new_modes,s) # left overlap (-2e-3,0)\n",
    "\n",
    "        cr[p] = iterate_modes_overlap(v.w_1,v.w_2,v.zR_1,v.zR_2,v.k_1,v.k_2,v.d_1,v.W_2,v.x_1R,v.x_2R,v.Z,v.Y,new_modes,s) # right overlap (0,2e-3)\n",
    "        time_ave1 += (process_time()-time_ave_start1)\n",
    "        time_ave2 += (process_time()-time_ave_start2)\n",
    "\n",
    "        #create arrays of phases for left and right coeff.\n",
    "        phi_r[p]=angle(cr[p])\n",
    "        phi_l[p]=angle(cl[p])\n",
    "        \n",
    "        #create arrays of dws &lps for phases in phase arrays\n",
    "        dws[p] = (phi_r[p]-phi_l[p])\n",
    "        lps[p] = 0.5*(phi_r[p]+phi_l[p])/v.k_1\n",
    "        total_lps[p] = angle(cr[p]+cl[p])/v.k_1\n",
    "        \n",
    "#         pbar.update(p+1)\n",
    "        \n",
    "#     pbar.finish()\n",
    "    \n",
    "    #total time for all DWS & LPS points (not including scattering)\n",
    "    time_elapsed = (process_time() - time_start)\n",
    "#     print(time_elapsed,'s')\n",
    "    print(time_ave1/p,'s',time_ave2/p,'s')\n",
    "    \n",
    "    return(dws,lps,total_lps)\n",
    "\n",
    "num=10\n",
    "waist = (1/3)*1e-3\n",
    "# waist = 1e-3\n",
    "\n",
    "class Vars:\n",
    "#modes,alpha with points\n",
    "    def __init__(self, \n",
    "                 lam=1064e-9,\n",
    "                 z_PD=10e-3,z=10e-3,\n",
    "                 z_m=0,Z=10e-3,\n",
    "                 z_LO=0, d_1=10e-3,\n",
    "#                  z_PD=0,z=0,\n",
    "#                  z_m=0,Z=0,\n",
    "#                  z_LO=0, d_1=0,\n",
    "                 Y=20e-3,\n",
    "                 x_1R=10e-6,x_2R=20e-3,\n",
    "                 x_1L=-20e-3,x_2L=-10e-6,\n",
    "                 w_1=1e-3, w_2=waist,\n",
    "                 zR_1=pi*1e-3**2/1064e-9,zR_2=pi*waist**2/1064e-9,\n",
    "                 k_1=5905249.348852994,k_2=5905249.348852994,\n",
    "                 params=pl.Params(1064e-9,waist,0),\n",
    "                 W_2=1e-3,\n",
    "                 points=num,\n",
    "                 a=10e-6,alpha_arr=np.linspace(-500e-6,500e-6,num),modes_arr=[0]*num):\n",
    "        self.lam = lam\n",
    "\n",
    "\n",
    "        self.z_PD = z_PD #PD location\n",
    "        self.z = z #prop distance assumed PD\n",
    "\n",
    "        self.z_m = z_m #meas beam \n",
    "        self.Z = Z #distance PD-m\n",
    "\n",
    "        self.z_LO = z_LO #Local ref. beam\n",
    "        self.d_1 = d_1 #distance PD-LO\n",
    "\n",
    "\n",
    "        self.Y = Y #Y int bound\n",
    "\n",
    "        self.x_1R = x_1R\n",
    "        self.x_2R = x_2R \n",
    "\n",
    "        self.x_1L = x_1L #assumed symmetric with right side\n",
    "        self.x_2L = x_2L\n",
    "\n",
    "        self.w_1 = w_1 #waist LO \n",
    "        self.w_2 = w_2 #waist MS\n",
    "\n",
    "        self.zR_1 = zR_1 #rayleigh LO\n",
    "        self.zR_2 = zR_2\n",
    "\n",
    "\n",
    "        self.k_1 = k_1 #wavenum LO\n",
    "        self.k_2 = k_2\n",
    "\n",
    "        self.params = params #for building tophat coefficients\n",
    "\n",
    "        self.W_2 = pl.w(z,pl.Params(1064e-9,waist,0)) #tophat beam rad , w(z) or 1e-3?\n",
    "\n",
    "\n",
    "\n",
    "        #integration and misalignment\n",
    "        self.points = points\n",
    "\n",
    "        self.a = a\n",
    "        self.alpha_arr = alpha_arr\n",
    "\n",
    "        self.modes_arr = modes_arr\n",
    "\n",
    "        #build modes from misalignments\n",
    "#         for p in range (points):\n",
    "#             self.modes_arr[p] = update_modes(z,params,a,alpha_arr[p],modes_0,sols_matrix) #array of array of scattered modes#array of array of scattered modes\n",
    "\n",
    "    def setz(self,z):\n",
    "        self.z = z #prop distance assumed PD\n",
    "        self.z_PD = z #PD location\n",
    "        \n",
    "        self.Z = z-self.z_m #distance PD-m\n",
    "\n",
    "        self.d_1 = self.z_PD-self.z_LO #distance PD-LO\n",
    "    \n",
    "        self.W_2 = pl.w(z,pl.Params(1064e-9,waist,0))\n",
    "        \n",
    "        #scattering also depends on z...\n",
    "        for p in range (self.points):\n",
    "            self.modes_arr[p] = [0]*p #clear modes\n",
    "            self.modes_arr[p] = update_modes(z,params,a,alpha_arr[p],top_modes,sols_arr) #array of array of scattered modes#array of array of scattered modes\n",
    "\n",
    "        \n"
   ]
  },
  {
   "cell_type": "code",
   "execution_count": 8,
   "metadata": {
    "scrolled": false
   },
   "outputs": [
    {
     "name": "stdout",
     "output_type": "stream",
     "text": [
      "Exception reporting mode: Verbose\n",
      "Signals calculation...\n",
      "0.015625 s 0.0 s\n",
      "0.013888888888888888 s 0.001736111111111111 s\n",
      "0.06597222222222222 s 0.005208333333333333 s\n",
      "0.06597222222222222 s 0.001736111111111111 s\n",
      "0.15625 s 0.012152777777777778 s\n",
      "0.1545138888888889 s 0.006944444444444444 s\n",
      "0.2916666666666667 s 0.017361111111111112 s\n",
      "0.2934027777777778 s 0.020833333333333332 s\n",
      "0.4756944444444444 s 0.03298611111111111 s\n",
      "0.4704861111111111 s 0.026041666666666668 s\n",
      "0.7013888888888888 s 0.046875 s\n",
      "0.703125 s 0.050347222222222224 s\n",
      "0.9600694444444444 s 0.06944444444444445 s\n",
      "0.9618055555555556 s 0.07291666666666667 s\n",
      "1.3038194444444444 s 0.10243055555555555 s\n",
      "1.2916666666666667 s 0.10243055555555555 s\n",
      "1.6579861111111112 s 0.1440972222222222 s\n",
      "1.6475694444444444 s 0.1423611111111111 s\n",
      "2.0868055555555554 s 0.2013888888888889 s\n",
      "2.1319444444444446 s 0.234375 s\n",
      "2.5590277777777777 s 0.2708333333333333 s\n",
      "2.5711805555555554 s 0.2725694444444444 s\n",
      "3.1024305555555554 s 0.3524305555555556 s\n",
      "3.109375 s 0.3628472222222222 s\n",
      "3.7274305555555554 s 0.4600694444444444 s\n",
      "3.7118055555555554 s 0.4618055555555556 s\n",
      "4.373263888888889 s 0.59375 s\n",
      "4.543402777777778 s 0.6701388888888888 s\n",
      "5.105902777777778 s 0.7482638888888888 s\n",
      "5.210069444444445 s 0.7621527777777778 s\n",
      "6.161458333333333 s 1.0607638888888888 s\n",
      "5.928819444444445 s 0.9322916666666666 s\n",
      "6.829861111111111 s 1.1666666666666667 s\n",
      "7.088541666666667 s 1.3420138888888888 s\n",
      "7.786458333333333 s 1.4236111111111112 s\n"
     ]
    }
   ],
   "source": [
    "modes_0 = plb.modes((0,0,1))\n",
    "\n",
    "%xmode Verbose\n",
    "\n",
    "# z=10e-3\n",
    "# params = pl.Params(1064e-9,1e-3,z)\n",
    "params=pl.Params(1064e-9,waist,0)\n",
    "K=params.getK()\n",
    "\n",
    "print('Signals calculation...')\n",
    "v = Vars()\n",
    "    \n",
    "# for i in modes_list:\n",
    "#     dws,lps,total_lps = signals(v,i)\n",
    "\n",
    "\n",
    "\n"
   ]
  },
  {
   "cell_type": "code",
   "execution_count": 16,
   "metadata": {},
   "outputs": [
    {
     "name": "stdout",
     "output_type": "stream",
     "text": [
      "2.6302083333333335 s 0.2725694444444444 s\n"
     ]
    }
   ],
   "source": [
    "dws,lps,total_lps = signals(v,modes_list[20])"
   ]
  },
  {
   "cell_type": "code",
   "execution_count": 17,
   "metadata": {},
   "outputs": [
    {
     "data": {
      "image/png": "[encoded data removed]",
      "text/plain": [
       "<Figure size 432x288 with 1 Axes>"
      ]
     },
     "metadata": {
      "needs_background": "light"
     },
     "output_type": "display_data"
    },
    {
     "data": {
      "image/png": "[encoded data removed]",
      "text/plain": [
       "<Figure size 432x288 with 1 Axes>"
      ]
     },
     "metadata": {
      "needs_background": "light"
     },
     "output_type": "display_data"
    },
    {
     "data": {
      "image/png": "[encoded data removed]",
      "text/plain": [
       "<Figure size 432x288 with 1 Axes>"
      ]
     },
     "metadata": {
      "needs_background": "light"
     },
     "output_type": "display_data"
    }
   ],
   "source": [
    "\n",
    "\n",
    "plot_dws(v.alpha_arr,dws)\n",
    "plot_lpsR(v.alpha_arr,lps)\n",
    "plot_lpsT(v.alpha_arr,total_lps)"
   ]
  },
  {
   "cell_type": "code",
   "execution_count": null,
   "metadata": {},
   "outputs": [],
   "source": []
  }
 ],
 "metadata": {
  "kernelspec": {
   "display_name": "Python 3",
   "language": "python",
   "name": "python3"
  },
  "language_info": {
   "codemirror_mode": {
    "name": "ipython",
    "version": 3
   },
   "file_extension": ".py",
   "mimetype": "text/x-python",
   "name": "python",
   "nbconvert_exporter": "python",
   "pygments_lexer": "ipython3",
   "version": "3.7.3"
  }
 },
 "nbformat": 4,
 "nbformat_minor": 2
}
