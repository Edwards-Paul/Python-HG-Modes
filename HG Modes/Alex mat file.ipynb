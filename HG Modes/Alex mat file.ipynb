{
 "cells": [
  {
   "cell_type": "code",
   "execution_count": 23,
   "metadata": {},
   "outputs": [],
   "source": [
    "import scipy.io\n",
    "import numpy as np\n",
    "import matplotlib.pyplot as plt\n",
    "mat = scipy.io.loadmat('Paul_compare_variables.mat')"
   ]
  },
  {
   "cell_type": "code",
   "execution_count": 2,
   "metadata": {},
   "outputs": [
    {
     "name": "stdout",
     "output_type": "stream",
     "text": [
      "{'__header__': b'MATLAB 5.0 MAT-file, Platform: MACI64, Created on: Wed Feb 19 01:02:00 2020', '__version__': '1.0', '__globals__': [], 'Description_String': array(['Regular DWS and LPS are normal definitions,\\nWeighted DWS and LPS are weighted schemes by amplitude,\\nTotal LPS is the phase over the entire plane,\\nand the 100 vs. 10 label indicates the\\nlateral offset used. The anrn variable holds the\\nangles used for beam tilt, from -200 microrad to\\n200 microrad. These were created by gaussian-gaussian\\noverlaps where each gaussian had 1mm waists located\\nat the photodiode, and the rotation occured at the\\nphotodiode center.'],\n",
      "      dtype='<U458'), 'Paul_Regular_DWS_10': array([[-0.46369333, -0.4547099 , -0.44570887, -0.4366906 , -0.42765544,\n",
      "        -0.41860377, -0.40953593, -0.40045228, -0.39135319, -0.38223901,\n",
      "        -0.3731101 , -0.36396682, -0.35480953, -0.34563858, -0.33645435,\n",
      "        -0.32725718, -0.31804744, -0.30882548, -0.29959167, -0.29034636,\n",
      "        -0.28108991, -0.27182268, -0.26254504, -0.25325734, -0.24395994,\n",
      "        -0.2346532 , -0.22533747, -0.21601313, -0.20668052, -0.19734001,\n",
      "        -0.18799196, -0.17863672, -0.16927466, -0.15990613, -0.1505315 ,\n",
      "        -0.14115112, -0.13176535, -0.12237455, -0.11297908, -0.1035793 ,\n",
      "        -0.09417557, -0.08476825, -0.0753577 , -0.06594427, -0.05652833,\n",
      "        -0.04711023, -0.03769034, -0.02826901, -0.01884661, -0.00942348,\n",
      "         0.        ,  0.00942348,  0.01884661,  0.02826901,  0.03769034,\n",
      "         0.04711023,  0.05652833,  0.06594427,  0.0753577 ,  0.08476825,\n",
      "         0.09417557,  0.1035793 ,  0.11297908,  0.12237455,  0.13176535,\n",
      "         0.14115112,  0.1505315 ,  0.15990613,  0.16927466,  0.17863672,\n",
      "         0.18799196,  0.19734001,  0.20668052,  0.21601313,  0.22533747,\n",
      "         0.2346532 ,  0.24395994,  0.25325734,  0.26254504,  0.27182268,\n",
      "         0.28108991,  0.29034636,  0.29959167,  0.30882548,  0.31804744,\n",
      "         0.32725718,  0.33645435,  0.34563858,  0.35480953,  0.36396682,\n",
      "         0.3731101 ,  0.38223901,  0.39135319,  0.40045228,  0.40953593,\n",
      "         0.41860377,  0.42765544,  0.4366906 ,  0.44570887,  0.4547099 ,\n",
      "         0.46369333]]), 'Paul_Regular_DWS_100': array([[-0.46433059, -0.45533444, -0.44632069, -0.4372897 , -0.42824182,\n",
      "        -0.41917741, -0.41009684, -0.40100046, -0.39188863, -0.38276171,\n",
      "        -0.37362005, -0.36446403, -0.35529399, -0.3461103 , -0.33691332,\n",
      "        -0.3277034 , -0.31848091, -0.3092462 , -0.29999964, -0.29074158,\n",
      "        -0.28147238, -0.2721924 , -0.26290201, -0.25360155, -0.2442914 ,\n",
      "        -0.2349719 , -0.22564343, -0.21630633, -0.20696097, -0.19760771,\n",
      "        -0.18824691, -0.17887892, -0.16950411, -0.16012283, -0.15073545,\n",
      "        -0.14134231, -0.1319438 , -0.12254025, -0.11313203, -0.10371951,\n",
      "        -0.09430303, -0.08488296, -0.07545966, -0.06603349, -0.0566048 ,\n",
      "        -0.04717396, -0.03774132, -0.02830725, -0.0188721 , -0.00943623,\n",
      "         0.        ,  0.00943623,  0.0188721 ,  0.02830725,  0.03774132,\n",
      "         0.04717396,  0.0566048 ,  0.06603349,  0.07545966,  0.08488296,\n",
      "         0.09430303,  0.10371951,  0.11313203,  0.12254025,  0.1319438 ,\n",
      "         0.14134231,  0.15073545,  0.16012283,  0.16950411,  0.17887892,\n",
      "         0.18824691,  0.19760771,  0.20696097,  0.21630633,  0.22564343,\n",
      "         0.2349719 ,  0.2442914 ,  0.25360155,  0.26290201,  0.2721924 ,\n",
      "         0.28147238,  0.29074158,  0.29999964,  0.3092462 ,  0.31848091,\n",
      "         0.3277034 ,  0.33691332,  0.3461103 ,  0.35529399,  0.36446403,\n",
      "         0.37362005,  0.38276171,  0.39188863,  0.40100046,  0.41009684,\n",
      "         0.41917741,  0.42824182,  0.4372897 ,  0.44632069,  0.45533444,\n",
      "         0.46433059]]), 'Paul_Regular_LPS_10': array([[-2.10556273e-03, -2.06504914e-03, -2.02443609e-03,\n",
      "        -1.98372589e-03, -1.94292080e-03, -1.90202310e-03,\n",
      "        -1.86103503e-03, -1.81995882e-03, -1.77879670e-03,\n",
      "        -1.73755087e-03, -1.69622351e-03, -1.65481680e-03,\n",
      "        -1.61333291e-03, -1.57177397e-03, -1.53014214e-03,\n",
      "        -1.48843952e-03, -1.44666823e-03, -1.40483036e-03,\n",
      "        -1.36292801e-03, -1.32096324e-03, -1.27893813e-03,\n",
      "        -1.23685471e-03, -1.19471505e-03, -1.15252116e-03,\n",
      "        -1.11027508e-03, -1.06797881e-03, -1.02563436e-03,\n",
      "        -9.83243729e-04, -9.40808898e-04, -8.98331850e-04,\n",
      "        -8.55814555e-04, -8.13258977e-04, -7.70667076e-04,\n",
      "        -7.28040800e-04, -6.85382094e-04, -6.42692897e-04,\n",
      "        -5.99975142e-04, -5.57230756e-04, -5.14461662e-04,\n",
      "        -4.71669778e-04, -4.28857018e-04, -3.86025292e-04,\n",
      "        -3.43176507e-04, -3.00312566e-04, -2.57435369e-04,\n",
      "        -2.14546816e-04, -1.71648801e-04, -1.28743220e-04,\n",
      "        -8.58319649e-05, -4.29169278e-05,  0.00000000e+00,\n",
      "         4.29169278e-05,  8.58319649e-05,  1.28743220e-04,\n",
      "         1.71648801e-04,  2.14546816e-04,  2.57435369e-04,\n",
      "         3.00312566e-04,  3.43176507e-04,  3.86025292e-04,\n",
      "         4.28857018e-04,  4.71669778e-04,  5.14461662e-04,\n",
      "         5.57230756e-04,  5.99975142e-04,  6.42692897e-04,\n",
      "         6.85382094e-04,  7.28040800e-04,  7.70667076e-04,\n",
      "         8.13258977e-04,  8.55814555e-04,  8.98331850e-04,\n",
      "         9.40808898e-04,  9.83243729e-04,  1.02563436e-03,\n",
      "         1.06797881e-03,  1.11027508e-03,  1.15252116e-03,\n",
      "         1.19471505e-03,  1.23685471e-03,  1.27893813e-03,\n",
      "         1.32096324e-03,  1.36292801e-03,  1.40483036e-03,\n",
      "         1.44666823e-03,  1.48843952e-03,  1.53014214e-03,\n",
      "         1.57177397e-03,  1.61333291e-03,  1.65481680e-03,\n",
      "         1.69622351e-03,  1.73755087e-03,  1.77879670e-03,\n",
      "         1.81995882e-03,  1.86103503e-03,  1.90202310e-03,\n",
      "         1.94292080e-03,  1.98372589e-03,  2.02443609e-03,\n",
      "         2.06504914e-03,  2.10556273e-03]]), 'Paul_Regular_LPS_100': array([[-0.02106766, -0.02066225, -0.02025585, -0.01984848, -0.01944016,\n",
      "        -0.01903091, -0.01862077, -0.01820975, -0.01779786, -0.01738515,\n",
      "        -0.01697162, -0.01655729, -0.0161422 , -0.01572636, -0.01530979,\n",
      "        -0.01489251, -0.01447455, -0.01405593, -0.01363666, -0.01321677,\n",
      "        -0.01279627, -0.0123752 , -0.01195356, -0.01153138, -0.01110868,\n",
      "        -0.01068548, -0.0102618 , -0.00983766, -0.00941308, -0.00898808,\n",
      "        -0.00856267, -0.00813688, -0.00771073, -0.00728424, -0.00685743,\n",
      "        -0.0064303 , -0.0060029 , -0.00557523, -0.00514731, -0.00471917,\n",
      "        -0.00429081, -0.00386227, -0.00343356, -0.00300469, -0.0025757 ,\n",
      "        -0.00214659, -0.00171738, -0.0012881 , -0.00085877, -0.00042939,\n",
      "         0.        ,  0.00042939,  0.00085877,  0.0012881 ,  0.00171738,\n",
      "         0.00214659,  0.0025757 ,  0.00300469,  0.00343356,  0.00386227,\n",
      "         0.00429081,  0.00471917,  0.00514731,  0.00557523,  0.0060029 ,\n",
      "         0.0064303 ,  0.00685743,  0.00728424,  0.00771073,  0.00813688,\n",
      "         0.00856267,  0.00898808,  0.00941308,  0.00983766,  0.0102618 ,\n",
      "         0.01068548,  0.01110868,  0.01153138,  0.01195356,  0.0123752 ,\n",
      "         0.01279627,  0.01321677,  0.01363666,  0.01405593,  0.01447455,\n",
      "         0.01489251,  0.01530979,  0.01572636,  0.0161422 ,  0.01655729,\n",
      "         0.01697162,  0.01738515,  0.01779786,  0.01820975,  0.01862077,\n",
      "         0.01903091,  0.01944016,  0.01984848,  0.02025585,  0.02066225,\n",
      "         0.02106766]]), 'Paul_Total_LPS_10': array([[-0.00590525, -0.00578714, -0.00566904, -0.00555093, -0.00543283,\n",
      "        -0.00531472, -0.00519662, -0.00507851, -0.00496041, -0.0048423 ,\n",
      "        -0.0047242 , -0.00460609, -0.00448799, -0.00436988, -0.00425178,\n",
      "        -0.00413367, -0.00401557, -0.00389746, -0.00377936, -0.00366125,\n",
      "        -0.00354315, -0.00342504, -0.00330694, -0.00318883, -0.00307073,\n",
      "        -0.00295262, -0.00283452, -0.00271641, -0.00259831, -0.0024802 ,\n",
      "        -0.0023621 , -0.00224399, -0.00212589, -0.00200778, -0.00188968,\n",
      "        -0.00177157, -0.00165347, -0.00153536, -0.00141726, -0.00129915,\n",
      "        -0.00118105, -0.00106294, -0.00094484, -0.00082673, -0.00070863,\n",
      "        -0.00059052, -0.00047242, -0.00035431, -0.00023621, -0.0001181 ,\n",
      "         0.        ,  0.0001181 ,  0.00023621,  0.00035431,  0.00047242,\n",
      "         0.00059052,  0.00070863,  0.00082673,  0.00094484,  0.00106294,\n",
      "         0.00118105,  0.00129915,  0.00141726,  0.00153536,  0.00165347,\n",
      "         0.00177157,  0.00188968,  0.00200778,  0.00212589,  0.00224399,\n",
      "         0.0023621 ,  0.0024802 ,  0.00259831,  0.00271641,  0.00283452,\n",
      "         0.00295262,  0.00307073,  0.00318883,  0.00330694,  0.00342504,\n",
      "         0.00354315,  0.00366125,  0.00377936,  0.00389746,  0.00401557,\n",
      "         0.00413367,  0.00425178,  0.00436988,  0.00448799,  0.00460609,\n",
      "         0.0047242 ,  0.0048423 ,  0.00496041,  0.00507851,  0.00519662,\n",
      "         0.00531472,  0.00543283,  0.00555093,  0.00566904,  0.00578714,\n",
      "         0.00590525]]), 'Paul_Total_LPS_100': array([[-0.05905249, -0.05787144, -0.05669039, -0.05550934, -0.05432829,\n",
      "        -0.05314724, -0.05196619, -0.05078514, -0.04960409, -0.04842304,\n",
      "        -0.04724199, -0.04606094, -0.04487989, -0.04369884, -0.04251779,\n",
      "        -0.04133675, -0.0401557 , -0.03897465, -0.0377936 , -0.03661255,\n",
      "        -0.0354315 , -0.03425045, -0.0330694 , -0.03188835, -0.0307073 ,\n",
      "        -0.02952625, -0.0283452 , -0.02716415, -0.0259831 , -0.02480205,\n",
      "        -0.023621  , -0.02243995, -0.0212589 , -0.02007785, -0.0188968 ,\n",
      "        -0.01771575, -0.0165347 , -0.01535365, -0.0141726 , -0.01299155,\n",
      "        -0.0118105 , -0.01062945, -0.0094484 , -0.00826735, -0.0070863 ,\n",
      "        -0.00590525, -0.0047242 , -0.00354315, -0.0023621 , -0.00118105,\n",
      "         0.        ,  0.00118105,  0.0023621 ,  0.00354315,  0.0047242 ,\n",
      "         0.00590525,  0.0070863 ,  0.00826735,  0.0094484 ,  0.01062945,\n",
      "         0.0118105 ,  0.01299155,  0.0141726 ,  0.01535365,  0.0165347 ,\n",
      "         0.01771575,  0.0188968 ,  0.02007785,  0.0212589 ,  0.02243995,\n",
      "         0.023621  ,  0.02480205,  0.0259831 ,  0.02716415,  0.0283452 ,\n",
      "         0.02952625,  0.0307073 ,  0.03188835,  0.0330694 ,  0.03425045,\n",
      "         0.0354315 ,  0.03661255,  0.0377936 ,  0.03897465,  0.0401557 ,\n",
      "         0.04133675,  0.04251779,  0.04369884,  0.04487989,  0.04606094,\n",
      "         0.04724199,  0.04842304,  0.04960409,  0.05078514,  0.05196619,\n",
      "         0.05314724,  0.05432829,  0.05550934,  0.05669039,  0.05787144,\n",
      "         0.05905249]]), 'Paul_Weighted_DWS_10': array([[-0.46370933, -0.45472562, -0.44572431, -0.43670576, -0.42767032,\n",
      "        -0.41861836, -0.40955023, -0.40046629, -0.3913669 , -0.38225243,\n",
      "        -0.37312322, -0.36397964, -0.35482204, -0.3456508 , -0.33646626,\n",
      "        -0.32726878, -0.31805872, -0.30883645, -0.29960233, -0.2903567 ,\n",
      "        -0.28109994, -0.2718324 , -0.26255443, -0.25326641, -0.24396868,\n",
      "        -0.23466162, -0.22534557, -0.2160209 , -0.20668796, -0.19734712,\n",
      "        -0.18799874, -0.17864317, -0.16928077, -0.15991191, -0.15053694,\n",
      "        -0.14115622, -0.13177012, -0.12237898, -0.11298317, -0.10358306,\n",
      "        -0.09417899, -0.08477133, -0.07536043, -0.06594666, -0.05653038,\n",
      "        -0.04711195, -0.03769171, -0.02827004, -0.01884729, -0.00942383,\n",
      "         0.        ,  0.00942383,  0.01884729,  0.02827004,  0.03769171,\n",
      "         0.04711195,  0.05653038,  0.06594666,  0.07536043,  0.08477133,\n",
      "         0.09417899,  0.10358306,  0.11298317,  0.12237898,  0.13177012,\n",
      "         0.14115622,  0.15053694,  0.15991191,  0.16928077,  0.17864317,\n",
      "         0.18799874,  0.19734712,  0.20668796,  0.2160209 ,  0.22534557,\n",
      "         0.23466162,  0.24396868,  0.25326641,  0.26255443,  0.2718324 ,\n",
      "         0.28109994,  0.2903567 ,  0.29960233,  0.30883645,  0.31805872,\n",
      "         0.32726878,  0.33646626,  0.3456508 ,  0.35482204,  0.36397964,\n",
      "         0.37312322,  0.38225243,  0.3913669 ,  0.40046629,  0.40955023,\n",
      "         0.41861836,  0.42767032,  0.43670576,  0.44572431,  0.45472562,\n",
      "         0.46370933]]), 'Paul_Weighted_DWS_100': array([[-0.46592913, -0.45690531, -0.44786364, -0.43880446, -0.42972816,\n",
      "        -0.42063508, -0.4115256 , -0.40240007, -0.39325887, -0.38410236,\n",
      "        -0.3749309 , -0.36574485, -0.35654458, -0.34733046, -0.33810284,\n",
      "        -0.3288621 , -0.3196086 , -0.3103427 , -0.30106477, -0.29177517,\n",
      "        -0.28247427, -0.27316243, -0.26384001, -0.25450739, -0.24516492,\n",
      "        -0.23581297, -0.22645191, -0.21708209, -0.2077039 , -0.19831768,\n",
      "        -0.1889238 , -0.17952263, -0.17011454, -0.16069988, -0.15127903,\n",
      "        -0.14185234, -0.13242018, -0.12298292, -0.11354093, -0.10409455,\n",
      "        -0.09464417, -0.08519014, -0.07573283, -0.06627261, -0.05680983,\n",
      "        -0.04734487, -0.03787808, -0.02840984, -0.0189405 , -0.00947043,\n",
      "         0.        ,  0.00947043,  0.0189405 ,  0.02840984,  0.03787808,\n",
      "         0.04734487,  0.05680983,  0.06627261,  0.07573283,  0.08519014,\n",
      "         0.09464417,  0.10409455,  0.11354093,  0.12298292,  0.13242018,\n",
      "         0.14185234,  0.15127903,  0.16069988,  0.17011454,  0.17952263,\n",
      "         0.1889238 ,  0.19831768,  0.2077039 ,  0.21708209,  0.22645191,\n",
      "         0.23581297,  0.24516492,  0.25450739,  0.26384001,  0.27316243,\n",
      "         0.28247427,  0.29177517,  0.30106477,  0.3103427 ,  0.3196086 ,\n",
      "         0.3288621 ,  0.33810284,  0.34733046,  0.35654458,  0.36574485,\n",
      "         0.3749309 ,  0.38410236,  0.39325887,  0.40240007,  0.4115256 ,\n",
      "         0.42063508,  0.42972816,  0.43880446,  0.44786364,  0.45690531,\n",
      "         0.46592913]]), 'Paul_Weighted_LPS_10': array([[-0.00562896, -0.00552703, -0.00542446, -0.00532126, -0.00521745,\n",
      "        -0.00511303, -0.00500803, -0.00490245, -0.00479631, -0.00468961,\n",
      "        -0.00458238, -0.00447462, -0.00436634, -0.00425757, -0.0041483 ,\n",
      "        -0.00403857, -0.00392837, -0.00381772, -0.00370663, -0.00359512,\n",
      "        -0.0034832 , -0.00337089, -0.00325819, -0.00314511, -0.00303168,\n",
      "        -0.00291791, -0.0028038 , -0.00268937, -0.00257464, -0.00245962,\n",
      "        -0.00234431, -0.00222874, -0.00211292, -0.00199686, -0.00188057,\n",
      "        -0.00176407, -0.00164737, -0.00153048, -0.00141342, -0.00129619,\n",
      "        -0.00117882, -0.00106132, -0.0009437 , -0.00082597, -0.00070815,\n",
      "        -0.00059025, -0.00047228, -0.00035425, -0.00023619, -0.0001181 ,\n",
      "         0.        ,  0.0001181 ,  0.00023619,  0.00035425,  0.00047228,\n",
      "         0.00059025,  0.00070815,  0.00082597,  0.0009437 ,  0.00106132,\n",
      "         0.00117882,  0.00129619,  0.00141342,  0.00153048,  0.00164737,\n",
      "         0.00176407,  0.00188057,  0.00199686,  0.00211292,  0.00222874,\n",
      "         0.00234431,  0.00245962,  0.00257464,  0.00268937,  0.0028038 ,\n",
      "         0.00291791,  0.00303168,  0.00314511,  0.00325819,  0.00337089,\n",
      "         0.0034832 ,  0.00359512,  0.00370663,  0.00381772,  0.00392837,\n",
      "         0.00403857,  0.0041483 ,  0.00425757,  0.00436634,  0.00447462,\n",
      "         0.00458238,  0.00468961,  0.00479631,  0.00490245,  0.00500803,\n",
      "         0.00511303,  0.00521745,  0.00532126,  0.00542446,  0.00552703,\n",
      "         0.00562896]]), 'Paul_Weighted_LPS_100': array([[-0.0562995 , -0.05527964, -0.05425341, -0.05322092, -0.05218232,\n",
      "        -0.05113771, -0.05008722, -0.04903098, -0.04796912, -0.04690176,\n",
      "        -0.04582902, -0.04475105, -0.04366795, -0.04257986, -0.04148691,\n",
      "        -0.04038923, -0.03928694, -0.03818018, -0.03706906, -0.03595373,\n",
      "        -0.03483431, -0.03371093, -0.03258371, -0.0314528 , -0.03031833,\n",
      "        -0.02918041, -0.02803918, -0.02689478, -0.02574733, -0.02459697,\n",
      "        -0.02344383, -0.02228803, -0.02112972, -0.01996901, -0.01880605,\n",
      "        -0.01764097, -0.0164739 , -0.01530496, -0.01413431, -0.01296205,\n",
      "        -0.01178834, -0.01061329, -0.00943705, -0.00825975, -0.00708151,\n",
      "        -0.00590248, -0.00472278, -0.00354255, -0.00236192, -0.00118103,\n",
      "         0.        ,  0.00118103,  0.00236192,  0.00354255,  0.00472278,\n",
      "         0.00590248,  0.00708151,  0.00825975,  0.00943705,  0.01061329,\n",
      "         0.01178834,  0.01296205,  0.01413431,  0.01530496,  0.0164739 ,\n",
      "         0.01764097,  0.01880605,  0.01996901,  0.02112972,  0.02228803,\n",
      "         0.02344383,  0.02459697,  0.02574733,  0.02689478,  0.02803918,\n",
      "         0.02918041,  0.03031833,  0.0314528 ,  0.03258371,  0.03371093,\n",
      "         0.03483431,  0.03595373,  0.03706906,  0.03818018,  0.03928694,\n",
      "         0.04038923,  0.04148691,  0.04257986,  0.04366795,  0.04475105,\n",
      "         0.04582902,  0.04690176,  0.04796912,  0.04903098,  0.05008722,\n",
      "         0.05113771,  0.05218232,  0.05322092,  0.05425341,  0.05527964,\n",
      "         0.0562995 ]])}\n"
     ]
    }
   ],
   "source": [
    "print(mat)"
   ]
  },
  {
   "cell_type": "code",
   "execution_count": 5,
   "metadata": {},
   "outputs": [
    {
     "name": "stdout",
     "output_type": "stream",
     "text": [
      "<class 'dict'>\n"
     ]
    }
   ],
   "source": [
    "print(type(mat))"
   ]
  },
  {
   "cell_type": "code",
   "execution_count": 14,
   "metadata": {},
   "outputs": [],
   "source": [
    "DWS_10=(mat['Paul_Regular_DWS_10'])"
   ]
  },
  {
   "cell_type": "code",
   "execution_count": 12,
   "metadata": {},
   "outputs": [
    {
     "name": "stdout",
     "output_type": "stream",
     "text": [
      "(1, 101)\n"
     ]
    }
   ],
   "source": [
    "print(DWS_10.shape)"
   ]
  },
  {
   "cell_type": "code",
   "execution_count": 15,
   "metadata": {},
   "outputs": [
    {
     "name": "stdout",
     "output_type": "stream",
     "text": [
      "__header__\n",
      "__version__\n",
      "__globals__\n",
      "Description_String\n",
      "Paul_Regular_DWS_10\n",
      "Paul_Regular_DWS_100\n",
      "Paul_Regular_LPS_10\n",
      "Paul_Regular_LPS_100\n",
      "Paul_Total_LPS_10\n",
      "Paul_Total_LPS_100\n",
      "Paul_Weighted_DWS_10\n",
      "Paul_Weighted_DWS_100\n",
      "Paul_Weighted_LPS_10\n",
      "Paul_Weighted_LPS_100\n"
     ]
    }
   ],
   "source": [
    "for x in mat:\n",
    "  print(x)"
   ]
  },
  {
   "cell_type": "code",
   "execution_count": 27,
   "metadata": {},
   "outputs": [
    {
     "name": "stdout",
     "output_type": "stream",
     "text": [
      "(101,)\n"
     ]
    }
   ],
   "source": [
    "angle = np.linspace(-200e-6,200e-6,101)\n",
    "print(angle.shape)"
   ]
  },
  {
   "cell_type": "code",
   "execution_count": 32,
   "metadata": {},
   "outputs": [
    {
     "data": {
      "image/png": "[encoded data removed]",
      "text/plain": [
       "<Figure size 432x288 with 1 Axes>"
      ]
     },
     "metadata": {
      "needs_background": "light"
     },
     "output_type": "display_data"
    }
   ],
   "source": [
    "plt.figure()\n",
    "plt.plot(angle*1e6,DWS_10.ravel())\n",
    "plt.grid()"
   ]
  },
  {
   "cell_type": "code",
   "execution_count": 30,
   "metadata": {},
   "outputs": [
    {
     "name": "stdout",
     "output_type": "stream",
     "text": [
      "[-0.46369333 -0.4547099  -0.44570887 -0.4366906  -0.42765544 -0.41860377\n",
      " -0.40953593 -0.40045228 -0.39135319 -0.38223901 -0.3731101  -0.36396682\n",
      " -0.35480953 -0.34563858 -0.33645435 -0.32725718 -0.31804744 -0.30882548\n",
      " -0.29959167 -0.29034636 -0.28108991 -0.27182268 -0.26254504 -0.25325734\n",
      " -0.24395994 -0.2346532  -0.22533747 -0.21601313 -0.20668052 -0.19734001\n",
      " -0.18799196 -0.17863672 -0.16927466 -0.15990613 -0.1505315  -0.14115112\n",
      " -0.13176535 -0.12237455 -0.11297908 -0.1035793  -0.09417557 -0.08476825\n",
      " -0.0753577  -0.06594427 -0.05652833 -0.04711023 -0.03769034 -0.02826901\n",
      " -0.01884661 -0.00942348  0.          0.00942348  0.01884661  0.02826901\n",
      "  0.03769034  0.04711023  0.05652833  0.06594427  0.0753577   0.08476825\n",
      "  0.09417557  0.1035793   0.11297908  0.12237455  0.13176535  0.14115112\n",
      "  0.1505315   0.15990613  0.16927466  0.17863672  0.18799196  0.19734001\n",
      "  0.20668052  0.21601313  0.22533747  0.2346532   0.24395994  0.25325734\n",
      "  0.26254504  0.27182268  0.28108991  0.29034636  0.29959167  0.30882548\n",
      "  0.31804744  0.32725718  0.33645435  0.34563858  0.35480953  0.36396682\n",
      "  0.3731101   0.38223901  0.39135319  0.40045228  0.40953593  0.41860377\n",
      "  0.42765544  0.4366906   0.44570887  0.4547099   0.46369333]\n"
     ]
    }
   ],
   "source": [
    "print(DWS_10.ravel())"
   ]
  },
  {
   "cell_type": "code",
   "execution_count": null,
   "metadata": {},
   "outputs": [],
   "source": []
  }
 ],
 "metadata": {
  "kernelspec": {
   "display_name": "Python 3",
   "language": "python",
   "name": "python3"
  },
  "language_info": {
   "codemirror_mode": {
    "name": "ipython",
    "version": 3
   },
   "file_extension": ".py",
   "mimetype": "text/x-python",
   "name": "python",
   "nbconvert_exporter": "python",
   "pygments_lexer": "ipython3",
   "version": "3.7.3"
  }
 },
 "nbformat": 4,
 "nbformat_minor": 2
}
