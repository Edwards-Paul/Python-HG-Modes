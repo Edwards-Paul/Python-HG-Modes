{
 "cells": [
  {
   "cell_type": "markdown",
   "metadata": {},
   "source": [
    "# Implementing coordinate-transformed hermite polynomials"
   ]
  },
  {
   "cell_type": "code",
   "execution_count": 1,
   "metadata": {},
   "outputs": [],
   "source": [
    "#  Automated import\n",
    "import sys\n",
    "import os\n",
    "sys.path.append('..')\n",
    "\n",
    "from hg_scripts.setup_imports import *\n"
   ]
  },
  {
   "cell_type": "code",
   "execution_count": 2,
   "metadata": {},
   "outputs": [],
   "source": [
    "#order a^#*b^#\n",
    "working = 1\n",
    "crossterm_order = working*2+1"
   ]
  },
  {
   "cell_type": "code",
   "execution_count": 6,
   "metadata": {},
   "outputs": [],
   "source": [
    "waist = (1/3)*1e-3\n",
    "plotOrNot = False\n",
    "top_modes=coeff_from_mat('paul_coef_file.mat',waist,plotOrNot)\n",
    "\n"
   ]
  },
  {
   "cell_type": "code",
   "execution_count": 7,
   "metadata": {},
   "outputs": [],
   "source": [
    "#loop through and sum over modes overlap where a,b -> n,m\n",
    "def iterate_modes_overlap(w_1,w_2,zR_1,zR_2,k_1,k_2,d_1,W_2,x_1,x_2,Z,Y,modes,s):   \n",
    "\n",
    "    N = len(modes)\n",
    "    M = len(modes[0])\n",
    "    res_arr = [[0 for i in range(10)] for j in range(10)]\n",
    "    res = 0\n",
    "\n",
    "    for a in range(N):\n",
    "        for b in range(M):            \n",
    "            #ignore zero coeff.\n",
    "            if (modes[a][b]!=0):\n",
    "                c_nm = modes[a][b]\n",
    "                #result is the sum of all overlap coefficients each with a factor of mode coefficient\n",
    "                res += ( c_nm * th.overlap(a,b,w_1,w_2,zR_1,zR_2,k_1,k_2,d_1,W_2,x_1,x_2,Z,Y,s) )\n",
    "                \n",
    "    return(res)"
   ]
  },
  {
   "cell_type": "code",
   "execution_count": 8,
   "metadata": {},
   "outputs": [],
   "source": [
    "def signals(v):\n",
    "    #points determine size of arrays (equivalent to # data points plotted)\n",
    "    points = v.points\n",
    "    time_start = process_time()\n",
    "\n",
    "    time_ave1 = 0\n",
    "    time_ave2 = 0\n",
    "\n",
    "    #modes_arr = [0]*points\n",
    "    cl = [0]*points\n",
    "    cr = [0]*points\n",
    "    phi_l = [0]*points\n",
    "    phi_r = [0]*points\n",
    "    dws = [0]*points\n",
    "    lps = [0]*points\n",
    "    total_lps = [0]*points\n",
    "    \n",
    "\n",
    "    #alpha_arr = np.linspace(-500e-6,500e-6,points)\n",
    "    \n",
    "\n",
    "    pbar = ProgressBar(widgets=[Percentage(), Bar()], maxval=points).start()\n",
    "\n",
    "    \n",
    "    \n",
    "    for p in range(points):\n",
    "        time_ave_start1 = process_time()\n",
    "        #shift x+zsina\n",
    "        new_modes = update_modes(v.z,v.params,v.a,v.alpha_arr[p],top_modes,sols_matrix)\n",
    "        \n",
    "        time_ave_start2 = process_time()\n",
    "        #create arrays of overlap coefficients left and right\n",
    "        cl[p] = iterate_modes_overlap(v.w_1,v.w_2,v.zR_1,v.zR_2,v.k_1,v.k_2,v.d_1,v.W_2,v.x_1L,v.x_2L,v.Z,v.Y,new_modes,v.s) # left overlap (-2e-3,0)\n",
    "\n",
    "        cr[p] = iterate_modes_overlap(v.w_1,v.w_2,v.zR_1,v.zR_2,v.k_1,v.k_2,v.d_1,v.W_2,v.x_1R,v.x_2R,v.Z,v.Y,new_modes,v.s) # right overlap (0,2e-3)\n",
    "        time_ave1 += (process_time()-time_ave_start1)\n",
    "        time_ave2 += (process_time()-time_ave_start2)\n",
    "        #create arrays of phases for left and right coeff.\n",
    "        phi_r[p]=angle(cr[p])\n",
    "        phi_l[p]=angle(cl[p])\n",
    "        \n",
    "        #create arrays of dws &lps for phases in phase arrays\n",
    "        dws[p] = (phi_r[p]-phi_l[p])\n",
    "        lps[p] = 0.5*(phi_r[p]+phi_l[p])/v.k_1\n",
    "        total_lps[p] = angle(cr[p]+cl[p])/v.k_1\n",
    "        \n",
    "        pbar.update(p+1)\n",
    "        \n",
    "    pbar.finish()\n",
    "    \n",
    "    #total time for all DWS & LPS points (not including scattering)\n",
    "    time_elapsed = (process_time() - time_start)\n",
    "    print(time_elapsed,'s')\n",
    "    print(time_ave1/p,'s',time_ave2/p,'s')\n",
    "    \n",
    "    return(dws,lps,total_lps)\n",
    "\n",
    "num=11\n",
    "\n",
    "\n",
    "class Vars:\n",
    "#modes,alpha with points\n",
    "    def __init__(self, \n",
    "                 lam=1064e-9,\n",
    "                 z_PD=10e-3,z=10e-3,\n",
    "                 z_m=0,Z=10e-3,\n",
    "                 z_LO=0, d_1=10e-3,\n",
    "#                  z_PD=0,z=0,\n",
    "#                  z_m=0,Z=0,\n",
    "#                  z_LO=0, d_1=0,\n",
    "                 Y=20e-3,\n",
    "                 x_1R=10e-6,x_2R=20e-3,\n",
    "                 x_1L=-20e-3,x_2L=-10e-6,\n",
    "                 w_1=1e-3, w_2=waist,\n",
    "                 zR_1=pi*1e-3**2/1064e-9,zR_2=pi*waist**2/1064e-9,\n",
    "                 k_1=5905249.348852994,k_2=5905249.348852994,\n",
    "                 params=pl.Params(1064e-9,waist,0),\n",
    "                 W_2=1e-3,\n",
    "                 points=num,\n",
    "                 a=10e-6,alpha_arr=np.linspace(-500e-6,500e-6,num),modes_arr=[0]*num):\n",
    "        self.lam = lam\n",
    "\n",
    "\n",
    "        self.z_PD = z_PD #PD location\n",
    "        self.z = z #prop distance assumed PD\n",
    "\n",
    "        self.z_m = z_m #meas beam \n",
    "        self.Z = Z #distance PD-m\n",
    "\n",
    "        self.z_LO = z_LO #Local ref. beam\n",
    "        self.d_1 = d_1 #distance PD-LO\n",
    "\n",
    "\n",
    "        self.Y = Y #Y int bound\n",
    "\n",
    "        self.x_1R = x_1R\n",
    "        self.x_2R = x_2R \n",
    "\n",
    "        self.x_1L = x_1L #assumed symmetric with right side\n",
    "        self.x_2L = x_2L\n",
    "\n",
    "        self.w_1 = w_1 #waist LO \n",
    "        self.w_2 = w_2 #waist MS\n",
    "\n",
    "        self.zR_1 = zR_1 #rayleigh LO\n",
    "        self.zR_2 = zR_2\n",
    "\n",
    "\n",
    "        self.k_1 = k_1 #wavenum LO\n",
    "        self.k_2 = k_2\n",
    "\n",
    "        self.params = params #for building tophat coefficients\n",
    "\n",
    "        self.W_2 = pl.w(z,pl.Params(1064e-9,waist,0)) #tophat beam rad , w(z) or 1e-3?\n",
    "    \n",
    "        self.s= (\n",
    "                1/(w_1**2 *(1+(1j)*d_1/zR_1))\n",
    "                +\n",
    "                1/((w_2**2 *(1-(1j)*Z/zR_2)))\n",
    "            )\n",
    "\n",
    "        #integration and misalignment\n",
    "        self.points = points\n",
    "\n",
    "        self.a = a\n",
    "        self.alpha_arr = alpha_arr\n",
    "\n",
    "        self.modes_arr = modes_arr\n",
    "\n",
    "        #build modes from misalignments\n",
    "#         for p in range (points):\n",
    "#             self.modes_arr[p] = update_modes(z,params,a,alpha_arr[p],modes_0,sols_matrix) #array of array of scattered modes#array of array of scattered modes\n",
    "\n",
    "    def setz(self,z):\n",
    "        self.z = z #prop distance assumed PD\n",
    "        self.z_PD = z #PD location\n",
    "        \n",
    "        self.Z = z-self.z_m #distance PD-m\n",
    "\n",
    "        self.d_1 = self.z_PD-self.z_LO #distance PD-LO\n",
    "    \n",
    "        self.W_2 = pl.w(z,pl.Params(1064e-9,waist,0))\n",
    "        \n",
    "        #scattering also depends on z...\n",
    "        for p in range (self.points):\n",
    "            self.modes_arr[p] = [0]*p #clear modes\n",
    "            self.modes_arr[p] = update_modes(z,params,a,alpha_arr[p],modes_0,sols_arr) #array of array of scattered modes#array of array of scattered modes\n",
    "\n",
    "        \n"
   ]
  },
  {
   "cell_type": "code",
   "execution_count": 9,
   "metadata": {
    "scrolled": false
   },
   "outputs": [
    {
     "name": "stderr",
     "output_type": "stream",
     "text": [
      "  0%|                                                                         |\r"
     ]
    },
    {
     "name": "stdout",
     "output_type": "stream",
     "text": [
      "Signals calculation...\n"
     ]
    },
    {
     "name": "stderr",
     "output_type": "stream",
     "text": [
      "100%|#########################################################################|\r"
     ]
    },
    {
     "name": "stdout",
     "output_type": "stream",
     "text": [
      "11.015625 s\n",
      "1.1 s 0.978125 s\n"
     ]
    },
    {
     "name": "stderr",
     "output_type": "stream",
     "text": [
      "\n"
     ]
    }
   ],
   "source": [
    "modes_0 = plb.modes((0,0,1))\n",
    "\n",
    "\n",
    "\n",
    "# z=10e-3\n",
    "# params = pl.Params(1064e-9,1e-3,z)\n",
    "\n",
    "\n",
    "print('Signals calculation...')\n",
    "v = Vars()\n",
    "dws,lps,total_lps = signals(v)\n",
    "\n",
    "\n",
    "params=pl.Params(1064e-9,waist,0)\n",
    "K=params.getK()\n",
    "\n"
   ]
  },
  {
   "cell_type": "code",
   "execution_count": 10,
   "metadata": {},
   "outputs": [
    {
     "data": {
      "image/png": "[encoded data removed]",
      "text/plain": [
       "<Figure size 432x288 with 1 Axes>"
      ]
     },
     "metadata": {
      "needs_background": "light"
     },
     "output_type": "display_data"
    },
    {
     "data": {
      "image/png": "[encoded data removed]",
      "text/plain": [
       "<Figure size 432x288 with 1 Axes>"
      ]
     },
     "metadata": {
      "needs_background": "light"
     },
     "output_type": "display_data"
    },
    {
     "data": {
      "image/png": "[encoded data removed]",
      "text/plain": [
       "<Figure size 432x288 with 1 Axes>"
      ]
     },
     "metadata": {
      "needs_background": "light"
     },
     "output_type": "display_data"
    }
   ],
   "source": [
    "total_arr = np.array(total_lps)\n",
    "total_arr_con = total_arr*1e9\n",
    "\n",
    "lps_arr = np.array(lps)\n",
    "lps_arr_con = lps_arr*1e9\n",
    "\n",
    "plot_lpsT(v.alpha_arr,total_arr_con)\n",
    "plot_lpsR(v.alpha_arr,lps_arr_con)\n",
    "plot_dws(v.alpha_arr,dws)\n"
   ]
  },
  {
   "cell_type": "code",
   "execution_count": 11,
   "metadata": {},
   "outputs": [],
   "source": [
    "lps = lps_arr_con; total_lps = total_arr_con;\n",
    "\n",
    "dws_slope = np.zeros(len(dws),np.float)\n",
    "dws_slope[0:-1] = np.diff(dws)/np.diff(v.alpha_arr)\n",
    "dws_slope[-1] = (dws[-1] - dws[-2])/(v.alpha_arr[-1] - v.alpha_arr[-2])\n",
    "lps_slope = np.zeros(len(lps),np.float)\n",
    "lps_slope[0:-1] = np.diff(lps)/np.diff(v.alpha_arr)\n",
    "lps_slope[-1] = (lps[-1] - lps[-2])/(v.alpha_arr[-1] - v.alpha_arr[-2])\n",
    "total_lps_slope = np.zeros(len(total_lps),np.float)\n",
    "total_lps_slope[0:-1] = np.diff(total_lps)/np.diff(v.alpha_arr)\n",
    "total_lps_slope[-1] = (total_lps[-1] - total_lps[-2])/(v.alpha_arr[-1] - v.alpha_arr[-2])\n",
    "\n",
    "\n",
    "\n",
    "\n",
    "# ###############################################\n",
    "# note = ('1_shift_'+str(working)+'_10mmoff_'+str(working)+'_'+str(working))\n",
    "\n",
    "# scipy.io.savemat('tophat'+note+'.mat', mdict={'angle': v.alpha_arr, 'lps'+note: lps, 'total_lps'+note: total_lps,'dws_HG00'+note: dws,\n",
    "#                                          'lps_slope'+note: lps_slope, 'total_lps_slope'+note : total_lps_slope,\n",
    "#                                         'dws_slope'+note: dws_slope})\n",
    "\n",
    "# print(v.alpha_arr)"
   ]
  },
  {
   "cell_type": "code",
   "execution_count": null,
   "metadata": {},
   "outputs": [],
   "source": []
  }
 ],
 "metadata": {
  "kernelspec": {
   "display_name": "Python 3",
   "language": "python",
   "name": "python3"
  },
  "language_info": {
   "codemirror_mode": {
    "name": "ipython",
    "version": 3
   },
   "file_extension": ".py",
   "mimetype": "text/x-python",
   "name": "python",
   "nbconvert_exporter": "python",
   "pygments_lexer": "ipython3",
   "version": "3.7.3"
  }
 },
 "nbformat": 4,
 "nbformat_minor": 2
}
