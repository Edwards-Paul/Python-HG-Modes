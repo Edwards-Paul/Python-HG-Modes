{
 "cells": [
  {
   "cell_type": "code",
   "execution_count": 1,
   "metadata": {},
   "outputs": [],
   "source": [
    "from sympy.parsing import mathematica as mc\n",
    "from numpy import sin as sin\n",
    "import re"
   ]
  },
  {
   "cell_type": "code",
   "execution_count": 2,
   "metadata": {},
   "outputs": [],
   "source": [
    "# 1. Mathematica solution\n",
    "mat_sol = \"\"\"1 + I b K x + (I a K x)/R + (2 a x)/w^2 - (a b K^2 x^2)/R + (\n",
    " 2 I a b K x^2)/w^2 + (2 I a^2 K x^2)/(R w^2) - (2 a^2 b K^2 x^3)/(\n",
    " R w^2) - (I b K x z)/R - (2 b x z)/w^2 + (b^2 K^2 x^2 z)/R - (\n",
    " 2 I b^2 K x^2 z)/w^2 - (4 I a b K x^2 z)/(R w^2) + (\n",
    " 4 a b^2 K^2 x^3 z)/(R w^2) + (2 I b^2 K x^2 z^2)/(R w^2) - (\n",
    " 2 b^3 K^2 x^3 z^2)/(R w^2) \"\"\""
   ]
  },
  {
   "cell_type": "code",
   "execution_count": 3,
   "metadata": {},
   "outputs": [
    {
     "name": "stdout",
     "output_type": "stream",
     "text": [
      "-2*K**2*a**2*b*x**3/(R*w**2) + 4*K**2*a*b**2*x**3*z/(R*w**2) - K**2*a*b*x**2/R - 2*K**2*b**3*x**3*z**2/(R*w**2) + K**2*b**2*x**2*z/R + 2*I*K*a*b*x**2/w**2 - 2*I*K*b**2*x**2*z/w**2 + I*K*b*x + 2*I*K*a**2*x**2/(R*w**2) - 4*I*K*a*b*x**2*z/(R*w**2) + I*K*a*x/R + 2*I*K*b**2*x**2*z**2/(R*w**2) - I*K*b*x*z/R + 2*a*x/w**2 - 2*b*x*z/w**2 + 1\n",
      "['-2*K**2*a**2*b*x**3/(R*w**2)', '+', '4*K**2*a*b**2*x**3*z/(R*w**2)', '-', 'K**2*a*b*x**2/R', '-', '2*K**2*b**3*x**3*z**2/(R*w**2)', '+', 'K**2*b**2*x**2*z/R', '+', '2*I*K*a*b*x**2/w**2', '-', '2*I*K*b**2*x**2*z/w**2', '+', 'I*K*b*x', '+', '2*I*K*a**2*x**2/(R*w**2)', '-', '4*I*K*a*b*x**2*z/(R*w**2)', '+', 'I*K*a*x/R', '+', '2*I*K*b**2*x**2*z**2/(R*w**2)', '-', 'I*K*b*x*z/R', '+', '2*a*x/w**2', '-', '2*b*x*z/w**2', '+', '1']\n",
      "Terms list:\n",
      "['-2*K**2*a**2*b*x**3/(R*w**2)', '4*K**2*a*b**2*x**3*z/(R*w**2)', '-K**2*a*b*x**2/R', '-2*K**2*b**3*x**3*z**2/(R*w**2)', 'K**2*b**2*x**2*z/R', '2*I*K*a*b*x**2/w**2', '-2*I*K*b**2*x**2*z/w**2', 'I*K*b*x', '2*I*K*a**2*x**2/(R*w**2)', '-4*I*K*a*b*x**2*z/(R*w**2)', 'I*K*a*x/R', '2*I*K*b**2*x**2*z**2/(R*w**2)', '-I*K*b*x*z/R', '2*a*x/w**2', '-2*b*x*z/w**2', '1']\n"
     ]
    }
   ],
   "source": [
    "# 2. Parse for Python\n",
    "\n",
    "pars_sol=mc.mathematica(mat_sol)\n",
    "print(pars_sol)\n",
    "str_pars_sol = str(pars_sol)\n",
    "\n",
    "print(str_pars_sol.split(' '))\n",
    "sol_list = str_pars_sol.split(' ')\n",
    "\n",
    "\n",
    "\n",
    "#remove '+', prepend '-'\n",
    "for i in range(len(sol_list)):\n",
    "    j = sol_list[i]\n",
    "    if(j == '-'):\n",
    "        sol_list[i+1]= '-' + sol_list[i+1]\n",
    "    \n",
    "sol_list[:] = [i for i in sol_list if i != '+']\n",
    "sol_list[:] = [i for i in sol_list if i != '-']\n",
    "      \n",
    "print(\"Terms list:\")\n",
    "print(sol_list)"
   ]
  },
  {
   "cell_type": "code",
   "execution_count": 4,
   "metadata": {},
   "outputs": [],
   "source": [
    "x=1;a=3.14;K=1;b=1;R=1;w=1;z=1;I=1j"
   ]
  },
  {
   "cell_type": "code",
   "execution_count": 5,
   "metadata": {},
   "outputs": [
    {
     "name": "stdout",
     "output_type": "stream",
     "text": [
      "(-6.0192000000000005+16.5792j)\n"
     ]
    }
   ],
   "source": [
    "print(-2*K**2*a**2*b*x**3/(R*w**2) + 4*K**2*a*b**2*x**3*z/(R*w**2) - K**2*a*b*x**2/R - 2*K**2*b**3*x**3*z**2/(R*w**2) + K**2*b**2*x**2*z/R + 2*I*K*a*b*x**2/w**2 - 2*I*K*b**2*x**2*z/w**2 + I*K*b*x + 2*I*K*a**2*x**2/(R*w**2) - 4*I*K*a*b*x**2*z/(R*w**2) + I*K*a*x/R + 2*I*K*b**2*x**2*z**2/(R*w**2) - I*K*b*x*z/R + 2*a*x/w**2 - 2*b*x*z/w**2 + 1)"
   ]
  },
  {
   "cell_type": "code",
   "execution_count": 6,
   "metadata": {},
   "outputs": [
    {
     "name": "stdout",
     "output_type": "stream",
     "text": [
      "-19.7192\n",
      "12.56\n",
      "-3.14\n",
      "-2.0\n",
      "1.0\n",
      "6.28j\n",
      "-2j\n",
      "1j\n",
      "19.7192j\n",
      "-12.56j\n",
      "3.14j\n",
      "2j\n",
      "-1j\n",
      "6.28\n",
      "-2.0\n",
      "1\n"
     ]
    }
   ],
   "source": [
    "for i in sol_list:\n",
    "    print(eval(i))"
   ]
  },
  {
   "cell_type": "code",
   "execution_count": 12,
   "metadata": {},
   "outputs": [
    {
     "name": "stdout",
     "output_type": "stream",
     "text": [
      "Sols\n",
      "['+1', '+I*K*b*x+I*K*a*x/R+-I*K*b*x*z/R+2*a*x/w**2+-2*b*x*z/w**2', '+-K**2*a*b*x**2/R+K**2*b**2*x**2*z/R+2*I*K*a*b*x**2/w**2+-2*I*K*b**2*x**2*z/w**2+2*I*K*a**2*x**2/(R*w**2)+-4*I*K*a*b*x**2*z/(R*w**2)+2*I*K*b**2*x**2*z**2/(R*w**2)', '+-2*K**2*a**2*b*x**3/(R*w**2)+4*K**2*a*b**2*x**3*z/(R*w**2)+-2*K**2*b**3*x**3*z**2/(R*w**2)', '']\n"
     ]
    }
   ],
   "source": [
    "#3. Separate terms list for x-coordinate dependence\n",
    "\n",
    "#get highest n for x**n\n",
    "\n",
    "sols_arr = ['']*5\n",
    "\n",
    "#remove x**n and put term into sol_list[n]\n",
    "for i in sol_list:\n",
    "    #if x -> arr[n]\n",
    "    #nonlinear\n",
    "    if('x**' in i):\n",
    "        n_ind=i.find('x')+3 #get exp index\n",
    "        n = int(i[n_ind]) #set n to exp\n",
    "        sols_arr[n] += '+' + i #insert term at nth row of arr  \n",
    "    #no x -> arr[0]\n",
    "    elif(not 'x' in i):\n",
    "        sols_arr[0]+= '+' + i\n",
    "        #linear \n",
    "    else:\n",
    "        sols_arr[1]+= '+' + i\n",
    "        \n",
    "\n",
    "print('Sols')\n",
    "print(sols_arr)"
   ]
  },
  {
   "cell_type": "code",
   "execution_count": 13,
   "metadata": {},
   "outputs": [
    {
     "name": "stdout",
     "output_type": "stream",
     "text": [
      "+1\n",
      "1\n",
      "1\n",
      "+I*K*b*x+I*K*a*x/R+-I*K*b*x*z/R+2*a*x/w**2+-2*b*x*z/w**2\n",
      "(4.28+3.1400000000000006j)\n",
      "(5.28+3.1400000000000006j)\n",
      "+-K**2*a*b*x**2/R+K**2*b**2*x**2*z/R+2*I*K*a*b*x**2/w**2+-2*I*K*b**2*x**2*z/w**2+2*I*K*a**2*x**2/(R*w**2)+-4*I*K*a*b*x**2*z/(R*w**2)+2*I*K*b**2*x**2*z**2/(R*w**2)\n",
      "(-2.14+13.439200000000001j)\n",
      "(3.14+16.5792j)\n",
      "+-2*K**2*a**2*b*x**3/(R*w**2)+4*K**2*a*b**2*x**3*z/(R*w**2)+-2*K**2*b**3*x**3*z**2/(R*w**2)\n",
      "-9.1592\n",
      "(-6.0192+16.5792j)\n",
      "(-6.0192+16.5792j)\n"
     ]
    }
   ],
   "source": [
    "p=0\n",
    "for i in sols_arr:\n",
    "    if(i):\n",
    "        print(i)\n",
    "        print(eval(i))\n",
    "        p+=(eval(i))\n",
    "        print(p)\n",
    "print(p)"
   ]
  },
  {
   "cell_type": "code",
   "execution_count": null,
   "metadata": {},
   "outputs": [],
   "source": []
  }
 ],
 "metadata": {
  "kernelspec": {
   "display_name": "Python 3",
   "language": "python",
   "name": "python3"
  },
  "language_info": {
   "codemirror_mode": {
    "name": "ipython",
    "version": 3
   },
   "file_extension": ".py",
   "mimetype": "text/x-python",
   "name": "python",
   "nbconvert_exporter": "python",
   "pygments_lexer": "ipython3",
   "version": "3.7.3"
  }
 },
 "nbformat": 4,
 "nbformat_minor": 2
}
