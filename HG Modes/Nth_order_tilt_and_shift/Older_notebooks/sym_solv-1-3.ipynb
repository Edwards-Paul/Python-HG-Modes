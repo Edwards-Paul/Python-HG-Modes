{
 "cells": [
  {
   "cell_type": "markdown",
   "metadata": {},
   "source": [
    "$-2*K**2*a**2*b*x**3/(R*w**2) + 4*K**2*a*b**2*x**3*z/(R*w**2) - K**2*a*b*x**2/R - 2*K**2*b**3*x**3*z**2/(R*w**2) + K**2*b**2*x**2*z/R + 2*I*K*a*b*x**2/w**2 - 2*I*K*b**2*x**2*z/w**2 + I*K*b*x + 2*I*K*a**2*x**2/(R*w**2) - 4*I*K*a*b*x**2*z/(R*w**2) + I*K*a*x/R + 2*I*K*b**2*x**2*z**2/(R*w**2) - I*K*b*x*z/R + 2*a*x/w**2 - 2*b*x*z/w**2 + 1$"
   ]
  },
  {
   "cell_type": "code",
   "execution_count": 1,
   "metadata": {},
   "outputs": [],
   "source": [
    "from sympy.parsing import mathematica as mc\n",
    "from numpy import sin as sin\n",
    "import re\n",
    "import PauLisa as pl, PL_Plot as plplt,plback as plb, Tophat_integration_AW as th, numpy as np, matplotlib.pyplot as plt, cmath as cm\n",
    "#import signals_calc as sig\n",
    "\n",
    "from numpy import pi as pi\n",
    "from numpy import angle\n",
    "#from numpy import sqrt as sqrt\n",
    "from scipy.special import erf as erf\n",
    "import mpmath as mp\n",
    "import scipy.io\n",
    "\n",
    "from math import pi, log, exp, sin, cos, atan, e, radians, degrees\n",
    "from scipy.special import gamma as gamma\n",
    "from scipy.special import erf as erf\n",
    "from scipy.special import comb\n",
    "\n",
    "from math import factorial as fac\n",
    "import cmath\n",
    "from cmath import sqrt as sqrt\n",
    "import numpy as np\n",
    "\n",
    "from time import process_time\n",
    "\n",
    "inf=np.inf\n",
    "\n",
    "import pandas as pd\n",
    "from pprint import pprint\n",
    "from copy import copy as cp"
   ]
  },
  {
   "cell_type": "code",
   "execution_count": 2,
   "metadata": {},
   "outputs": [],
   "source": [
    "# 1. Mathematica solution\n",
    "\n",
    "mat_sol = \"\"\"1 - I a b K - (I a^2 K)/(2 R) - (a^3 b K^2)/(2 R) - a^2/w^2 + (\n",
    " I a^3 b K)/w^2 + I b K x + (a^3 K^2 x)/(2 R^2) + (I a K x)/R + (\n",
    " 3 a^2 b K^2 x)/(2 R) - (2 a^3 x)/w^4 + (2 a x)/w^2 - (\n",
    " 3 I a^2 b K x)/w^2 - (2 I a^3 K x)/(R w^2) - (a^2 K^2 x^2)/(\n",
    " 2 R^2) + (I a^3 b K^3 x^2)/R^2 - (a b K^2 x^2)/R + (\n",
    " 2 a^2 x^2)/w^4 - (4 I a^3 b K x^2)/w^4 + (2 I a b K x^2)/w^2 + (\n",
    " 2 I a^2 K x^2)/(R w^2) + (4 a^3 b K^2 x^2)/(R w^2) - (\n",
    " I a^3 K^3 x^3)/(6 R^3) - (I a^2 b K^3 x^3)/(2 R^2) + (4 a^3 x^3)/(\n",
    " 3 w^6) + (2 I a^2 b K x^3)/w^4 + (2 I a^3 K x^3)/(R w^4) - (\n",
    " a^3 K^2 x^3)/(R^2 w^2) - (2 a^2 b K^2 x^3)/(R w^2) + (\n",
    " a^3 b K^4 x^4)/(6 R^3) + (4 I a^3 b K x^4)/(3 w^6) - (\n",
    " 2 a^3 b K^2 x^4)/(R w^4) - (I a^3 b K^3 x^4)/(R^2 w^2) + (\n",
    " I a b K z)/R + (2 a b z)/w^2 - (2 I a^3 b K z)/(R w^2) - (\n",
    " 3 a^2 b K^2 x z)/(2 R^2) - (I b K x z)/R + (6 a^2 b x z)/w^4 - (\n",
    " 2 b x z)/w^2 + (6 I a^2 b K x z)/(R w^2) + (a b K^2 x^2 z)/R^2 - (\n",
    " 4 a b x^2 z)/w^4 + (12 I a^3 b K x^2 z)/(R w^4) - (\n",
    " 6 a^3 b K^2 x^2 z)/(R^2 w^2) - (4 I a b K x^2 z)/(R w^2) + (\n",
    " I a^2 b K^3 x^3 z)/(2 R^3) - (4 a^2 b x^3 z)/w^6 - (\n",
    " 6 I a^2 b K x^3 z)/(R w^4) + (3 a^2 b K^2 x^3 z)/(R^2 w^2) - (\n",
    " 16 I a^3 b K x^4 z)/(3 R w^6) + (4 a^3 b K^2 x^4 z)/(R^2 w^4) + (\n",
    " 4 I a^3 b K^3 x^4 z)/(3 R^3 w^2)\"\"\"\n"
   ]
  },
  {
   "cell_type": "code",
   "execution_count": 3,
   "metadata": {},
   "outputs": [
    {
     "name": "stdout",
     "output_type": "stream",
     "text": [
      "K**4*a**3*b*x**4/(6*R**3) + I*K**3*a**3*b*x**2/R**2 - I*K**3*a**3*b*x**4/(R**2*w**2) - I*K**3*a**2*b*x**3/(2*R**2) + 4*I*K**3*a**3*b*x**4*z/(3*R**3*w**2) - I*K**3*a**3*x**3/(6*R**3) + I*K**3*a**2*b*x**3*z/(2*R**3) - K**2*a**3*b/(2*R) + 4*K**2*a**3*b*x**2/(R*w**2) - 2*K**2*a**3*b*x**4/(R*w**4) + 3*K**2*a**2*b*x/(2*R) - 2*K**2*a**2*b*x**3/(R*w**2) - K**2*a*b*x**2/R - 6*K**2*a**3*b*x**2*z/(R**2*w**2) + 4*K**2*a**3*b*x**4*z/(R**2*w**4) + K**2*a**3*x/(2*R**2) - K**2*a**3*x**3/(R**2*w**2) - 3*K**2*a**2*b*x*z/(2*R**2) + 3*K**2*a**2*b*x**3*z/(R**2*w**2) - K**2*a**2*x**2/(2*R**2) + K**2*a*b*x**2*z/R**2 + I*K*a**3*b/w**2 - 4*I*K*a**3*b*x**2/w**4 + 4*I*K*a**3*b*x**4/(3*w**6) - 3*I*K*a**2*b*x/w**2 + 2*I*K*a**2*b*x**3/w**4 - I*K*a*b + 2*I*K*a*b*x**2/w**2 + I*K*b*x - 2*I*K*a**3*b*z/(R*w**2) + 12*I*K*a**3*b*x**2*z/(R*w**4) - 16*I*K*a**3*b*x**4*z/(3*R*w**6) - 2*I*K*a**3*x/(R*w**2) + 2*I*K*a**3*x**3/(R*w**4) + 6*I*K*a**2*b*x*z/(R*w**2) - 6*I*K*a**2*b*x**3*z/(R*w**4) - I*K*a**2/(2*R) + 2*I*K*a**2*x**2/(R*w**2) + I*K*a*b*z/R - 4*I*K*a*b*x**2*z/(R*w**2) + I*K*a*x/R - I*K*b*x*z/R - 2*a**3*x/w**4 + 4*a**3*x**3/(3*w**6) + 6*a**2*b*x*z/w**4 - 4*a**2*b*x**3*z/w**6 - a**2/w**2 + 2*a**2*x**2/w**4 + 2*a*b*z/w**2 - 4*a*b*x**2*z/w**4 + 2*a*x/w**2 - 2*b*x*z/w**2 + 1\n",
      "['K**4*a**3*b*x**4/(6*R**3)', '+', 'I*K**3*a**3*b*x**2/R**2', '-', 'I*K**3*a**3*b*x**4/(R**2*w**2)', '-', 'I*K**3*a**2*b*x**3/(2*R**2)', '+', '4*I*K**3*a**3*b*x**4*z/(3*R**3*w**2)', '-', 'I*K**3*a**3*x**3/(6*R**3)', '+', 'I*K**3*a**2*b*x**3*z/(2*R**3)', '-', 'K**2*a**3*b/(2*R)', '+', '4*K**2*a**3*b*x**2/(R*w**2)', '-', '2*K**2*a**3*b*x**4/(R*w**4)', '+', '3*K**2*a**2*b*x/(2*R)', '-', '2*K**2*a**2*b*x**3/(R*w**2)', '-', 'K**2*a*b*x**2/R', '-', '6*K**2*a**3*b*x**2*z/(R**2*w**2)', '+', '4*K**2*a**3*b*x**4*z/(R**2*w**4)', '+', 'K**2*a**3*x/(2*R**2)', '-', 'K**2*a**3*x**3/(R**2*w**2)', '-', '3*K**2*a**2*b*x*z/(2*R**2)', '+', '3*K**2*a**2*b*x**3*z/(R**2*w**2)', '-', 'K**2*a**2*x**2/(2*R**2)', '+', 'K**2*a*b*x**2*z/R**2', '+', 'I*K*a**3*b/w**2', '-', '4*I*K*a**3*b*x**2/w**4', '+', '4*I*K*a**3*b*x**4/(3*w**6)', '-', '3*I*K*a**2*b*x/w**2', '+', '2*I*K*a**2*b*x**3/w**4', '-', 'I*K*a*b', '+', '2*I*K*a*b*x**2/w**2', '+', 'I*K*b*x', '-', '2*I*K*a**3*b*z/(R*w**2)', '+', '12*I*K*a**3*b*x**2*z/(R*w**4)', '-', '16*I*K*a**3*b*x**4*z/(3*R*w**6)', '-', '2*I*K*a**3*x/(R*w**2)', '+', '2*I*K*a**3*x**3/(R*w**4)', '+', '6*I*K*a**2*b*x*z/(R*w**2)', '-', '6*I*K*a**2*b*x**3*z/(R*w**4)', '-', 'I*K*a**2/(2*R)', '+', '2*I*K*a**2*x**2/(R*w**2)', '+', 'I*K*a*b*z/R', '-', '4*I*K*a*b*x**2*z/(R*w**2)', '+', 'I*K*a*x/R', '-', 'I*K*b*x*z/R', '-', '2*a**3*x/w**4', '+', '4*a**3*x**3/(3*w**6)', '+', '6*a**2*b*x*z/w**4', '-', '4*a**2*b*x**3*z/w**6', '-', 'a**2/w**2', '+', '2*a**2*x**2/w**4', '+', '2*a*b*z/w**2', '-', '4*a*b*x**2*z/w**4', '+', '2*a*x/w**2', '-', '2*b*x*z/w**2', '+', '1']\n",
      "Terms list:\n",
      "['K**4*a**3*b*x**4/(6*R**3)', 'I*K**3*a**3*b*x**2/R**2', '-I*K**3*a**3*b*x**4/(R**2*w**2)', '-I*K**3*a**2*b*x**3/(2*R**2)', '4*I*K**3*a**3*b*x**4*z/(3*R**3*w**2)', '-I*K**3*a**3*x**3/(6*R**3)', 'I*K**3*a**2*b*x**3*z/(2*R**3)', '-K**2*a**3*b/(2*R)', '4*K**2*a**3*b*x**2/(R*w**2)', '-2*K**2*a**3*b*x**4/(R*w**4)', '3*K**2*a**2*b*x/(2*R)', '-2*K**2*a**2*b*x**3/(R*w**2)', '-K**2*a*b*x**2/R', '-6*K**2*a**3*b*x**2*z/(R**2*w**2)', '4*K**2*a**3*b*x**4*z/(R**2*w**4)', 'K**2*a**3*x/(2*R**2)', '-K**2*a**3*x**3/(R**2*w**2)', '-3*K**2*a**2*b*x*z/(2*R**2)', '3*K**2*a**2*b*x**3*z/(R**2*w**2)', '-K**2*a**2*x**2/(2*R**2)', 'K**2*a*b*x**2*z/R**2', 'I*K*a**3*b/w**2', '-4*I*K*a**3*b*x**2/w**4', '4*I*K*a**3*b*x**4/(3*w**6)', '-3*I*K*a**2*b*x/w**2', '2*I*K*a**2*b*x**3/w**4', '-I*K*a*b', '2*I*K*a*b*x**2/w**2', 'I*K*b*x', '-2*I*K*a**3*b*z/(R*w**2)', '12*I*K*a**3*b*x**2*z/(R*w**4)', '-16*I*K*a**3*b*x**4*z/(3*R*w**6)', '-2*I*K*a**3*x/(R*w**2)', '2*I*K*a**3*x**3/(R*w**4)', '6*I*K*a**2*b*x*z/(R*w**2)', '-6*I*K*a**2*b*x**3*z/(R*w**4)', '-I*K*a**2/(2*R)', '2*I*K*a**2*x**2/(R*w**2)', 'I*K*a*b*z/R', '-4*I*K*a*b*x**2*z/(R*w**2)', 'I*K*a*x/R', '-I*K*b*x*z/R', '-2*a**3*x/w**4', '4*a**3*x**3/(3*w**6)', '6*a**2*b*x*z/w**4', '-4*a**2*b*x**3*z/w**6', '-a**2/w**2', '2*a**2*x**2/w**4', '2*a*b*z/w**2', '-4*a*b*x**2*z/w**4', '2*a*x/w**2', '-2*b*x*z/w**2', '1']\n"
     ]
    }
   ],
   "source": [
    "# 2. Parse for Python\n",
    "\n",
    "pars_sol=mc.mathematica(mat_sol)\n",
    "print(pars_sol)\n",
    "str_pars_sol = str(pars_sol)\n",
    "\n",
    "print(str_pars_sol.split(' '))\n",
    "sol_list = str_pars_sol.split(' ')\n",
    "\n",
    "\n",
    "\n",
    "#remove '+', prepend '-'\n",
    "for i in range(len(sol_list)):\n",
    "    j = sol_list[i]\n",
    "    if(j == '-'):\n",
    "        sol_list[i+1]= '-' + sol_list[i+1]\n",
    "    \n",
    "sol_list[:] = [i for i in sol_list if i != '+']\n",
    "sol_list[:] = [i for i in sol_list if i != '-']\n",
    "      \n",
    "print(\"Terms list:\")\n",
    "print(sol_list)"
   ]
  },
  {
   "cell_type": "code",
   "execution_count": 4,
   "metadata": {},
   "outputs": [],
   "source": [
    "#3. Separate terms list for x-coordinate dependence\n",
    "\n",
    "#get highest n for x**n\n",
    "\n",
    "sols_arr = ['']*10\n",
    "\n",
    "#remove x**n and put term into sol_list[n]\n",
    "for i in sol_list:\n",
    "    #if x -> arr[n]\n",
    "    #nonlinear\n",
    "    if('x**' in i):\n",
    "        n_ind=i.find('x')+3 #get exp index\n",
    "        n = int(i[n_ind]) #set n to exp\n",
    "        sols_arr[n] += '+' + i #insert term at nth row of arr  \n",
    "    #no x -> arr[0]\n",
    "    elif(not 'x' in i):\n",
    "        sols_arr[0]+= '+' + i\n",
    "        #linear \n",
    "    else:\n",
    "        sols_arr[1]+= '+' + i\n",
    "\n",
    "sols_arr = [p for p in sols_arr if p != '']\n"
   ]
  },
  {
   "cell_type": "code",
   "execution_count": 5,
   "metadata": {},
   "outputs": [
    {
     "name": "stdout",
     "output_type": "stream",
     "text": [
      "['+-K**2*a**3*b/(2*R)+I*K*a**3*b/w**2+-I*K*a*b+-2*I*K*a**3*b*z/(R*w**2)+-I*K*a**2/(2*R)+I*K*a*b*z/R+-a**2/w**2+2*a*b*z/w**2+1', '+3*K**2*a**2*b*x/(2*R)+K**2*a**3*x/(2*R**2)+-3*K**2*a**2*b*x*z/(2*R**2)+-3*I*K*a**2*b*x/w**2+I*K*b*x+-2*I*K*a**3*x/(R*w**2)+6*I*K*a**2*b*x*z/(R*w**2)+I*K*a*x/R+-I*K*b*x*z/R+-2*a**3*x/w**4+6*a**2*b*x*z/w**4+2*a*x/w**2+-2*b*x*z/w**2', '+I*K**3*a**3*b*x**2/R**2+4*K**2*a**3*b*x**2/(R*w**2)+-K**2*a*b*x**2/R+-6*K**2*a**3*b*x**2*z/(R**2*w**2)+-K**2*a**2*x**2/(2*R**2)+K**2*a*b*x**2*z/R**2+-4*I*K*a**3*b*x**2/w**4+2*I*K*a*b*x**2/w**2+12*I*K*a**3*b*x**2*z/(R*w**4)+2*I*K*a**2*x**2/(R*w**2)+-4*I*K*a*b*x**2*z/(R*w**2)+2*a**2*x**2/w**4+-4*a*b*x**2*z/w**4', '+-I*K**3*a**2*b*x**3/(2*R**2)+-I*K**3*a**3*x**3/(6*R**3)+I*K**3*a**2*b*x**3*z/(2*R**3)+-2*K**2*a**2*b*x**3/(R*w**2)+-K**2*a**3*x**3/(R**2*w**2)+3*K**2*a**2*b*x**3*z/(R**2*w**2)+2*I*K*a**2*b*x**3/w**4+2*I*K*a**3*x**3/(R*w**4)+-6*I*K*a**2*b*x**3*z/(R*w**4)+4*a**3*x**3/(3*w**6)+-4*a**2*b*x**3*z/w**6', '+K**4*a**3*b*x**4/(6*R**3)+-I*K**3*a**3*b*x**4/(R**2*w**2)+4*I*K**3*a**3*b*x**4*z/(3*R**3*w**2)+-2*K**2*a**3*b*x**4/(R*w**4)+4*K**2*a**3*b*x**4*z/(R**2*w**4)+4*I*K*a**3*b*x**4/(3*w**6)+-16*I*K*a**3*b*x**4*z/(3*R*w**6)']\n"
     ]
    }
   ],
   "source": [
    "print(sols_arr)"
   ]
  },
  {
   "cell_type": "code",
   "execution_count": 6,
   "metadata": {},
   "outputs": [
    {
     "name": "stdout",
     "output_type": "stream",
     "text": [
      "+-K**2*a**3*b/(2*R)+I*K*a**3*b/w**2+-I*K*a*b+-2*I*K*a**3*b*z/(R*w**2)+-I*K*a**2/(2*R)+I*K*a*b*z/R+-a**2/w**2+2*a*b*z/w**2+1\n"
     ]
    }
   ],
   "source": [
    "print(sols_arr[0])"
   ]
  },
  {
   "cell_type": "code",
   "execution_count": 7,
   "metadata": {},
   "outputs": [
    {
     "name": "stdout",
     "output_type": "stream",
     "text": [
      "+3*K**2*a**2*b*x/(2*R)+K**2*a**3*x/(2*R**2)+-3*K**2*a**2*b*x*z/(2*R**2)+-3*I*K*a**2*b*x/w**2+I*K*b*x+-2*I*K*a**3*x/(R*w**2)+6*I*K*a**2*b*x*z/(R*w**2)+I*K*a*x/R+-I*K*b*x*z/R+-2*a**3*x/w**4+6*a**2*b*x*z/w**4+2*a*x/w**2+-2*b*x*z/w**2\n"
     ]
    }
   ],
   "source": [
    "print(sols_arr[1])"
   ]
  },
  {
   "cell_type": "code",
   "execution_count": 8,
   "metadata": {},
   "outputs": [
    {
     "name": "stdout",
     "output_type": "stream",
     "text": [
      "+I*K**3*a**3*b*x**2/R**2+4*K**2*a**3*b*x**2/(R*w**2)+-K**2*a*b*x**2/R+-6*K**2*a**3*b*x**2*z/(R**2*w**2)+-K**2*a**2*x**2/(2*R**2)+K**2*a*b*x**2*z/R**2+-4*I*K*a**3*b*x**2/w**4+2*I*K*a*b*x**2/w**2+12*I*K*a**3*b*x**2*z/(R*w**4)+2*I*K*a**2*x**2/(R*w**2)+-4*I*K*a*b*x**2*z/(R*w**2)+2*a**2*x**2/w**4+-4*a*b*x**2*z/w**4\n"
     ]
    }
   ],
   "source": [
    "print(sols_arr[2])"
   ]
  },
  {
   "cell_type": "code",
   "execution_count": 9,
   "metadata": {},
   "outputs": [
    {
     "name": "stdout",
     "output_type": "stream",
     "text": [
      "0\n",
      "1\n",
      "2\n",
      "3\n",
      "4\n"
     ]
    }
   ],
   "source": [
    "for i in range(len(sols_arr)):\n",
    "    print(i)"
   ]
  },
  {
   "cell_type": "code",
   "execution_count": 10,
   "metadata": {},
   "outputs": [],
   "source": [
    "#x dep\n",
    "def x_plus_1(w0,z,zr,n):    \n",
    "    factor = (w0/2)*( ( 1-(1j)*(z/zr) )*np.sqrt(n+1))\n",
    "    return(factor)\n",
    "\n",
    "#x dep\n",
    "def x_minus_1(w0,z,zr,n):\n",
    "    factor = (w0/2)*( np.sqrt(n)*(1+(1j)*(z/zr)) )\n",
    "    return(factor)"
   ]
  },
  {
   "cell_type": "code",
   "execution_count": 11,
   "metadata": {},
   "outputs": [],
   "source": [
    "#represents iterative x transformation\n",
    "##starts at n-E\n",
    "##iterates (c+d) times, this is x order\n",
    "##returns a queue with X_{+/-}^1(n) for each n\n",
    "#n start is n-e\n",
    "\n",
    "class Item:\n",
    "    def __init__(self, n,N,coeff):\n",
    "        self.n = n\n",
    "        self.N = N\n",
    "        self.coeff = coeff\n",
    "\n",
    "def transform_x (E,x_order, a,w,gouy,n, w0,z,zr):\n",
    "    q1 = []\n",
    "    q2 = []\n",
    "    #queue of items which are passed each iteration\n",
    "    coeff = 1 #coeff can be worked in this fxn, then multiplied to overall coupling after\n",
    "\n",
    "    N = n-E #start at n-E\n",
    "    start_item = Item(n,N,coeff)\n",
    "    q1.append(start_item) #just for printing, need 3-array. to track inc/dec\n",
    "    \n",
    "    x_count = x_order  #counter to track iterations\n",
    "#     print(\"n,E,N\",n,E,N)\n",
    "    \n",
    "    #empty q1 iteratively and raise and lower\n",
    "    while(x_count!=0):\n",
    "        while(q1):\n",
    "            #get from q1\n",
    "            item = cp(q1.pop())\n",
    "            \n",
    "            #raise n, factor X_+^1(n)  **raising doesn't involve factor n**\n",
    "            item_raise = cp(item)\n",
    "            \n",
    "            item_raise.coeff = item_raise.coeff*x_plus_1(w0,z,zr,item_raise.N)\n",
    "            item_raise.N += 1 #overall n mode up\n",
    "            \n",
    "            \n",
    "            q2.append(item_raise) # put into temp q\n",
    "            \n",
    "            \n",
    "            #lower n, factor X_-^1(n)\n",
    "            item_lower = cp(item)\n",
    "            \n",
    "            if(item_lower.N>0):\n",
    "                item_lower.coeff = item_lower.coeff*x_minus_1(w0,z,zr,item_lower.N)\n",
    "                item_lower.N -= 1 #overall n mode down\n",
    "\n",
    "                q2.append(item_lower) #put into temp q\n",
    "            \n",
    "        #empty q2 back into q1 to re-iterate\n",
    "        while(q2):\n",
    "            q1.append(q2.pop())\n",
    "            \n",
    "        x_count-=1 #iteration done, decrement count\n",
    "        \n",
    "    \n",
    "    #all x factors transformed, return full queue\n",
    "    return(q1)"
   ]
  },
  {
   "cell_type": "code",
   "execution_count": 12,
   "metadata": {},
   "outputs": [],
   "source": [
    "#represents the sums\n",
    "def update_modes (z,params,a,b,modes,sols_arr):\n",
    "    #get params\n",
    "    K = params.getK()\n",
    "    w0 = params.getW0()\n",
    "    zr = params.getZr()\n",
    "    w = pl.w(z,params)\n",
    "    gouy = pl.gouy_phase(z,params) \n",
    "    R = pl.radius_curvature(z,params)\n",
    "    \n",
    "    #build new modes (up to 2 orders larger for quad. dep.)\n",
    "    rows = len(modes)\n",
    "    cols = len(modes[0])  \n",
    "    number_modes = rows*cols\n",
    "    exp_order = len(sols_arr)\n",
    "    new_modes = [[0 for m in range(cols+exp_order)] for n in range(rows+exp_order)]\n",
    "    \n",
    "    \n",
    "    #calculate all coupling factors a->e\\d\n",
    "       \n",
    "    for n in range(len(modes)):\n",
    "        for m in range(len(modes[n])):\n",
    "            if (modes[n][m]!=0): #break if c_nm = 0\n",
    "                c_nm = modes[n][m] #assign c_nm\n",
    "                \n",
    "                #build up couplings\n",
    "                coupling_list = []\n",
    "                #list of eval'd couplings\n",
    "                for x_order in range(len(sols_arr)):\n",
    "                    coupling_list.append(eval(sols_arr[x_order]))\n",
    "                    \n",
    "                    #do x transformation \n",
    "                    #start at n_start+n\n",
    "                    n_start=0\n",
    "                    if(x_order>0):\n",
    "                        q = transform_x (n_start,x_order,a,w,gouy,n,w0,z,zr)\n",
    "\n",
    "                        #empty the q\n",
    "                        while(q):\n",
    "                            item = cp(q.pop())\n",
    "                            X = item.coeff #just x coupling\n",
    "                            N = item.N #final n order\n",
    "                            \n",
    "                            if(N>=0):\n",
    "                                new_modes[N][m]+= c_nm*coupling_list[x_order]*X\n",
    "\n",
    "                                #ind_list.append(Ind(n,m,F,A,B,C,D,E,X,N))\n",
    "\n",
    "                    else:\n",
    "                        N=n-n_start\n",
    "                        X=''\n",
    "                        new_modes[N][m]+= c_nm*coupling_list[x_order]\n",
    "                            \n",
    "# return(new_modes,ind_list)\n",
    "    return(new_modes)"
   ]
  },
  {
   "cell_type": "code",
   "execution_count": 13,
   "metadata": {},
   "outputs": [],
   "source": [
    "mat = scipy.io.loadmat('Top_hat_for_paul.mat')\n",
    "# mat = scipy.io.loadmat('paul_coef_file.mat')\n",
    "# for x in mat:\n",
    "#   print(x)\n",
    "# coef=mat['coeftopUnitInt'].ravel()\n",
    "# print(mat['readmepaul'])\n",
    "coef=mat['coeftop'].ravel()\n",
    "\n",
    "def N_f(A):\n",
    "    \n",
    "    res = np.floor((np.sqrt(8*A+1)-1)/2)\n",
    "    \n",
    "    #res = (np.sqrt(9+8*A)-3)/2\n",
    "    return(res)\n",
    "\n",
    "def m(N,A):\n",
    "    res = (N+1)*(N+2)/2 - (A+1)\n",
    "    return(res)\n",
    "\n",
    "#def n(N,A):\n",
    "#    m= (N+1)*(N+2)/2 - (A+1)\n",
    "#    res = N-m\n",
    "#    return(res)\n",
    "def n(N,A):\n",
    "    res = A - (N*(N+1)/2)\n",
    "    return(res)\n",
    "\n",
    "NumberModes = int(len(coef))\n",
    "listModesN = [None] * NumberModes\n",
    "listModesM = [None] * NumberModes\n",
    "listModesC = [None] * NumberModes\n",
    "\n",
    "#area = pi*1e-3**2\n",
    "area = 1\n",
    "#for i in range(len(coef)):\n",
    "#    A=i\n",
    "#    N= N_f(A)\n",
    "#\n",
    "#    if (m(N,A)%2 == 0) & (n(N,A)%2 == 0):\n",
    "#        print(coef[A], '\\t\\t\\t' , m(N,A), ',' , n(N,A))\n",
    "\n",
    "for i in range(NumberModes):\n",
    "    A=i\n",
    "    N= N_f(A)\n",
    "    listModesN[i] = int(m(N,A))\n",
    "    listModesM[i] = int(n(N,A))\n",
    "    listModesC[i] = coef[i]/sqrt(area)\n",
    "    \n",
    "    "
   ]
  },
  {
   "cell_type": "code",
   "execution_count": 14,
   "metadata": {},
   "outputs": [],
   "source": [
    "#loop through and sum over modes overlap where a,b -> n,m\n",
    "def iterate_modes_overlap(w_1,w_2,zR_1,zR_2,k_1,k_2,d_1,W_2,x_1,x_2,Z,Y,modes):   \n",
    "\n",
    "    N = len(modes)\n",
    "    M = len(modes[0])\n",
    "    res_arr = [[0 for i in range(10)] for j in range(10)]\n",
    "    res = 0\n",
    "\n",
    "    for a in range(N):\n",
    "        for b in range(M):            \n",
    "            #ignore zero coeff.\n",
    "            if (modes[a][b]!=0):\n",
    "                c_nm = modes[a][b]\n",
    "                #result is the sum of all overlap coefficients each with a factor of mode coefficient\n",
    "                res += ( c_nm * th.overlap(a,b,w_1,w_2,zR_1,zR_2,k_1,k_2,d_1,W_2,x_1,x_2,Z,Y) )\n",
    "                \n",
    "    return(res)"
   ]
  },
  {
   "cell_type": "code",
   "execution_count": 15,
   "metadata": {},
   "outputs": [],
   "source": [
    "def signals(v):\n",
    "    #points determine size of arrays (equivalent to # data points plotted)\n",
    "    points = v.points\n",
    "    time_start = process_time()\n",
    "\n",
    "    time_ave = 0\n",
    "\n",
    "    #modes_arr = [0]*points\n",
    "    cl = [0]*points\n",
    "    cr = [0]*points\n",
    "    phi_l = [0]*points\n",
    "    phi_r = [0]*points\n",
    "    dws = [0]*points\n",
    "    lps = [0]*points\n",
    "    total_lps = [0]*points\n",
    "\n",
    "\n",
    "    #alpha_arr = np.linspace(-500e-6,500e-6,points)\n",
    "\n",
    "    for p in range (points):\n",
    "        time_ave_start = process_time()\n",
    "        #shift x+zsina\n",
    "        new_modes = update_modes(v.z,v.params,v.a,v.alpha_arr[p],modes_0,sols_arr)\n",
    "       \n",
    "        #create arrays of overlap coefficients left and right\n",
    "        cl[p] = iterate_modes_overlap(v.w_1,v.w_2,v.zR_1,v.zR_2,v.k_1,v.k_2,v.d_1,v.W_2,v.x_1L,v.x_2L,v.Z,v.Y,new_modes) # left overlap (-2e-3,0)\n",
    "\n",
    "        cr[p] = iterate_modes_overlap(v.w_1,v.w_2,v.zR_1,v.zR_2,v.k_1,v.k_2,v.d_1,v.W_2,v.x_1R,v.x_2R,v.Z,v.Y,new_modes) # right overlap (0,2e-3)\n",
    "        time_ave += (process_time()-time_ave_start)\n",
    "\n",
    "        #create arrays of phases for left and right coeff.\n",
    "        phi_r[p]=angle(cr[p])\n",
    "        phi_l[p]=angle(cl[p])\n",
    "        \n",
    "        #create arrays of dws &lps for phases in phase arrays\n",
    "        dws[p] = (phi_r[p]-phi_l[p])\n",
    "        lps[p] = 0.5*(phi_r[p]+phi_l[p])/v.k_1\n",
    "#         total_lps[p] = (phi_r[p]+phi_l[p])/v.k_1*1e3\n",
    "        total_lps[p] = angle(cr[p]+cl[p])/v.k_1\n",
    "    #total time for all DWS & LPS points (not including scattering)\n",
    "#     time_elapsed = (process_time() - time_start)\n",
    "#     print(time_elapsed,'s')\n",
    "#     print(time_ave/p,'s')\n",
    "    \n",
    "    return(dws,lps,total_lps)\n",
    "\n",
    "num=101\n",
    "waist = 1e-3\n",
    "\n",
    "class Vars:\n",
    "#modes,alpha with points\n",
    "    def __init__(self, \n",
    "                 lam=1064e-9,\n",
    "#                  z_PD=10e-3,z=10e-3,\n",
    "#                  z_m=0,Z=10e-3,\n",
    "#                  z_LO=0, d_1=10e-3,\n",
    "                 z_PD=0,z=0,\n",
    "                 z_m=0,Z=0,\n",
    "                 z_LO=0, d_1=0,\n",
    "                 Y=20e-3,\n",
    "                 x_1R=10e-6,x_2R=20e-3,\n",
    "                 x_1L=-20e-3,x_2L=-10e-6,\n",
    "                 w_1=1e-3, w_2=waist,\n",
    "                 zR_1=pi*1e-3**2/1064e-9,zR_2=pi*waist**2/1064e-9,\n",
    "                 k_1=5905249.348852994,k_2=5905249.348852994,\n",
    "                 params=pl.Params(1064e-9,waist,0),\n",
    "                 W_2=1e-3,\n",
    "                 points=num,\n",
    "                 a=10e-6,alpha_arr=np.linspace(-500e-6,500e-6,num),modes_arr=[0]*num):\n",
    "        self.lam = lam\n",
    "\n",
    "\n",
    "        self.z_PD = z_PD #PD location\n",
    "        self.z = z #prop distance assumed PD\n",
    "\n",
    "        self.z_m = z_m #meas beam \n",
    "        self.Z = Z #distance PD-m\n",
    "\n",
    "        self.z_LO = z_LO #Local ref. beam\n",
    "        self.d_1 = d_1 #distance PD-LO\n",
    "\n",
    "\n",
    "        self.Y = Y #Y int bound\n",
    "\n",
    "        self.x_1R = x_1R\n",
    "        self.x_2R = x_2R \n",
    "\n",
    "        self.x_1L = x_1L #assumed symmetric with right side\n",
    "        self.x_2L = x_2L\n",
    "\n",
    "        self.w_1 = w_1 #waist LO \n",
    "        self.w_2 = w_2 #waist MS\n",
    "\n",
    "        self.zR_1 = zR_1 #rayleigh LO\n",
    "        self.zR_2 = zR_2\n",
    "\n",
    "\n",
    "        self.k_1 = k_1 #wavenum LO\n",
    "        self.k_2 = k_2\n",
    "\n",
    "        self.params = params #for building tophat coefficients\n",
    "\n",
    "        self.W_2 = pl.w(z,pl.Params(1064e-9,waist,0)) #tophat beam rad , w(z) or 1e-3?\n",
    "\n",
    "\n",
    "\n",
    "        #integration and misalignment\n",
    "        self.points = points\n",
    "\n",
    "        self.a = a\n",
    "        self.alpha_arr = alpha_arr\n",
    "\n",
    "        self.modes_arr = modes_arr\n",
    "\n",
    "        #build modes from misalignments\n",
    "        for p in range (points):\n",
    "            self.modes_arr[p] = update_modes(z,params,a,alpha_arr[p],modes_0,sols_arr) #array of array of scattered modes#array of array of scattered modes\n",
    "\n",
    "    def setz(self,z):\n",
    "        self.z = z #prop distance assumed PD\n",
    "        self.z_PD = z #PD location\n",
    "        \n",
    "        self.Z = z-self.z_m #distance PD-m\n",
    "\n",
    "        self.d_1 = self.z_PD-self.z_LO #distance PD-LO\n",
    "    \n",
    "        self.W_2 = pl.w(z,pl.Params(1064e-9,waist,0))\n",
    "        \n",
    "        #scattering also depends on z...\n",
    "        for p in range (self.points):\n",
    "            self.modes_arr[p] = [0]*p #clear modes\n",
    "            self.modes_arr[p] = update_modes(z,params,a,alpha_arr[p],modes_0,sols_arr) #array of array of scattered modes#array of array of scattered modes\n",
    "\n",
    "        \n"
   ]
  },
  {
   "cell_type": "code",
   "execution_count": 16,
   "metadata": {},
   "outputs": [
    {
     "data": {
      "image/png": "[encoded data removed]",
      "text/plain": [
       "<Figure size 432x288 with 1 Axes>"
      ]
     },
     "metadata": {
      "needs_background": "light"
     },
     "output_type": "display_data"
    },
    {
     "data": {
      "image/png": "[encoded data removed]",
      "text/plain": [
       "<Figure size 432x288 with 1 Axes>"
      ]
     },
     "metadata": {
      "needs_background": "light"
     },
     "output_type": "display_data"
    },
    {
     "data": {
      "image/png": "[encoded data removed]",
      "text/plain": [
       "<Figure size 432x288 with 1 Axes>"
      ]
     },
     "metadata": {
      "needs_background": "light"
     },
     "output_type": "display_data"
    }
   ],
   "source": [
    "modes_0 = plb.modes((0,0,1))\n",
    "\n",
    "x=1\n",
    "I=1j\n",
    "\n",
    "# z=10e-3\n",
    "# params = pl.Params(1064e-9,1e-3,z)\n",
    "\n",
    "\n",
    "\n",
    "v = Vars()\n",
    "dws,lps,total_lps = signals(v)\n",
    "\n",
    "\n",
    "params=pl.Params(1064e-9,waist,0)\n",
    "K=params.getK()\n",
    "\n",
    "total_arr = np.array(total_lps)\n",
    "total_arr_con = total_arr*1e9\n",
    "\n",
    "lps_arr = np.array(lps)\n",
    "lps_arr_con = lps_arr*1e9\n",
    "\n",
    "plt.xlabel(r'Tilt Angle, $\\alpha\\;$[' + 'rad]', fontsize=15) \n",
    "plt.ticklabel_format(axis=\"y\", style=\"sci\", scilimits=(0,0))\n",
    "plt.ticklabel_format(axis=\"x\", style=\"sci\", scilimits=(0,0))\n",
    "plt.ylabel(r'Length $[' +  'nm]$', fontsize=15) \n",
    "plt.title(r'Tot LPS Gaussian-Gaussian') \n",
    "plt.xlim([-500e-6,500e-6])\n",
    "# plt.legend()\n",
    "plt.plot(v.alpha_arr,total_arr_con)\n",
    "\n",
    "\n",
    "plt.grid()\n",
    "\n",
    "plt.figure()\n",
    "\n",
    "plt.xlabel(r'Tilt Angle, $\\alpha\\;$[' + 'rad]', fontsize=15) \n",
    "plt.ticklabel_format(axis=\"y\", style=\"sci\", scilimits=(0,0))\n",
    "plt.ticklabel_format(axis=\"x\", style=\"sci\", scilimits=(0,0))\n",
    "plt.ylabel(r'Phase $[' +  'rad]$', fontsize=15) \n",
    "plt.title(r'DWS Gaussian-Gaussian') \n",
    "plt.xlim([-500e-6,500e-6])\n",
    "# plt.legend()\n",
    "plt.plot(v.alpha_arr,dws)\n",
    "\n",
    "plt.grid()\n",
    "\n",
    "plt.figure()\n",
    "\n",
    "\n",
    "\n",
    "plt.xlabel(r'Tilt Angle, $\\alpha\\;$[' + 'rad]', fontsize=15) \n",
    "plt.ticklabel_format(axis=\"y\", style=\"sci\", scilimits=(0,0))\n",
    "plt.ticklabel_format(axis=\"x\", style=\"sci\", scilimits=(0,0))\n",
    "plt.ylabel(r'Length $[' +  'nm]$', fontsize=15) \n",
    "plt.title(r'LPS Gaussian-Gaussian') \n",
    "plt.xlim([-500e-6,500e-6])\n",
    "# plt.legend()\n",
    "plt.plot(v.alpha_arr,lps_arr_con)\n",
    "\n",
    "\n",
    "plt.grid()"
   ]
  },
  {
   "cell_type": "code",
   "execution_count": 17,
   "metadata": {},
   "outputs": [
    {
     "data": {
      "image/png": "[encoded data removed]",
      "text/plain": [
       "<Figure size 432x288 with 1 Axes>"
      ]
     },
     "metadata": {
      "needs_background": "light"
     },
     "output_type": "display_data"
    },
    {
     "data": {
      "image/png": "[encoded data removed]",
      "text/plain": [
       "<Figure size 432x288 with 1 Axes>"
      ]
     },
     "metadata": {
      "needs_background": "light"
     },
     "output_type": "display_data"
    },
    {
     "data": {
      "image/png": "[encoded data removed]",
      "text/plain": [
       "<Figure size 432x288 with 1 Axes>"
      ]
     },
     "metadata": {
      "needs_background": "light"
     },
     "output_type": "display_data"
    }
   ],
   "source": [
    "\n",
    "plt.xlabel(r'Tilt Angle, $\\alpha\\;$[' + 'rad]', fontsize=15) \n",
    "plt.ticklabel_format(axis=\"y\", style=\"sci\", scilimits=(0,0))\n",
    "plt.ticklabel_format(axis=\"x\", style=\"sci\", scilimits=(0,0))\n",
    "plt.ylabel(r'Length $[' +  'nm]$', fontsize=15) \n",
    "plt.title(r'Tot LPS Gaussian-Gaussian') \n",
    "plt.xlim([-300e-6,300e-6])\n",
    "# plt.legend()\n",
    "plt.plot(v.alpha_arr,total_arr_con)\n",
    "\n",
    "\n",
    "plt.grid()\n",
    "\n",
    "plt.figure()\n",
    "\n",
    "plt.xlabel(r'Tilt Angle, $\\alpha\\;$[' + 'rad]', fontsize=15) \n",
    "plt.ticklabel_format(axis=\"y\", style=\"sci\", scilimits=(0,0))\n",
    "plt.ticklabel_format(axis=\"x\", style=\"sci\", scilimits=(0,0))\n",
    "plt.ylabel(r'Phase $[' +  'rad]$', fontsize=15) \n",
    "plt.title(r'DWS Gaussian-Gaussian') \n",
    "plt.xlim([-300e-6,300e-6]); plt.ylim([-2,2])\n",
    "# plt.legend()\n",
    "plt.plot(v.alpha_arr,dws)\n",
    "\n",
    "plt.grid()\n",
    "\n",
    "plt.figure()\n",
    "\n",
    "\n",
    "\n",
    "plt.xlabel(r'Tilt Angle, $\\alpha\\;$[' + 'rad]', fontsize=15) \n",
    "plt.ticklabel_format(axis=\"y\", style=\"sci\", scilimits=(0,0))\n",
    "plt.ticklabel_format(axis=\"x\", style=\"sci\", scilimits=(0,0))\n",
    "plt.ylabel(r'Length $[' +  'nm]$', fontsize=15) \n",
    "plt.title(r'LPS Gaussian-Gaussian') \n",
    "plt.xlim([-300e-6,300e-6]); plt.ylim([-5,5])\n",
    "# plt.legend()\n",
    "plt.plot(v.alpha_arr,lps_arr_con)\n",
    "\n",
    "\n",
    "plt.grid()"
   ]
  },
  {
   "cell_type": "code",
   "execution_count": null,
   "metadata": {},
   "outputs": [],
   "source": []
  }
 ],
 "metadata": {
  "kernelspec": {
   "display_name": "Python 3",
   "language": "python",
   "name": "python3"
  },
  "language_info": {
   "codemirror_mode": {
    "name": "ipython",
    "version": 3
   },
   "file_extension": ".py",
   "mimetype": "text/x-python",
   "name": "python",
   "nbconvert_exporter": "python",
   "pygments_lexer": "ipython3",
   "version": "3.7.3"
  }
 },
 "nbformat": 4,
 "nbformat_minor": 2
}
