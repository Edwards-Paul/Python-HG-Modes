{
 "cells": [
  {
   "cell_type": "markdown",
   "metadata": {
    "slideshow": {
     "slide_type": "slide"
    }
   },
   "source": [
    "# 2nd-order shift and tilt HG00-HG00, matching basis, waist at gapless Half-plane PD\n",
    "\n"
   ]
  },
  {
   "cell_type": "code",
   "execution_count": 6,
   "metadata": {
    "slideshow": {
     "slide_type": "skip"
    }
   },
   "outputs": [],
   "source": [
    "import PauLisa as pl, numpy as np, matplotlib.pyplot as plt\n",
    "from scipy.special import erfi as erfi\n",
    "pi=np.pi"
   ]
  },
  {
   "cell_type": "markdown",
   "metadata": {
    "slideshow": {
     "slide_type": "skip"
    }
   },
   "source": [
    "### input"
   ]
  },
  {
   "cell_type": "code",
   "execution_count": 7,
   "metadata": {
    "slideshow": {
     "slide_type": "fragment"
    }
   },
   "outputs": [],
   "source": [
    "#spot, wavelength, shift\n",
    "w= 1e-3\n",
    "lam= 1064e-9\n",
    "a = 100e-6  #100 micron shift\n",
    "k = 2*pi/(1064e-9)\n",
    "\n",
    "#alpha(10nrad)\n",
    "alpha_min=-500e-6\n",
    "alpha_max=500e-6\n",
    "num_points = 1000\n",
    "alpha = np.linspace(alpha_min,alpha_max,num = num_points)\n",
    "\n",
    "## PLOT SCALES AND LABELS\n",
    "micro = 10**(6)\n",
    "nano = 10**(9)\n",
    "cycle = 1/(2*pi)\n",
    "rad = 1\n",
    "xlab = 'u'\n",
    "ylab = 'rad'\n",
    "\n",
    "##SET SCALES\n",
    "alpha_scale = micro\n",
    "phase_scale = rad\n",
    "\n",
    "if(alpha_scale==nano):\n",
    "    xlab = 'n'\n",
    "if(phase_scale==cycle):\n",
    "    ylab = 'cycles'"
   ]
  },
  {
   "cell_type": "markdown",
   "metadata": {},
   "source": [
    "The phase at right:\n",
    "\n",
    "\\begin{equation*}\n",
    "\t\\phi_R = \t\t\n",
    "\t\t\t\\arctan\n",
    "\t\t\t\t\\left[\n",
    "\t\t\t\t\t\\frac\n",
    "\t\t\t\t\t{ \\frac{\\pi \\alpha}{\\lambda}\n",
    "\t\t\t\t\t\\left[\n",
    "\t\t\t\t\t\ta \n",
    "\t\t\t\t\t\t+\n",
    "\t\t\t\t\t\t\\sqrt{\\frac{2}{\\pi}} w_0\n",
    "\t\t\t\t\t\\right]}\t\t\t\t\t\n",
    "\t\t\t\t{1\n",
    "\t\t\t\t+\n",
    "\t\t\t\t \\sqrt{\\frac{2}{\\pi}} \\frac{a}{w_0}\n",
    "\t\t\t\t \t\t-\\frac{1}{16}\\alpha^2 k^2 \n",
    "\t[\n",
    "\t w_0^2\n",
    "\t+ \n",
    "\ta w_0(\n",
    "\t\t2\n",
    "\t\\sqrt{\\frac{2}{\\pi}}\n",
    "\t)\n",
    "\t]\t\t\t\n",
    "\t\t-\n",
    "\ta^2 \\frac{1}{4 w_0^2} \n",
    "\t+\n",
    "\t\t\t(a \\alpha)^2 k^2\n",
    "\t\t\\sqrt{\\frac{2}{\\pi}}\n",
    "\t\t(\n",
    "\t\t\\frac{1}{32}\n",
    "\t\t)\t\n",
    "\t\t\t\t }\n",
    "\t\t\t\t\\right]\n",
    "\\end{equation*}\n",
    "\n",
    "The phase at left:\n",
    "\n",
    "\\begin{align*}\n",
    "\t\\phi_L =&\n",
    "\t\t\t\\arctan\n",
    "\t\t\t\t\\left[\n",
    "\t\t\t\t\t\\frac\n",
    "\t\t\t\t\t{ \\frac{\\pi \\alpha}{\\lambda}\n",
    "\t\t\t\t\t\\left[\n",
    "\t\t\t\t\t\ta \n",
    "\t\t\t\t\t\t-\n",
    "\t\t\t\t\t\t\\sqrt{\\frac{2}{\\pi}} w_0\n",
    "\t\t\t\t\t\\right]}\t\t\t\t\t\n",
    "\t\t\t\t{1\n",
    "\t\t\t\t-\n",
    "\t\t\t\t \\sqrt{\\frac{2}{\\pi}} \\frac{a}{w_0}\n",
    "\t-\\frac{1}{16}\n",
    "\t\\alpha^2 k^2 \n",
    "\t[\n",
    "\t \\frac{1}{8} w_0^2\n",
    "\t- \n",
    "\ta w_0(\n",
    "\t2\n",
    "\t\\sqrt{\\frac{2}{\\pi}}\n",
    "\t)\n",
    "\t]\t\t\n",
    "\t-\n",
    "\ta^2 \\frac{1}{4 w_0^2}\t\n",
    "\t\t+\n",
    "\t\t\t(a \\alpha)^2 k^2\n",
    "\t\t\\sqrt{\\frac{2}{\\pi}}\n",
    "\t\t(\n",
    "\t\t\\frac{1}{32}\n",
    "\t\t)\t \n",
    "\t\t\t\t }\n",
    "\t\t\t\t\\right]\n",
    "\\end{align*}"
   ]
  },
  {
   "cell_type": "code",
   "execution_count": 13,
   "metadata": {
    "slideshow": {
     "slide_type": "slide"
    }
   },
   "outputs": [],
   "source": [
    "#signals    \n",
    "def phase_diff(alpha,a):\n",
    "    phase_result=(0.50*(phi_r(alpha,a)-phi_l(alpha,a) ))\n",
    "    return(phase_result)\n",
    "\n",
    "def gws(alpha,a):\n",
    "    gws_result=(0.50*(phi_r(alpha,a)+phi_l(alpha,a) ))\n",
    "    return(gws_result)\n",
    "\n",
    "#shifts\n",
    "def second_order_shift_den_r(alpha,a):\n",
    "    result= (\n",
    "                -a**2 *(1/(4*w**2))\n",
    "                +\n",
    "                (a*alpha)**2*k**2 * np.sqrt(2/pi)*(1/32)\n",
    "            )\n",
    "    return(result)\n",
    "\n",
    "def second_order_shift_den_l(alpha,a):\n",
    "    result= (\n",
    "                -a**2 *(1/(4*w**2))        \n",
    "                +\n",
    "                (a*alpha)**2*k**2 * np.sqrt(2/pi)*(1/32)\n",
    "            )\n",
    "    return(result)\n",
    "\n",
    "\n",
    "#PHASE right and left\n",
    "def phi_r(alpha,a):\n",
    "    return(np.arctan \n",
    "            (\n",
    "                (\n",
    "                    (pi*alpha/lam)*\n",
    "                    (\n",
    "                        a\n",
    "                        +\n",
    "                        np.sqrt(2/pi)*w\n",
    "                    )\n",
    "                )  \n",
    "                    /\n",
    "                    (\n",
    "                        1\n",
    "                        +\n",
    "                        np.sqrt(2/pi)*(a/w)\n",
    "                        +\n",
    "                        second_order_shift_den_r(alpha,a)                       \n",
    "                    )\n",
    "            )\n",
    "    )\n",
    "\n",
    "def phi_l(alpha,a):\n",
    "    return(np.arctan \n",
    "        (\n",
    "            (\n",
    "                (pi*alpha/lam)*\n",
    "                (\n",
    "                    a\n",
    "                    -\n",
    "                    np.sqrt(2/pi)*w\n",
    "                )\n",
    "            )  \n",
    "                /\n",
    "                (\n",
    "                    1\n",
    "                    -\n",
    "                    np.sqrt(2/pi)*(a/w)\n",
    "                    +\n",
    "                    second_order_shift_den_l(alpha,a)\n",
    "                )\n",
    "        )\n",
    "    )\n",
    "\n",
    "a=100e-6\n",
    "third_shift_dws=phase_diff(alpha,a)\n",
    "third_shift_lps=gws(alpha,a)\n"
   ]
  },
  {
   "cell_type": "markdown",
   "metadata": {},
   "source": [
    "## 1st-order"
   ]
  },
  {
   "cell_type": "code",
   "execution_count": 14,
   "metadata": {
    "scrolled": false
   },
   "outputs": [],
   "source": [
    "#signals    \n",
    "def phase_diff(alpha,a):\n",
    "    phase_result=(0.50*(phi_r(alpha,a)-phi_l(alpha,a) ))\n",
    "    return(phase_result)\n",
    "\n",
    "def gws(alpha,a):\n",
    "    gws_result=(0.50*(phi_r(alpha,a)+phi_l(alpha,a) ))\n",
    "    return(gws_result)\n",
    "\n",
    "\n",
    "\n",
    "#PHASE right and left\n",
    "def phi_r(alpha,a):\n",
    "    return(np.arctan \n",
    "            (\n",
    "                (\n",
    "                    (pi*alpha/lam)*\n",
    "                    (\n",
    "                        a\n",
    "                        +\n",
    "                        np.sqrt(2/pi)*w\n",
    "                    )\n",
    "                )  \n",
    "                    /\n",
    "                    (\n",
    "                        1\n",
    "                        +\n",
    "                        np.sqrt(2/pi)*(a/w)\n",
    "                    )\n",
    "            )\n",
    "    )\n",
    "\n",
    "def phi_l(alpha,a):\n",
    "    return(np.arctan \n",
    "        (\n",
    "            (\n",
    "                (pi*alpha/lam)*\n",
    "                (\n",
    "                    a\n",
    "                    -\n",
    "                    np.sqrt(2/pi)*w\n",
    "                )\n",
    "            )  \n",
    "                /\n",
    "                (\n",
    "                    1\n",
    "                    -\n",
    "                    np.sqrt(2/pi)*(a/w)\n",
    "                )\n",
    "        )\n",
    "    )\n",
    "a=100e-6\n",
    "dws=phase_diff(alpha,a)\n",
    "lps=gws(alpha,a)\n"
   ]
  },
  {
   "cell_type": "code",
   "execution_count": 18,
   "metadata": {},
   "outputs": [
    {
     "data": {
      "image/png": "[encoded data removed]",
      "text/plain": [
       "<Figure size 648x432 with 1 Axes>"
      ]
     },
     "metadata": {
      "needs_background": "light"
     },
     "output_type": "display_data"
    }
   ],
   "source": [
    "#plot (a*1e6 for microrad, diff/2pi for cycles)\n",
    "plt.figure(figsize=(9,6))\n",
    "\n",
    "plt.plot(alpha*alpha_scale, dws, label='1st-order DWS')  \n",
    "plt.plot(alpha*alpha_scale, third_shift_dws,'--', label='2nd-order DWS') \n",
    "\n",
    "\n",
    "plt.legend(loc='lower right')\n",
    "\n",
    "plt.xlabel(r'Tilt Angle, $\\alpha\\;$[' + xlab +'rad]', fontsize=15) \n",
    "plt.ylabel(r'DWS Signal Phase [' + ylab + ']', fontsize=15) \n",
    "plt.title(r'DWS: Higher-order Shift,Gapless Shift-Tilted HG00: Beams at Waist (shift = '+ str(a*1e6)+'$\\mu m$,)') \n",
    "plt.grid() \n",
    "plt.savefig(\"DWS_shift_to_2nd_both.pdf\")"
   ]
  },
  {
   "cell_type": "code",
   "execution_count": 19,
   "metadata": {},
   "outputs": [
    {
     "data": {
      "image/png": "[encoded data removed]",
      "text/plain": [
       "<Figure size 648x432 with 1 Axes>"
      ]
     },
     "metadata": {
      "needs_background": "light"
     },
     "output_type": "display_data"
    }
   ],
   "source": [
    "#plot (a*1e6 for microrad, diff/2pi for cycles)\n",
    "plt.figure(figsize=(9,6))\n",
    "\n",
    "plt.plot(alpha*alpha_scale, lps, label='1st-order LPS')  \n",
    "plt.plot(alpha*alpha_scale, third_shift_lps,'--', label='2nd-order LPS') \n",
    "\n",
    "\n",
    "plt.legend(loc='lower right')\n",
    "\n",
    "plt.xlabel(r'Tilt Angle, $\\alpha\\;$[' + xlab +'rad]', fontsize=15) \n",
    "plt.ylabel(r'LPS [' + ylab + ']', fontsize=15) \n",
    "plt.title(r'LPS: Higher-order shift, Gapless Shift-Tilted HG00: Beams at Waist (shift = '+ str(a*1e6)+'$\\mu m$,)') \n",
    "plt.grid() \n",
    "plt.savefig(\"LPS_shift_to_2nd_both.pdf\")"
   ]
  },
  {
   "cell_type": "code",
   "execution_count": 38,
   "metadata": {},
   "outputs": [
    {
     "data": {
      "image/png": "[encoded data removed]",
      "text/plain": [
       "<Figure size 648x432 with 1 Axes>"
      ]
     },
     "metadata": {
      "needs_background": "light"
     },
     "output_type": "display_data"
    }
   ],
   "source": [
    "#signals    \n",
    "def phase_diff(alpha,a):\n",
    "    phase_result=(0.50*(phi_r(alpha,a)-phi_l(alpha,a) ))\n",
    "    return(phase_result)\n",
    "\n",
    "def gws(alpha,a):\n",
    "    gws_result=(0.50*(phi_r(alpha,a)+phi_l(alpha,a) ))\n",
    "    return(gws_result)\n",
    "\n",
    "\n",
    "\n",
    "#PHASE right and left\n",
    "def phi_r(alpha,a):\n",
    "    return(np.arctan \n",
    "            (\n",
    "                (\n",
    "                    (pi*alpha/lam)*\n",
    "                    (\n",
    "                        a\n",
    "                        +\n",
    "                        np.sqrt(2/pi)*w\n",
    "                    )\n",
    "                )  \n",
    "                    /\n",
    "                    (\n",
    "                        1\n",
    "                        +\n",
    "                        np.sqrt(2/pi)*(a/w)\n",
    "                    )\n",
    "            )\n",
    "    )\n",
    "\n",
    "def phi_l(alpha,a):\n",
    "    return(np.arctan \n",
    "        (\n",
    "            (\n",
    "                (pi*alpha/lam)*\n",
    "                (\n",
    "                    a\n",
    "                    -\n",
    "                    np.sqrt(2/pi)*w\n",
    "                )\n",
    "            )  \n",
    "                /\n",
    "                (\n",
    "                    1\n",
    "                    -\n",
    "                    np.sqrt(2/pi)*(a/w)\n",
    "                )\n",
    "        )\n",
    "    )\n",
    "a=100e-6\n",
    "dws10=phase_diff(alpha,a)\n",
    "lps10=gws(alpha,a)\n",
    "\n",
    "#plot (a*1e6 for microrad, diff/2pi for cycles)\n",
    "plt.figure(figsize=(9,6))\n",
    "\n",
    "plt.plot(alpha*alpha_scale, lps10, label='1st LPS') \n",
    "plt.plot(alpha*alpha_scale, third_shift_lps10,'--', label='3rd-order LPS') \n",
    "\n",
    "\n",
    "plt.legend(loc='lower right')\n",
    "\n",
    "plt.xlabel(r'Tilt Angle, $\\alpha\\;$[' + xlab +'rad]', fontsize=15) \n",
    "plt.ylabel(r'Phase Diff, $\\Delta \\phi\\;[' + ylab + ']$', fontsize=15) \n",
    "plt.title(r'Gapless Shift-Tilted HG00: Beams at Waist (shift = '+ str(a*1e6)+'$\\mu m$,)') \n",
    "plt.grid() \n",
    "#plt.savefig(\"tilt-shift-waist-2shift.pdf\")"
   ]
  },
  {
   "cell_type": "markdown",
   "metadata": {
    "slideshow": {
     "slide_type": "skip"
    }
   },
   "source": [
    "### Computed Deriv. \n",
    "$\\frac{d \\Delta \\phi}{d \\alpha}$"
   ]
  },
  {
   "cell_type": "code",
   "execution_count": 32,
   "metadata": {
    "slideshow": {
     "slide_type": "subslide"
    }
   },
   "outputs": [
    {
     "data": {
      "image/png": "[encoded data removed]",
      "text/plain": [
       "<Figure size 648x432 with 1 Axes>"
      ]
     },
     "metadata": {
      "needs_background": "light"
     },
     "output_type": "display_data"
    }
   ],
   "source": [
    "#function\n",
    "comp_phase_diff_deriv = np.diff(second_shift_dws10) / np.diff(alpha)\n",
    "comp_dws_deriv = np.diff(second_shift_lps10) / np.diff(alpha)\n",
    "comp_phase_diff_deriv2 = np.diff(dws10) / np.diff(alpha)\n",
    "comp_dws_deriv2 = np.diff(lps10) / np.diff(alpha)\n",
    "alpha2 = (alpha[:-1] + alpha[1:]) / 2\n",
    "\n",
    "#plot (a*1e6 for microrad, diff/2pi for cycles)\n",
    "plt.figure(figsize=(9,6))\n",
    "\n",
    "plt.plot(alpha2*alpha_scale, comp_phase_diff_deriv2*phase_scale, label='1 DWS') \n",
    "plt.plot(alpha2*alpha_scale, comp_phase_diff_deriv*phase_scale, '--', label='2 DWS') \n",
    "\n",
    "axes = plt.gca()\n",
    "#axes.set_ylim([10,15])\n",
    "\n",
    "plt.legend(loc='lower right')\n",
    "plt.xlabel(r'Tilt Angle, $\\alpha\\;$[' + xlab +'rad]',fontsize=15) \n",
    "plt.ylabel(r'$ \\frac{d \\Delta \\phi}{d \\alpha}$', fontsize=20) \n",
    "plt.title(r'Comp. Derivative of Previous, $\\frac{d \\Delta \\phi}{d \\alpha}$(shift = '+ str(a*1e6)+'$\\mu m$,)') \n",
    "plt.grid()\n",
    "#plt.savefig(\"tilt-shift-waist-2shift-DER.pdf\")\n"
   ]
  },
  {
   "cell_type": "code",
   "execution_count": 33,
   "metadata": {
    "slideshow": {
     "slide_type": "subslide"
    }
   },
   "outputs": [
    {
     "data": {
      "image/png": "[encoded data removed]",
      "text/plain": [
       "<Figure size 648x432 with 1 Axes>"
      ]
     },
     "metadata": {
      "needs_background": "light"
     },
     "output_type": "display_data"
    }
   ],
   "source": [
    "#function\n",
    "comp_phase_diff_deriv = np.diff(third_shift_dws10) / np.diff(alpha)\n",
    "comp_dws_deriv = np.diff(third_shift_lps10) / np.diff(alpha)\n",
    "comp_phase_diff_deriv2 = np.diff(dws10) / np.diff(alpha)\n",
    "comp_dws_deriv2 = np.diff(lps10) / np.diff(alpha)\n",
    "alpha2 = (alpha[:-1] + alpha[1:]) / 2\n",
    "\n",
    "#plot (a*1e6 for microrad, diff/2pi for cycles)\n",
    "plt.figure(figsize=(9,6))\n",
    "\n",
    "plt.plot(alpha2*alpha_scale, comp_dws_deriv2*phase_scale, label='1 LPS')\n",
    "plt.plot(alpha2*alpha_scale, comp_dws_deriv*phase_scale,'--', label='2 LPS')\n",
    "\n",
    "axes = plt.gca()\n",
    "#axes.set_ylim([10,15])\n",
    "\n",
    "plt.legend(loc='lower right')\n",
    "plt.xlabel(r'Tilt Angle, $\\alpha\\;$[' + xlab +'rad]',fontsize=15) \n",
    "plt.ylabel(r'$ \\frac{d \\Delta \\phi}{d \\alpha}$', fontsize=20) \n",
    "plt.title(r'Comp. Derivative of Previous, $\\frac{d \\Delta \\phi}{d \\alpha}$(shift = '+ str(a*1e6)+'$\\mu m$,)') \n",
    "plt.grid()\n",
    "#plt.savefig(\"tilt-shift-waist-2shift-DER.pdf\")\n"
   ]
  },
  {
   "cell_type": "code",
   "execution_count": null,
   "metadata": {
    "scrolled": true
   },
   "outputs": [],
   "source": [
    "print(2*pi*a/(2*lam))"
   ]
  },
  {
   "cell_type": "code",
   "execution_count": null,
   "metadata": {
    "slideshow": {
     "slide_type": "slide"
    }
   },
   "outputs": [],
   "source": [
    "#signals    \n",
    "def phase_diff(alpha,a):\n",
    "    phase_result=(0.50*(phi_r(alpha,a)-phi_l(alpha,a) ))\n",
    "    return(phase_result)\n",
    "\n",
    "def gws(alpha,a):\n",
    "    gws_result=(0.50*(phi_r(alpha,a)+phi_l(alpha,a) ))\n",
    "    return(gws_result)\n",
    "\n",
    "#shifts\n",
    "def second_order_shift_num_r(alpha,a):\n",
    "    result= (\n",
    "                (np.sqrt(2*pi) * a**2 *alpha / (4*lam*w))\n",
    "                +\n",
    "                (3*np.sqrt(2*pi) * a**2 / 4*w**2)*(2*alpha/lam)\n",
    "            )\n",
    "    return(result)\n",
    "\n",
    "def second_order_shift_num_l(alpha,a):\n",
    "    result= (\n",
    "                -(np.sqrt(2*pi) * a**2 *alpha / (4*lam*w))\n",
    "                -\n",
    "                (3*np.sqrt(2*pi) * a**2 / 4*w**2)*(2*alpha/lam)\n",
    "            )\n",
    "    return(result)\n",
    "\n",
    "def second_order_shift_den(alpha,a):\n",
    "    result= (\n",
    "               - a**2* (1/(4*w**2))\n",
    "            )\n",
    "    return(result)\n",
    "\n",
    "#PHASE right and left\n",
    "def phi_r(alpha,a):\n",
    "    return(np.arctan \n",
    "            (\n",
    "                (\n",
    "                    (pi*alpha/lam)*\n",
    "                    (\n",
    "                        a\n",
    "                        +\n",
    "                        np.sqrt(2/pi)*w\n",
    "                    )\n",
    "                )  \n",
    "                    /\n",
    "                    (\n",
    "                        1\n",
    "                        +\n",
    "                        np.sqrt(2/pi)*(a/w)\n",
    "                        +\n",
    "                        second_order_shift_den(alpha,a)\n",
    "                    )\n",
    "            )\n",
    "    )\n",
    "\n",
    "def phi_l(alpha,a):\n",
    "    return(np.arctan \n",
    "        (\n",
    "            (\n",
    "                (pi*alpha/lam)*\n",
    "                (\n",
    "                    a\n",
    "                    -\n",
    "                    np.sqrt(2/pi)*w\n",
    "                )\n",
    "            )  \n",
    "                /\n",
    "                (\n",
    "                    1\n",
    "                    -\n",
    "                    np.sqrt(2/pi)*(a/w)\n",
    "                    +\n",
    "                    second_order_shift_den(alpha,a)\n",
    "                )\n",
    "        )\n",
    "    )\n",
    "\n",
    "a=100e-6\n",
    "second_shift_dws=phase_diff(alpha,a)\n",
    "second_shift_lps=gws(alpha,a)\n",
    "\n",
    "\n"
   ]
  },
  {
   "cell_type": "code",
   "execution_count": null,
   "metadata": {},
   "outputs": [],
   "source": [
    "#signals    \n",
    "def phase_diff(alpha,a):\n",
    "    phase_result=(0.50*(phi_r(alpha,a)-phi_l(alpha,a) ))\n",
    "    return(phase_result)\n",
    "\n",
    "def gws(alpha,a):\n",
    "    gws_result=(0.50*(phi_r(alpha,a)+phi_l(alpha,a) ))\n",
    "    return(gws_result)\n",
    "\n",
    "\n",
    "\n",
    "#PHASE right and left\n",
    "def phi_r(alpha,a):\n",
    "    return(np.arctan \n",
    "            (\n",
    "                (\n",
    "                    (pi*alpha/lam)*\n",
    "                    (\n",
    "                        a\n",
    "                        +\n",
    "                        np.sqrt(2/pi)*w\n",
    "                    )\n",
    "                )  \n",
    "                    /\n",
    "                    (\n",
    "                        1\n",
    "                        +\n",
    "                        np.sqrt(2/pi)*(a/w)\n",
    "                    )\n",
    "            )\n",
    "    )\n",
    "\n",
    "def phi_l(alpha,a):\n",
    "    return(np.arctan \n",
    "        (\n",
    "            (\n",
    "                (pi*alpha/lam)*\n",
    "                (\n",
    "                    a\n",
    "                    -\n",
    "                    np.sqrt(2/pi)*w\n",
    "                )\n",
    "            )  \n",
    "                /\n",
    "                (\n",
    "                    1\n",
    "                    -\n",
    "                    np.sqrt(2/pi)*(a/w)\n",
    "                )\n",
    "        )\n",
    "    )\n",
    "a=100e-6\n",
    "dws=phase_diff(alpha,10e-6)\n",
    "lps=gws(alpha,10e-6)\n",
    "\n",
    "#plot (a*1e6 for microrad, diff/2pi for cycles)\n",
    "plt.figure(figsize=(9,6))\n",
    "\n",
    "plt.plot(alpha*alpha_scale, dws,'--', label='1st DWS') \n",
    "plt.plot(alpha*alpha_scale, second_shift_dws, label='2nd DWS') \n",
    "\n",
    "axes = plt.gca()\n",
    "#axes.set_ylim([-.001,.001])\n",
    "#axes.set_xlim([-10e-6,10e-6])\n",
    "\n",
    "plt.legend(loc='lower right')\n",
    "\n",
    "plt.xlabel(r'Tilt Angle, $\\alpha\\;$[' + xlab +'rad]', fontsize=15) \n",
    "plt.ylabel(r'Phase Diff, $\\Delta \\phi\\;[' + ylab + ']$', fontsize=15) \n",
    "plt.title(r'Gapless Shift-Tilted HG00: Beams at Waist (shift = '+ str(a*1e6)+'$\\mu m$,)') \n",
    "plt.grid() \n",
    "#plt.savefig(\"tilt-shift-waist-2shift.pdf\")"
   ]
  },
  {
   "cell_type": "code",
   "execution_count": null,
   "metadata": {},
   "outputs": [],
   "source": [
    "#signals    \n",
    "def phase_diff(alpha,a):\n",
    "    phase_result=(0.50*(phi_r(alpha,a)-phi_l(alpha,a) ))\n",
    "    return(phase_result)\n",
    "\n",
    "def gws(alpha,a):\n",
    "    gws_result=(0.50*(phi_r(alpha,a)+phi_l(alpha,a) ))\n",
    "    return(gws_result)\n",
    "\n",
    "\n",
    "\n",
    "#PHASE right and left\n",
    "def phi_r(alpha,a):\n",
    "    return(np.arctan \n",
    "            (\n",
    "                (\n",
    "                    (pi*alpha/lam)*\n",
    "                    (\n",
    "                        a\n",
    "                        +\n",
    "                        np.sqrt(2/pi)*w\n",
    "                    )\n",
    "                )  \n",
    "                    /\n",
    "                    (\n",
    "                        1\n",
    "                        +\n",
    "                        np.sqrt(2/pi)*(a/w)\n",
    "                    )\n",
    "            )\n",
    "    )\n",
    "\n",
    "def phi_l(alpha,a):\n",
    "    return(np.arctan \n",
    "        (\n",
    "            (\n",
    "                (pi*alpha/lam)*\n",
    "                (\n",
    "                    a\n",
    "                    -\n",
    "                    np.sqrt(2/pi)*w\n",
    "                )\n",
    "            )  \n",
    "                /\n",
    "                (\n",
    "                    1\n",
    "                    -\n",
    "                    np.sqrt(2/pi)*(a/w)\n",
    "                )\n",
    "        )\n",
    "    )\n",
    "a=100e-6\n",
    "dws=phase_diff(alpha,10e-6)\n",
    "lps=gws(alpha,10e-6)\n",
    "\n",
    "#plot (a*1e6 for microrad, diff/2pi for cycles)\n",
    "plt.figure(figsize=(9,6))\n",
    "\n",
    "plt.plot(alpha*alpha_scale, lps,'--', label='1st LPS') \n",
    "plt.plot(alpha*alpha_scale, second_shift_lps, label='2nd LPS') \n",
    "\n",
    "axes = plt.gca()\n",
    "#axes.set_ylim([-10,200])\n",
    "\n",
    "plt.legend(loc='lower right')\n",
    "\n",
    "plt.xlabel(r'Tilt Angle, $\\alpha\\;$[' + xlab +'rad]', fontsize=15) \n",
    "plt.ylabel(r'Phase Diff, $\\Delta \\phi\\;[' + ylab + ']$', fontsize=15) \n",
    "plt.title(r'Gapless Shift-Tilted HG00: Beams at Waist (shift = '+ str(a*1e6)+'$\\mu m$,)') \n",
    "plt.grid() \n",
    "#plt.savefig(\"tilt-shift-waist-2shift.pdf\")"
   ]
  },
  {
   "cell_type": "code",
   "execution_count": null,
   "metadata": {
    "scrolled": true,
    "slideshow": {
     "slide_type": "subslide"
    }
   },
   "outputs": [],
   "source": [
    "#function\n",
    "comp_phase_diff_deriv = np.diff(second_shift_dws) / np.diff(alpha)\n",
    "comp_dws_deriv = np.diff(second_shift_lps) / np.diff(alpha)\n",
    "comp_phase_diff_deriv2 = np.diff(dws) / np.diff(alpha)\n",
    "comp_dws_deriv2 = np.diff(lps) / np.diff(alpha)\n",
    "alpha2 = (alpha[:-1] + alpha[1:]) / 2\n",
    "\n",
    "#plot (a*1e6 for microrad, diff/2pi for cycles)\n",
    "plt.figure(figsize=(9,6))\n",
    "\n",
    "plt.plot(alpha2*alpha_scale, comp_phase_diff_deriv2*phase_scale,'--', label='1 order shift DWS' )\n",
    "plt.plot(alpha2*alpha_scale, comp_dws_deriv2*phase_scale,'--', label='1 order shift LPS')\n",
    "plt.plot(alpha2*alpha_scale, comp_phase_diff_deriv*phase_scale, label='2nd order shift DWS') \n",
    "plt.plot(alpha2*alpha_scale, comp_dws_deriv*phase_scale, label='2nd order shift LPS')\n",
    "\n",
    "axes = plt.gca()\n",
    "#axes.set_ylim([0,100])\n",
    "\n",
    "plt.legend(loc='lower right')\n",
    "plt.xlabel(r'Tilt Angle, $\\alpha\\;$[' + xlab +'rad]',fontsize=15) \n",
    "plt.ylabel(r'$ \\frac{d \\Delta \\phi}{d \\alpha}$', fontsize=20) \n",
    "plt.title(r'Comp. Derivative of Previous, $\\frac{d \\Delta \\phi}{d \\alpha}$(shift = '+ str(a*1e6)+'$\\mu m$,)') \n",
    "plt.grid()\n",
    "#plt.savefig(\"tilt-shift-waist-2shift-DER.pdf\")\n"
   ]
  },
  {
   "cell_type": "code",
   "execution_count": null,
   "metadata": {},
   "outputs": [],
   "source": [
    "#plot (a*1e6 for microrad, diff/2pi for cycles)\n",
    "plt.figure(figsize=(9,6))\n",
    "\n",
    "plt.plot(alpha*alpha_scale, lps10, label='1st LPS 10[um]') \n",
    "plt.plot(alpha*alpha_scale, second_shift_lps10, label='2nd-order LPS 10[um]')\n",
    "plt.plot(alpha*alpha_scale, lps, label='1st LPS 100[um]') \n",
    "plt.plot(alpha*alpha_scale, second_shift_lps,'--', label='2nd-order LPS 100[um]') \n",
    "\n",
    "\n",
    "plt.legend(loc='lower right')\n",
    "\n",
    "plt.xlabel(r'Tilt Angle, $\\alpha\\;$[' + xlab +'rad]', fontsize=15) \n",
    "plt.ylabel(r'Phase Diff, $\\Delta \\phi\\;[' + ylab + ']$', fontsize=15) \n",
    "plt.title(r'Gapless Shift-Tilted HG00: Beams at Waist') \n",
    "plt.grid() \n",
    "#plt.savefig(\"tilt-shift-waist-2shift.pdf\")"
   ]
  },
  {
   "cell_type": "code",
   "execution_count": null,
   "metadata": {},
   "outputs": [],
   "source": [
    "#plot (a*1e6 for microrad, diff/2pi for cycles)\n",
    "plt.figure(figsize=(9,6))\n",
    "\n",
    "plt.plot(alpha*alpha_scale, dws10, label='1st LPS 10[um]') \n",
    "plt.plot(alpha*alpha_scale, second_shift_dws10,'--', label='2nd-order LPS 10[um]')\n",
    "plt.plot(alpha*alpha_scale, dws, label='1st LPS 100[um]') \n",
    "plt.plot(alpha*alpha_scale, second_shift_dws,'--', label='2nd-order LPS 100[um]') \n",
    "\n",
    "\n",
    "plt.legend(loc='lower right')\n",
    "\n",
    "plt.xlabel(r'Tilt Angle, $\\alpha\\;$[' + xlab +'rad]', fontsize=15) \n",
    "plt.ylabel(r'Phase Diff, $\\Delta \\phi\\;[' + ylab + ']$', fontsize=15) \n",
    "plt.title(r'Gapless Shift-Tilted HG00: Beams at Waist') \n",
    "plt.grid() \n",
    "#plt.savefig(\"tilt-shift-waist-2shift.pdf\")"
   ]
  },
  {
   "cell_type": "code",
   "execution_count": null,
   "metadata": {},
   "outputs": [],
   "source": []
  }
 ],
 "metadata": {
  "kernelspec": {
   "display_name": "Python 3",
   "language": "python",
   "name": "python3"
  },
  "language_info": {
   "codemirror_mode": {
    "name": "ipython",
    "version": 3
   },
   "file_extension": ".py",
   "mimetype": "text/x-python",
   "name": "python",
   "nbconvert_exporter": "python",
   "pygments_lexer": "ipython3",
   "version": "3.7.3"
  }
 },
 "nbformat": 4,
 "nbformat_minor": 2
}
