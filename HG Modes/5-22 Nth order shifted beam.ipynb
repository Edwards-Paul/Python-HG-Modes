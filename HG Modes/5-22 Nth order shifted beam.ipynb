{
 "cells": [
  {
   "cell_type": "markdown",
   "metadata": {},
   "source": [
    "Accounting for cross terms in the expansions, there is a condition on approximation to order $K$ s.t.\n",
    "\n",
    "\\begin{equation}\\label{Keq}\n",
    "\tK >= 2(A+B)+(C+D+E)\n",
    "\\end{equation} \n",
    "\n",
    "where the factor of $2$ accounts for quadratic-order shift terms. By creating an index $F$ which sums to $K$ (i.e., $F'=K$), all other index bounds can be defined, each one constrained by the \"current index\" of the previous summation to give progressively truncated summations, $E$ serves as a \"catch-all\" and is not summed:\n",
    "\n",
    "\\begin{equation}\n",
    "\tA' \\equiv \\lfloor F/2 \\rfloor\n",
    "\\end{equation}\n",
    "\\begin{equation}\n",
    "\tB' \\equiv \\lfloor (F-2A)/2 \\rfloor\n",
    "\\end{equation}\n",
    "\\begin{equation}\n",
    "\tC' \\equiv F-2(A+B)\n",
    "\\end{equation}\n",
    "\\begin{equation}\n",
    "\tD' \\equiv F-\\left[2(A+B)+C\\right]\n",
    "\\end{equation}\n",
    "\\begin{align*}\n",
    "\tE \\equiv F-\\left[ 2(A+B)+C+D \\right]\n",
    "\\end{align*}\n",
    "\n",
    "Meaning that no shift terms, $a$, raised beyond order $K$ exist in the solution. Higher order shift approximations can be generalized up to shift in order $K$ by combining expansions (Eq. \\ref{TH:herm},\\ref{TH:shift1},\\ref{TH:shift2},\\ref{TH:shift3},\\ref{TH:shift4}), where $z$-dependence is implied for $R_c,w,$ and $\\Psi$,\\\\\n",
    "\n",
    "\n",
    "\\begin{align}\\label{TH:shift}\n",
    "\\sum_{n,m} C_{n,m} u_{n,m} \\rightarrow&\n",
    "\t\\sum_{n,m}\n",
    "\tC_{n,m}\n",
    "\t\\sum_{F=0}^K\n",
    "\t\\sum_{A=0}^{A'}\n",
    "\t\\sum_{B=0}^{B'}\n",
    "\t\\sum_{C=0}^{C'}\n",
    "\t\\sum_{D=0}^{D'}\n",
    "\t\\\\& \\nonumber\n",
    "\\lbrace\n",
    "\t[\n",
    "\t\t\\frac{1}{A!}\n",
    "\t\t(-\\frac{a^2}{w^2})^A\n",
    "\t]\n",
    "\t[\n",
    "\t\t\\frac{1}{B!}\n",
    "\t\t(-\\frac{ika^2}{2R_c})^B\n",
    "\t]\n",
    "\t[\n",
    "\t\t\\frac{1}{C!}\n",
    "\t\t(-\\frac{2ax}{w^2})^C\n",
    "\t]\n",
    "\t\t[\n",
    "\t\t\\frac{1}{D!}\n",
    "\t\t(-\\frac{ikax}{R_c})^D\n",
    "\t]\n",
    "\\left[\n",
    "\t\t\\frac{1}{E!}\n",
    "\t\t\\sqrt{\\frac{n!}{(n-E)!}}\n",
    "\t\t(\n",
    "\t\t \\frac{2 a e^{i\\Psi}}{w}\n",
    "\t\t)^E\n",
    "\\right]\n",
    "u_{n-E,m}\t\t\n",
    "\\rbrace\n",
    "\\end{align}\n",
    "\n",
    "for $n-E>0$.\n",
    "\n",
    "The effect of $x$ is (where $a = \\frac{\\sqrt{2}}{w(z)}$, $y = ax$)\n",
    "\n",
    "\n",
    "\n",
    "\\begin{align*}\n",
    "x H_n(y) =&\n",
    "\t\t\\frac{1}{2a}\n",
    "\tH_{n+1}(y)\n",
    "\t+\n",
    "\t\\frac{n}{a} H_{n-1} (y).\n",
    "\\end{align*}\n",
    "\n",
    "so that\n",
    "\n",
    "\\begin{equation}\n",
    "x u_{nm} (x,y,z) = \n",
    "\tX_+^1 u_{n+1,m}(x,y,z)\n",
    "\t+\n",
    "\tX_-^1 u_{n-1,m}(x,y,z) \n",
    "\\end{equation}\n",
    "\n",
    "where\n",
    "\n",
    "\\begin{align*}\n",
    "\tX_{\\pm }^1(n) u_{n \\pm 1, m} \\equiv &\n",
    "\t\t\\eta_{\\pm}^1\t\n",
    "\t\t(2^{\\mp 1} )^{-1/2}\n",
    "\t\t\\sqrt{\\frac{(n \\pm 1)!}{n!} }\n",
    "\t\t\\exp(\\mp i  \\psi(z))\n",
    "        u_{n \\pm 1, m}.\n",
    "\\end{align*}\n",
    "\n",
    "and\n",
    "\n",
    "\\begin{align*}\n",
    "\\eta_+^1 = \\frac{\\sqrt{2}w}{4}\n",
    "\\end{align*}\n",
    "\n",
    "\\begin{align*}\n",
    "\\eta_-^1 = \\frac{\\sqrt{2} w n}{2}\n",
    "\\end{align*}"
   ]
  },
  {
   "cell_type": "markdown",
   "metadata": {},
   "source": [
    "# Imports"
   ]
  },
  {
   "cell_type": "code",
   "execution_count": 1,
   "metadata": {},
   "outputs": [],
   "source": [
    "import PauLisa as pl, PL_Plot as plplt,plback as plb, Tophat_integration_AW as th, numpy as np, matplotlib.pyplot as plt, cmath as cm\n",
    "\n",
    "from numpy import pi as pi\n",
    "from numpy import angle\n",
    "#from numpy import sqrt as sqrt\n",
    "from scipy.special import erf as erf\n",
    "import mpmath as mp\n",
    "import scipy.io\n",
    "\n",
    "from math import pi, log, exp, sin, cos, atan, e, radians, degrees\n",
    "from scipy.special import gamma as gamma\n",
    "from scipy.special import erf as erf\n",
    "from scipy.special import comb\n",
    "\n",
    "from math import factorial as fac\n",
    "import cmath\n",
    "from cmath import sqrt as sqrt\n",
    "import numpy as np\n",
    "\n",
    "from time import process_time\n",
    "\n",
    "inf=np.inf\n",
    "\n",
    "import pandas as pd\n",
    "from pprint import pprint\n",
    "from copy import copy as cp"
   ]
  },
  {
   "cell_type": "markdown",
   "metadata": {},
   "source": [
    "# Build Modes"
   ]
  },
  {
   "cell_type": "code",
   "execution_count": 2,
   "metadata": {},
   "outputs": [],
   "source": [
    "mat = scipy.io.loadmat('Top_hat_for_paul.mat')\n",
    "# mat = scipy.io.loadmat('paul_coef_file.mat')\n",
    "# for x in mat:\n",
    "#   print(x)\n",
    "# coef=mat['coeftopUnitInt'].ravel()\n",
    "# print(mat['readmepaul'])\n",
    "coef=mat['coeftop'].ravel()\n",
    "\n",
    "def N_f(A):\n",
    "    \n",
    "    res = np.floor((np.sqrt(8*A+1)-1)/2)\n",
    "    \n",
    "    #res = (np.sqrt(9+8*A)-3)/2\n",
    "    return(res)\n",
    "\n",
    "def m(N,A):\n",
    "    res = (N+1)*(N+2)/2 - (A+1)\n",
    "    return(res)\n",
    "\n",
    "#def n(N,A):\n",
    "#    m= (N+1)*(N+2)/2 - (A+1)\n",
    "#    res = N-m\n",
    "#    return(res)\n",
    "def n(N,A):\n",
    "    res = A - (N*(N+1)/2)\n",
    "    return(res)\n",
    "\n",
    "NumberModes = int(len(coef))\n",
    "listModesN = [None] * NumberModes\n",
    "listModesM = [None] * NumberModes\n",
    "listModesC = [None] * NumberModes\n",
    "\n",
    "#area = pi*1e-3**2\n",
    "area = 1\n",
    "#for i in range(len(coef)):\n",
    "#    A=i\n",
    "#    N= N_f(A)\n",
    "#\n",
    "#    if (m(N,A)%2 == 0) & (n(N,A)%2 == 0):\n",
    "#        print(coef[A], '\\t\\t\\t' , m(N,A), ',' , n(N,A))\n",
    "\n",
    "for i in range(NumberModes):\n",
    "    A=i\n",
    "    N= N_f(A)\n",
    "    listModesN[i] = int(m(N,A))\n",
    "    listModesM[i] = int(n(N,A))\n",
    "    listModesC[i] = coef[i]/sqrt(area)\n",
    "    \n",
    "    "
   ]
  },
  {
   "cell_type": "code",
   "execution_count": 3,
   "metadata": {},
   "outputs": [],
   "source": [
    "modes_0 = plb.modes((0,0,1))\n",
    "modes_2 = plb.modes((2,0,1),(0,0,1))\n",
    "modes_1 = plb.modes((1,0,1))\n",
    "modes_3 = plb.modes( (0,0,2),(1,0,.5),(2,0,2),(3,0,3),(4,0,1),(5,0,1),(7,0,1),(0,18,1))\n",
    "modes = pl.create_modes(listModesM,listModesN,listModesC,NumberModes)\n",
    "\n",
    "N=18 # mode order\n",
    "modes_N= pl.create_modes_orderN(listModesM,listModesN,listModesC,NumberModes,N)\n",
    "plane = pl.Plane(-2e-3,2e-3,101,-2e-3,2e-3,101)"
   ]
  },
  {
   "cell_type": "code",
   "execution_count": 4,
   "metadata": {},
   "outputs": [],
   "source": [
    "#hold indices\n",
    "class Ind:\n",
    "    def __init__(self, n,m,\n",
    "                 f,a,b,c,d,e,X,N):\n",
    "        self.f = f\n",
    "        self.n = n\n",
    "        self.m = m\n",
    "        self.a = a\n",
    "        self.b = b\n",
    "        self.c = c\n",
    "        self.d = d\n",
    "        self.e = e\n",
    "        self.X = X\n",
    "        self.N = N\n",
    "        \n",
    "        self.f_text = str(f)\n",
    "        self.a_text = '\\\\frac{1}{'+str(a)+'!} \\\\frac{-a^2}{w^2}^'+str(a)\n",
    "        self.b_text = '\\\\frac{1}{'+str(b)+'!} \\\\frac{-ika^2}{2R_c}^'+str(b)\n",
    "        self.c_text = '\\\\frac{1}{'+str(c)+'!} \\\\frac{-2a}{w^2}^'+str(c)\n",
    "        self.d_text = '\\\\frac{1}{'+str(d)+'!} \\\\frac{-ika}{R_c}^'+str(d)\n",
    "        self.e_text = '\\\\frac{1}{'+str(e)+'!} \\\\sqrt{\\\\frac{n!}{(n-'+str(e)+')!}}[(2ae^{i\\Psi})^'+str(e)+']' \n",
    "        self.X_text = str(X)\n",
    "        self.N_text = ''\n",
    "        \n",
    "        if (N==0 and e==0):\n",
    "            self.N_text = 'u_{n,m}'\n",
    "            \n",
    "        else:\n",
    "            self.N_text = 'u_{n +('+ str(N)+'),m}'    "
   ]
  },
  {
   "cell_type": "code",
   "execution_count": 5,
   "metadata": {},
   "outputs": [],
   "source": [
    "def printer(ind_list):\n",
    "    print('\\\\begin{align*}\\\\sum_{n,m} C_{n,m} u_{n,m}(x+a,y,z) \\\\rightarrow& \\\\sum_{n,m} C_{n,m}[')\n",
    "    for i in ind_list:\n",
    "        next_str = ''\n",
    "        if i.a != 0:\n",
    "            next_str+=(i.a_text)\n",
    "        if i.b != 0:\n",
    "            next_str+=(i.b_text)\n",
    "        if i.c != 0:\n",
    "            next_str+=(i.c_text)\n",
    "        if i.d != 0:\n",
    "            next_str+=(i.d_text)\n",
    "        if i.e != 0:\n",
    "            next_str+=(i.e_text)       \n",
    "        \n",
    "        next_str += (i.X_text+i.N_text)\n",
    "            \n",
    "        print(next_str)\n",
    "        print('\\\\\\+&')\n",
    "    print('] \\\\end{align*}')"
   ]
  },
  {
   "cell_type": "code",
   "execution_count": 6,
   "metadata": {},
   "outputs": [],
   "source": [
    "#define all series. a is the shift, upper-case are indices\n",
    "def series_A(A,a,w):\n",
    "    resA= (\n",
    "            (1/fac(A))\n",
    "            * (-a**2/w**2)**A\n",
    "    )\n",
    "    return(resA)\n",
    "\n",
    "def series_B(B,a,R,k):\n",
    "    resB= (\n",
    "            (1/fac(B))\n",
    "            * (-(1j)*k*a**2/(2*R) )**B\n",
    "    )\n",
    "    return(resB) \n",
    "\n",
    "def series_C(C,a,w):\n",
    "    resC= (\n",
    "            (1/fac(C))\n",
    "            * (-2*a/w**2)**C\n",
    "    )\n",
    "    return(resC)\n",
    "\n",
    "\n",
    "def series_D(D,a,R,k):\n",
    "    resD= (\n",
    "           (1/fac(D))\n",
    "            * (-1j*k*a/R)**D\n",
    "    )\n",
    "    return(resD) \n",
    "\n",
    "def series_E(E,a,w,gouy,n):\n",
    "    resE= (\n",
    "            (1/fac(E))\n",
    "            * (sqrt( fac(n)/ fac(n-E)))\n",
    "            * ((2*a*e**(1j*gouy)/w)**E)\n",
    "    )\n",
    "    return(resE) "
   ]
  },
  {
   "cell_type": "code",
   "execution_count": 7,
   "metadata": {},
   "outputs": [],
   "source": [
    "#represents the sums\n",
    "def expand_shift (z,params,a,alpha,modes,K):\n",
    "    #get params\n",
    "    k = params.getK()\n",
    "    w0 = params.getW0()\n",
    "    zr = params.getZr()\n",
    "    w = pl.w(z,params)\n",
    "    gouy = pl.gouy_phase(z,params) \n",
    "    R = pl.radius_curvature(z,params)\n",
    "    \n",
    "    #build new modes (up to 2 orders larger for quad. dep.)\n",
    "    rows = len(modes)\n",
    "    cols = len(modes[0])  \n",
    "    number_modes = rows*cols\n",
    "    new_modes = [[0 for m in range(cols+K+1)] for n in range(rows+K+1)]\n",
    "    \n",
    "    #ind_list = [] #track indices, give them equation strings\n",
    "    series_list = [] #track all series results\n",
    "    \n",
    "    #calculate all coupling factors a->e\\d\n",
    "       \n",
    "    for n in range(len(modes)):\n",
    "        for m in range(len(modes[n])):\n",
    "            if (modes[n][m]!=0): #break if c_nm = 0\n",
    "                c_nm = modes[n][m] #assign c_nm\n",
    "                for F in range (K+1):\n",
    "                    for A in range(int(np.floor(F/2))+1 ):\n",
    "                        res_A = series_A(A,a,w)\n",
    "                        for B in range(int(np.floor( (F-2*A)/2))+1 ):\n",
    "                            res_B = series_B(B,a,R,k)\n",
    "                            for C in range(int(F-2*(A+B)) +1 ):\n",
    "                                res_C = series_C(C,a,w)\n",
    "                                for D in range(int(F-(2*(A+B)+C) )+1 ):\n",
    "                                    res_D = series_D(D,a,R,k)\n",
    "                                    E = F-(2*(A+B)+C+D) #define e, the catch-all\n",
    "                                    \n",
    "                                    if(n-E>=0): #positive index\n",
    "\n",
    "                                        res_E = series_E(E,a,w,gouy,n)\n",
    "                                        \n",
    "                                        coupling=(res_A*res_B*res_C*res_D*res_E)\n",
    "                                        \n",
    "                                        #do x transformation if need, these bound to C and D\n",
    "                                        #then update coefficients by empty q\n",
    "                                        if (C!=0) or (D!=0):\n",
    "                                            q = transform_x (E,C+D,a,w,gouy,n,w0,z,zr)\n",
    "\n",
    "                                            #empty the q\n",
    "                                            while(q):\n",
    "                                                item = cp(q.pop())\n",
    "                                                X = item.coeff #just x coupling\n",
    "                                                N = item.N #final n order\n",
    "                                                if(N>=0):\n",
    "                                                    new_modes[N][m]+= c_nm*coupling*X\n",
    "                                                \n",
    "                                                    #ind_list.append(Ind(n,m,F,A,B,C,D,E,X,N))\n",
    "                                        \n",
    "                                        else:\n",
    "                                            N=n-E\n",
    "                                            X=''\n",
    "                                            new_modes[N][m]+= c_nm*coupling\n",
    "                                            \n",
    "                                            #ind_list.append(Ind(n,m,F,A,B,C,D,E,X,N))\n",
    "                                    \n",
    "#                                   ##  ##THIS SECTION FOR TEXT## ##\n",
    "#                                 ###############################################\n",
    "#                                     #do x transformation if need\n",
    "#                                     #then update coefficients by empty q\n",
    "#                                     if (C!=0) or (C!=0):\n",
    "#                                         q = prototype_x(E,C+D)\n",
    "#                                         #empty the q\n",
    "#                                         while(q):\n",
    "#                                             item = cp(q.pop())\n",
    "#                                             X = item.coeff #all coeff together\n",
    "#                                             N = item.delta #final n order\n",
    "#                                             ind_list.append(Ind(n,m,F,A,B,C,D,E,X,N))\n",
    "#                                     else:\n",
    "#                                         N=e\n",
    "#                                         X=''\n",
    "#                                         ind_list.append(Ind(n,m,F,A,B,C,D,E,X,N))\n",
    "#                                     ###############################################\n",
    "# return(new_modes,ind_list)\n",
    "    return(new_modes)"
   ]
  },
  {
   "cell_type": "code",
   "execution_count": 8,
   "metadata": {},
   "outputs": [],
   "source": [
    "#represents iterative x transformation\n",
    "##starts at n-E\n",
    "##iterates (c+d) times, this is x order\n",
    "##returns a queue with X_{+/-}^1(n) for each n\n",
    "#n start is n-e\n",
    "\n",
    "class Item:\n",
    "    def __init__(self, n,N,coeff):\n",
    "        self.n = n\n",
    "        self.N = N\n",
    "        self.coeff = coeff\n",
    "\n",
    "def transform_x (E,x_order, a,w,gouy,n, w0,z,zr):\n",
    "    q1 = []\n",
    "    q2 = []\n",
    "    #queue of items which are passed each iteration\n",
    "    coeff = 1 #coeff can be worked in this fxn, then multiplied to overall coupling after\n",
    "    N = n-E #start at n-E\n",
    "    start_item = Item(n,N,coeff)\n",
    "    q1.append(start_item) #just for printing, need 3-array. to track inc/dec\n",
    "    \n",
    "    x_count = x_order  #counter to track iterations\n",
    "    \n",
    "    #empty q1 iteratively and raise and lower\n",
    "    while(x_count!=0):\n",
    "        while(q1):\n",
    "            #get from q1\n",
    "            item = cp(q1.pop())\n",
    "            \n",
    "            #raise n, factor X_+^1(n)  **raising doesn't involve factor n**\n",
    "            item_raise = cp(item)\n",
    "\n",
    "            item_raise.coeff = item_raise.coeff*x_plus_1(w0,z,zr,N)\n",
    "            item_raise.N += 1 #overall n mode up\n",
    "            \n",
    "            \n",
    "            q2.append(item_raise) # put into temp q\n",
    "            \n",
    "            \n",
    "            #lower n, factor X_-^1(n)\n",
    "            item_lower = cp(item)\n",
    "            \n",
    "            item_lower.coeff = item_lower.coeff*x_minus_1(w0,z,zr,N)\n",
    "            item_lower.N -= 1 #overall n mode down\n",
    "            \n",
    "            q2.append(item_lower) #put into temp q\n",
    "            \n",
    "        #empty q2 back into q1 to re-iterate\n",
    "        while(q2):\n",
    "            q1.append(q2.pop())\n",
    "            \n",
    "        x_count-=1 #iteration done, decrement count\n",
    "        \n",
    "    \n",
    "    #all x factors transformed, return full queue\n",
    "    return(q1)"
   ]
  },
  {
   "cell_type": "code",
   "execution_count": 9,
   "metadata": {},
   "outputs": [],
   "source": [
    "#x dep\n",
    "def x_plus_1(w0,z,zr,n):    \n",
    "    factor = (w0/2)*( ( 1-(1j)*(z/zr) )*np.sqrt(n+1))\n",
    "    return(factor)\n",
    "\n",
    "#x dep\n",
    "def x_minus_1(w0,z,zr,n):\n",
    "    factor = (w0/2)*( np.sqrt(n)*(1+(1j)*(z/zr)) )\n",
    "    return(factor)"
   ]
  },
  {
   "cell_type": "code",
   "execution_count": 10,
   "metadata": {},
   "outputs": [],
   "source": [
    "#represents iterative x transformation\n",
    "##starts at n-E\n",
    "##iterates (c+d) times, this is x order\n",
    "##returns a queue with X_{+/-}^1(n) for each n\n",
    "#n start is n-e\n",
    "\n",
    "# class Item:\n",
    "#     def __init__(self, n_string,coeff,e,delta):\n",
    "#         self.n_string = n_string\n",
    "#         self.coeff = coeff\n",
    "#         self.e = e\n",
    "#         self.delta = delta\n",
    "\n",
    "# def prototype_x (e,x_order):\n",
    "#     n_string = 'n-'\n",
    "#     q1 = []\n",
    "#     q2 = []\n",
    "#     #queue of items which are passed each iteration\n",
    "#     coeff = '' #coeff can be worked in this fxn, then multiplied to overall coupling after\n",
    "#     delta = -e\n",
    "#     start_item = Item(n_string,coeff,e,delta)\n",
    "#     q1.append(start_item) #just for printing, need 3-array. to track inc/dec\n",
    "    \n",
    "#     x_count = x_order  #counter to track iterations\n",
    "    \n",
    "#     #empty q1 iteratively and raise and lower\n",
    "#     while(x_count!=0):\n",
    "#         while(q1):\n",
    "#             #get from q1\n",
    "#             item = cp(q1.pop())\n",
    "            \n",
    "#             #raise n, factor X_+^1(n)  **raising doesn't involve factor n**\n",
    "#             item_raise = cp(item)\n",
    "\n",
    "#             item_raise.coeff += 'X_+^1(n+('+ str(item.delta)+'))'\n",
    "#             item_raise.delta += 1 #delta+1\n",
    "#             item_raise.n_string = n_string+'('+ str(item.delta) +')' #n has been shifted\n",
    "            \n",
    "            \n",
    "#             q2.append(item_raise) # put into temp q\n",
    "            \n",
    "            \n",
    "#             #lower n, factor X_-^1(n)\n",
    "#             item_lower = cp(item)\n",
    "            \n",
    "#             item_lower.coeff += 'X_-^1(n+('+ str(item.delta) +'))'\n",
    "#             item_lower.delta -= 1 #delta+1\n",
    "#             item_lower.n_string = n_string+'(' +str(item.delta) +')' #n has been shifted\n",
    "            \n",
    "#             q2.append(item_lower) #put into temp q\n",
    "            \n",
    "#         #empty q2 back into q1 to re-iterate\n",
    "#         while(q2):\n",
    "#             q1.append(q2.pop())\n",
    "            \n",
    "#         x_count-=1 #iteration done, decrement count\n",
    "        \n",
    "    \n",
    "#     #all x factors transformed, return full queue\n",
    "#     return(q1)"
   ]
  },
  {
   "cell_type": "code",
   "execution_count": 13,
   "metadata": {},
   "outputs": [],
   "source": [
    "K=3\n",
    "a=100e-6\n",
    "alpha=0\n",
    "z=0\n",
    "params = pl.Params(1064e-9,0.00023067,0)\n",
    "shifted_modes = expand_shift(z,params,a,alpha,modes,K)"
   ]
  },
  {
   "cell_type": "code",
   "execution_count": 12,
   "metadata": {},
   "outputs": [
    {
     "name": "stdout",
     "output_type": "stream",
     "text": [
      "0\n",
      "1\n",
      "2\n",
      "3\n",
      "4\n",
      "5\n",
      "6\n",
      "7\n",
      "8\n"
     ]
    }
   ],
   "source": [
    "size = 9\n",
    "time_start = [0]*size\n",
    "time_end = [0]*size\n",
    "total_time = [0]*size\n",
    "k_arr = [0]*size\n",
    "shifted_modes = [0]*size\n",
    "\n",
    "for i in range(size):\n",
    "    print(i)\n",
    "    k_arr[i] = i\n",
    "    time_start[i] = process_time()\n",
    "    shifted_modes[i] = expand_shift(z,params,a,alpha,modes_N,i)\n",
    "    time_end[i] = process_time()"
   ]
  },
  {
   "cell_type": "code",
   "execution_count": 14,
   "metadata": {},
   "outputs": [
    {
     "name": "stdout",
     "output_type": "stream",
     "text": [
      "[0.0, 0.015625, 0.03125, 0.21875, 0.515625, 1.34375, 3.90625, 9.96875, 20.953125]\n"
     ]
    }
   ],
   "source": [
    "for i in range(size):\n",
    "    total_time[i] = time_end[i]-time_start[i]\n",
    "print(total_time)"
   ]
  },
  {
   "cell_type": "code",
   "execution_count": 15,
   "metadata": {},
   "outputs": [
    {
     "name": "stdout",
     "output_type": "stream",
     "text": [
      "0\n",
      "1\n",
      "2\n",
      "3\n",
      "4\n",
      "5\n",
      "6\n",
      "7\n",
      "8\n"
     ]
    }
   ],
   "source": [
    "size = 9\n",
    "time_start = [0]*size\n",
    "time_end = [0]*size\n",
    "total_time1 = [0]*size\n",
    "k_arr = [0]*size\n",
    "shifted_modes = [0]*size\n",
    "modes_N= pl.create_modes_orderN(listModesM,listModesN,listModesC,NumberModes,22)\n",
    "\n",
    "for i in range(size):\n",
    "    print(i)\n",
    "    k_arr[i] = i\n",
    "    time_start[i] = process_time()\n",
    "    shifted_modes[i] = expand_shift(z,params,a,alpha,modes_N,i)\n",
    "    time_end[i] = process_time()"
   ]
  },
  {
   "cell_type": "code",
   "execution_count": 16,
   "metadata": {
    "scrolled": true
   },
   "outputs": [
    {
     "name": "stdout",
     "output_type": "stream",
     "text": [
      "[0.0, 0.015625, 0.03125, 0.21875, 0.515625, 1.34375, 3.90625, 9.96875, 20.953125]\n"
     ]
    }
   ],
   "source": [
    "for i in range(size):\n",
    "    total_time1[i] = time_end[i]-time_start[i]\n",
    "print(total_time)"
   ]
  },
  {
   "cell_type": "code",
   "execution_count": 17,
   "metadata": {},
   "outputs": [
    {
     "name": "stdout",
     "output_type": "stream",
     "text": [
      "0\n",
      "1\n",
      "2\n",
      "3\n",
      "4\n",
      "5\n",
      "6\n",
      "7\n",
      "8\n"
     ]
    }
   ],
   "source": [
    "size = 9\n",
    "time_start = [0]*size\n",
    "time_end = [0]*size\n",
    "total_time2 = [0]*size\n",
    "k_arr = [0]*size\n",
    "shifted_modes = [0]*size\n",
    "modes_N= pl.create_modes_orderN(listModesM,listModesN,listModesC,NumberModes,26)\n",
    "\n",
    "for i in range(size):\n",
    "    print(i)\n",
    "    k_arr[i] = i\n",
    "    time_start[i] = process_time()\n",
    "    shifted_modes[i] = expand_shift(z,params,a,alpha,modes_N,i)\n",
    "    time_end[i] = process_time()"
   ]
  },
  {
   "cell_type": "code",
   "execution_count": 18,
   "metadata": {},
   "outputs": [
    {
     "name": "stdout",
     "output_type": "stream",
     "text": [
      "[0.0, 0.015625, 0.03125, 0.21875, 0.515625, 1.34375, 3.90625, 9.96875, 20.953125]\n"
     ]
    }
   ],
   "source": [
    "for i in range(size):\n",
    "    total_time2[i] = time_end[i]-time_start[i]\n",
    "print(total_time)"
   ]
  },
  {
   "cell_type": "code",
   "execution_count": 19,
   "metadata": {},
   "outputs": [
    {
     "name": "stdout",
     "output_type": "stream",
     "text": [
      "0\n",
      "1\n",
      "2\n",
      "3\n",
      "4\n",
      "5\n",
      "6\n",
      "7\n",
      "8\n"
     ]
    }
   ],
   "source": [
    "size = 9\n",
    "time_start = [0]*size\n",
    "time_end = [0]*size\n",
    "total_time3 = [0]*size\n",
    "k_arr = [0]*size\n",
    "shifted_modes = [0]*size\n",
    "modes_N= pl.create_modes_orderN(listModesM,listModesN,listModesC,NumberModes,30)\n",
    "\n",
    "for i in range(size):\n",
    "    print(i)\n",
    "    k_arr[i] = i\n",
    "    time_start[i] = process_time()\n",
    "    shifted_modes[i] = expand_shift(z,params,a,alpha,modes_N,i)\n",
    "    time_end[i] = process_time()"
   ]
  },
  {
   "cell_type": "code",
   "execution_count": 20,
   "metadata": {},
   "outputs": [
    {
     "name": "stdout",
     "output_type": "stream",
     "text": [
      "[0.0, 0.015625, 0.03125, 0.21875, 0.515625, 1.34375, 3.90625, 9.96875, 20.953125]\n"
     ]
    }
   ],
   "source": [
    "for i in range(size):\n",
    "    total_time3[i] = time_end[i]-time_start[i]\n",
    "print(total_time)"
   ]
  },
  {
   "cell_type": "code",
   "execution_count": 27,
   "metadata": {},
   "outputs": [
    {
     "name": "stdout",
     "output_type": "stream",
     "text": [
      "18 [0.0, 0.015625, 0.03125, 0.21875, 0.515625, 1.34375, 3.90625, 9.96875, 20.953125]\n",
      "22 [0.0, 0.015625, 0.046875, 0.171875, 0.65625, 1.828125, 4.875, 11.84375, 29.0]\n",
      "26 [0.0, 0.03125, 0.109375, 0.3125, 0.890625, 2.28125, 6.421875, 16.03125, 40.828125]\n",
      "30 [0.0, 0.03125, 0.09375, 0.34375, 1.125, 3.28125, 8.296875, 24.328125, 53.78125]\n"
     ]
    },
    {
     "data": {
      "image/png": "[encoded data removed]",
      "text/plain": [
       "<Figure size 648x432 with 1 Axes>"
      ]
     },
     "metadata": {
      "needs_background": "light"
     },
     "output_type": "display_data"
    }
   ],
   "source": [
    "plt.figure(figsize=(9,6))\n",
    "plt.plot(k_arr, total_time, marker='o',label='18')\n",
    "plt.plot(k_arr, total_time1,marker='o',label='22')\n",
    "plt.plot(k_arr, total_time2,marker='o',label='26')\n",
    "plt.plot(k_arr, total_time3,marker='o',label='30')\n",
    "\n",
    "plt.xlabel(r'Order of Approximation (K)', fontsize=15) \n",
    "plt.ylabel(r'Time [s]', fontsize=15) \n",
    "plt.title(r'Shift Expansion Computation Times')\n",
    "plt.legend(title=\"max mode order\")\n",
    "plt.grid()\n",
    "print('18',total_time)\n",
    "print('22',total_time1)\n",
    "print('26',total_time2)\n",
    "print('30',total_time3)"
   ]
  },
  {
   "cell_type": "code",
   "execution_count": 30,
   "metadata": {},
   "outputs": [
    {
     "name": "stderr",
     "output_type": "stream",
     "text": [
      "C:\\Users\\edwar\\Anaconda3\\lib\\site-packages\\ipykernel_launcher.py:2: RuntimeWarning: divide by zero encountered in log\n",
      "  \n",
      "C:\\Users\\edwar\\Anaconda3\\lib\\site-packages\\ipykernel_launcher.py:3: RuntimeWarning: divide by zero encountered in log\n",
      "  This is separate from the ipykernel package so we can avoid doing imports until\n",
      "C:\\Users\\edwar\\Anaconda3\\lib\\site-packages\\ipykernel_launcher.py:4: RuntimeWarning: divide by zero encountered in log\n",
      "  after removing the cwd from sys.path.\n",
      "C:\\Users\\edwar\\Anaconda3\\lib\\site-packages\\ipykernel_launcher.py:5: RuntimeWarning: divide by zero encountered in log\n",
      "  \"\"\"\n"
     ]
    },
    {
     "name": "stdout",
     "output_type": "stream",
     "text": [
      "18 [0.0, 0.015625, 0.03125, 0.21875, 0.515625, 1.34375, 3.90625, 9.96875, 20.953125]\n",
      "22 [0.0, 0.015625, 0.046875, 0.171875, 0.65625, 1.828125, 4.875, 11.84375, 29.0]\n",
      "26 [0.0, 0.03125, 0.109375, 0.3125, 0.890625, 2.28125, 6.421875, 16.03125, 40.828125]\n",
      "30 [0.0, 0.03125, 0.09375, 0.34375, 1.125, 3.28125, 8.296875, 24.328125, 53.78125]\n"
     ]
    },
    {
     "data": {
      "image/png": "[encoded data removed]",
      "text/plain": [
       "<Figure size 648x432 with 1 Axes>"
      ]
     },
     "metadata": {
      "needs_background": "light"
     },
     "output_type": "display_data"
    }
   ],
   "source": [
    "plt.figure(figsize=(9,6))\n",
    "plt.plot(np.log(k_arr), np.log(total_time), marker='o',label='18')\n",
    "plt.plot(np.log(k_arr), np.log(total_time1),marker='o',label='22')\n",
    "plt.plot(np.log(k_arr), np.log(total_time2),marker='o',label='26')\n",
    "plt.plot(np.log(k_arr), np.log(total_time3),marker='o',label='30')\n",
    "\n",
    "plt.xlabel(r'ln(K)', fontsize=15) \n",
    "plt.ylabel(r'ln(t)', fontsize=15) \n",
    "plt.title(r'Shift Expansion Computation Times')\n",
    "plt.legend(title=\"max mode order\")\n",
    "plt.xlim([1,2])\n",
    "plt.grid()\n",
    "print('18',total_time)\n",
    "print('22',total_time1)\n",
    "print('26',total_time2)\n",
    "print('30',total_time3)"
   ]
  },
  {
   "cell_type": "code",
   "execution_count": 22,
   "metadata": {},
   "outputs": [
    {
     "data": {
      "image/png": "[encoded data removed]",
      "text/plain": [
       "<Figure size 648x432 with 1 Axes>"
      ]
     },
     "metadata": {
      "needs_background": "light"
     },
     "output_type": "display_data"
    }
   ],
   "source": [
    "plt.figure(figsize=(9,6))\n",
    "plt.plot(k_arr, total_time,label='18')\n",
    "plt.plot(k_arr, total_time1,label='22')\n",
    "plt.plot(k_arr, total_time2,label='26')\n",
    "plt.plot(k_arr, total_time3,label='30')\n",
    "\n",
    "plt.xlabel(r'Order of Approximation (K)', fontsize=15) \n",
    "plt.ylabel(r'Time [s]', fontsize=15) \n",
    "plt.title(r'Shift Expansion Computation Times')\n",
    "plt.legend(title=\"max mode order\")\n",
    "plt.ylim([0,5])\n",
    "plt.grid()"
   ]
  },
  {
   "cell_type": "code",
   "execution_count": 74,
   "metadata": {},
   "outputs": [
    {
     "data": {
      "image/png": "[encoded data removed]",
      "text/plain": [
       "<Figure size 432x432 with 1 Axes>"
      ]
     },
     "metadata": {
      "needs_background": "light"
     },
     "output_type": "display_data"
    }
   ],
   "source": [
    "# pl.show_modes(modes)\n",
    "# pl.show_modes(shifted_modes)\n",
    "f = [0]*size\n",
    "for i in range(size):\n",
    "    f[i] = pl.calculate(params,plane,shifted_modes[i],z)\n",
    "    \n",
    "plplt.intslicex(0,f[0],f[1],f[2],f[3],f[4],f[5] ,xlim=([-200e-6,50e-6]),labels=['0','1','2','3','4','5'])"
   ]
  },
  {
   "cell_type": "code",
   "execution_count": 75,
   "metadata": {},
   "outputs": [
    {
     "data": {
      "image/png": "[encoded data removed]",
      "text/plain": [
       "<Figure size 864x864 with 2 Axes>"
      ]
     },
     "metadata": {
      "needs_background": "light"
     },
     "output_type": "display_data"
    }
   ],
   "source": [
    "#get amps\n",
    "calc = f[6]\n",
    "\n",
    "#plot\n",
    "fig, ax = plt.subplots(figsize=(12, 12))\n",
    "cs = plt.contourf(calc.plane.getX(), calc.plane.getY(), abs(calc.getAmp() ** 2))\n",
    "\n",
    "ax.ticklabel_format(axis='x', style='sci', scilimits=(0, 0), useMathText=True)\n",
    "ax.ticklabel_format(axis='y', style='sci', scilimits=(0, 0), useMathText=True)\n",
    "\n",
    "cbar = fig.colorbar(cs)\n",
    "\n",
    "plt.grid()"
   ]
  },
  {
   "cell_type": "code",
   "execution_count": 26,
   "metadata": {
    "scrolled": false
   },
   "outputs": [
    {
     "data": {
      "image/png": "[encoded data removed]",
      "text/plain": [
       "<Figure size 864x864 with 2 Axes>"
      ]
     },
     "metadata": {
      "needs_background": "light"
     },
     "output_type": "display_data"
    }
   ],
   "source": [
    "#get amps\n",
    "calc = f[6]\n",
    "\n",
    "#plot\n",
    "fig, ax = plt.subplots(figsize=(12, 12))\n",
    "cs = plt.contourf(calc.plane.getX(), calc.plane.getY(), abs(calc.getAmp() ** 2))\n",
    "\n",
    "ax.ticklabel_format(axis='x', style='sci', scilimits=(0, 0), useMathText=True)\n",
    "ax.ticklabel_format(axis='y', style='sci', scilimits=(0, 0), useMathText=True)\n",
    "\n",
    "cbar = fig.colorbar(cs)\n",
    "plt.xlim([-50e-5,50e-5])\n",
    "plt.ylim([-50e-5,50e-5])\n",
    "plt.grid()"
   ]
  },
  {
   "cell_type": "code",
   "execution_count": null,
   "metadata": {},
   "outputs": [],
   "source": [
    "K=5\n",
    "shifted_modes,shifted_ind = expand_shift(z,params,a,alpha,modes,K)"
   ]
  },
  {
   "cell_type": "code",
   "execution_count": null,
   "metadata": {},
   "outputs": [],
   "source": [
    "# pl.show_modes(modes)\n",
    "# pl.show_modes(shifted_modes)"
   ]
  },
  {
   "cell_type": "code",
   "execution_count": null,
   "metadata": {},
   "outputs": [],
   "source": [
    "#get amps\n",
    "calc = pl.calculate(params,plane,shifted_modes,z)\n",
    "\n",
    "#plot\n",
    "fig, ax = plt.subplots(figsize=(12, 12))\n",
    "cs = plt.contourf(calc.plane.getX(), calc.plane.getY(), abs(calc.getAmp() ** 2))\n",
    "\n",
    "ax.ticklabel_format(axis='x', style='sci', scilimits=(0, 0), useMathText=True)\n",
    "ax.ticklabel_format(axis='y', style='sci', scilimits=(0, 0), useMathText=True)\n",
    "\n",
    "cbar = fig.colorbar(cs)\n",
    "\n",
    "plt.grid()"
   ]
  },
  {
   "cell_type": "code",
   "execution_count": null,
   "metadata": {
    "scrolled": false
   },
   "outputs": [],
   "source": [
    "#get amps\n",
    "calc = pl.calculate(params,plane,shifted_modes,z)\n",
    "\n",
    "#plot\n",
    "fig, ax = plt.subplots(figsize=(12, 12))\n",
    "cs = plt.contourf(calc.plane.getX(), calc.plane.getY(), abs(calc.getAmp() ** 2))\n",
    "\n",
    "ax.ticklabel_format(axis='x', style='sci', scilimits=(0, 0), useMathText=True)\n",
    "ax.ticklabel_format(axis='y', style='sci', scilimits=(0, 0), useMathText=True)\n",
    "\n",
    "cbar = fig.colorbar(cs)\n",
    "plt.xlim([-100e-6,100e-6])\n",
    "plt.grid()"
   ]
  },
  {
   "cell_type": "code",
   "execution_count": null,
   "metadata": {},
   "outputs": [],
   "source": [
    "K=10\n",
    "shifted_modes,shifted_ind = expand_shift(z,params,a,alpha,modes,K)"
   ]
  },
  {
   "cell_type": "code",
   "execution_count": null,
   "metadata": {},
   "outputs": [],
   "source": [
    "# pl.show_modes(modes)\n",
    "# pl.show_modes(shifted_modes)"
   ]
  },
  {
   "cell_type": "code",
   "execution_count": null,
   "metadata": {},
   "outputs": [],
   "source": [
    "#get amps\n",
    "calc = pl.calculate(params,plane,shifted_modes,z)\n",
    "\n",
    "#plot\n",
    "fig, ax = plt.subplots(figsize=(12, 12))\n",
    "cs = plt.contourf(calc.plane.getX(), calc.plane.getY(), abs(calc.getAmp() ** 2))\n",
    "\n",
    "ax.ticklabel_format(axis='x', style='sci', scilimits=(0, 0), useMathText=True)\n",
    "ax.ticklabel_format(axis='y', style='sci', scilimits=(0, 0), useMathText=True)\n",
    "\n",
    "cbar = fig.colorbar(cs)\n",
    "\n",
    "plt.grid()"
   ]
  },
  {
   "cell_type": "code",
   "execution_count": null,
   "metadata": {
    "scrolled": false
   },
   "outputs": [],
   "source": [
    "#get amps\n",
    "calc = pl.calculate(params,plane,shifted_modes,z)\n",
    "\n",
    "#plot\n",
    "fig, ax = plt.subplots(figsize=(12, 12))\n",
    "cs = plt.contourf(calc.plane.getX(), calc.plane.getY(), abs(calc.getAmp() ** 2))\n",
    "\n",
    "ax.ticklabel_format(axis='x', style='sci', scilimits=(0, 0), useMathText=True)\n",
    "ax.ticklabel_format(axis='y', style='sci', scilimits=(0, 0), useMathText=True)\n",
    "\n",
    "cbar = fig.colorbar(cs)\n",
    "plt.xlim([-150e-6,100e-6])\n",
    "plt.grid()"
   ]
  },
  {
   "cell_type": "code",
   "execution_count": null,
   "metadata": {},
   "outputs": [],
   "source": []
  }
 ],
 "metadata": {
  "kernelspec": {
   "display_name": "Python 3",
   "language": "python",
   "name": "python3"
  },
  "language_info": {
   "codemirror_mode": {
    "name": "ipython",
    "version": 3
   },
   "file_extension": ".py",
   "mimetype": "text/x-python",
   "name": "python",
   "nbconvert_exporter": "python",
   "pygments_lexer": "ipython3",
   "version": "3.7.3"
  }
 },
 "nbformat": 4,
 "nbformat_minor": 2
}
