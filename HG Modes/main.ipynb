{
 "cells": [
  {
   "cell_type": "code",
   "execution_count": 1,
   "metadata": {},
   "outputs": [],
   "source": [
    "import PauLisa as pl, numpy as np, matplotlib.pyplot as plt"
   ]
  },
  {
   "cell_type": "code",
   "execution_count": 2,
   "metadata": {},
   "outputs": [],
   "source": [
    "a = pl.defaultParams\n",
    "b = pl.defaultPlane\n",
    "c = pl.Plane(-3e-3,3e-3,1000,-3e-3,3e-3,1000)\n",
    "d=pl.Plane(-1e-3,1e-3,40001,-1e-3,1e-3,3)"
   ]
  },
  {
   "cell_type": "code",
   "execution_count": null,
   "metadata": {},
   "outputs": [],
   "source": [
    "# spot centers for initial beam and translated beam\n",
    "# Re[a10]/a00 = delta s/wo , w0 = 1e-3\n",
    "\n",
    "a10 = .04\n",
    "a00 = 1\n",
    "\n",
    "\n",
    "\n",
    "m0 = pl.modes((0,0,a00))\n",
    "m1 = pl.modes((1,0,a10))\n",
    "m01 = pl.modes((0,0,a00),(1,0,a10))\n",
    "\n",
    "f0 =pl.calculate_q(a,b,m0,0)\n",
    "\n",
    "f1 =pl.calculate_q(a,b,m1,0)\n",
    "f01 = pl.calculate_q(a,b,m01,0)\n",
    "f = pl.calculate_q(a,b,m01,0)\n",
    "\n",
    "\n",
    "pl.intslicex_q(0,f0,f1,f01,labels=['0,0','1,0','Combined'])\n",
    "\n",
    "print (\"predicted x shift: \"+str(pl.np.real(a10)/1*a.w0) + \" m\")\n",
    "print (\"actual: \" + str(pl.PeakInt(f01).x[0]-pl.PeakInt(f0).x[0]) + \" m\")\n",
    "\n",
    "print (\"% err: \" + str(((pl.np.real(a10)/1*a.w0)-(pl.PeakInt(f01).x[0]-pl.PeakInt(f0).x[0]))*100/(pl.np.real(a10)/1*a.w0)))\n",
    "\n",
    "print(\"Combined intensity 0,0 & 1,0 mode, x=y=z=0: \" + str(abs(pl.amplitude(a,0,0,0,m01))**2))\n",
    "print(\"Predicted combined intensity, x=y=z=0: \" + str(abs(np.sqrt(2/pl.pi)/a.w0)**2))\n",
    "\n"
   ]
  },
  {
   "cell_type": "code",
   "execution_count": null,
   "metadata": {},
   "outputs": [],
   "source": []
  }
 ],
 "metadata": {
  "kernelspec": {
   "display_name": "Python 3",
   "language": "python",
   "name": "python3"
  },
  "language_info": {
   "codemirror_mode": {
    "name": "ipython",
    "version": 3
   },
   "file_extension": ".py",
   "mimetype": "text/x-python",
   "name": "python",
   "nbconvert_exporter": "python",
   "pygments_lexer": "ipython3",
   "version": "3.7.3"
  }
 },
 "nbformat": 4,
 "nbformat_minor": 2
}
