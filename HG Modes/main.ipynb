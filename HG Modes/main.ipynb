{
 "cells": [
  {
   "cell_type": "code",
   "execution_count": 1,
   "metadata": {},
   "outputs": [
    {
     "name": "stdout",
     "output_type": "stream",
     "text": [
      "DEFAULT PARAMS (PauLisa.defaultParams)\n",
      " wavelength =1.064e-06m\n",
      " waist size(w0) =0.001m\n",
      " z0 =0m\n",
      " Rayleigh Range (Zr) =2.95262467443m\n",
      "\n",
      "\n",
      "DEFAULT X,Y PLANE (PauLisa.defaultPlane)\n",
      " x: -0.02m to 0.02m with 1000 points.\n",
      " y: -0.02m to 0.02m with 1000 points.\n",
      "\n",
      "\n",
      "\n",
      "Function Usage:\n",
      "OPTICAL PARAMETERS DEFINITION     \n",
      " PARAMETERS=PauLisa.Params(wavelength,w0,z0)\n",
      "\n",
      "PLANE OF PROPAGATION DEFINITION     \n",
      " PLANE=PauLisa.Plane(xmin,xmax,xpoints,ymin,ymax,ypoints) \n",
      "\n",
      "MODES DEFNITION AND DISPLAY     \n",
      " MODESARRAY=PauLisa.Modes((n1,m1,c1),(n2,m2,c2))     \n",
      " PauLisa.ShowModes(MODES) \n",
      "\n",
      "AMPLITUDE CALCULATIONS     \n",
      " Calculate amplitude over plane: RESULT=PauLisa.Calculate(PARAMS,PLANE,MODES,z) \n",
      " Simple calculation from coordinates: PauLisa.Amplitude(PARAMS,x,y,z,MODES) \n",
      "\n",
      "INTENSITY PLOTTING     \n",
      " PauLisa.Contour(RESULT, **xlim,**ylim)     \n",
      " PauLisa.IntensitySliceX(y, *RESULT, **xlim)     \n",
      " PauLisa.IntensitySliceY(x, *RESULT, **xlim) \n",
      "\n",
      "PHASE CALCULATION     \n",
      " PauLisa.Phase(PARAMS,x,y,z,MODES) \n",
      "\n",
      "PHASE PLOTTING     \n",
      " PauLisa.PhaseContour(RESULT,**xlim,**ylim)     \n",
      " PauLisa.PhaseSliceX(y,*RESULT,**xlim)    \n",
      " PauLisa.PhaseSliceY(x,*RESULT,**xlim)\n",
      "\n",
      " *VARNAME represents variable number of args of specified type.\n"
     ]
    }
   ],
   "source": [
    "import PauLisa as pl, numpy as np, matplotlib.pyplot as plt"
   ]
  },
  {
   "cell_type": "code",
   "execution_count": 2,
   "metadata": {},
   "outputs": [
    {
     "name": "stdout",
     "output_type": "stream",
     "text": [
      "predicted x shift: 4e-05\n",
      "actual: 0.0016802\n",
      "% err: -4100.5\n",
      "(637.63512755-0.507073065725j)\n",
      "(637.638725939-0.510678588404j)\n"
     ]
    },
    {
     "data": {
      "image/png": "[encoded data removed]",
      "text/plain": [
       "<matplotlib.figure.Figure at 0x6ee99b0>"
      ]
     },
     "metadata": {},
     "output_type": "display_data"
    }
   ],
   "source": [
    "a=pl.defaultParams\n",
    "b=pl.Plane(-1e-3,1e-3,40000,-1e-3,1e-3,3)\n",
    "\n",
    "\n",
    "# Re[a10]/a00 = delta s/wo , w0 = 1e-3\n",
    "\n",
    "a10 = .04\n",
    "a00 = 1\n",
    "\n",
    "m0 = pl.Modes((0,0,a00))\n",
    "m1 = pl.Modes((1,0,a10))\n",
    "m01 = pl.Modes((0,0,a00),(1,0,a10))\n",
    "\n",
    "f0 =pl.Calculate(a,b,m0,0)\n",
    "f1 =pl.Calculate(a,b,m1,0)\n",
    "f01 = pl.Calculate(a,b,m01,0)\n",
    "\n",
    "pl.IntensitySliceX(0,f0,f1,f01)\n",
    "\n",
    "print (\"predicted x shift: \"+str(pl.np.real(a10)/1*a.w0))\n",
    "print (\"actual: \" + str(pl.peakInt(f01).x[0]-pl.peakInt(f0).x[0]))\n",
    "\n",
    "print (\"% err: \" + str(((pl.np.real(a10)/1*a.w0)-(pl.peakInt(f01).x[0]-pl.peakInt(f0).x[0]))*100/(pl.np.real(a10)/1*a.w0)))\n",
    "\n",
    "print pl.Amplitude(a,2.82e-05,0,0,m01)\n",
    "print pl.Amplitude(a,2.83e-05,0,0,m01)"
   ]
  },
  {
   "cell_type": "code",
   "execution_count": 1,
   "metadata": {},
   "outputs": [
    {
     "name": "stdout",
     "output_type": "stream",
     "text": [
      "0.0763397936175\n",
      "-0.0572929440956\n"
     ]
    }
   ],
   "source": [
    "r = 6.37e6\n",
    "w = 7.3e-5\n",
    "m = 5.97e24\n",
    "g = 6.67e-11\n",
    "j= .00108\n",
    "a = w**2*r**3/(g*m)\n",
    "k = g*m/(r**2)\n",
    "b= w**2*r\n",
    "\n",
    "\n",
    "print k*((9/2)*j+a)\n",
    "\n",
    "print k*(-2*(b/k)+(3/2)*j)"
   ]
  },
  {
   "cell_type": "code",
   "execution_count": null,
   "metadata": {},
   "outputs": [],
   "source": []
  }
 ],
 "metadata": {
  "kernelspec": {
   "display_name": "Python 2",
   "language": "python",
   "name": "python2"
  },
  "language_info": {
   "codemirror_mode": {
    "name": "ipython",
    "version": 2
   },
   "file_extension": ".py",
   "mimetype": "text/x-python",
   "name": "python",
   "nbconvert_exporter": "python",
   "pygments_lexer": "ipython2",
   "version": "2.7.14"
  }
 },
 "nbformat": 4,
 "nbformat_minor": 2
}
