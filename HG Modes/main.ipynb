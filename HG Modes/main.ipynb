{
 "cells": [
  {
   "cell_type": "code",
   "execution_count": 1,
   "metadata": {},
   "outputs": [
    {
     "name": "stdout",
     "output_type": "stream",
     "text": [
      "DEFAULT PARAMS (PauLisa.defaultParams)\n",
      " wavelength =1.064e-06m\n",
      " waist size(w0) =0.001m\n",
      " z0 =0m\n",
      " Rayleigh Range (Zr) =2.95262467443m\n",
      "\n",
      "\n",
      "DEFAULT X,Y PLANE (PauLisa.defaultPlane)\n",
      " x: -0.02m to 0.02m with 1000 points.\n",
      " y: -0.02m to 0.02m with 1000 points.\n",
      "\n",
      "\n",
      "\n",
      "Function Usage:\n",
      "OPTICAL PARAMETERS DEFINITION     \n",
      " PARAMETERS=PauLisa.Params(wavelength,w0,z0)\n",
      "\n",
      "PLANE OF PROPAGATION DEFINITION     \n",
      " PLANE=PauLisa.Plane(xmin,xmax,xpoints,ymin,ymax,ypoints) \n",
      "\n",
      "MODES DEFNITION AND DISPLAY     \n",
      " MODESARRAY=PauLisa.Modes((n1,m1,c1),(n2,m2,c2))     \n",
      " PauLisa.ShowModes(MODES) \n",
      "\n",
      "AMPLITUDE CALCULATIONS     \n",
      " Calculate amplitude over plane: RESULT=PauLisa.Calculate(PARAMS,PLANE,MODES,z) \n",
      " Simple calculation from coordinates: PauLisa.Amplitude(PARAMS,x,y,z,MODES) \n",
      "\n",
      "INTENSITY PLOTTING     \n",
      " PauLisa.Contour(RESULT, **xlim,**ylim)     \n",
      " PauLisa.IntensitySliceX(y, *RESULT, **xlim)     \n",
      " PauLisa.IntensitySliceY(x, *RESULT, **xlim) \n",
      "\n",
      "PHASE CALCULATION     \n",
      " PauLisa.Phase(PARAMS,x,y,z,MODES) \n",
      "\n",
      "PHASE PLOTTING     \n",
      " PauLisa.PhaseContour(RESULT,**xlim,**ylim)     \n",
      " PauLisa.PhaseSliceX(y,*RESULT,**xlim)    \n",
      " PauLisa.PhaseSliceY(x,*RESULT,**xlim)\n",
      "\n",
      " *VARNAME represents variable number of args of specified type.\n"
     ]
    }
   ],
   "source": [
    "import PauLisa as pl, numpy as np, matplotlib.pyplot as plt"
   ]
  },
  {
   "cell_type": "code",
   "execution_count": 76,
   "metadata": {},
   "outputs": [],
   "source": [
    "a = pl.defaultParams\n",
    "b = pl.defaultPlane\n",
    "m01 = pl.Modes((0,0,.01),(1,0,1*1j))\n",
    "m1 = pl.Modes((1,0,1))\n",
    "m0 = pl.Modes((0,0,1))"
   ]
  },
  {
   "cell_type": "code",
   "execution_count": 77,
   "metadata": {},
   "outputs": [
    {
     "name": "stdout",
     "output_type": "stream",
     "text": [
      "0.0\n"
     ]
    }
   ],
   "source": [
    "print pl.HermPol(m,0,[0,1],10,a)"
   ]
  },
  {
   "cell_type": "code",
   "execution_count": 78,
   "metadata": {},
   "outputs": [
    {
     "name": "stdout",
     "output_type": "stream",
     "text": [
      "(51.0499343716+172.896795227j)\n",
      "0j\n",
      "(0.005104993437156123+0.017289679522669753j)\n"
     ]
    }
   ],
   "source": [
    "print pl.Amplitude(a,0,0,10,m0)\n",
    "print pl.Amplitude(a,0,0,10,m1)\n",
    "print pl.Amplitude(a,0,0,10,m01)"
   ]
  },
  {
   "cell_type": "code",
   "execution_count": 79,
   "metadata": {},
   "outputs": [
    {
     "name": "stdout",
     "output_type": "stream",
     "text": [
      "1.28369153964\n"
     ]
    }
   ],
   "source": [
    "print pl.GouyPhase(10,1,a)"
   ]
  },
  {
   "cell_type": "code",
   "execution_count": 80,
   "metadata": {},
   "outputs": [
    {
     "ename": "IndentationError",
     "evalue": "unexpected indent (<ipython-input-80-a572168c6af1>, line 6)",
     "output_type": "error",
     "traceback": [
      "\u001b[1;36m  File \u001b[1;32m\"<ipython-input-80-a572168c6af1>\"\u001b[1;36m, line \u001b[1;32m6\u001b[0m\n\u001b[1;33m    for n in range(rows):\u001b[0m\n\u001b[1;37m    ^\u001b[0m\n\u001b[1;31mIndentationError\u001b[0m\u001b[1;31m:\u001b[0m unexpected indent\n"
     ]
    }
   ],
   "source": [
    "UnmSum = 0\n",
    "rows = len(modes)\n",
    "cols = len(modes[0])\n",
    "\n",
    "    # Iterate through modes\n",
    "    for n in range(rows):\n",
    "        for m in range(cols):\n",
    "            # n array for hermpol\n",
    "            carrN = [0] * rows\n",
    "            carrN[n] = modes[n][m]\n",
    "            #print(carrN)\n",
    "\n",
    "            # m array for hermpol\n",
    "            carrM = [0] * cols\n",
    "            carrM[m] = modes[n][m]\n",
    "            #print(carrM)\n",
    "\n",
    "            order = n + m\n",
    "\n",
    "            Unm = (2 ** (order - 1) * factorial(n) * factorial(m) * pi) ** (-1 / 2) * \\\n",
    "                (1 / w(z, params)) * e ** ((1j) * (order + 1) * GouyPhase(z, order, params)) * \\\n",
    "                  e ** (-(1j) * ( (params.getK() * (x ** 2 + y ** 2)) / (2 * Rc(z, params))) - \\\n",
    "                  ((x ** 2 + y ** 2) / (w(z, params) ** 2))) * \\\n",
    "                  HermPol(n, x, carrN, z, params) * \\\n",
    "                  HermPol(m, y, carrM, z, params)\n",
    "\n",
    "            # Add each to result\n",
    "            UnmSum += Unm"
   ]
  },
  {
   "cell_type": "code",
   "execution_count": 81,
   "metadata": {},
   "outputs": [
    {
     "name": "stdout",
     "output_type": "stream",
     "text": [
      "('n', [0.01, 0])\n",
      "0.01\n",
      "('m', [0.01])\n",
      "0.01\n",
      "('sum', 0.0001)\n",
      "('n', [0, 1j])\n",
      "0j\n",
      "('m', [1j])\n",
      "1j\n",
      "('sum', (0.0001+0j))\n",
      "(0.0001+0j)\n"
     ]
    }
   ],
   "source": [
    "sum = 0\n",
    "\n",
    "r = len(m01)\n",
    "c = len(m01[0])\n",
    "\n",
    "for n in range(r):\n",
    "    for m in range(c):\n",
    "        carrN = [0]*r\n",
    "        carrN[n]=m01[n][m]\n",
    "        print (\"n\", carrN)\n",
    "        \n",
    "        print pl.HermPol(m01,0,carrN,10,a)\n",
    "        \n",
    "        carrM=[0]*c\n",
    "        carrM[m]=m01[n][m]\n",
    "        print (\"m\",carrM)\n",
    "        print pl.HermPol(m01,0,carrM,10,a)\n",
    "        \n",
    "        sum += pl.HermPol(m01,0,carrN,10,a) * pl.HermPol(m01,0,carrM,10,a)\n",
    "        \n",
    "        print (\"sum\",sum)\n",
    "print sum"
   ]
  },
  {
   "cell_type": "code",
   "execution_count": 56,
   "metadata": {
    "scrolled": true
   },
   "outputs": [
    {
     "name": "stdout",
     "output_type": "stream",
     "text": [
      "n\\m [0]\n",
      "0   [1]\n",
      "1   [1j]\n"
     ]
    }
   ],
   "source": [
    "pl.ShowModes(m01)"
   ]
  },
  {
   "cell_type": "code",
   "execution_count": 69,
   "metadata": {},
   "outputs": [
    {
     "name": "stdout",
     "output_type": "stream",
     "text": [
      "800.9446891962963\n"
     ]
    }
   ],
   "source": [
    "print pl.HermPol(m1,1,[0,1],10,a)"
   ]
  },
  {
   "cell_type": "code",
   "execution_count": 71,
   "metadata": {},
   "outputs": [
    {
     "name": "stdout",
     "output_type": "stream",
     "text": [
      "0.00353136385433\n"
     ]
    }
   ],
   "source": [
    "print(pl.w(10,a))"
   ]
  },
  {
   "cell_type": "code",
   "execution_count": 75,
   "metadata": {},
   "outputs": [
    {
     "name": "stdout",
     "output_type": "stream",
     "text": [
      "3.60994140041\n"
     ]
    }
   ],
   "source": [
    "print pl.e**(pl.GouyPhase(10,0,a))"
   ]
  },
  {
   "cell_type": "code",
   "execution_count": null,
   "metadata": {},
   "outputs": [],
   "source": []
  }
 ],
 "metadata": {
  "kernelspec": {
   "display_name": "Python 2",
   "language": "python",
   "name": "python2"
  },
  "language_info": {
   "codemirror_mode": {
    "name": "ipython",
    "version": 2
   },
   "file_extension": ".py",
   "mimetype": "text/x-python",
   "name": "python",
   "nbconvert_exporter": "python",
   "pygments_lexer": "ipython2",
   "version": "2.7.14"
  }
 },
 "nbformat": 4,
 "nbformat_minor": 2
}
