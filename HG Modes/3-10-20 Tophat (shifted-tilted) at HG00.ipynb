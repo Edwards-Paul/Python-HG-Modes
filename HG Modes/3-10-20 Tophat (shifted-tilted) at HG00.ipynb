{
 "cells": [
  {
   "cell_type": "markdown",
   "metadata": {
    "slideshow": {
     "slide_type": "slide"
    }
   },
   "source": [
    "# Shifted-tilted Tophat at Gaussian interference at waist\n",
    "\n",
    "Tophat incoming with shift then tilt ( to 1st-order in both):\n",
    "\\begin{align*}\n",
    "\\sum u_{mn} \\rightarrow_{shift,tilt} &\n",
    "    \\sum u_{mn} (1 + \\frac{2 a x}{w_0^2})(1+ i k \\alpha x)\n",
    "    \\\\\n",
    "    =&\n",
    "    \\sum u_{mn} (1 + \\frac{2 a }{w_0^2} x + i k \\alpha x + i \\frac{2 k \\alpha a}{w_0^2} x^2 )\n",
    "\\end{align*}\n",
    "\n",
    "For $x$:\n",
    "\n",
    "\\begin{equation}\n",
    "x u_{n,m} = \\frac{w_0}{2}\n",
    "\\Big[\n",
    "\t(1 - i \\frac{z}{z_R})\n",
    "\t\\sqrt{n+1} u_{n+1,m}\n",
    "\t+\n",
    "\t\\sqrt{n}\n",
    "\t(1+i \\frac{z}{z_R})\n",
    "\tu_{n-1,m}\n",
    "\\Big]\n",
    "\\end{equation}\n",
    "\n",
    "For $x^2$:\n",
    "\n",
    "\\begin{equation}\n",
    "x^2 u_{n,m} = \\frac{w_0^2}{4}\n",
    "\\Big[\n",
    "\t(1 - i \\frac{z}{z_R})^2\n",
    "\t\\sqrt{(n+1)(n+2)} u_{n+2,m}\n",
    "\t+\n",
    "\t(2n+1)\n",
    "\t(1+ (\\frac{z}{z_R})^2)\n",
    "\tu_{n,m}\n",
    "\t+\n",
    "\t\\sqrt{n(n-1)}\n",
    "\t(1+i \\frac{z}{z_R} )^2\n",
    "\tu_{n-2,m}\n",
    "\\Big]\n",
    "\\end{equation}\n",
    "\n",
    "For basis mismatch (where $b$ even):\n",
    "\n",
    "\\begin{align*}\n",
    "<0,0|a,b> = &\n",
    "    \\frac{\n",
    "    2^{a+b+1} \\sqrt{a!b!}\n",
    "    \\exp[\n",
    "        i(\\Delta \\omega t -(k_2Z-k_1d_1))\n",
    "        ]\n",
    "    }\n",
    "    {\n",
    "        \\pi \\sqrt{\\sigma^{2+a+b}}\n",
    "        \\omega_1 \\omega_2^{1+a+b}\n",
    "        (1+i \\frac{d_1}{z_{R1}})\n",
    "        (1-i \\frac{d_1}{z_{R2}})^{1+a+b}\n",
    "    }\n",
    "    \\\\& \\times\n",
    "    \\sum_{A=0}^{\\lfloor a/2  \\rfloor}\n",
    "    \\sum_{B=0}^{\\lfloor b/2 \\rfloor}\n",
    "    \\frac{\n",
    "    (\\frac{-\\sigma}{8})^{A+B}\n",
    "    W_2^{2(A+B)}\n",
    "    \\Gamma(\\frac{2+1}{2}-B)\n",
    "    }\n",
    "    {\n",
    "        A!B!(a-2A)!(b-2B)!\n",
    "    }\n",
    "    \\\\&\n",
    "    \\times\n",
    "    [\\rm{erf} (\\sqrt{\\sigma}Y)\n",
    "    - \n",
    "    \\frac{2e^{-\\sigma Y^2}}{\\sqrt{\\pi}}\n",
    "    \\sum_{M=0}^{\\frac{b}{2}-(B+1)}\n",
    "    \\frac{\n",
    "        (M+1)!\n",
    "    }\n",
    "    {\n",
    "        (2(M+1))!\n",
    "    }\n",
    "    (2 \\sqrt{\\sigma}Y)^{2M+1}\n",
    "    \\\\& \\times\n",
    "    [\n",
    "        G(\\sqrt{\\sigma}x_2; a - 2A)\n",
    "        -\n",
    "        G(\\sqrt{\\sigma}x_1; a - 2A)\n",
    "    ]\n",
    "\\end{align*}\n",
    "\n",
    "Where:\n",
    "\n",
    "\\begin{equation}\n",
    "    Z=z_{PD}-z_m\n",
    "\\end{equation}\n",
    "\n",
    "Function $G(x;m), m$ even:\n",
    "\n",
    "\\begin{equation}\n",
    "G(x;m) =\n",
    "    -\\frac{\n",
    "    (\\frac{m-1}{2})! e^{-x^2}\n",
    "    }\n",
    "    {2}\n",
    "    \\sum_{M=0}^{\\frac{m-1}{2}}\n",
    "    \\frac{x^{2M}}{M!}\n",
    "\\end{equation}\n",
    "\n",
    "Function $\\sigma$:\n",
    "\n",
    "\\begin{equation}\n",
    "\\sigma = \\frac{1}{\\omega_1^2(1+i \\frac{d_1}{z_{R1}})}\n",
    "    +\n",
    "    \\frac{1}{w_2^2(1-i \\frac{Z}{z_{R2}})}\n",
    "\\end{equation}\n",
    "\n",
    "for modes $a$ and $b$ (indices $A$ and $B$)"
   ]
  },
  {
   "cell_type": "markdown",
   "metadata": {},
   "source": [
    "## Imports, global constants"
   ]
  },
  {
   "cell_type": "code",
   "execution_count": 1,
   "metadata": {
    "slideshow": {
     "slide_type": "skip"
    }
   },
   "outputs": [],
   "source": [
    "import PauLisa as pl, numpy as np, matplotlib.pyplot as plt\n",
    "from scipy.special import erfi as erfi\n",
    "\n",
    "from scipy import integrate\n",
    "from mpmath import quadgl\n",
    "\n",
    "import scipy.io\n",
    "\n",
    "pi=np.pi"
   ]
  },
  {
   "cell_type": "markdown",
   "metadata": {},
   "source": [
    "## Tophat coefficients from AW tophat file"
   ]
  },
  {
   "cell_type": "code",
   "execution_count": 2,
   "metadata": {},
   "outputs": [
    {
     "name": "stdout",
     "output_type": "stream",
     "text": [
      "__header__\n",
      "__version__\n",
      "__globals__\n",
      "coeftop\n",
      "read_me_paul\n",
      "wb\n"
     ]
    }
   ],
   "source": [
    "mat = scipy.io.loadmat('Top_hat_for_paul.mat')\n",
    "for x in mat:\n",
    "  print(x)"
   ]
  },
  {
   "cell_type": "code",
   "execution_count": 3,
   "metadata": {},
   "outputs": [
    {
     "name": "stdout",
     "output_type": "stream",
     "text": [
      "['wb is the waist to use for tophat basis with tophat radius 1mm,coeftop are the mode coefficients.']\n",
      "[[0.00023067]]\n"
     ]
    }
   ],
   "source": [
    "print(mat['read_me_paul'])\n",
    "print(mat['wb'])\n",
    "\n",
    "coef=mat['coeftop'].ravel()"
   ]
  },
  {
   "cell_type": "markdown",
   "metadata": {},
   "source": [
    "Using simtools mode indexing in Python:\n",
    "\n",
    "$\n",
    "m = \\frac{(N+1)(N+2)}{2}- (A_{python} + 1)\n",
    "$\n",
    "\n",
    "$\n",
    "\\rightarrow A_{python} =  \\frac{(N+1)(N+2)}{2} + 1 -m \n",
    "$\n",
    "\n",
    "$\n",
    "n = A_{python} - \\frac{N(N+1)}{2} = N-m\n",
    "$\n",
    "\n",
    "$\n",
    "\\rightarrow A_{python} = N-m + - \\frac{N(N+1)}{2} \n",
    "$\n",
    "\n",
    "$\n",
    "N = floor( \\frac{\\sqrt{8A_{python}+1} - 1}{2} ) = ceil(\\frac{\\sqrt{9+8A_{python}} - 3}{2} )\n",
    "$"
   ]
  },
  {
   "cell_type": "raw",
   "metadata": {},
   "source": [
    "    Tophat 10x10 entries\n",
    "    \n",
    "    0         2         4         6...\n",
    "    0.5646    0.3896    0.2935    0.1570   -0.0031   -0.0719   -0.0055    0.0445   -0.0103   -0.0263\n",
    "    0.3896    0.2396    0.1216   -0.0024   -0.0536   -0.0041    0.0326   -0.0075   -0.0191    0.0171\n",
    "    0.2935    0.1216   -0.0022   -0.0496   -0.0037    0.0295   -0.0068   -0.0171    0.0152    0.0019\n",
    "    0.1570   -0.0024   -0.0496   -0.0036    0.0284   -0.0064   -0.0162    0.0143    0.0018   -0.0124\n",
    "   -0.0031   -0.0536   -0.0037    0.0284   -0.0063   -0.0158    0.0139    0.0017   -0.0120    0.0094\n",
    "   -0.0719   -0.0041    0.0295   -0.0064   -0.0158    0.0138    0.0017   -0.0117    0.0092    0.0004\n",
    "   -0.0055    0.0326   -0.0068   -0.0162    0.0139    0.0017   -0.0117    0.0091    0.0004   -0.0078\n",
    "    0.0445   -0.0075   -0.0171    0.0143    0.0017   -0.0117    0.0091    0.0004   -0.0077    0.0080\n",
    "   -0.0103   -0.0191    0.0152    0.0018   -0.0120    0.0092    0.0004   -0.0077    0.0080   -0.0027\n",
    "   -0.0263    0.0171    0.0019   -0.0124    0.0094    0.0004   -0.0078    0.0080   -0.0027   -0.0034\n",
    "\n",
    "\n",
    "Note that these give coefficients (for unit power, not unit intensity tophat, for that multiply by sqrt(pi)*r) for modes (2m,2n) so for example row 1 column 4 gives coefficient of mode (0,6) (first non-zero indices have a 0, so column or row 1 correspond to zero, column or row 2 correspond to 2, 3 to 4, 4 to 6, 5 to 8 and so forth). This means here are non-zero indices from HG00 to HG(18,18).\n",
    "\n",
    "Again, this is for a normal power tophat, not normal intensity (which would have a power equal to the surface area of the pupil).\n"
   ]
  },
  {
   "cell_type": "markdown",
   "metadata": {},
   "source": [
    "## Get Tophat and Gaussian beams from modes (after converting from simtools notation)"
   ]
  },
  {
   "cell_type": "code",
   "execution_count": 13,
   "metadata": {},
   "outputs": [],
   "source": [
    "def N_f(A):\n",
    "    \n",
    "    res = np.floor((np.sqrt(8*A+1)-1)/2)\n",
    "    \n",
    "    #res = (np.sqrt(9+8*A)-3)/2\n",
    "    return(res)\n",
    "\n",
    "def m(N,A):\n",
    "    res = (N+1)*(N+2)/2 - (A+1)\n",
    "    return(res)\n",
    "\n",
    "#def n(N,A):\n",
    "#    m= (N+1)*(N+2)/2 - (A+1)\n",
    "#    res = N-m\n",
    "#    return(res)\n",
    "def n(N,A):\n",
    "    res = A - (N*(N+1)/2)\n",
    "    return(res)\n",
    "\n",
    "NumberModes = int(len(coef))\n",
    "listModesN = [None] * NumberModes\n",
    "listModesM = [None] * NumberModes\n",
    "listModesC = [None] * NumberModes\n",
    "\n",
    "\n",
    "\n",
    "#for i in range(len(coef)):\n",
    "#    A=i\n",
    "#    N= N_f(A)\n",
    "#\n",
    "#    if (m(N,A)%2 == 0) & (n(N,A)%2 == 0):\n",
    "#        print(coef[A], '\\t\\t\\t' , m(N,A), ',' , n(N,A))\n",
    "\n",
    "for i in range(NumberModes):\n",
    "    A=i\n",
    "    N= N_f(A)\n",
    "    listModesN[i] = int(m(N,A))\n",
    "    listModesM[i] = int(n(N,A))\n",
    "    listModesC[i] = coef[i]\n",
    "    \n",
    "    "
   ]
  },
  {
   "cell_type": "code",
   "execution_count": 16,
   "metadata": {
    "scrolled": false
   },
   "outputs": [
    {
     "name": "stdout",
     "output_type": "stream",
     "text": [
      "n\\m [0, 1, 2, 3, 4, 5, 6, 7, 8, 9, 10, 11, 12, 13, 14, 15, 16, 17, 18, 19, 20, 21, 22, 23, 24, 25, 26, 27, 28, 29, 30, 31, 32, 33, 34]\n",
      "0   [0.0005782135489454484, 0.0, 0.00040885861556282983, 0.0, 0.0003540803162272261, 0.0, 0.000323212982065895, 0.0, 0.0003022158047268879, 0.0, 0.0002860296460147838, 0.0, 0.00027094445327376657, 0.0, 0.0002512919866755189, 0.0, 0.00021738092777959212, 0.0, 0.00015798140510481738, 0.0, 7.192607227785025e-05, 0.0, -1.6391805321537432e-05, 0.0, -6.0842902421992335e-05, 0.0, -3.51766787113729e-05, 0.0, 2.2328640904269448e-05, 0.0, 3.720198862288632e-05, 0.0, -4.422997044297867e-06, 0.0, -3.069071621773588e-05]\n",
      "1   [0.0, 0.0, 0.0, 0.0, 0.0, 0.0, 0.0, 0.0, 0.0, 0.0, 0.0, 0.0, 0.0, 0.0, 0.0, 0.0, 0.0, 0.0, 0.0, 0.0, 0.0, 0.0, 0.0, 0.0, 0.0, 0.0, 0.0, 0.0, 0.0, 0.0, 0.0, 0.0, 0.0, 0.0, 0]\n",
      "2   [0.00040885861556282983, 0.0, 0.00028910536757333815, 0.0, 0.00025035969936384935, 0.0, 0.0002284536747373153, 0.0, 0.0002131939106897525, 0.0, 0.0002001057403562884, 0.0, 0.0001843979054551671, 0.0, 0.00015875258362179704, 0.0, 0.00011494835649368826, 0.0, 5.218065720122829e-05, 0.0, -1.186351770581873e-05, 0.0, -4.394774827298457e-05, 0.0, -2.5366263759313856e-05, 0.0, 1.607845912298236e-05, 0.0, 2.6755482408372323e-05, 0.0, -3.177574891099879e-06, 0.0, -2.202797218062858e-05, 0, 0]\n",
      "3   [0.0, 0.0, 0.0, 0.0, 0.0, 0.0, 0.0, 0.0, 0.0, 0.0, 0.0, 0.0, 0.0, 0.0, 0.0, 0.0, 0.0, 0.0, 0.0, 0.0, 0.0, 0.0, 0.0, 0.0, 0.0, 0.0, 0.0, 0.0, 0.0, 0.0, 0.0, 0.0, 0, 0, 0]\n",
      "4   [0.0003540803162272261, 0.0, 0.00025035969936384946, 0.0, 0.00021673018560155595, 0.0, 0.00019737920766568632, 0.0, 0.00018267071313235418, 0.0, 0.00016679418123334547, 0.0, 0.0001426736511357363, 0.0, 0.00010281293560864216, 0.0, 4.649989456705303e-05, 0.0, -1.0541012098656894e-05, 0.0, -3.895551525396421e-05, 0.0, -2.2440309288803853e-05, 0.0, 1.4200110619274352e-05, 0.0, 2.3596117489485994e-05, 0.0, -2.798904415922695e-06, 0.0, -1.93820314853438e-05, 0, 0, 0, 0]\n",
      "5   [0.0, 0.0, 0.0, 0.0, 0.0, 0.0, 0.0, 0.0, 0.0, 0.0, 0.0, 0.0, 0.0, 0.0, 0.0, 0.0, 0.0, 0.0, 0.0, 0.0, 0.0, 0.0, 0.0, 0.0, 0.0, 0.0, 0.0, 0.0, 0.0, 0.0, 0, 0, 0, 0, 0]\n",
      "6   [0.000323212982065895, 0.0, 0.00022845367473731516, 0.0, 0.0001973792076656858, 0.0, 0.0001782683622714253, 0.0, 0.00016049777572388934, 0.0, 0.00013603398882897525, 0.0, 9.739787425893872e-05, 0.0, 4.384052103055125e-05, 0.0, -9.901556743681638e-06, 0.0, -3.64851828691988e-05, 0.0, -2.096717444135686e-05, 0.0, 1.3241671417035392e-05, 0.0, 2.1966789940226003e-05, 0.0, -2.6019237566377707e-06, 0.0, -1.7995764254960288e-05, 0, 0, 0, 0, 0, 0]\n",
      "7   [0.0, 0.0, 0.0, 0.0, 0.0, 0.0, 0.0, 0.0, 0.0, 0.0, 0.0, 0.0, 0.0, 0.0, 0.0, 0.0, 0.0, 0.0, 0.0, 0.0, 0.0, 0.0, 0.0, 0.0, 0.0, 0.0, 0.0, 0.0, 0, 0, 0, 0, 0, 0, 0]\n",
      "8   [0.0003022158047268879, 0.0, 0.00021319391068975235, 0.0, 0.00018267071313235418, 0.0, 0.00016049777572388647, 0.0, 0.000134131321854257, 0.0, 9.515854333059566e-05, 0.0, 4.2557104831964106e-05, 0.0, -9.56581260987186e-06, 0.0, -3.5118207913984184e-05, 0.0, -2.012250909387763e-05, 0.0, 1.267793517327743e-05, 0.0, 2.0989994586440528e-05, 0.0, -2.4820771074726977e-06, 0.0, -1.7142393268824572e-05, 0, 0, 0, 0, 0, 0, 0, 0]\n",
      "9   [0.0, 0.0, 0.0, 0.0, 0.0, 0.0, 0.0, 0.0, 0.0, 0.0, 0.0, 0.0, 0.0, 0.0, 0.0, 0.0, 0.0, 0.0, 0.0, 0.0, 0.0, 0.0, 0.0, 0.0, 0.0, 0.0, 0, 0, 0, 0, 0, 0, 0, 0, 0]\n",
      "10   [0.0002860296460147838, 0.0, 0.00020010574035629044, 0.0, 0.0001667941812333399, 0.0, 0.00013603398882898064, 0.0, 9.515854333057991e-05, 0.0, 4.216844733170012e-05, 0.0, -9.417496454391334e-06, 0.0, -3.440867602845903e-05, 0.0, -1.9643332997218926e-05, 0.0, 1.2339795969436845e-05, 0.0, 2.0381459206458747e-05, 0.0, -2.4053497218320865e-06, 0.0, -1.658476754586298e-05, 0, 0, 0, 0, 0, 0, 0, 0, 0, 0]\n",
      "11   [0.0, 0.0, 0.0, 0.0, 0.0, 0.0, 0.0, 0.0, 0.0, 0.0, 0.0, 0.0, 0.0, 0.0, 0.0, 0.0, 0.0, 0.0, 0.0, 0.0, 0.0, 0.0, 0.0, 0.0, 0, 0, 0, 0, 0, 0, 0, 0, 0, 0, 0]\n",
      "12   [0.00027094445327376657, 0.0, 0.00018439790545517098, 0.0, 0.00014267365113573377, 0.0, 9.7397874258917e-05, 0.0, 4.255710483186429e-05, 0.0, -9.417496454531715e-06, 0.0, -3.4187396075206266e-05, 0.0, -1.9423847525698592e-05, 0.0, 1.2156974053295031e-05, 0.0, 2.0020696890536484e-05, 0.0, -2.3571414135664275e-06, 0.0, -1.622022235107762e-05, 0, 0, 0, 0, 0, 0, 0, 0, 0, 0, 0, 0]\n",
      "13   [0.0, 0.0, 0.0, 0.0, 0.0, 0.0, 0.0, 0.0, 0.0, 0.0, 0.0, 0.0, 0.0, 0.0, 0.0, 0.0, 0.0, 0.0, 0.0, 0.0, 0.0, 0.0, 0, 0, 0, 0, 0, 0, 0, 0, 0, 0, 0, 0, 0]\n",
      "14   [0.0002512919866755189, 0.0, 0.0001587525836218073, 0.0, 0.0001028129356086257, 0.0, 4.384052103050772e-05, 0.0, -9.565812609865056e-06, 0.0, -3.4408676028030484e-05, 0.0, -1.9423847524837244e-05, 0.0, 1.2098945214720806e-05, 0.0, 1.9851742867626548e-05, 0.0, -2.3304054682865107e-06, 0.0, -1.599801683954703e-05, 0, 0, 0, 0, 0, 0, 0, 0, 0, 0, 0, 0, 0, 0]\n",
      "15   [0.0, 0.0, 0.0, 0.0, 0.0, 0.0, 0.0, 0.0, 0.0, 0.0, 0.0, 0.0, 0.0, 0.0, 0.0, 0.0, 0.0, 0.0, 0.0, 0.0, 0, 0, 0, 0, 0, 0, 0, 0, 0, 0, 0, 0, 0, 0, 0]\n",
      "16   [0.00021738092777959212, 0.0, 0.0001149483564936775, 0.0, 4.6499894567063495e-05, 0.0, -9.901556743466664e-06, 0.0, -3.5118207913800995e-05, 0.0, -1.964333299677326e-05, 0.0, 1.2156974059636887e-05, 0.0, 1.985174287814729e-05, 0.0, -2.321822026880227e-06, 0.0, -1.5892418194314233e-05, 0, 0, 0, 0, 0, 0, 0, 0, 0, 0, 0, 0, 0, 0, 0, 0]\n",
      "17   [0.0, 0.0, 0.0, 0.0, 0.0, 0.0, 0.0, 0.0, 0.0, 0.0, 0.0, 0.0, 0.0, 0.0, 0.0, 0.0, 0.0, 0.0, 0, 0, 0, 0, 0, 0, 0, 0, 0, 0, 0, 0, 0, 0, 0, 0, 0]\n",
      "18   [0.00015798140510481738, 0.0, 5.218065720136971e-05, 0.0, -1.054101209886819e-05, 0.0, -3.648518286877688e-05, 0.0, -2.0122509094266904e-05, 0.0, 1.2339795970966652e-05, 0.0, 2.0020696885783368e-05, 0.0, -2.3304054409251057e-06, 0.0, -1.589241815020414e-05, 0, 0, 0, 0, 0, 0, 0, 0, 0, 0, 0, 0, 0, 0, 0, 0, 0, 0]\n",
      "19   [0.0, 0.0, 0.0, 0.0, 0.0, 0.0, 0.0, 0.0, 0.0, 0.0, 0.0, 0.0, 0.0, 0.0, 0.0, 0.0, 0, 0, 0, 0, 0, 0, 0, 0, 0, 0, 0, 0, 0, 0, 0, 0, 0, 0, 0]\n",
      "20   [7.192607227785025e-05, 0.0, -1.1863517705877416e-05, 0.0, -3.89555152529056e-05, 0.0, -2.0967174440730362e-05, 0.0, 1.2677935177449296e-05, 0.0, 2.03814592092441e-05, 0.0, -2.357141368315545e-06, 0.0, -1.599801672776119e-05, 0, 0, 0, 0, 0, 0, 0, 0, 0, 0, 0, 0, 0, 0, 0, 0, 0, 0, 0, 0]\n",
      "21   [0.0, 0.0, 0.0, 0.0, 0.0, 0.0, 0.0, 0.0, 0.0, 0.0, 0.0, 0.0, 0.0, 0.0, 0, 0, 0, 0, 0, 0, 0, 0, 0, 0, 0, 0, 0, 0, 0, 0, 0, 0, 0, 0, 0]\n",
      "22   [-1.6391805321537432e-05, 0.0, -4.394774827268383e-05, 0.0, -2.24403092916739e-05, 0.0, 1.3241671421110325e-05, 0.0, 2.0989994583591936e-05, 0.0, -2.40534973784358e-06, 0.0, -1.6220222257069042e-05, 0, 0, 0, 0, 0, 0, 0, 0, 0, 0, 0, 0, 0, 0, 0, 0, 0, 0, 0, 0, 0, 0]\n",
      "23   [0.0, 0.0, 0.0, 0.0, 0.0, 0.0, 0.0, 0.0, 0.0, 0.0, 0.0, 0.0, 0, 0, 0, 0, 0, 0, 0, 0, 0, 0, 0, 0, 0, 0, 0, 0, 0, 0, 0, 0, 0, 0, 0]\n",
      "24   [-6.0842902421992335e-05, 0.0, -2.536626376055107e-05, 0.0, 1.4200110608389424e-05, 0.0, 2.1966789955887405e-05, 0.0, -2.4820771258410595e-06, 0.0, -1.6584767497965344e-05, 0, 0, 0, 0, 0, 0, 0, 0, 0, 0, 0, 0, 0, 0, 0, 0, 0, 0, 0, 0, 0, 0, 0, 0]\n",
      "25   [0.0, 0.0, 0.0, 0.0, 0.0, 0.0, 0.0, 0.0, 0.0, 0.0, 0, 0, 0, 0, 0, 0, 0, 0, 0, 0, 0, 0, 0, 0, 0, 0, 0, 0, 0, 0, 0, 0, 0, 0, 0]\n",
      "26   [-3.51766787113729e-05, 0.0, 1.6078459136655345e-05, 0.0, 2.3596117511831916e-05, 0.0, -2.60192377075866e-06, 0.0, -1.714239333687178e-05, 0, 0, 0, 0, 0, 0, 0, 0, 0, 0, 0, 0, 0, 0, 0, 0, 0, 0, 0, 0, 0, 0, 0, 0, 0, 0]\n",
      "27   [0.0, 0.0, 0.0, 0.0, 0.0, 0.0, 0.0, 0.0, 0, 0, 0, 0, 0, 0, 0, 0, 0, 0, 0, 0, 0, 0, 0, 0, 0, 0, 0, 0, 0, 0, 0, 0, 0, 0, 0]\n",
      "28   [2.2328640904269448e-05, 0.0, 2.6755482366209608e-05, 0.0, -2.7989044003993895e-06, 0.0, -1.7995764300370998e-05, 0, 0, 0, 0, 0, 0, 0, 0, 0, 0, 0, 0, 0, 0, 0, 0, 0, 0, 0, 0, 0, 0, 0, 0, 0, 0, 0, 0]\n",
      "29   [0.0, 0.0, 0.0, 0.0, 0.0, 0.0, 0, 0, 0, 0, 0, 0, 0, 0, 0, 0, 0, 0, 0, 0, 0, 0, 0, 0, 0, 0, 0, 0, 0, 0, 0, 0, 0, 0, 0]\n",
      "30   [3.720198862288632e-05, 0.0, -3.1775749537963685e-06, 0.0, -1.938203129517658e-05, 0, 0, 0, 0, 0, 0, 0, 0, 0, 0, 0, 0, 0, 0, 0, 0, 0, 0, 0, 0, 0, 0, 0, 0, 0, 0, 0, 0, 0, 0]\n",
      "31   [0.0, 0.0, 0.0, 0.0, 0, 0, 0, 0, 0, 0, 0, 0, 0, 0, 0, 0, 0, 0, 0, 0, 0, 0, 0, 0, 0, 0, 0, 0, 0, 0, 0, 0, 0, 0, 0]\n",
      "32   [-4.422997044297867e-06, 0.0, -2.2027972195681853e-05, 0, 0, 0, 0, 0, 0, 0, 0, 0, 0, 0, 0, 0, 0, 0, 0, 0, 0, 0, 0, 0, 0, 0, 0, 0, 0, 0, 0, 0, 0, 0, 0]\n",
      "33   [0.0, 0.0, 0, 0, 0, 0, 0, 0, 0, 0, 0, 0, 0, 0, 0, 0, 0, 0, 0, 0, 0, 0, 0, 0, 0, 0, 0, 0, 0, 0, 0, 0, 0, 0, 0]\n",
      "34   [-3.069071621773588e-05, 0, 0, 0, 0, 0, 0, 0, 0, 0, 0, 0, 0, 0, 0, 0, 0, 0, 0, 0, 0, 0, 0, 0, 0, 0, 0, 0, 0, 0, 0, 0, 0, 0, 0]\n"
     ]
    }
   ],
   "source": [
    "plane = pl.Plane(-.5e-2, .5e-2, 300, -.5e-2, .5e-2, 100)\n",
    "params = pl.Params(1064e-9,1e-3,0.00023067)\n",
    "\n",
    "modes_tophat = pl.create_modes(listModesM,listModesN,listModesC,NumberModes)\n",
    "modes_gauss = pl.modes((0,0,1))\n",
    "pl.show_modes(modes_tophat)"
   ]
  },
  {
   "cell_type": "markdown",
   "metadata": {},
   "source": [
    "## Optical Input parameters, and tilt/shift"
   ]
  },
  {
   "cell_type": "code",
   "execution_count": 6,
   "metadata": {
    "slideshow": {
     "slide_type": "fragment"
    }
   },
   "outputs": [],
   "source": [
    "#spot, wavelength, shift\n",
    "w= 1e-3\n",
    "lam= 1064e-9\n",
    "a = 100e-6  #100 micron shift\n",
    "k = 2*pi/lam\n",
    "#z0 = 0.00023067 # for tophat with 1e-3 radius\n",
    "\n",
    "#alpha(10nrad)\n",
    "alpha_min=-500e-6\n",
    "alpha_max=500e-6\n",
    "num_points = 2\n",
    "alpha = np.linspace(alpha_min,alpha_max,num = num_points)\n"
   ]
  },
  {
   "cell_type": "markdown",
   "metadata": {},
   "source": [
    "## Integrate over tophat and gaussian (iterate through alphas)"
   ]
  },
  {
   "cell_type": "markdown",
   "metadata": {},
   "source": [
    "\\begin{equation}\n",
    "C_{nmn'm'}^{R} = \\int_{0}^{\\infty} dx\\int_{-\\infty}^{\\infty} dy \\; U_{00(HG00)}^*(x,y,z_0) U_{nm(tilt-shift Tophat)}(x,y,z_0')\n",
    "\\end{equation}"
   ]
  },
  {
   "cell_type": "code",
   "execution_count": null,
   "metadata": {},
   "outputs": [
    {
     "name": "stdout",
     "output_type": "stream",
     "text": [
      "0\n"
     ]
    }
   ],
   "source": [
    "def integ_r(alpha):\n",
    "    for i in range (len(alpha)):\n",
    "        int_r = [0]*len(alpha) #integral right\n",
    "        \n",
    "        print(i) #progress check\n",
    "        \n",
    "        #define integral = dydx for given plane, conjugate(HG00)*tophat\n",
    "        integral_amp = lambda y, x: (np.conjugate(pl.amplitude(params,x,y,0,modes_gauss))\n",
    "                             *(pl.amplitude_case2(params,x,y,0.00023067,modes_tophat,a,alpha[i])))  \n",
    "        int_r[i] = quadgl(integral_amp, [plane.ymin,plane.ymax],[0,plane.xmax])\n",
    "        return(int_r)\n",
    "\n",
    "c_r = integ_r(alpha) #results for right,left integrals\n"
   ]
  },
  {
   "cell_type": "markdown",
   "metadata": {},
   "source": [
    "\\begin{equation}\n",
    "C_{nmn'm'}^{L} = \\int_{-\\infty}^{0} dx\\int_{-\\infty}^{\\infty} dy \\; U_{00(HG00)}^*(x,y,z_0) U_{nm(tilt-shift Tophat)}(x,y,z_0')\n",
    "\\end{equation}"
   ]
  },
  {
   "cell_type": "code",
   "execution_count": null,
   "metadata": {},
   "outputs": [],
   "source": [
    "def integ_r(alpha):\n",
    "    for i in range (len(alpha)):\n",
    "        int_l = [0]*len(alpha) #integral left\n",
    "        \n",
    "        print(i) #progress check\n",
    "        \n",
    "        #define integral = dydx for given plane, conjugate(HG00)*tophat\n",
    "        integral_amp = lambda y, x: (np.conjugate(pl.amplitude(params,x,y,0,modes_gauss))\n",
    "                             *(pl.amplitude_case2(params,x,y,0.00023067,modes_tophat,a,alpha[i])))\n",
    "        int_l[i] = quadgl(integral_amp, [plane.ymin,plane.ymax],[plane.xmin,0])\n",
    "        return(int_l)\n",
    "\n",
    "c_l = integ_r(alpha) #results for right,left integrals\n"
   ]
  },
  {
   "cell_type": "markdown",
   "metadata": {},
   "source": [
    "## Phases from integral results (right and left), DWS & LPS from phases"
   ]
  },
  {
   "cell_type": "code",
   "execution_count": 7,
   "metadata": {},
   "outputs": [],
   "source": [
    "phase_r = cm.phase(c_r) #phase right side PD\n",
    "phase_l = cm.phase(c_l) #phase left side PD\n",
    "\n",
    "dws = .5*(phase_r-phase_l) #DWS signal phase\n",
    "lps = .5*(phase_r+phase_l) #LPS signal phase"
   ]
  },
  {
   "cell_type": "markdown",
   "metadata": {},
   "source": [
    "## Plot GWS,LPS"
   ]
  },
  {
   "cell_type": "code",
   "execution_count": null,
   "metadata": {
    "scrolled": true
   },
   "outputs": [],
   "source": [
    "plt.figure(figsize=(9,6))\n",
    "\n",
    "plt.plot(alpha, dws, label='DWS') \n",
    "\n",
    "plt.legend(loc='lower right')\n",
    "\n",
    "plt.xlabel(r'Intensity [a.u.], $\\alpha\\;$[' + xlab +'rad]', fontsize=15) \n",
    "plt.ylabel(r'DWS Signal Phase, $ [' + ylab + ']$', fontsize=15) \n",
    "plt.title(r'Gapless HPPD: Shift-Tilted Tophat-HG00 at Waist (shift ='+str(a)+'$\\mu m$,)') \n",
    "plt.grid() \n",
    "#plt.savefig(\"tilt-shift-waist-2tilt.pdf\")"
   ]
  },
  {
   "cell_type": "code",
   "execution_count": null,
   "metadata": {},
   "outputs": [],
   "source": [
    "plt.figure(figsize=(9,6))\n",
    "\n",
    "plt.plot(alpha, lps, label='LPS') \n",
    "\n",
    "plt.legend(loc='lower right')\n",
    "\n",
    "plt.xlabel(r'Intensity [a.u.], $\\alpha\\;$[' + xlab +'rad]', fontsize=15) \n",
    "plt.ylabel(r'DWS Signal Phase, $ [' + ylab + ']$', fontsize=15) \n",
    "plt.title(r'Gapless HPPD: Shift-Tilted Tophat-HG00 at Waist (shift ='+str(a)+'$\\mu m$,)') \n",
    "plt.grid() \n",
    "#plt.savefig(\"tilt-shift-waist-2tilt.pdf\")"
   ]
  },
  {
   "cell_type": "code",
   "execution_count": null,
   "metadata": {},
   "outputs": [],
   "source": []
  }
 ],
 "metadata": {
  "kernelspec": {
   "display_name": "Python 3",
   "language": "python",
   "name": "python3"
  },
  "language_info": {
   "codemirror_mode": {
    "name": "ipython",
    "version": 3
   },
   "file_extension": ".py",
   "mimetype": "text/x-python",
   "name": "python",
   "nbconvert_exporter": "python",
   "pygments_lexer": "ipython3",
   "version": "3.7.3"
  }
 },
 "nbformat": 4,
 "nbformat_minor": 2
}
