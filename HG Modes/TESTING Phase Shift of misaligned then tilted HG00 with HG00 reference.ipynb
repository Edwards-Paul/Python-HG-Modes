{
 "cells": [
  {
   "cell_type": "markdown",
   "metadata": {},
   "source": [
    "# Shifting then Tilting HG(0,0) : Phase shift relative to reference beam"
   ]
  },
  {
   "cell_type": "markdown",
   "metadata": {},
   "source": [
    "***\n",
    "### The effect of a tilt to an already misaligned beam of fundamental mode:\n",
    "\n",
    "$\n",
    "\t\\sum_{n,m} u_{nm}(x,y,0)= u_{00(tilt)}(x,y,0)+ \\frac{a}{w_0}u_{10(tilt)}(x,y,0) \\; .\n",
    "$\n",
    "\n",
    "The first term is verified to be\n",
    "\n",
    "$\n",
    "\tu_{00 (tilt)} \\approx u_{00}(x,y,0) + i  \\frac{\\pi w_{0} \\alpha}{\\lambda}u_{10} \\; .\n",
    "$\n",
    "\n",
    "The second term approximates to\n",
    "\n",
    "$\n",
    "\t\t\\frac{a}{w_0} u_{tilt(1,0)}(x,y,0) \t\t\t \n",
    "\t\t\t\\approx  \n",
    "\t\t\t\\frac{a}{w_0} \n",
    "\t\t\tu_{10} \n",
    "\t\t\t \\left[\n",
    "\t\t\t1 + i \\frac{2 \\pi x \\alpha}{\\lambda} \\right] \\;.\n",
    "$\n",
    "\n",
    "***\n",
    "Therefore:\n",
    "\n",
    "$\n",
    "\t\tu(x,y,0)=\n",
    "\t\t\t\\left[\n",
    "\t\t\t\t1+\n",
    "\t\t\t\ti \\frac{ \\pi a \\alpha}{ \\lambda}\n",
    "\t\t\t\\right]\n",
    "\t\t\tu_{00}\n",
    "\t\t\t+\n",
    "\t\t\t\\left[\n",
    "\t\t\t\ti  \\frac{\\pi w_{0} \\alpha}{\\lambda}\n",
    "\t\t\t+\n",
    "\t\t\t\\frac{a}{w_{0}}\n",
    "\t\t\t\\right]\t\t\t\n",
    "\t\t\tu_{10}\n",
    "\t\t\t+\n",
    "\t\t\ti  \n",
    "\t\t\t\t\\frac{\\sqrt{2} \\pi a \\alpha}{ \\lambda}\n",
    "\t\t\tu_{20}\t.\n",
    "$\n",
    "\n",
    "***\n",
    "### Photodetector role\n",
    "For a reference and received beam:\n",
    "\n",
    "\n",
    "\n",
    "\\begin{equation} \\label{eq:19}\n",
    "\tE_{ref} = \n",
    "\t\tE_{0\\; (ref)} e^{i( \\omega_{ref} t+\\phi_{1})}\n",
    "\t\tu_{00}(w_{0\\; ref},z_{0\\; ref})\t\n",
    "\t\\;.\n",
    "\\end{equation}\n",
    "\n",
    "\\begin{equation} \\label{eq:18}\n",
    "\tE_{rec} = \n",
    "\t\tE_{0\\; (rec)} e^{i ( \\omega_{rec}t+\\phi_{2})} \t\t\t\n",
    "\t\t\\sum_{n,m=0}u_{nm}(w_{0\\; rec},z_{0\\; rec}) \t\t\n",
    "\t\\;,\n",
    "\\end{equation}\n",
    "\n",
    "Power at the photodetector:\n",
    "\n",
    "\\begin{equation}\\label{eq:20}\n",
    "\tP_{pd}= \\int_{- \\infty}^{\\infty}\\int_{- \\infty}^{\\infty} E^*E \\; dxdy,\n",
    "\\end{equation}\n",
    "\n",
    "Orthnormality of HG modes:\n",
    "\n",
    "\\begin{equation}\n",
    "\t\\int \\int dx dy \\; u_{nm} u_{n'm'}^* = \\delta_{nn'} \\delta_{mm'}.\n",
    "\\end{equation}\n",
    "\n",
    "so only the imaginary portion of $u_{00}$ received beam contributes to phase shift (TTL coupling) for a reference beam in $u_{00}$.\n",
    "\n",
    "***\n",
    "### Received and Reference combined field\n",
    "Combined field:\n",
    "\\begin{equation}\n",
    "\tE = \n",
    "    u_{00}\n",
    "    \\lbrace\n",
    "\t\t\tE_{0(ref)} \n",
    "\t\t\te^{i(( \\omega_{ref} t)+\\phi_{1})} \n",
    "\t\t\t+\n",
    "\t\t\tE_{0(rec)}\t\t\t\n",
    "\t\t\te^{i (( \\omega_{rec}t)+\\phi_{2})}\n",
    "\t\t\t\\left[\n",
    "\t\t\t1+i \\frac{\\pi a \\alpha}{\\lambda}\n",
    "\t\t\t\\right]\t \n",
    "    \\rbrace \n",
    "    \\; .\n",
    "\\end{equation}\n",
    "\n",
    "Let $\\Delta \\phi = \\phi_{ref}-\\phi_{rec}$ and $\\Delta \\omega = \\omega_{ref}-\\omega_{rec}$ and condensing $E_{0}$ terms:\n",
    "\n",
    "\n",
    "\\begin{equation}\n",
    "\tE^{*}E = \n",
    "    u_{00}^*u_{00}\n",
    "\t\t|E_{0}|^2 \n",
    "\t\t\\lbrace\n",
    "        2\n",
    "        +\n",
    "        (\\frac{\\pi a \\alpha }{\\lambda})^2\n",
    "        +\n",
    "\t\t\te^{i (\\Delta \\omega t + \\Delta \\phi) }\n",
    "\t\t\t\t\\left[\n",
    "\t\t\t\t\t1 - \\frac{\\pi a \\alpha }{\\lambda}\n",
    "\t\t\t\t\\right]\n",
    "\t\t\t+\n",
    "\t\t\te^{-i(\\Delta \\omega t + \\Delta \\phi) }\n",
    "\t\t\t\t\\left[\n",
    "\t\t\t\t\t1 + \\frac{\\pi a \\alpha }{\\lambda}\n",
    "\t\t\t\t\\right]\n",
    "\t\t\\rbrace \n",
    "\t\t\\;.\n",
    "\\end{equation}\n",
    "\n",
    "The time-varying terms (at $t=0$):\n",
    "\n",
    "\\begin{equation}\n",
    "\tE^{*}E = \n",
    "    u_{00}^*u_{00}\n",
    "\t\t|E_{0}|^2 \n",
    "\t\t\\lbrace\n",
    "\t\t\te^{i  \\Delta \\phi }\n",
    "\t\t\t\t\\left[\n",
    "\t\t\t\t\t1 - \\frac{\\pi a \\alpha }{\\lambda}\n",
    "\t\t\t\t\\right]\n",
    "\t\t\t+\n",
    "\t\t\te^{-i \\Delta \\phi }\n",
    "\t\t\t\t\\left[\n",
    "\t\t\t\t\t1 + \\frac{\\pi a \\alpha }{\\lambda}\n",
    "\t\t\t\t\\right]\n",
    "\t\t\\rbrace \n",
    "\t\t\\;.\n",
    "\\end{equation}\n",
    "\n",
    "\n",
    "Phase shift is expected to be proportional to misaignment angle:\n",
    "\\begin{equation}\n",
    "\t\\Delta \\phi = \\phi_{1} - \\phi_{2} \\propto \\arctan (\\frac{a \\alpha \\pi}{\\lambda}) \\approx \\frac{a \\alpha \\pi}{\\lambda} \\; .\n",
    "\\end{equation}\n",
    "\n",
    "and\n",
    "\\begin{equation}\n",
    "\t\\frac{d \\phi}{d \\alpha} \\approx \\frac{a \\pi}{\\lambda} \\; .\n",
    "\\end{equation}"
   ]
  },
  {
   "cell_type": "code",
   "execution_count": 1,
   "metadata": {},
   "outputs": [],
   "source": [
    "import PauLisa as pl, numpy as np, matplotlib.pyplot as plt\n",
    "from scipy.integrate import dblquad"
   ]
  },
  {
   "cell_type": "code",
   "execution_count": 15,
   "metadata": {},
   "outputs": [],
   "source": [
    "#Redefining and naming initial parameters\n",
    "high_res_plane = pl.Plane(-6e-3,7e-3,1000,-1e-3,1e-3,3) #just used to calculate peak, higher precision\n",
    "plane = pl.Plane(-2e-2,2e-2,1000,-1e-3,1e-3,3)\n",
    "params = pl.Params(wavelength=1.064e-06, w0=1e-3, z0=0)\n",
    "\n",
    "wavelength = params.wavelength\n",
    "w0 = params.w0\n",
    "\n",
    "#scales of each mode\n",
    "c00_ref = 1\n",
    "c00 = 1*(1+2e-7j)\n",
    "\n",
    "#create modes received and reference (rec and ref)\n",
    "modes_rec = pl.modes((0,0,c00))\n",
    "modes_ref = pl.modes((0,0,c00_ref))\n",
    "\n",
    "\n",
    "#calculate amp. and phase\n",
    "result_rec = pl.calculate(params, plane, modes_rec, z=0)\n",
    "result_ref = pl.calculate(params,plane,modes_ref, z=0)\n",
    "\n",
    "\n",
    "        \n"
   ]
  },
  {
   "cell_type": "markdown",
   "metadata": {},
   "source": [
    "## Comparing ref and rec "
   ]
  },
  {
   "cell_type": "code",
   "execution_count": 16,
   "metadata": {},
   "outputs": [
    {
     "name": "stdout",
     "output_type": "stream",
     "text": [
      "peak shift: 7.000000000000062e-06 [m]\n"
     ]
    },
    {
     "data": {
      "image/png": "[encoded data removed]",
      "text/plain": [
       "<Figure size 432x432 with 1 Axes>"
      ]
     },
     "metadata": {
      "needs_background": "light"
     },
     "output_type": "display_data"
    }
   ],
   "source": [
    "#plot\n",
    "pl.intslicex(0, result_rec, result_ref, labels=['rec','ref'])\n",
    "\n",
    "#compare to approx. (using high-res plane to find peak)\n",
    "result_peak = pl.calculate(params, high_res_plane, modes_rec, z=0)\n",
    "act_shift = abs(pl.PeakInt(result_peak).x[0])\n",
    "\n",
    "#compare shift to approx.\n",
    "print(\"peak shift:\",act_shift,'[m]')"
   ]
  },
  {
   "cell_type": "code",
   "execution_count": 17,
   "metadata": {},
   "outputs": [
    {
     "name": "stdout",
     "output_type": "stream",
     "text": [
      "ref phase: 0.0 [rad]\n"
     ]
    },
    {
     "data": {
      "image/png": "[encoded data removed]",
      "text/plain": [
       "<Figure size 432x288 with 1 Axes>"
      ]
     },
     "metadata": {
      "needs_background": "light"
     },
     "output_type": "display_data"
    }
   ],
   "source": [
    "#plot\n",
    "pl.phaseslicex(0, result_rec, result_ref,labels=['rec','ref'])\n",
    "\n",
    "#results\n",
    "print(\"ref phase:\",result_ref.phase[0][0],'[rad]')"
   ]
  },
  {
   "cell_type": "markdown",
   "metadata": {},
   "source": [
    "## Combining ref and rec"
   ]
  },
  {
   "cell_type": "code",
   "execution_count": 18,
   "metadata": {},
   "outputs": [],
   "source": [
    "#combined (comb)\n",
    "modes_comb = pl.modes((0,0,c00+c00_ref))\n",
    "amp_comb = result_rec.amp+result_ref.amp\n",
    "\n",
    "result_row = len(amp_comb)\n",
    "result_col = len(amp_comb[0])\n",
    "phase_comb = np.zeros((result_row,result_col), dtype=float)\n",
    "for r in range(result_row):\n",
    "    for c in range(result_col):\n",
    "        phase_comb[r,c] = (np.angle(amp_comb[r][c]))\n",
    "\n",
    "result_comb = pl.Result(params,plane,modes_comb,0,amp_comb,phase_comb)"
   ]
  },
  {
   "cell_type": "code",
   "execution_count": 22,
   "metadata": {},
   "outputs": [
    {
     "name": "stdout",
     "output_type": "stream",
     "text": [
      "combined phase diff: 9.999999999999966e-08 [rad]\n"
     ]
    },
    {
     "data": {
      "image/png": "[encoded data removed]",
      "text/plain": [
       "<Figure size 432x432 with 1 Axes>"
      ]
     },
     "metadata": {
      "needs_background": "light"
     },
     "output_type": "display_data"
    },
    {
     "data": {
      "image/png": "[encoded data removed]",
      "text/plain": [
       "<Figure size 432x288 with 1 Axes>"
      ]
     },
     "metadata": {
      "needs_background": "light"
     },
     "output_type": "display_data"
    }
   ],
   "source": [
    "#plot\n",
    "pl.intslicex(0, result_comb, labels=['combined'])\n",
    "pl.phaseslicex(0, result_comb,labels=['combined'])\n",
    "\n",
    "off = result_comb.phase[0][0]\n",
    "\n",
    "print(\"combined phase diff:\",result_comb.phase[0][0], \"[rad]\")"
   ]
  },
  {
   "cell_type": "code",
   "execution_count": 23,
   "metadata": {},
   "outputs": [
    {
     "name": "stdout",
     "output_type": "stream",
     "text": [
      "d phi= -1.9999999999758082e-14 [rad/root(Hz)] ~ -1.9999999999758082e-14 [pm/root(Hz)]\n"
     ]
    }
   ],
   "source": [
    "d_phi=np.angle(np.e**(off*1j)*(1-c00.imag)+np.e**(-off*1j)*(1+c00.imag))\n",
    "\n",
    "print(\"d phi=\",d_phi, \"[rad/root(Hz)]\", \"~\", d_phi, \"[pm/root(Hz)]\" )"
   ]
  },
  {
   "cell_type": "code",
   "execution_count": 27,
   "metadata": {},
   "outputs": [
    {
     "name": "stdout",
     "output_type": "stream",
     "text": [
      "after subtraction -1.3399999999837915e-13  [rad/root(Hz)]\n"
     ]
    }
   ],
   "source": [
    "#magnification and subtraction\n",
    "mag = 134\n",
    "\n",
    "d_phi_mag = d_phi*mag\n",
    "post_subtraction = d_phi_mag/20\n",
    "\n",
    "print(\"after subtraction\", post_subtraction, \" [rad/root(Hz)]\")"
   ]
  },
  {
   "cell_type": "code",
   "execution_count": null,
   "metadata": {},
   "outputs": [],
   "source": []
  }
 ],
 "metadata": {
  "kernelspec": {
   "display_name": "Python 3",
   "language": "python",
   "name": "python3"
  },
  "language_info": {
   "codemirror_mode": {
    "name": "ipython",
    "version": 3
   },
   "file_extension": ".py",
   "mimetype": "text/x-python",
   "name": "python",
   "nbconvert_exporter": "python",
   "pygments_lexer": "ipython3",
   "version": "3.7.3"
  }
 },
 "nbformat": 4,
 "nbformat_minor": 2
}
