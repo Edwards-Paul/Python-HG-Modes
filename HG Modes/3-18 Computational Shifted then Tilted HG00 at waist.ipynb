{
 "cells": [
  {
   "cell_type": "markdown",
   "metadata": {},
   "source": [
    "# Shifting then Tilting HG(0,0)"
   ]
  },
  {
   "cell_type": "markdown",
   "metadata": {},
   "source": [
    "***\n",
    "The effect of a tilt to an already misaligned beam of fundamental mode:\n",
    "\n",
    "$\n",
    "\t\\sum_{n,m} u_{nm}(x,y,0)= u_{00(tilt)}(x,y,0)+ \\frac{a}{w_0}u_{10(tilt)}(x,y,0) \\; .\n",
    "$\n",
    "\n",
    "The first term is verified to be\n",
    "\n",
    "$\n",
    "\tu_{00 (tilt)} \\approx u_{00}(x,y,0) + i  \\frac{\\pi w_{0} \\alpha}{\\lambda}u_{10} \\; .\n",
    "$\n",
    "\n",
    "The second term approximates to\n",
    "\n",
    "$\n",
    "\t\t\\frac{a}{w_0} u_{tilt(1,0)}(x,y,0) \t\t\t \n",
    "\t\t\t\\approx  \n",
    "\t\t\t\\frac{a}{w_0} \n",
    "\t\t\tu_{10} \n",
    "\t\t\t \\left[\n",
    "\t\t\t1 + i \\frac{2 \\pi x \\alpha}{\\lambda} \\right] \\;.\n",
    "$\n",
    "\n",
    "***\n",
    "Therefore:\n",
    "\n",
    "$\n",
    "\t\tu(x,y,0)=\n",
    "\t\t\t\\left[\n",
    "\t\t\t\t1+\n",
    "\t\t\t\ti \\frac{ \\pi a \\alpha}{ \\lambda}\n",
    "\t\t\t\\right]\n",
    "\t\t\tu_{00}\n",
    "\t\t\t+\n",
    "\t\t\t\\left[\n",
    "\t\t\t\ti  \\frac{\\pi w_{0} \\alpha}{\\lambda}\n",
    "\t\t\t+\n",
    "\t\t\t\\frac{a}{w_{0}}\n",
    "\t\t\t\\right]\t\t\t\n",
    "\t\t\tu_{10}\n",
    "\t\t\t+\n",
    "\t\t\ti  \n",
    "\t\t\t\t\\frac{\\sqrt{2} \\pi a \\alpha}{ \\lambda}\n",
    "\t\t\tu_{20}\t.\n",
    "$\n",
    "\n",
    "\n",
    "\n"
   ]
  },
  {
   "cell_type": "code",
   "execution_count": 1,
   "metadata": {},
   "outputs": [],
   "source": [
    "import PauLisa as pl, numpy as np, matplotlib.pyplot as plt, cmath as cm\n",
    "from scipy import integrate\n",
    "from mpmath import quadgl"
   ]
  },
  {
   "cell_type": "code",
   "execution_count": 2,
   "metadata": {},
   "outputs": [
    {
     "name": "stdout",
     "output_type": "stream",
     "text": [
      "(1+0.14763123372132486j) (0.1+1.4763123372132485j) 0.20878209295856984j\n"
     ]
    }
   ],
   "source": [
    "#Redefining and naming initial parameters\n",
    "high_res_plane = pl.Plane(-6e-3,7e-3,1000,-1e-3,1e-3,3) #just used to calculate peak, higher precision\n",
    "plane = pl.Plane(-2e-3,2e-3,1000,-2e-3,2e-3,1000)\n",
    "params = pl.Params(wavelength=1.064e-06, w0=1e-3, z0=0)\n",
    "a = 100e-6 #shift\n",
    "alpha = 500e-6 #tilt angle\n",
    "\n",
    "#wavelength\n",
    "lam = params.wavelength #wavelength\n",
    "w0 = params.w0 #spot size\n",
    "E0 = 1   #E field\n",
    "\n",
    "#scales of each mode\n",
    "c00_ref = 1\n",
    "c00 = (1+ (np.pi * a * alpha/ lam)*1j)\n",
    "c10 = ((a/w0)+ (np.pi*w0*alpha/lam)*1j)\n",
    "c20 = (np.sqrt(2)*np.pi*a*alpha/lam)*1j\n",
    "\n",
    "\n",
    "print(c00,c10,c20)\n",
    "\n",
    "#create modes received and reference (rec and ref)\n",
    "modes_rec = pl.modes((0,0,c00),(1,0,c10),(2,0,c20))\n",
    "modes_ref = pl.modes((0,0,c00_ref))\n",
    "\n",
    "\n",
    "#calculate amp. and phase\n",
    "#result_rec = pl.calculate(params, plane, modes_rec, z=0)\n",
    "#result_ref = pl.calculate(params,plane,modes_ref, z=0)\n",
    "\n"
   ]
  },
  {
   "cell_type": "markdown",
   "metadata": {},
   "source": [
    "\\begin{equation}\n",
    "U_{00(LO)}^*(x,y,z) U_{nm(RX)}(x,y,z)\n",
    "\\end{equation}"
   ]
  },
  {
   "cell_type": "code",
   "execution_count": 3,
   "metadata": {},
   "outputs": [],
   "source": [
    "f = lambda y, x: (pl.amplitude(params,x,y,0,modes_rec))*np.conjugate((pl.amplitude(params,x,y,0,modes_ref)))"
   ]
  },
  {
   "cell_type": "markdown",
   "metadata": {},
   "source": [
    "\\begin{equation}\n",
    "C_{nmn'm'}^{R} = \\int_{0}^{\\infty} dx\\int_{-\\infty}^{\\infty} dy \\; U_{00(LO)}^*(x,y,z) U_{nm(RX)}(x,y,z)\n",
    "\\end{equation}"
   ]
  },
  {
   "cell_type": "code",
   "execution_count": 4,
   "metadata": {},
   "outputs": [],
   "source": [
    "cr = quadgl(f, [plane.ymin,plane.ymax],[0,plane.xmax])"
   ]
  },
  {
   "cell_type": "markdown",
   "metadata": {},
   "source": [
    "\\begin{equation}\n",
    "C_{nmn'm'}^{L} = \\int_{-\\infty}^{0} dx\\int_{-\\infty}^{\\infty} dy \\; U_{00(LO)}^*(x,y,z) U_{nm(RX)}(x,y,z)\n",
    "\\end{equation}"
   ]
  },
  {
   "cell_type": "code",
   "execution_count": 5,
   "metadata": {},
   "outputs": [
    {
     "name": "stdout",
     "output_type": "stream",
     "text": [
      "(0.539814978388262 + 0.662455782037362j) (0.460058340656676 - 0.515001300540509j)\n",
      "(0.0797566377315854 + 1.17745708257787j)\n"
     ]
    }
   ],
   "source": [
    "cl = quadgl(f, [plane.ymin,plane.ymax],[plane.xmin,0])\n",
    "print(cr,cl)\n",
    "print(cr-cl)"
   ]
  },
  {
   "cell_type": "markdown",
   "metadata": {},
   "source": [
    "\\begin{equation}\n",
    "\t\\phi_R = \n",
    "\t\targ (C_{nmn'm'}^{R})\n",
    " \\end{equation}"
   ]
  },
  {
   "cell_type": "code",
   "execution_count": 6,
   "metadata": {},
   "outputs": [
    {
     "name": "stdout",
     "output_type": "stream",
     "text": [
      "0.8870541812137551\n"
     ]
    }
   ],
   "source": [
    "phi_r = cm.phase(cr)\n",
    "print(phi_r)"
   ]
  },
  {
   "cell_type": "markdown",
   "metadata": {},
   "source": [
    "\\begin{equation}\n",
    "\t\\phi_L = \n",
    "\t\targ (C_{nmn'm'}^{L})\n",
    " \\end{equation}"
   ]
  },
  {
   "cell_type": "code",
   "execution_count": 7,
   "metadata": {},
   "outputs": [
    {
     "name": "stdout",
     "output_type": "stream",
     "text": [
      "-0.8416869458653942\n"
     ]
    }
   ],
   "source": [
    "phi_l = cm.phase(cl)\n",
    "print(phi_l)"
   ]
  },
  {
   "cell_type": "markdown",
   "metadata": {},
   "source": [
    "\\begin{equation}\n",
    "    \\Delta \\phi = \\frac{1}{2}(\\phi_R - \\phi_L)\n",
    "\\end{equation}"
   ]
  },
  {
   "cell_type": "code",
   "execution_count": 8,
   "metadata": {},
   "outputs": [
    {
     "name": "stdout",
     "output_type": "stream",
     "text": [
      "1.7287411270791493\n"
     ]
    }
   ],
   "source": [
    "print (phi_r-phi_l)"
   ]
  },
  {
   "cell_type": "code",
   "execution_count": null,
   "metadata": {},
   "outputs": [],
   "source": [
    "def integ(alpha_lin):\n",
    "    \n",
    "    sol = [0]*len(alpha_lin)\n",
    "    \n",
    "    for i in range (len(alpha_lin)):\n",
    "        c00 = (1+ (np.pi * a * alpha_lin[i]/ lam)*1j)\n",
    "        c10 = ((a/w0)+ (np.pi*w0*alpha_lin[i]/lam)*1j)\n",
    "        c20 = (np.sqrt(2)*np.pi*a*alpha_lin[i]/lam)*1j\n",
    "\n",
    "        #create modes received and reference (rec and ref)\n",
    "        modes_rec = pl.modes((0,0,c00),(1,0,c10),(2,0,c20))\n",
    "        modes_ref = pl.modes((0,0,c00_ref))\n",
    "\n",
    "        f = lambda y, x: (pl.amplitude(params,x,y,0,modes_rec))*np.conjugate((pl.amplitude(params,x,y,0,modes_ref)))    \n",
    "        cr = quadgl(f, [plane.ymin,plane.ymax],[0,plane.xmax])\n",
    "        cl = quadgl(f, [plane.ymin,plane.ymax],[plane.xmin,0])\n",
    "\n",
    "        phi_r = cm.phase(cr)\n",
    "        phi_l = cm.phase(cl)\n",
    "        \n",
    "        sol[i] = 0.5*(phi_r-phi_l)\n",
    "        \n",
    "    return (sol)       "
   ]
  },
  {
   "cell_type": "code",
   "execution_count": null,
   "metadata": {},
   "outputs": [],
   "source": [
    "alpha_lin = np.linspace(-500e-6,500e-6,21)\n",
    "\n",
    "plt.figure(figsize=(9,6))\n",
    "plt.plot(alpha_lin, integ(alpha_lin))\n",
    "\n",
    "plt.xlabel(r'Tilt Angle, $\\alpha\\;$[' + 'rad]', fontsize=15) \n",
    "plt.ylabel(r'Phase Diff, $\\Delta \\phi\\;[' +  'rad]$', fontsize=15) \n",
    "plt.title(r'Tilted,Shifted Gaussian at Waist') \n",
    "\n",
    "plt.grid()"
   ]
  },
  {
   "cell_type": "markdown",
   "metadata": {},
   "source": [
    "\\begin{equation}\n",
    "    u_{rec} = u_{00} + \\frac{i \\pi w_0 \\alpha}{\\lambda} u_{10}\n",
    "\\end{equation}"
   ]
  },
  {
   "cell_type": "code",
   "execution_count": null,
   "metadata": {},
   "outputs": [],
   "source": [
    "def integ_tilt_only(alpha_lin,gapsize):\n",
    "    \n",
    "    sol = [0]*len(alpha_lin)\n",
    "    \n",
    "    for i in range (len(alpha_lin)):\n",
    "        c00 = 1\n",
    "        c10 = ((np.pi*w0*alpha_lin[i]/lam)*1j)\n",
    "\n",
    "        #create modes received and reference (rec and ref)\n",
    "        modes_rec = pl.modes((0,0,c00),(1,0,c10))\n",
    "        modes_ref = pl.modes((0,0,c00_ref))\n",
    "\n",
    "        f = lambda y, x: (pl.amplitude(params,x,y,0,modes_rec))*np.conjugate((pl.amplitude(params,x,y,0,modes_ref)))    \n",
    "        \n",
    "        #with gap 1/1000 plane width\n",
    "        cr = quadgl(f, [plane.ymin,plane.ymax],[plane.xmax*gapsize,plane.xmax])\n",
    "        cl = quadgl(f, [plane.ymin,plane.ymax],[plane.xmin,plane.xmin*gapsize])\n",
    "        \n",
    "        #args for phi_r and phi_l\n",
    "        phi_r = cm.phase(cr)\n",
    "        phi_l = cm.phase(cl)\n",
    "        \n",
    "        #result in cycles\n",
    "        sol[i] = 0.5*(phi_r-phi_l)/(2*np.pi)\n",
    "        \n",
    "    return (sol) "
   ]
  },
  {
   "cell_type": "code",
   "execution_count": null,
   "metadata": {},
   "outputs": [],
   "source": [
    "alpha_lin = np.linspace(-700e-6,700e-6,21)\n",
    "\n",
    "plt.figure(figsize=(9,6))\n",
    "plt.plot(alpha_lin, integ_tilt_only(alpha_lin,0.1e-3))\n",
    "\n",
    "plt.xlabel(r'Tilt Angle, $\\alpha\\;$[' + 'rad]', fontsize=15) \n",
    "plt.ylabel(r'Phase Diff, $\\Delta \\phi\\;[' +  'cycles]$', fontsize=15) \n",
    "plt.title(r'Tilted Gaussian at Waist with 0.1 mm gaps') \n",
    "\n",
    "plt.grid()"
   ]
  },
  {
   "cell_type": "code",
   "execution_count": null,
   "metadata": {},
   "outputs": [],
   "source": [
    "alpha_lin = np.linspace(-700e-6,700e-6,21)\n",
    "\n",
    "plt.figure(figsize=(9,6))\n",
    "plt.plot(alpha_lin, integ_tilt_only(alpha_lin,.1e-2))\n",
    "\n",
    "plt.xlabel(r'Tilt Angle, $\\alpha\\;$[' + 'rad]', fontsize=15) \n",
    "plt.ylabel(r'Phase Diff, $\\Delta \\phi\\;[' +  'cycles]$', fontsize=15) \n",
    "plt.title(r'Tilted Gaussian at Waist with 0.1 mm gaps') \n",
    "\n",
    "plt.grid()"
   ]
  },
  {
   "cell_type": "code",
   "execution_count": null,
   "metadata": {},
   "outputs": [],
   "source": [
    "alpha_lin = np.linspace(-700e-6,700e-6,3)\n",
    "\n",
    "plt.figure(figsize=(9,6))\n",
    "plt.plot(alpha_lin, integ_tilt_only(alpha_lin,0))\n",
    "\n",
    "plt.xlabel(r'Tilt Angle, $\\alpha\\;$[' + 'rad]', fontsize=15) \n",
    "plt.ylabel(r'Phase Diff, $\\Delta \\phi\\;[' +  'cycles]$', fontsize=15) \n",
    "plt.title(r'Tilted Gaussian at Waist, no gaps') \n",
    "\n",
    "plt.grid()"
   ]
  },
  {
   "cell_type": "code",
   "execution_count": null,
   "metadata": {},
   "outputs": [],
   "source": []
  }
 ],
 "metadata": {
  "kernelspec": {
   "display_name": "Python 3",
   "language": "python",
   "name": "python3"
  },
  "language_info": {
   "codemirror_mode": {
    "name": "ipython",
    "version": 3
   },
   "file_extension": ".py",
   "mimetype": "text/x-python",
   "name": "python",
   "nbconvert_exporter": "python",
   "pygments_lexer": "ipython3",
   "version": "3.7.3"
  }
 },
 "nbformat": 4,
 "nbformat_minor": 2
}
