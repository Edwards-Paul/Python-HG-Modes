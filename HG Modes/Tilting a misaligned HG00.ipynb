{
 "cells": [
  {
   "cell_type": "markdown",
   "metadata": {},
   "source": [
    "# Combining tilted terms of fundamental mode with jitter terms"
   ]
  },
  {
   "cell_type": "markdown",
   "metadata": {},
   "source": [
    "The effect of a tilt to an already misaligned beam of fundamental mode:\n",
    "\n",
    "$\n",
    "\tu(x,y,0)= u_{tilt(0,0)}+ \\frac{a}{w_0}u_{tilt(1,0)} \\; \n",
    "$\n",
    "\n",
    "The first term is verified to be\n",
    "\n",
    "$\n",
    "\tu_{tilt (0,0)} \\approx u_{00}(x,y,0) + i  \\frac{\\pi w_{0} \\alpha}{\\lambda}u_{10} \\; .\n",
    "$\n",
    "\n",
    "The second term approximates to\n",
    "\n",
    "$\n",
    "\t\t\\frac{a}{w_0} u_{tilt(1,0)}(x,y,0) \t\t\t \n",
    "\t\t\t\\approx  \n",
    "\t\t\t\\frac{a}{w_0} \n",
    "\t\t\tu_{10} \n",
    "\t\t\t \\left[\n",
    "\t\t\t1 + i \\frac{2 \\pi x \\alpha}{\\lambda} \\right] \\;.\n",
    "$\n",
    "\n",
    "\n",
    "In terms of $u00$, $u10$, and $u20$, $u(x,y,0)$ is the first and second term combined:\n",
    "\n",
    "$\n",
    "\t\tu(x,y,0)=\n",
    "\t\t\t\\left[\n",
    "\t\t\t\tu_{00}\n",
    "\t\t\t\t+\n",
    "\t\t\t\ti\\frac{\\pi \\alpha w_{0}}{\\lambda}\n",
    "\t\t\t\tu_{10}\t\t\n",
    "\t\t\t\\right]\t\n",
    "\t\t\t+\n",
    "\t\t\t\\Big (\n",
    "            i\\frac{\\pi a \\alpha}{\\lambda}\n",
    "\t\t\t\\left[\n",
    "\t\t\t\\Big (\t\n",
    "\t\t\t\tu_{00}\n",
    "\t\t\t+\n",
    "\t\t\t\t\\frac{2}{\\sqrt{2}}\t\t\t\n",
    "\t\t\t\tu_{20}\n",
    "\t\t\t\\Big )\t\n",
    "\t\t\t\\right]\n",
    "\t\t\t+\n",
    "\t\t\t\\frac{a}{w_{0}}\n",
    "\t\t\tu_{10}\n",
    "\t\t\t\\Big )\n",
    "\t\t\tm \\sin(\\omega t - \\phi) \n",
    "\t\t\t\\;.\n",
    "$\n",
    "            \n",
    "Terms in the first bracket are static, terms in the second bracket are modulated with scale $m$.\n",
    "\n",
    "Assume an arm of 2.5 Gm, $w_{0}=15$ cm, and photodetector radius = 15 cm."
   ]
  },
  {
   "cell_type": "code",
   "execution_count": 2,
   "metadata": {},
   "outputs": [],
   "source": [
    "import PauLisa as pl, numpy as np"
   ]
  },
  {
   "cell_type": "code",
   "execution_count": 8,
   "metadata": {},
   "outputs": [],
   "source": [
    "#Redefining and naming initial parameters\n",
    "plane = pl.defaultPlane\n",
    "params = pl.Params(wavelength=1.064e-06, w0=0.01, z0=0)\n",
    "\n",
    "wavelength = params.wavelength\n",
    "w0 = params.w0\n",
    "\n",
    "#Amplitude of initial misaligned terms\n",
    "a00 = 1\n",
    "a10 = 0.04\n",
    "\n",
    "#predicted shift from misalignment\n",
    "#print (\"predicted x shift: \"+str(pl.np.real(a10)/w0) + \" m\")\n",
    "shift = a10/params.w0\n",
    "\n",
    "\n",
    "#predicted alpha\n",
    "alpha = 1\n",
    "\n",
    "#Amplitude of static terms\n",
    "static_a00 = 1\n",
    "static_a10 = a10*(1j*np.pi*alpha*w0/wavelength)  #from initial misalignment\n",
    "\n",
    "\n",
    "#Define sinusoidal modulation term\n",
    "m = 1 #mod scale\n",
    "frequency = 1e-3\n",
    "t = 1\n",
    "phi = 0\n",
    "mod_term = np.sin(frequency*t-phi)\n",
    "\n",
    "#Amplitudes of modulated (mod) terms\n",
    "mod_prefactor = 1j*np.pi*alpha*shift/wavelength # prefactor on the u00,u20 modes\n",
    "\n",
    "mod_a00 = a10*mod_prefactor*mod_term\n",
    "mod_a10 = a10*(shift/w0)*mod_term\n",
    "mod_a20 = a10*mod_prefactor*(2/np.sqrt(2))*mod_term\n",
    "\n",
    "#Defining two sets of modes, static and modulated to be calculated and added\n",
    "static_modes = pl.modes((0,0,static_a00),(1,0,static_a10))\n",
    "mod_modes = pl.modes((0,0,mod_a00),(1,0,mod_a10),(2,0,mod_a20))"
   ]
  },
  {
   "cell_type": "code",
   "execution_count": 9,
   "metadata": {},
   "outputs": [
    {
     "name": "stdout",
     "output_type": "stream",
     "text": [
      "Static modes:\n",
      "n\\m [0]\n",
      "0   [1]\n",
      "1   [1181.049869770599j]\n",
      "\n",
      "Modulated modes:\n",
      "n\\m [0]\n",
      "0   [472.41986917158545j]\n",
      "1   [0.015999997333333467]\n",
      "2   [668.1025861169793j]\n"
     ]
    }
   ],
   "source": [
    "print(\"Static modes:\")\n",
    "pl.show_modes(static_modes)\n",
    "\n",
    "print(\"\\nModulated modes:\")\n",
    "pl.show_modes(mod_modes)"
   ]
  },
  {
   "cell_type": "markdown",
   "metadata": {},
   "source": [
    "# Calculate amplitudes,phases on both modes objects and combine for $u(x,y,0)$"
   ]
  },
  {
   "cell_type": "code",
   "execution_count": null,
   "metadata": {},
   "outputs": [],
   "source": []
  }
 ],
 "metadata": {
  "kernelspec": {
   "display_name": "Python 3",
   "language": "python",
   "name": "python3"
  },
  "language_info": {
   "codemirror_mode": {
    "name": "ipython",
    "version": 3
   },
   "file_extension": ".py",
   "mimetype": "text/x-python",
   "name": "python",
   "nbconvert_exporter": "python",
   "pygments_lexer": "ipython3",
   "version": "3.7.3"
  }
 },
 "nbformat": 4,
 "nbformat_minor": 2
}
